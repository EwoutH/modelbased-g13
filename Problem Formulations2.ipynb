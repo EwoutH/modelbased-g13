{
 "cells": [
  {
   "cell_type": "markdown",
   "metadata": {
    "pycharm": {
     "name": "#%% md\n"
    }
   },
   "source": []
  },
  {
   "cell_type": "markdown",
   "metadata": {
    "pycharm": {
     "name": "#%% md\n"
    }
   },
   "source": [
    "### Imports\n",
    "Import packages and load model parameters (uncertainties, levers, etc.)"
   ]
  },
  {
   "cell_type": "code",
   "execution_count": 1,
   "metadata": {
    "collapsed": false,
    "jupyter": {
     "outputs_hidden": false
    },
    "pycharm": {
     "name": "#%%\n"
    }
   },
   "outputs": [],
   "source": [
    "import numpy as np\n",
    "import scipy as sp\n",
    "import pandas as pd\n",
    "import matplotlib.pyplot as plt\n",
    "import seaborn as sns\n",
    "import networkx as nx\n",
    "import pickle"
   ]
  },
  {
   "cell_type": "code",
   "execution_count": 2,
   "metadata": {
    "collapsed": false,
    "jupyter": {
     "outputs_hidden": false
    },
    "pycharm": {
     "name": "#%%\n"
    }
   },
   "outputs": [
    {
     "name": "stdout",
     "output_type": "stream",
     "text": [
      "1.4.1\n",
      "2.6.3\n"
     ]
    }
   ],
   "source": [
    "# make sure pandas is version 1.0 or higher\n",
    "# make sure networkx is verion 2.4 or higher\n",
    "print(pd.__version__)\n",
    "print(nx.__version__)"
   ]
  },
  {
   "cell_type": "code",
   "execution_count": 3,
   "metadata": {
    "collapsed": false,
    "jupyter": {
     "outputs_hidden": false
    },
    "pycharm": {
     "name": "#%%\n"
    }
   },
   "outputs": [],
   "source": [
    "from ema_workbench import (\n",
    "    Model,\n",
    "    Policy,\n",
    "    ema_logging,\n",
    "    SequentialEvaluator,\n",
    "    MultiprocessingEvaluator,\n",
    "    Samplers,\n",
    ")\n",
    "from dike_model_function import DikeNetwork  # @UnresolvedImport\n",
    "from problem_formulation import get_model_for_problem_formulation\n",
    "\n",
    "\n",
    "def sum_over(*args):\n",
    "    return sum(args)"
   ]
  },
  {
   "cell_type": "code",
   "execution_count": 4,
   "metadata": {
    "collapsed": false,
    "jupyter": {
     "outputs_hidden": false
    },
    "pycharm": {
     "name": "#%%\n"
    }
   },
   "outputs": [
    {
     "data": {
      "text/plain": [
       "<Logger EMA (DEBUG)>"
      ]
     },
     "execution_count": 4,
     "metadata": {},
     "output_type": "execute_result"
    }
   ],
   "source": [
    "# Enable logging\n",
    "ema_logging.log_to_stderr(ema_logging.INFO)"
   ]
  },
  {
   "cell_type": "markdown",
   "metadata": {
    "pycharm": {
     "name": "#%% md\n"
    }
   },
   "source": [
    "**Problem formulation**\n",
    "Important cell below, here you can choose the problem formulation number, between 0-5\n",
    "each problem formulation has its own list of outcomes"
   ]
  },
  {
   "cell_type": "code",
   "execution_count": 5,
   "metadata": {
    "collapsed": false,
    "jupyter": {
     "outputs_hidden": false
    },
    "pycharm": {
     "name": "#%%\n"
    }
   },
   "outputs": [],
   "source": [
    "used_problem_formulation = 3\n",
    "\n",
    "dike_model, planning_steps = get_model_for_problem_formulation(used_problem_formulation)"
   ]
  },
  {
   "cell_type": "code",
   "execution_count": 6,
   "metadata": {
    "collapsed": false,
    "jupyter": {
     "outputs_hidden": false
    },
    "pycharm": {
     "name": "#%%\n"
    }
   },
   "outputs": [
    {
     "name": "stdout",
     "output_type": "stream",
     "text": [
      "CategoricalParameter('discount rate 0', [0, 1, 2, 3])\n",
      "CategoricalParameter('discount rate 1', [0, 1, 2, 3])\n",
      "CategoricalParameter('discount rate 2', [0, 1, 2, 3])\n",
      "<ema_workbench.em_framework.parameters.IntegerParameter object at 0x000002F7DDD14AC0>\n",
      "<ema_workbench.em_framework.parameters.RealParameter object at 0x000002F7DDCEBE50>\n",
      "<ema_workbench.em_framework.parameters.RealParameter object at 0x000002F7DDD31B50>\n",
      "CategoricalParameter('A.1_Brate', [0, 1, 2])\n",
      "<ema_workbench.em_framework.parameters.RealParameter object at 0x000002F7DDD312B0>\n",
      "<ema_workbench.em_framework.parameters.RealParameter object at 0x000002F7DDD3E820>\n",
      "CategoricalParameter('A.2_Brate', [0, 1, 2])\n",
      "<ema_workbench.em_framework.parameters.RealParameter object at 0x000002F7DDD313A0>\n",
      "<ema_workbench.em_framework.parameters.RealParameter object at 0x000002F7DDD447C0>\n",
      "CategoricalParameter('A.3_Brate', [0, 1, 2])\n",
      "<ema_workbench.em_framework.parameters.RealParameter object at 0x000002F7DDD3E670>\n",
      "<ema_workbench.em_framework.parameters.RealParameter object at 0x000002F7DDD49730>\n",
      "CategoricalParameter('A.4_Brate', [0, 1, 2])\n",
      "<ema_workbench.em_framework.parameters.RealParameter object at 0x000002F7DDD44A90>\n",
      "<ema_workbench.em_framework.parameters.RealParameter object at 0x000002F7DDD4D550>\n",
      "CategoricalParameter('A.5_Brate', [0, 1, 2])\n"
     ]
    }
   ],
   "source": [
    "# enlisting uncertainties, their types (RealParameter/IntegerParameter/CategoricalParameter), lower boundary, and upper boundary\n",
    "import copy\n",
    "\n",
    "for unc in dike_model.uncertainties:\n",
    "    print(repr(unc))\n",
    "\n",
    "uncertainties = copy.deepcopy(dike_model.uncertainties)"
   ]
  },
  {
   "cell_type": "code",
   "execution_count": 7,
   "metadata": {
    "collapsed": false,
    "jupyter": {
     "outputs_hidden": false
    },
    "pycharm": {
     "name": "#%%\n"
    }
   },
   "outputs": [
    {
     "name": "stdout",
     "output_type": "stream",
     "text": [
      "<ema_workbench.em_framework.parameters.IntegerParameter object at 0x000002F7DDD35100>\n",
      "<ema_workbench.em_framework.parameters.IntegerParameter object at 0x000002F7DDD14B50>\n",
      "<ema_workbench.em_framework.parameters.IntegerParameter object at 0x000002F7DDD35700>\n",
      "<ema_workbench.em_framework.parameters.IntegerParameter object at 0x000002F7DDD146A0>\n",
      "<ema_workbench.em_framework.parameters.IntegerParameter object at 0x000002F7DDD35460>\n",
      "<ema_workbench.em_framework.parameters.IntegerParameter object at 0x000002F7DDD145E0>\n",
      "<ema_workbench.em_framework.parameters.IntegerParameter object at 0x000002F7DDD35A00>\n",
      "<ema_workbench.em_framework.parameters.IntegerParameter object at 0x000002F7DDD310A0>\n",
      "<ema_workbench.em_framework.parameters.IntegerParameter object at 0x000002F7DDD35370>\n",
      "<ema_workbench.em_framework.parameters.IntegerParameter object at 0x000002F7DDBD8370>\n",
      "<ema_workbench.em_framework.parameters.IntegerParameter object at 0x000002F7DDC16730>\n",
      "<ema_workbench.em_framework.parameters.IntegerParameter object at 0x000002F7DDCAA1C0>\n",
      "<ema_workbench.em_framework.parameters.IntegerParameter object at 0x000002F7DDD353A0>\n",
      "<ema_workbench.em_framework.parameters.IntegerParameter object at 0x000002F7DDBF6A90>\n",
      "<ema_workbench.em_framework.parameters.IntegerParameter object at 0x000002F7DDD35940>\n",
      "<ema_workbench.em_framework.parameters.IntegerParameter object at 0x000002F7DDD350A0>\n",
      "<ema_workbench.em_framework.parameters.IntegerParameter object at 0x000002F7DDD3E2E0>\n",
      "<ema_workbench.em_framework.parameters.IntegerParameter object at 0x000002F7DDCEB6A0>\n",
      "<ema_workbench.em_framework.parameters.IntegerParameter object at 0x000002F7DDD3E3A0>\n",
      "<ema_workbench.em_framework.parameters.IntegerParameter object at 0x000002F7DDD44280>\n",
      "<ema_workbench.em_framework.parameters.IntegerParameter object at 0x000002F7DDD31A00>\n",
      "<ema_workbench.em_framework.parameters.IntegerParameter object at 0x000002F7DDD44340>\n",
      "<ema_workbench.em_framework.parameters.IntegerParameter object at 0x000002F7DDD49250>\n",
      "<ema_workbench.em_framework.parameters.IntegerParameter object at 0x000002F7DDD31610>\n",
      "<ema_workbench.em_framework.parameters.IntegerParameter object at 0x000002F7DDD492B0>\n",
      "<ema_workbench.em_framework.parameters.IntegerParameter object at 0x000002F7DDD4DE50>\n",
      "<ema_workbench.em_framework.parameters.IntegerParameter object at 0x000002F7DDD3E9A0>\n",
      "<ema_workbench.em_framework.parameters.IntegerParameter object at 0x000002F7DDD4D5B0>\n",
      "<ema_workbench.em_framework.parameters.IntegerParameter object at 0x000002F7DDD52E50>\n",
      "<ema_workbench.em_framework.parameters.IntegerParameter object at 0x000002F7DDD444F0>\n",
      "<ema_workbench.em_framework.parameters.IntegerParameter object at 0x000002F7DDD525B0>\n"
     ]
    }
   ],
   "source": [
    "# enlisting policy levers, their types (RealParameter/IntegerParameter), lower boundary, and upper boundary\n",
    "for policy in dike_model.levers:\n",
    "    print(repr(policy))\n",
    "\n",
    "levers = copy.deepcopy(dike_model.levers)"
   ]
  },
  {
   "cell_type": "code",
   "execution_count": 8,
   "metadata": {
    "collapsed": false,
    "jupyter": {
     "outputs_hidden": false
    },
    "pycharm": {
     "name": "#%%\n"
    }
   },
   "outputs": [
    {
     "name": "stdout",
     "output_type": "stream",
     "text": [
      "ScalarOutcome('A.1 Total Costs', variable_name=('A.1_Expected Annual Damage 0', 'A.1_Expected Annual Damage 1', 'A.1_Expected Annual Damage 2', 'A.1_Dike Investment Costs 0', 'A.1_Dike Investment Costs 1', 'A.1_Dike Investment Costs 2'), function=<function sum_over at 0x000002F7DCE80E50>)\n",
      "ScalarOutcome('A.1_Expected Number of Deaths', variable_name=('A.1_Expected Number of Deaths 0', 'A.1_Expected Number of Deaths 1', 'A.1_Expected Number of Deaths 2'), function=<function sum_over at 0x000002F7DCE80E50>)\n",
      "ScalarOutcome('A.2 Total Costs', variable_name=('A.2_Expected Annual Damage 0', 'A.2_Expected Annual Damage 1', 'A.2_Expected Annual Damage 2', 'A.2_Dike Investment Costs 0', 'A.2_Dike Investment Costs 1', 'A.2_Dike Investment Costs 2'), function=<function sum_over at 0x000002F7DCE80E50>)\n",
      "ScalarOutcome('A.2_Expected Number of Deaths', variable_name=('A.2_Expected Number of Deaths 0', 'A.2_Expected Number of Deaths 1', 'A.2_Expected Number of Deaths 2'), function=<function sum_over at 0x000002F7DCE80E50>)\n",
      "ScalarOutcome('A.3 Total Costs', variable_name=('A.3_Expected Annual Damage 0', 'A.3_Expected Annual Damage 1', 'A.3_Expected Annual Damage 2', 'A.3_Dike Investment Costs 0', 'A.3_Dike Investment Costs 1', 'A.3_Dike Investment Costs 2'), function=<function sum_over at 0x000002F7DCE80E50>)\n",
      "ScalarOutcome('A.3_Expected Number of Deaths', variable_name=('A.3_Expected Number of Deaths 0', 'A.3_Expected Number of Deaths 1', 'A.3_Expected Number of Deaths 2'), function=<function sum_over at 0x000002F7DCE80E50>)\n",
      "ScalarOutcome('A.4 Total Costs', variable_name=('A.4_Expected Annual Damage 0', 'A.4_Expected Annual Damage 1', 'A.4_Expected Annual Damage 2', 'A.4_Dike Investment Costs 0', 'A.4_Dike Investment Costs 1', 'A.4_Dike Investment Costs 2'), function=<function sum_over at 0x000002F7DCE80E50>)\n",
      "ScalarOutcome('A.4_Expected Number of Deaths', variable_name=('A.4_Expected Number of Deaths 0', 'A.4_Expected Number of Deaths 1', 'A.4_Expected Number of Deaths 2'), function=<function sum_over at 0x000002F7DCE80E50>)\n",
      "ScalarOutcome('A.5 Total Costs', variable_name=('A.5_Expected Annual Damage 0', 'A.5_Expected Annual Damage 1', 'A.5_Expected Annual Damage 2', 'A.5_Dike Investment Costs 0', 'A.5_Dike Investment Costs 1', 'A.5_Dike Investment Costs 2'), function=<function sum_over at 0x000002F7DCE80E50>)\n",
      "ScalarOutcome('A.5_Expected Number of Deaths', variable_name=('A.5_Expected Number of Deaths 0', 'A.5_Expected Number of Deaths 1', 'A.5_Expected Number of Deaths 2'), function=<function sum_over at 0x000002F7DCE80E50>)\n",
      "ScalarOutcome('RfR Total Costs', variable_name=('RfR Total Costs 0', 'RfR Total Costs 1', 'RfR Total Costs 2'), function=<function sum_over at 0x000002F7DCE80E50>)\n",
      "ScalarOutcome('Expected Evacuation Costs', variable_name=('Expected Evacuation Costs 0', 'Expected Evacuation Costs 1', 'Expected Evacuation Costs 2'), function=<function sum_over at 0x000002F7DCE80E50>)\n"
     ]
    }
   ],
   "source": [
    "# enlisting outcomes\n",
    "for outcome in dike_model.outcomes:\n",
    "    print(repr(outcome))"
   ]
  },
  {
   "cell_type": "markdown",
   "metadata": {
    "pycharm": {
     "name": "#%% md\n"
    }
   },
   "source": [
    "### Policy formulations\n",
    "In the following cells the wanted policies can be adjusted"
   ]
  },
  {
   "cell_type": "code",
   "execution_count": 9,
   "metadata": {
    "collapsed": false,
    "jupyter": {
     "outputs_hidden": false
    },
    "pycharm": {
     "name": "#%%\n"
    }
   },
   "outputs": [],
   "source": [
    "# Create a function which sets everything to 0 by default\n",
    "def get_0_dict():\n",
    "    return {l.name: 0 for l in dike_model.levers}\n",
    "\n",
    "# Creates a Policy object from a dict and a (optional) name\n",
    "def create_policy(dict1, name=None):\n",
    "    return Policy(f\"Policy_{name}\", **dict(get_0_dict(), **dict1))"
   ]
  },
  {
   "cell_type": "markdown",
   "metadata": {
    "pycharm": {
     "name": "#%% md\n"
    }
   },
   "source": [
    "In the following policies formulations:\n",
    "- `RfR` says if the Room for River projects are enabled (projects `0` to `5`). The first number indicated the project, the second (after `RfR`) if in which time step the measure it taken (currently `0` to `2`). The value can be either `0` (not enabled) or `1` (enabled).\n",
    "- `A.1` to `A.5` are the different dikes. `A.3` is the dike ring around Zutphen. The number after `DikeIncrease` is again the timestep, the value assigned to the thing the heightening in decimeters.\n",
    "- Early Warning Systems can also be enabled, with `EWS_DaysToThreat`, which specifies the early warning time in days.\n",
    "\n",
    "See the implementation in problem_formulation.py (starting from line 35) for more details."
   ]
  },
  {
   "cell_type": "code",
   "execution_count": 10,
   "metadata": {
    "collapsed": false,
    "jupyter": {
     "outputs_hidden": false
    },
    "pycharm": {
     "name": "#%%\n"
    }
   },
   "outputs": [],
   "source": [
    "pol_list = []\n",
    "#pol_list.append(create_policy({}, name=\"Zero\"))\n",
    "\n",
    "for dm in [0, 10]:\n",
    "    for location in [2]:\n",
    "        for switch in [0,1]:\n",
    "            for ews_days in [0, 4]:\n",
    "                pol_list.append(create_policy({\"A.3_DikeIncrease 0\": dm, f\"{location}_RfR 0\": switch, \"EWS_DaysToThreat\": ews_days},\n",
    "                                            name=f\"Dike_{dm}dm_RfR_{location}{switch}_EWS_{ews_days}d\"))\n"
   ]
  },
  {
   "cell_type": "code",
   "execution_count": 11,
   "metadata": {},
   "outputs": [
    {
     "data": {
      "text/plain": [
       "[Policy({'0_RfR 0': 0, '0_RfR 1': 0, '0_RfR 2': 0, '1_RfR 0': 0, '1_RfR 1': 0, '1_RfR 2': 0, '2_RfR 0': 0, '2_RfR 1': 0, '2_RfR 2': 0, '3_RfR 0': 0, '3_RfR 1': 0, '3_RfR 2': 0, '4_RfR 0': 0, '4_RfR 1': 0, '4_RfR 2': 0, 'EWS_DaysToThreat': 0, 'A.1_DikeIncrease 0': 0, 'A.1_DikeIncrease 1': 0, 'A.1_DikeIncrease 2': 0, 'A.2_DikeIncrease 0': 0, 'A.2_DikeIncrease 1': 0, 'A.2_DikeIncrease 2': 0, 'A.3_DikeIncrease 0': 0, 'A.3_DikeIncrease 1': 0, 'A.3_DikeIncrease 2': 0, 'A.4_DikeIncrease 0': 0, 'A.4_DikeIncrease 1': 0, 'A.4_DikeIncrease 2': 0, 'A.5_DikeIncrease 0': 0, 'A.5_DikeIncrease 1': 0, 'A.5_DikeIncrease 2': 0}),\n",
       " Policy({'0_RfR 0': 0, '0_RfR 1': 0, '0_RfR 2': 0, '1_RfR 0': 0, '1_RfR 1': 0, '1_RfR 2': 0, '2_RfR 0': 0, '2_RfR 1': 0, '2_RfR 2': 0, '3_RfR 0': 0, '3_RfR 1': 0, '3_RfR 2': 0, '4_RfR 0': 0, '4_RfR 1': 0, '4_RfR 2': 0, 'EWS_DaysToThreat': 4, 'A.1_DikeIncrease 0': 0, 'A.1_DikeIncrease 1': 0, 'A.1_DikeIncrease 2': 0, 'A.2_DikeIncrease 0': 0, 'A.2_DikeIncrease 1': 0, 'A.2_DikeIncrease 2': 0, 'A.3_DikeIncrease 0': 0, 'A.3_DikeIncrease 1': 0, 'A.3_DikeIncrease 2': 0, 'A.4_DikeIncrease 0': 0, 'A.4_DikeIncrease 1': 0, 'A.4_DikeIncrease 2': 0, 'A.5_DikeIncrease 0': 0, 'A.5_DikeIncrease 1': 0, 'A.5_DikeIncrease 2': 0}),\n",
       " Policy({'0_RfR 0': 0, '0_RfR 1': 0, '0_RfR 2': 0, '1_RfR 0': 0, '1_RfR 1': 0, '1_RfR 2': 0, '2_RfR 0': 1, '2_RfR 1': 0, '2_RfR 2': 0, '3_RfR 0': 0, '3_RfR 1': 0, '3_RfR 2': 0, '4_RfR 0': 0, '4_RfR 1': 0, '4_RfR 2': 0, 'EWS_DaysToThreat': 0, 'A.1_DikeIncrease 0': 0, 'A.1_DikeIncrease 1': 0, 'A.1_DikeIncrease 2': 0, 'A.2_DikeIncrease 0': 0, 'A.2_DikeIncrease 1': 0, 'A.2_DikeIncrease 2': 0, 'A.3_DikeIncrease 0': 0, 'A.3_DikeIncrease 1': 0, 'A.3_DikeIncrease 2': 0, 'A.4_DikeIncrease 0': 0, 'A.4_DikeIncrease 1': 0, 'A.4_DikeIncrease 2': 0, 'A.5_DikeIncrease 0': 0, 'A.5_DikeIncrease 1': 0, 'A.5_DikeIncrease 2': 0}),\n",
       " Policy({'0_RfR 0': 0, '0_RfR 1': 0, '0_RfR 2': 0, '1_RfR 0': 0, '1_RfR 1': 0, '1_RfR 2': 0, '2_RfR 0': 1, '2_RfR 1': 0, '2_RfR 2': 0, '3_RfR 0': 0, '3_RfR 1': 0, '3_RfR 2': 0, '4_RfR 0': 0, '4_RfR 1': 0, '4_RfR 2': 0, 'EWS_DaysToThreat': 4, 'A.1_DikeIncrease 0': 0, 'A.1_DikeIncrease 1': 0, 'A.1_DikeIncrease 2': 0, 'A.2_DikeIncrease 0': 0, 'A.2_DikeIncrease 1': 0, 'A.2_DikeIncrease 2': 0, 'A.3_DikeIncrease 0': 0, 'A.3_DikeIncrease 1': 0, 'A.3_DikeIncrease 2': 0, 'A.4_DikeIncrease 0': 0, 'A.4_DikeIncrease 1': 0, 'A.4_DikeIncrease 2': 0, 'A.5_DikeIncrease 0': 0, 'A.5_DikeIncrease 1': 0, 'A.5_DikeIncrease 2': 0}),\n",
       " Policy({'0_RfR 0': 0, '0_RfR 1': 0, '0_RfR 2': 0, '1_RfR 0': 0, '1_RfR 1': 0, '1_RfR 2': 0, '2_RfR 0': 0, '2_RfR 1': 0, '2_RfR 2': 0, '3_RfR 0': 0, '3_RfR 1': 0, '3_RfR 2': 0, '4_RfR 0': 0, '4_RfR 1': 0, '4_RfR 2': 0, 'EWS_DaysToThreat': 0, 'A.1_DikeIncrease 0': 0, 'A.1_DikeIncrease 1': 0, 'A.1_DikeIncrease 2': 0, 'A.2_DikeIncrease 0': 0, 'A.2_DikeIncrease 1': 0, 'A.2_DikeIncrease 2': 0, 'A.3_DikeIncrease 0': 10, 'A.3_DikeIncrease 1': 0, 'A.3_DikeIncrease 2': 0, 'A.4_DikeIncrease 0': 0, 'A.4_DikeIncrease 1': 0, 'A.4_DikeIncrease 2': 0, 'A.5_DikeIncrease 0': 0, 'A.5_DikeIncrease 1': 0, 'A.5_DikeIncrease 2': 0}),\n",
       " Policy({'0_RfR 0': 0, '0_RfR 1': 0, '0_RfR 2': 0, '1_RfR 0': 0, '1_RfR 1': 0, '1_RfR 2': 0, '2_RfR 0': 0, '2_RfR 1': 0, '2_RfR 2': 0, '3_RfR 0': 0, '3_RfR 1': 0, '3_RfR 2': 0, '4_RfR 0': 0, '4_RfR 1': 0, '4_RfR 2': 0, 'EWS_DaysToThreat': 4, 'A.1_DikeIncrease 0': 0, 'A.1_DikeIncrease 1': 0, 'A.1_DikeIncrease 2': 0, 'A.2_DikeIncrease 0': 0, 'A.2_DikeIncrease 1': 0, 'A.2_DikeIncrease 2': 0, 'A.3_DikeIncrease 0': 10, 'A.3_DikeIncrease 1': 0, 'A.3_DikeIncrease 2': 0, 'A.4_DikeIncrease 0': 0, 'A.4_DikeIncrease 1': 0, 'A.4_DikeIncrease 2': 0, 'A.5_DikeIncrease 0': 0, 'A.5_DikeIncrease 1': 0, 'A.5_DikeIncrease 2': 0}),\n",
       " Policy({'0_RfR 0': 0, '0_RfR 1': 0, '0_RfR 2': 0, '1_RfR 0': 0, '1_RfR 1': 0, '1_RfR 2': 0, '2_RfR 0': 1, '2_RfR 1': 0, '2_RfR 2': 0, '3_RfR 0': 0, '3_RfR 1': 0, '3_RfR 2': 0, '4_RfR 0': 0, '4_RfR 1': 0, '4_RfR 2': 0, 'EWS_DaysToThreat': 0, 'A.1_DikeIncrease 0': 0, 'A.1_DikeIncrease 1': 0, 'A.1_DikeIncrease 2': 0, 'A.2_DikeIncrease 0': 0, 'A.2_DikeIncrease 1': 0, 'A.2_DikeIncrease 2': 0, 'A.3_DikeIncrease 0': 10, 'A.3_DikeIncrease 1': 0, 'A.3_DikeIncrease 2': 0, 'A.4_DikeIncrease 0': 0, 'A.4_DikeIncrease 1': 0, 'A.4_DikeIncrease 2': 0, 'A.5_DikeIncrease 0': 0, 'A.5_DikeIncrease 1': 0, 'A.5_DikeIncrease 2': 0}),\n",
       " Policy({'0_RfR 0': 0, '0_RfR 1': 0, '0_RfR 2': 0, '1_RfR 0': 0, '1_RfR 1': 0, '1_RfR 2': 0, '2_RfR 0': 1, '2_RfR 1': 0, '2_RfR 2': 0, '3_RfR 0': 0, '3_RfR 1': 0, '3_RfR 2': 0, '4_RfR 0': 0, '4_RfR 1': 0, '4_RfR 2': 0, 'EWS_DaysToThreat': 4, 'A.1_DikeIncrease 0': 0, 'A.1_DikeIncrease 1': 0, 'A.1_DikeIncrease 2': 0, 'A.2_DikeIncrease 0': 0, 'A.2_DikeIncrease 1': 0, 'A.2_DikeIncrease 2': 0, 'A.3_DikeIncrease 0': 10, 'A.3_DikeIncrease 1': 0, 'A.3_DikeIncrease 2': 0, 'A.4_DikeIncrease 0': 0, 'A.4_DikeIncrease 1': 0, 'A.4_DikeIncrease 2': 0, 'A.5_DikeIncrease 0': 0, 'A.5_DikeIncrease 1': 0, 'A.5_DikeIncrease 2': 0})]"
      ]
     },
     "execution_count": 11,
     "metadata": {},
     "output_type": "execute_result"
    }
   ],
   "source": [
    "pol_list"
   ]
  },
  {
   "cell_type": "markdown",
   "metadata": {
    "pycharm": {
     "name": "#%% md\n"
    }
   },
   "source": [
    "### Run the model (or load the data)\n",
    "In the next cell the model is ran (if `use_pickle1 = False`) and the new results data is saved, or, if `use_pickle1 = True`, the saved results data is loaded."
   ]
  },
  {
   "cell_type": "code",
   "execution_count": 12,
   "metadata": {
    "collapsed": false,
    "jupyter": {
     "outputs_hidden": false
    },
    "pycharm": {
     "name": "#%%\n"
    }
   },
   "outputs": [
    {
     "name": "stderr",
     "output_type": "stream",
     "text": [
      "[MainProcess/INFO] pool started with 10 workers\n",
      "[MainProcess/INFO] performing 15000 scenarios * 8 policies * 1 model(s) = 120000 experiments\n",
      "100%|████████████████████████████████| 120000/120000 [3:23:34<00:00,  9.82it/s]\n",
      "[MainProcess/INFO] experiments finished\n",
      "[MainProcess/INFO] terminating pool\n"
     ]
    }
   ],
   "source": [
    "# True, use results in pickle file; False, run MultiprocessingEvaluator\n",
    "use_pickle1 = False\n",
    "\n",
    "if use_pickle1:\n",
    "    with open('data/formulation_results.pickle', 'rb') as filehandler:\n",
    "        results = pickle.load(filehandler)\n",
    "\n",
    "else:\n",
    "    # pass the policies list to EMA workbench experiment runs\n",
    "    n_scenarios = 15000\n",
    "    with MultiprocessingEvaluator(dike_model, n_processes=10) as evaluator:\n",
    "        results = evaluator.perform_experiments(n_scenarios, pol_list, uncertainty_sampling=Samplers.LHS)\n",
    "\n",
    "    # Save results in Pickle file\n",
    "    with open('data/formulation_results.pickle', 'wb') as filehandler:\n",
    "        pickle.dump(results, filehandler)"
   ]
  },
  {
   "cell_type": "markdown",
   "metadata": {
    "pycharm": {
     "name": "#%% md\n"
    }
   },
   "source": [
    "### Process the results\n",
    "In this section a dataframe is generated with all the outcomes data, and aggegrated to mean, min, max and quantiles values for each policy."
   ]
  },
  {
   "cell_type": "code",
   "execution_count": 13,
   "metadata": {
    "collapsed": false,
    "jupyter": {
     "outputs_hidden": false
    },
    "pycharm": {
     "name": "#%%\n"
    }
   },
   "outputs": [
    {
     "data": {
      "text/html": [
       "<div>\n",
       "<style scoped>\n",
       "    .dataframe tbody tr th:only-of-type {\n",
       "        vertical-align: middle;\n",
       "    }\n",
       "\n",
       "    .dataframe tbody tr th {\n",
       "        vertical-align: top;\n",
       "    }\n",
       "\n",
       "    .dataframe thead th {\n",
       "        text-align: right;\n",
       "    }\n",
       "</style>\n",
       "<table border=\"1\" class=\"dataframe\">\n",
       "  <thead>\n",
       "    <tr style=\"text-align: right;\">\n",
       "      <th></th>\n",
       "      <th>A.1 Total Costs</th>\n",
       "      <th>A.1_Expected Number of Deaths</th>\n",
       "      <th>A.2 Total Costs</th>\n",
       "      <th>A.2_Expected Number of Deaths</th>\n",
       "      <th>A.3 Total Costs</th>\n",
       "      <th>A.3_Expected Number of Deaths</th>\n",
       "      <th>A.4 Total Costs</th>\n",
       "      <th>A.4_Expected Number of Deaths</th>\n",
       "      <th>A.5 Total Costs</th>\n",
       "      <th>A.5_Expected Number of Deaths</th>\n",
       "      <th>RfR Total Costs</th>\n",
       "      <th>Expected Evacuation Costs</th>\n",
       "      <th>Total Costs</th>\n",
       "      <th>policy</th>\n",
       "    </tr>\n",
       "  </thead>\n",
       "  <tbody>\n",
       "    <tr>\n",
       "      <th>0</th>\n",
       "      <td>1.640288e+07</td>\n",
       "      <td>0.016509</td>\n",
       "      <td>6.126701e+08</td>\n",
       "      <td>0.730318</td>\n",
       "      <td>0.000000e+00</td>\n",
       "      <td>0.000000</td>\n",
       "      <td>4.830969e+06</td>\n",
       "      <td>0.002911</td>\n",
       "      <td>0.000000e+00</td>\n",
       "      <td>0.000000</td>\n",
       "      <td>0.0</td>\n",
       "      <td>0.000000</td>\n",
       "      <td>6.339040e+08</td>\n",
       "      <td>Policy_Dike_0dm_RfR_20_EWS_0d</td>\n",
       "    </tr>\n",
       "    <tr>\n",
       "      <th>1</th>\n",
       "      <td>3.056578e+09</td>\n",
       "      <td>1.978470</td>\n",
       "      <td>0.000000e+00</td>\n",
       "      <td>0.000000</td>\n",
       "      <td>0.000000e+00</td>\n",
       "      <td>0.000000</td>\n",
       "      <td>5.228778e+07</td>\n",
       "      <td>0.021473</td>\n",
       "      <td>4.724858e+08</td>\n",
       "      <td>0.371813</td>\n",
       "      <td>0.0</td>\n",
       "      <td>0.000000</td>\n",
       "      <td>3.581352e+09</td>\n",
       "      <td>Policy_Dike_0dm_RfR_20_EWS_0d</td>\n",
       "    </tr>\n",
       "    <tr>\n",
       "      <th>2</th>\n",
       "      <td>0.000000e+00</td>\n",
       "      <td>0.000000</td>\n",
       "      <td>2.131622e+07</td>\n",
       "      <td>0.018399</td>\n",
       "      <td>7.277446e+07</td>\n",
       "      <td>0.117079</td>\n",
       "      <td>8.589175e+07</td>\n",
       "      <td>0.035237</td>\n",
       "      <td>8.232292e+08</td>\n",
       "      <td>0.626235</td>\n",
       "      <td>0.0</td>\n",
       "      <td>0.000000</td>\n",
       "      <td>1.003212e+09</td>\n",
       "      <td>Policy_Dike_0dm_RfR_20_EWS_0d</td>\n",
       "    </tr>\n",
       "    <tr>\n",
       "      <th>3</th>\n",
       "      <td>3.498506e+09</td>\n",
       "      <td>1.968229</td>\n",
       "      <td>0.000000e+00</td>\n",
       "      <td>0.000000</td>\n",
       "      <td>0.000000e+00</td>\n",
       "      <td>0.000000</td>\n",
       "      <td>0.000000e+00</td>\n",
       "      <td>0.000000</td>\n",
       "      <td>0.000000e+00</td>\n",
       "      <td>0.000000</td>\n",
       "      <td>0.0</td>\n",
       "      <td>0.000000</td>\n",
       "      <td>3.498506e+09</td>\n",
       "      <td>Policy_Dike_0dm_RfR_20_EWS_0d</td>\n",
       "    </tr>\n",
       "    <tr>\n",
       "      <th>4</th>\n",
       "      <td>2.847340e+09</td>\n",
       "      <td>1.979723</td>\n",
       "      <td>5.316239e+07</td>\n",
       "      <td>0.052730</td>\n",
       "      <td>1.602206e+09</td>\n",
       "      <td>2.828915</td>\n",
       "      <td>0.000000e+00</td>\n",
       "      <td>0.000000</td>\n",
       "      <td>0.000000e+00</td>\n",
       "      <td>0.000000</td>\n",
       "      <td>0.0</td>\n",
       "      <td>0.000000</td>\n",
       "      <td>4.502708e+09</td>\n",
       "      <td>Policy_Dike_0dm_RfR_20_EWS_0d</td>\n",
       "    </tr>\n",
       "    <tr>\n",
       "      <th>...</th>\n",
       "      <td>...</td>\n",
       "      <td>...</td>\n",
       "      <td>...</td>\n",
       "      <td>...</td>\n",
       "      <td>...</td>\n",
       "      <td>...</td>\n",
       "      <td>...</td>\n",
       "      <td>...</td>\n",
       "      <td>...</td>\n",
       "      <td>...</td>\n",
       "      <td>...</td>\n",
       "      <td>...</td>\n",
       "      <td>...</td>\n",
       "      <td>...</td>\n",
       "    </tr>\n",
       "    <tr>\n",
       "      <th>119995</th>\n",
       "      <td>2.893303e+09</td>\n",
       "      <td>0.236979</td>\n",
       "      <td>0.000000e+00</td>\n",
       "      <td>0.000000</td>\n",
       "      <td>4.421502e+07</td>\n",
       "      <td>0.000000</td>\n",
       "      <td>1.182268e+07</td>\n",
       "      <td>0.000609</td>\n",
       "      <td>0.000000e+00</td>\n",
       "      <td>0.000000</td>\n",
       "      <td>30700000.0</td>\n",
       "      <td>40134.689691</td>\n",
       "      <td>2.980081e+09</td>\n",
       "      <td>Policy_Dike_10dm_RfR_21_EWS_4d</td>\n",
       "    </tr>\n",
       "    <tr>\n",
       "      <th>119996</th>\n",
       "      <td>3.176503e+09</td>\n",
       "      <td>0.234739</td>\n",
       "      <td>6.059762e+06</td>\n",
       "      <td>0.000633</td>\n",
       "      <td>4.421502e+07</td>\n",
       "      <td>0.000000</td>\n",
       "      <td>0.000000e+00</td>\n",
       "      <td>0.000000</td>\n",
       "      <td>1.087318e+07</td>\n",
       "      <td>0.001109</td>\n",
       "      <td>30700000.0</td>\n",
       "      <td>39924.430286</td>\n",
       "      <td>3.268391e+09</td>\n",
       "      <td>Policy_Dike_10dm_RfR_21_EWS_4d</td>\n",
       "    </tr>\n",
       "    <tr>\n",
       "      <th>119997</th>\n",
       "      <td>3.206882e+09</td>\n",
       "      <td>0.237567</td>\n",
       "      <td>5.708215e+07</td>\n",
       "      <td>0.005839</td>\n",
       "      <td>4.421502e+07</td>\n",
       "      <td>0.000000</td>\n",
       "      <td>2.016471e+07</td>\n",
       "      <td>0.001041</td>\n",
       "      <td>0.000000e+00</td>\n",
       "      <td>0.000000</td>\n",
       "      <td>30700000.0</td>\n",
       "      <td>44213.549865</td>\n",
       "      <td>3.359088e+09</td>\n",
       "      <td>Policy_Dike_10dm_RfR_21_EWS_4d</td>\n",
       "    </tr>\n",
       "    <tr>\n",
       "      <th>119998</th>\n",
       "      <td>0.000000e+00</td>\n",
       "      <td>0.000000</td>\n",
       "      <td>1.029811e+07</td>\n",
       "      <td>0.001448</td>\n",
       "      <td>4.421502e+07</td>\n",
       "      <td>0.000000</td>\n",
       "      <td>6.746776e+07</td>\n",
       "      <td>0.004574</td>\n",
       "      <td>0.000000e+00</td>\n",
       "      <td>0.000000</td>\n",
       "      <td>30700000.0</td>\n",
       "      <td>7667.009496</td>\n",
       "      <td>1.526886e+08</td>\n",
       "      <td>Policy_Dike_10dm_RfR_21_EWS_4d</td>\n",
       "    </tr>\n",
       "    <tr>\n",
       "      <th>119999</th>\n",
       "      <td>1.321201e+09</td>\n",
       "      <td>0.134067</td>\n",
       "      <td>0.000000e+00</td>\n",
       "      <td>0.000000</td>\n",
       "      <td>4.421502e+07</td>\n",
       "      <td>0.000000</td>\n",
       "      <td>1.190911e+06</td>\n",
       "      <td>0.000090</td>\n",
       "      <td>0.000000e+00</td>\n",
       "      <td>0.000000</td>\n",
       "      <td>30700000.0</td>\n",
       "      <td>20953.713969</td>\n",
       "      <td>1.397328e+09</td>\n",
       "      <td>Policy_Dike_10dm_RfR_21_EWS_4d</td>\n",
       "    </tr>\n",
       "  </tbody>\n",
       "</table>\n",
       "<p>120000 rows × 14 columns</p>\n",
       "</div>"
      ],
      "text/plain": [
       "        A.1 Total Costs  A.1_Expected Number of Deaths  A.2 Total Costs  \\\n",
       "0          1.640288e+07                       0.016509     6.126701e+08   \n",
       "1          3.056578e+09                       1.978470     0.000000e+00   \n",
       "2          0.000000e+00                       0.000000     2.131622e+07   \n",
       "3          3.498506e+09                       1.968229     0.000000e+00   \n",
       "4          2.847340e+09                       1.979723     5.316239e+07   \n",
       "...                 ...                            ...              ...   \n",
       "119995     2.893303e+09                       0.236979     0.000000e+00   \n",
       "119996     3.176503e+09                       0.234739     6.059762e+06   \n",
       "119997     3.206882e+09                       0.237567     5.708215e+07   \n",
       "119998     0.000000e+00                       0.000000     1.029811e+07   \n",
       "119999     1.321201e+09                       0.134067     0.000000e+00   \n",
       "\n",
       "        A.2_Expected Number of Deaths  A.3 Total Costs  \\\n",
       "0                            0.730318     0.000000e+00   \n",
       "1                            0.000000     0.000000e+00   \n",
       "2                            0.018399     7.277446e+07   \n",
       "3                            0.000000     0.000000e+00   \n",
       "4                            0.052730     1.602206e+09   \n",
       "...                               ...              ...   \n",
       "119995                       0.000000     4.421502e+07   \n",
       "119996                       0.000633     4.421502e+07   \n",
       "119997                       0.005839     4.421502e+07   \n",
       "119998                       0.001448     4.421502e+07   \n",
       "119999                       0.000000     4.421502e+07   \n",
       "\n",
       "        A.3_Expected Number of Deaths  A.4 Total Costs  \\\n",
       "0                            0.000000     4.830969e+06   \n",
       "1                            0.000000     5.228778e+07   \n",
       "2                            0.117079     8.589175e+07   \n",
       "3                            0.000000     0.000000e+00   \n",
       "4                            2.828915     0.000000e+00   \n",
       "...                               ...              ...   \n",
       "119995                       0.000000     1.182268e+07   \n",
       "119996                       0.000000     0.000000e+00   \n",
       "119997                       0.000000     2.016471e+07   \n",
       "119998                       0.000000     6.746776e+07   \n",
       "119999                       0.000000     1.190911e+06   \n",
       "\n",
       "        A.4_Expected Number of Deaths  A.5 Total Costs  \\\n",
       "0                            0.002911     0.000000e+00   \n",
       "1                            0.021473     4.724858e+08   \n",
       "2                            0.035237     8.232292e+08   \n",
       "3                            0.000000     0.000000e+00   \n",
       "4                            0.000000     0.000000e+00   \n",
       "...                               ...              ...   \n",
       "119995                       0.000609     0.000000e+00   \n",
       "119996                       0.000000     1.087318e+07   \n",
       "119997                       0.001041     0.000000e+00   \n",
       "119998                       0.004574     0.000000e+00   \n",
       "119999                       0.000090     0.000000e+00   \n",
       "\n",
       "        A.5_Expected Number of Deaths  RfR Total Costs  \\\n",
       "0                            0.000000              0.0   \n",
       "1                            0.371813              0.0   \n",
       "2                            0.626235              0.0   \n",
       "3                            0.000000              0.0   \n",
       "4                            0.000000              0.0   \n",
       "...                               ...              ...   \n",
       "119995                       0.000000       30700000.0   \n",
       "119996                       0.001109       30700000.0   \n",
       "119997                       0.000000       30700000.0   \n",
       "119998                       0.000000       30700000.0   \n",
       "119999                       0.000000       30700000.0   \n",
       "\n",
       "        Expected Evacuation Costs   Total Costs  \\\n",
       "0                        0.000000  6.339040e+08   \n",
       "1                        0.000000  3.581352e+09   \n",
       "2                        0.000000  1.003212e+09   \n",
       "3                        0.000000  3.498506e+09   \n",
       "4                        0.000000  4.502708e+09   \n",
       "...                           ...           ...   \n",
       "119995               40134.689691  2.980081e+09   \n",
       "119996               39924.430286  3.268391e+09   \n",
       "119997               44213.549865  3.359088e+09   \n",
       "119998                7667.009496  1.526886e+08   \n",
       "119999               20953.713969  1.397328e+09   \n",
       "\n",
       "                                policy  \n",
       "0        Policy_Dike_0dm_RfR_20_EWS_0d  \n",
       "1        Policy_Dike_0dm_RfR_20_EWS_0d  \n",
       "2        Policy_Dike_0dm_RfR_20_EWS_0d  \n",
       "3        Policy_Dike_0dm_RfR_20_EWS_0d  \n",
       "4        Policy_Dike_0dm_RfR_20_EWS_0d  \n",
       "...                                ...  \n",
       "119995  Policy_Dike_10dm_RfR_21_EWS_4d  \n",
       "119996  Policy_Dike_10dm_RfR_21_EWS_4d  \n",
       "119997  Policy_Dike_10dm_RfR_21_EWS_4d  \n",
       "119998  Policy_Dike_10dm_RfR_21_EWS_4d  \n",
       "119999  Policy_Dike_10dm_RfR_21_EWS_4d  \n",
       "\n",
       "[120000 rows x 14 columns]"
      ]
     },
     "execution_count": 13,
     "metadata": {},
     "output_type": "execute_result"
    }
   ],
   "source": [
    "# Create a dataframe from outcomes, and add the policy column to it\n",
    "exp, out = results\n",
    "df = pd.DataFrame(out)\n",
    "a = df.columns[df.columns.str.contains('Costs')]\n",
    "df['Total Costs'] = df[a].sum(axis=1)\n",
    "\n",
    "#df[\"Total Costs\"] = df[[\"Dike Investment Costs\", \"RfR Investment Costs\", \"Evacuation Costs\"]].sum(axis=1)\n",
    "#df[\"Cost plus Damage\"] = df[\"Total Costs\"] + df[\"Expected Annual Damage\"]\n",
    "df[\"policy\"] = pd.DataFrame(exp)[\"policy\"]\n",
    "df"
   ]
  },
  {
   "cell_type": "code",
   "execution_count": 14,
   "metadata": {
    "collapsed": false,
    "jupyter": {
     "outputs_hidden": false
    },
    "pycharm": {
     "name": "#%%\n"
    }
   },
   "outputs": [],
   "source": [
    "# Define two functions to get the 5th and 95th quantiles\n",
    "def q05(x):\n",
    "    return x.quantile(0.05)\n",
    "\n",
    "def q95(x):\n",
    "    return x.quantile(0.95)"
   ]
  },
  {
   "cell_type": "code",
   "execution_count": 15,
   "metadata": {},
   "outputs": [
    {
     "name": "stderr",
     "output_type": "stream",
     "text": [
      "c:\\Users\\hanna\\Anaconda3\\envs\\simmaster\\lib\\site-packages\\seaborn\\distributions.py:305: UserWarning: Dataset has 0 variance; skipping density estimate.\n",
      "  warnings.warn(msg, UserWarning)\n",
      "c:\\Users\\hanna\\Anaconda3\\envs\\simmaster\\lib\\site-packages\\seaborn\\distributions.py:305: UserWarning: Dataset has 0 variance; skipping density estimate.\n",
      "  warnings.warn(msg, UserWarning)\n",
      "c:\\Users\\hanna\\Anaconda3\\envs\\simmaster\\lib\\site-packages\\seaborn\\distributions.py:305: UserWarning: Dataset has 0 variance; skipping density estimate.\n",
      "  warnings.warn(msg, UserWarning)\n",
      "c:\\Users\\hanna\\Anaconda3\\envs\\simmaster\\lib\\site-packages\\seaborn\\distributions.py:305: UserWarning: Dataset has 0 variance; skipping density estimate.\n",
      "  warnings.warn(msg, UserWarning)\n",
      "c:\\Users\\hanna\\Anaconda3\\envs\\simmaster\\lib\\site-packages\\seaborn\\distributions.py:305: UserWarning: Dataset has 0 variance; skipping density estimate.\n",
      "  warnings.warn(msg, UserWarning)\n"
     ]
    }
   ],
   "source": [
    "experiments, outcomes = results\n",
    "policies = experiments['policy']\n",
    "\n",
    "data = pd.DataFrame.from_dict(outcomes)\n",
    "data['policy'] = policies\n",
    "\n",
    "sns.pairplot(data, hue='policy',  vars=outcomes.keys(), )\n",
    "plt.show()"
   ]
  },
  {
   "cell_type": "code",
   "execution_count": null,
   "metadata": {},
   "outputs": [],
   "source": [
    "from ema_workbench.analysis import (prim, dimensional_stacking)\n",
    "from ema_workbench import ema_logging\n",
    "ema_logging.log_to_stderr(ema_logging.INFO)\n",
    "\n",
    "prim_alg = prim.Prim(x, y, threshold=0.8, peel_alpha=0.0005)\n",
    "box1 = prim_alg.find_box()"
   ]
  },
  {
   "cell_type": "code",
   "execution_count": null,
   "metadata": {},
   "outputs": [],
   "source": [
    "box1.show_tradeoff()\n",
    "plt.show()"
   ]
  },
  {
   "cell_type": "code",
   "execution_count": null,
   "metadata": {},
   "outputs": [],
   "source": [
    "dimensional_stacking.create_pivot_plot(x, y)\n",
    "plt.show()"
   ]
  },
  {
   "cell_type": "code",
   "execution_count": null,
   "metadata": {
    "collapsed": false,
    "jupyter": {
     "outputs_hidden": false
    },
    "pycharm": {
     "name": "#%%\n"
    }
   },
   "outputs": [
    {
     "ename": "KeyError",
     "evalue": "\"Column(s) ['Cost plus Damage', 'Expected Annual Damage', 'Expected Number of Deaths'] do not exist\"",
     "output_type": "error",
     "traceback": [
      "\u001b[1;31m---------------------------------------------------------------------------\u001b[0m",
      "\u001b[1;31mKeyError\u001b[0m                                  Traceback (most recent call last)",
      "\u001b[1;32mc:\\Users\\hanna\\Documents\\GitHub\\modelbased\\Problem Formulations.ipynb Cell 21'\u001b[0m in \u001b[0;36m<module>\u001b[1;34m\u001b[0m\n\u001b[0;32m      <a href='vscode-notebook-cell:/c%3A/Users/hanna/Documents/GitHub/modelbased/Problem%20Formulations.ipynb#ch0000020?line=7'>8</a>\u001b[0m agg_dict \u001b[39m=\u001b[39m {\n\u001b[0;32m      <a href='vscode-notebook-cell:/c%3A/Users/hanna/Documents/GitHub/modelbased/Problem%20Formulations.ipynb#ch0000020?line=8'>9</a>\u001b[0m     \u001b[39m\"\u001b[39m\u001b[39mExpected Number of Deaths\u001b[39m\u001b[39m\"\u001b[39m: agg_par,\n\u001b[0;32m     <a href='vscode-notebook-cell:/c%3A/Users/hanna/Documents/GitHub/modelbased/Problem%20Formulations.ipynb#ch0000020?line=9'>10</a>\u001b[0m     \u001b[39m\"\u001b[39m\u001b[39mExpected Annual Damage\u001b[39m\u001b[39m\"\u001b[39m: agg_par,\n\u001b[0;32m     <a href='vscode-notebook-cell:/c%3A/Users/hanna/Documents/GitHub/modelbased/Problem%20Formulations.ipynb#ch0000020?line=10'>11</a>\u001b[0m     \u001b[39m\"\u001b[39m\u001b[39mTotal Costs\u001b[39m\u001b[39m\"\u001b[39m: \u001b[39m\"\u001b[39m\u001b[39mmean\u001b[39m\u001b[39m\"\u001b[39m,\n\u001b[0;32m     <a href='vscode-notebook-cell:/c%3A/Users/hanna/Documents/GitHub/modelbased/Problem%20Formulations.ipynb#ch0000020?line=11'>12</a>\u001b[0m     \u001b[39m\"\u001b[39m\u001b[39mCost plus Damage\u001b[39m\u001b[39m\"\u001b[39m: agg_par,\n\u001b[0;32m     <a href='vscode-notebook-cell:/c%3A/Users/hanna/Documents/GitHub/modelbased/Problem%20Formulations.ipynb#ch0000020?line=12'>13</a>\u001b[0m }\n\u001b[0;32m     <a href='vscode-notebook-cell:/c%3A/Users/hanna/Documents/GitHub/modelbased/Problem%20Formulations.ipynb#ch0000020?line=13'>14</a>\u001b[0m \u001b[39m# Create new dataframe with the aggegrated data per policy\u001b[39;00m\n\u001b[1;32m---> <a href='vscode-notebook-cell:/c%3A/Users/hanna/Documents/GitHub/modelbased/Problem%20Formulations.ipynb#ch0000020?line=14'>15</a>\u001b[0m TCA_df \u001b[39m=\u001b[39m group_df\u001b[39m.\u001b[39;49magg(agg_dict)\n\u001b[0;32m     <a href='vscode-notebook-cell:/c%3A/Users/hanna/Documents/GitHub/modelbased/Problem%20Formulations.ipynb#ch0000020?line=15'>16</a>\u001b[0m TCA_df\n",
      "File \u001b[1;32mc:\\Users\\hanna\\Anaconda3\\envs\\simmaster\\lib\\site-packages\\pandas\\core\\groupby\\generic.py:869\u001b[0m, in \u001b[0;36mDataFrameGroupBy.aggregate\u001b[1;34m(self, func, engine, engine_kwargs, *args, **kwargs)\u001b[0m\n\u001b[0;32m    <a href='file:///c%3A/Users/hanna/Anaconda3/envs/simmaster/lib/site-packages/pandas/core/groupby/generic.py?line=865'>866</a>\u001b[0m func \u001b[39m=\u001b[39m maybe_mangle_lambdas(func)\n\u001b[0;32m    <a href='file:///c%3A/Users/hanna/Anaconda3/envs/simmaster/lib/site-packages/pandas/core/groupby/generic.py?line=867'>868</a>\u001b[0m op \u001b[39m=\u001b[39m GroupByApply(\u001b[39mself\u001b[39m, func, args, kwargs)\n\u001b[1;32m--> <a href='file:///c%3A/Users/hanna/Anaconda3/envs/simmaster/lib/site-packages/pandas/core/groupby/generic.py?line=868'>869</a>\u001b[0m result \u001b[39m=\u001b[39m op\u001b[39m.\u001b[39;49magg()\n\u001b[0;32m    <a href='file:///c%3A/Users/hanna/Anaconda3/envs/simmaster/lib/site-packages/pandas/core/groupby/generic.py?line=869'>870</a>\u001b[0m \u001b[39mif\u001b[39;00m \u001b[39mnot\u001b[39;00m is_dict_like(func) \u001b[39mand\u001b[39;00m result \u001b[39mis\u001b[39;00m \u001b[39mnot\u001b[39;00m \u001b[39mNone\u001b[39;00m:\n\u001b[0;32m    <a href='file:///c%3A/Users/hanna/Anaconda3/envs/simmaster/lib/site-packages/pandas/core/groupby/generic.py?line=870'>871</a>\u001b[0m     \u001b[39mreturn\u001b[39;00m result\n",
      "File \u001b[1;32mc:\\Users\\hanna\\Anaconda3\\envs\\simmaster\\lib\\site-packages\\pandas\\core\\apply.py:168\u001b[0m, in \u001b[0;36mApply.agg\u001b[1;34m(self)\u001b[0m\n\u001b[0;32m    <a href='file:///c%3A/Users/hanna/Anaconda3/envs/simmaster/lib/site-packages/pandas/core/apply.py?line=164'>165</a>\u001b[0m     \u001b[39mreturn\u001b[39;00m \u001b[39mself\u001b[39m\u001b[39m.\u001b[39mapply_str()\n\u001b[0;32m    <a href='file:///c%3A/Users/hanna/Anaconda3/envs/simmaster/lib/site-packages/pandas/core/apply.py?line=166'>167</a>\u001b[0m \u001b[39mif\u001b[39;00m is_dict_like(arg):\n\u001b[1;32m--> <a href='file:///c%3A/Users/hanna/Anaconda3/envs/simmaster/lib/site-packages/pandas/core/apply.py?line=167'>168</a>\u001b[0m     \u001b[39mreturn\u001b[39;00m \u001b[39mself\u001b[39;49m\u001b[39m.\u001b[39;49magg_dict_like()\n\u001b[0;32m    <a href='file:///c%3A/Users/hanna/Anaconda3/envs/simmaster/lib/site-packages/pandas/core/apply.py?line=168'>169</a>\u001b[0m \u001b[39melif\u001b[39;00m is_list_like(arg):\n\u001b[0;32m    <a href='file:///c%3A/Users/hanna/Anaconda3/envs/simmaster/lib/site-packages/pandas/core/apply.py?line=169'>170</a>\u001b[0m     \u001b[39m# we require a list, but not a 'str'\u001b[39;00m\n\u001b[0;32m    <a href='file:///c%3A/Users/hanna/Anaconda3/envs/simmaster/lib/site-packages/pandas/core/apply.py?line=170'>171</a>\u001b[0m     \u001b[39mreturn\u001b[39;00m \u001b[39mself\u001b[39m\u001b[39m.\u001b[39magg_list_like()\n",
      "File \u001b[1;32mc:\\Users\\hanna\\Anaconda3\\envs\\simmaster\\lib\\site-packages\\pandas\\core\\apply.py:467\u001b[0m, in \u001b[0;36mApply.agg_dict_like\u001b[1;34m(self)\u001b[0m\n\u001b[0;32m    <a href='file:///c%3A/Users/hanna/Anaconda3/envs/simmaster/lib/site-packages/pandas/core/apply.py?line=463'>464</a>\u001b[0m     selected_obj \u001b[39m=\u001b[39m obj\u001b[39m.\u001b[39m_selected_obj\n\u001b[0;32m    <a href='file:///c%3A/Users/hanna/Anaconda3/envs/simmaster/lib/site-packages/pandas/core/apply.py?line=464'>465</a>\u001b[0m     selection \u001b[39m=\u001b[39m obj\u001b[39m.\u001b[39m_selection\n\u001b[1;32m--> <a href='file:///c%3A/Users/hanna/Anaconda3/envs/simmaster/lib/site-packages/pandas/core/apply.py?line=466'>467</a>\u001b[0m arg \u001b[39m=\u001b[39m \u001b[39mself\u001b[39;49m\u001b[39m.\u001b[39;49mnormalize_dictlike_arg(\u001b[39m\"\u001b[39;49m\u001b[39magg\u001b[39;49m\u001b[39m\"\u001b[39;49m, selected_obj, arg)\n\u001b[0;32m    <a href='file:///c%3A/Users/hanna/Anaconda3/envs/simmaster/lib/site-packages/pandas/core/apply.py?line=468'>469</a>\u001b[0m \u001b[39mif\u001b[39;00m selected_obj\u001b[39m.\u001b[39mndim \u001b[39m==\u001b[39m \u001b[39m1\u001b[39m:\n\u001b[0;32m    <a href='file:///c%3A/Users/hanna/Anaconda3/envs/simmaster/lib/site-packages/pandas/core/apply.py?line=469'>470</a>\u001b[0m     \u001b[39m# key only used for output\u001b[39;00m\n\u001b[0;32m    <a href='file:///c%3A/Users/hanna/Anaconda3/envs/simmaster/lib/site-packages/pandas/core/apply.py?line=470'>471</a>\u001b[0m     colg \u001b[39m=\u001b[39m obj\u001b[39m.\u001b[39m_gotitem(selection, ndim\u001b[39m=\u001b[39m\u001b[39m1\u001b[39m)\n",
      "File \u001b[1;32mc:\\Users\\hanna\\Anaconda3\\envs\\simmaster\\lib\\site-packages\\pandas\\core\\apply.py:585\u001b[0m, in \u001b[0;36mApply.normalize_dictlike_arg\u001b[1;34m(self, how, obj, func)\u001b[0m\n\u001b[0;32m    <a href='file:///c%3A/Users/hanna/Anaconda3/envs/simmaster/lib/site-packages/pandas/core/apply.py?line=582'>583</a>\u001b[0m     \u001b[39mif\u001b[39;00m \u001b[39mlen\u001b[39m(cols) \u001b[39m>\u001b[39m \u001b[39m0\u001b[39m:\n\u001b[0;32m    <a href='file:///c%3A/Users/hanna/Anaconda3/envs/simmaster/lib/site-packages/pandas/core/apply.py?line=583'>584</a>\u001b[0m         cols_sorted \u001b[39m=\u001b[39m \u001b[39mlist\u001b[39m(safe_sort(\u001b[39mlist\u001b[39m(cols)))\n\u001b[1;32m--> <a href='file:///c%3A/Users/hanna/Anaconda3/envs/simmaster/lib/site-packages/pandas/core/apply.py?line=584'>585</a>\u001b[0m         \u001b[39mraise\u001b[39;00m \u001b[39mKeyError\u001b[39;00m(\u001b[39mf\u001b[39m\u001b[39m\"\u001b[39m\u001b[39mColumn(s) \u001b[39m\u001b[39m{\u001b[39;00mcols_sorted\u001b[39m}\u001b[39;00m\u001b[39m do not exist\u001b[39m\u001b[39m\"\u001b[39m)\n\u001b[0;32m    <a href='file:///c%3A/Users/hanna/Anaconda3/envs/simmaster/lib/site-packages/pandas/core/apply.py?line=586'>587</a>\u001b[0m is_aggregator \u001b[39m=\u001b[39m \u001b[39mlambda\u001b[39;00m x: \u001b[39misinstance\u001b[39m(x, (\u001b[39mlist\u001b[39m, \u001b[39mtuple\u001b[39m, \u001b[39mdict\u001b[39m))\n\u001b[0;32m    <a href='file:///c%3A/Users/hanna/Anaconda3/envs/simmaster/lib/site-packages/pandas/core/apply.py?line=588'>589</a>\u001b[0m \u001b[39m# if we have a dict of any non-scalars\u001b[39;00m\n\u001b[0;32m    <a href='file:///c%3A/Users/hanna/Anaconda3/envs/simmaster/lib/site-packages/pandas/core/apply.py?line=589'>590</a>\u001b[0m \u001b[39m# eg. {'A' : ['mean']}, normalize all to\u001b[39;00m\n\u001b[0;32m    <a href='file:///c%3A/Users/hanna/Anaconda3/envs/simmaster/lib/site-packages/pandas/core/apply.py?line=590'>591</a>\u001b[0m \u001b[39m# be list-likes\u001b[39;00m\n\u001b[0;32m    <a href='file:///c%3A/Users/hanna/Anaconda3/envs/simmaster/lib/site-packages/pandas/core/apply.py?line=591'>592</a>\u001b[0m \u001b[39m# Cannot use func.values() because arg may be a Series\u001b[39;00m\n",
      "\u001b[1;31mKeyError\u001b[0m: \"Column(s) ['Cost plus Damage', 'Expected Annual Damage', 'Expected Number of Deaths'] do not exist\""
     ]
    }
   ],
   "source": [
    "# Create a Pandas GroupBy object\n",
    "group_df = df.groupby(by=\"policy\")\n",
    "\n",
    "# Create a list of statistical functions which are used\n",
    "agg_par = [\"mean\", \"min\", \"max\", q05, q95]\n",
    "\n",
    "# Create a dictionary with what outcome values are aggegrated with which functions\n",
    "agg_dict = {\n",
    "    \"Expected Number of Deaths\": agg_par,\n",
    "    \"Expected Annual Damage\": agg_par,\n",
    "    \"Total Costs\": \"mean\",\n",
    "    \"Cost plus Damage\": agg_par,\n",
    "}\n",
    "# Create new dataframe with the aggegrated data per policy\n",
    "TCA_df = group_df.agg(agg_dict)\n",
    "TCA_df"
   ]
  },
  {
   "cell_type": "code",
   "execution_count": null,
   "metadata": {
    "collapsed": false,
    "jupyter": {
     "outputs_hidden": false
    },
    "pycharm": {
     "name": "#%%\n"
    }
   },
   "outputs": [],
   "source": [
    "# Save the aggegrated data to a CSV file\n",
    "TCA_df.to_csv(f\"results/TCA_results_pf{used_problem_formulation}.csv\")"
   ]
  },
  {
   "cell_type": "code",
   "execution_count": null,
   "metadata": {},
   "outputs": [
    {
     "data": {
      "text/plain": [
       "MultiIndex([('Expected Number of Deaths', 'mean'),\n",
       "            ('Expected Number of Deaths',  'min'),\n",
       "            ('Expected Number of Deaths',  'max'),\n",
       "            ('Expected Number of Deaths',  'q05'),\n",
       "            ('Expected Number of Deaths',  'q95'),\n",
       "            (   'Expected Annual Damage', 'mean'),\n",
       "            (   'Expected Annual Damage',  'min'),\n",
       "            (   'Expected Annual Damage',  'max'),\n",
       "            (   'Expected Annual Damage',  'q05'),\n",
       "            (   'Expected Annual Damage',  'q95'),\n",
       "            (              'Total Costs', 'mean'),\n",
       "            (         'Cost plus Damage', 'mean'),\n",
       "            (         'Cost plus Damage',  'min'),\n",
       "            (         'Cost plus Damage',  'max'),\n",
       "            (         'Cost plus Damage',  'q05'),\n",
       "            (         'Cost plus Damage',  'q95')],\n",
       "           )"
      ]
     },
     "execution_count": 61,
     "metadata": {},
     "output_type": "execute_result"
    }
   ],
   "source": [
    "TCA_df.columns"
   ]
  },
  {
   "cell_type": "markdown",
   "metadata": {
    "pycharm": {
     "name": "#%% md\n"
    }
   },
   "source": [
    "### Plots\n",
    "\n",
    "TODO: Make make some nice Seaborn plots?"
   ]
  },
  {
   "cell_type": "code",
   "execution_count": null,
   "metadata": {
    "collapsed": false,
    "jupyter": {
     "outputs_hidden": false
    },
    "pycharm": {
     "name": "#%%\n"
    }
   },
   "outputs": [
    {
     "data": {
      "image/png": "[encoded data removed]",
      "text/plain": [
       "<Figure size 432x288 with 1 Axes>"
      ]
     },
     "metadata": {
      "needs_background": "light"
     },
     "output_type": "display_data"
    },
    {
     "data": {
      "text/plain": [
       "<Figure size 432x288 with 0 Axes>"
      ]
     },
     "metadata": {},
     "output_type": "display_data"
    }
   ],
   "source": [
    "#TCA_df[\"Expected Number of Deaths\"][\"mean\"].plot.bar()\n",
    "ND = sns.barplot(x= TCA_df.index , y = TCA_df[\"Expected Number of Deaths\"][\"mean\"], data = TCA_df)\n",
    "ND.set(title='Expected number of deaths')\n",
    "#ND.fig.suptitle('Expected number of deaths')\n",
    "plt.xticks(rotation=90)\n",
    "plt.show()\n",
    "plt.savefig('number of deaths.png')"
   ]
  },
  {
   "cell_type": "code",
   "execution_count": null,
   "metadata": {
    "collapsed": false,
    "jupyter": {
     "outputs_hidden": false
    },
    "pycharm": {
     "name": "#%%\n"
    }
   },
   "outputs": [
    {
     "data": {
      "image/png": "[encoded data removed]",
      "text/plain": [
       "<Figure size 432x288 with 1 Axes>"
      ]
     },
     "metadata": {
      "needs_background": "light"
     },
     "output_type": "display_data"
    },
    {
     "data": {
      "text/plain": [
       "<Figure size 432x288 with 0 Axes>"
      ]
     },
     "metadata": {},
     "output_type": "display_data"
    }
   ],
   "source": [
    "#TCA_df[\"Total Costs\"][\"mean\"].plot.bar()\n",
    "TC = sns.barplot(x= TCA_df.index , y = TCA_df[\"Total Costs\"][\"mean\"], data = TCA_df)\n",
    "TC.set(title='Total costs')\n",
    "plt.xticks(rotation=90)\n",
    "plt.show()\n",
    "plt.savefig('total costs.png')"
   ]
  },
  {
   "cell_type": "code",
   "execution_count": null,
   "metadata": {
    "collapsed": false,
    "jupyter": {
     "outputs_hidden": false
    },
    "pycharm": {
     "name": "#%%\n"
    }
   },
   "outputs": [
    {
     "data": {
      "image/png": "[encoded data removed]",
      "text/plain": [
       "<Figure size 432x288 with 1 Axes>"
      ]
     },
     "metadata": {
      "needs_background": "light"
     },
     "output_type": "display_data"
    },
    {
     "data": {
      "text/plain": [
       "<Figure size 432x288 with 0 Axes>"
      ]
     },
     "metadata": {},
     "output_type": "display_data"
    }
   ],
   "source": [
    "#TCA_df[\"Cost plus Damage\"][\"mean\"].plot.bar()\n",
    "CpD = sns.barplot(x= TCA_df.index , y = TCA_df[\"Cost plus Damage\"][\"mean\"], data = TCA_df)\n",
    "CpD.set(title='Cost plus damage')\n",
    "plt.xticks(rotation=90)\n",
    "plt.show()\n",
    "plt.savefig('cost plus damage.png')"
   ]
  },
  {
   "cell_type": "code",
   "execution_count": null,
   "metadata": {
    "collapsed": false,
    "jupyter": {
     "outputs_hidden": false
    },
    "pycharm": {
     "name": "#%%\n"
    }
   },
   "outputs": [],
   "source": []
  }
 ],
 "metadata": {
  "interpreter": {
   "hash": "bf2c32173ace6e8df916093214d79022fe1be3f368685e6950bae84362adba3d"
  },
  "kernelspec": {
   "display_name": "Python 3.9.6 ('simmaster')",
   "language": "python",
   "name": "python3"
  },
  "language_info": {
   "codemirror_mode": {
    "name": "ipython",
    "version": 3
   },
   "file_extension": ".py",
   "mimetype": "text/x-python",
   "name": "python",
   "nbconvert_exporter": "python",
   "pygments_lexer": "ipython3",
   "version": "3.9.6"
  }
 },
 "nbformat": 4,
 "nbformat_minor": 4
}
