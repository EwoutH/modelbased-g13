{
 "cells": [
  {
   "cell_type": "code",
   "execution_count": 1,
   "metadata": {},
   "outputs": [
    {
     "name": "stderr",
     "output_type": "stream",
     "text": [
      "C:\\Users\\Marnix Verhagen\\Anaconda\\lib\\site-packages\\ema_workbench\\analysis\\prim.py:30: ImportWarning: altair based interactive inspection not available\n",
      "  warnings.warn(\n"
     ]
    }
   ],
   "source": [
    "from dike_model_function import DikeNetwork\n",
    "from problem_formulation import get_model_for_problem_formulation\n",
    "from ema_workbench.analysis import prim\n",
    "import matplotlib.pyplot as plt\n",
    "import pandas as pd\n",
    "import seaborn as sns\n",
    "from ema_workbench import MultiprocessingEvaluator, ema_logging\n",
    "import pickle"
   ]
  },
  {
   "cell_type": "code",
   "execution_count": 2,
   "metadata": {},
   "outputs": [],
   "source": [
    "model, _ = get_model_for_problem_formulation(2)"
   ]
  },
  {
   "cell_type": "code",
   "execution_count": null,
   "metadata": {},
   "outputs": [
    {
     "name": "stderr",
     "output_type": "stream",
     "text": [
      "[MainProcess/INFO] pool started with 10 workers\n",
      "[MainProcess/INFO] performing 10000 scenarios * 10 policies * 1 model(s) = 100000 experiments\n",
      " 20%|██████▏                        | 19760/100000 [7:32:16<5:55:21,  3.76it/s]"
     ]
    }
   ],
   "source": [
    "from ema_workbench import Samplers\n",
    "\n",
    "ema_logging.log_to_stderr(ema_logging.INFO)\n",
    "\n",
    "n_scenarios = 10000 #In assignment 5 is at first 1000 used and later on for the dimensional stacking 10000. \n",
    "n_policies = 10 #Not sure if we have to go for 8 again here like in the earlier exploratory modeling\n",
    "\n",
    "use_pickle1 = False \n",
    "if use_pickle1:\n",
    "    with open('data/PRIM_results1.pickle','rb') as filehandler:\n",
    "        results = pickle.load(filehandler)\n",
    "else:\n",
    "    with MultiprocessingEvaluator(model,n_processes=10) as evaluator:\n",
    "        results = evaluator.perform_experiments(n_scenarios, n_policies, uncertainty_sampling=Samplers.LHS)\n",
    "    \n",
    "    with open('data/PRIM_results1.pickle',\"wb\") as filehandler:\n",
    "        pickle.dump(results,filehandler)"
   ]
  },
  {
   "cell_type": "code",
   "execution_count": null,
   "metadata": {},
   "outputs": [],
   "source": [
    "experiments, outcomes = results"
   ]
  },
  {
   "cell_type": "code",
   "execution_count": null,
   "metadata": {},
   "outputs": [],
   "source": [
    "cleaned_experiments = experiments.drop(['policy','scenario','model'],axis=1)\n",
    "# we drop 3 columns here"
   ]
  },
  {
   "cell_type": "code",
   "execution_count": null,
   "metadata": {},
   "outputs": [],
   "source": [
    "import numpy as np\n",
    "\n",
    "data = outcomes['Expected Number of Deaths']\n",
    "y = data < np.percentile(data,50) #Not sure which percentile we need to use\n",
    "###!!! Ook jan kwakkel heeft bij zijn analyse een y met true/false gemaakt\n",
    "###!!! Maar waarom ziet de prim grafiek er als een bijna rechte lijn uit"
   ]
  },
  {
   "cell_type": "code",
   "execution_count": null,
   "metadata": {},
   "outputs": [],
   "source": [
    "y"
   ]
  },
  {
   "cell_type": "code",
   "execution_count": null,
   "metadata": {},
   "outputs": [],
   "source": [
    "y.sum()\n"
   ]
  },
  {
   "cell_type": "code",
   "execution_count": null,
   "metadata": {},
   "outputs": [],
   "source": [
    "#threshold (float) – the density threshold that a box has to meet\n",
    "#Not sure which tresholds we need to use?\n",
    "prim_alg = prim.Prim(cleaned_experiments,y, threshold=0.8, peel_alpha=0.05) \n",
    "box1 = prim_alg.find_box()"
   ]
  },
  {
   "cell_type": "code",
   "execution_count": null,
   "metadata": {},
   "outputs": [],
   "source": [
    "box1.show_tradeoff()\n",
    "plt.show()"
   ]
  },
  {
   "cell_type": "code",
   "execution_count": null,
   "metadata": {},
   "outputs": [],
   "source": [
    "box1.inspect()\n",
    "box1.inspect(style='graph')\n",
    "plt.show()"
   ]
  },
  {
   "cell_type": "code",
   "execution_count": null,
   "metadata": {},
   "outputs": [],
   "source": [
    "from ema_workbench.analysis import dimensional_stacking"
   ]
  },
  {
   "cell_type": "code",
   "execution_count": null,
   "metadata": {},
   "outputs": [],
   "source": [
    "dimensional_stacking.create_pivot_plot(cleaned_experiments, y)\n",
    "plt.show()"
   ]
  },
  {
   "cell_type": "code",
   "execution_count": null,
   "metadata": {},
   "outputs": [],
   "source": []
  }
 ],
 "metadata": {
  "kernelspec": {
   "display_name": "Python 3 (ipykernel)",
   "language": "python",
   "name": "python3"
  },
  "language_info": {
   "codemirror_mode": {
    "name": "ipython",
    "version": 3
   },
   "file_extension": ".py",
   "mimetype": "text/x-python",
   "name": "python",
   "nbconvert_exporter": "python",
   "pygments_lexer": "ipython3",
   "version": "3.9.12"
  }
 },
 "nbformat": 4,
 "nbformat_minor": 4
}
