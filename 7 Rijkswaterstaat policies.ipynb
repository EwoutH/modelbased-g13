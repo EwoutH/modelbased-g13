{
 "cells": [
  {
   "cell_type": "markdown",
   "metadata": {
    "pycharm": {
     "name": "#%% md\n"
    }
   },
   "source": [
    "### Imports\n",
    "Import packages and load model parameters (uncertainties, levers, etc.)"
   ]
  },
  {
   "cell_type": "code",
   "execution_count": 1,
   "metadata": {
    "collapsed": false,
    "jupyter": {
     "outputs_hidden": false
    },
    "pycharm": {
     "name": "#%%\n"
    }
   },
   "outputs": [],
   "source": [
    "import numpy as np\n",
    "import scipy as sp\n",
    "import pandas as pd\n",
    "import matplotlib.pyplot as plt\n",
    "import seaborn as sns\n",
    "import networkx as nx\n",
    "import pickle"
   ]
  },
  {
   "cell_type": "code",
   "execution_count": 2,
   "metadata": {
    "collapsed": false,
    "jupyter": {
     "outputs_hidden": false
    },
    "pycharm": {
     "name": "#%%\n"
    }
   },
   "outputs": [
    {
     "name": "stdout",
     "output_type": "stream",
     "text": [
      "1.4.2\n",
      "2.8.3\n"
     ]
    }
   ],
   "source": [
    "# make sure pandas is version 1.0 or higher\n",
    "# make sure networkx is verion 2.4 or higher\n",
    "print(pd.__version__)\n",
    "print(nx.__version__)"
   ]
  },
  {
   "cell_type": "code",
   "execution_count": 3,
   "metadata": {
    "collapsed": false,
    "jupyter": {
     "outputs_hidden": false
    },
    "pycharm": {
     "name": "#%%\n"
    }
   },
   "outputs": [],
   "source": [
    "from ema_workbench import (\n",
    "    Model,\n",
    "    Policy,\n",
    "    ema_logging,\n",
    "    SequentialEvaluator,\n",
    "    MultiprocessingEvaluator,\n",
    ")\n",
    "from dike_model_function import DikeNetwork  # @UnresolvedImport\n",
    "from problem_formulation import get_model_for_problem_formulation\n",
    "\n",
    "\n",
    "def sum_over(*args):\n",
    "    return sum(args)"
   ]
  },
  {
   "cell_type": "code",
   "execution_count": 4,
   "metadata": {
    "collapsed": false,
    "jupyter": {
     "outputs_hidden": false
    },
    "pycharm": {
     "name": "#%%\n"
    }
   },
   "outputs": [
    {
     "data": {
      "text/plain": "<Logger EMA (DEBUG)>"
     },
     "execution_count": 4,
     "metadata": {},
     "output_type": "execute_result"
    }
   ],
   "source": [
    "# Enable logging\n",
    "ema_logging.log_to_stderr(ema_logging.INFO)"
   ]
  },
  {
   "cell_type": "markdown",
   "metadata": {
    "pycharm": {
     "name": "#%% md\n"
    }
   },
   "source": [
    "**Problem formulation**\n",
    "Important cell below, here you can choose the problem formulation number, between 0-5\n",
    "each problem formulation has its own list of outcomes"
   ]
  },
  {
   "cell_type": "code",
   "execution_count": 5,
   "metadata": {
    "collapsed": false,
    "jupyter": {
     "outputs_hidden": false
    },
    "pycharm": {
     "name": "#%%\n"
    }
   },
   "outputs": [],
   "source": [
    "used_problem_formulation = 3\n",
    "\n",
    "dike_model, planning_steps = get_model_for_problem_formulation(used_problem_formulation)"
   ]
  },
  {
   "cell_type": "code",
   "execution_count": 6,
   "metadata": {
    "collapsed": false,
    "jupyter": {
     "outputs_hidden": false
    },
    "pycharm": {
     "name": "#%%\n"
    }
   },
   "outputs": [],
   "source": [
    "# enlisting uncertainties, their types (RealParameter/IntegerParameter/CategoricalParameter), lower boundary, and upper boundary\n",
    "import copy\n",
    "\n",
    "#for unc in dike_model.uncertainties:\n",
    "#    print(repr(unc))\n",
    "\n",
    "uncertainties = copy.deepcopy(dike_model.uncertainties)"
   ]
  },
  {
   "cell_type": "code",
   "execution_count": 7,
   "metadata": {
    "collapsed": false,
    "jupyter": {
     "outputs_hidden": false
    },
    "pycharm": {
     "name": "#%%\n"
    }
   },
   "outputs": [],
   "source": [
    "# enlisting policy levers, their types (RealParameter/IntegerParameter), lower boundary, and upper boundary\n",
    "#for policy in dike_model.levers:\n",
    "#    print(repr(policy))\n",
    "\n",
    "levers = copy.deepcopy(dike_model.levers)"
   ]
  },
  {
   "cell_type": "code",
   "execution_count": 8,
   "metadata": {
    "collapsed": false,
    "jupyter": {
     "outputs_hidden": false
    },
    "pycharm": {
     "name": "#%%\n"
    }
   },
   "outputs": [],
   "source": [
    "# enlisting outcomes\n",
    "#for outcome in dike_model.outcomes:\n",
    "#    print(repr(outcome))"
   ]
  },
  {
   "cell_type": "markdown",
   "metadata": {
    "pycharm": {
     "name": "#%% md\n"
    }
   },
   "source": [
    "### Policy formulations\n",
    "In the following cells the wanted policies can be adjusted"
   ]
  },
  {
   "cell_type": "code",
   "execution_count": 9,
   "metadata": {
    "collapsed": false,
    "jupyter": {
     "outputs_hidden": false
    },
    "pycharm": {
     "name": "#%%\n"
    }
   },
   "outputs": [],
   "source": [
    "# Create a function which sets everything to 0 by default\n",
    "def get_0_dict():\n",
    "    return {l.name: 0 for l in dike_model.levers}\n",
    "\n",
    "# Creates a Policy object from a dict and a (optional) name\n",
    "def create_policy(dict1, name=None):\n",
    "    return Policy(f\"Policy_{name}\", **dict(get_0_dict(), **dict1))"
   ]
  },
  {
   "cell_type": "code",
   "execution_count": 10,
   "metadata": {
    "pycharm": {
     "name": "#%%\n"
    }
   },
   "outputs": [
    {
     "name": "stdout",
     "output_type": "stream",
     "text": [
      "{'0_RfR 0': 0, '0_RfR 1': 0, '0_RfR 2': 0, '1_RfR 0': 0, '1_RfR 1': 0, '1_RfR 2': 0, '2_RfR 0': 0, '2_RfR 1': 0, '2_RfR 2': 0, '3_RfR 0': 0, '3_RfR 1': 0, '3_RfR 2': 0, '4_RfR 0': 0, '4_RfR 1': 0, '4_RfR 2': 0, 'EWS_DaysToThreat': 0, 'A.1_DikeIncrease 0': 0, 'A.1_DikeIncrease 1': 0, 'A.1_DikeIncrease 2': 0, 'A.2_DikeIncrease 0': 0, 'A.2_DikeIncrease 1': 0, 'A.2_DikeIncrease 2': 0, 'A.3_DikeIncrease 0': 0, 'A.3_DikeIncrease 1': 0, 'A.3_DikeIncrease 2': 0, 'A.4_DikeIncrease 0': 0, 'A.4_DikeIncrease 1': 0, 'A.4_DikeIncrease 2': 0, 'A.5_DikeIncrease 0': 0, 'A.5_DikeIncrease 1': 0, 'A.5_DikeIncrease 2': 0}\n"
     ]
    }
   ],
   "source": [
    "print(get_0_dict())"
   ]
  },
  {
   "cell_type": "markdown",
   "metadata": {
    "pycharm": {
     "name": "#%% md\n"
    }
   },
   "source": [
    "In the following policies formulations:\n",
    "- `RfR` says if the Room for River projects are enabled (projects `0` to `5`). The first number indicated the project, the second (after `RfR`) if in which time step the measure it taken (currently `0` to `2`). The value can be either `0` (not enabled) or `1` (enabled).\n",
    "- `A.1` to `A.5` are the different dikes. `A.3` is the dike ring around Zutphen. The number after `DikeIncrease` is again the timestep, the value assigned to the thing the heightening in decimeters.\n",
    "- Early Warning Systems can also be enabled, with `EWS_DaysToThreat`, which specifies the early warning time in days.\n",
    "\n",
    "See the implementation in problem_formulation.py (starting from line 35) for more details."
   ]
  },
  {
   "cell_type": "code",
   "execution_count": 11,
   "metadata": {
    "collapsed": false,
    "jupyter": {
     "outputs_hidden": false
    },
    "pycharm": {
     "name": "#%%\n"
    }
   },
   "outputs": [],
   "source": [
    "# Create an empty list with policies\n",
    "pol_list = []\n",
    "\n",
    "# Add the Zero policy\n",
    "pol_list.append(create_policy({}, name=\"Zero\"))\n",
    "\n",
    "# Add the policy that Rijkswaterstaat proposed\n",
    "pol_list.append(create_policy({\"A.3_DikeIncrease 0\": 10, \"A.5_DikeIncrease 0\": 10, \"1_RfR 0\": 1, \"2_RfR 0\": 1, \"4_RfR 0\": 1, \"EWS_DaysToThreat\": 4}, name=f\"Rijkswaterstaat\"))\n",
    "\n",
    "# Add the policy Rijkswaterstaat proposed, but with also RfR in A.3\n",
    "pol_list.append(create_policy({\"A.3_DikeIncrease 0\": 10, \"A.5_DikeIncrease 0\": 10, \"1_RfR 0\": 1, \"2_RfR 0\": 1, \"3_RfR 0\": 1, \"4_RfR 0\": 1, \"EWS_DaysToThreat\": 4}, name=f\"Rijkswaterstaat+A.3RfR\"))"
   ]
  },
  {
   "cell_type": "markdown",
   "metadata": {
    "pycharm": {
     "name": "#%% md\n"
    }
   },
   "source": [
    "### Run the model (or load the data)\n",
    "In the next cell the model is ran (if `use_pickle1 = False`) and the new results data is saved, or, if `use_pickle1 = True`, the saved results data is loaded."
   ]
  },
  {
   "cell_type": "code",
   "execution_count": 12,
   "metadata": {
    "collapsed": false,
    "jupyter": {
     "outputs_hidden": false
    },
    "pycharm": {
     "name": "#%%\n"
    }
   },
   "outputs": [
    {
     "name": "stderr",
     "output_type": "stream",
     "text": [
      "[MainProcess/INFO] pool started with 3 workers\n",
      "[MainProcess/INFO] performing 125 scenarios * 3 policies * 1 model(s) = 375 experiments\n",
      "100%|████████████████████████████████████████| 375/375 [01:14<00:00,  5.01it/s]\n",
      "[MainProcess/INFO] experiments finished\n",
      "[MainProcess/INFO] terminating pool\n"
     ]
    }
   ],
   "source": [
    "# True, use results in pickle file; False, run MultiprocessingEvaluator\n",
    "use_pickle1 = True\n",
    "\n",
    "if use_pickle1:\n",
    "    with open('data/rijkswaterstaat_results.pickle', 'rb') as filehandler:\n",
    "        results = pickle.load(filehandler)\n",
    "\n",
    "else:\n",
    "    # pass the policies list to EMA workbench experiment runs\n",
    "    n_scenarios = 125\n",
    "    with MultiprocessingEvaluator(dike_model, n_processes=3) as evaluator:\n",
    "        results = evaluator.perform_experiments(n_scenarios, pol_list)\n",
    "\n",
    "    # Save results in Pickle file\n",
    "    with open('data/rijkswaterstaat_results.pickle', 'wb') as filehandler:\n",
    "        pickle.dump(results, filehandler)"
   ]
  },
  {
   "cell_type": "markdown",
   "metadata": {
    "pycharm": {
     "name": "#%% md\n"
    }
   },
   "source": [
    "### Process the results\n",
    "In this section a dataframe is generated with all the outcomes data, and aggegrated to mean, min, max and quantiles values for each policy."
   ]
  },
  {
   "cell_type": "code",
   "execution_count": 13,
   "metadata": {
    "collapsed": false,
    "jupyter": {
     "outputs_hidden": false
    },
    "pycharm": {
     "name": "#%%\n"
    }
   },
   "outputs": [
    {
     "data": {
      "text/plain": "   A.1 Total Costs  A.1_Expected Number of Deaths  A.2 Total Costs  \\\n0     2.311799e+09                       1.965783     4.294919e+07   \n1     0.000000e+00                       0.000000     3.488069e+08   \n2     0.000000e+00                       0.000000     5.878938e+07   \n3     1.307905e+07                       0.008918     2.163956e+07   \n4     4.169568e+08                       0.347407     0.000000e+00   \n\n   A.2_Expected Number of Deaths  A.3 Total Costs  \\\n0                       0.050925     7.843559e+07   \n1                       0.332611     0.000000e+00   \n2                       0.055093     2.141872e+09   \n3                       0.019865     2.241495e+09   \n4                       0.000000     5.843887e+08   \n\n   A.3_Expected Number of Deaths  A.4 Total Costs  \\\n0                       0.178013         0.000000   \n1                       0.000000         0.000000   \n2                       3.520135         0.000000   \n3                       3.509883    325756.348357   \n4                       1.220147    800765.101033   \n\n   A.4_Expected Number of Deaths  A.5 Total Costs  \\\n0                       0.000000     8.620930e+07   \n1                       0.000000     0.000000e+00   \n2                       0.000000     6.567188e+07   \n3                       0.000147     0.000000e+00   \n4                       0.000446     0.000000e+00   \n\n   A.5_Expected Number of Deaths  RfR Total Costs  Expected Evacuation Costs  \\\n0                       0.098701              0.0                        0.0   \n1                       0.000000              0.0                        0.0   \n2                       0.056895              0.0                        0.0   \n3                       0.000000              0.0                        0.0   \n4                       0.000000              0.0                        0.0   \n\n        policy  \n0  Policy_Zero  \n1  Policy_Zero  \n2  Policy_Zero  \n3  Policy_Zero  \n4  Policy_Zero  ",
      "text/html": "<div>\n<style scoped>\n    .dataframe tbody tr th:only-of-type {\n        vertical-align: middle;\n    }\n\n    .dataframe tbody tr th {\n        vertical-align: top;\n    }\n\n    .dataframe thead th {\n        text-align: right;\n    }\n</style>\n<table border=\"1\" class=\"dataframe\">\n  <thead>\n    <tr style=\"text-align: right;\">\n      <th></th>\n      <th>A.1 Total Costs</th>\n      <th>A.1_Expected Number of Deaths</th>\n      <th>A.2 Total Costs</th>\n      <th>A.2_Expected Number of Deaths</th>\n      <th>A.3 Total Costs</th>\n      <th>A.3_Expected Number of Deaths</th>\n      <th>A.4 Total Costs</th>\n      <th>A.4_Expected Number of Deaths</th>\n      <th>A.5 Total Costs</th>\n      <th>A.5_Expected Number of Deaths</th>\n      <th>RfR Total Costs</th>\n      <th>Expected Evacuation Costs</th>\n      <th>policy</th>\n    </tr>\n  </thead>\n  <tbody>\n    <tr>\n      <th>0</th>\n      <td>2.311799e+09</td>\n      <td>1.965783</td>\n      <td>4.294919e+07</td>\n      <td>0.050925</td>\n      <td>7.843559e+07</td>\n      <td>0.178013</td>\n      <td>0.000000</td>\n      <td>0.000000</td>\n      <td>8.620930e+07</td>\n      <td>0.098701</td>\n      <td>0.0</td>\n      <td>0.0</td>\n      <td>Policy_Zero</td>\n    </tr>\n    <tr>\n      <th>1</th>\n      <td>0.000000e+00</td>\n      <td>0.000000</td>\n      <td>3.488069e+08</td>\n      <td>0.332611</td>\n      <td>0.000000e+00</td>\n      <td>0.000000</td>\n      <td>0.000000</td>\n      <td>0.000000</td>\n      <td>0.000000e+00</td>\n      <td>0.000000</td>\n      <td>0.0</td>\n      <td>0.0</td>\n      <td>Policy_Zero</td>\n    </tr>\n    <tr>\n      <th>2</th>\n      <td>0.000000e+00</td>\n      <td>0.000000</td>\n      <td>5.878938e+07</td>\n      <td>0.055093</td>\n      <td>2.141872e+09</td>\n      <td>3.520135</td>\n      <td>0.000000</td>\n      <td>0.000000</td>\n      <td>6.567188e+07</td>\n      <td>0.056895</td>\n      <td>0.0</td>\n      <td>0.0</td>\n      <td>Policy_Zero</td>\n    </tr>\n    <tr>\n      <th>3</th>\n      <td>1.307905e+07</td>\n      <td>0.008918</td>\n      <td>2.163956e+07</td>\n      <td>0.019865</td>\n      <td>2.241495e+09</td>\n      <td>3.509883</td>\n      <td>325756.348357</td>\n      <td>0.000147</td>\n      <td>0.000000e+00</td>\n      <td>0.000000</td>\n      <td>0.0</td>\n      <td>0.0</td>\n      <td>Policy_Zero</td>\n    </tr>\n    <tr>\n      <th>4</th>\n      <td>4.169568e+08</td>\n      <td>0.347407</td>\n      <td>0.000000e+00</td>\n      <td>0.000000</td>\n      <td>5.843887e+08</td>\n      <td>1.220147</td>\n      <td>800765.101033</td>\n      <td>0.000446</td>\n      <td>0.000000e+00</td>\n      <td>0.000000</td>\n      <td>0.0</td>\n      <td>0.0</td>\n      <td>Policy_Zero</td>\n    </tr>\n  </tbody>\n</table>\n</div>"
     },
     "execution_count": 13,
     "metadata": {},
     "output_type": "execute_result"
    }
   ],
   "source": [
    "# Create a dataframe from outcomes, and add the policy column to it\n",
    "exp, out = results\n",
    "df = pd.DataFrame(out)\n",
    "df[\"policy\"] = pd.DataFrame(exp)[\"policy\"]\n",
    "df.head()"
   ]
  },
  {
   "cell_type": "code",
   "execution_count": 14,
   "metadata": {
    "collapsed": false,
    "jupyter": {
     "outputs_hidden": false
    },
    "pycharm": {
     "name": "#%%\n"
    }
   },
   "outputs": [],
   "source": [
    "# Define two functions to get the 5th and 95th quantiles\n",
    "def q05(x):\n",
    "    return x.quantile(0.05)\n",
    "\n",
    "def q95(x):\n",
    "    return x.quantile(0.95)"
   ]
  },
  {
   "cell_type": "code",
   "execution_count": 15,
   "metadata": {
    "collapsed": false,
    "jupyter": {
     "outputs_hidden": false
    },
    "pycharm": {
     "name": "#%%\n"
    }
   },
   "outputs": [
    {
     "data": {
      "text/plain": "                              A.3 Total Costs                              \\\n                                         mean           min           max   \npolicy                                                                      \nPolicy_Rijkswaterstaat           4.421502e+07  4.421502e+07  4.421502e+07   \nPolicy_Rijkswaterstaat+A.3RfR    4.421502e+07  4.421502e+07  4.421502e+07   \nPolicy_Zero                      4.624819e+08  0.000000e+00  2.390040e+09   \n\n                                                           \\\n                                        q05           q95   \npolicy                                                      \nPolicy_Rijkswaterstaat         4.421502e+07  4.421502e+07   \nPolicy_Rijkswaterstaat+A.3RfR  4.421502e+07  4.421502e+07   \nPolicy_Zero                    0.000000e+00  2.150191e+09   \n\n                              A.3_Expected Number of Deaths                 \\\n                                                       mean  min       max   \npolicy                                                                       \nPolicy_Rijkswaterstaat                             0.000000  0.0  0.000000   \nPolicy_Rijkswaterstaat+A.3RfR                      0.000000  0.0  0.000000   \nPolicy_Zero                                        0.810968  0.0  3.610309   \n\n                                             RfR Total Costs               \\\n                               q05       q95            mean          min   \npolicy                                                                      \nPolicy_Rijkswaterstaat         0.0  0.000000     504600000.0  504600000.0   \nPolicy_Rijkswaterstaat+A.3RfR  0.0  0.000000     625800000.0  625800000.0   \nPolicy_Zero                    0.0  3.542109             0.0          0.0   \n\n                                                                      \\\n                                       max          q05          q95   \npolicy                                                                 \nPolicy_Rijkswaterstaat         504600000.0  504600000.0  504600000.0   \nPolicy_Rijkswaterstaat+A.3RfR  625800000.0  625800000.0  625800000.0   \nPolicy_Zero                            0.0          0.0          0.0   \n\n                              Expected Evacuation Costs              \\\n                                                   mean         min   \npolicy                                                                \nPolicy_Rijkswaterstaat                     18753.520528  510.421598   \nPolicy_Rijkswaterstaat+A.3RfR              17059.185659  321.042042   \nPolicy_Zero                                    0.000000    0.000000   \n\n                                                                        \n                                        max          q05           q95  \npolicy                                                                  \nPolicy_Rijkswaterstaat         83918.774535  1268.099422  67051.775583  \nPolicy_Rijkswaterstaat+A.3RfR  83374.235095  1044.495206  64806.824090  \nPolicy_Zero                        0.000000     0.000000      0.000000  ",
      "text/html": "<div>\n<style scoped>\n    .dataframe tbody tr th:only-of-type {\n        vertical-align: middle;\n    }\n\n    .dataframe tbody tr th {\n        vertical-align: top;\n    }\n\n    .dataframe thead tr th {\n        text-align: left;\n    }\n\n    .dataframe thead tr:last-of-type th {\n        text-align: right;\n    }\n</style>\n<table border=\"1\" class=\"dataframe\">\n  <thead>\n    <tr>\n      <th></th>\n      <th colspan=\"5\" halign=\"left\">A.3 Total Costs</th>\n      <th colspan=\"5\" halign=\"left\">A.3_Expected Number of Deaths</th>\n      <th colspan=\"5\" halign=\"left\">RfR Total Costs</th>\n      <th colspan=\"5\" halign=\"left\">Expected Evacuation Costs</th>\n    </tr>\n    <tr>\n      <th></th>\n      <th>mean</th>\n      <th>min</th>\n      <th>max</th>\n      <th>q05</th>\n      <th>q95</th>\n      <th>mean</th>\n      <th>min</th>\n      <th>max</th>\n      <th>q05</th>\n      <th>q95</th>\n      <th>mean</th>\n      <th>min</th>\n      <th>max</th>\n      <th>q05</th>\n      <th>q95</th>\n      <th>mean</th>\n      <th>min</th>\n      <th>max</th>\n      <th>q05</th>\n      <th>q95</th>\n    </tr>\n    <tr>\n      <th>policy</th>\n      <th></th>\n      <th></th>\n      <th></th>\n      <th></th>\n      <th></th>\n      <th></th>\n      <th></th>\n      <th></th>\n      <th></th>\n      <th></th>\n      <th></th>\n      <th></th>\n      <th></th>\n      <th></th>\n      <th></th>\n      <th></th>\n      <th></th>\n      <th></th>\n      <th></th>\n      <th></th>\n    </tr>\n  </thead>\n  <tbody>\n    <tr>\n      <th>Policy_Rijkswaterstaat</th>\n      <td>4.421502e+07</td>\n      <td>4.421502e+07</td>\n      <td>4.421502e+07</td>\n      <td>4.421502e+07</td>\n      <td>4.421502e+07</td>\n      <td>0.000000</td>\n      <td>0.0</td>\n      <td>0.000000</td>\n      <td>0.0</td>\n      <td>0.000000</td>\n      <td>504600000.0</td>\n      <td>504600000.0</td>\n      <td>504600000.0</td>\n      <td>504600000.0</td>\n      <td>504600000.0</td>\n      <td>18753.520528</td>\n      <td>510.421598</td>\n      <td>83918.774535</td>\n      <td>1268.099422</td>\n      <td>67051.775583</td>\n    </tr>\n    <tr>\n      <th>Policy_Rijkswaterstaat+A.3RfR</th>\n      <td>4.421502e+07</td>\n      <td>4.421502e+07</td>\n      <td>4.421502e+07</td>\n      <td>4.421502e+07</td>\n      <td>4.421502e+07</td>\n      <td>0.000000</td>\n      <td>0.0</td>\n      <td>0.000000</td>\n      <td>0.0</td>\n      <td>0.000000</td>\n      <td>625800000.0</td>\n      <td>625800000.0</td>\n      <td>625800000.0</td>\n      <td>625800000.0</td>\n      <td>625800000.0</td>\n      <td>17059.185659</td>\n      <td>321.042042</td>\n      <td>83374.235095</td>\n      <td>1044.495206</td>\n      <td>64806.824090</td>\n    </tr>\n    <tr>\n      <th>Policy_Zero</th>\n      <td>4.624819e+08</td>\n      <td>0.000000e+00</td>\n      <td>2.390040e+09</td>\n      <td>0.000000e+00</td>\n      <td>2.150191e+09</td>\n      <td>0.810968</td>\n      <td>0.0</td>\n      <td>3.610309</td>\n      <td>0.0</td>\n      <td>3.542109</td>\n      <td>0.0</td>\n      <td>0.0</td>\n      <td>0.0</td>\n      <td>0.0</td>\n      <td>0.0</td>\n      <td>0.000000</td>\n      <td>0.000000</td>\n      <td>0.000000</td>\n      <td>0.000000</td>\n      <td>0.000000</td>\n    </tr>\n  </tbody>\n</table>\n</div>"
     },
     "execution_count": 15,
     "metadata": {},
     "output_type": "execute_result"
    }
   ],
   "source": [
    "# Create a Pandas GroupBy object\n",
    "group_df = df.groupby(by=\"policy\")\n",
    "\n",
    "# Create a list of statistical functions which are used\n",
    "agg_par = [\"mean\", \"min\", \"max\", q05, q95]\n",
    "\n",
    "# Create a dictionary with what outcome values are aggegrated with which functions\n",
    "agg_dict = {\n",
    "    \"A.3 Total Costs\": agg_par,\n",
    "    \"A.3_Expected Number of Deaths\": agg_par,\n",
    "    \"RfR Total Costs\": agg_par,\n",
    "    \"Expected Evacuation Costs\": agg_par,\n",
    "}\n",
    "# Create new dataframe with the aggegrated data per policy\n",
    "rws_df = group_df.agg(agg_dict)\n",
    "rws_df"
   ]
  },
  {
   "cell_type": "code",
   "execution_count": 16,
   "metadata": {
    "collapsed": false,
    "jupyter": {
     "outputs_hidden": false
    },
    "pycharm": {
     "name": "#%%\n"
    }
   },
   "outputs": [],
   "source": [
    "# Save the aggegrated data to a CSV file\n",
    "rws_df.to_csv(f\"results/rijkswaterstaat_policies.csv\")"
   ]
  },
  {
   "cell_type": "code",
   "execution_count": 17,
   "metadata": {
    "pycharm": {
     "name": "#%%\n"
    }
   },
   "outputs": [
    {
     "data": {
      "text/plain": "FrozenList([None, None])"
     },
     "execution_count": 17,
     "metadata": {},
     "output_type": "execute_result"
    }
   ],
   "source": [
    "rws_df.columns.names"
   ]
  },
  {
   "cell_type": "markdown",
   "metadata": {
    "pycharm": {
     "name": "#%% md\n"
    }
   },
   "source": [
    "### Plots\n",
    "\n",
    "TODO: Make make some nice Seaborn plots?"
   ]
  },
  {
   "cell_type": "code",
   "execution_count": 18,
   "metadata": {
    "collapsed": false,
    "jupyter": {
     "outputs_hidden": false
    },
    "pycharm": {
     "name": "#%%\n"
    }
   },
   "outputs": [
    {
     "data": {
      "text/plain": "<Figure size 432x288 with 1 Axes>",
      "image/png": "[encoded data removed]"
     },
     "metadata": {
      "needs_background": "light"
     },
     "output_type": "display_data"
    },
    {
     "data": {
      "text/plain": "<Figure size 432x288 with 0 Axes>"
     },
     "metadata": {},
     "output_type": "display_data"
    }
   ],
   "source": [
    "#rws_df[\"Expected Number of Deaths\"][\"mean\"].plot.bar()\n",
    "ND = sns.barplot(x= rws_df.index , y = rws_df[\"A.3_Expected Number of Deaths\"][\"mean\"], data = rws_df)\n",
    "ND.set(title='A.3 Expected number of deaths (mean)')\n",
    "#ND.fig.suptitle('Expected number of deaths')\n",
    "plt.xticks(rotation=90)\n",
    "plt.show()\n",
    "plt.savefig('images/RWS_A3_number_of_deaths.png')"
   ]
  },
  {
   "cell_type": "code",
   "execution_count": 19,
   "outputs": [
    {
     "data": {
      "text/plain": "<Figure size 432x288 with 1 Axes>",
      "image/png": "[encoded data removed]"
     },
     "metadata": {
      "needs_background": "light"
     },
     "output_type": "display_data"
    },
    {
     "data": {
      "text/plain": "<Figure size 432x288 with 0 Axes>"
     },
     "metadata": {},
     "output_type": "display_data"
    }
   ],
   "source": [
    "#rws_df[\"Total Costs\"][\"mean\"].plot.bar()\n",
    "TC = sns.barplot(x= rws_df.index , y = rws_df[\"A.3 Total Costs\"][\"mean\"], data = rws_df)\n",
    "TC.set(title='A.3 Total costs (mean)')\n",
    "plt.xticks(rotation=90)\n",
    "plt.show()\n",
    "plt.savefig('images/RWS_A3_total_costs.png')"
   ],
   "metadata": {
    "collapsed": false,
    "pycharm": {
     "name": "#%%\n"
    }
   }
  }
 ],
 "metadata": {
  "interpreter": {
   "hash": "6fd914e18bfa8d7647c3cf90e7a007e50e832e4a27cecf06ee50e35679d106a4"
  },
  "kernelspec": {
   "display_name": "Python 3 (ipykernel)",
   "language": "python",
   "name": "python3"
  },
  "language_info": {
   "codemirror_mode": {
    "name": "ipython",
    "version": 3
   },
   "file_extension": ".py",
   "mimetype": "text/x-python",
   "name": "python",
   "nbconvert_exporter": "python",
   "pygments_lexer": "ipython3",
   "version": "3.9.7"
  }
 },
 "nbformat": 4,
 "nbformat_minor": 4
}