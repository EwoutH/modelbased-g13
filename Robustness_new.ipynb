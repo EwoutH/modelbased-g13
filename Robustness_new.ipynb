{
 "cells": [
  {
   "cell_type": "code",
   "execution_count": null,
   "id": "e134e200-17c9-436a-a2a2-79943cdce26c",
   "metadata": {},
   "outputs": [],
   "source": [
    "import numpy as np\n",
    "import pandas as pd\n",
    "import seaborn as sns\n",
    "import pickle\n",
    "import matplotlib.pyplot as plt\n",
    "import functools"
   ]
  },
  {
   "cell_type": "code",
   "execution_count": null,
   "id": "666e1b43-af2b-4149-a1b1-7eca380b1b60",
   "metadata": {},
   "outputs": [],
   "source": [
    "from ema_workbench import ema_logging, MultiprocessingEvaluator, SequentialEvaluator, Samplers"
   ]
  },
  {
   "cell_type": "code",
   "execution_count": null,
   "id": "74646cf7-4634-4dd4-ba26-d27642e043cd",
   "metadata": {},
   "outputs": [],
   "source": [
    "def robustness(direction, threshold, data):\n",
    "    if direction == SMALLER:\n",
    "        return np.sum(data<=threshold)/data.shape[0]\n",
    "    else:\n",
    "        return np.sum(data>=threshold)/data.shape[0]\n",
    "\n",
    "SMALLER = 'SMALLER'\n",
    "\n",
    "def costs(data):\n",
    "    return data[0]/1e9 # makes numbers nicer\n",
    "\n",
    "Expected_Number_of_Deaths = functools.partial(robustness, SMALLER, 0.001) #not ok\n",
    "Expected_Annual_Damage = functools.partial(robustness, SMALLER, 80e6) #THOSE NUMBERS NEED TO BE SPECIFIED AGAIN\n",
    "Total_Investment_Costs = costs #THOSE NUMBERS NEED TO BE SPECIFIED AGAIN"
   ]
  },
  {
   "cell_type": "code",
   "execution_count": null,
   "id": "a077a84a-b304-40b6-b7b1-f0c517e238e9",
   "metadata": {},
   "outputs": [],
   "source": [
    "from problem_formulation import get_model_for_problem_formulation\n",
    "\n",
    "model, _ = get_model_for_problem_formulation(1)"
   ]
  },
  {
   "cell_type": "code",
   "execution_count": null,
   "id": "62491a3b-e348-4056-81be-d7b55efb5d83",
   "metadata": {},
   "outputs": [],
   "source": [
    "ema_logging.log_to_stderr(ema_logging.INFO)"
   ]
  },
  {
   "cell_type": "code",
   "execution_count": null,
   "id": "9ddf4cf3-eaf0-4ea9-b15c-037d4f84a6c6",
   "metadata": {},
   "outputs": [],
   "source": [
    "# enlisting uncertainties, their types (RealParameter/IntegerParameter/CategoricalParameter), lower boundary, and upper boundary\n",
    "import copy\n",
    "\n",
    "for unc in model.uncertainties:\n",
    "    print(repr(unc))\n",
    "\n",
    "uncertainties = copy.deepcopy(model.uncertainties)"
   ]
  },
  {
   "cell_type": "code",
   "execution_count": null,
   "id": "0a5bd5fa-5e51-4a7f-b592-175e8e91340a",
   "metadata": {},
   "outputs": [],
   "source": [
    "from ema_workbench import (Model, CategoricalParameter,\n",
    "                           ScalarOutcome, IntegerParameter, RealParameter)\n",
    "\n",
    "from ema_workbench.em_framework.optimization import EpsilonProgress"
   ]
  },
  {
   "cell_type": "code",
   "execution_count": null,
   "id": "cdd235c4-b57a-4ecc-990c-7f519b8964f2",
   "metadata": {},
   "outputs": [],
   "source": [
    "from ema_workbench.em_framework import sample_uncertainties\n",
    "n_scenarios = 10\n",
    "scenarios = sample_uncertainties(model, n_scenarios)\n",
    "nfe = int(50000)  # Original value: 1000"
   ]
  },
  {
   "cell_type": "code",
   "execution_count": null,
   "id": "115bf330-4345-4de3-81d3-72b1ff0e64c6",
   "metadata": {},
   "outputs": [],
   "source": [
    "\n",
    "MAXIMIZE = ScalarOutcome.MAXIMIZE\n",
    "MINIMIZE = ScalarOutcome.MINIMIZE\n",
    "\n",
    "funcs = {'Expected Number of Deaths':Expected_Number_of_Deaths,\n",
    "         'Expected Annual Damage': Expected_Annual_Damage,\n",
    "         'Total Investment Costs': Total_Investment_Costs}\n",
    "\n",
    "robustnes_functions = [ScalarOutcome('Expected Number of Deaths', kind=MINIMIZE,\n",
    "                                     function=Expected_Number_of_Deaths),\n",
    "                       ScalarOutcome('Expected Annual Damage', kind=MINIMIZE,\n",
    "                                     function=Expected_Annual_Damage),\n",
    "                       ScalarOutcome('Total Investment Costs', kind=MINIMIZE,\n",
    "                                     function=Total_Investment_Costs),\n",
    "                      ]\n",
    "use_pickle4 = False\n",
    "if use_pickle4:\n",
    "    with open('data/moro_results4.pickle', 'rb') as filehandler:\n",
    "        results4 = pickle.load(filehandler)\n",
    "else:\n",
    "    # we have to change the plausible max for total investment costs\n",
    "    convergence = [EpsilonProgress()]\n",
    "\n",
    "    epsilons=[0.05,]*len(robustnes_functions)  #final value of epsilon should be much lower.Just for experiment purposes is 1\n",
    "    with MultiprocessingEvaluator(model) as evaluator:\n",
    "        results4 = evaluator.robust_optimize(robustnes_functions, scenarios, nfe=nfe,\n",
    "                                                         convergence=convergence, epsilons=epsilons)\n",
    "    # Save results in Pickle file\n",
    "    with open(\"data/moro_results4.pickle\",\"wb\") as filehandler:\n",
    "        pickle.dump(results4, filehandler)\n",
    "archive, convergence = results4"
   ]
  },
  {
   "cell_type": "code",
   "execution_count": null,
   "id": "df322ffd-d3ed-4c36-aa0d-f4c4edea63e3",
   "metadata": {},
   "outputs": [],
   "source": [
    "from ema_workbench.analysis import parcoords\n",
    "\n",
    "data = archive.loc[:, [o.name for o in robustnes_functions]]\n",
    "limits = parcoords.get_limits(data)\n",
    "limits.loc[0, :] = 0\n",
    "limits.loc[1, :] = 1.5\n",
    "\n",
    "paraxes = parcoords.ParallelAxes(limits)\n",
    "paraxes.plot(data)\n",
    "plt.show()"
   ]
  },
  {
   "cell_type": "code",
   "execution_count": null,
   "id": "6822ad52-7330-4069-acb7-9cd541014442",
   "metadata": {},
   "outputs": [],
   "source": [
    "fig, ax = plt.subplots()\n",
    "ax.plot(convergence.nfe, convergence.epsilon_progress)\n",
    "ax.set_ylabel('$\\epsilon$-progress')\n",
    "\n",
    "ax.set_xlabel('number of function evaluations')\n",
    "plt.show()"
   ]
  }
 ],
 "metadata": {
  "kernelspec": {
   "display_name": "Python 3",
   "language": "python",
   "name": "python3"
  },
  "language_info": {
   "codemirror_mode": {
    "name": "ipython",
    "version": 3
   },
   "file_extension": ".py",
   "mimetype": "text/x-python",
   "name": "python",
   "nbconvert_exporter": "python",
   "pygments_lexer": "ipython3",
   "version": "3.8.8"
  }
 },
 "nbformat": 4,
 "nbformat_minor": 5
}
