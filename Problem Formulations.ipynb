{
 "cells": [
  {
   "cell_type": "markdown",
   "source": [],
   "metadata": {
    "collapsed": false,
    "pycharm": {
     "name": "#%% md\n"
    }
   }
  },
  {
   "cell_type": "markdown",
   "source": [
    "### Imports\n",
    "Import packages and load model parameters (uncertainties, levers, etc.)"
   ],
   "metadata": {
    "collapsed": false,
    "pycharm": {
     "name": "#%% md\n"
    }
   }
  },
  {
   "cell_type": "code",
   "execution_count": 19,
   "outputs": [],
   "source": [
    "import numpy as np\n",
    "import scipy as sp\n",
    "import pandas as pd\n",
    "import matplotlib.pyplot as plt\n",
    "import seaborn as sns\n",
    "import networkx as nx\n",
    "import pickle"
   ],
   "metadata": {
    "collapsed": false,
    "pycharm": {
     "name": "#%%\n"
    }
   }
  },
  {
   "cell_type": "code",
   "execution_count": 20,
   "outputs": [
    {
     "name": "stdout",
     "output_type": "stream",
     "text": [
      "1.4.2\n",
      "2.8.2\n"
     ]
    }
   ],
   "source": [
    "# make sure pandas is version 1.0 or higher\n",
    "# make sure networkx is verion 2.4 or higher\n",
    "print(pd.__version__)\n",
    "print(nx.__version__)"
   ],
   "metadata": {
    "collapsed": false,
    "pycharm": {
     "name": "#%%\n"
    }
   }
  },
  {
   "cell_type": "code",
   "execution_count": 21,
   "outputs": [],
   "source": [
    "from ema_workbench import (\n",
    "    Model,\n",
    "    Policy,\n",
    "    ema_logging,\n",
    "    SequentialEvaluator,\n",
    "    MultiprocessingEvaluator,\n",
    ")\n",
    "from dike_model_function import DikeNetwork  # @UnresolvedImport\n",
    "from problem_formulation import get_model_for_problem_formulation\n",
    "\n",
    "\n",
    "def sum_over(*args):\n",
    "    return sum(args)"
   ],
   "metadata": {
    "collapsed": false,
    "pycharm": {
     "name": "#%%\n"
    }
   }
  },
  {
   "cell_type": "code",
   "execution_count": 22,
   "outputs": [
    {
     "data": {
      "text/plain": "<Logger EMA (DEBUG)>"
     },
     "execution_count": 22,
     "metadata": {},
     "output_type": "execute_result"
    }
   ],
   "source": [
    "# Enable logging\n",
    "ema_logging.log_to_stderr(ema_logging.INFO)"
   ],
   "metadata": {
    "collapsed": false,
    "pycharm": {
     "name": "#%%\n"
    }
   }
  },
  {
   "cell_type": "markdown",
   "source": [
    "**Problem formulation**\n",
    "Important cell below, here you can choose the problem formulation number, between 0-5\n",
    "each problem formulation has its own list of outcomes"
   ],
   "metadata": {
    "collapsed": false,
    "pycharm": {
     "name": "#%% md\n"
    }
   }
  },
  {
   "cell_type": "code",
   "execution_count": 23,
   "outputs": [],
   "source": [
    "used_problem_formulation = 2\n",
    "\n",
    "dike_model, planning_steps = get_model_for_problem_formulation(used_problem_formulation)"
   ],
   "metadata": {
    "collapsed": false,
    "pycharm": {
     "name": "#%%\n"
    }
   }
  },
  {
   "cell_type": "code",
   "execution_count": 24,
   "outputs": [
    {
     "name": "stdout",
     "output_type": "stream",
     "text": [
      "CategoricalParameter('discount rate 0', [0, 1, 2, 3])\n",
      "CategoricalParameter('discount rate 1', [0, 1, 2, 3])\n",
      "CategoricalParameter('discount rate 2', [0, 1, 2, 3])\n",
      "<ema_workbench.em_framework.parameters.IntegerParameter object at 0x0000017D0BE43E20>\n",
      "<ema_workbench.em_framework.parameters.RealParameter object at 0x0000017D0BE45CA0>\n",
      "<ema_workbench.em_framework.parameters.RealParameter object at 0x0000017D0BEAE520>\n",
      "CategoricalParameter('A.1_Brate', [0, 1, 2])\n",
      "<ema_workbench.em_framework.parameters.RealParameter object at 0x0000017D0BEAD490>\n",
      "<ema_workbench.em_framework.parameters.RealParameter object at 0x0000017D0BEAE760>\n",
      "CategoricalParameter('A.2_Brate', [0, 1, 2])\n",
      "<ema_workbench.em_framework.parameters.RealParameter object at 0x0000017D0BEADD60>\n",
      "<ema_workbench.em_framework.parameters.RealParameter object at 0x0000017D0BE8C7C0>\n",
      "CategoricalParameter('A.3_Brate', [0, 1, 2])\n",
      "<ema_workbench.em_framework.parameters.RealParameter object at 0x0000017D0BE98C70>\n",
      "<ema_workbench.em_framework.parameters.RealParameter object at 0x0000017D0BE90A60>\n",
      "CategoricalParameter('A.4_Brate', [0, 1, 2])\n",
      "<ema_workbench.em_framework.parameters.RealParameter object at 0x0000017D0BE90670>\n",
      "<ema_workbench.em_framework.parameters.RealParameter object at 0x0000017D0BE9B220>\n",
      "CategoricalParameter('A.5_Brate', [0, 1, 2])\n"
     ]
    }
   ],
   "source": [
    "# enlisting uncertainties, their types (RealParameter/IntegerParameter/CategoricalParameter), lower boundary, and upper boundary\n",
    "import copy\n",
    "\n",
    "for unc in dike_model.uncertainties:\n",
    "    print(repr(unc))\n",
    "\n",
    "uncertainties = copy.deepcopy(dike_model.uncertainties)"
   ],
   "metadata": {
    "collapsed": false,
    "pycharm": {
     "name": "#%%\n"
    }
   }
  },
  {
   "cell_type": "code",
   "execution_count": 25,
   "outputs": [
    {
     "name": "stdout",
     "output_type": "stream",
     "text": [
      "<ema_workbench.em_framework.parameters.IntegerParameter object at 0x0000017D0BE3FA30>\n",
      "<ema_workbench.em_framework.parameters.IntegerParameter object at 0x0000017D0BE43070>\n",
      "<ema_workbench.em_framework.parameters.IntegerParameter object at 0x0000017D0BE3F250>\n",
      "<ema_workbench.em_framework.parameters.IntegerParameter object at 0x0000017D0BE45820>\n",
      "<ema_workbench.em_framework.parameters.IntegerParameter object at 0x0000017D0BE4DF10>\n",
      "<ema_workbench.em_framework.parameters.IntegerParameter object at 0x0000017D0BE45640>\n",
      "<ema_workbench.em_framework.parameters.IntegerParameter object at 0x0000017D0BE4D880>\n",
      "<ema_workbench.em_framework.parameters.IntegerParameter object at 0x0000017D0BE45B50>\n",
      "<ema_workbench.em_framework.parameters.IntegerParameter object at 0x0000017D0BE4DE20>\n",
      "<ema_workbench.em_framework.parameters.IntegerParameter object at 0x0000017D0BE98DF0>\n",
      "<ema_workbench.em_framework.parameters.IntegerParameter object at 0x0000017D0BE4DBE0>\n",
      "<ema_workbench.em_framework.parameters.IntegerParameter object at 0x0000017D0BE985B0>\n",
      "<ema_workbench.em_framework.parameters.IntegerParameter object at 0x0000017D0BE3F2B0>\n",
      "<ema_workbench.em_framework.parameters.IntegerParameter object at 0x0000017D0BE98B20>\n",
      "<ema_workbench.em_framework.parameters.IntegerParameter object at 0x0000017D0BE65670>\n",
      "<ema_workbench.em_framework.parameters.IntegerParameter object at 0x0000017D0BE3F400>\n",
      "<ema_workbench.em_framework.parameters.IntegerParameter object at 0x0000017D0BEAEB20>\n",
      "<ema_workbench.em_framework.parameters.IntegerParameter object at 0x0000017D0BEAD190>\n",
      "<ema_workbench.em_framework.parameters.IntegerParameter object at 0x0000017D0BEAE640>\n",
      "<ema_workbench.em_framework.parameters.IntegerParameter object at 0x0000017D0BE8C190>\n",
      "<ema_workbench.em_framework.parameters.IntegerParameter object at 0x0000017D0BEADBE0>\n",
      "<ema_workbench.em_framework.parameters.IntegerParameter object at 0x0000017D0BE8C280>\n",
      "<ema_workbench.em_framework.parameters.IntegerParameter object at 0x0000017D0BE90400>\n",
      "<ema_workbench.em_framework.parameters.IntegerParameter object at 0x0000017D0BE45C70>\n",
      "<ema_workbench.em_framework.parameters.IntegerParameter object at 0x0000017D0BE90550>\n",
      "<ema_workbench.em_framework.parameters.IntegerParameter object at 0x0000017D0BE90DF0>\n",
      "<ema_workbench.em_framework.parameters.IntegerParameter object at 0x0000017D0BE8E670>\n",
      "<ema_workbench.em_framework.parameters.IntegerParameter object at 0x0000017D0BE90610>\n",
      "<ema_workbench.em_framework.parameters.IntegerParameter object at 0x0000017D0BE9B670>\n",
      "<ema_workbench.em_framework.parameters.IntegerParameter object at 0x0000017D0BE8E070>\n",
      "<ema_workbench.em_framework.parameters.IntegerParameter object at 0x0000017D0BE9BB20>\n"
     ]
    }
   ],
   "source": [
    "# enlisting policy levers, their types (RealParameter/IntegerParameter), lower boundary, and upper boundary\n",
    "for policy in dike_model.levers:\n",
    "    print(repr(policy))\n",
    "\n",
    "levers = copy.deepcopy(dike_model.levers)"
   ],
   "metadata": {
    "collapsed": false,
    "pycharm": {
     "name": "#%%\n"
    }
   }
  },
  {
   "cell_type": "code",
   "execution_count": 26,
   "outputs": [
    {
     "name": "stdout",
     "output_type": "stream",
     "text": [
      "ScalarOutcome('Expected Annual Damage', variable_name=('A.1_Expected Annual Damage 0', 'A.2_Expected Annual Damage 0', 'A.3_Expected Annual Damage 0', 'A.4_Expected Annual Damage 0', 'A.5_Expected Annual Damage 0', 'A.1_Expected Annual Damage 1', 'A.2_Expected Annual Damage 1', 'A.3_Expected Annual Damage 1', 'A.4_Expected Annual Damage 1', 'A.5_Expected Annual Damage 1', 'A.1_Expected Annual Damage 2', 'A.2_Expected Annual Damage 2', 'A.3_Expected Annual Damage 2', 'A.4_Expected Annual Damage 2', 'A.5_Expected Annual Damage 2'), function=<function sum_over at 0x0000017D07A23E50>)\n",
      "ScalarOutcome('Dike Investment Costs', variable_name=('A.1_Dike Investment Costs 0', 'A.2_Dike Investment Costs 0', 'A.3_Dike Investment Costs 0', 'A.4_Dike Investment Costs 0', 'A.5_Dike Investment Costs 0', 'A.1_Dike Investment Costs 1', 'A.2_Dike Investment Costs 1', 'A.3_Dike Investment Costs 1', 'A.4_Dike Investment Costs 1', 'A.5_Dike Investment Costs 1', 'A.1_Dike Investment Costs 2', 'A.2_Dike Investment Costs 2', 'A.3_Dike Investment Costs 2', 'A.4_Dike Investment Costs 2', 'A.5_Dike Investment Costs 2'), function=<function sum_over at 0x0000017D07A23E50>)\n",
      "ScalarOutcome('RfR Investment Costs', variable_name=('RfR Total Costs 0', 'RfR Total Costs 1', 'RfR Total Costs 2'), function=<function sum_over at 0x0000017D07A23E50>)\n",
      "ScalarOutcome('Evacuation Costs', variable_name=('Expected Evacuation Costs 0', 'Expected Evacuation Costs 1', 'Expected Evacuation Costs 2'), function=<function sum_over at 0x0000017D07A23E50>)\n",
      "ScalarOutcome('Expected Number of Deaths', variable_name=('A.1_Expected Number of Deaths 0', 'A.2_Expected Number of Deaths 0', 'A.3_Expected Number of Deaths 0', 'A.4_Expected Number of Deaths 0', 'A.5_Expected Number of Deaths 0', 'A.1_Expected Number of Deaths 1', 'A.2_Expected Number of Deaths 1', 'A.3_Expected Number of Deaths 1', 'A.4_Expected Number of Deaths 1', 'A.5_Expected Number of Deaths 1', 'A.1_Expected Number of Deaths 2', 'A.2_Expected Number of Deaths 2', 'A.3_Expected Number of Deaths 2', 'A.4_Expected Number of Deaths 2', 'A.5_Expected Number of Deaths 2'), function=<function sum_over at 0x0000017D07A23E50>)\n"
     ]
    }
   ],
   "source": [
    "# enlisting outcomes\n",
    "for outcome in dike_model.outcomes:\n",
    "    print(repr(outcome))"
   ],
   "metadata": {
    "collapsed": false,
    "pycharm": {
     "name": "#%%\n"
    }
   }
  },
  {
   "cell_type": "markdown",
   "source": [
    "### Policy formulations\n",
    "In the following cells the wanted policies can be adjusted"
   ],
   "metadata": {
    "collapsed": false,
    "pycharm": {
     "name": "#%% md\n"
    }
   }
  },
  {
   "cell_type": "code",
   "execution_count": 27,
   "outputs": [],
   "source": [
    "# Create a function which sets everything to 0 by default\n",
    "def get_0_dict():\n",
    "    return {l.name: 0 for l in dike_model.levers}\n",
    "\n",
    "# Creates a Policy object from a dict and a (optional) name\n",
    "def create_policy(dict1, name=None):\n",
    "    return Policy(f\"Policy_{name}\", **dict(get_0_dict(), **dict1))"
   ],
   "metadata": {
    "collapsed": false,
    "pycharm": {
     "name": "#%%\n"
    }
   }
  },
  {
   "cell_type": "markdown",
   "source": [
    "In the following policies formulations:\n",
    "- `RfR` says if the Room for River projects are enabled (projects `0` to `5`). The first number indicated the project, the second (after `RfR`) if in which time step the measure it taken (currently `0` to `2`). The value can be either `0` (not enabled) or `1` (enabled).\n",
    "- `A.1` to `A.5` are the different dikes. `A.3` is the dike ring around Zutphen. The number after `DikeIncrease` is again the timestep, the value assigned to the thing the heightening in decimeters.\n",
    "- Early Warning Systems can also be enabled, with `EWS_DaysToThreat`, which specifies the early warning time in days.\n",
    "\n",
    "See the implementation in problem_formulation.py (starting from line 35) for more details."
   ],
   "metadata": {
    "collapsed": false,
    "pycharm": {
     "name": "#%% md\n"
    }
   }
  },
  {
   "cell_type": "code",
   "execution_count": 28,
   "outputs": [],
   "source": [
    "pol_list = []\n",
    "pol_list.append(create_policy({}, name=\"Zero\"))\n",
    "\n",
    "for dm in [1, 10]:\n",
    "    for location in [0, 1, 2, 3, 4]:\n",
    "        for ews_days in [2, 4]:\n",
    "            pol_list.append(create_policy({\"A.3_DikeIncrease 0\": dm, f\"{location}_RfR 0\": 1, \"EWS_DaysToThreat\": ews_days},\n",
    "                                          name=f\"Dike_{dm}dm_RfR_{location}_EWS_{ews_days}d\"))\n"
   ],
   "metadata": {
    "collapsed": false,
    "pycharm": {
     "name": "#%%\n"
    }
   }
  },
  {
   "cell_type": "markdown",
   "source": [
    "### Run the model (or load the data)\n",
    "In the next cell the model is ran (if `use_pickle1 = False`) and the new results data is saved, or, if `use_pickle1 = True`, the saved results data is loaded."
   ],
   "metadata": {
    "collapsed": false,
    "pycharm": {
     "name": "#%% md\n"
    }
   }
  },
  {
   "cell_type": "code",
   "execution_count": 29,
   "outputs": [
    {
     "name": "stderr",
     "output_type": "stream",
     "text": [
      "[MainProcess/INFO] pool started with 3 workers\n",
      "[MainProcess/INFO] performing 25 scenarios * 20 policies * 1 model(s) = 500 experiments\n",
      "100%|████████████████████████████████████████| 500/500 [01:40<00:00,  4.98it/s]\n",
      "[MainProcess/INFO] experiments finished\n",
      "[MainProcess/INFO] terminating pool\n"
     ]
    }
   ],
   "source": [
    "# True, use results in pickle file; False, run MultiprocessingEvaluator\n",
    "use_pickle1 = True\n",
    "\n",
    "if use_pickle1:\n",
    "    with open('data/formulation_results.pickle', 'rb') as filehandler:\n",
    "        results = pickle.load(filehandler)\n",
    "\n",
    "else:\n",
    "    # pass the policies list to EMA workbench experiment runs\n",
    "    n_scenarios = 25\n",
    "    with MultiprocessingEvaluator(dike_model) as evaluator:\n",
    "        results = evaluator.perform_experiments(n_scenarios, pol_list)\n",
    "\n",
    "    # Save results in Pickle file\n",
    "    with open('data/formulation_results.pickle', 'wb') as filehandler:\n",
    "        pickle.dump(results, filehandler)"
   ],
   "metadata": {
    "collapsed": false,
    "pycharm": {
     "name": "#%%\n"
    }
   }
  },
  {
   "cell_type": "markdown",
   "source": [
    "### Process the results\n",
    "In this section a dataframe is generated with all the outcomes data, and aggegrated to mean, min, max and quantiles values for each policy."
   ],
   "metadata": {
    "collapsed": false,
    "pycharm": {
     "name": "#%% md\n"
    }
   }
  },
  {
   "cell_type": "code",
   "execution_count": 30,
   "outputs": [
    {
     "data": {
      "text/plain": "     Expected Annual Damage  Dike Investment Costs  RfR Investment Costs  \\\n0              2.219307e+08           2.029929e+07            84600000.0   \n1              7.080967e+08           2.029929e+07            84600000.0   \n2              2.078111e+08           2.029929e+07            84600000.0   \n3              6.439178e+08           2.029929e+07            84600000.0   \n4              2.235462e+09           2.029929e+07            84600000.0   \n..                      ...                    ...                   ...   \n495            4.746275e+08           4.421502e+07           256100000.0   \n496            1.822496e+08           4.421502e+07           256100000.0   \n497            6.744156e+07           4.421502e+07           256100000.0   \n498            1.085147e+09           4.421502e+07           256100000.0   \n499            3.227590e+09           4.421502e+07           256100000.0   \n\n     Evacuation Costs  Expected Number of Deaths   Total Costs  \\\n0         9556.804784                   0.029686  1.049088e+08   \n1        30249.488865                   0.094015  1.049295e+08   \n2        10276.774057                   0.026734  1.049096e+08   \n3        24516.117153                   0.161470  1.049238e+08   \n4        26496.681279                   0.239262  1.049258e+08   \n..                ...                        ...           ...   \n495      41094.344461                   0.053551  3.003561e+08   \n496      15194.263509                   0.012790  3.003302e+08   \n497       3799.707462                   0.007364  3.003188e+08   \n498      68860.806899                   0.106950  3.003839e+08   \n499      40324.262271                   0.226194  3.003553e+08   \n\n     Cost plus Damage                         policy  \n0        3.268395e+08   Policy_Dike_1dm_RfR_0_EWS_2d  \n1        8.130263e+08   Policy_Dike_1dm_RfR_0_EWS_2d  \n2        3.127207e+08   Policy_Dike_1dm_RfR_0_EWS_2d  \n3        7.488416e+08   Policy_Dike_1dm_RfR_0_EWS_2d  \n4        2.340388e+09   Policy_Dike_1dm_RfR_0_EWS_2d  \n..                ...                            ...  \n495      7.749836e+08  Policy_Dike_10dm_RfR_4_EWS_4d  \n496      4.825798e+08  Policy_Dike_10dm_RfR_4_EWS_4d  \n497      3.677604e+08  Policy_Dike_10dm_RfR_4_EWS_4d  \n498      1.385531e+09  Policy_Dike_10dm_RfR_4_EWS_4d  \n499      3.527946e+09  Policy_Dike_10dm_RfR_4_EWS_4d  \n\n[500 rows x 8 columns]",
      "text/html": "<div>\n<style scoped>\n    .dataframe tbody tr th:only-of-type {\n        vertical-align: middle;\n    }\n\n    .dataframe tbody tr th {\n        vertical-align: top;\n    }\n\n    .dataframe thead th {\n        text-align: right;\n    }\n</style>\n<table border=\"1\" class=\"dataframe\">\n  <thead>\n    <tr style=\"text-align: right;\">\n      <th></th>\n      <th>Expected Annual Damage</th>\n      <th>Dike Investment Costs</th>\n      <th>RfR Investment Costs</th>\n      <th>Evacuation Costs</th>\n      <th>Expected Number of Deaths</th>\n      <th>Total Costs</th>\n      <th>Cost plus Damage</th>\n      <th>policy</th>\n    </tr>\n  </thead>\n  <tbody>\n    <tr>\n      <th>0</th>\n      <td>2.219307e+08</td>\n      <td>2.029929e+07</td>\n      <td>84600000.0</td>\n      <td>9556.804784</td>\n      <td>0.029686</td>\n      <td>1.049088e+08</td>\n      <td>3.268395e+08</td>\n      <td>Policy_Dike_1dm_RfR_0_EWS_2d</td>\n    </tr>\n    <tr>\n      <th>1</th>\n      <td>7.080967e+08</td>\n      <td>2.029929e+07</td>\n      <td>84600000.0</td>\n      <td>30249.488865</td>\n      <td>0.094015</td>\n      <td>1.049295e+08</td>\n      <td>8.130263e+08</td>\n      <td>Policy_Dike_1dm_RfR_0_EWS_2d</td>\n    </tr>\n    <tr>\n      <th>2</th>\n      <td>2.078111e+08</td>\n      <td>2.029929e+07</td>\n      <td>84600000.0</td>\n      <td>10276.774057</td>\n      <td>0.026734</td>\n      <td>1.049096e+08</td>\n      <td>3.127207e+08</td>\n      <td>Policy_Dike_1dm_RfR_0_EWS_2d</td>\n    </tr>\n    <tr>\n      <th>3</th>\n      <td>6.439178e+08</td>\n      <td>2.029929e+07</td>\n      <td>84600000.0</td>\n      <td>24516.117153</td>\n      <td>0.161470</td>\n      <td>1.049238e+08</td>\n      <td>7.488416e+08</td>\n      <td>Policy_Dike_1dm_RfR_0_EWS_2d</td>\n    </tr>\n    <tr>\n      <th>4</th>\n      <td>2.235462e+09</td>\n      <td>2.029929e+07</td>\n      <td>84600000.0</td>\n      <td>26496.681279</td>\n      <td>0.239262</td>\n      <td>1.049258e+08</td>\n      <td>2.340388e+09</td>\n      <td>Policy_Dike_1dm_RfR_0_EWS_2d</td>\n    </tr>\n    <tr>\n      <th>...</th>\n      <td>...</td>\n      <td>...</td>\n      <td>...</td>\n      <td>...</td>\n      <td>...</td>\n      <td>...</td>\n      <td>...</td>\n      <td>...</td>\n    </tr>\n    <tr>\n      <th>495</th>\n      <td>4.746275e+08</td>\n      <td>4.421502e+07</td>\n      <td>256100000.0</td>\n      <td>41094.344461</td>\n      <td>0.053551</td>\n      <td>3.003561e+08</td>\n      <td>7.749836e+08</td>\n      <td>Policy_Dike_10dm_RfR_4_EWS_4d</td>\n    </tr>\n    <tr>\n      <th>496</th>\n      <td>1.822496e+08</td>\n      <td>4.421502e+07</td>\n      <td>256100000.0</td>\n      <td>15194.263509</td>\n      <td>0.012790</td>\n      <td>3.003302e+08</td>\n      <td>4.825798e+08</td>\n      <td>Policy_Dike_10dm_RfR_4_EWS_4d</td>\n    </tr>\n    <tr>\n      <th>497</th>\n      <td>6.744156e+07</td>\n      <td>4.421502e+07</td>\n      <td>256100000.0</td>\n      <td>3799.707462</td>\n      <td>0.007364</td>\n      <td>3.003188e+08</td>\n      <td>3.677604e+08</td>\n      <td>Policy_Dike_10dm_RfR_4_EWS_4d</td>\n    </tr>\n    <tr>\n      <th>498</th>\n      <td>1.085147e+09</td>\n      <td>4.421502e+07</td>\n      <td>256100000.0</td>\n      <td>68860.806899</td>\n      <td>0.106950</td>\n      <td>3.003839e+08</td>\n      <td>1.385531e+09</td>\n      <td>Policy_Dike_10dm_RfR_4_EWS_4d</td>\n    </tr>\n    <tr>\n      <th>499</th>\n      <td>3.227590e+09</td>\n      <td>4.421502e+07</td>\n      <td>256100000.0</td>\n      <td>40324.262271</td>\n      <td>0.226194</td>\n      <td>3.003553e+08</td>\n      <td>3.527946e+09</td>\n      <td>Policy_Dike_10dm_RfR_4_EWS_4d</td>\n    </tr>\n  </tbody>\n</table>\n<p>500 rows × 8 columns</p>\n</div>"
     },
     "execution_count": 30,
     "metadata": {},
     "output_type": "execute_result"
    }
   ],
   "source": [
    "# Create a dataframe from outcomes, and add the policy column to it\n",
    "exp, out = results\n",
    "df = pd.DataFrame(out)\n",
    "df[\"Total Costs\"] = df[[\"Dike Investment Costs\", \"RfR Investment Costs\", \"Evacuation Costs\"]].sum(axis=1)\n",
    "df[\"Cost plus Damage\"] = df[\"Total Costs\"] + df[\"Expected Annual Damage\"]\n",
    "df[\"policy\"] = pd.DataFrame(exp)[\"policy\"]\n",
    "df"
   ],
   "metadata": {
    "collapsed": false,
    "pycharm": {
     "name": "#%%\n"
    }
   }
  },
  {
   "cell_type": "code",
   "execution_count": 31,
   "outputs": [],
   "source": [
    "# Define two functions to get the 5th and 95th quantiles\n",
    "def q05(x):\n",
    "    return x.quantile(0.05)\n",
    "\n",
    "def q95(x):\n",
    "    return x.quantile(0.95)"
   ],
   "metadata": {
    "collapsed": false,
    "pycharm": {
     "name": "#%%\n"
    }
   }
  },
  {
   "cell_type": "code",
   "execution_count": 32,
   "outputs": [
    {
     "data": {
      "text/plain": "                              Expected Number of Deaths                      \\\n                                                   mean       min       max   \npolicy                                                                        \nPolicy_Dike_10dm_RfR_0_EWS_2d                  0.079855  0.005451  0.239262   \nPolicy_Dike_10dm_RfR_0_EWS_4d                  0.063884  0.004361  0.191409   \nPolicy_Dike_10dm_RfR_1_EWS_2d                  0.081943  0.005451  0.238624   \nPolicy_Dike_10dm_RfR_1_EWS_4d                  0.065554  0.004361  0.190899   \nPolicy_Dike_10dm_RfR_2_EWS_2d                  0.140786  0.005630  0.281692   \nPolicy_Dike_10dm_RfR_2_EWS_4d                  0.112629  0.004504  0.225353   \nPolicy_Dike_10dm_RfR_3_EWS_2d                  0.136702  0.009122  0.280530   \nPolicy_Dike_10dm_RfR_3_EWS_4d                  0.109362  0.007298  0.224424   \nPolicy_Dike_10dm_RfR_4_EWS_2d                  0.144662  0.009204  0.282743   \nPolicy_Dike_10dm_RfR_4_EWS_4d                  0.115729  0.007364  0.226194   \nPolicy_Dike_1dm_RfR_0_EWS_2d                   0.163582  0.018066  0.708767   \nPolicy_Dike_1dm_RfR_0_EWS_4d                   0.130866  0.014453  0.567013   \nPolicy_Dike_1dm_RfR_1_EWS_2d                   0.165650  0.018066  0.708535   \nPolicy_Dike_1dm_RfR_1_EWS_4d                   0.132520  0.014453  0.566828   \nPolicy_Dike_1dm_RfR_2_EWS_2d                   0.189197  0.017942  0.723598   \nPolicy_Dike_1dm_RfR_2_EWS_4d                   0.151357  0.014354  0.578878   \nPolicy_Dike_1dm_RfR_3_EWS_2d                   0.198692  0.015682  0.736133   \nPolicy_Dike_1dm_RfR_3_EWS_4d                   0.158954  0.012546  0.588906   \nPolicy_Dike_1dm_RfR_4_EWS_2d                   0.216284  0.015987  0.743465   \nPolicy_Dike_1dm_RfR_4_EWS_4d                   0.173027  0.012790  0.594772   \n\n                                                  Expected Annual Damage  \\\n                                    q05       q95                   mean   \npolicy                                                                     \nPolicy_Dike_10dm_RfR_0_EWS_2d  0.008713  0.236810           7.117248e+08   \nPolicy_Dike_10dm_RfR_0_EWS_4d  0.006971  0.189448           7.117248e+08   \nPolicy_Dike_10dm_RfR_1_EWS_2d  0.008743  0.236801           7.377826e+08   \nPolicy_Dike_10dm_RfR_1_EWS_4d  0.006994  0.189441           7.377826e+08   \nPolicy_Dike_10dm_RfR_2_EWS_2d  0.015689  0.279932           1.271834e+09   \nPolicy_Dike_10dm_RfR_2_EWS_4d  0.012551  0.223946           1.271834e+09   \nPolicy_Dike_10dm_RfR_3_EWS_2d  0.014716  0.276640           1.230352e+09   \nPolicy_Dike_10dm_RfR_3_EWS_4d  0.011773  0.221312           1.230352e+09   \nPolicy_Dike_10dm_RfR_4_EWS_2d  0.016359  0.281262           1.294096e+09   \nPolicy_Dike_10dm_RfR_4_EWS_4d  0.013087  0.225009           1.294096e+09   \nPolicy_Dike_1dm_RfR_0_EWS_2d   0.024291  0.530423           1.011457e+09   \nPolicy_Dike_1dm_RfR_0_EWS_4d   0.019433  0.424338           1.011457e+09   \nPolicy_Dike_1dm_RfR_1_EWS_2d   0.024720  0.530423           1.037483e+09   \nPolicy_Dike_1dm_RfR_1_EWS_4d   0.019776  0.424338           1.037483e+09   \nPolicy_Dike_1dm_RfR_2_EWS_2d   0.022403  0.482550           1.451245e+09   \nPolicy_Dike_1dm_RfR_2_EWS_4d   0.017922  0.386040           1.451245e+09   \nPolicy_Dike_1dm_RfR_3_EWS_2d   0.024422  0.518109           1.459501e+09   \nPolicy_Dike_1dm_RfR_3_EWS_4d   0.019538  0.414487           1.459501e+09   \nPolicy_Dike_1dm_RfR_4_EWS_2d   0.030739  0.551993           1.557308e+09   \nPolicy_Dike_1dm_RfR_4_EWS_4d   0.024591  0.441595           1.557308e+09   \n\n                                                                         \\\n                                        min           max           q05   \npolicy                                                                    \nPolicy_Dike_10dm_RfR_0_EWS_2d  3.565389e+07  2.301500e+09  6.279905e+07   \nPolicy_Dike_10dm_RfR_0_EWS_4d  3.565389e+07  2.301500e+09  6.279905e+07   \nPolicy_Dike_10dm_RfR_1_EWS_2d  3.565389e+07  2.303444e+09  6.279905e+07   \nPolicy_Dike_10dm_RfR_1_EWS_4d  3.565389e+07  2.303444e+09  6.279905e+07   \nPolicy_Dike_10dm_RfR_2_EWS_2d  4.237434e+07  3.207431e+09  1.333719e+08   \nPolicy_Dike_10dm_RfR_2_EWS_4d  4.237434e+07  3.207431e+09  1.333719e+08   \nPolicy_Dike_10dm_RfR_3_EWS_2d  6.714467e+07  3.208680e+09  1.172751e+08   \nPolicy_Dike_10dm_RfR_3_EWS_4d  6.714467e+07  3.208680e+09  1.172751e+08   \nPolicy_Dike_10dm_RfR_4_EWS_2d  6.744156e+07  3.227590e+09  1.417296e+08   \nPolicy_Dike_10dm_RfR_4_EWS_4d  6.744156e+07  3.227590e+09  1.417296e+08   \nPolicy_Dike_1dm_RfR_0_EWS_2d   1.989186e+08  3.886744e+09  2.008512e+08   \nPolicy_Dike_1dm_RfR_0_EWS_4d   1.989186e+08  3.886744e+09  2.008512e+08   \nPolicy_Dike_1dm_RfR_1_EWS_2d   2.004041e+08  3.887315e+09  2.171451e+08   \nPolicy_Dike_1dm_RfR_1_EWS_4d   2.004041e+08  3.887315e+09  2.171451e+08   \nPolicy_Dike_1dm_RfR_2_EWS_2d   1.568703e+08  4.126120e+09  2.098121e+08   \nPolicy_Dike_1dm_RfR_2_EWS_4d   1.568703e+08  4.126120e+09  2.098121e+08   \nPolicy_Dike_1dm_RfR_3_EWS_2d   1.580110e+08  4.155273e+09  1.707360e+08   \nPolicy_Dike_1dm_RfR_3_EWS_4d   1.580110e+08  4.155273e+09  1.707360e+08   \nPolicy_Dike_1dm_RfR_4_EWS_2d   1.822496e+08  4.172318e+09  2.247311e+08   \nPolicy_Dike_1dm_RfR_4_EWS_4d   1.822496e+08  4.172318e+09  2.247311e+08   \n\n                                              Total Costs Cost plus Damage  \\\n                                        q95          mean             mean   \npolicy                                                                       \nPolicy_Dike_10dm_RfR_0_EWS_2d  2.231112e+09  1.288347e+08     8.405595e+08   \nPolicy_Dike_10dm_RfR_0_EWS_4d  2.231112e+09  1.288436e+08     8.405683e+08   \nPolicy_Dike_10dm_RfR_1_EWS_2d  2.227946e+09  2.620347e+08     9.998173e+08   \nPolicy_Dike_10dm_RfR_1_EWS_4d  2.227946e+09  2.620436e+08     9.998262e+08   \nPolicy_Dike_10dm_RfR_2_EWS_2d  2.607310e+09  7.493714e+07     1.346772e+09   \nPolicy_Dike_10dm_RfR_2_EWS_4d  2.607310e+09  7.494708e+07     1.346782e+09   \nPolicy_Dike_10dm_RfR_3_EWS_2d  2.606352e+09  1.654350e+08     1.395787e+09   \nPolicy_Dike_10dm_RfR_3_EWS_4d  2.606352e+09  1.654440e+08     1.395796e+09   \nPolicy_Dike_10dm_RfR_4_EWS_2d  2.606359e+09  3.003380e+08     1.594434e+09   \nPolicy_Dike_10dm_RfR_4_EWS_4d  2.606359e+09  3.003484e+08     1.594445e+09   \nPolicy_Dike_1dm_RfR_0_EWS_2d   2.333676e+09  1.049315e+08     1.116388e+09   \nPolicy_Dike_1dm_RfR_0_EWS_4d   2.333676e+09  1.049460e+08     1.116403e+09   \nPolicy_Dike_1dm_RfR_1_EWS_2d   2.334065e+09  2.381315e+08     1.275615e+09   \nPolicy_Dike_1dm_RfR_1_EWS_4d   2.334065e+09  2.381460e+08     1.275629e+09   \nPolicy_Dike_1dm_RfR_2_EWS_2d   3.091509e+09  5.102937e+07     1.502275e+09   \nPolicy_Dike_1dm_RfR_2_EWS_4d   3.091509e+09  5.104289e+07     1.502288e+09   \nPolicy_Dike_1dm_RfR_3_EWS_2d   3.092269e+09  1.415291e+08     1.601030e+09   \nPolicy_Dike_1dm_RfR_3_EWS_4d   3.092269e+09  1.415425e+08     1.601043e+09   \nPolicy_Dike_1dm_RfR_4_EWS_2d   3.107399e+09  2.764334e+08     1.833742e+09   \nPolicy_Dike_1dm_RfR_4_EWS_4d   3.107399e+09  2.764487e+08     1.833757e+09   \n\n                                                                         \\\n                                        min           max           q05   \npolicy                                                                    \nPolicy_Dike_10dm_RfR_0_EWS_2d  1.644706e+08  2.430339e+09  1.916168e+08   \nPolicy_Dike_10dm_RfR_0_EWS_4d  1.644713e+08  2.430350e+09  1.916181e+08   \nPolicy_Dike_10dm_RfR_1_EWS_2d  2.976706e+08  2.565483e+09  3.248168e+08   \nPolicy_Dike_10dm_RfR_1_EWS_4d  2.976713e+08  2.565494e+09  3.248181e+08   \nPolicy_Dike_10dm_RfR_2_EWS_2d  1.172909e+08  3.282373e+09  2.082896e+08   \nPolicy_Dike_10dm_RfR_2_EWS_4d  1.172916e+08  3.282385e+09  2.082908e+08   \nPolicy_Dike_10dm_RfR_3_EWS_2d  2.325623e+08  3.374122e+09  2.826939e+08   \nPolicy_Dike_10dm_RfR_3_EWS_4d  2.325635e+08  3.374135e+09  2.826957e+08   \nPolicy_Dike_10dm_RfR_4_EWS_2d  3.677592e+08  3.527933e+09  4.420488e+08   \nPolicy_Dike_10dm_RfR_4_EWS_4d  3.677604e+08  3.527946e+09  4.420506e+08   \nPolicy_Dike_1dm_RfR_0_EWS_2d   3.038249e+08  3.991745e+09  3.057627e+08   \nPolicy_Dike_1dm_RfR_0_EWS_4d   3.038281e+08  3.991791e+09  3.057681e+08   \nPolicy_Dike_1dm_RfR_1_EWS_2d   4.385105e+08  4.125516e+09  4.552564e+08   \nPolicy_Dike_1dm_RfR_1_EWS_4d   4.385136e+08  4.125562e+09  4.552618e+08   \nPolicy_Dike_1dm_RfR_2_EWS_2d   2.078763e+08  4.177221e+09  2.608231e+08   \nPolicy_Dike_1dm_RfR_2_EWS_4d   2.078794e+08  4.177267e+09  2.608284e+08   \nPolicy_Dike_1dm_RfR_3_EWS_2d   2.995162e+08  4.296875e+09  3.122446e+08   \nPolicy_Dike_1dm_RfR_3_EWS_4d   2.995189e+08  4.296921e+09  3.122487e+08   \nPolicy_Dike_1dm_RfR_4_EWS_2d   4.586594e+08  4.448820e+09  5.011405e+08   \nPolicy_Dike_1dm_RfR_4_EWS_4d   4.586641e+08  4.448866e+09  5.011450e+08   \n\n                                             \n                                        q95  \npolicy                                       \nPolicy_Dike_10dm_RfR_0_EWS_2d  2.359954e+09  \nPolicy_Dike_10dm_RfR_0_EWS_4d  2.359966e+09  \nPolicy_Dike_10dm_RfR_1_EWS_2d  2.489987e+09  \nPolicy_Dike_10dm_RfR_1_EWS_4d  2.489999e+09  \nPolicy_Dike_10dm_RfR_2_EWS_2d  2.682250e+09  \nPolicy_Dike_10dm_RfR_2_EWS_4d  2.682262e+09  \nPolicy_Dike_10dm_RfR_3_EWS_2d  2.771792e+09  \nPolicy_Dike_10dm_RfR_3_EWS_4d  2.771803e+09  \nPolicy_Dike_10dm_RfR_4_EWS_2d  2.906699e+09  \nPolicy_Dike_10dm_RfR_4_EWS_4d  2.906710e+09  \nPolicy_Dike_1dm_RfR_0_EWS_2d   2.438665e+09  \nPolicy_Dike_1dm_RfR_0_EWS_4d   2.438705e+09  \nPolicy_Dike_1dm_RfR_1_EWS_2d   2.572254e+09  \nPolicy_Dike_1dm_RfR_1_EWS_4d   2.572294e+09  \nPolicy_Dike_1dm_RfR_2_EWS_2d   3.142535e+09  \nPolicy_Dike_1dm_RfR_2_EWS_4d   3.142547e+09  \nPolicy_Dike_1dm_RfR_3_EWS_2d   3.233795e+09  \nPolicy_Dike_1dm_RfR_3_EWS_4d   3.233807e+09  \nPolicy_Dike_1dm_RfR_4_EWS_2d   3.383826e+09  \nPolicy_Dike_1dm_RfR_4_EWS_4d   3.383838e+09  ",
      "text/html": "<div>\n<style scoped>\n    .dataframe tbody tr th:only-of-type {\n        vertical-align: middle;\n    }\n\n    .dataframe tbody tr th {\n        vertical-align: top;\n    }\n\n    .dataframe thead tr th {\n        text-align: left;\n    }\n\n    .dataframe thead tr:last-of-type th {\n        text-align: right;\n    }\n</style>\n<table border=\"1\" class=\"dataframe\">\n  <thead>\n    <tr>\n      <th></th>\n      <th colspan=\"5\" halign=\"left\">Expected Number of Deaths</th>\n      <th colspan=\"5\" halign=\"left\">Expected Annual Damage</th>\n      <th>Total Costs</th>\n      <th colspan=\"5\" halign=\"left\">Cost plus Damage</th>\n    </tr>\n    <tr>\n      <th></th>\n      <th>mean</th>\n      <th>min</th>\n      <th>max</th>\n      <th>q05</th>\n      <th>q95</th>\n      <th>mean</th>\n      <th>min</th>\n      <th>max</th>\n      <th>q05</th>\n      <th>q95</th>\n      <th>mean</th>\n      <th>mean</th>\n      <th>min</th>\n      <th>max</th>\n      <th>q05</th>\n      <th>q95</th>\n    </tr>\n    <tr>\n      <th>policy</th>\n      <th></th>\n      <th></th>\n      <th></th>\n      <th></th>\n      <th></th>\n      <th></th>\n      <th></th>\n      <th></th>\n      <th></th>\n      <th></th>\n      <th></th>\n      <th></th>\n      <th></th>\n      <th></th>\n      <th></th>\n      <th></th>\n    </tr>\n  </thead>\n  <tbody>\n    <tr>\n      <th>Policy_Dike_10dm_RfR_0_EWS_2d</th>\n      <td>0.079855</td>\n      <td>0.005451</td>\n      <td>0.239262</td>\n      <td>0.008713</td>\n      <td>0.236810</td>\n      <td>7.117248e+08</td>\n      <td>3.565389e+07</td>\n      <td>2.301500e+09</td>\n      <td>6.279905e+07</td>\n      <td>2.231112e+09</td>\n      <td>1.288347e+08</td>\n      <td>8.405595e+08</td>\n      <td>1.644706e+08</td>\n      <td>2.430339e+09</td>\n      <td>1.916168e+08</td>\n      <td>2.359954e+09</td>\n    </tr>\n    <tr>\n      <th>Policy_Dike_10dm_RfR_0_EWS_4d</th>\n      <td>0.063884</td>\n      <td>0.004361</td>\n      <td>0.191409</td>\n      <td>0.006971</td>\n      <td>0.189448</td>\n      <td>7.117248e+08</td>\n      <td>3.565389e+07</td>\n      <td>2.301500e+09</td>\n      <td>6.279905e+07</td>\n      <td>2.231112e+09</td>\n      <td>1.288436e+08</td>\n      <td>8.405683e+08</td>\n      <td>1.644713e+08</td>\n      <td>2.430350e+09</td>\n      <td>1.916181e+08</td>\n      <td>2.359966e+09</td>\n    </tr>\n    <tr>\n      <th>Policy_Dike_10dm_RfR_1_EWS_2d</th>\n      <td>0.081943</td>\n      <td>0.005451</td>\n      <td>0.238624</td>\n      <td>0.008743</td>\n      <td>0.236801</td>\n      <td>7.377826e+08</td>\n      <td>3.565389e+07</td>\n      <td>2.303444e+09</td>\n      <td>6.279905e+07</td>\n      <td>2.227946e+09</td>\n      <td>2.620347e+08</td>\n      <td>9.998173e+08</td>\n      <td>2.976706e+08</td>\n      <td>2.565483e+09</td>\n      <td>3.248168e+08</td>\n      <td>2.489987e+09</td>\n    </tr>\n    <tr>\n      <th>Policy_Dike_10dm_RfR_1_EWS_4d</th>\n      <td>0.065554</td>\n      <td>0.004361</td>\n      <td>0.190899</td>\n      <td>0.006994</td>\n      <td>0.189441</td>\n      <td>7.377826e+08</td>\n      <td>3.565389e+07</td>\n      <td>2.303444e+09</td>\n      <td>6.279905e+07</td>\n      <td>2.227946e+09</td>\n      <td>2.620436e+08</td>\n      <td>9.998262e+08</td>\n      <td>2.976713e+08</td>\n      <td>2.565494e+09</td>\n      <td>3.248181e+08</td>\n      <td>2.489999e+09</td>\n    </tr>\n    <tr>\n      <th>Policy_Dike_10dm_RfR_2_EWS_2d</th>\n      <td>0.140786</td>\n      <td>0.005630</td>\n      <td>0.281692</td>\n      <td>0.015689</td>\n      <td>0.279932</td>\n      <td>1.271834e+09</td>\n      <td>4.237434e+07</td>\n      <td>3.207431e+09</td>\n      <td>1.333719e+08</td>\n      <td>2.607310e+09</td>\n      <td>7.493714e+07</td>\n      <td>1.346772e+09</td>\n      <td>1.172909e+08</td>\n      <td>3.282373e+09</td>\n      <td>2.082896e+08</td>\n      <td>2.682250e+09</td>\n    </tr>\n    <tr>\n      <th>Policy_Dike_10dm_RfR_2_EWS_4d</th>\n      <td>0.112629</td>\n      <td>0.004504</td>\n      <td>0.225353</td>\n      <td>0.012551</td>\n      <td>0.223946</td>\n      <td>1.271834e+09</td>\n      <td>4.237434e+07</td>\n      <td>3.207431e+09</td>\n      <td>1.333719e+08</td>\n      <td>2.607310e+09</td>\n      <td>7.494708e+07</td>\n      <td>1.346782e+09</td>\n      <td>1.172916e+08</td>\n      <td>3.282385e+09</td>\n      <td>2.082908e+08</td>\n      <td>2.682262e+09</td>\n    </tr>\n    <tr>\n      <th>Policy_Dike_10dm_RfR_3_EWS_2d</th>\n      <td>0.136702</td>\n      <td>0.009122</td>\n      <td>0.280530</td>\n      <td>0.014716</td>\n      <td>0.276640</td>\n      <td>1.230352e+09</td>\n      <td>6.714467e+07</td>\n      <td>3.208680e+09</td>\n      <td>1.172751e+08</td>\n      <td>2.606352e+09</td>\n      <td>1.654350e+08</td>\n      <td>1.395787e+09</td>\n      <td>2.325623e+08</td>\n      <td>3.374122e+09</td>\n      <td>2.826939e+08</td>\n      <td>2.771792e+09</td>\n    </tr>\n    <tr>\n      <th>Policy_Dike_10dm_RfR_3_EWS_4d</th>\n      <td>0.109362</td>\n      <td>0.007298</td>\n      <td>0.224424</td>\n      <td>0.011773</td>\n      <td>0.221312</td>\n      <td>1.230352e+09</td>\n      <td>6.714467e+07</td>\n      <td>3.208680e+09</td>\n      <td>1.172751e+08</td>\n      <td>2.606352e+09</td>\n      <td>1.654440e+08</td>\n      <td>1.395796e+09</td>\n      <td>2.325635e+08</td>\n      <td>3.374135e+09</td>\n      <td>2.826957e+08</td>\n      <td>2.771803e+09</td>\n    </tr>\n    <tr>\n      <th>Policy_Dike_10dm_RfR_4_EWS_2d</th>\n      <td>0.144662</td>\n      <td>0.009204</td>\n      <td>0.282743</td>\n      <td>0.016359</td>\n      <td>0.281262</td>\n      <td>1.294096e+09</td>\n      <td>6.744156e+07</td>\n      <td>3.227590e+09</td>\n      <td>1.417296e+08</td>\n      <td>2.606359e+09</td>\n      <td>3.003380e+08</td>\n      <td>1.594434e+09</td>\n      <td>3.677592e+08</td>\n      <td>3.527933e+09</td>\n      <td>4.420488e+08</td>\n      <td>2.906699e+09</td>\n    </tr>\n    <tr>\n      <th>Policy_Dike_10dm_RfR_4_EWS_4d</th>\n      <td>0.115729</td>\n      <td>0.007364</td>\n      <td>0.226194</td>\n      <td>0.013087</td>\n      <td>0.225009</td>\n      <td>1.294096e+09</td>\n      <td>6.744156e+07</td>\n      <td>3.227590e+09</td>\n      <td>1.417296e+08</td>\n      <td>2.606359e+09</td>\n      <td>3.003484e+08</td>\n      <td>1.594445e+09</td>\n      <td>3.677604e+08</td>\n      <td>3.527946e+09</td>\n      <td>4.420506e+08</td>\n      <td>2.906710e+09</td>\n    </tr>\n    <tr>\n      <th>Policy_Dike_1dm_RfR_0_EWS_2d</th>\n      <td>0.163582</td>\n      <td>0.018066</td>\n      <td>0.708767</td>\n      <td>0.024291</td>\n      <td>0.530423</td>\n      <td>1.011457e+09</td>\n      <td>1.989186e+08</td>\n      <td>3.886744e+09</td>\n      <td>2.008512e+08</td>\n      <td>2.333676e+09</td>\n      <td>1.049315e+08</td>\n      <td>1.116388e+09</td>\n      <td>3.038249e+08</td>\n      <td>3.991745e+09</td>\n      <td>3.057627e+08</td>\n      <td>2.438665e+09</td>\n    </tr>\n    <tr>\n      <th>Policy_Dike_1dm_RfR_0_EWS_4d</th>\n      <td>0.130866</td>\n      <td>0.014453</td>\n      <td>0.567013</td>\n      <td>0.019433</td>\n      <td>0.424338</td>\n      <td>1.011457e+09</td>\n      <td>1.989186e+08</td>\n      <td>3.886744e+09</td>\n      <td>2.008512e+08</td>\n      <td>2.333676e+09</td>\n      <td>1.049460e+08</td>\n      <td>1.116403e+09</td>\n      <td>3.038281e+08</td>\n      <td>3.991791e+09</td>\n      <td>3.057681e+08</td>\n      <td>2.438705e+09</td>\n    </tr>\n    <tr>\n      <th>Policy_Dike_1dm_RfR_1_EWS_2d</th>\n      <td>0.165650</td>\n      <td>0.018066</td>\n      <td>0.708535</td>\n      <td>0.024720</td>\n      <td>0.530423</td>\n      <td>1.037483e+09</td>\n      <td>2.004041e+08</td>\n      <td>3.887315e+09</td>\n      <td>2.171451e+08</td>\n      <td>2.334065e+09</td>\n      <td>2.381315e+08</td>\n      <td>1.275615e+09</td>\n      <td>4.385105e+08</td>\n      <td>4.125516e+09</td>\n      <td>4.552564e+08</td>\n      <td>2.572254e+09</td>\n    </tr>\n    <tr>\n      <th>Policy_Dike_1dm_RfR_1_EWS_4d</th>\n      <td>0.132520</td>\n      <td>0.014453</td>\n      <td>0.566828</td>\n      <td>0.019776</td>\n      <td>0.424338</td>\n      <td>1.037483e+09</td>\n      <td>2.004041e+08</td>\n      <td>3.887315e+09</td>\n      <td>2.171451e+08</td>\n      <td>2.334065e+09</td>\n      <td>2.381460e+08</td>\n      <td>1.275629e+09</td>\n      <td>4.385136e+08</td>\n      <td>4.125562e+09</td>\n      <td>4.552618e+08</td>\n      <td>2.572294e+09</td>\n    </tr>\n    <tr>\n      <th>Policy_Dike_1dm_RfR_2_EWS_2d</th>\n      <td>0.189197</td>\n      <td>0.017942</td>\n      <td>0.723598</td>\n      <td>0.022403</td>\n      <td>0.482550</td>\n      <td>1.451245e+09</td>\n      <td>1.568703e+08</td>\n      <td>4.126120e+09</td>\n      <td>2.098121e+08</td>\n      <td>3.091509e+09</td>\n      <td>5.102937e+07</td>\n      <td>1.502275e+09</td>\n      <td>2.078763e+08</td>\n      <td>4.177221e+09</td>\n      <td>2.608231e+08</td>\n      <td>3.142535e+09</td>\n    </tr>\n    <tr>\n      <th>Policy_Dike_1dm_RfR_2_EWS_4d</th>\n      <td>0.151357</td>\n      <td>0.014354</td>\n      <td>0.578878</td>\n      <td>0.017922</td>\n      <td>0.386040</td>\n      <td>1.451245e+09</td>\n      <td>1.568703e+08</td>\n      <td>4.126120e+09</td>\n      <td>2.098121e+08</td>\n      <td>3.091509e+09</td>\n      <td>5.104289e+07</td>\n      <td>1.502288e+09</td>\n      <td>2.078794e+08</td>\n      <td>4.177267e+09</td>\n      <td>2.608284e+08</td>\n      <td>3.142547e+09</td>\n    </tr>\n    <tr>\n      <th>Policy_Dike_1dm_RfR_3_EWS_2d</th>\n      <td>0.198692</td>\n      <td>0.015682</td>\n      <td>0.736133</td>\n      <td>0.024422</td>\n      <td>0.518109</td>\n      <td>1.459501e+09</td>\n      <td>1.580110e+08</td>\n      <td>4.155273e+09</td>\n      <td>1.707360e+08</td>\n      <td>3.092269e+09</td>\n      <td>1.415291e+08</td>\n      <td>1.601030e+09</td>\n      <td>2.995162e+08</td>\n      <td>4.296875e+09</td>\n      <td>3.122446e+08</td>\n      <td>3.233795e+09</td>\n    </tr>\n    <tr>\n      <th>Policy_Dike_1dm_RfR_3_EWS_4d</th>\n      <td>0.158954</td>\n      <td>0.012546</td>\n      <td>0.588906</td>\n      <td>0.019538</td>\n      <td>0.414487</td>\n      <td>1.459501e+09</td>\n      <td>1.580110e+08</td>\n      <td>4.155273e+09</td>\n      <td>1.707360e+08</td>\n      <td>3.092269e+09</td>\n      <td>1.415425e+08</td>\n      <td>1.601043e+09</td>\n      <td>2.995189e+08</td>\n      <td>4.296921e+09</td>\n      <td>3.122487e+08</td>\n      <td>3.233807e+09</td>\n    </tr>\n    <tr>\n      <th>Policy_Dike_1dm_RfR_4_EWS_2d</th>\n      <td>0.216284</td>\n      <td>0.015987</td>\n      <td>0.743465</td>\n      <td>0.030739</td>\n      <td>0.551993</td>\n      <td>1.557308e+09</td>\n      <td>1.822496e+08</td>\n      <td>4.172318e+09</td>\n      <td>2.247311e+08</td>\n      <td>3.107399e+09</td>\n      <td>2.764334e+08</td>\n      <td>1.833742e+09</td>\n      <td>4.586594e+08</td>\n      <td>4.448820e+09</td>\n      <td>5.011405e+08</td>\n      <td>3.383826e+09</td>\n    </tr>\n    <tr>\n      <th>Policy_Dike_1dm_RfR_4_EWS_4d</th>\n      <td>0.173027</td>\n      <td>0.012790</td>\n      <td>0.594772</td>\n      <td>0.024591</td>\n      <td>0.441595</td>\n      <td>1.557308e+09</td>\n      <td>1.822496e+08</td>\n      <td>4.172318e+09</td>\n      <td>2.247311e+08</td>\n      <td>3.107399e+09</td>\n      <td>2.764487e+08</td>\n      <td>1.833757e+09</td>\n      <td>4.586641e+08</td>\n      <td>4.448866e+09</td>\n      <td>5.011450e+08</td>\n      <td>3.383838e+09</td>\n    </tr>\n  </tbody>\n</table>\n</div>"
     },
     "execution_count": 32,
     "metadata": {},
     "output_type": "execute_result"
    }
   ],
   "source": [
    "# Create a Pandas GroupBy object\n",
    "group_df = df.groupby(by=\"policy\")\n",
    "\n",
    "# Create a list of statistical functions which are used\n",
    "agg_par = [\"mean\", \"min\", \"max\", q05, q95]\n",
    "\n",
    "# Create a dictionary with what outcome values are aggegrated with which functions\n",
    "agg_dict = {\n",
    "    \"Expected Number of Deaths\": agg_par,\n",
    "    \"Expected Annual Damage\": agg_par,\n",
    "    \"Total Costs\": \"mean\",\n",
    "    \"Cost plus Damage\": agg_par,\n",
    "}\n",
    "# Create new dataframe with the aggegrated data per policy\n",
    "TCA_df = group_df.agg(agg_dict)\n",
    "TCA_df"
   ],
   "metadata": {
    "collapsed": false,
    "pycharm": {
     "name": "#%%\n"
    }
   }
  },
  {
   "cell_type": "code",
   "execution_count": 33,
   "outputs": [],
   "source": [
    "# Save the aggegrated data to a CSV file\n",
    "TCA_df.to_csv(f\"results/TCA_results_pf{used_problem_formulation}.csv\")"
   ],
   "metadata": {
    "collapsed": false,
    "pycharm": {
     "name": "#%%\n"
    }
   }
  },
  {
   "cell_type": "markdown",
   "source": [
    "### Plots\n",
    "\n",
    "TODO: Make make some nice Seaborn plots?"
   ],
   "metadata": {
    "collapsed": false,
    "pycharm": {
     "name": "#%% md\n"
    }
   }
  },
  {
   "cell_type": "code",
   "execution_count": 34,
   "outputs": [
    {
     "data": {
      "text/plain": "<AxesSubplot:xlabel='policy'>"
     },
     "execution_count": 34,
     "metadata": {},
     "output_type": "execute_result"
    },
    {
     "data": {
      "text/plain": "<Figure size 432x288 with 1 Axes>",
      "image/png": "[encoded data removed]"
     },
     "metadata": {
      "needs_background": "light"
     },
     "output_type": "display_data"
    }
   ],
   "source": [
    "TCA_df[\"Expected Number of Deaths\"][\"mean\"].plot.bar()"
   ],
   "metadata": {
    "collapsed": false,
    "pycharm": {
     "name": "#%%\n"
    }
   }
  },
  {
   "cell_type": "code",
   "execution_count": 35,
   "outputs": [
    {
     "data": {
      "text/plain": "<AxesSubplot:xlabel='policy'>"
     },
     "execution_count": 35,
     "metadata": {},
     "output_type": "execute_result"
    },
    {
     "data": {
      "text/plain": "<Figure size 432x288 with 1 Axes>",
      "image/png": "[encoded data removed]"
     },
     "metadata": {
      "needs_background": "light"
     },
     "output_type": "display_data"
    }
   ],
   "source": [
    "TCA_df[\"Total Costs\"][\"mean\"].plot.bar()"
   ],
   "metadata": {
    "collapsed": false,
    "pycharm": {
     "name": "#%%\n"
    }
   }
  },
  {
   "cell_type": "code",
   "execution_count": 36,
   "outputs": [
    {
     "data": {
      "text/plain": "<AxesSubplot:xlabel='policy'>"
     },
     "execution_count": 36,
     "metadata": {},
     "output_type": "execute_result"
    },
    {
     "data": {
      "text/plain": "<Figure size 432x288 with 1 Axes>",
      "image/png": "[encoded data removed]"
     },
     "metadata": {
      "needs_background": "light"
     },
     "output_type": "display_data"
    }
   ],
   "source": [
    "TCA_df[\"Cost plus Damage\"][\"mean\"].plot.bar()"
   ],
   "metadata": {
    "collapsed": false,
    "pycharm": {
     "name": "#%%\n"
    }
   }
  },
  {
   "cell_type": "code",
   "execution_count": 36,
   "outputs": [],
   "source": [],
   "metadata": {
    "collapsed": false,
    "pycharm": {
     "name": "#%%\n"
    }
   }
  }
 ],
 "metadata": {
  "interpreter": {
   "hash": "6fd914e18bfa8d7647c3cf90e7a007e50e832e4a27cecf06ee50e35679d106a4"
  },
  "kernelspec": {
   "display_name": "Python 3.8.8 ('base')",
   "language": "python",
   "name": "python3"
  },
  "language_info": {
   "codemirror_mode": {
    "name": "ipython",
    "version": 3
   },
   "file_extension": ".py",
   "mimetype": "text/x-python",
   "name": "python",
   "nbconvert_exporter": "python",
   "pygments_lexer": "ipython3",
   "version": "3.8.8"
  }
 },
 "nbformat": 4,
 "nbformat_minor": 4
}