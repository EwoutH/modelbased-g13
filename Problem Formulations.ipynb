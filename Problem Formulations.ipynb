{
 "cells": [
  {
   "cell_type": "code",
   "execution_count": 1,
   "metadata": {},
   "outputs": [],
   "source": [
    "import numpy as np\n",
    "import scipy as sp\n",
    "import pandas as pd\n",
    "import matplotlib.pyplot as plt\n",
    "import seaborn as sns\n",
    "import networkx as nx\n",
    "import pickle"
   ]
  },
  {
   "cell_type": "code",
   "execution_count": 2,
   "metadata": {},
   "outputs": [
    {
     "name": "stdout",
     "output_type": "stream",
     "text": [
      "1.4.2\n",
      "2.8.2\n"
     ]
    }
   ],
   "source": [
    "# make sure pandas is version 1.0 or higher\n",
    "# make sure networkx is verion 2.4 or higher\n",
    "print(pd.__version__)\n",
    "print(nx.__version__)"
   ]
  },
  {
   "cell_type": "code",
   "execution_count": 3,
   "metadata": {
    "scrolled": true
   },
   "outputs": [],
   "source": [
    "from ema_workbench import (Model, CategoricalParameter,\n",
    "                           ScalarOutcome, IntegerParameter, RealParameter)\n",
    "from dike_model_function import DikeNetwork  # @UnresolvedImport\n",
    "\n",
    "\n",
    "def sum_over(*args):\n",
    "    return sum(args)"
   ]
  },
  {
   "cell_type": "code",
   "execution_count": 4,
   "metadata": {},
   "outputs": [],
   "source": [
    "from ema_workbench import (Model, MultiprocessingEvaluator, Policy, Scenario)\n",
    "\n",
    "from ema_workbench.em_framework.evaluators import perform_experiments\n",
    "from ema_workbench.em_framework.samplers import sample_uncertainties\n",
    "from ema_workbench.util import ema_logging\n",
    "import time\n",
    "from problem_formulation import get_model_for_problem_formulation\n",
    "\n",
    "\n",
    "ema_logging.log_to_stderr(ema_logging.INFO)\n",
    "\n",
    "#choose problem formulation number, between 0-5\n",
    "#each problem formulation has its own list of outcomes\n",
    "dike_model, planning_steps = get_model_for_problem_formulation(3)"
   ]
  },
  {
   "cell_type": "code",
   "execution_count": 5,
   "metadata": {},
   "outputs": [
    {
     "name": "stdout",
     "output_type": "stream",
     "text": [
      "CategoricalParameter('discount rate 0', [0, 1, 2, 3])\n",
      "CategoricalParameter('discount rate 1', [0, 1, 2, 3])\n",
      "CategoricalParameter('discount rate 2', [0, 1, 2, 3])\n",
      "<ema_workbench.em_framework.parameters.IntegerParameter object at 0x0000020AF39F2790>\n",
      "<ema_workbench.em_framework.parameters.RealParameter object at 0x0000020AF3A410D0>\n",
      "<ema_workbench.em_framework.parameters.RealParameter object at 0x0000020AF39F2D30>\n",
      "CategoricalParameter('A.1_Brate', [0, 1, 2])\n",
      "<ema_workbench.em_framework.parameters.RealParameter object at 0x0000020AF39F25B0>\n",
      "<ema_workbench.em_framework.parameters.RealParameter object at 0x0000020AF3A3E2E0>\n",
      "CategoricalParameter('A.2_Brate', [0, 1, 2])\n",
      "<ema_workbench.em_framework.parameters.RealParameter object at 0x0000020AF3A27220>\n",
      "<ema_workbench.em_framework.parameters.RealParameter object at 0x0000020AF3A3E5E0>\n",
      "CategoricalParameter('A.3_Brate', [0, 1, 2])\n",
      "<ema_workbench.em_framework.parameters.RealParameter object at 0x0000020AF3A57580>\n",
      "<ema_workbench.em_framework.parameters.RealParameter object at 0x0000020AF3A41640>\n",
      "CategoricalParameter('A.4_Brate', [0, 1, 2])\n",
      "<ema_workbench.em_framework.parameters.RealParameter object at 0x0000020AF3A57850>\n",
      "<ema_workbench.em_framework.parameters.RealParameter object at 0x0000020AF3A58910>\n",
      "CategoricalParameter('A.5_Brate', [0, 1, 2])\n"
     ]
    }
   ],
   "source": [
    "#enlisting uncertainties, their types (RealParameter/IntegerParameter/CategoricalParameter), lower boundary, and upper boundary\n",
    "for unc in dike_model.uncertainties:\n",
    "    print(repr(unc))\n",
    "    \n",
    "uncertainties = dike_model.uncertainties\n",
    "\n",
    "import copy\n",
    "uncertainties = copy.deepcopy(dike_model.uncertainties)"
   ]
  },
  {
   "cell_type": "code",
   "execution_count": 6,
   "metadata": {},
   "outputs": [
    {
     "name": "stdout",
     "output_type": "stream",
     "text": [
      "<ema_workbench.em_framework.parameters.IntegerParameter object at 0x0000020AF3A4B460>\n",
      "<ema_workbench.em_framework.parameters.IntegerParameter object at 0x0000020AF39F2C10>\n",
      "<ema_workbench.em_framework.parameters.IntegerParameter object at 0x0000020AF3A4B850>\n",
      "<ema_workbench.em_framework.parameters.IntegerParameter object at 0x0000020AF3A2E0D0>\n",
      "<ema_workbench.em_framework.parameters.IntegerParameter object at 0x0000020AF3A4BE50>\n",
      "<ema_workbench.em_framework.parameters.IntegerParameter object at 0x0000020AF3A2E280>\n",
      "<ema_workbench.em_framework.parameters.IntegerParameter object at 0x0000020AF3A4BE80>\n",
      "<ema_workbench.em_framework.parameters.IntegerParameter object at 0x0000020AF3A2E4F0>\n",
      "<ema_workbench.em_framework.parameters.IntegerParameter object at 0x0000020AF392E220>\n",
      "<ema_workbench.em_framework.parameters.IntegerParameter object at 0x0000020AF3A2E3D0>\n",
      "<ema_workbench.em_framework.parameters.IntegerParameter object at 0x0000020AF3A440D0>\n",
      "<ema_workbench.em_framework.parameters.IntegerParameter object at 0x0000020AF3996AC0>\n",
      "<ema_workbench.em_framework.parameters.IntegerParameter object at 0x0000020AF3A447C0>\n",
      "<ema_workbench.em_framework.parameters.IntegerParameter object at 0x0000020AF3A2EE50>\n",
      "<ema_workbench.em_framework.parameters.IntegerParameter object at 0x0000020AF3A44640>\n",
      "<ema_workbench.em_framework.parameters.IntegerParameter object at 0x0000020AF3A4B340>\n",
      "<ema_workbench.em_framework.parameters.IntegerParameter object at 0x0000020AF39F2BB0>\n",
      "<ema_workbench.em_framework.parameters.IntegerParameter object at 0x0000020AF3A41D90>\n",
      "<ema_workbench.em_framework.parameters.IntegerParameter object at 0x0000020AF3A3E040>\n",
      "<ema_workbench.em_framework.parameters.IntegerParameter object at 0x0000020AF3A3E9A0>\n",
      "<ema_workbench.em_framework.parameters.IntegerParameter object at 0x0000020AF3A270A0>\n",
      "<ema_workbench.em_framework.parameters.IntegerParameter object at 0x0000020AF3A3EA60>\n",
      "<ema_workbench.em_framework.parameters.IntegerParameter object at 0x0000020AF3A44460>\n",
      "<ema_workbench.em_framework.parameters.IntegerParameter object at 0x0000020AF3A57280>\n",
      "<ema_workbench.em_framework.parameters.IntegerParameter object at 0x0000020AF3A44C10>\n",
      "<ema_workbench.em_framework.parameters.IntegerParameter object at 0x0000020AF3A58250>\n",
      "<ema_workbench.em_framework.parameters.IntegerParameter object at 0x0000020AF3A57BE0>\n",
      "<ema_workbench.em_framework.parameters.IntegerParameter object at 0x0000020AF3A583A0>\n",
      "<ema_workbench.em_framework.parameters.IntegerParameter object at 0x0000020AF3A5F4F0>\n",
      "<ema_workbench.em_framework.parameters.IntegerParameter object at 0x0000020AF3A27B80>\n",
      "<ema_workbench.em_framework.parameters.IntegerParameter object at 0x0000020AF3A5F760>\n"
     ]
    }
   ],
   "source": [
    "#enlisting policy levers, their types (RealParameter/IntegerParameter), lower boundary, and upper boundary\n",
    "for policy in dike_model.levers:\n",
    "    print(repr(policy))\n",
    "    \n",
    "levers = dike_model.levers \n",
    "\n",
    "import copy\n",
    "levers = copy.deepcopy(dike_model.levers)"
   ]
  },
  {
   "cell_type": "code",
   "execution_count": 7,
   "metadata": {},
   "outputs": [
    {
     "name": "stdout",
     "output_type": "stream",
     "text": [
      "ScalarOutcome('A.1 Total Costs', variable_name=('A.1_Expected Annual Damage 0', 'A.1_Expected Annual Damage 1', 'A.1_Expected Annual Damage 2', 'A.1_Dike Investment Costs 0', 'A.1_Dike Investment Costs 1', 'A.1_Dike Investment Costs 2'), function=<function sum_over at 0x0000020AF305DD30>)\n",
      "ScalarOutcome('A.1_Expected Number of Deaths', variable_name=('A.1_Expected Number of Deaths 0', 'A.1_Expected Number of Deaths 1', 'A.1_Expected Number of Deaths 2'), function=<function sum_over at 0x0000020AF305DD30>)\n",
      "ScalarOutcome('A.2 Total Costs', variable_name=('A.2_Expected Annual Damage 0', 'A.2_Expected Annual Damage 1', 'A.2_Expected Annual Damage 2', 'A.2_Dike Investment Costs 0', 'A.2_Dike Investment Costs 1', 'A.2_Dike Investment Costs 2'), function=<function sum_over at 0x0000020AF305DD30>)\n",
      "ScalarOutcome('A.2_Expected Number of Deaths', variable_name=('A.2_Expected Number of Deaths 0', 'A.2_Expected Number of Deaths 1', 'A.2_Expected Number of Deaths 2'), function=<function sum_over at 0x0000020AF305DD30>)\n",
      "ScalarOutcome('A.3 Total Costs', variable_name=('A.3_Expected Annual Damage 0', 'A.3_Expected Annual Damage 1', 'A.3_Expected Annual Damage 2', 'A.3_Dike Investment Costs 0', 'A.3_Dike Investment Costs 1', 'A.3_Dike Investment Costs 2'), function=<function sum_over at 0x0000020AF305DD30>)\n",
      "ScalarOutcome('A.3_Expected Number of Deaths', variable_name=('A.3_Expected Number of Deaths 0', 'A.3_Expected Number of Deaths 1', 'A.3_Expected Number of Deaths 2'), function=<function sum_over at 0x0000020AF305DD30>)\n",
      "ScalarOutcome('A.4 Total Costs', variable_name=('A.4_Expected Annual Damage 0', 'A.4_Expected Annual Damage 1', 'A.4_Expected Annual Damage 2', 'A.4_Dike Investment Costs 0', 'A.4_Dike Investment Costs 1', 'A.4_Dike Investment Costs 2'), function=<function sum_over at 0x0000020AF305DD30>)\n",
      "ScalarOutcome('A.4_Expected Number of Deaths', variable_name=('A.4_Expected Number of Deaths 0', 'A.4_Expected Number of Deaths 1', 'A.4_Expected Number of Deaths 2'), function=<function sum_over at 0x0000020AF305DD30>)\n",
      "ScalarOutcome('A.5 Total Costs', variable_name=('A.5_Expected Annual Damage 0', 'A.5_Expected Annual Damage 1', 'A.5_Expected Annual Damage 2', 'A.5_Dike Investment Costs 0', 'A.5_Dike Investment Costs 1', 'A.5_Dike Investment Costs 2'), function=<function sum_over at 0x0000020AF305DD30>)\n",
      "ScalarOutcome('A.5_Expected Number of Deaths', variable_name=('A.5_Expected Number of Deaths 0', 'A.5_Expected Number of Deaths 1', 'A.5_Expected Number of Deaths 2'), function=<function sum_over at 0x0000020AF305DD30>)\n",
      "ScalarOutcome('RfR Total Costs', variable_name=('RfR Total Costs 0', 'RfR Total Costs 1', 'RfR Total Costs 2'), function=<function sum_over at 0x0000020AF305DD30>)\n",
      "ScalarOutcome('Expected Evacuation Costs', variable_name=('Expected Evacuation Costs 0', 'Expected Evacuation Costs 1', 'Expected Evacuation Costs 2'), function=<function sum_over at 0x0000020AF305DD30>)\n"
     ]
    }
   ],
   "source": [
    "#enlisting outcomes\n",
    "for outcome in dike_model.outcomes:\n",
    "    print(repr(outcome))"
   ]
  },
  {
   "cell_type": "code",
   "execution_count": 8,
   "metadata": {},
   "outputs": [],
   "source": [
    "#defining specific policies\n",
    "#for example, policy 1 is about extra protection in upper boundary\n",
    "#policy 2 is about extra protection in lower boundary\n",
    "#policy 3 is extra protection in random locations\n",
    "from ema_workbench import Policy\n",
    "\n",
    "policies = [Policy('policy 1', **{' 0_RfR 0':0,\n",
    "                                  '0_RfR 1':0,\n",
    "                                  '0_RfR 2':0,\n",
    "                                  'A.3_DikeIncrease 0':0}),\n",
    "           Policy('policy 2', **{'0_RfR 0':0,\n",
    "                                 '0_RfR 1':0,\n",
    "                                '0_RfR 2':0,\n",
    "                                'A.3_DikeIncrease 0':5}),\n",
    "           Policy('policy 3', **{'0_RfR 0':0,\n",
    "                                 '0_RfR 1':0,\n",
    "                                '0_RfR 2':0,\n",
    "                                'A.3_DikeIncrease 0':10}),\n",
    "            Policy('policy 4', **{'0_RfR 0':1,\n",
    "                                 '0_RfR 1': 0,\n",
    "                                '0_RfR 2': 0,\n",
    "                                'A.3_DikeIncrease 0':0}),\n",
    "          Policy('policy 5', **{'0_RfR 0':0,\n",
    "                                 '0_RfR 0':1,\n",
    "                                '0_RfR 0':0,\n",
    "                                'A.3_DikeIncrease 0':0}),\n",
    "          Policy('policy 6', **{'0_RfR 0':0,\n",
    "                                 '0_RfR 1':0,\n",
    "                                '0_RfR 2':1,\n",
    "                                'A.3_DikeIncrease 0':0}),\n",
    "        Policy('policy 7', **{' 1_RfR 0':1,\n",
    "                                  '1_RfR 1':0,\n",
    "                                  '1_RfR 2':0,\n",
    "                                  'A.3_DikeIncrease 0':0}),\n",
    "           Policy('policy 8', **{'1_RfR 0':0,\n",
    "                                 '1_RfR 1':1,\n",
    "                                '1_RfR 2':0,\n",
    "                                'A.5_DikeIncrease 0':0}),\n",
    "           Policy('policy 9', **{'1_RfR 0':0,\n",
    "                                 '1_RfR 1':0,\n",
    "                                '1_RfR 2':1,\n",
    "                                'A.3_DikeIncrease 0':0}),\n",
    "            Policy('policy 10', **{'2_RfR 0':1,\n",
    "                                 '2_RfR 1':0,\n",
    "                                '2_RfR 2':0,\n",
    "                                'A.3_DikeIncrease 0':0}),\n",
    "          Policy('policy 11', **{'2_RfR 0':0,\n",
    "                                 '2_RfR 1':1,\n",
    "                                '2_RfR 2':0,\n",
    "                                'A.3_DikeIncrease 0':0}),\n",
    "          Policy('policy 12', **{'2_RfR 0':0,\n",
    "                                 '2_RfR 1':0,\n",
    "                                '2_RfR 2':1,\n",
    "                                'A.3_DikeIncrease 0':0})\n",
    "            ]"
   ]
  },
  {
   "cell_type": "code",
   "execution_count": 9,
   "metadata": {},
   "outputs": [
    {
     "data": {
      "text/plain": "<Logger EMA (DEBUG)>"
     },
     "execution_count": 9,
     "metadata": {},
     "output_type": "execute_result"
    }
   ],
   "source": [
    "from ema_workbench import (MultiprocessingEvaluator, ema_logging,\n",
    "                           perform_experiments, SequentialEvaluator)\n",
    "ema_logging.log_to_stderr(ema_logging.INFO)"
   ]
  },
  {
   "cell_type": "code",
   "execution_count": 10,
   "metadata": {},
   "outputs": [],
   "source": [
    "use_pickle1 = True\n",
    "if use_pickle1:\n",
    "    with open('data/formulation_results.pickle', 'rb') as filehandler:\n",
    "        results = pickle.load(filehandler)\n",
    "else:\n",
    "    #pass the policies list to EMA workbench experiment runs\n",
    "    n_scenarios = 100\n",
    "    with MultiprocessingEvaluator(dike_model) as evaluator:\n",
    "        results = evaluator.perform_experiments(n_scenarios, policies)\n",
    "    # Save results in Pickle file\n",
    "    with open('data/formulation_results.pickle', 'wb') as filehandler:\n",
    "        pickle.dump(results, filehandler)\n"
   ]
  },
  {
   "cell_type": "markdown",
   "metadata": {},
   "source": []
  },
  {
   "cell_type": "code",
   "execution_count": 11,
   "metadata": {},
   "outputs": [
    {
     "data": {
      "text/plain": "      A.1 Total Costs  A.1_Expected Number of Deaths  A.2 Total Costs  \\\n0        9.506030e+07                       0.000000     1.118850e+08   \n1        9.506030e+07                       0.000000     7.323512e+08   \n2        2.512252e+09                       1.652505     1.093152e+08   \n3        9.506030e+07                       0.000000     1.260903e+08   \n4        2.508217e+09                       1.649032     1.093152e+08   \n...               ...                            ...              ...   \n1195     2.679112e+09                       1.903257     1.022563e+08   \n1196     2.508319e+09                       1.885683     1.022563e+08   \n1197     8.964065e+07                       0.002453     1.070046e+08   \n1198     3.159608e+08                       0.177236     2.741476e+08   \n1199     2.215942e+09                       1.706911     1.022563e+08   \n\n      A.2_Expected Number of Deaths  A.3 Total Costs  \\\n0                          0.002483     1.389003e+08   \n1                          0.478150     1.959433e+07   \n2                          0.000000     9.549722e+07   \n3                          0.017792     6.827920e+07   \n4                          0.000000     2.421301e+08   \n...                             ...              ...   \n1195                       0.000000     5.437894e+07   \n1196                       0.000000     1.858000e+07   \n1197                       0.004018     3.478393e+07   \n1198                       0.169799     1.858000e+07   \n1199                       0.000000     1.858000e+07   \n\n      A.3_Expected Number of Deaths  A.4 Total Costs  \\\n0                          0.231006     2.485405e+07   \n1                          0.000000     1.686899e+07   \n2                          0.131235     1.686899e+07   \n3                          0.097941     4.256294e+07   \n4                          0.400379     4.272025e+07   \n...                             ...              ...   \n1195                       0.065691     1.623000e+07   \n1196                       0.000000     7.595766e+07   \n1197                       0.025415     4.141514e+07   \n1198                       0.000000     8.926443e+07   \n1199                       0.000000     1.623000e+07   \n\n      A.4_Expected Number of Deaths  A.5 Total Costs  \\\n0                          0.004771     2.983051e+08   \n1                          0.000000     7.344192e+07   \n2                          0.000000     7.197799e+07   \n3                          0.013238     1.166882e+08   \n4                          0.011854     7.197799e+07   \n...                             ...              ...   \n1195                       0.000000     4.542000e+07   \n1196                       0.024761     4.542000e+07   \n1197                       0.011307     4.542000e+07   \n1198                       0.036158     4.542000e+07   \n1199                       0.000000     4.542000e+07   \n\n      A.5_Expected Number of Deaths  RfR Total Costs  \\\n0                          0.220732              0.0   \n1                          0.001258              0.0   \n2                          0.000000              0.0   \n3                          0.046773              0.0   \n4                          0.000000              0.0   \n...                             ...              ...   \n1195                       0.000000       30700000.0   \n1196                       0.000000       30700000.0   \n1197                       0.000000       30700000.0   \n1198                       0.000000       30700000.0   \n1199                       0.000000       30700000.0   \n\n      Expected Evacuation Costs     policy  \n0                           0.0   policy 1  \n1                           0.0   policy 1  \n2                           0.0   policy 1  \n3                           0.0   policy 1  \n4                           0.0   policy 1  \n...                         ...        ...  \n1195                        0.0  policy 12  \n1196                        0.0  policy 12  \n1197                        0.0  policy 12  \n1198                        0.0  policy 12  \n1199                        0.0  policy 12  \n\n[1200 rows x 13 columns]",
      "text/html": "<div>\n<style scoped>\n    .dataframe tbody tr th:only-of-type {\n        vertical-align: middle;\n    }\n\n    .dataframe tbody tr th {\n        vertical-align: top;\n    }\n\n    .dataframe thead th {\n        text-align: right;\n    }\n</style>\n<table border=\"1\" class=\"dataframe\">\n  <thead>\n    <tr style=\"text-align: right;\">\n      <th></th>\n      <th>A.1 Total Costs</th>\n      <th>A.1_Expected Number of Deaths</th>\n      <th>A.2 Total Costs</th>\n      <th>A.2_Expected Number of Deaths</th>\n      <th>A.3 Total Costs</th>\n      <th>A.3_Expected Number of Deaths</th>\n      <th>A.4 Total Costs</th>\n      <th>A.4_Expected Number of Deaths</th>\n      <th>A.5 Total Costs</th>\n      <th>A.5_Expected Number of Deaths</th>\n      <th>RfR Total Costs</th>\n      <th>Expected Evacuation Costs</th>\n      <th>policy</th>\n    </tr>\n  </thead>\n  <tbody>\n    <tr>\n      <th>0</th>\n      <td>9.506030e+07</td>\n      <td>0.000000</td>\n      <td>1.118850e+08</td>\n      <td>0.002483</td>\n      <td>1.389003e+08</td>\n      <td>0.231006</td>\n      <td>2.485405e+07</td>\n      <td>0.004771</td>\n      <td>2.983051e+08</td>\n      <td>0.220732</td>\n      <td>0.0</td>\n      <td>0.0</td>\n      <td>policy 1</td>\n    </tr>\n    <tr>\n      <th>1</th>\n      <td>9.506030e+07</td>\n      <td>0.000000</td>\n      <td>7.323512e+08</td>\n      <td>0.478150</td>\n      <td>1.959433e+07</td>\n      <td>0.000000</td>\n      <td>1.686899e+07</td>\n      <td>0.000000</td>\n      <td>7.344192e+07</td>\n      <td>0.001258</td>\n      <td>0.0</td>\n      <td>0.0</td>\n      <td>policy 1</td>\n    </tr>\n    <tr>\n      <th>2</th>\n      <td>2.512252e+09</td>\n      <td>1.652505</td>\n      <td>1.093152e+08</td>\n      <td>0.000000</td>\n      <td>9.549722e+07</td>\n      <td>0.131235</td>\n      <td>1.686899e+07</td>\n      <td>0.000000</td>\n      <td>7.197799e+07</td>\n      <td>0.000000</td>\n      <td>0.0</td>\n      <td>0.0</td>\n      <td>policy 1</td>\n    </tr>\n    <tr>\n      <th>3</th>\n      <td>9.506030e+07</td>\n      <td>0.000000</td>\n      <td>1.260903e+08</td>\n      <td>0.017792</td>\n      <td>6.827920e+07</td>\n      <td>0.097941</td>\n      <td>4.256294e+07</td>\n      <td>0.013238</td>\n      <td>1.166882e+08</td>\n      <td>0.046773</td>\n      <td>0.0</td>\n      <td>0.0</td>\n      <td>policy 1</td>\n    </tr>\n    <tr>\n      <th>4</th>\n      <td>2.508217e+09</td>\n      <td>1.649032</td>\n      <td>1.093152e+08</td>\n      <td>0.000000</td>\n      <td>2.421301e+08</td>\n      <td>0.400379</td>\n      <td>4.272025e+07</td>\n      <td>0.011854</td>\n      <td>7.197799e+07</td>\n      <td>0.000000</td>\n      <td>0.0</td>\n      <td>0.0</td>\n      <td>policy 1</td>\n    </tr>\n    <tr>\n      <th>...</th>\n      <td>...</td>\n      <td>...</td>\n      <td>...</td>\n      <td>...</td>\n      <td>...</td>\n      <td>...</td>\n      <td>...</td>\n      <td>...</td>\n      <td>...</td>\n      <td>...</td>\n      <td>...</td>\n      <td>...</td>\n      <td>...</td>\n    </tr>\n    <tr>\n      <th>1195</th>\n      <td>2.679112e+09</td>\n      <td>1.903257</td>\n      <td>1.022563e+08</td>\n      <td>0.000000</td>\n      <td>5.437894e+07</td>\n      <td>0.065691</td>\n      <td>1.623000e+07</td>\n      <td>0.000000</td>\n      <td>4.542000e+07</td>\n      <td>0.000000</td>\n      <td>30700000.0</td>\n      <td>0.0</td>\n      <td>policy 12</td>\n    </tr>\n    <tr>\n      <th>1196</th>\n      <td>2.508319e+09</td>\n      <td>1.885683</td>\n      <td>1.022563e+08</td>\n      <td>0.000000</td>\n      <td>1.858000e+07</td>\n      <td>0.000000</td>\n      <td>7.595766e+07</td>\n      <td>0.024761</td>\n      <td>4.542000e+07</td>\n      <td>0.000000</td>\n      <td>30700000.0</td>\n      <td>0.0</td>\n      <td>policy 12</td>\n    </tr>\n    <tr>\n      <th>1197</th>\n      <td>8.964065e+07</td>\n      <td>0.002453</td>\n      <td>1.070046e+08</td>\n      <td>0.004018</td>\n      <td>3.478393e+07</td>\n      <td>0.025415</td>\n      <td>4.141514e+07</td>\n      <td>0.011307</td>\n      <td>4.542000e+07</td>\n      <td>0.000000</td>\n      <td>30700000.0</td>\n      <td>0.0</td>\n      <td>policy 12</td>\n    </tr>\n    <tr>\n      <th>1198</th>\n      <td>3.159608e+08</td>\n      <td>0.177236</td>\n      <td>2.741476e+08</td>\n      <td>0.169799</td>\n      <td>1.858000e+07</td>\n      <td>0.000000</td>\n      <td>8.926443e+07</td>\n      <td>0.036158</td>\n      <td>4.542000e+07</td>\n      <td>0.000000</td>\n      <td>30700000.0</td>\n      <td>0.0</td>\n      <td>policy 12</td>\n    </tr>\n    <tr>\n      <th>1199</th>\n      <td>2.215942e+09</td>\n      <td>1.706911</td>\n      <td>1.022563e+08</td>\n      <td>0.000000</td>\n      <td>1.858000e+07</td>\n      <td>0.000000</td>\n      <td>1.623000e+07</td>\n      <td>0.000000</td>\n      <td>4.542000e+07</td>\n      <td>0.000000</td>\n      <td>30700000.0</td>\n      <td>0.0</td>\n      <td>policy 12</td>\n    </tr>\n  </tbody>\n</table>\n<p>1200 rows × 13 columns</p>\n</div>"
     },
     "execution_count": 11,
     "metadata": {},
     "output_type": "execute_result"
    }
   ],
   "source": [
    "import pandas as pd\n",
    "a,b = results\n",
    "df = pd.DataFrame(b)\n",
    "df[\"policy\"] = pd.DataFrame(a)[\"policy\"]\n",
    "df\n",
    "\n",
    "#a = np.min(df['A.3 Total Costs'])#\n",
    "\n"
   ]
  },
  {
   "cell_type": "code",
   "execution_count": 12,
   "metadata": {
    "collapsed": true,
    "jupyter": {
     "outputs_hidden": true
    }
   },
   "outputs": [
    {
     "name": "stdout",
     "output_type": "stream",
     "text": [
      "18580000.0\n",
      "338919753.2389691\n",
      "2785616795.6057982\n",
      "1954454010.5283349\n",
      "18580000.0\n"
     ]
    }
   ],
   "source": [
    "#dit moet dus gebeuren per 100 scenarios\n",
    "print(np.min(df['A.3 Total Costs']))\n",
    "print(np.average(df['A.3 Total Costs']))\n",
    "print(np.max(df['A.3 Total Costs']))\n",
    "print(np.percentile(df['A.3 Total Costs'], 95))\n",
    "print(np.percentile(df['A.3 Total Costs'], 5))"
   ]
  },
  {
   "cell_type": "code",
   "execution_count": 13,
   "outputs": [],
   "source": [
    "def q05(x):\n",
    "    return x.quantile(0.05)\n",
    "def q95(x):\n",
    "    return x.quantile(0.95)"
   ],
   "metadata": {
    "collapsed": false,
    "pycharm": {
     "name": "#%%\n"
    }
   }
  },
  {
   "cell_type": "code",
   "execution_count": 14,
   "outputs": [
    {
     "data": {
      "text/plain": "          A.3 Total Costs                                            \\\n                     mean           min           max           q05   \npolicy                                                                \npolicy 1     3.881642e+08  1.858000e+07  2.719248e+09  1.858000e+07   \npolicy 10    2.537979e+08  1.858000e+07  2.298932e+09  1.858000e+07   \npolicy 11    2.537979e+08  1.858000e+07  2.298932e+09  1.858000e+07   \npolicy 12    2.537979e+08  1.858000e+07  2.298932e+09  1.858000e+07   \npolicy 2     7.336466e+07  5.077736e+07  1.040765e+09  5.077736e+07   \npolicy 3     7.032366e+07  7.021474e+07  8.110693e+07  7.021474e+07   \npolicy 4     5.038545e+08  1.858000e+07  2.785617e+09  1.858000e+07   \npolicy 5     3.897185e+08  1.858000e+07  2.719248e+09  1.858000e+07   \npolicy 6     5.038545e+08  1.858000e+07  2.785617e+09  1.858000e+07   \npolicy 7     3.897185e+08  1.858000e+07  2.719248e+09  1.858000e+07   \npolicy 8     4.933224e+08  1.858000e+07  2.785617e+09  1.858000e+07   \npolicy 9     4.933224e+08  1.858000e+07  2.785617e+09  1.858000e+07   \n\n                        A.3_Expected Number of Deaths                      \\\n                    q95                          mean  min       max  q05   \npolicy                                                                      \npolicy 1   2.093779e+09                      0.644903  0.0  3.520692  0.0   \npolicy 10  1.671513e+09                      0.401836  0.0  3.236993  0.0   \npolicy 11  1.671513e+09                      0.401836  0.0  3.236993  0.0   \npolicy 12  1.671513e+09                      0.401836  0.0  3.236993  0.0   \npolicy 2   8.810651e+07                      0.046278  0.0  2.193363  0.0   \npolicy 3   7.021474e+07                      0.000261  0.0  0.026074  0.0   \npolicy 4   2.176020e+09                      0.840441  0.0  3.526107  0.0   \npolicy 5   2.093779e+09                      0.648298  0.0  3.520692  0.0   \npolicy 6   2.176020e+09                      0.840441  0.0  3.526107  0.0   \npolicy 7   2.093779e+09                      0.648298  0.0  3.520692  0.0   \npolicy 8   2.176020e+09                      0.822823  0.0  3.526107  0.0   \npolicy 9   2.176020e+09                      0.822823  0.0  3.526107  0.0   \n\n                     \n                q95  \npolicy               \npolicy 1   3.449067  \npolicy 10  3.183660  \npolicy 11  3.183660  \npolicy 12  3.183660  \npolicy 2   0.073038  \npolicy 3   0.000000  \npolicy 4   3.471726  \npolicy 5   3.449067  \npolicy 6   3.471726  \npolicy 7   3.449067  \npolicy 8   3.471726  \npolicy 9   3.471726  ",
      "text/html": "<div>\n<style scoped>\n    .dataframe tbody tr th:only-of-type {\n        vertical-align: middle;\n    }\n\n    .dataframe tbody tr th {\n        vertical-align: top;\n    }\n\n    .dataframe thead tr th {\n        text-align: left;\n    }\n\n    .dataframe thead tr:last-of-type th {\n        text-align: right;\n    }\n</style>\n<table border=\"1\" class=\"dataframe\">\n  <thead>\n    <tr>\n      <th></th>\n      <th colspan=\"5\" halign=\"left\">A.3 Total Costs</th>\n      <th colspan=\"5\" halign=\"left\">A.3_Expected Number of Deaths</th>\n    </tr>\n    <tr>\n      <th></th>\n      <th>mean</th>\n      <th>min</th>\n      <th>max</th>\n      <th>q05</th>\n      <th>q95</th>\n      <th>mean</th>\n      <th>min</th>\n      <th>max</th>\n      <th>q05</th>\n      <th>q95</th>\n    </tr>\n    <tr>\n      <th>policy</th>\n      <th></th>\n      <th></th>\n      <th></th>\n      <th></th>\n      <th></th>\n      <th></th>\n      <th></th>\n      <th></th>\n      <th></th>\n      <th></th>\n    </tr>\n  </thead>\n  <tbody>\n    <tr>\n      <th>policy 1</th>\n      <td>3.881642e+08</td>\n      <td>1.858000e+07</td>\n      <td>2.719248e+09</td>\n      <td>1.858000e+07</td>\n      <td>2.093779e+09</td>\n      <td>0.644903</td>\n      <td>0.0</td>\n      <td>3.520692</td>\n      <td>0.0</td>\n      <td>3.449067</td>\n    </tr>\n    <tr>\n      <th>policy 10</th>\n      <td>2.537979e+08</td>\n      <td>1.858000e+07</td>\n      <td>2.298932e+09</td>\n      <td>1.858000e+07</td>\n      <td>1.671513e+09</td>\n      <td>0.401836</td>\n      <td>0.0</td>\n      <td>3.236993</td>\n      <td>0.0</td>\n      <td>3.183660</td>\n    </tr>\n    <tr>\n      <th>policy 11</th>\n      <td>2.537979e+08</td>\n      <td>1.858000e+07</td>\n      <td>2.298932e+09</td>\n      <td>1.858000e+07</td>\n      <td>1.671513e+09</td>\n      <td>0.401836</td>\n      <td>0.0</td>\n      <td>3.236993</td>\n      <td>0.0</td>\n      <td>3.183660</td>\n    </tr>\n    <tr>\n      <th>policy 12</th>\n      <td>2.537979e+08</td>\n      <td>1.858000e+07</td>\n      <td>2.298932e+09</td>\n      <td>1.858000e+07</td>\n      <td>1.671513e+09</td>\n      <td>0.401836</td>\n      <td>0.0</td>\n      <td>3.236993</td>\n      <td>0.0</td>\n      <td>3.183660</td>\n    </tr>\n    <tr>\n      <th>policy 2</th>\n      <td>7.336466e+07</td>\n      <td>5.077736e+07</td>\n      <td>1.040765e+09</td>\n      <td>5.077736e+07</td>\n      <td>8.810651e+07</td>\n      <td>0.046278</td>\n      <td>0.0</td>\n      <td>2.193363</td>\n      <td>0.0</td>\n      <td>0.073038</td>\n    </tr>\n    <tr>\n      <th>policy 3</th>\n      <td>7.032366e+07</td>\n      <td>7.021474e+07</td>\n      <td>8.110693e+07</td>\n      <td>7.021474e+07</td>\n      <td>7.021474e+07</td>\n      <td>0.000261</td>\n      <td>0.0</td>\n      <td>0.026074</td>\n      <td>0.0</td>\n      <td>0.000000</td>\n    </tr>\n    <tr>\n      <th>policy 4</th>\n      <td>5.038545e+08</td>\n      <td>1.858000e+07</td>\n      <td>2.785617e+09</td>\n      <td>1.858000e+07</td>\n      <td>2.176020e+09</td>\n      <td>0.840441</td>\n      <td>0.0</td>\n      <td>3.526107</td>\n      <td>0.0</td>\n      <td>3.471726</td>\n    </tr>\n    <tr>\n      <th>policy 5</th>\n      <td>3.897185e+08</td>\n      <td>1.858000e+07</td>\n      <td>2.719248e+09</td>\n      <td>1.858000e+07</td>\n      <td>2.093779e+09</td>\n      <td>0.648298</td>\n      <td>0.0</td>\n      <td>3.520692</td>\n      <td>0.0</td>\n      <td>3.449067</td>\n    </tr>\n    <tr>\n      <th>policy 6</th>\n      <td>5.038545e+08</td>\n      <td>1.858000e+07</td>\n      <td>2.785617e+09</td>\n      <td>1.858000e+07</td>\n      <td>2.176020e+09</td>\n      <td>0.840441</td>\n      <td>0.0</td>\n      <td>3.526107</td>\n      <td>0.0</td>\n      <td>3.471726</td>\n    </tr>\n    <tr>\n      <th>policy 7</th>\n      <td>3.897185e+08</td>\n      <td>1.858000e+07</td>\n      <td>2.719248e+09</td>\n      <td>1.858000e+07</td>\n      <td>2.093779e+09</td>\n      <td>0.648298</td>\n      <td>0.0</td>\n      <td>3.520692</td>\n      <td>0.0</td>\n      <td>3.449067</td>\n    </tr>\n    <tr>\n      <th>policy 8</th>\n      <td>4.933224e+08</td>\n      <td>1.858000e+07</td>\n      <td>2.785617e+09</td>\n      <td>1.858000e+07</td>\n      <td>2.176020e+09</td>\n      <td>0.822823</td>\n      <td>0.0</td>\n      <td>3.526107</td>\n      <td>0.0</td>\n      <td>3.471726</td>\n    </tr>\n    <tr>\n      <th>policy 9</th>\n      <td>4.933224e+08</td>\n      <td>1.858000e+07</td>\n      <td>2.785617e+09</td>\n      <td>1.858000e+07</td>\n      <td>2.176020e+09</td>\n      <td>0.822823</td>\n      <td>0.0</td>\n      <td>3.526107</td>\n      <td>0.0</td>\n      <td>3.471726</td>\n    </tr>\n  </tbody>\n</table>\n</div>"
     },
     "execution_count": 14,
     "metadata": {},
     "output_type": "execute_result"
    }
   ],
   "source": [
    "group_df = df.groupby(by=\"policy\")\n",
    "agg_par = ['mean', 'min', 'max', q05, q95]\n",
    "agg_dict = {\n",
    "    'A.3 Total Costs': agg_par,\n",
    "    'A.3_Expected Number of Deaths': agg_par\n",
    "}\n",
    "TCA_df = group_df.agg(agg_dict)\n",
    "TCA_df"
   ],
   "metadata": {
    "collapsed": false,
    "pycharm": {
     "name": "#%%\n"
    }
   }
  },
  {
   "cell_type": "code",
   "execution_count": 15,
   "outputs": [],
   "source": [
    "TCA_df.to_csv(\"results/TCA3_results.csv\")"
   ],
   "metadata": {
    "collapsed": false,
    "pycharm": {
     "name": "#%%\n"
    }
   }
  },
  {
   "cell_type": "markdown",
   "source": [
    "# TODO: Delete everything below here"
   ],
   "metadata": {
    "collapsed": false,
    "pycharm": {
     "name": "#%% md\n"
    }
   }
  },
  {
   "cell_type": "code",
   "execution_count": 16,
   "metadata": {
    "pycharm": {
     "name": "#%%\n"
    }
   },
   "outputs": [],
   "source": [
    "TCA_3 = df['A.3 Total Costs']\n",
    "ED_3 = df['A.3_Expected Number of Deaths']\n",
    "RfR3 = df['RfR Total Costs']\n",
    "EEC = df['Expected Evacuation Costs']\n",
    "\n",
    "TCA_3min = np.zeros(12)\n",
    "TCA_3avg = np.zeros(12)\n",
    "TCA_3max = np.zeros(12)\n",
    "TCA_3P5 = np.zeros(12)\n",
    "TCA_3P95 = np.zeros(12)\n",
    "\n",
    "\n",
    "for i in range(len(policies)):\n",
    "    TCA_3min[i] += np.min([TCA_3[i], TCA_3[i+100]])\n",
    "    TCA_3avg[i] += np.average([TCA_3[i], TCA_3[i+100]])\n",
    "    TCA_3max[i] += np.max([TCA_3[i], TCA_3[i+100]])\n",
    "    TCA_3P5[i] += np.percentile([TCA_3[i], TCA_3[i+100]], 5)\n",
    "    TCA_3P95[i] += np.percentile([TCA_3[i], TCA_3[i+100]], 95)"
   ]
  },
  {
   "cell_type": "code",
   "execution_count": 17,
   "metadata": {},
   "outputs": [
    {
     "name": "stdout",
     "output_type": "stream",
     "text": [
      "0.0\n",
      "0.5433395895860357\n",
      "3.5261066879565766\n"
     ]
    }
   ],
   "source": [
    "print(np.min(df['A.3_Expected Number of Deaths']))\n",
    "print(np.average(df['A.3_Expected Number of Deaths']))\n",
    "print(np.max(df['A.3_Expected Number of Deaths']))"
   ]
  },
  {
   "cell_type": "code",
   "execution_count": 18,
   "metadata": {},
   "outputs": [
    {
     "name": "stdout",
     "output_type": "stream",
     "text": [
      "0.0\n",
      "58075000.0\n",
      "217800000.0\n"
     ]
    }
   ],
   "source": [
    "print(np.min(df['RfR Total Costs']))\n",
    "print(np.average(df['RfR Total Costs']))\n",
    "print(np.max(df['RfR Total Costs']))"
   ]
  },
  {
   "cell_type": "code",
   "execution_count": 19,
   "metadata": {},
   "outputs": [
    {
     "name": "stdout",
     "output_type": "stream",
     "text": [
      "0.0\n",
      "0.0\n",
      "0.0\n"
     ]
    }
   ],
   "source": [
    "print(np.min(df['Expected Evacuation Costs']))\n",
    "print(np.average(df['Expected Evacuation Costs']))\n",
    "print(np.max(df['Expected Evacuation Costs']))"
   ]
  }
 ],
 "metadata": {
  "interpreter": {
   "hash": "6fd914e18bfa8d7647c3cf90e7a007e50e832e4a27cecf06ee50e35679d106a4"
  },
  "kernelspec": {
   "display_name": "Python 3.8.8 ('base')",
   "language": "python",
   "name": "python3"
  },
  "language_info": {
   "codemirror_mode": {
    "name": "ipython",
    "version": 3
   },
   "file_extension": ".py",
   "mimetype": "text/x-python",
   "name": "python",
   "nbconvert_exporter": "python",
   "pygments_lexer": "ipython3",
   "version": "3.8.8"
  }
 },
 "nbformat": 4,
 "nbformat_minor": 4
}