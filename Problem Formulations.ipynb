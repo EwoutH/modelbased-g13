{
 "cells": [
  {
   "cell_type": "markdown",
   "metadata": {
    "pycharm": {
     "name": "#%% md\n"
    }
   },
   "source": []
  },
  {
   "cell_type": "markdown",
   "metadata": {
    "pycharm": {
     "name": "#%% md\n"
    }
   },
   "source": [
    "### Imports\n",
    "Import packages and load model parameters (uncertainties, levers, etc.)"
   ]
  },
  {
   "cell_type": "code",
   "execution_count": 2,
   "metadata": {
    "collapsed": false,
    "jupyter": {
     "outputs_hidden": false
    },
    "pycharm": {
     "name": "#%%\n"
    }
   },
   "outputs": [],
   "source": [
    "import numpy as np\n",
    "import scipy as sp\n",
    "import pandas as pd\n",
    "import matplotlib.pyplot as plt\n",
    "import seaborn as sns\n",
    "import networkx as nx\n",
    "import pickle"
   ]
  },
  {
   "cell_type": "code",
   "execution_count": 3,
   "metadata": {
    "collapsed": false,
    "jupyter": {
     "outputs_hidden": false
    },
    "pycharm": {
     "name": "#%%\n"
    }
   },
   "outputs": [
    {
     "name": "stdout",
     "output_type": "stream",
     "text": [
      "1.4.2\n",
      "2.8.2\n"
     ]
    }
   ],
   "source": [
    "# make sure pandas is version 1.0 or higher\n",
    "# make sure networkx is verion 2.4 or higher\n",
    "print(pd.__version__)\n",
    "print(nx.__version__)"
   ]
  },
  {
   "cell_type": "code",
   "execution_count": 4,
   "metadata": {
    "collapsed": false,
    "jupyter": {
     "outputs_hidden": false
    },
    "pycharm": {
     "name": "#%%\n"
    }
   },
   "outputs": [],
   "source": [
    "from ema_workbench import (\n",
    "    Model,\n",
    "    Policy,\n",
    "    ema_logging,\n",
    "    SequentialEvaluator,\n",
    "    MultiprocessingEvaluator,\n",
    ")\n",
    "from dike_model_function import DikeNetwork  # @UnresolvedImport\n",
    "from problem_formulation import get_model_for_problem_formulation\n",
    "\n",
    "\n",
    "def sum_over(*args):\n",
    "    return sum(args)"
   ]
  },
  {
   "cell_type": "code",
   "execution_count": 5,
   "metadata": {
    "collapsed": false,
    "jupyter": {
     "outputs_hidden": false
    },
    "pycharm": {
     "name": "#%%\n"
    }
   },
   "outputs": [
    {
     "data": {
      "text/plain": [
       "<Logger EMA (DEBUG)>"
      ]
     },
     "execution_count": 5,
     "metadata": {},
     "output_type": "execute_result"
    }
   ],
   "source": [
    "# Enable logging\n",
    "ema_logging.log_to_stderr(ema_logging.INFO)"
   ]
  },
  {
   "cell_type": "markdown",
   "metadata": {
    "pycharm": {
     "name": "#%% md\n"
    }
   },
   "source": [
    "**Problem formulation**\n",
    "Important cell below, here you can choose the problem formulation number, between 0-5\n",
    "each problem formulation has its own list of outcomes"
   ]
  },
  {
   "cell_type": "code",
   "execution_count": 6,
   "metadata": {
    "collapsed": false,
    "jupyter": {
     "outputs_hidden": false
    },
    "pycharm": {
     "name": "#%%\n"
    }
   },
   "outputs": [],
   "source": [
    "used_problem_formulation = 2\n",
    "\n",
    "dike_model, planning_steps = get_model_for_problem_formulation(used_problem_formulation)"
   ]
  },
  {
   "cell_type": "code",
   "execution_count": 7,
   "metadata": {
    "collapsed": false,
    "jupyter": {
     "outputs_hidden": false
    },
    "pycharm": {
     "name": "#%%\n"
    }
   },
   "outputs": [
    {
     "name": "stdout",
     "output_type": "stream",
     "text": [
      "CategoricalParameter('discount rate 0', [0, 1, 2, 3])\n",
      "CategoricalParameter('discount rate 1', [0, 1, 2, 3])\n",
      "CategoricalParameter('discount rate 2', [0, 1, 2, 3])\n",
      "<ema_workbench.em_framework.parameters.IntegerParameter object at 0x000001D67FF19D00>\n",
      "<ema_workbench.em_framework.parameters.RealParameter object at 0x000001D67FFA8F10>\n",
      "<ema_workbench.em_framework.parameters.RealParameter object at 0x000001D67FFA8EB0>\n",
      "CategoricalParameter('A.1_Brate', [0, 1, 2])\n",
      "<ema_workbench.em_framework.parameters.RealParameter object at 0x000001D67FFE7730>\n",
      "<ema_workbench.em_framework.parameters.RealParameter object at 0x000001D67FFD9220>\n",
      "CategoricalParameter('A.2_Brate', [0, 1, 2])\n",
      "<ema_workbench.em_framework.parameters.RealParameter object at 0x000001D67FFD99D0>\n",
      "<ema_workbench.em_framework.parameters.RealParameter object at 0x000001D67FFD6550>\n",
      "CategoricalParameter('A.3_Brate', [0, 1, 2])\n",
      "<ema_workbench.em_framework.parameters.RealParameter object at 0x000001D67FFD6D90>\n",
      "<ema_workbench.em_framework.parameters.RealParameter object at 0x000001D67FFE88B0>\n",
      "CategoricalParameter('A.4_Brate', [0, 1, 2])\n",
      "<ema_workbench.em_framework.parameters.RealParameter object at 0x000001D67FFE8340>\n",
      "<ema_workbench.em_framework.parameters.RealParameter object at 0x000001D67FFC4B50>\n",
      "CategoricalParameter('A.5_Brate', [0, 1, 2])\n"
     ]
    }
   ],
   "source": [
    "# enlisting uncertainties, their types (RealParameter/IntegerParameter/CategoricalParameter), lower boundary, and upper boundary\n",
    "import copy\n",
    "\n",
    "for unc in dike_model.uncertainties:\n",
    "    print(repr(unc))\n",
    "\n",
    "uncertainties = copy.deepcopy(dike_model.uncertainties)"
   ]
  },
  {
   "cell_type": "code",
   "execution_count": 8,
   "metadata": {
    "collapsed": false,
    "jupyter": {
     "outputs_hidden": false
    },
    "pycharm": {
     "name": "#%%\n"
    }
   },
   "outputs": [
    {
     "name": "stdout",
     "output_type": "stream",
     "text": [
      "<ema_workbench.em_framework.parameters.IntegerParameter object at 0x000001D67FF271F0>\n",
      "<ema_workbench.em_framework.parameters.IntegerParameter object at 0x000001D67FF27160>\n",
      "<ema_workbench.em_framework.parameters.IntegerParameter object at 0x000001D67FF279D0>\n",
      "<ema_workbench.em_framework.parameters.IntegerParameter object at 0x000001D67FF27C10>\n",
      "<ema_workbench.em_framework.parameters.IntegerParameter object at 0x000001D67FF27520>\n",
      "<ema_workbench.em_framework.parameters.IntegerParameter object at 0x000001D67FF2DB50>\n",
      "<ema_workbench.em_framework.parameters.IntegerParameter object at 0x000001D67FF2D850>\n",
      "<ema_workbench.em_framework.parameters.IntegerParameter object at 0x000001D67FF2D8B0>\n",
      "<ema_workbench.em_framework.parameters.IntegerParameter object at 0x000001D67FF2DBE0>\n",
      "<ema_workbench.em_framework.parameters.IntegerParameter object at 0x000001D67FF2D970>\n",
      "<ema_workbench.em_framework.parameters.IntegerParameter object at 0x000001D67FF2DFD0>\n",
      "<ema_workbench.em_framework.parameters.IntegerParameter object at 0x000001D67FF2D9D0>\n",
      "<ema_workbench.em_framework.parameters.IntegerParameter object at 0x000001D67FFA8190>\n",
      "<ema_workbench.em_framework.parameters.IntegerParameter object at 0x000001D67F60BDC0>\n",
      "<ema_workbench.em_framework.parameters.IntegerParameter object at 0x000001D67FFA86D0>\n",
      "<ema_workbench.em_framework.parameters.IntegerParameter object at 0x000001D67FF3A5B0>\n",
      "<ema_workbench.em_framework.parameters.IntegerParameter object at 0x000001D67FFE7760>\n",
      "<ema_workbench.em_framework.parameters.IntegerParameter object at 0x000001D67FFE79A0>\n",
      "<ema_workbench.em_framework.parameters.IntegerParameter object at 0x000001D67FFE7CA0>\n",
      "<ema_workbench.em_framework.parameters.IntegerParameter object at 0x000001D67FFD9A00>\n",
      "<ema_workbench.em_framework.parameters.IntegerParameter object at 0x000001D67FFD9C40>\n",
      "<ema_workbench.em_framework.parameters.IntegerParameter object at 0x000001D67FFD9F40>\n",
      "<ema_workbench.em_framework.parameters.IntegerParameter object at 0x000001D67FFD6DC0>\n",
      "<ema_workbench.em_framework.parameters.IntegerParameter object at 0x000001D67FFD6FA0>\n",
      "<ema_workbench.em_framework.parameters.IntegerParameter object at 0x000001D67FFE80D0>\n",
      "<ema_workbench.em_framework.parameters.IntegerParameter object at 0x000001D67FFE8880>\n",
      "<ema_workbench.em_framework.parameters.IntegerParameter object at 0x000001D67FFC4070>\n",
      "<ema_workbench.em_framework.parameters.IntegerParameter object at 0x000001D67FFC4370>\n",
      "<ema_workbench.em_framework.parameters.IntegerParameter object at 0x000001D67FFC01C0>\n",
      "<ema_workbench.em_framework.parameters.IntegerParameter object at 0x000001D67FFC0340>\n",
      "<ema_workbench.em_framework.parameters.IntegerParameter object at 0x000001D67FFC0640>\n"
     ]
    }
   ],
   "source": [
    "# enlisting policy levers, their types (RealParameter/IntegerParameter), lower boundary, and upper boundary\n",
    "for policy in dike_model.levers:\n",
    "    print(repr(policy))\n",
    "\n",
    "levers = copy.deepcopy(dike_model.levers)"
   ]
  },
  {
   "cell_type": "code",
   "execution_count": 9,
   "metadata": {
    "collapsed": false,
    "jupyter": {
     "outputs_hidden": false
    },
    "pycharm": {
     "name": "#%%\n"
    }
   },
   "outputs": [
    {
     "name": "stdout",
     "output_type": "stream",
     "text": [
      "ScalarOutcome('Expected Annual Damage', variable_name=('A.1_Expected Annual Damage 0', 'A.2_Expected Annual Damage 0', 'A.3_Expected Annual Damage 0', 'A.4_Expected Annual Damage 0', 'A.5_Expected Annual Damage 0', 'A.1_Expected Annual Damage 1', 'A.2_Expected Annual Damage 1', 'A.3_Expected Annual Damage 1', 'A.4_Expected Annual Damage 1', 'A.5_Expected Annual Damage 1', 'A.1_Expected Annual Damage 2', 'A.2_Expected Annual Damage 2', 'A.3_Expected Annual Damage 2', 'A.4_Expected Annual Damage 2', 'A.5_Expected Annual Damage 2'), function=<function sum_over at 0x000001D67F5D3670>)\n",
      "ScalarOutcome('Dike Investment Costs', variable_name=('A.1_Dike Investment Costs 0', 'A.2_Dike Investment Costs 0', 'A.3_Dike Investment Costs 0', 'A.4_Dike Investment Costs 0', 'A.5_Dike Investment Costs 0', 'A.1_Dike Investment Costs 1', 'A.2_Dike Investment Costs 1', 'A.3_Dike Investment Costs 1', 'A.4_Dike Investment Costs 1', 'A.5_Dike Investment Costs 1', 'A.1_Dike Investment Costs 2', 'A.2_Dike Investment Costs 2', 'A.3_Dike Investment Costs 2', 'A.4_Dike Investment Costs 2', 'A.5_Dike Investment Costs 2'), function=<function sum_over at 0x000001D67F5D3670>)\n",
      "ScalarOutcome('RfR Investment Costs', variable_name=('RfR Total Costs 0', 'RfR Total Costs 1', 'RfR Total Costs 2'), function=<function sum_over at 0x000001D67F5D3670>)\n",
      "ScalarOutcome('Evacuation Costs', variable_name=('Expected Evacuation Costs 0', 'Expected Evacuation Costs 1', 'Expected Evacuation Costs 2'), function=<function sum_over at 0x000001D67F5D3670>)\n",
      "ScalarOutcome('Expected Number of Deaths', variable_name=('A.1_Expected Number of Deaths 0', 'A.2_Expected Number of Deaths 0', 'A.3_Expected Number of Deaths 0', 'A.4_Expected Number of Deaths 0', 'A.5_Expected Number of Deaths 0', 'A.1_Expected Number of Deaths 1', 'A.2_Expected Number of Deaths 1', 'A.3_Expected Number of Deaths 1', 'A.4_Expected Number of Deaths 1', 'A.5_Expected Number of Deaths 1', 'A.1_Expected Number of Deaths 2', 'A.2_Expected Number of Deaths 2', 'A.3_Expected Number of Deaths 2', 'A.4_Expected Number of Deaths 2', 'A.5_Expected Number of Deaths 2'), function=<function sum_over at 0x000001D67F5D3670>)\n"
     ]
    }
   ],
   "source": [
    "# enlisting outcomes\n",
    "for outcome in dike_model.outcomes:\n",
    "    print(repr(outcome))"
   ]
  },
  {
   "cell_type": "markdown",
   "metadata": {
    "pycharm": {
     "name": "#%% md\n"
    }
   },
   "source": [
    "### Policy formulations\n",
    "In the following cells the wanted policies can be adjusted"
   ]
  },
  {
   "cell_type": "code",
   "execution_count": 10,
   "metadata": {
    "collapsed": false,
    "jupyter": {
     "outputs_hidden": false
    },
    "pycharm": {
     "name": "#%%\n"
    }
   },
   "outputs": [],
   "source": [
    "# Create a function which sets everything to 0 by default\n",
    "def get_0_dict():\n",
    "    return {l.name: 0 for l in dike_model.levers}\n",
    "\n",
    "# Creates a Policy object from a dict and a (optional) name\n",
    "def create_policy(dict1, name=None):\n",
    "    return Policy(f\"Policy_{name}\", **dict(get_0_dict(), **dict1))"
   ]
  },
  {
   "cell_type": "markdown",
   "metadata": {
    "pycharm": {
     "name": "#%% md\n"
    }
   },
   "source": [
    "In the following policies formulations:\n",
    "- `RfR` says if the Room for River projects are enabled (projects `0` to `5`). The first number indicated the project, the second (after `RfR`) if in which time step the measure it taken (currently `0` to `2`). The value can be either `0` (not enabled) or `1` (enabled).\n",
    "- `A.1` to `A.5` are the different dikes. `A.3` is the dike ring around Zutphen. The number after `DikeIncrease` is again the timestep, the value assigned to the thing the heightening in decimeters.\n",
    "- Early Warning Systems can also be enabled, with `EWS_DaysToThreat`, which specifies the early warning time in days.\n",
    "\n",
    "See the implementation in problem_formulation.py (starting from line 35) for more details."
   ]
  },
  {
   "cell_type": "code",
   "execution_count": 55,
   "metadata": {
    "collapsed": false,
    "jupyter": {
     "outputs_hidden": false
    },
    "pycharm": {
     "name": "#%%\n"
    }
   },
   "outputs": [],
   "source": [
    "pol_list = []\n",
    "#pol_list.append(create_policy({}, name=\"Zero\"))\n",
    "\n",
    "for dm in [0, 5, 10]:\n",
    "    for location in [0, 1, 2, 3, 4]:\n",
    "        for ews_days in [2, 4]:\n",
    "            pol_list.append(create_policy({\"A.3_DikeIncrease 0\": dm, f\"{location}_RfR 0\": 1, \"EWS_DaysToThreat\": ews_days},\n",
    "                                          name=f\"Dike_{dm}dm_RfR_{location}_EWS_{ews_days}d\"))\n"
   ]
  },
  {
   "cell_type": "markdown",
   "metadata": {
    "pycharm": {
     "name": "#%% md\n"
    }
   },
   "source": [
    "### Run the model (or load the data)\n",
    "In the next cell the model is ran (if `use_pickle1 = False`) and the new results data is saved, or, if `use_pickle1 = True`, the saved results data is loaded."
   ]
  },
  {
   "cell_type": "code",
   "execution_count": 56,
   "metadata": {
    "collapsed": false,
    "jupyter": {
     "outputs_hidden": false
    },
    "pycharm": {
     "name": "#%%\n"
    }
   },
   "outputs": [
    {
     "name": "stderr",
     "output_type": "stream",
     "text": [
      "[MainProcess/INFO] pool started with 3 workers\n",
      "[MainProcess/INFO] performing 10 scenarios * 30 policies * 1 model(s) = 300 experiments\n",
      "  0%|▏                                         | 1/300 [00:00<02:11,  2.27it/s]Traceback (most recent call last):\n",
      "  File \"C:\\Users\\cwouw\\anaconda3\\lib\\site-packages\\ema_workbench\\em_framework\\callbacks.py\", line 244, in _store_outcomes\n",
      "    self.results[outcome][case_id,] = outcome_res\n",
      "KeyError: 'Dike Investment Costs'\n",
      "\n",
      "During handling of the above exception, another exception occurred:\n",
      "\n",
      "Traceback (most recent call last):\n",
      "  File \"C:\\Users\\cwouw\\anaconda3\\lib\\site-packages\\ema_workbench\\em_framework\\ema_multiprocessing.py\", line 253, in run\n",
      "    self.callback(*result.get())\n",
      "  File \"C:\\Users\\cwouw\\anaconda3\\lib\\site-packages\\ema_workbench\\em_framework\\callbacks.py\", line 279, in __call__\n",
      "    self._store_outcomes(experiment.experiment_id, outcomes)\n",
      "  File \"C:\\Users\\cwouw\\anaconda3\\lib\\site-packages\\ema_workbench\\em_framework\\callbacks.py\", line 258, in _store_outcomes\n",
      "    self.results[outcome][:] = np.nan\n",
      "ValueError: cannot convert float NaN to integer\n",
      "100%|████████████████████████████████████████| 300/300 [00:46<00:00,  6.50it/s]\n",
      "[MainProcess/INFO] experiments finished\n",
      "[MainProcess/INFO] terminating pool\n"
     ]
    }
   ],
   "source": [
    "# True, use results in pickle file; False, run MultiprocessingEvaluator\n",
    "use_pickle1 = False\n",
    "\n",
    "if use_pickle1:\n",
    "    with open('data/formulation_results.pickle', 'rb') as filehandler:\n",
    "        results = pickle.load(filehandler)\n",
    "\n",
    "else:\n",
    "    # pass the policies list to EMA workbench experiment runs\n",
    "    n_scenarios = 10\n",
    "    with MultiprocessingEvaluator(dike_model, n_processes=3) as evaluator:\n",
    "        results = evaluator.perform_experiments(n_scenarios, pol_list)\n",
    "\n",
    "    # Save results in Pickle file\n",
    "    with open('data/formulation_results.pickle', 'wb') as filehandler:\n",
    "        pickle.dump(results, filehandler)"
   ]
  },
  {
   "cell_type": "markdown",
   "metadata": {
    "pycharm": {
     "name": "#%% md\n"
    }
   },
   "source": [
    "### Process the results\n",
    "In this section a dataframe is generated with all the outcomes data, and aggegrated to mean, min, max and quantiles values for each policy."
   ]
  },
  {
   "cell_type": "code",
   "execution_count": 57,
   "metadata": {
    "collapsed": false,
    "jupyter": {
     "outputs_hidden": false
    },
    "pycharm": {
     "name": "#%%\n"
    }
   },
   "outputs": [
    {
     "data": {
      "text/html": [
       "<div>\n",
       "<style scoped>\n",
       "    .dataframe tbody tr th:only-of-type {\n",
       "        vertical-align: middle;\n",
       "    }\n",
       "\n",
       "    .dataframe tbody tr th {\n",
       "        vertical-align: top;\n",
       "    }\n",
       "\n",
       "    .dataframe thead th {\n",
       "        text-align: right;\n",
       "    }\n",
       "</style>\n",
       "<table border=\"1\" class=\"dataframe\">\n",
       "  <thead>\n",
       "    <tr style=\"text-align: right;\">\n",
       "      <th></th>\n",
       "      <th>Expected Annual Damage</th>\n",
       "      <th>Dike Investment Costs</th>\n",
       "      <th>RfR Investment Costs</th>\n",
       "      <th>Evacuation Costs</th>\n",
       "      <th>Expected Number of Deaths</th>\n",
       "      <th>Total Costs</th>\n",
       "      <th>Cost plus Damage</th>\n",
       "      <th>policy</th>\n",
       "    </tr>\n",
       "  </thead>\n",
       "  <tbody>\n",
       "    <tr>\n",
       "      <th>0</th>\n",
       "      <td>2.202897e+08</td>\n",
       "      <td>930892016</td>\n",
       "      <td>NaN</td>\n",
       "      <td>NaN</td>\n",
       "      <td>NaN</td>\n",
       "      <td>9.308920e+08</td>\n",
       "      <td>1.151182e+09</td>\n",
       "      <td>Policy_Dike_0dm_RfR_0_EWS_2d</td>\n",
       "    </tr>\n",
       "    <tr>\n",
       "      <th>1</th>\n",
       "      <td>7.045947e+08</td>\n",
       "      <td>0</td>\n",
       "      <td>84600000.0</td>\n",
       "      <td>34503.913699</td>\n",
       "      <td>0.097440</td>\n",
       "      <td>8.463450e+07</td>\n",
       "      <td>7.892292e+08</td>\n",
       "      <td>Policy_Dike_0dm_RfR_0_EWS_2d</td>\n",
       "    </tr>\n",
       "    <tr>\n",
       "      <th>2</th>\n",
       "      <td>1.855282e+09</td>\n",
       "      <td>0</td>\n",
       "      <td>84600000.0</td>\n",
       "      <td>78062.826028</td>\n",
       "      <td>0.483250</td>\n",
       "      <td>8.467806e+07</td>\n",
       "      <td>1.939960e+09</td>\n",
       "      <td>Policy_Dike_0dm_RfR_0_EWS_2d</td>\n",
       "    </tr>\n",
       "    <tr>\n",
       "      <th>3</th>\n",
       "      <td>7.674635e+08</td>\n",
       "      <td>0</td>\n",
       "      <td>84600000.0</td>\n",
       "      <td>31817.700224</td>\n",
       "      <td>0.217668</td>\n",
       "      <td>8.463182e+07</td>\n",
       "      <td>8.520953e+08</td>\n",
       "      <td>Policy_Dike_0dm_RfR_0_EWS_2d</td>\n",
       "    </tr>\n",
       "    <tr>\n",
       "      <th>4</th>\n",
       "      <td>1.361875e+08</td>\n",
       "      <td>0</td>\n",
       "      <td>84600000.0</td>\n",
       "      <td>5927.369947</td>\n",
       "      <td>0.018815</td>\n",
       "      <td>8.460593e+07</td>\n",
       "      <td>2.207934e+08</td>\n",
       "      <td>Policy_Dike_0dm_RfR_0_EWS_2d</td>\n",
       "    </tr>\n",
       "    <tr>\n",
       "      <th>...</th>\n",
       "      <td>...</td>\n",
       "      <td>...</td>\n",
       "      <td>...</td>\n",
       "      <td>...</td>\n",
       "      <td>...</td>\n",
       "      <td>...</td>\n",
       "      <td>...</td>\n",
       "      <td>...</td>\n",
       "    </tr>\n",
       "    <tr>\n",
       "      <th>295</th>\n",
       "      <td>2.620728e+09</td>\n",
       "      <td>44215020</td>\n",
       "      <td>256100000.0</td>\n",
       "      <td>34031.056208</td>\n",
       "      <td>0.209004</td>\n",
       "      <td>3.003491e+08</td>\n",
       "      <td>2.921078e+09</td>\n",
       "      <td>Policy_Dike_10dm_RfR_4_EWS_4d</td>\n",
       "    </tr>\n",
       "    <tr>\n",
       "      <th>296</th>\n",
       "      <td>2.045003e+09</td>\n",
       "      <td>44215020</td>\n",
       "      <td>256100000.0</td>\n",
       "      <td>36498.264526</td>\n",
       "      <td>0.210169</td>\n",
       "      <td>3.003515e+08</td>\n",
       "      <td>2.345355e+09</td>\n",
       "      <td>Policy_Dike_10dm_RfR_4_EWS_4d</td>\n",
       "    </tr>\n",
       "    <tr>\n",
       "      <th>297</th>\n",
       "      <td>5.402135e+08</td>\n",
       "      <td>44215020</td>\n",
       "      <td>256100000.0</td>\n",
       "      <td>26065.309771</td>\n",
       "      <td>0.046954</td>\n",
       "      <td>3.003411e+08</td>\n",
       "      <td>8.405546e+08</td>\n",
       "      <td>Policy_Dike_10dm_RfR_4_EWS_4d</td>\n",
       "    </tr>\n",
       "    <tr>\n",
       "      <th>298</th>\n",
       "      <td>8.819696e+08</td>\n",
       "      <td>44215020</td>\n",
       "      <td>256100000.0</td>\n",
       "      <td>48340.991635</td>\n",
       "      <td>0.076871</td>\n",
       "      <td>3.003634e+08</td>\n",
       "      <td>1.182333e+09</td>\n",
       "      <td>Policy_Dike_10dm_RfR_4_EWS_4d</td>\n",
       "    </tr>\n",
       "    <tr>\n",
       "      <th>299</th>\n",
       "      <td>2.432460e+09</td>\n",
       "      <td>44215020</td>\n",
       "      <td>256100000.0</td>\n",
       "      <td>33997.145740</td>\n",
       "      <td>0.202558</td>\n",
       "      <td>3.003490e+08</td>\n",
       "      <td>2.732809e+09</td>\n",
       "      <td>Policy_Dike_10dm_RfR_4_EWS_4d</td>\n",
       "    </tr>\n",
       "  </tbody>\n",
       "</table>\n",
       "<p>300 rows × 8 columns</p>\n",
       "</div>"
      ],
      "text/plain": [
       "     Expected Annual Damage  Dike Investment Costs  RfR Investment Costs  \\\n",
       "0              2.202897e+08              930892016                   NaN   \n",
       "1              7.045947e+08                      0            84600000.0   \n",
       "2              1.855282e+09                      0            84600000.0   \n",
       "3              7.674635e+08                      0            84600000.0   \n",
       "4              1.361875e+08                      0            84600000.0   \n",
       "..                      ...                    ...                   ...   \n",
       "295            2.620728e+09               44215020           256100000.0   \n",
       "296            2.045003e+09               44215020           256100000.0   \n",
       "297            5.402135e+08               44215020           256100000.0   \n",
       "298            8.819696e+08               44215020           256100000.0   \n",
       "299            2.432460e+09               44215020           256100000.0   \n",
       "\n",
       "     Evacuation Costs  Expected Number of Deaths   Total Costs  \\\n",
       "0                 NaN                        NaN  9.308920e+08   \n",
       "1        34503.913699                   0.097440  8.463450e+07   \n",
       "2        78062.826028                   0.483250  8.467806e+07   \n",
       "3        31817.700224                   0.217668  8.463182e+07   \n",
       "4         5927.369947                   0.018815  8.460593e+07   \n",
       "..                ...                        ...           ...   \n",
       "295      34031.056208                   0.209004  3.003491e+08   \n",
       "296      36498.264526                   0.210169  3.003515e+08   \n",
       "297      26065.309771                   0.046954  3.003411e+08   \n",
       "298      48340.991635                   0.076871  3.003634e+08   \n",
       "299      33997.145740                   0.202558  3.003490e+08   \n",
       "\n",
       "     Cost plus Damage                         policy  \n",
       "0        1.151182e+09   Policy_Dike_0dm_RfR_0_EWS_2d  \n",
       "1        7.892292e+08   Policy_Dike_0dm_RfR_0_EWS_2d  \n",
       "2        1.939960e+09   Policy_Dike_0dm_RfR_0_EWS_2d  \n",
       "3        8.520953e+08   Policy_Dike_0dm_RfR_0_EWS_2d  \n",
       "4        2.207934e+08   Policy_Dike_0dm_RfR_0_EWS_2d  \n",
       "..                ...                            ...  \n",
       "295      2.921078e+09  Policy_Dike_10dm_RfR_4_EWS_4d  \n",
       "296      2.345355e+09  Policy_Dike_10dm_RfR_4_EWS_4d  \n",
       "297      8.405546e+08  Policy_Dike_10dm_RfR_4_EWS_4d  \n",
       "298      1.182333e+09  Policy_Dike_10dm_RfR_4_EWS_4d  \n",
       "299      2.732809e+09  Policy_Dike_10dm_RfR_4_EWS_4d  \n",
       "\n",
       "[300 rows x 8 columns]"
      ]
     },
     "execution_count": 57,
     "metadata": {},
     "output_type": "execute_result"
    }
   ],
   "source": [
    "# Create a dataframe from outcomes, and add the policy column to it\n",
    "exp, out = results\n",
    "df = pd.DataFrame(out)\n",
    "df[\"Total Costs\"] = df[[\"Dike Investment Costs\", \"RfR Investment Costs\", \"Evacuation Costs\"]].sum(axis=1)\n",
    "df[\"Cost plus Damage\"] = df[\"Total Costs\"] + df[\"Expected Annual Damage\"]\n",
    "df[\"policy\"] = pd.DataFrame(exp)[\"policy\"]\n",
    "df"
   ]
  },
  {
   "cell_type": "code",
   "execution_count": 58,
   "metadata": {
    "collapsed": false,
    "jupyter": {
     "outputs_hidden": false
    },
    "pycharm": {
     "name": "#%%\n"
    }
   },
   "outputs": [],
   "source": [
    "# Define two functions to get the 5th and 95th quantiles\n",
    "def q05(x):\n",
    "    return x.quantile(0.05)\n",
    "\n",
    "def q95(x):\n",
    "    return x.quantile(0.95)"
   ]
  },
  {
   "cell_type": "code",
   "execution_count": 59,
   "metadata": {
    "collapsed": false,
    "jupyter": {
     "outputs_hidden": false
    },
    "pycharm": {
     "name": "#%%\n"
    }
   },
   "outputs": [
    {
     "data": {
      "text/html": [
       "<div>\n",
       "<style scoped>\n",
       "    .dataframe tbody tr th:only-of-type {\n",
       "        vertical-align: middle;\n",
       "    }\n",
       "\n",
       "    .dataframe tbody tr th {\n",
       "        vertical-align: top;\n",
       "    }\n",
       "\n",
       "    .dataframe thead tr th {\n",
       "        text-align: left;\n",
       "    }\n",
       "\n",
       "    .dataframe thead tr:last-of-type th {\n",
       "        text-align: right;\n",
       "    }\n",
       "</style>\n",
       "<table border=\"1\" class=\"dataframe\">\n",
       "  <thead>\n",
       "    <tr>\n",
       "      <th></th>\n",
       "      <th colspan=\"5\" halign=\"left\">Expected Number of Deaths</th>\n",
       "      <th colspan=\"5\" halign=\"left\">Expected Annual Damage</th>\n",
       "      <th>Total Costs</th>\n",
       "      <th colspan=\"5\" halign=\"left\">Cost plus Damage</th>\n",
       "    </tr>\n",
       "    <tr>\n",
       "      <th></th>\n",
       "      <th>mean</th>\n",
       "      <th>min</th>\n",
       "      <th>max</th>\n",
       "      <th>q05</th>\n",
       "      <th>q95</th>\n",
       "      <th>mean</th>\n",
       "      <th>min</th>\n",
       "      <th>max</th>\n",
       "      <th>q05</th>\n",
       "      <th>q95</th>\n",
       "      <th>mean</th>\n",
       "      <th>mean</th>\n",
       "      <th>min</th>\n",
       "      <th>max</th>\n",
       "      <th>q05</th>\n",
       "      <th>q95</th>\n",
       "    </tr>\n",
       "    <tr>\n",
       "      <th>policy</th>\n",
       "      <th></th>\n",
       "      <th></th>\n",
       "      <th></th>\n",
       "      <th></th>\n",
       "      <th></th>\n",
       "      <th></th>\n",
       "      <th></th>\n",
       "      <th></th>\n",
       "      <th></th>\n",
       "      <th></th>\n",
       "      <th></th>\n",
       "      <th></th>\n",
       "      <th></th>\n",
       "      <th></th>\n",
       "      <th></th>\n",
       "      <th></th>\n",
       "    </tr>\n",
       "  </thead>\n",
       "  <tbody>\n",
       "    <tr>\n",
       "      <th>Policy_Dike_0dm_RfR_0_EWS_2d</th>\n",
       "      <td>0.210209</td>\n",
       "      <td>0.018815</td>\n",
       "      <td>0.502557</td>\n",
       "      <td>0.037742</td>\n",
       "      <td>0.494834</td>\n",
       "      <td>1.006345e+09</td>\n",
       "      <td>1.361875e+08</td>\n",
       "      <td>2.174961e+09</td>\n",
       "      <td>1.740335e+08</td>\n",
       "      <td>2.161360e+09</td>\n",
       "      <td>1.692634e+08</td>\n",
       "      <td>1.175608e+09</td>\n",
       "      <td>2.207934e+08</td>\n",
       "      <td>2.259638e+09</td>\n",
       "      <td>3.420587e+08</td>\n",
       "      <td>2.246012e+09</td>\n",
       "    </tr>\n",
       "    <tr>\n",
       "      <th>Policy_Dike_0dm_RfR_0_EWS_4d</th>\n",
       "      <td>0.153988</td>\n",
       "      <td>0.015052</td>\n",
       "      <td>0.402045</td>\n",
       "      <td>0.020149</td>\n",
       "      <td>0.395095</td>\n",
       "      <td>1.006345e+09</td>\n",
       "      <td>1.361875e+08</td>\n",
       "      <td>2.174961e+09</td>\n",
       "      <td>1.740335e+08</td>\n",
       "      <td>2.161360e+09</td>\n",
       "      <td>8.465086e+07</td>\n",
       "      <td>1.090996e+09</td>\n",
       "      <td>2.207961e+08</td>\n",
       "      <td>2.259672e+09</td>\n",
       "      <td>2.586438e+08</td>\n",
       "      <td>2.246035e+09</td>\n",
       "    </tr>\n",
       "    <tr>\n",
       "      <th>Policy_Dike_0dm_RfR_1_EWS_2d</th>\n",
       "      <td>0.196901</td>\n",
       "      <td>0.018815</td>\n",
       "      <td>0.525442</td>\n",
       "      <td>0.028832</td>\n",
       "      <td>0.506455</td>\n",
       "      <td>1.052153e+09</td>\n",
       "      <td>1.361875e+08</td>\n",
       "      <td>2.435158e+09</td>\n",
       "      <td>2.146523e+08</td>\n",
       "      <td>2.305120e+09</td>\n",
       "      <td>2.178355e+08</td>\n",
       "      <td>1.269989e+09</td>\n",
       "      <td>3.539934e+08</td>\n",
       "      <td>2.653037e+09</td>\n",
       "      <td>4.324597e+08</td>\n",
       "      <td>2.522973e+09</td>\n",
       "    </tr>\n",
       "    <tr>\n",
       "      <th>Policy_Dike_0dm_RfR_1_EWS_4d</th>\n",
       "      <td>0.157521</td>\n",
       "      <td>0.015052</td>\n",
       "      <td>0.420353</td>\n",
       "      <td>0.023066</td>\n",
       "      <td>0.405164</td>\n",
       "      <td>1.052153e+09</td>\n",
       "      <td>1.361875e+08</td>\n",
       "      <td>2.435158e+09</td>\n",
       "      <td>2.146523e+08</td>\n",
       "      <td>2.305120e+09</td>\n",
       "      <td>2.178515e+08</td>\n",
       "      <td>1.270005e+09</td>\n",
       "      <td>3.539961e+08</td>\n",
       "      <td>2.653073e+09</td>\n",
       "      <td>4.324631e+08</td>\n",
       "      <td>2.522997e+09</td>\n",
       "    </tr>\n",
       "    <tr>\n",
       "      <th>Policy_Dike_0dm_RfR_2_EWS_2d</th>\n",
       "      <td>0.176565</td>\n",
       "      <td>0.013510</td>\n",
       "      <td>0.438111</td>\n",
       "      <td>0.040434</td>\n",
       "      <td>0.357858</td>\n",
       "      <td>1.391143e+09</td>\n",
       "      <td>9.930913e+07</td>\n",
       "      <td>3.351113e+09</td>\n",
       "      <td>1.728641e+08</td>\n",
       "      <td>3.099785e+09</td>\n",
       "      <td>3.072585e+07</td>\n",
       "      <td>1.421869e+09</td>\n",
       "      <td>1.300132e+08</td>\n",
       "      <td>3.381868e+09</td>\n",
       "      <td>2.035713e+08</td>\n",
       "      <td>3.130525e+09</td>\n",
       "    </tr>\n",
       "    <tr>\n",
       "      <th>Policy_Dike_0dm_RfR_2_EWS_4d</th>\n",
       "      <td>0.141252</td>\n",
       "      <td>0.010808</td>\n",
       "      <td>0.350488</td>\n",
       "      <td>0.032347</td>\n",
       "      <td>0.286286</td>\n",
       "      <td>1.391143e+09</td>\n",
       "      <td>9.930913e+07</td>\n",
       "      <td>3.351113e+09</td>\n",
       "      <td>1.728641e+08</td>\n",
       "      <td>3.099785e+09</td>\n",
       "      <td>3.073747e+07</td>\n",
       "      <td>1.421881e+09</td>\n",
       "      <td>1.300151e+08</td>\n",
       "      <td>3.381892e+09</td>\n",
       "      <td>2.035745e+08</td>\n",
       "      <td>3.130543e+09</td>\n",
       "    </tr>\n",
       "    <tr>\n",
       "      <th>Policy_Dike_0dm_RfR_3_EWS_2d</th>\n",
       "      <td>0.220781</td>\n",
       "      <td>0.016476</td>\n",
       "      <td>0.580514</td>\n",
       "      <td>0.029761</td>\n",
       "      <td>0.481074</td>\n",
       "      <td>1.529563e+09</td>\n",
       "      <td>1.207055e+08</td>\n",
       "      <td>3.939208e+09</td>\n",
       "      <td>2.096722e+08</td>\n",
       "      <td>3.422996e+09</td>\n",
       "      <td>1.212310e+08</td>\n",
       "      <td>1.650794e+09</td>\n",
       "      <td>2.419106e+08</td>\n",
       "      <td>4.060488e+09</td>\n",
       "      <td>3.308778e+08</td>\n",
       "      <td>3.544250e+09</td>\n",
       "    </tr>\n",
       "    <tr>\n",
       "      <th>Policy_Dike_0dm_RfR_3_EWS_4d</th>\n",
       "      <td>0.176625</td>\n",
       "      <td>0.013181</td>\n",
       "      <td>0.464411</td>\n",
       "      <td>0.023809</td>\n",
       "      <td>0.384859</td>\n",
       "      <td>1.529563e+09</td>\n",
       "      <td>1.207055e+08</td>\n",
       "      <td>3.939208e+09</td>\n",
       "      <td>2.096722e+08</td>\n",
       "      <td>3.422996e+09</td>\n",
       "      <td>1.212449e+08</td>\n",
       "      <td>1.650808e+09</td>\n",
       "      <td>2.419128e+08</td>\n",
       "      <td>4.060523e+09</td>\n",
       "      <td>3.308802e+08</td>\n",
       "      <td>3.544274e+09</td>\n",
       "    </tr>\n",
       "    <tr>\n",
       "      <th>Policy_Dike_0dm_RfR_4_EWS_2d</th>\n",
       "      <td>0.249012</td>\n",
       "      <td>0.019624</td>\n",
       "      <td>0.609182</td>\n",
       "      <td>0.056722</td>\n",
       "      <td>0.539887</td>\n",
       "      <td>1.676137e+09</td>\n",
       "      <td>1.436740e+08</td>\n",
       "      <td>4.057484e+09</td>\n",
       "      <td>4.126519e+08</td>\n",
       "      <td>3.488048e+09</td>\n",
       "      <td>2.561375e+08</td>\n",
       "      <td>1.932275e+09</td>\n",
       "      <td>3.997800e+08</td>\n",
       "      <td>4.313669e+09</td>\n",
       "      <td>6.687660e+08</td>\n",
       "      <td>3.744205e+09</td>\n",
       "    </tr>\n",
       "    <tr>\n",
       "      <th>Policy_Dike_0dm_RfR_4_EWS_4d</th>\n",
       "      <td>0.199209</td>\n",
       "      <td>0.015699</td>\n",
       "      <td>0.487345</td>\n",
       "      <td>0.045378</td>\n",
       "      <td>0.431910</td>\n",
       "      <td>1.676137e+09</td>\n",
       "      <td>1.436740e+08</td>\n",
       "      <td>4.057484e+09</td>\n",
       "      <td>4.126519e+08</td>\n",
       "      <td>3.488048e+09</td>\n",
       "      <td>2.561544e+08</td>\n",
       "      <td>1.932292e+09</td>\n",
       "      <td>3.997828e+08</td>\n",
       "      <td>4.313707e+09</td>\n",
       "      <td>6.687723e+08</td>\n",
       "      <td>3.744230e+09</td>\n",
       "    </tr>\n",
       "    <tr>\n",
       "      <th>Policy_Dike_10dm_RfR_0_EWS_2d</th>\n",
       "      <td>0.058541</td>\n",
       "      <td>0.006676</td>\n",
       "      <td>0.215558</td>\n",
       "      <td>0.010244</td>\n",
       "      <td>0.162405</td>\n",
       "      <td>5.099830e+08</td>\n",
       "      <td>4.866747e+07</td>\n",
       "      <td>2.144735e+09</td>\n",
       "      <td>8.014075e+07</td>\n",
       "      <td>1.496672e+09</td>\n",
       "      <td>1.288306e+08</td>\n",
       "      <td>6.388136e+08</td>\n",
       "      <td>1.774851e+08</td>\n",
       "      <td>2.273573e+09</td>\n",
       "      <td>2.089598e+08</td>\n",
       "      <td>1.625515e+09</td>\n",
       "    </tr>\n",
       "    <tr>\n",
       "      <th>Policy_Dike_10dm_RfR_0_EWS_4d</th>\n",
       "      <td>0.046833</td>\n",
       "      <td>0.005341</td>\n",
       "      <td>0.172446</td>\n",
       "      <td>0.008195</td>\n",
       "      <td>0.129924</td>\n",
       "      <td>5.099830e+08</td>\n",
       "      <td>4.866747e+07</td>\n",
       "      <td>2.144735e+09</td>\n",
       "      <td>8.014075e+07</td>\n",
       "      <td>1.496672e+09</td>\n",
       "      <td>1.288377e+08</td>\n",
       "      <td>6.388207e+08</td>\n",
       "      <td>1.774863e+08</td>\n",
       "      <td>2.273583e+09</td>\n",
       "      <td>2.089616e+08</td>\n",
       "      <td>1.625528e+09</td>\n",
       "    </tr>\n",
       "    <tr>\n",
       "      <th>Policy_Dike_10dm_RfR_1_EWS_2d</th>\n",
       "      <td>0.063112</td>\n",
       "      <td>0.006676</td>\n",
       "      <td>0.215751</td>\n",
       "      <td>0.011253</td>\n",
       "      <td>0.162511</td>\n",
       "      <td>5.547898e+08</td>\n",
       "      <td>4.866747e+07</td>\n",
       "      <td>2.146183e+09</td>\n",
       "      <td>8.014075e+07</td>\n",
       "      <td>1.497468e+09</td>\n",
       "      <td>2.620310e+08</td>\n",
       "      <td>8.168208e+08</td>\n",
       "      <td>3.106851e+08</td>\n",
       "      <td>2.408221e+09</td>\n",
       "      <td>3.421598e+08</td>\n",
       "      <td>1.759512e+09</td>\n",
       "    </tr>\n",
       "    <tr>\n",
       "      <th>Policy_Dike_10dm_RfR_1_EWS_4d</th>\n",
       "      <td>0.050489</td>\n",
       "      <td>0.005341</td>\n",
       "      <td>0.172601</td>\n",
       "      <td>0.009002</td>\n",
       "      <td>0.130009</td>\n",
       "      <td>5.547898e+08</td>\n",
       "      <td>4.866747e+07</td>\n",
       "      <td>2.146183e+09</td>\n",
       "      <td>8.014075e+07</td>\n",
       "      <td>1.497468e+09</td>\n",
       "      <td>2.620382e+08</td>\n",
       "      <td>8.168280e+08</td>\n",
       "      <td>3.106863e+08</td>\n",
       "      <td>2.408231e+09</td>\n",
       "      <td>3.421616e+08</td>\n",
       "      <td>1.759524e+09</td>\n",
       "    </tr>\n",
       "    <tr>\n",
       "      <th>Policy_Dike_10dm_RfR_2_EWS_2d</th>\n",
       "      <td>0.130005</td>\n",
       "      <td>0.006635</td>\n",
       "      <td>0.261255</td>\n",
       "      <td>0.007730</td>\n",
       "      <td>0.260587</td>\n",
       "      <td>1.212769e+09</td>\n",
       "      <td>4.853302e+07</td>\n",
       "      <td>2.792605e+09</td>\n",
       "      <td>5.625991e+07</td>\n",
       "      <td>2.715261e+09</td>\n",
       "      <td>7.493354e+07</td>\n",
       "      <td>1.287702e+09</td>\n",
       "      <td>1.234507e+08</td>\n",
       "      <td>2.867544e+09</td>\n",
       "      <td>1.311779e+08</td>\n",
       "      <td>2.790199e+09</td>\n",
       "    </tr>\n",
       "    <tr>\n",
       "      <th>Policy_Dike_10dm_RfR_2_EWS_4d</th>\n",
       "      <td>0.104004</td>\n",
       "      <td>0.005308</td>\n",
       "      <td>0.209004</td>\n",
       "      <td>0.006184</td>\n",
       "      <td>0.208470</td>\n",
       "      <td>1.212769e+09</td>\n",
       "      <td>4.853302e+07</td>\n",
       "      <td>2.792605e+09</td>\n",
       "      <td>5.625991e+07</td>\n",
       "      <td>2.715261e+09</td>\n",
       "      <td>7.494186e+07</td>\n",
       "      <td>1.287710e+09</td>\n",
       "      <td>1.234519e+08</td>\n",
       "      <td>2.867554e+09</td>\n",
       "      <td>1.311792e+08</td>\n",
       "      <td>2.790210e+09</td>\n",
       "    </tr>\n",
       "    <tr>\n",
       "      <th>Policy_Dike_10dm_RfR_3_EWS_2d</th>\n",
       "      <td>0.124588</td>\n",
       "      <td>0.003379</td>\n",
       "      <td>0.262583</td>\n",
       "      <td>0.007640</td>\n",
       "      <td>0.261985</td>\n",
       "      <td>1.165190e+09</td>\n",
       "      <td>2.705194e+07</td>\n",
       "      <td>2.792070e+09</td>\n",
       "      <td>5.601042e+07</td>\n",
       "      <td>2.714966e+09</td>\n",
       "      <td>1.654310e+08</td>\n",
       "      <td>1.330621e+09</td>\n",
       "      <td>1.924684e+08</td>\n",
       "      <td>2.957508e+09</td>\n",
       "      <td>2.214283e+08</td>\n",
       "      <td>2.880405e+09</td>\n",
       "    </tr>\n",
       "    <tr>\n",
       "      <th>Policy_Dike_10dm_RfR_3_EWS_4d</th>\n",
       "      <td>0.099670</td>\n",
       "      <td>0.002704</td>\n",
       "      <td>0.210067</td>\n",
       "      <td>0.006112</td>\n",
       "      <td>0.209588</td>\n",
       "      <td>1.165190e+09</td>\n",
       "      <td>2.705194e+07</td>\n",
       "      <td>2.792070e+09</td>\n",
       "      <td>5.601042e+07</td>\n",
       "      <td>2.714966e+09</td>\n",
       "      <td>1.654382e+08</td>\n",
       "      <td>1.330628e+09</td>\n",
       "      <td>1.924691e+08</td>\n",
       "      <td>2.957519e+09</td>\n",
       "      <td>2.214295e+08</td>\n",
       "      <td>2.880415e+09</td>\n",
       "    </tr>\n",
       "    <tr>\n",
       "      <th>Policy_Dike_10dm_RfR_4_EWS_2d</th>\n",
       "      <td>0.135907</td>\n",
       "      <td>0.017047</td>\n",
       "      <td>0.262711</td>\n",
       "      <td>0.018207</td>\n",
       "      <td>0.262056</td>\n",
       "      <td>1.251777e+09</td>\n",
       "      <td>1.168670e+08</td>\n",
       "      <td>2.792070e+09</td>\n",
       "      <td>1.289301e+08</td>\n",
       "      <td>2.714966e+09</td>\n",
       "      <td>3.003355e+08</td>\n",
       "      <td>1.552113e+09</td>\n",
       "      <td>4.171885e+08</td>\n",
       "      <td>3.092408e+09</td>\n",
       "      <td>4.292514e+08</td>\n",
       "      <td>3.015305e+09</td>\n",
       "    </tr>\n",
       "    <tr>\n",
       "      <th>Policy_Dike_10dm_RfR_4_EWS_4d</th>\n",
       "      <td>0.108726</td>\n",
       "      <td>0.013638</td>\n",
       "      <td>0.210169</td>\n",
       "      <td>0.014566</td>\n",
       "      <td>0.209645</td>\n",
       "      <td>1.251777e+09</td>\n",
       "      <td>1.168670e+08</td>\n",
       "      <td>2.792070e+09</td>\n",
       "      <td>1.289301e+08</td>\n",
       "      <td>2.714966e+09</td>\n",
       "      <td>3.003447e+08</td>\n",
       "      <td>1.552122e+09</td>\n",
       "      <td>4.171914e+08</td>\n",
       "      <td>3.092419e+09</td>\n",
       "      <td>4.292542e+08</td>\n",
       "      <td>3.015315e+09</td>\n",
       "    </tr>\n",
       "    <tr>\n",
       "      <th>Policy_Dike_5dm_RfR_0_EWS_2d</th>\n",
       "      <td>0.070641</td>\n",
       "      <td>0.009038</td>\n",
       "      <td>0.215558</td>\n",
       "      <td>0.011543</td>\n",
       "      <td>0.188704</td>\n",
       "      <td>5.553408e+08</td>\n",
       "      <td>5.640863e+07</td>\n",
       "      <td>2.144735e+09</td>\n",
       "      <td>8.439839e+07</td>\n",
       "      <td>1.567288e+09</td>\n",
       "      <td>1.134157e+08</td>\n",
       "      <td>6.687565e+08</td>\n",
       "      <td>1.698100e+08</td>\n",
       "      <td>2.258156e+09</td>\n",
       "      <td>1.978010e+08</td>\n",
       "      <td>1.680711e+09</td>\n",
       "    </tr>\n",
       "    <tr>\n",
       "      <th>Policy_Dike_5dm_RfR_0_EWS_4d</th>\n",
       "      <td>0.056513</td>\n",
       "      <td>0.007231</td>\n",
       "      <td>0.172446</td>\n",
       "      <td>0.009234</td>\n",
       "      <td>0.150963</td>\n",
       "      <td>5.553408e+08</td>\n",
       "      <td>5.640863e+07</td>\n",
       "      <td>2.144735e+09</td>\n",
       "      <td>8.439839e+07</td>\n",
       "      <td>1.567288e+09</td>\n",
       "      <td>1.134235e+08</td>\n",
       "      <td>6.687643e+08</td>\n",
       "      <td>1.698113e+08</td>\n",
       "      <td>2.258166e+09</td>\n",
       "      <td>1.978029e+08</td>\n",
       "      <td>1.680721e+09</td>\n",
       "    </tr>\n",
       "    <tr>\n",
       "      <th>Policy_Dike_5dm_RfR_1_EWS_2d</th>\n",
       "      <td>0.071052</td>\n",
       "      <td>0.009038</td>\n",
       "      <td>0.215751</td>\n",
       "      <td>0.012552</td>\n",
       "      <td>0.181083</td>\n",
       "      <td>5.849178e+08</td>\n",
       "      <td>5.640863e+07</td>\n",
       "      <td>2.146183e+09</td>\n",
       "      <td>8.439839e+07</td>\n",
       "      <td>1.612132e+09</td>\n",
       "      <td>2.466155e+08</td>\n",
       "      <td>8.315333e+08</td>\n",
       "      <td>3.030100e+08</td>\n",
       "      <td>2.392804e+09</td>\n",
       "      <td>3.310010e+08</td>\n",
       "      <td>1.858753e+09</td>\n",
       "    </tr>\n",
       "    <tr>\n",
       "      <th>Policy_Dike_5dm_RfR_1_EWS_4d</th>\n",
       "      <td>0.056841</td>\n",
       "      <td>0.007231</td>\n",
       "      <td>0.172601</td>\n",
       "      <td>0.010041</td>\n",
       "      <td>0.144867</td>\n",
       "      <td>5.849178e+08</td>\n",
       "      <td>5.640863e+07</td>\n",
       "      <td>2.146183e+09</td>\n",
       "      <td>8.439839e+07</td>\n",
       "      <td>1.612132e+09</td>\n",
       "      <td>2.466232e+08</td>\n",
       "      <td>8.315410e+08</td>\n",
       "      <td>3.030113e+08</td>\n",
       "      <td>2.392815e+09</td>\n",
       "      <td>3.310029e+08</td>\n",
       "      <td>1.858763e+09</td>\n",
       "    </tr>\n",
       "    <tr>\n",
       "      <th>Policy_Dike_5dm_RfR_2_EWS_2d</th>\n",
       "      <td>0.130005</td>\n",
       "      <td>0.006635</td>\n",
       "      <td>0.261255</td>\n",
       "      <td>0.007730</td>\n",
       "      <td>0.260587</td>\n",
       "      <td>1.212769e+09</td>\n",
       "      <td>4.853302e+07</td>\n",
       "      <td>2.792605e+09</td>\n",
       "      <td>5.625991e+07</td>\n",
       "      <td>2.715261e+09</td>\n",
       "      <td>5.951691e+07</td>\n",
       "      <td>1.272286e+09</td>\n",
       "      <td>1.080341e+08</td>\n",
       "      <td>2.852127e+09</td>\n",
       "      <td>1.157612e+08</td>\n",
       "      <td>2.774783e+09</td>\n",
       "    </tr>\n",
       "    <tr>\n",
       "      <th>Policy_Dike_5dm_RfR_2_EWS_4d</th>\n",
       "      <td>0.104004</td>\n",
       "      <td>0.005308</td>\n",
       "      <td>0.209004</td>\n",
       "      <td>0.006184</td>\n",
       "      <td>0.208470</td>\n",
       "      <td>1.212769e+09</td>\n",
       "      <td>4.853302e+07</td>\n",
       "      <td>2.792605e+09</td>\n",
       "      <td>5.625991e+07</td>\n",
       "      <td>2.715261e+09</td>\n",
       "      <td>5.952524e+07</td>\n",
       "      <td>1.272294e+09</td>\n",
       "      <td>1.080353e+08</td>\n",
       "      <td>2.852138e+09</td>\n",
       "      <td>1.157625e+08</td>\n",
       "      <td>2.774793e+09</td>\n",
       "    </tr>\n",
       "    <tr>\n",
       "      <th>Policy_Dike_5dm_RfR_3_EWS_2d</th>\n",
       "      <td>0.124649</td>\n",
       "      <td>0.003986</td>\n",
       "      <td>0.262583</td>\n",
       "      <td>0.007974</td>\n",
       "      <td>0.261985</td>\n",
       "      <td>1.165389e+09</td>\n",
       "      <td>2.904376e+07</td>\n",
       "      <td>2.792070e+09</td>\n",
       "      <td>5.710592e+07</td>\n",
       "      <td>2.714966e+09</td>\n",
       "      <td>1.500144e+08</td>\n",
       "      <td>1.315403e+09</td>\n",
       "      <td>1.790437e+08</td>\n",
       "      <td>2.942091e+09</td>\n",
       "      <td>2.071072e+08</td>\n",
       "      <td>2.864988e+09</td>\n",
       "    </tr>\n",
       "    <tr>\n",
       "      <th>Policy_Dike_5dm_RfR_3_EWS_4d</th>\n",
       "      <td>0.099719</td>\n",
       "      <td>0.003189</td>\n",
       "      <td>0.210067</td>\n",
       "      <td>0.006379</td>\n",
       "      <td>0.209588</td>\n",
       "      <td>1.165389e+09</td>\n",
       "      <td>2.904376e+07</td>\n",
       "      <td>2.792070e+09</td>\n",
       "      <td>5.710592e+07</td>\n",
       "      <td>2.714966e+09</td>\n",
       "      <td>1.500216e+08</td>\n",
       "      <td>1.315410e+09</td>\n",
       "      <td>1.790444e+08</td>\n",
       "      <td>2.942102e+09</td>\n",
       "      <td>2.071085e+08</td>\n",
       "      <td>2.864998e+09</td>\n",
       "    </tr>\n",
       "    <tr>\n",
       "      <th>Policy_Dike_5dm_RfR_4_EWS_2d</th>\n",
       "      <td>0.136143</td>\n",
       "      <td>0.019402</td>\n",
       "      <td>0.262711</td>\n",
       "      <td>0.019502</td>\n",
       "      <td>0.262056</td>\n",
       "      <td>1.252550e+09</td>\n",
       "      <td>1.245955e+08</td>\n",
       "      <td>2.792070e+09</td>\n",
       "      <td>1.331808e+08</td>\n",
       "      <td>2.714966e+09</td>\n",
       "      <td>2.849189e+08</td>\n",
       "      <td>1.537469e+09</td>\n",
       "      <td>4.095006e+08</td>\n",
       "      <td>3.076991e+09</td>\n",
       "      <td>4.180856e+08</td>\n",
       "      <td>2.999888e+09</td>\n",
       "    </tr>\n",
       "    <tr>\n",
       "      <th>Policy_Dike_5dm_RfR_4_EWS_4d</th>\n",
       "      <td>0.108914</td>\n",
       "      <td>0.015522</td>\n",
       "      <td>0.210169</td>\n",
       "      <td>0.015602</td>\n",
       "      <td>0.209645</td>\n",
       "      <td>1.252550e+09</td>\n",
       "      <td>1.245955e+08</td>\n",
       "      <td>2.792070e+09</td>\n",
       "      <td>1.331808e+08</td>\n",
       "      <td>2.714966e+09</td>\n",
       "      <td>2.849281e+08</td>\n",
       "      <td>1.537478e+09</td>\n",
       "      <td>4.095037e+08</td>\n",
       "      <td>3.077002e+09</td>\n",
       "      <td>4.180885e+08</td>\n",
       "      <td>2.999898e+09</td>\n",
       "    </tr>\n",
       "  </tbody>\n",
       "</table>\n",
       "</div>"
      ],
      "text/plain": [
       "                              Expected Number of Deaths                      \\\n",
       "                                                   mean       min       max   \n",
       "policy                                                                        \n",
       "Policy_Dike_0dm_RfR_0_EWS_2d                   0.210209  0.018815  0.502557   \n",
       "Policy_Dike_0dm_RfR_0_EWS_4d                   0.153988  0.015052  0.402045   \n",
       "Policy_Dike_0dm_RfR_1_EWS_2d                   0.196901  0.018815  0.525442   \n",
       "Policy_Dike_0dm_RfR_1_EWS_4d                   0.157521  0.015052  0.420353   \n",
       "Policy_Dike_0dm_RfR_2_EWS_2d                   0.176565  0.013510  0.438111   \n",
       "Policy_Dike_0dm_RfR_2_EWS_4d                   0.141252  0.010808  0.350488   \n",
       "Policy_Dike_0dm_RfR_3_EWS_2d                   0.220781  0.016476  0.580514   \n",
       "Policy_Dike_0dm_RfR_3_EWS_4d                   0.176625  0.013181  0.464411   \n",
       "Policy_Dike_0dm_RfR_4_EWS_2d                   0.249012  0.019624  0.609182   \n",
       "Policy_Dike_0dm_RfR_4_EWS_4d                   0.199209  0.015699  0.487345   \n",
       "Policy_Dike_10dm_RfR_0_EWS_2d                  0.058541  0.006676  0.215558   \n",
       "Policy_Dike_10dm_RfR_0_EWS_4d                  0.046833  0.005341  0.172446   \n",
       "Policy_Dike_10dm_RfR_1_EWS_2d                  0.063112  0.006676  0.215751   \n",
       "Policy_Dike_10dm_RfR_1_EWS_4d                  0.050489  0.005341  0.172601   \n",
       "Policy_Dike_10dm_RfR_2_EWS_2d                  0.130005  0.006635  0.261255   \n",
       "Policy_Dike_10dm_RfR_2_EWS_4d                  0.104004  0.005308  0.209004   \n",
       "Policy_Dike_10dm_RfR_3_EWS_2d                  0.124588  0.003379  0.262583   \n",
       "Policy_Dike_10dm_RfR_3_EWS_4d                  0.099670  0.002704  0.210067   \n",
       "Policy_Dike_10dm_RfR_4_EWS_2d                  0.135907  0.017047  0.262711   \n",
       "Policy_Dike_10dm_RfR_4_EWS_4d                  0.108726  0.013638  0.210169   \n",
       "Policy_Dike_5dm_RfR_0_EWS_2d                   0.070641  0.009038  0.215558   \n",
       "Policy_Dike_5dm_RfR_0_EWS_4d                   0.056513  0.007231  0.172446   \n",
       "Policy_Dike_5dm_RfR_1_EWS_2d                   0.071052  0.009038  0.215751   \n",
       "Policy_Dike_5dm_RfR_1_EWS_4d                   0.056841  0.007231  0.172601   \n",
       "Policy_Dike_5dm_RfR_2_EWS_2d                   0.130005  0.006635  0.261255   \n",
       "Policy_Dike_5dm_RfR_2_EWS_4d                   0.104004  0.005308  0.209004   \n",
       "Policy_Dike_5dm_RfR_3_EWS_2d                   0.124649  0.003986  0.262583   \n",
       "Policy_Dike_5dm_RfR_3_EWS_4d                   0.099719  0.003189  0.210067   \n",
       "Policy_Dike_5dm_RfR_4_EWS_2d                   0.136143  0.019402  0.262711   \n",
       "Policy_Dike_5dm_RfR_4_EWS_4d                   0.108914  0.015522  0.210169   \n",
       "\n",
       "                                                  Expected Annual Damage  \\\n",
       "                                    q05       q95                   mean   \n",
       "policy                                                                     \n",
       "Policy_Dike_0dm_RfR_0_EWS_2d   0.037742  0.494834           1.006345e+09   \n",
       "Policy_Dike_0dm_RfR_0_EWS_4d   0.020149  0.395095           1.006345e+09   \n",
       "Policy_Dike_0dm_RfR_1_EWS_2d   0.028832  0.506455           1.052153e+09   \n",
       "Policy_Dike_0dm_RfR_1_EWS_4d   0.023066  0.405164           1.052153e+09   \n",
       "Policy_Dike_0dm_RfR_2_EWS_2d   0.040434  0.357858           1.391143e+09   \n",
       "Policy_Dike_0dm_RfR_2_EWS_4d   0.032347  0.286286           1.391143e+09   \n",
       "Policy_Dike_0dm_RfR_3_EWS_2d   0.029761  0.481074           1.529563e+09   \n",
       "Policy_Dike_0dm_RfR_3_EWS_4d   0.023809  0.384859           1.529563e+09   \n",
       "Policy_Dike_0dm_RfR_4_EWS_2d   0.056722  0.539887           1.676137e+09   \n",
       "Policy_Dike_0dm_RfR_4_EWS_4d   0.045378  0.431910           1.676137e+09   \n",
       "Policy_Dike_10dm_RfR_0_EWS_2d  0.010244  0.162405           5.099830e+08   \n",
       "Policy_Dike_10dm_RfR_0_EWS_4d  0.008195  0.129924           5.099830e+08   \n",
       "Policy_Dike_10dm_RfR_1_EWS_2d  0.011253  0.162511           5.547898e+08   \n",
       "Policy_Dike_10dm_RfR_1_EWS_4d  0.009002  0.130009           5.547898e+08   \n",
       "Policy_Dike_10dm_RfR_2_EWS_2d  0.007730  0.260587           1.212769e+09   \n",
       "Policy_Dike_10dm_RfR_2_EWS_4d  0.006184  0.208470           1.212769e+09   \n",
       "Policy_Dike_10dm_RfR_3_EWS_2d  0.007640  0.261985           1.165190e+09   \n",
       "Policy_Dike_10dm_RfR_3_EWS_4d  0.006112  0.209588           1.165190e+09   \n",
       "Policy_Dike_10dm_RfR_4_EWS_2d  0.018207  0.262056           1.251777e+09   \n",
       "Policy_Dike_10dm_RfR_4_EWS_4d  0.014566  0.209645           1.251777e+09   \n",
       "Policy_Dike_5dm_RfR_0_EWS_2d   0.011543  0.188704           5.553408e+08   \n",
       "Policy_Dike_5dm_RfR_0_EWS_4d   0.009234  0.150963           5.553408e+08   \n",
       "Policy_Dike_5dm_RfR_1_EWS_2d   0.012552  0.181083           5.849178e+08   \n",
       "Policy_Dike_5dm_RfR_1_EWS_4d   0.010041  0.144867           5.849178e+08   \n",
       "Policy_Dike_5dm_RfR_2_EWS_2d   0.007730  0.260587           1.212769e+09   \n",
       "Policy_Dike_5dm_RfR_2_EWS_4d   0.006184  0.208470           1.212769e+09   \n",
       "Policy_Dike_5dm_RfR_3_EWS_2d   0.007974  0.261985           1.165389e+09   \n",
       "Policy_Dike_5dm_RfR_3_EWS_4d   0.006379  0.209588           1.165389e+09   \n",
       "Policy_Dike_5dm_RfR_4_EWS_2d   0.019502  0.262056           1.252550e+09   \n",
       "Policy_Dike_5dm_RfR_4_EWS_4d   0.015602  0.209645           1.252550e+09   \n",
       "\n",
       "                                                                         \\\n",
       "                                        min           max           q05   \n",
       "policy                                                                    \n",
       "Policy_Dike_0dm_RfR_0_EWS_2d   1.361875e+08  2.174961e+09  1.740335e+08   \n",
       "Policy_Dike_0dm_RfR_0_EWS_4d   1.361875e+08  2.174961e+09  1.740335e+08   \n",
       "Policy_Dike_0dm_RfR_1_EWS_2d   1.361875e+08  2.435158e+09  2.146523e+08   \n",
       "Policy_Dike_0dm_RfR_1_EWS_4d   1.361875e+08  2.435158e+09  2.146523e+08   \n",
       "Policy_Dike_0dm_RfR_2_EWS_2d   9.930913e+07  3.351113e+09  1.728641e+08   \n",
       "Policy_Dike_0dm_RfR_2_EWS_4d   9.930913e+07  3.351113e+09  1.728641e+08   \n",
       "Policy_Dike_0dm_RfR_3_EWS_2d   1.207055e+08  3.939208e+09  2.096722e+08   \n",
       "Policy_Dike_0dm_RfR_3_EWS_4d   1.207055e+08  3.939208e+09  2.096722e+08   \n",
       "Policy_Dike_0dm_RfR_4_EWS_2d   1.436740e+08  4.057484e+09  4.126519e+08   \n",
       "Policy_Dike_0dm_RfR_4_EWS_4d   1.436740e+08  4.057484e+09  4.126519e+08   \n",
       "Policy_Dike_10dm_RfR_0_EWS_2d  4.866747e+07  2.144735e+09  8.014075e+07   \n",
       "Policy_Dike_10dm_RfR_0_EWS_4d  4.866747e+07  2.144735e+09  8.014075e+07   \n",
       "Policy_Dike_10dm_RfR_1_EWS_2d  4.866747e+07  2.146183e+09  8.014075e+07   \n",
       "Policy_Dike_10dm_RfR_1_EWS_4d  4.866747e+07  2.146183e+09  8.014075e+07   \n",
       "Policy_Dike_10dm_RfR_2_EWS_2d  4.853302e+07  2.792605e+09  5.625991e+07   \n",
       "Policy_Dike_10dm_RfR_2_EWS_4d  4.853302e+07  2.792605e+09  5.625991e+07   \n",
       "Policy_Dike_10dm_RfR_3_EWS_2d  2.705194e+07  2.792070e+09  5.601042e+07   \n",
       "Policy_Dike_10dm_RfR_3_EWS_4d  2.705194e+07  2.792070e+09  5.601042e+07   \n",
       "Policy_Dike_10dm_RfR_4_EWS_2d  1.168670e+08  2.792070e+09  1.289301e+08   \n",
       "Policy_Dike_10dm_RfR_4_EWS_4d  1.168670e+08  2.792070e+09  1.289301e+08   \n",
       "Policy_Dike_5dm_RfR_0_EWS_2d   5.640863e+07  2.144735e+09  8.439839e+07   \n",
       "Policy_Dike_5dm_RfR_0_EWS_4d   5.640863e+07  2.144735e+09  8.439839e+07   \n",
       "Policy_Dike_5dm_RfR_1_EWS_2d   5.640863e+07  2.146183e+09  8.439839e+07   \n",
       "Policy_Dike_5dm_RfR_1_EWS_4d   5.640863e+07  2.146183e+09  8.439839e+07   \n",
       "Policy_Dike_5dm_RfR_2_EWS_2d   4.853302e+07  2.792605e+09  5.625991e+07   \n",
       "Policy_Dike_5dm_RfR_2_EWS_4d   4.853302e+07  2.792605e+09  5.625991e+07   \n",
       "Policy_Dike_5dm_RfR_3_EWS_2d   2.904376e+07  2.792070e+09  5.710592e+07   \n",
       "Policy_Dike_5dm_RfR_3_EWS_4d   2.904376e+07  2.792070e+09  5.710592e+07   \n",
       "Policy_Dike_5dm_RfR_4_EWS_2d   1.245955e+08  2.792070e+09  1.331808e+08   \n",
       "Policy_Dike_5dm_RfR_4_EWS_4d   1.245955e+08  2.792070e+09  1.331808e+08   \n",
       "\n",
       "                                              Total Costs Cost plus Damage  \\\n",
       "                                        q95          mean             mean   \n",
       "policy                                                                       \n",
       "Policy_Dike_0dm_RfR_0_EWS_2d   2.161360e+09  1.692634e+08     1.175608e+09   \n",
       "Policy_Dike_0dm_RfR_0_EWS_4d   2.161360e+09  8.465086e+07     1.090996e+09   \n",
       "Policy_Dike_0dm_RfR_1_EWS_2d   2.305120e+09  2.178355e+08     1.269989e+09   \n",
       "Policy_Dike_0dm_RfR_1_EWS_4d   2.305120e+09  2.178515e+08     1.270005e+09   \n",
       "Policy_Dike_0dm_RfR_2_EWS_2d   3.099785e+09  3.072585e+07     1.421869e+09   \n",
       "Policy_Dike_0dm_RfR_2_EWS_4d   3.099785e+09  3.073747e+07     1.421881e+09   \n",
       "Policy_Dike_0dm_RfR_3_EWS_2d   3.422996e+09  1.212310e+08     1.650794e+09   \n",
       "Policy_Dike_0dm_RfR_3_EWS_4d   3.422996e+09  1.212449e+08     1.650808e+09   \n",
       "Policy_Dike_0dm_RfR_4_EWS_2d   3.488048e+09  2.561375e+08     1.932275e+09   \n",
       "Policy_Dike_0dm_RfR_4_EWS_4d   3.488048e+09  2.561544e+08     1.932292e+09   \n",
       "Policy_Dike_10dm_RfR_0_EWS_2d  1.496672e+09  1.288306e+08     6.388136e+08   \n",
       "Policy_Dike_10dm_RfR_0_EWS_4d  1.496672e+09  1.288377e+08     6.388207e+08   \n",
       "Policy_Dike_10dm_RfR_1_EWS_2d  1.497468e+09  2.620310e+08     8.168208e+08   \n",
       "Policy_Dike_10dm_RfR_1_EWS_4d  1.497468e+09  2.620382e+08     8.168280e+08   \n",
       "Policy_Dike_10dm_RfR_2_EWS_2d  2.715261e+09  7.493354e+07     1.287702e+09   \n",
       "Policy_Dike_10dm_RfR_2_EWS_4d  2.715261e+09  7.494186e+07     1.287710e+09   \n",
       "Policy_Dike_10dm_RfR_3_EWS_2d  2.714966e+09  1.654310e+08     1.330621e+09   \n",
       "Policy_Dike_10dm_RfR_3_EWS_4d  2.714966e+09  1.654382e+08     1.330628e+09   \n",
       "Policy_Dike_10dm_RfR_4_EWS_2d  2.714966e+09  3.003355e+08     1.552113e+09   \n",
       "Policy_Dike_10dm_RfR_4_EWS_4d  2.714966e+09  3.003447e+08     1.552122e+09   \n",
       "Policy_Dike_5dm_RfR_0_EWS_2d   1.567288e+09  1.134157e+08     6.687565e+08   \n",
       "Policy_Dike_5dm_RfR_0_EWS_4d   1.567288e+09  1.134235e+08     6.687643e+08   \n",
       "Policy_Dike_5dm_RfR_1_EWS_2d   1.612132e+09  2.466155e+08     8.315333e+08   \n",
       "Policy_Dike_5dm_RfR_1_EWS_4d   1.612132e+09  2.466232e+08     8.315410e+08   \n",
       "Policy_Dike_5dm_RfR_2_EWS_2d   2.715261e+09  5.951691e+07     1.272286e+09   \n",
       "Policy_Dike_5dm_RfR_2_EWS_4d   2.715261e+09  5.952524e+07     1.272294e+09   \n",
       "Policy_Dike_5dm_RfR_3_EWS_2d   2.714966e+09  1.500144e+08     1.315403e+09   \n",
       "Policy_Dike_5dm_RfR_3_EWS_4d   2.714966e+09  1.500216e+08     1.315410e+09   \n",
       "Policy_Dike_5dm_RfR_4_EWS_2d   2.714966e+09  2.849189e+08     1.537469e+09   \n",
       "Policy_Dike_5dm_RfR_4_EWS_4d   2.714966e+09  2.849281e+08     1.537478e+09   \n",
       "\n",
       "                                                                         \\\n",
       "                                        min           max           q05   \n",
       "policy                                                                    \n",
       "Policy_Dike_0dm_RfR_0_EWS_2d   2.207934e+08  2.259638e+09  3.420587e+08   \n",
       "Policy_Dike_0dm_RfR_0_EWS_4d   2.207961e+08  2.259672e+09  2.586438e+08   \n",
       "Policy_Dike_0dm_RfR_1_EWS_2d   3.539934e+08  2.653037e+09  4.324597e+08   \n",
       "Policy_Dike_0dm_RfR_1_EWS_4d   3.539961e+08  2.653073e+09  4.324631e+08   \n",
       "Policy_Dike_0dm_RfR_2_EWS_2d   1.300132e+08  3.381868e+09  2.035713e+08   \n",
       "Policy_Dike_0dm_RfR_2_EWS_4d   1.300151e+08  3.381892e+09  2.035745e+08   \n",
       "Policy_Dike_0dm_RfR_3_EWS_2d   2.419106e+08  4.060488e+09  3.308778e+08   \n",
       "Policy_Dike_0dm_RfR_3_EWS_4d   2.419128e+08  4.060523e+09  3.308802e+08   \n",
       "Policy_Dike_0dm_RfR_4_EWS_2d   3.997800e+08  4.313669e+09  6.687660e+08   \n",
       "Policy_Dike_0dm_RfR_4_EWS_4d   3.997828e+08  4.313707e+09  6.687723e+08   \n",
       "Policy_Dike_10dm_RfR_0_EWS_2d  1.774851e+08  2.273573e+09  2.089598e+08   \n",
       "Policy_Dike_10dm_RfR_0_EWS_4d  1.774863e+08  2.273583e+09  2.089616e+08   \n",
       "Policy_Dike_10dm_RfR_1_EWS_2d  3.106851e+08  2.408221e+09  3.421598e+08   \n",
       "Policy_Dike_10dm_RfR_1_EWS_4d  3.106863e+08  2.408231e+09  3.421616e+08   \n",
       "Policy_Dike_10dm_RfR_2_EWS_2d  1.234507e+08  2.867544e+09  1.311779e+08   \n",
       "Policy_Dike_10dm_RfR_2_EWS_4d  1.234519e+08  2.867554e+09  1.311792e+08   \n",
       "Policy_Dike_10dm_RfR_3_EWS_2d  1.924684e+08  2.957508e+09  2.214283e+08   \n",
       "Policy_Dike_10dm_RfR_3_EWS_4d  1.924691e+08  2.957519e+09  2.214295e+08   \n",
       "Policy_Dike_10dm_RfR_4_EWS_2d  4.171885e+08  3.092408e+09  4.292514e+08   \n",
       "Policy_Dike_10dm_RfR_4_EWS_4d  4.171914e+08  3.092419e+09  4.292542e+08   \n",
       "Policy_Dike_5dm_RfR_0_EWS_2d   1.698100e+08  2.258156e+09  1.978010e+08   \n",
       "Policy_Dike_5dm_RfR_0_EWS_4d   1.698113e+08  2.258166e+09  1.978029e+08   \n",
       "Policy_Dike_5dm_RfR_1_EWS_2d   3.030100e+08  2.392804e+09  3.310010e+08   \n",
       "Policy_Dike_5dm_RfR_1_EWS_4d   3.030113e+08  2.392815e+09  3.310029e+08   \n",
       "Policy_Dike_5dm_RfR_2_EWS_2d   1.080341e+08  2.852127e+09  1.157612e+08   \n",
       "Policy_Dike_5dm_RfR_2_EWS_4d   1.080353e+08  2.852138e+09  1.157625e+08   \n",
       "Policy_Dike_5dm_RfR_3_EWS_2d   1.790437e+08  2.942091e+09  2.071072e+08   \n",
       "Policy_Dike_5dm_RfR_3_EWS_4d   1.790444e+08  2.942102e+09  2.071085e+08   \n",
       "Policy_Dike_5dm_RfR_4_EWS_2d   4.095006e+08  3.076991e+09  4.180856e+08   \n",
       "Policy_Dike_5dm_RfR_4_EWS_4d   4.095037e+08  3.077002e+09  4.180885e+08   \n",
       "\n",
       "                                             \n",
       "                                        q95  \n",
       "policy                                       \n",
       "Policy_Dike_0dm_RfR_0_EWS_2d   2.246012e+09  \n",
       "Policy_Dike_0dm_RfR_0_EWS_4d   2.246035e+09  \n",
       "Policy_Dike_0dm_RfR_1_EWS_2d   2.522973e+09  \n",
       "Policy_Dike_0dm_RfR_1_EWS_4d   2.522997e+09  \n",
       "Policy_Dike_0dm_RfR_2_EWS_2d   3.130525e+09  \n",
       "Policy_Dike_0dm_RfR_2_EWS_4d   3.130543e+09  \n",
       "Policy_Dike_0dm_RfR_3_EWS_2d   3.544250e+09  \n",
       "Policy_Dike_0dm_RfR_3_EWS_4d   3.544274e+09  \n",
       "Policy_Dike_0dm_RfR_4_EWS_2d   3.744205e+09  \n",
       "Policy_Dike_0dm_RfR_4_EWS_4d   3.744230e+09  \n",
       "Policy_Dike_10dm_RfR_0_EWS_2d  1.625515e+09  \n",
       "Policy_Dike_10dm_RfR_0_EWS_4d  1.625528e+09  \n",
       "Policy_Dike_10dm_RfR_1_EWS_2d  1.759512e+09  \n",
       "Policy_Dike_10dm_RfR_1_EWS_4d  1.759524e+09  \n",
       "Policy_Dike_10dm_RfR_2_EWS_2d  2.790199e+09  \n",
       "Policy_Dike_10dm_RfR_2_EWS_4d  2.790210e+09  \n",
       "Policy_Dike_10dm_RfR_3_EWS_2d  2.880405e+09  \n",
       "Policy_Dike_10dm_RfR_3_EWS_4d  2.880415e+09  \n",
       "Policy_Dike_10dm_RfR_4_EWS_2d  3.015305e+09  \n",
       "Policy_Dike_10dm_RfR_4_EWS_4d  3.015315e+09  \n",
       "Policy_Dike_5dm_RfR_0_EWS_2d   1.680711e+09  \n",
       "Policy_Dike_5dm_RfR_0_EWS_4d   1.680721e+09  \n",
       "Policy_Dike_5dm_RfR_1_EWS_2d   1.858753e+09  \n",
       "Policy_Dike_5dm_RfR_1_EWS_4d   1.858763e+09  \n",
       "Policy_Dike_5dm_RfR_2_EWS_2d   2.774783e+09  \n",
       "Policy_Dike_5dm_RfR_2_EWS_4d   2.774793e+09  \n",
       "Policy_Dike_5dm_RfR_3_EWS_2d   2.864988e+09  \n",
       "Policy_Dike_5dm_RfR_3_EWS_4d   2.864998e+09  \n",
       "Policy_Dike_5dm_RfR_4_EWS_2d   2.999888e+09  \n",
       "Policy_Dike_5dm_RfR_4_EWS_4d   2.999898e+09  "
      ]
     },
     "execution_count": 59,
     "metadata": {},
     "output_type": "execute_result"
    }
   ],
   "source": [
    "# Create a Pandas GroupBy object\n",
    "group_df = df.groupby(by=\"policy\")\n",
    "\n",
    "# Create a list of statistical functions which are used\n",
    "agg_par = [\"mean\", \"min\", \"max\", q05, q95]\n",
    "\n",
    "# Create a dictionary with what outcome values are aggegrated with which functions\n",
    "agg_dict = {\n",
    "    \"Expected Number of Deaths\": agg_par,\n",
    "    \"Expected Annual Damage\": agg_par,\n",
    "    \"Total Costs\": \"mean\",\n",
    "    \"Cost plus Damage\": agg_par,\n",
    "}\n",
    "# Create new dataframe with the aggegrated data per policy\n",
    "TCA_df = group_df.agg(agg_dict)\n",
    "TCA_df"
   ]
  },
  {
   "cell_type": "code",
   "execution_count": 60,
   "metadata": {
    "collapsed": false,
    "jupyter": {
     "outputs_hidden": false
    },
    "pycharm": {
     "name": "#%%\n"
    }
   },
   "outputs": [],
   "source": [
    "# Save the aggegrated data to a CSV file\n",
    "TCA_df.to_csv(f\"results/TCA_results_pf{used_problem_formulation}.csv\")"
   ]
  },
  {
   "cell_type": "code",
   "execution_count": 61,
   "metadata": {},
   "outputs": [
    {
     "data": {
      "text/plain": [
       "MultiIndex([('Expected Number of Deaths', 'mean'),\n",
       "            ('Expected Number of Deaths',  'min'),\n",
       "            ('Expected Number of Deaths',  'max'),\n",
       "            ('Expected Number of Deaths',  'q05'),\n",
       "            ('Expected Number of Deaths',  'q95'),\n",
       "            (   'Expected Annual Damage', 'mean'),\n",
       "            (   'Expected Annual Damage',  'min'),\n",
       "            (   'Expected Annual Damage',  'max'),\n",
       "            (   'Expected Annual Damage',  'q05'),\n",
       "            (   'Expected Annual Damage',  'q95'),\n",
       "            (              'Total Costs', 'mean'),\n",
       "            (         'Cost plus Damage', 'mean'),\n",
       "            (         'Cost plus Damage',  'min'),\n",
       "            (         'Cost plus Damage',  'max'),\n",
       "            (         'Cost plus Damage',  'q05'),\n",
       "            (         'Cost plus Damage',  'q95')],\n",
       "           )"
      ]
     },
     "execution_count": 61,
     "metadata": {},
     "output_type": "execute_result"
    }
   ],
   "source": [
    "TCA_df.columns"
   ]
  },
  {
   "cell_type": "markdown",
   "metadata": {
    "pycharm": {
     "name": "#%% md\n"
    }
   },
   "source": [
    "### Plots\n",
    "\n",
    "TODO: Make make some nice Seaborn plots?"
   ]
  },
  {
   "cell_type": "code",
   "execution_count": 62,
   "metadata": {
    "collapsed": false,
    "jupyter": {
     "outputs_hidden": false
    },
    "pycharm": {
     "name": "#%%\n"
    }
   },
   "outputs": [
    {
     "data": {
      "image/png": "[encoded data removed]",
      "text/plain": [
       "<Figure size 432x288 with 1 Axes>"
      ]
     },
     "metadata": {
      "needs_background": "light"
     },
     "output_type": "display_data"
    },
    {
     "data": {
      "text/plain": [
       "<Figure size 432x288 with 0 Axes>"
      ]
     },
     "metadata": {},
     "output_type": "display_data"
    }
   ],
   "source": [
    "#TCA_df[\"Expected Number of Deaths\"][\"mean\"].plot.bar()\n",
    "ND = sns.barplot(x= TCA_df.index , y = TCA_df[\"Expected Number of Deaths\"][\"mean\"], data = TCA_df)\n",
    "ND.set(title='Expected number of deaths')\n",
    "#ND.fig.suptitle('Expected number of deaths')\n",
    "plt.xticks(rotation=90)\n",
    "plt.show()\n",
    "plt.savefig('number of deaths.png')"
   ]
  },
  {
   "cell_type": "code",
   "execution_count": 63,
   "metadata": {
    "collapsed": false,
    "jupyter": {
     "outputs_hidden": false
    },
    "pycharm": {
     "name": "#%%\n"
    }
   },
   "outputs": [
    {
     "data": {
      "image/png": "[encoded data removed]",
      "text/plain": [
       "<Figure size 432x288 with 1 Axes>"
      ]
     },
     "metadata": {
      "needs_background": "light"
     },
     "output_type": "display_data"
    },
    {
     "data": {
      "text/plain": [
       "<Figure size 432x288 with 0 Axes>"
      ]
     },
     "metadata": {},
     "output_type": "display_data"
    }
   ],
   "source": [
    "#TCA_df[\"Total Costs\"][\"mean\"].plot.bar()\n",
    "TC = sns.barplot(x= TCA_df.index , y = TCA_df[\"Total Costs\"][\"mean\"], data = TCA_df)\n",
    "TC.set(title='Total costs')\n",
    "plt.xticks(rotation=90)\n",
    "plt.show()\n",
    "plt.savefig('total costs.png')"
   ]
  },
  {
   "cell_type": "code",
   "execution_count": 64,
   "metadata": {
    "collapsed": false,
    "jupyter": {
     "outputs_hidden": false
    },
    "pycharm": {
     "name": "#%%\n"
    }
   },
   "outputs": [
    {
     "data": {
      "image/png": "[encoded data removed]",
      "text/plain": [
       "<Figure size 432x288 with 1 Axes>"
      ]
     },
     "metadata": {
      "needs_background": "light"
     },
     "output_type": "display_data"
    },
    {
     "data": {
      "text/plain": [
       "<Figure size 432x288 with 0 Axes>"
      ]
     },
     "metadata": {},
     "output_type": "display_data"
    }
   ],
   "source": [
    "#TCA_df[\"Cost plus Damage\"][\"mean\"].plot.bar()\n",
    "CpD = sns.barplot(x= TCA_df.index , y = TCA_df[\"Cost plus Damage\"][\"mean\"], data = TCA_df)\n",
    "CpD.set(title='Cost plus damage')\n",
    "plt.xticks(rotation=90)\n",
    "plt.show()\n",
    "plt.savefig('cost plus damage.png')"
   ]
  },
  {
   "cell_type": "code",
   "execution_count": 18,
   "metadata": {
    "collapsed": false,
    "jupyter": {
     "outputs_hidden": false
    },
    "pycharm": {
     "name": "#%%\n"
    }
   },
   "outputs": [],
   "source": []
  }
 ],
 "metadata": {
  "interpreter": {
   "hash": "6fd914e18bfa8d7647c3cf90e7a007e50e832e4a27cecf06ee50e35679d106a4"
  },
  "kernelspec": {
   "display_name": "Python 3 (ipykernel)",
   "language": "python",
   "name": "python3"
  },
  "language_info": {
   "codemirror_mode": {
    "name": "ipython",
    "version": 3
   },
   "file_extension": ".py",
   "mimetype": "text/x-python",
   "name": "python",
   "nbconvert_exporter": "python",
   "pygments_lexer": "ipython3",
   "version": "3.8.8"
  }
 },
 "nbformat": 4,
 "nbformat_minor": 4
}
