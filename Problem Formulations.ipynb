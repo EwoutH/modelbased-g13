{
 "cells": [
  {
   "cell_type": "code",
   "execution_count": 1,
   "metadata": {},
   "outputs": [],
   "source": [
    "import numpy as np\n",
    "import scipy as sp\n",
    "import pandas as pd\n",
    "import matplotlib.pyplot as plt\n",
    "import seaborn as sns\n",
    "import networkx as nx\n",
    "import pickle"
   ]
  },
  {
   "cell_type": "code",
   "execution_count": 2,
   "metadata": {},
   "outputs": [
    {
     "name": "stdout",
     "output_type": "stream",
     "text": [
      "1.2.4\n",
      "2.5\n"
     ]
    }
   ],
   "source": [
    "# make sure pandas is version 1.0 or higher\n",
    "# make sure networkx is verion 2.4 or higher\n",
    "print(pd.__version__)\n",
    "print(nx.__version__)"
   ]
  },
  {
   "cell_type": "code",
   "execution_count": 3,
   "metadata": {
    "scrolled": true
   },
   "outputs": [],
   "source": [
    "from ema_workbench import (Model, CategoricalParameter,\n",
    "                           ScalarOutcome, IntegerParameter, RealParameter)\n",
    "from dike_model_function import DikeNetwork  # @UnresolvedImport\n",
    "\n",
    "\n",
    "def sum_over(*args):\n",
    "    return sum(args)"
   ]
  },
  {
   "cell_type": "code",
   "execution_count": 4,
   "metadata": {},
   "outputs": [],
   "source": [
    "from ema_workbench import (Model, MultiprocessingEvaluator, Policy, Scenario)\n",
    "\n",
    "from ema_workbench.em_framework.evaluators import perform_experiments\n",
    "from ema_workbench.em_framework.samplers import sample_uncertainties\n",
    "from ema_workbench.util import ema_logging\n",
    "import time\n",
    "from problem_formulation import get_model_for_problem_formulation\n",
    "\n",
    "\n",
    "ema_logging.log_to_stderr(ema_logging.INFO)\n",
    "\n",
    "#choose problem formulation number, between 0-5\n",
    "#each problem formulation has its own list of outcomes\n",
    "dike_model, planning_steps = get_model_for_problem_formulation(3)"
   ]
  },
  {
   "cell_type": "code",
   "execution_count": 5,
   "metadata": {},
   "outputs": [
    {
     "name": "stdout",
     "output_type": "stream",
     "text": [
      "CategoricalParameter('discount rate 0', [0, 1, 2, 3])\n",
      "CategoricalParameter('discount rate 1', [0, 1, 2, 3])\n",
      "CategoricalParameter('discount rate 2', [0, 1, 2, 3])\n",
      "<ema_workbench.em_framework.parameters.IntegerParameter object at 0x000001F8D14D4EB0>\n",
      "<ema_workbench.em_framework.parameters.RealParameter object at 0x000001F8D15786D0>\n",
      "<ema_workbench.em_framework.parameters.RealParameter object at 0x000001F8D15786A0>\n",
      "CategoricalParameter('A.1_Brate', [0, 1, 2])\n",
      "<ema_workbench.em_framework.parameters.RealParameter object at 0x000001F8D156D5B0>\n",
      "<ema_workbench.em_framework.parameters.RealParameter object at 0x000001F8D156D6D0>\n",
      "CategoricalParameter('A.2_Brate', [0, 1, 2])\n",
      "<ema_workbench.em_framework.parameters.RealParameter object at 0x000001F8D1593550>\n",
      "<ema_workbench.em_framework.parameters.RealParameter object at 0x000001F8D1593EE0>\n",
      "CategoricalParameter('A.3_Brate', [0, 1, 2])\n",
      "<ema_workbench.em_framework.parameters.RealParameter object at 0x000001F8D159C4F0>\n",
      "<ema_workbench.em_framework.parameters.RealParameter object at 0x000001F8D159C1F0>\n",
      "CategoricalParameter('A.4_Brate', [0, 1, 2])\n",
      "<ema_workbench.em_framework.parameters.RealParameter object at 0x000001F8D1594490>\n",
      "<ema_workbench.em_framework.parameters.RealParameter object at 0x000001F8D1594FA0>\n",
      "CategoricalParameter('A.5_Brate', [0, 1, 2])\n"
     ]
    }
   ],
   "source": [
    "#enlisting uncertainties, their types (RealParameter/IntegerParameter/CategoricalParameter), lower boundary, and upper boundary\n",
    "for unc in dike_model.uncertainties:\n",
    "    print(repr(unc))\n",
    "    \n",
    "uncertainties = dike_model.uncertainties\n",
    "\n",
    "import copy\n",
    "uncertainties = copy.deepcopy(dike_model.uncertainties)"
   ]
  },
  {
   "cell_type": "code",
   "execution_count": 6,
   "metadata": {},
   "outputs": [
    {
     "name": "stdout",
     "output_type": "stream",
     "text": [
      "<ema_workbench.em_framework.parameters.IntegerParameter object at 0x000001F8D1529A00>\n",
      "<ema_workbench.em_framework.parameters.IntegerParameter object at 0x000001F8D14D4790>\n",
      "<ema_workbench.em_framework.parameters.IntegerParameter object at 0x000001F8D1575B20>\n",
      "<ema_workbench.em_framework.parameters.IntegerParameter object at 0x000001F8D15292B0>\n",
      "<ema_workbench.em_framework.parameters.IntegerParameter object at 0x000001F8D1437BB0>\n",
      "<ema_workbench.em_framework.parameters.IntegerParameter object at 0x000001F8D1437FA0>\n",
      "<ema_workbench.em_framework.parameters.IntegerParameter object at 0x000001F8D1575850>\n",
      "<ema_workbench.em_framework.parameters.IntegerParameter object at 0x000001F8D1575EE0>\n",
      "<ema_workbench.em_framework.parameters.IntegerParameter object at 0x000001F8D1575130>\n",
      "<ema_workbench.em_framework.parameters.IntegerParameter object at 0x000001F8D1575880>\n",
      "<ema_workbench.em_framework.parameters.IntegerParameter object at 0x000001F8D15750A0>\n",
      "<ema_workbench.em_framework.parameters.IntegerParameter object at 0x000001F8D15781C0>\n",
      "<ema_workbench.em_framework.parameters.IntegerParameter object at 0x000001F8D1578430>\n",
      "<ema_workbench.em_framework.parameters.IntegerParameter object at 0x000001F8D153DAC0>\n",
      "<ema_workbench.em_framework.parameters.IntegerParameter object at 0x000001F8D15788B0>\n",
      "<ema_workbench.em_framework.parameters.IntegerParameter object at 0x000001F8D1529C40>\n",
      "<ema_workbench.em_framework.parameters.IntegerParameter object at 0x000001F8D156D5E0>\n",
      "<ema_workbench.em_framework.parameters.IntegerParameter object at 0x000001F8D156D790>\n",
      "<ema_workbench.em_framework.parameters.IntegerParameter object at 0x000001F8D156DA30>\n",
      "<ema_workbench.em_framework.parameters.IntegerParameter object at 0x000001F8D1593580>\n",
      "<ema_workbench.em_framework.parameters.IntegerParameter object at 0x000001F8D1593730>\n",
      "<ema_workbench.em_framework.parameters.IntegerParameter object at 0x000001F8D15939D0>\n",
      "<ema_workbench.em_framework.parameters.IntegerParameter object at 0x000001F8D159C520>\n",
      "<ema_workbench.em_framework.parameters.IntegerParameter object at 0x000001F8D159C6D0>\n",
      "<ema_workbench.em_framework.parameters.IntegerParameter object at 0x000001F8D159C970>\n",
      "<ema_workbench.em_framework.parameters.IntegerParameter object at 0x000001F8D15944C0>\n",
      "<ema_workbench.em_framework.parameters.IntegerParameter object at 0x000001F8D1594670>\n",
      "<ema_workbench.em_framework.parameters.IntegerParameter object at 0x000001F8D1594910>\n",
      "<ema_workbench.em_framework.parameters.IntegerParameter object at 0x000001F8D15A1460>\n",
      "<ema_workbench.em_framework.parameters.IntegerParameter object at 0x000001F8D15A1610>\n",
      "<ema_workbench.em_framework.parameters.IntegerParameter object at 0x000001F8D15A18B0>\n"
     ]
    }
   ],
   "source": [
    "#enlisting policy levers, their types (RealParameter/IntegerParameter), lower boundary, and upper boundary\n",
    "for policy in dike_model.levers:\n",
    "    print(repr(policy))\n",
    "    \n",
    "levers = dike_model.levers \n",
    "\n",
    "import copy\n",
    "levers = copy.deepcopy(dike_model.levers)"
   ]
  },
  {
   "cell_type": "code",
   "execution_count": 7,
   "metadata": {},
   "outputs": [
    {
     "name": "stdout",
     "output_type": "stream",
     "text": [
      "ScalarOutcome('A.1 Total Costs', variable_name=('A.1_Expected Annual Damage 0', 'A.1_Expected Annual Damage 1', 'A.1_Expected Annual Damage 2', 'A.1_Dike Investment Costs 0', 'A.1_Dike Investment Costs 1', 'A.1_Dike Investment Costs 2'), function=<function sum_over at 0x000001F8CEF884C0>)\n",
      "ScalarOutcome('A.1_Expected Number of Deaths', variable_name=('A.1_Expected Number of Deaths 0', 'A.1_Expected Number of Deaths 1', 'A.1_Expected Number of Deaths 2'), function=<function sum_over at 0x000001F8CEF884C0>)\n",
      "ScalarOutcome('A.2 Total Costs', variable_name=('A.2_Expected Annual Damage 0', 'A.2_Expected Annual Damage 1', 'A.2_Expected Annual Damage 2', 'A.2_Dike Investment Costs 0', 'A.2_Dike Investment Costs 1', 'A.2_Dike Investment Costs 2'), function=<function sum_over at 0x000001F8CEF884C0>)\n",
      "ScalarOutcome('A.2_Expected Number of Deaths', variable_name=('A.2_Expected Number of Deaths 0', 'A.2_Expected Number of Deaths 1', 'A.2_Expected Number of Deaths 2'), function=<function sum_over at 0x000001F8CEF884C0>)\n",
      "ScalarOutcome('A.3 Total Costs', variable_name=('A.3_Expected Annual Damage 0', 'A.3_Expected Annual Damage 1', 'A.3_Expected Annual Damage 2', 'A.3_Dike Investment Costs 0', 'A.3_Dike Investment Costs 1', 'A.3_Dike Investment Costs 2'), function=<function sum_over at 0x000001F8CEF884C0>)\n",
      "ScalarOutcome('A.3_Expected Number of Deaths', variable_name=('A.3_Expected Number of Deaths 0', 'A.3_Expected Number of Deaths 1', 'A.3_Expected Number of Deaths 2'), function=<function sum_over at 0x000001F8CEF884C0>)\n",
      "ScalarOutcome('A.4 Total Costs', variable_name=('A.4_Expected Annual Damage 0', 'A.4_Expected Annual Damage 1', 'A.4_Expected Annual Damage 2', 'A.4_Dike Investment Costs 0', 'A.4_Dike Investment Costs 1', 'A.4_Dike Investment Costs 2'), function=<function sum_over at 0x000001F8CEF884C0>)\n",
      "ScalarOutcome('A.4_Expected Number of Deaths', variable_name=('A.4_Expected Number of Deaths 0', 'A.4_Expected Number of Deaths 1', 'A.4_Expected Number of Deaths 2'), function=<function sum_over at 0x000001F8CEF884C0>)\n",
      "ScalarOutcome('A.5 Total Costs', variable_name=('A.5_Expected Annual Damage 0', 'A.5_Expected Annual Damage 1', 'A.5_Expected Annual Damage 2', 'A.5_Dike Investment Costs 0', 'A.5_Dike Investment Costs 1', 'A.5_Dike Investment Costs 2'), function=<function sum_over at 0x000001F8CEF884C0>)\n",
      "ScalarOutcome('A.5_Expected Number of Deaths', variable_name=('A.5_Expected Number of Deaths 0', 'A.5_Expected Number of Deaths 1', 'A.5_Expected Number of Deaths 2'), function=<function sum_over at 0x000001F8CEF884C0>)\n",
      "ScalarOutcome('RfR Total Costs', variable_name=('RfR Total Costs 0', 'RfR Total Costs 1', 'RfR Total Costs 2'), function=<function sum_over at 0x000001F8CEF884C0>)\n",
      "ScalarOutcome('Expected Evacuation Costs', variable_name=('Expected Evacuation Costs 0', 'Expected Evacuation Costs 1', 'Expected Evacuation Costs 2'), function=<function sum_over at 0x000001F8CEF884C0>)\n"
     ]
    }
   ],
   "source": [
    "#enlisting outcomes\n",
    "for outcome in dike_model.outcomes:\n",
    "    print(repr(outcome))"
   ]
  },
  {
   "cell_type": "code",
   "execution_count": 8,
   "metadata": {},
   "outputs": [],
   "source": [
    "#defining specific policies\n",
    "#for example, policy 1 is about extra protection in upper boundary\n",
    "#policy 2 is about extra protection in lower boundary\n",
    "#policy 3 is extra protection in random locations\n",
    "from ema_workbench import Policy\n",
    "\n",
    "policies = [Policy('policy 1', **{' 0_RfR 0':0,\n",
    "                                  '0_RfR 1':0,\n",
    "                                  '0_RfR 2':0,\n",
    "                                  'A.3_DikeIncrease 0':0}),\n",
    "           Policy('policy 2', **{'0_RfR 0':0,\n",
    "                                 '0_RfR 1':0,\n",
    "                                '0_RfR 2':0,\n",
    "                                'A.3_DikeIncrease 0':5}),\n",
    "           Policy('policy 3', **{'0_RfR 0':0,\n",
    "                                 '0_RfR 1':0,\n",
    "                                '0_RfR 2':0,\n",
    "                                'A.3_DikeIncrease 0':10}),\n",
    "            Policy('policy 4', **{'0_RfR 0':1,\n",
    "                                 '0_RfR 1': 0,\n",
    "                                '0_RfR 2': 0,\n",
    "                                'A.3_DikeIncrease 0':0}),\n",
    "          Policy('policy 5', **{'0_RfR 0':0,\n",
    "                                 '0_RfR 0':1,\n",
    "                                '0_RfR 0':0,\n",
    "                                'A.3_DikeIncrease 0':0}),\n",
    "          Policy('policy 6', **{'0_RfR 0':0,\n",
    "                                 '0_RfR 1':0,\n",
    "                                '0_RfR 2':1,\n",
    "                                'A.3_DikeIncrease 0':0}),\n",
    "        Policy('policy 7', **{' 1_RfR 0':1,\n",
    "                                  '1_RfR 1':0,\n",
    "                                  '1_RfR 2':0,\n",
    "                                  'A.3_DikeIncrease 0':0}),\n",
    "           Policy('policy 8', **{'1_RfR 0':0,\n",
    "                                 '1_RfR 1':1,\n",
    "                                '1_RfR 2':0,\n",
    "                                'A.5_DikeIncrease 0':0}),\n",
    "           Policy('policy 9', **{'1_RfR 0':0,\n",
    "                                 '1_RfR 1':0,\n",
    "                                '1_RfR 2':1,\n",
    "                                'A.3_DikeIncrease 0':0}),\n",
    "            Policy('policy 10', **{'2_RfR 0':1,\n",
    "                                 '2_RfR 1':0,\n",
    "                                '2_RfR 2':0,\n",
    "                                'A.3_DikeIncrease 0':0}),\n",
    "          Policy('policy 11', **{'2_RfR 0':0,\n",
    "                                 '2_RfR 1':1,\n",
    "                                '2_RfR 2':0,\n",
    "                                'A.3_DikeIncrease 0':0}),\n",
    "          Policy('policy 12', **{'2_RfR 0':0,\n",
    "                                 '2_RfR 1':0,\n",
    "                                '2_RfR 2':1,\n",
    "                                'A.3_DikeIncrease 0':0})\n",
    "            ]"
   ]
  },
  {
   "cell_type": "code",
   "execution_count": 9,
   "metadata": {},
   "outputs": [
    {
     "data": {
      "text/plain": [
       "<Logger EMA (DEBUG)>"
      ]
     },
     "execution_count": 9,
     "metadata": {},
     "output_type": "execute_result"
    }
   ],
   "source": [
    "from ema_workbench import (MultiprocessingEvaluator, ema_logging,\n",
    "                           perform_experiments, SequentialEvaluator)\n",
    "ema_logging.log_to_stderr(ema_logging.INFO)"
   ]
  },
  {
   "cell_type": "code",
   "execution_count": 10,
   "metadata": {},
   "outputs": [],
   "source": [
    "use_pickle1 = True\n",
    "if use_pickle1:\n",
    "    with open('data/formulation_results.pickle', 'rb') as filehandler:\n",
    "        results = pickle.load(filehandler)\n",
    "else:\n",
    "    #pass the policies list to EMA workbench experiment runs\n",
    "    n_scenarios = 100\n",
    "\n",
    "    # Save results in Pickle file\n",
    "    with open('data/formulation_results.pickle', 'wb') as filehandler:\n",
    "        pickle.dump(results, filehandler)\n"
   ]
  },
  {
   "cell_type": "markdown",
   "metadata": {},
   "source": []
  },
  {
   "cell_type": "code",
   "execution_count": null,
   "metadata": {},
   "outputs": [],
   "source": [
    "import pandas as pd\n",
    "a,b = results\n",
    "df = pd.DataFrame(b)\n",
    "df[\"policy\"] = pd.DataFrame(a)[\"policy\"]\n",
    "df\n"
   ]
  },
  {
   "cell_type": "code",
   "execution_count": null,
   "metadata": {
    "collapsed": false,
    "pycharm": {
     "name": "#%%\n"
    }
   },
   "outputs": [],
   "source": [
    "def q05(x):\n",
    "    return x.quantile(0.05)\n",
    "def q95(x):\n",
    "    return x.quantile(0.95)"
   ]
  },
  {
   "cell_type": "code",
   "execution_count": null,
   "metadata": {
    "collapsed": false,
    "pycharm": {
     "name": "#%%\n"
    }
   },
   "outputs": [],
   "source": [
    "group_df = df.groupby(by=\"policy\")\n",
    "agg_par = ['mean', 'min', 'max', q05, q95]\n",
    "agg_dict = {\n",
    "    'A.3 Total Costs': agg_par,\n",
    "    'A.3_Expected Number of Deaths': agg_par,\n",
    "    'RfR Total Costs':agg_par,\n",
    "    'Expected Evacuation Costs':agg_par\n",
    "}\n",
    "TCA_df = group_df.agg(agg_dict)\n",
    "TCA_df"
   ]
  },
  {
   "cell_type": "code",
   "execution_count": null,
   "metadata": {
    "collapsed": false,
    "pycharm": {
     "name": "#%%\n"
    }
   },
   "outputs": [],
   "source": [
    "TCA_df.to_csv(\"results/TCA3_results.csv\")"
   ]
  }
 ],
 "metadata": {
  "interpreter": {
   "hash": "6fd914e18bfa8d7647c3cf90e7a007e50e832e4a27cecf06ee50e35679d106a4"
  },
  "kernelspec": {
   "display_name": "Python 3.8.8 ('base')",
   "language": "python",
   "name": "python3"
  },
  "language_info": {
   "codemirror_mode": {
    "name": "ipython",
    "version": 3
   },
   "file_extension": ".py",
   "mimetype": "text/x-python",
   "name": "python",
   "nbconvert_exporter": "python",
   "pygments_lexer": "ipython3",
   "version": "3.8.8"
  }
 },
 "nbformat": 4,
 "nbformat_minor": 4
}
