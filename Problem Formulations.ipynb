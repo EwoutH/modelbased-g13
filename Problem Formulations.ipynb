{
 "cells": [
  {
   "cell_type": "markdown",
   "source": [
    "## Policy measures analysis\n",
    "In this notebook multiple policies can be tested, based on a chosen problem formulations. The effects on deaths and costs are summerized at the end of the notebook."
   ],
   "metadata": {
    "collapsed": false,
    "pycharm": {
     "name": "#%% md\n"
    }
   }
  },
  {
   "cell_type": "markdown",
   "source": [
    "### Imports\n",
    "Import packages and load model parameters (uncertainties, levers, etc.)"
   ],
   "metadata": {
    "collapsed": false,
    "pycharm": {
     "name": "#%% md\n"
    }
   }
  },
  {
   "cell_type": "code",
   "execution_count": 1,
   "outputs": [],
   "source": [
    "import numpy as np\n",
    "import scipy as sp\n",
    "import pandas as pd\n",
    "import matplotlib.pyplot as plt\n",
    "import seaborn as sns\n",
    "import networkx as nx\n",
    "import pickle"
   ],
   "metadata": {
    "collapsed": false,
    "pycharm": {
     "name": "#%%\n"
    }
   }
  },
  {
   "cell_type": "code",
   "execution_count": 2,
   "outputs": [
    {
     "name": "stdout",
     "output_type": "stream",
     "text": [
      "1.4.2\n",
      "2.8.2\n"
     ]
    }
   ],
   "source": [
    "# make sure pandas is version 1.0 or higher\n",
    "# make sure networkx is verion 2.4 or higher\n",
    "print(pd.__version__)\n",
    "print(nx.__version__)"
   ],
   "metadata": {
    "collapsed": false,
    "pycharm": {
     "name": "#%%\n"
    }
   }
  },
  {
   "cell_type": "code",
   "execution_count": 3,
   "outputs": [],
   "source": [
    "from ema_workbench import (\n",
    "    Model,\n",
    "    Policy,\n",
    "    ema_logging,\n",
    "    SequentialEvaluator,\n",
    "    MultiprocessingEvaluator,\n",
    ")\n",
    "from dike_model_function import DikeNetwork  # @UnresolvedImport\n",
    "from problem_formulation import get_model_for_problem_formulation\n",
    "\n",
    "\n",
    "def sum_over(*args):\n",
    "    return sum(args)"
   ],
   "metadata": {
    "collapsed": false,
    "pycharm": {
     "name": "#%%\n"
    }
   }
  },
  {
   "cell_type": "code",
   "execution_count": 4,
   "outputs": [
    {
     "data": {
      "text/plain": "<Logger EMA (DEBUG)>"
     },
     "execution_count": 4,
     "metadata": {},
     "output_type": "execute_result"
    }
   ],
   "source": [
    "# Enable logging\n",
    "ema_logging.log_to_stderr(ema_logging.INFO)"
   ],
   "metadata": {
    "collapsed": false,
    "pycharm": {
     "name": "#%%\n"
    }
   }
  },
  {
   "cell_type": "markdown",
   "source": [
    "**Problem formulation**\n",
    "Important cell below, here you can choose the problem formulation number, between 0-5\n",
    "each problem formulation has its own list of outcomes"
   ],
   "metadata": {
    "collapsed": false,
    "pycharm": {
     "name": "#%% md\n"
    }
   }
  },
  {
   "cell_type": "code",
   "execution_count": 5,
   "outputs": [],
   "source": [
    "used_problem_formulation = 2\n",
    "\n",
    "dike_model, planning_steps = get_model_for_problem_formulation(used_problem_formulation)"
   ],
   "metadata": {
    "collapsed": false,
    "pycharm": {
     "name": "#%%\n"
    }
   }
  },
  {
   "cell_type": "code",
   "execution_count": 6,
   "outputs": [
    {
     "name": "stdout",
     "output_type": "stream",
     "text": [
      "CategoricalParameter('discount rate 0', [0, 1, 2, 3])\n",
      "CategoricalParameter('discount rate 1', [0, 1, 2, 3])\n",
      "CategoricalParameter('discount rate 2', [0, 1, 2, 3])\n",
      "<ema_workbench.em_framework.parameters.IntegerParameter object at 0x0000021A78F31D60>\n",
      "<ema_workbench.em_framework.parameters.RealParameter object at 0x0000021A78F337C0>\n",
      "<ema_workbench.em_framework.parameters.RealParameter object at 0x0000021A78F3AB50>\n",
      "CategoricalParameter('A.1_Brate', [0, 1, 2])\n",
      "<ema_workbench.em_framework.parameters.RealParameter object at 0x0000021A78F3ADC0>\n",
      "<ema_workbench.em_framework.parameters.RealParameter object at 0x0000021A78F21190>\n",
      "CategoricalParameter('A.2_Brate', [0, 1, 2])\n",
      "<ema_workbench.em_framework.parameters.RealParameter object at 0x0000021A78F4C160>\n",
      "<ema_workbench.em_framework.parameters.RealParameter object at 0x0000021A78F21730>\n",
      "CategoricalParameter('A.3_Brate', [0, 1, 2])\n",
      "<ema_workbench.em_framework.parameters.RealParameter object at 0x0000021A78F4CC40>\n",
      "<ema_workbench.em_framework.parameters.RealParameter object at 0x0000021A78F4F430>\n",
      "CategoricalParameter('A.4_Brate', [0, 1, 2])\n",
      "<ema_workbench.em_framework.parameters.RealParameter object at 0x0000021A78F55400>\n",
      "<ema_workbench.em_framework.parameters.RealParameter object at 0x0000021A78F4FBE0>\n",
      "CategoricalParameter('A.5_Brate', [0, 1, 2])\n"
     ]
    }
   ],
   "source": [
    "# enlisting uncertainties, their types (RealParameter/IntegerParameter/CategoricalParameter), lower boundary, and upper boundary\n",
    "import copy\n",
    "\n",
    "for unc in dike_model.uncertainties:\n",
    "    print(repr(unc))\n",
    "\n",
    "uncertainties = copy.deepcopy(dike_model.uncertainties)"
   ],
   "metadata": {
    "collapsed": false,
    "pycharm": {
     "name": "#%%\n"
    }
   }
  },
  {
   "cell_type": "code",
   "execution_count": 7,
   "outputs": [
    {
     "name": "stdout",
     "output_type": "stream",
     "text": [
      "<ema_workbench.em_framework.parameters.IntegerParameter object at 0x0000021A78E1CAF0>\n",
      "<ema_workbench.em_framework.parameters.IntegerParameter object at 0x0000021A78F31220>\n",
      "<ema_workbench.em_framework.parameters.IntegerParameter object at 0x0000021A78E1CA60>\n",
      "<ema_workbench.em_framework.parameters.IntegerParameter object at 0x0000021A78F31CD0>\n",
      "<ema_workbench.em_framework.parameters.IntegerParameter object at 0x0000021A78ED03A0>\n",
      "<ema_workbench.em_framework.parameters.IntegerParameter object at 0x0000021A78F330D0>\n",
      "<ema_workbench.em_framework.parameters.IntegerParameter object at 0x0000021A78ED0700>\n",
      "<ema_workbench.em_framework.parameters.IntegerParameter object at 0x0000021A78F33340>\n",
      "<ema_workbench.em_framework.parameters.IntegerParameter object at 0x0000021A78E8F9A0>\n",
      "<ema_workbench.em_framework.parameters.IntegerParameter object at 0x0000021A78F335B0>\n",
      "<ema_workbench.em_framework.parameters.IntegerParameter object at 0x0000021A78ED0160>\n",
      "<ema_workbench.em_framework.parameters.IntegerParameter object at 0x0000021A78E2BD90>\n",
      "<ema_workbench.em_framework.parameters.IntegerParameter object at 0x0000021A78ED06A0>\n",
      "<ema_workbench.em_framework.parameters.IntegerParameter object at 0x0000021A78F3A7F0>\n",
      "<ema_workbench.em_framework.parameters.IntegerParameter object at 0x0000021A78F31AC0>\n",
      "<ema_workbench.em_framework.parameters.IntegerParameter object at 0x0000021A78E8DEB0>\n",
      "<ema_workbench.em_framework.parameters.IntegerParameter object at 0x0000021A78F3A100>\n",
      "<ema_workbench.em_framework.parameters.IntegerParameter object at 0x0000021A78F375E0>\n",
      "<ema_workbench.em_framework.parameters.IntegerParameter object at 0x0000021A78F3A610>\n",
      "<ema_workbench.em_framework.parameters.IntegerParameter object at 0x0000021A78F215E0>\n",
      "<ema_workbench.em_framework.parameters.IntegerParameter object at 0x0000021A78F377F0>\n",
      "<ema_workbench.em_framework.parameters.IntegerParameter object at 0x0000021A78F21970>\n",
      "<ema_workbench.em_framework.parameters.IntegerParameter object at 0x0000021A78F33B20>\n",
      "<ema_workbench.em_framework.parameters.IntegerParameter object at 0x0000021A78F4C0D0>\n",
      "<ema_workbench.em_framework.parameters.IntegerParameter object at 0x0000021A78F4F130>\n",
      "<ema_workbench.em_framework.parameters.IntegerParameter object at 0x0000021A78F4FB20>\n",
      "<ema_workbench.em_framework.parameters.IntegerParameter object at 0x0000021A78F55100>\n",
      "<ema_workbench.em_framework.parameters.IntegerParameter object at 0x0000021A78F376D0>\n",
      "<ema_workbench.em_framework.parameters.IntegerParameter object at 0x0000021A78F33610>\n",
      "<ema_workbench.em_framework.parameters.IntegerParameter object at 0x0000021A78F5C3A0>\n",
      "<ema_workbench.em_framework.parameters.IntegerParameter object at 0x0000021A78F336D0>\n"
     ]
    }
   ],
   "source": [
    "# enlisting policy levers, their types (RealParameter/IntegerParameter), lower boundary, and upper boundary\n",
    "for policy in dike_model.levers:\n",
    "    print(repr(policy))\n",
    "\n",
    "levers = copy.deepcopy(dike_model.levers)"
   ],
   "metadata": {
    "collapsed": false,
    "pycharm": {
     "name": "#%%\n"
    }
   }
  },
  {
   "cell_type": "code",
   "execution_count": 8,
   "outputs": [
    {
     "name": "stdout",
     "output_type": "stream",
     "text": [
      "ScalarOutcome('Expected Annual Damage', variable_name=('A.1_Expected Annual Damage 0', 'A.2_Expected Annual Damage 0', 'A.3_Expected Annual Damage 0', 'A.4_Expected Annual Damage 0', 'A.5_Expected Annual Damage 0', 'A.1_Expected Annual Damage 1', 'A.2_Expected Annual Damage 1', 'A.3_Expected Annual Damage 1', 'A.4_Expected Annual Damage 1', 'A.5_Expected Annual Damage 1', 'A.1_Expected Annual Damage 2', 'A.2_Expected Annual Damage 2', 'A.3_Expected Annual Damage 2', 'A.4_Expected Annual Damage 2', 'A.5_Expected Annual Damage 2'), function=<function sum_over at 0x0000021A7854E820>)\n",
      "ScalarOutcome('Dike Investment Costs', variable_name=('A.1_Dike Investment Costs 0', 'A.2_Dike Investment Costs 0', 'A.3_Dike Investment Costs 0', 'A.4_Dike Investment Costs 0', 'A.5_Dike Investment Costs 0', 'A.1_Dike Investment Costs 1', 'A.2_Dike Investment Costs 1', 'A.3_Dike Investment Costs 1', 'A.4_Dike Investment Costs 1', 'A.5_Dike Investment Costs 1', 'A.1_Dike Investment Costs 2', 'A.2_Dike Investment Costs 2', 'A.3_Dike Investment Costs 2', 'A.4_Dike Investment Costs 2', 'A.5_Dike Investment Costs 2'), function=<function sum_over at 0x0000021A7854E820>)\n",
      "ScalarOutcome('RfR Investment Costs', variable_name=('RfR Total Costs 0', 'RfR Total Costs 1', 'RfR Total Costs 2'), function=<function sum_over at 0x0000021A7854E820>)\n",
      "ScalarOutcome('Evacuation Costs', variable_name=('Expected Evacuation Costs 0', 'Expected Evacuation Costs 1', 'Expected Evacuation Costs 2'), function=<function sum_over at 0x0000021A7854E820>)\n",
      "ScalarOutcome('Expected Number of Deaths', variable_name=('A.1_Expected Number of Deaths 0', 'A.2_Expected Number of Deaths 0', 'A.3_Expected Number of Deaths 0', 'A.4_Expected Number of Deaths 0', 'A.5_Expected Number of Deaths 0', 'A.1_Expected Number of Deaths 1', 'A.2_Expected Number of Deaths 1', 'A.3_Expected Number of Deaths 1', 'A.4_Expected Number of Deaths 1', 'A.5_Expected Number of Deaths 1', 'A.1_Expected Number of Deaths 2', 'A.2_Expected Number of Deaths 2', 'A.3_Expected Number of Deaths 2', 'A.4_Expected Number of Deaths 2', 'A.5_Expected Number of Deaths 2'), function=<function sum_over at 0x0000021A7854E820>)\n"
     ]
    }
   ],
   "source": [
    "# enlisting outcomes\n",
    "for outcome in dike_model.outcomes:\n",
    "    print(repr(outcome))"
   ],
   "metadata": {
    "collapsed": false,
    "pycharm": {
     "name": "#%%\n"
    }
   }
  },
  {
   "cell_type": "markdown",
   "source": [
    "### Policy formulations\n",
    "In the following cells the wanted policies can be adjusted"
   ],
   "metadata": {
    "collapsed": false,
    "pycharm": {
     "name": "#%% md\n"
    }
   }
  },
  {
   "cell_type": "code",
   "execution_count": 9,
   "outputs": [],
   "source": [
    "# Create a function which sets everything to 0 by default\n",
    "def get_0_dict():\n",
    "    return {l.name: 0 for l in dike_model.levers}\n",
    "\n",
    "# Creates a Policy object from a dict and a (optional) name\n",
    "def create_policy(dict1, name=None):\n",
    "    return Policy(f\"Policy_{name}\", **dict(get_0_dict(), **dict1))"
   ],
   "metadata": {
    "collapsed": false,
    "pycharm": {
     "name": "#%%\n"
    }
   }
  },
  {
   "cell_type": "markdown",
   "source": [
    "In the following policies formulations:\n",
    "- `RfR` says if the Room for River projects are enabled (projects `0` to `5`). The first number indicated the project, the second (after `RfR`) if in which time step the measure it taken (currently `0` to `2`). The value can be either `0` (not enabled) or `1` (enabled).\n",
    "- `A.1` to `A.5` are the different dikes. `A.3` is the dike ring around Zutphen. The number after `DikeIncrease` is again the timestep, the value assigned to the thing the heightening in decimeters.\n",
    "- Early Warning Systems can also be enabled, with `EWS_DaysToThreat`, which specifies the early warning time in days.\n",
    "\n",
    "See the implementation in problem_formulation.py (starting from line 35) for more details."
   ],
   "metadata": {
    "collapsed": false,
    "pycharm": {
     "name": "#%% md\n"
    }
   }
  },
  {
   "cell_type": "code",
   "execution_count": 10,
   "outputs": [],
   "source": [
    "pol_list = []\n",
    "pol_list.append(create_policy({}, name=\"Zero\"))\n",
    "\n",
    "for meter in [5, 10]:\n",
    "    pol_list.append(create_policy({\"A.3_DikeIncrease 0\": meter}, name=f\"Dike_A.3_{meter}\"))\n",
    "    \n",
    "for location in [2, 3, 4]:\n",
    "    for ews_days in [0, 4]:\n",
    "        pol_list.append(create_policy({f\"{location}_RfR 0\": 1, \"EWS_DaysToThreat\": ews_days}, name=f\"RfR_{location}_EWS_{ews_days}_days\"))\n"
   ],
   "metadata": {
    "collapsed": false,
    "pycharm": {
     "name": "#%%\n"
    }
   }
  },
  {
   "cell_type": "markdown",
   "source": [
    "### Run the model (or load the data)\n",
    "In the next cell the model is ran (if `use_pickle1 = False`) and the new results data is saved, or, if `use_pickle1 = True`, the saved results data is loaded."
   ],
   "metadata": {
    "collapsed": false,
    "pycharm": {
     "name": "#%% md\n"
    }
   }
  },
  {
   "cell_type": "code",
   "execution_count": 11,
   "outputs": [
    {
     "name": "stderr",
     "output_type": "stream",
     "text": [
      "[MainProcess/INFO] pool started with 7 workers\n",
      "[MainProcess/INFO] performing 5 scenarios * 9 policies * 1 model(s) = 45 experiments\n",
      "  2%|▉                                          | 1/45 [00:07<05:14,  7.14s/it]Traceback (most recent call last):\n",
      "  File \"C:\\Users\\Ewout\\miniconda3\\lib\\site-packages\\ema_workbench\\em_framework\\callbacks.py\", line 244, in _store_outcomes\n",
      "    self.results[outcome][case_id,] = outcome_res\n",
      "KeyError: 'Dike Investment Costs'\n",
      "\n",
      "During handling of the above exception, another exception occurred:\n",
      "\n",
      "Traceback (most recent call last):\n",
      "  File \"C:\\Users\\Ewout\\miniconda3\\lib\\site-packages\\ema_workbench\\em_framework\\ema_multiprocessing.py\", line 253, in run\n",
      "    self.callback(*result.get())\n",
      "  File \"C:\\Users\\Ewout\\miniconda3\\lib\\site-packages\\ema_workbench\\em_framework\\callbacks.py\", line 279, in __call__\n",
      "    self._store_outcomes(experiment.experiment_id, outcomes)\n",
      "  File \"C:\\Users\\Ewout\\miniconda3\\lib\\site-packages\\ema_workbench\\em_framework\\callbacks.py\", line 258, in _store_outcomes\n",
      "    self.results[outcome][:] = np.nan\n",
      "ValueError: cannot convert float NaN to integer\n",
      "100%|██████████████████████████████████████████| 45/45 [00:48<00:00,  1.07s/it]\n",
      "[MainProcess/INFO] experiments finished\n",
      "[MainProcess/INFO] terminating pool\n"
     ]
    }
   ],
   "source": [
    "# True, use results in pickle file; False, run MultiprocessingEvaluator\n",
    "use_pickle1 = False\n",
    "\n",
    "if use_pickle1:\n",
    "    with open('data/formulation_results.pickle', 'rb') as filehandler:\n",
    "        results = pickle.load(filehandler)\n",
    "\n",
    "else:\n",
    "    # pass the policies list to EMA workbench experiment runs\n",
    "    n_scenarios = 5\n",
    "    with MultiprocessingEvaluator(dike_model, n_processes=7) as evaluator:\n",
    "        results = evaluator.perform_experiments(n_scenarios, pol_list)\n",
    "\n",
    "    # Save results in Pickle file\n",
    "    with open('data/formulation_results.pickle', 'wb') as filehandler:\n",
    "        pickle.dump(results, filehandler)"
   ],
   "metadata": {
    "collapsed": false,
    "pycharm": {
     "name": "#%%\n"
    }
   }
  },
  {
   "cell_type": "markdown",
   "source": [
    "### Process the results\n",
    "In this section a dataframe is generated with all the outcomes data, and aggegrated to mean, min, max and quantiles values for each policy."
   ],
   "metadata": {
    "collapsed": false,
    "pycharm": {
     "name": "#%% md\n"
    }
   }
  },
  {
   "cell_type": "code",
   "execution_count": 25,
   "outputs": [
    {
     "data": {
      "text/plain": "    Expected Annual Damage  Dike Investment Costs  RfR Investment Costs  \\\n0             3.310547e+09                      0                   NaN   \n1             4.951533e+08                      0                   0.0   \n2             1.884253e+09                      0                   0.0   \n3             3.160493e+09                      0                   0.0   \n4             9.576766e+08                      0                   0.0   \n5             3.310547e+09               28798397                   0.0   \n6             4.951533e+08               28798397                   0.0   \n7             8.521325e+07               28798397                   0.0   \n8             3.160493e+09               28798397                   0.0   \n9             1.627937e+08               28798397                   0.0   \n10            3.310547e+09               44215020                   0.0   \n11            4.951533e+08               44215020                   0.0   \n12            3.342408e+07               44215020                   0.0   \n13            3.160493e+09               44215020                   0.0   \n14            1.627937e+08               44215020                   0.0   \n15            3.086827e+09                      0            30700000.0   \n16            4.950075e+08                      0            30700000.0   \n17            1.082328e+09                      0            30700000.0   \n18            3.160493e+09                      0            30700000.0   \n19            3.803834e+08                      0            30700000.0   \n20            3.086827e+09                      0            30700000.0   \n21            4.950075e+08                      0            30700000.0   \n22            1.082328e+09                      0            30700000.0   \n23            3.160493e+09                      0            30700000.0   \n24            3.803834e+08                      0            30700000.0   \n25            3.308141e+09                      0           121200000.0   \n26            3.992967e+08                      0           121200000.0   \n27            1.730342e+09                      0           121200000.0   \n28            3.160493e+09                      0           121200000.0   \n29            6.583461e+08                      0           121200000.0   \n30            3.308141e+09                      0           121200000.0   \n31            3.992967e+08                      0           121200000.0   \n32            1.730342e+09                      0           121200000.0   \n33            3.160493e+09                      0           121200000.0   \n34            6.583461e+08                      0           121200000.0   \n35            3.310547e+09                      0           256100000.0   \n36            4.512605e+08                      0           256100000.0   \n37            1.874336e+09                      0           256100000.0   \n38            3.160493e+09                      0           256100000.0   \n39            9.416270e+08                      0           256100000.0   \n40            3.310547e+09                      0           256100000.0   \n41            4.512605e+08                      0           256100000.0   \n42            1.874336e+09                      0           256100000.0   \n43            3.160493e+09                      0           256100000.0   \n44            9.416270e+08                      0           256100000.0   \n\n    Evacuation Costs  Expected Number of Deaths   Total Costs  \\\n0                NaN                        NaN  0.000000e+00   \n1           0.000000                   0.262093  0.000000e+00   \n2           0.000000                   3.736003  0.000000e+00   \n3           0.000000                   2.046292  0.000000e+00   \n4           0.000000                   1.415537  0.000000e+00   \n5           0.000000                   2.784966  2.879840e+07   \n6           0.000000                   0.262093  2.879840e+07   \n7           0.000000                   0.142109  2.879840e+07   \n8           0.000000                   2.046292  2.879840e+07   \n9           0.000000                   0.113812  2.879840e+07   \n10          0.000000                   2.784966  4.421502e+07   \n11          0.000000                   0.262093  4.421502e+07   \n12          0.000000                   0.028996  4.421502e+07   \n13          0.000000                   2.046292  4.421502e+07   \n14          0.000000                   0.113812  4.421502e+07   \n15          0.000000                   2.563934  3.070000e+07   \n16          0.000000                   0.261859  3.070000e+07   \n17          0.000000                   2.109525  3.070000e+07   \n18          0.000000                   2.046292  3.070000e+07   \n19          0.000000                   0.485294  3.070000e+07   \n20      87970.744197                   0.307672  3.078797e+07   \n21      22316.342780                   0.031423  3.072232e+07   \n22      75389.112869                   0.253143  3.077539e+07   \n23      40365.672895                   0.245555  3.074037e+07   \n24      21071.507393                   0.058235  3.072107e+07   \n25          0.000000                   2.781313  1.212000e+08   \n26          0.000000                   0.209541  1.212000e+08   \n27          0.000000                   3.403930  1.212000e+08   \n28          0.000000                   2.046292  1.212000e+08   \n29          0.000000                   0.965010  1.212000e+08   \n30     106502.765716                   0.333758  1.213065e+08   \n31      15299.558767                   0.025145  1.212153e+08   \n32     119289.596913                   0.408472  1.213193e+08   \n33      40365.672895                   0.245555  1.212404e+08   \n34      33119.722956                   0.115801  1.212331e+08   \n35          0.000000                   2.784966  2.561000e+08   \n36          0.000000                   0.247290  2.561000e+08   \n37          0.000000                   3.705768  2.561000e+08   \n38          0.000000                   2.046292  2.561000e+08   \n39          0.000000                   1.398170  2.561000e+08   \n40     106649.972082                   0.334196  2.562066e+08   \n41      18842.773412                   0.029675  2.561188e+08   \n42     128376.397979                   0.444692  2.562284e+08   \n43      40365.672895                   0.245555  2.561404e+08   \n44      47242.427032                   0.167780  2.561472e+08   \n\n    Cost plus Damage                   policy  \n0       3.310547e+09              Policy_Zero  \n1       4.951533e+08              Policy_Zero  \n2       1.884253e+09              Policy_Zero  \n3       3.160493e+09              Policy_Zero  \n4       9.576766e+08              Policy_Zero  \n5       3.339345e+09        Policy_Dike_A.3_5  \n6       5.239517e+08        Policy_Dike_A.3_5  \n7       1.140116e+08        Policy_Dike_A.3_5  \n8       3.189292e+09        Policy_Dike_A.3_5  \n9       1.915921e+08        Policy_Dike_A.3_5  \n10      3.354762e+09       Policy_Dike_A.3_10  \n11      5.393683e+08       Policy_Dike_A.3_10  \n12      7.763910e+07       Policy_Dike_A.3_10  \n13      3.204708e+09       Policy_Dike_A.3_10  \n14      2.070087e+08       Policy_Dike_A.3_10  \n15      3.117527e+09  Policy_RfR_2_EWS_0_days  \n16      5.257075e+08  Policy_RfR_2_EWS_0_days  \n17      1.113028e+09  Policy_RfR_2_EWS_0_days  \n18      3.191193e+09  Policy_RfR_2_EWS_0_days  \n19      4.110834e+08  Policy_RfR_2_EWS_0_days  \n20      3.117615e+09  Policy_RfR_2_EWS_4_days  \n21      5.257298e+08  Policy_RfR_2_EWS_4_days  \n22      1.113104e+09  Policy_RfR_2_EWS_4_days  \n23      3.191234e+09  Policy_RfR_2_EWS_4_days  \n24      4.111045e+08  Policy_RfR_2_EWS_4_days  \n25      3.429341e+09  Policy_RfR_3_EWS_0_days  \n26      5.204967e+08  Policy_RfR_3_EWS_0_days  \n27      1.851542e+09  Policy_RfR_3_EWS_0_days  \n28      3.281693e+09  Policy_RfR_3_EWS_0_days  \n29      7.795461e+08  Policy_RfR_3_EWS_0_days  \n30      3.429448e+09  Policy_RfR_3_EWS_4_days  \n31      5.205120e+08  Policy_RfR_3_EWS_4_days  \n32      1.851662e+09  Policy_RfR_3_EWS_4_days  \n33      3.281734e+09  Policy_RfR_3_EWS_4_days  \n34      7.795792e+08  Policy_RfR_3_EWS_4_days  \n35      3.566647e+09  Policy_RfR_4_EWS_0_days  \n36      7.073605e+08  Policy_RfR_4_EWS_0_days  \n37      2.130436e+09  Policy_RfR_4_EWS_0_days  \n38      3.416593e+09  Policy_RfR_4_EWS_0_days  \n39      1.197727e+09  Policy_RfR_4_EWS_0_days  \n40      3.566753e+09  Policy_RfR_4_EWS_4_days  \n41      7.073793e+08  Policy_RfR_4_EWS_4_days  \n42      2.130564e+09  Policy_RfR_4_EWS_4_days  \n43      3.416634e+09  Policy_RfR_4_EWS_4_days  \n44      1.197774e+09  Policy_RfR_4_EWS_4_days  ",
      "text/html": "<div>\n<style scoped>\n    .dataframe tbody tr th:only-of-type {\n        vertical-align: middle;\n    }\n\n    .dataframe tbody tr th {\n        vertical-align: top;\n    }\n\n    .dataframe thead th {\n        text-align: right;\n    }\n</style>\n<table border=\"1\" class=\"dataframe\">\n  <thead>\n    <tr style=\"text-align: right;\">\n      <th></th>\n      <th>Expected Annual Damage</th>\n      <th>Dike Investment Costs</th>\n      <th>RfR Investment Costs</th>\n      <th>Evacuation Costs</th>\n      <th>Expected Number of Deaths</th>\n      <th>Total Costs</th>\n      <th>Cost plus Damage</th>\n      <th>policy</th>\n    </tr>\n  </thead>\n  <tbody>\n    <tr>\n      <th>0</th>\n      <td>3.310547e+09</td>\n      <td>0</td>\n      <td>NaN</td>\n      <td>NaN</td>\n      <td>NaN</td>\n      <td>0.000000e+00</td>\n      <td>3.310547e+09</td>\n      <td>Policy_Zero</td>\n    </tr>\n    <tr>\n      <th>1</th>\n      <td>4.951533e+08</td>\n      <td>0</td>\n      <td>0.0</td>\n      <td>0.000000</td>\n      <td>0.262093</td>\n      <td>0.000000e+00</td>\n      <td>4.951533e+08</td>\n      <td>Policy_Zero</td>\n    </tr>\n    <tr>\n      <th>2</th>\n      <td>1.884253e+09</td>\n      <td>0</td>\n      <td>0.0</td>\n      <td>0.000000</td>\n      <td>3.736003</td>\n      <td>0.000000e+00</td>\n      <td>1.884253e+09</td>\n      <td>Policy_Zero</td>\n    </tr>\n    <tr>\n      <th>3</th>\n      <td>3.160493e+09</td>\n      <td>0</td>\n      <td>0.0</td>\n      <td>0.000000</td>\n      <td>2.046292</td>\n      <td>0.000000e+00</td>\n      <td>3.160493e+09</td>\n      <td>Policy_Zero</td>\n    </tr>\n    <tr>\n      <th>4</th>\n      <td>9.576766e+08</td>\n      <td>0</td>\n      <td>0.0</td>\n      <td>0.000000</td>\n      <td>1.415537</td>\n      <td>0.000000e+00</td>\n      <td>9.576766e+08</td>\n      <td>Policy_Zero</td>\n    </tr>\n    <tr>\n      <th>5</th>\n      <td>3.310547e+09</td>\n      <td>28798397</td>\n      <td>0.0</td>\n      <td>0.000000</td>\n      <td>2.784966</td>\n      <td>2.879840e+07</td>\n      <td>3.339345e+09</td>\n      <td>Policy_Dike_A.3_5</td>\n    </tr>\n    <tr>\n      <th>6</th>\n      <td>4.951533e+08</td>\n      <td>28798397</td>\n      <td>0.0</td>\n      <td>0.000000</td>\n      <td>0.262093</td>\n      <td>2.879840e+07</td>\n      <td>5.239517e+08</td>\n      <td>Policy_Dike_A.3_5</td>\n    </tr>\n    <tr>\n      <th>7</th>\n      <td>8.521325e+07</td>\n      <td>28798397</td>\n      <td>0.0</td>\n      <td>0.000000</td>\n      <td>0.142109</td>\n      <td>2.879840e+07</td>\n      <td>1.140116e+08</td>\n      <td>Policy_Dike_A.3_5</td>\n    </tr>\n    <tr>\n      <th>8</th>\n      <td>3.160493e+09</td>\n      <td>28798397</td>\n      <td>0.0</td>\n      <td>0.000000</td>\n      <td>2.046292</td>\n      <td>2.879840e+07</td>\n      <td>3.189292e+09</td>\n      <td>Policy_Dike_A.3_5</td>\n    </tr>\n    <tr>\n      <th>9</th>\n      <td>1.627937e+08</td>\n      <td>28798397</td>\n      <td>0.0</td>\n      <td>0.000000</td>\n      <td>0.113812</td>\n      <td>2.879840e+07</td>\n      <td>1.915921e+08</td>\n      <td>Policy_Dike_A.3_5</td>\n    </tr>\n    <tr>\n      <th>10</th>\n      <td>3.310547e+09</td>\n      <td>44215020</td>\n      <td>0.0</td>\n      <td>0.000000</td>\n      <td>2.784966</td>\n      <td>4.421502e+07</td>\n      <td>3.354762e+09</td>\n      <td>Policy_Dike_A.3_10</td>\n    </tr>\n    <tr>\n      <th>11</th>\n      <td>4.951533e+08</td>\n      <td>44215020</td>\n      <td>0.0</td>\n      <td>0.000000</td>\n      <td>0.262093</td>\n      <td>4.421502e+07</td>\n      <td>5.393683e+08</td>\n      <td>Policy_Dike_A.3_10</td>\n    </tr>\n    <tr>\n      <th>12</th>\n      <td>3.342408e+07</td>\n      <td>44215020</td>\n      <td>0.0</td>\n      <td>0.000000</td>\n      <td>0.028996</td>\n      <td>4.421502e+07</td>\n      <td>7.763910e+07</td>\n      <td>Policy_Dike_A.3_10</td>\n    </tr>\n    <tr>\n      <th>13</th>\n      <td>3.160493e+09</td>\n      <td>44215020</td>\n      <td>0.0</td>\n      <td>0.000000</td>\n      <td>2.046292</td>\n      <td>4.421502e+07</td>\n      <td>3.204708e+09</td>\n      <td>Policy_Dike_A.3_10</td>\n    </tr>\n    <tr>\n      <th>14</th>\n      <td>1.627937e+08</td>\n      <td>44215020</td>\n      <td>0.0</td>\n      <td>0.000000</td>\n      <td>0.113812</td>\n      <td>4.421502e+07</td>\n      <td>2.070087e+08</td>\n      <td>Policy_Dike_A.3_10</td>\n    </tr>\n    <tr>\n      <th>15</th>\n      <td>3.086827e+09</td>\n      <td>0</td>\n      <td>30700000.0</td>\n      <td>0.000000</td>\n      <td>2.563934</td>\n      <td>3.070000e+07</td>\n      <td>3.117527e+09</td>\n      <td>Policy_RfR_2_EWS_0_days</td>\n    </tr>\n    <tr>\n      <th>16</th>\n      <td>4.950075e+08</td>\n      <td>0</td>\n      <td>30700000.0</td>\n      <td>0.000000</td>\n      <td>0.261859</td>\n      <td>3.070000e+07</td>\n      <td>5.257075e+08</td>\n      <td>Policy_RfR_2_EWS_0_days</td>\n    </tr>\n    <tr>\n      <th>17</th>\n      <td>1.082328e+09</td>\n      <td>0</td>\n      <td>30700000.0</td>\n      <td>0.000000</td>\n      <td>2.109525</td>\n      <td>3.070000e+07</td>\n      <td>1.113028e+09</td>\n      <td>Policy_RfR_2_EWS_0_days</td>\n    </tr>\n    <tr>\n      <th>18</th>\n      <td>3.160493e+09</td>\n      <td>0</td>\n      <td>30700000.0</td>\n      <td>0.000000</td>\n      <td>2.046292</td>\n      <td>3.070000e+07</td>\n      <td>3.191193e+09</td>\n      <td>Policy_RfR_2_EWS_0_days</td>\n    </tr>\n    <tr>\n      <th>19</th>\n      <td>3.803834e+08</td>\n      <td>0</td>\n      <td>30700000.0</td>\n      <td>0.000000</td>\n      <td>0.485294</td>\n      <td>3.070000e+07</td>\n      <td>4.110834e+08</td>\n      <td>Policy_RfR_2_EWS_0_days</td>\n    </tr>\n    <tr>\n      <th>20</th>\n      <td>3.086827e+09</td>\n      <td>0</td>\n      <td>30700000.0</td>\n      <td>87970.744197</td>\n      <td>0.307672</td>\n      <td>3.078797e+07</td>\n      <td>3.117615e+09</td>\n      <td>Policy_RfR_2_EWS_4_days</td>\n    </tr>\n    <tr>\n      <th>21</th>\n      <td>4.950075e+08</td>\n      <td>0</td>\n      <td>30700000.0</td>\n      <td>22316.342780</td>\n      <td>0.031423</td>\n      <td>3.072232e+07</td>\n      <td>5.257298e+08</td>\n      <td>Policy_RfR_2_EWS_4_days</td>\n    </tr>\n    <tr>\n      <th>22</th>\n      <td>1.082328e+09</td>\n      <td>0</td>\n      <td>30700000.0</td>\n      <td>75389.112869</td>\n      <td>0.253143</td>\n      <td>3.077539e+07</td>\n      <td>1.113104e+09</td>\n      <td>Policy_RfR_2_EWS_4_days</td>\n    </tr>\n    <tr>\n      <th>23</th>\n      <td>3.160493e+09</td>\n      <td>0</td>\n      <td>30700000.0</td>\n      <td>40365.672895</td>\n      <td>0.245555</td>\n      <td>3.074037e+07</td>\n      <td>3.191234e+09</td>\n      <td>Policy_RfR_2_EWS_4_days</td>\n    </tr>\n    <tr>\n      <th>24</th>\n      <td>3.803834e+08</td>\n      <td>0</td>\n      <td>30700000.0</td>\n      <td>21071.507393</td>\n      <td>0.058235</td>\n      <td>3.072107e+07</td>\n      <td>4.111045e+08</td>\n      <td>Policy_RfR_2_EWS_4_days</td>\n    </tr>\n    <tr>\n      <th>25</th>\n      <td>3.308141e+09</td>\n      <td>0</td>\n      <td>121200000.0</td>\n      <td>0.000000</td>\n      <td>2.781313</td>\n      <td>1.212000e+08</td>\n      <td>3.429341e+09</td>\n      <td>Policy_RfR_3_EWS_0_days</td>\n    </tr>\n    <tr>\n      <th>26</th>\n      <td>3.992967e+08</td>\n      <td>0</td>\n      <td>121200000.0</td>\n      <td>0.000000</td>\n      <td>0.209541</td>\n      <td>1.212000e+08</td>\n      <td>5.204967e+08</td>\n      <td>Policy_RfR_3_EWS_0_days</td>\n    </tr>\n    <tr>\n      <th>27</th>\n      <td>1.730342e+09</td>\n      <td>0</td>\n      <td>121200000.0</td>\n      <td>0.000000</td>\n      <td>3.403930</td>\n      <td>1.212000e+08</td>\n      <td>1.851542e+09</td>\n      <td>Policy_RfR_3_EWS_0_days</td>\n    </tr>\n    <tr>\n      <th>28</th>\n      <td>3.160493e+09</td>\n      <td>0</td>\n      <td>121200000.0</td>\n      <td>0.000000</td>\n      <td>2.046292</td>\n      <td>1.212000e+08</td>\n      <td>3.281693e+09</td>\n      <td>Policy_RfR_3_EWS_0_days</td>\n    </tr>\n    <tr>\n      <th>29</th>\n      <td>6.583461e+08</td>\n      <td>0</td>\n      <td>121200000.0</td>\n      <td>0.000000</td>\n      <td>0.965010</td>\n      <td>1.212000e+08</td>\n      <td>7.795461e+08</td>\n      <td>Policy_RfR_3_EWS_0_days</td>\n    </tr>\n    <tr>\n      <th>30</th>\n      <td>3.308141e+09</td>\n      <td>0</td>\n      <td>121200000.0</td>\n      <td>106502.765716</td>\n      <td>0.333758</td>\n      <td>1.213065e+08</td>\n      <td>3.429448e+09</td>\n      <td>Policy_RfR_3_EWS_4_days</td>\n    </tr>\n    <tr>\n      <th>31</th>\n      <td>3.992967e+08</td>\n      <td>0</td>\n      <td>121200000.0</td>\n      <td>15299.558767</td>\n      <td>0.025145</td>\n      <td>1.212153e+08</td>\n      <td>5.205120e+08</td>\n      <td>Policy_RfR_3_EWS_4_days</td>\n    </tr>\n    <tr>\n      <th>32</th>\n      <td>1.730342e+09</td>\n      <td>0</td>\n      <td>121200000.0</td>\n      <td>119289.596913</td>\n      <td>0.408472</td>\n      <td>1.213193e+08</td>\n      <td>1.851662e+09</td>\n      <td>Policy_RfR_3_EWS_4_days</td>\n    </tr>\n    <tr>\n      <th>33</th>\n      <td>3.160493e+09</td>\n      <td>0</td>\n      <td>121200000.0</td>\n      <td>40365.672895</td>\n      <td>0.245555</td>\n      <td>1.212404e+08</td>\n      <td>3.281734e+09</td>\n      <td>Policy_RfR_3_EWS_4_days</td>\n    </tr>\n    <tr>\n      <th>34</th>\n      <td>6.583461e+08</td>\n      <td>0</td>\n      <td>121200000.0</td>\n      <td>33119.722956</td>\n      <td>0.115801</td>\n      <td>1.212331e+08</td>\n      <td>7.795792e+08</td>\n      <td>Policy_RfR_3_EWS_4_days</td>\n    </tr>\n    <tr>\n      <th>35</th>\n      <td>3.310547e+09</td>\n      <td>0</td>\n      <td>256100000.0</td>\n      <td>0.000000</td>\n      <td>2.784966</td>\n      <td>2.561000e+08</td>\n      <td>3.566647e+09</td>\n      <td>Policy_RfR_4_EWS_0_days</td>\n    </tr>\n    <tr>\n      <th>36</th>\n      <td>4.512605e+08</td>\n      <td>0</td>\n      <td>256100000.0</td>\n      <td>0.000000</td>\n      <td>0.247290</td>\n      <td>2.561000e+08</td>\n      <td>7.073605e+08</td>\n      <td>Policy_RfR_4_EWS_0_days</td>\n    </tr>\n    <tr>\n      <th>37</th>\n      <td>1.874336e+09</td>\n      <td>0</td>\n      <td>256100000.0</td>\n      <td>0.000000</td>\n      <td>3.705768</td>\n      <td>2.561000e+08</td>\n      <td>2.130436e+09</td>\n      <td>Policy_RfR_4_EWS_0_days</td>\n    </tr>\n    <tr>\n      <th>38</th>\n      <td>3.160493e+09</td>\n      <td>0</td>\n      <td>256100000.0</td>\n      <td>0.000000</td>\n      <td>2.046292</td>\n      <td>2.561000e+08</td>\n      <td>3.416593e+09</td>\n      <td>Policy_RfR_4_EWS_0_days</td>\n    </tr>\n    <tr>\n      <th>39</th>\n      <td>9.416270e+08</td>\n      <td>0</td>\n      <td>256100000.0</td>\n      <td>0.000000</td>\n      <td>1.398170</td>\n      <td>2.561000e+08</td>\n      <td>1.197727e+09</td>\n      <td>Policy_RfR_4_EWS_0_days</td>\n    </tr>\n    <tr>\n      <th>40</th>\n      <td>3.310547e+09</td>\n      <td>0</td>\n      <td>256100000.0</td>\n      <td>106649.972082</td>\n      <td>0.334196</td>\n      <td>2.562066e+08</td>\n      <td>3.566753e+09</td>\n      <td>Policy_RfR_4_EWS_4_days</td>\n    </tr>\n    <tr>\n      <th>41</th>\n      <td>4.512605e+08</td>\n      <td>0</td>\n      <td>256100000.0</td>\n      <td>18842.773412</td>\n      <td>0.029675</td>\n      <td>2.561188e+08</td>\n      <td>7.073793e+08</td>\n      <td>Policy_RfR_4_EWS_4_days</td>\n    </tr>\n    <tr>\n      <th>42</th>\n      <td>1.874336e+09</td>\n      <td>0</td>\n      <td>256100000.0</td>\n      <td>128376.397979</td>\n      <td>0.444692</td>\n      <td>2.562284e+08</td>\n      <td>2.130564e+09</td>\n      <td>Policy_RfR_4_EWS_4_days</td>\n    </tr>\n    <tr>\n      <th>43</th>\n      <td>3.160493e+09</td>\n      <td>0</td>\n      <td>256100000.0</td>\n      <td>40365.672895</td>\n      <td>0.245555</td>\n      <td>2.561404e+08</td>\n      <td>3.416634e+09</td>\n      <td>Policy_RfR_4_EWS_4_days</td>\n    </tr>\n    <tr>\n      <th>44</th>\n      <td>9.416270e+08</td>\n      <td>0</td>\n      <td>256100000.0</td>\n      <td>47242.427032</td>\n      <td>0.167780</td>\n      <td>2.561472e+08</td>\n      <td>1.197774e+09</td>\n      <td>Policy_RfR_4_EWS_4_days</td>\n    </tr>\n  </tbody>\n</table>\n</div>"
     },
     "execution_count": 25,
     "metadata": {},
     "output_type": "execute_result"
    }
   ],
   "source": [
    "# Create a dataframe from outcomes, and add the policy column to it\n",
    "exp, out = results\n",
    "df = pd.DataFrame(out)\n",
    "df[\"Total Costs\"] = df[[\"Dike Investment Costs\", \"RfR Investment Costs\", \"Evacuation Costs\"]].sum(axis=1)\n",
    "df[\"Cost plus Damage\"] = df[\"Total Costs\"] + df[\"Expected Annual Damage\"]\n",
    "df[\"policy\"] = pd.DataFrame(exp)[\"policy\"]\n",
    "df"
   ],
   "metadata": {
    "collapsed": false,
    "pycharm": {
     "name": "#%%\n"
    }
   }
  },
  {
   "cell_type": "code",
   "execution_count": 13,
   "outputs": [],
   "source": [
    "# Define two functions to get the 5th and 95th quantiles\n",
    "def q05(x):\n",
    "    return x.quantile(0.05)\n",
    "\n",
    "def q95(x):\n",
    "    return x.quantile(0.95)"
   ],
   "metadata": {
    "collapsed": false,
    "pycharm": {
     "name": "#%%\n"
    }
   }
  },
  {
   "cell_type": "code",
   "execution_count": 27,
   "outputs": [
    {
     "data": {
      "text/plain": "                        Expected Number of Deaths                      \\\n                                             mean       min       max   \npolicy                                                                  \nPolicy_Dike_A.3_10                       1.047232  0.028996  2.784966   \nPolicy_Dike_A.3_5                        1.069854  0.113812  2.784966   \nPolicy_RfR_2_EWS_0_days                  1.493381  0.261859  2.563934   \nPolicy_RfR_2_EWS_4_days                  0.179206  0.031423  0.307672   \nPolicy_RfR_3_EWS_0_days                  1.881217  0.209541  3.403930   \nPolicy_RfR_3_EWS_4_days                  0.225746  0.025145  0.408472   \nPolicy_RfR_4_EWS_0_days                  2.036497  0.247290  3.705768   \nPolicy_RfR_4_EWS_4_days                  0.244380  0.029675  0.444692   \nPolicy_Zero                              1.864982  0.262093  3.736003   \n\n                                            Expected Annual Damage  \\\n                              q05       q95                   mean   \npolicy                                                               \nPolicy_Dike_A.3_10       0.045959  2.637231           1.432482e+09   \nPolicy_Dike_A.3_5        0.119471  2.637231           1.442840e+09   \nPolicy_RfR_2_EWS_0_days  0.306546  2.473052           1.641008e+09   \nPolicy_RfR_2_EWS_4_days  0.036786  0.296766           1.641008e+09   \nPolicy_RfR_3_EWS_0_days  0.360635  3.279407           1.851324e+09   \nPolicy_RfR_3_EWS_4_days  0.043276  0.393529           1.851324e+09   \nPolicy_RfR_4_EWS_0_days  0.477466  3.521608           1.947653e+09   \nPolicy_RfR_4_EWS_4_days  0.057296  0.422593           1.947653e+09   \nPolicy_Zero              0.435110  3.482547           1.961625e+09   \n\n                                                                   \\\n                                  min           max           q05   \npolicy                                                              \nPolicy_Dike_A.3_10       3.342408e+07  3.310547e+09  5.929800e+07   \nPolicy_Dike_A.3_5        8.521325e+07  3.310547e+09  1.007293e+08   \nPolicy_RfR_2_EWS_0_days  3.803834e+08  3.160493e+09  4.033082e+08   \nPolicy_RfR_2_EWS_4_days  3.803834e+08  3.160493e+09  4.033082e+08   \nPolicy_RfR_3_EWS_0_days  3.992967e+08  3.308141e+09  4.511066e+08   \nPolicy_RfR_3_EWS_4_days  3.992967e+08  3.308141e+09  4.511066e+08   \nPolicy_RfR_4_EWS_0_days  4.512605e+08  3.310547e+09  5.493338e+08   \nPolicy_RfR_4_EWS_4_days  4.512605e+08  3.310547e+09  5.493338e+08   \nPolicy_Zero              4.951533e+08  3.310547e+09  5.876579e+08   \n\n                                        Total Costs Cost plus Damage  \\\n                                  q95          mean             mean   \npolicy                                                                 \nPolicy_Dike_A.3_10       3.280536e+09  4.421502e+07     1.476697e+09   \nPolicy_Dike_A.3_5        3.280536e+09  2.879840e+07     1.471638e+09   \nPolicy_RfR_2_EWS_0_days  3.145760e+09  3.070000e+07     1.671708e+09   \nPolicy_RfR_2_EWS_4_days  3.145760e+09  3.074942e+07     1.671757e+09   \nPolicy_RfR_3_EWS_0_days  3.278612e+09  1.212000e+08     1.972524e+09   \nPolicy_RfR_3_EWS_4_days  3.278612e+09  1.212629e+08     1.972587e+09   \nPolicy_RfR_4_EWS_0_days  3.280536e+09  2.561000e+08     2.203753e+09   \nPolicy_RfR_4_EWS_4_days  3.280536e+09  2.561683e+08     2.203821e+09   \nPolicy_Zero              3.280536e+09  0.000000e+00     1.961625e+09   \n\n                                                                   \\\n                                  min           max           q05   \npolicy                                                              \nPolicy_Dike_A.3_10       7.763910e+07  3.354762e+09  1.035130e+08   \nPolicy_Dike_A.3_5        1.140116e+08  3.339345e+09  1.295277e+08   \nPolicy_RfR_2_EWS_0_days  4.110834e+08  3.191193e+09  4.340082e+08   \nPolicy_RfR_2_EWS_4_days  4.111045e+08  3.191234e+09  4.340295e+08   \nPolicy_RfR_3_EWS_0_days  5.204967e+08  3.429341e+09  5.723066e+08   \nPolicy_RfR_3_EWS_4_days  5.205120e+08  3.429448e+09  5.723254e+08   \nPolicy_RfR_4_EWS_0_days  7.073605e+08  3.566647e+09  8.054338e+08   \nPolicy_RfR_4_EWS_4_days  7.073793e+08  3.566753e+09  8.054583e+08   \nPolicy_Zero              4.951533e+08  3.310547e+09  5.876579e+08   \n\n                                       \n                                  q95  \npolicy                                 \nPolicy_Dike_A.3_10       3.324751e+09  \nPolicy_Dike_A.3_5        3.309334e+09  \nPolicy_RfR_2_EWS_0_days  3.176460e+09  \nPolicy_RfR_2_EWS_4_days  3.176510e+09  \nPolicy_RfR_3_EWS_0_days  3.399812e+09  \nPolicy_RfR_3_EWS_4_days  3.399905e+09  \nPolicy_RfR_4_EWS_0_days  3.536636e+09  \nPolicy_RfR_4_EWS_4_days  3.536729e+09  \nPolicy_Zero              3.280536e+09  ",
      "text/html": "<div>\n<style scoped>\n    .dataframe tbody tr th:only-of-type {\n        vertical-align: middle;\n    }\n\n    .dataframe tbody tr th {\n        vertical-align: top;\n    }\n\n    .dataframe thead tr th {\n        text-align: left;\n    }\n\n    .dataframe thead tr:last-of-type th {\n        text-align: right;\n    }\n</style>\n<table border=\"1\" class=\"dataframe\">\n  <thead>\n    <tr>\n      <th></th>\n      <th colspan=\"5\" halign=\"left\">Expected Number of Deaths</th>\n      <th colspan=\"5\" halign=\"left\">Expected Annual Damage</th>\n      <th>Total Costs</th>\n      <th colspan=\"5\" halign=\"left\">Cost plus Damage</th>\n    </tr>\n    <tr>\n      <th></th>\n      <th>mean</th>\n      <th>min</th>\n      <th>max</th>\n      <th>q05</th>\n      <th>q95</th>\n      <th>mean</th>\n      <th>min</th>\n      <th>max</th>\n      <th>q05</th>\n      <th>q95</th>\n      <th>mean</th>\n      <th>mean</th>\n      <th>min</th>\n      <th>max</th>\n      <th>q05</th>\n      <th>q95</th>\n    </tr>\n    <tr>\n      <th>policy</th>\n      <th></th>\n      <th></th>\n      <th></th>\n      <th></th>\n      <th></th>\n      <th></th>\n      <th></th>\n      <th></th>\n      <th></th>\n      <th></th>\n      <th></th>\n      <th></th>\n      <th></th>\n      <th></th>\n      <th></th>\n      <th></th>\n    </tr>\n  </thead>\n  <tbody>\n    <tr>\n      <th>Policy_Dike_A.3_10</th>\n      <td>1.047232</td>\n      <td>0.028996</td>\n      <td>2.784966</td>\n      <td>0.045959</td>\n      <td>2.637231</td>\n      <td>1.432482e+09</td>\n      <td>3.342408e+07</td>\n      <td>3.310547e+09</td>\n      <td>5.929800e+07</td>\n      <td>3.280536e+09</td>\n      <td>4.421502e+07</td>\n      <td>1.476697e+09</td>\n      <td>7.763910e+07</td>\n      <td>3.354762e+09</td>\n      <td>1.035130e+08</td>\n      <td>3.324751e+09</td>\n    </tr>\n    <tr>\n      <th>Policy_Dike_A.3_5</th>\n      <td>1.069854</td>\n      <td>0.113812</td>\n      <td>2.784966</td>\n      <td>0.119471</td>\n      <td>2.637231</td>\n      <td>1.442840e+09</td>\n      <td>8.521325e+07</td>\n      <td>3.310547e+09</td>\n      <td>1.007293e+08</td>\n      <td>3.280536e+09</td>\n      <td>2.879840e+07</td>\n      <td>1.471638e+09</td>\n      <td>1.140116e+08</td>\n      <td>3.339345e+09</td>\n      <td>1.295277e+08</td>\n      <td>3.309334e+09</td>\n    </tr>\n    <tr>\n      <th>Policy_RfR_2_EWS_0_days</th>\n      <td>1.493381</td>\n      <td>0.261859</td>\n      <td>2.563934</td>\n      <td>0.306546</td>\n      <td>2.473052</td>\n      <td>1.641008e+09</td>\n      <td>3.803834e+08</td>\n      <td>3.160493e+09</td>\n      <td>4.033082e+08</td>\n      <td>3.145760e+09</td>\n      <td>3.070000e+07</td>\n      <td>1.671708e+09</td>\n      <td>4.110834e+08</td>\n      <td>3.191193e+09</td>\n      <td>4.340082e+08</td>\n      <td>3.176460e+09</td>\n    </tr>\n    <tr>\n      <th>Policy_RfR_2_EWS_4_days</th>\n      <td>0.179206</td>\n      <td>0.031423</td>\n      <td>0.307672</td>\n      <td>0.036786</td>\n      <td>0.296766</td>\n      <td>1.641008e+09</td>\n      <td>3.803834e+08</td>\n      <td>3.160493e+09</td>\n      <td>4.033082e+08</td>\n      <td>3.145760e+09</td>\n      <td>3.074942e+07</td>\n      <td>1.671757e+09</td>\n      <td>4.111045e+08</td>\n      <td>3.191234e+09</td>\n      <td>4.340295e+08</td>\n      <td>3.176510e+09</td>\n    </tr>\n    <tr>\n      <th>Policy_RfR_3_EWS_0_days</th>\n      <td>1.881217</td>\n      <td>0.209541</td>\n      <td>3.403930</td>\n      <td>0.360635</td>\n      <td>3.279407</td>\n      <td>1.851324e+09</td>\n      <td>3.992967e+08</td>\n      <td>3.308141e+09</td>\n      <td>4.511066e+08</td>\n      <td>3.278612e+09</td>\n      <td>1.212000e+08</td>\n      <td>1.972524e+09</td>\n      <td>5.204967e+08</td>\n      <td>3.429341e+09</td>\n      <td>5.723066e+08</td>\n      <td>3.399812e+09</td>\n    </tr>\n    <tr>\n      <th>Policy_RfR_3_EWS_4_days</th>\n      <td>0.225746</td>\n      <td>0.025145</td>\n      <td>0.408472</td>\n      <td>0.043276</td>\n      <td>0.393529</td>\n      <td>1.851324e+09</td>\n      <td>3.992967e+08</td>\n      <td>3.308141e+09</td>\n      <td>4.511066e+08</td>\n      <td>3.278612e+09</td>\n      <td>1.212629e+08</td>\n      <td>1.972587e+09</td>\n      <td>5.205120e+08</td>\n      <td>3.429448e+09</td>\n      <td>5.723254e+08</td>\n      <td>3.399905e+09</td>\n    </tr>\n    <tr>\n      <th>Policy_RfR_4_EWS_0_days</th>\n      <td>2.036497</td>\n      <td>0.247290</td>\n      <td>3.705768</td>\n      <td>0.477466</td>\n      <td>3.521608</td>\n      <td>1.947653e+09</td>\n      <td>4.512605e+08</td>\n      <td>3.310547e+09</td>\n      <td>5.493338e+08</td>\n      <td>3.280536e+09</td>\n      <td>2.561000e+08</td>\n      <td>2.203753e+09</td>\n      <td>7.073605e+08</td>\n      <td>3.566647e+09</td>\n      <td>8.054338e+08</td>\n      <td>3.536636e+09</td>\n    </tr>\n    <tr>\n      <th>Policy_RfR_4_EWS_4_days</th>\n      <td>0.244380</td>\n      <td>0.029675</td>\n      <td>0.444692</td>\n      <td>0.057296</td>\n      <td>0.422593</td>\n      <td>1.947653e+09</td>\n      <td>4.512605e+08</td>\n      <td>3.310547e+09</td>\n      <td>5.493338e+08</td>\n      <td>3.280536e+09</td>\n      <td>2.561683e+08</td>\n      <td>2.203821e+09</td>\n      <td>7.073793e+08</td>\n      <td>3.566753e+09</td>\n      <td>8.054583e+08</td>\n      <td>3.536729e+09</td>\n    </tr>\n    <tr>\n      <th>Policy_Zero</th>\n      <td>1.864982</td>\n      <td>0.262093</td>\n      <td>3.736003</td>\n      <td>0.435110</td>\n      <td>3.482547</td>\n      <td>1.961625e+09</td>\n      <td>4.951533e+08</td>\n      <td>3.310547e+09</td>\n      <td>5.876579e+08</td>\n      <td>3.280536e+09</td>\n      <td>0.000000e+00</td>\n      <td>1.961625e+09</td>\n      <td>4.951533e+08</td>\n      <td>3.310547e+09</td>\n      <td>5.876579e+08</td>\n      <td>3.280536e+09</td>\n    </tr>\n  </tbody>\n</table>\n</div>"
     },
     "execution_count": 27,
     "metadata": {},
     "output_type": "execute_result"
    }
   ],
   "source": [
    "# Create a Pandas GroupBy object\n",
    "group_df = df.groupby(by=\"policy\")\n",
    "\n",
    "# Create a list of statistical functions which are used\n",
    "agg_par = [\"mean\", \"min\", \"max\", q05, q95]\n",
    "\n",
    "# Create a dictionary with what outcome values are aggegrated with which functions\n",
    "agg_dict = {\n",
    "    \"Expected Number of Deaths\": agg_par,\n",
    "    \"Expected Annual Damage\": agg_par,\n",
    "    \"Total Costs\": \"mean\",\n",
    "    \"Cost plus Damage\": agg_par,\n",
    "}\n",
    "# Create new dataframe with the aggegrated data per policy\n",
    "TCA_df = group_df.agg(agg_dict)\n",
    "TCA_df"
   ],
   "metadata": {
    "collapsed": false,
    "pycharm": {
     "name": "#%%\n"
    }
   }
  },
  {
   "cell_type": "markdown",
   "source": [
    "### Plots\n",
    "\n",
    "TODO: Make make some nice Seaborn plots?"
   ],
   "metadata": {
    "collapsed": false,
    "pycharm": {
     "name": "#%% md\n"
    }
   }
  },
  {
   "cell_type": "code",
   "execution_count": 43,
   "outputs": [
    {
     "data": {
      "text/plain": "<AxesSubplot:xlabel='policy'>"
     },
     "execution_count": 43,
     "metadata": {},
     "output_type": "execute_result"
    },
    {
     "data": {
      "text/plain": "<Figure size 432x288 with 1 Axes>",
      "image/png": "[encoded data removed]"
     },
     "metadata": {
      "needs_background": "light"
     },
     "output_type": "display_data"
    }
   ],
   "source": [
    "TCA_df[\"Expected Number of Deaths\"][\"mean\"].plot.bar()"
   ],
   "metadata": {
    "collapsed": false,
    "pycharm": {
     "name": "#%%\n"
    }
   }
  },
  {
   "cell_type": "code",
   "execution_count": 44,
   "outputs": [
    {
     "data": {
      "text/plain": "<AxesSubplot:xlabel='policy'>"
     },
     "execution_count": 44,
     "metadata": {},
     "output_type": "execute_result"
    },
    {
     "data": {
      "text/plain": "<Figure size 432x288 with 1 Axes>",
      "image/png": "[encoded data removed]"
     },
     "metadata": {
      "needs_background": "light"
     },
     "output_type": "display_data"
    }
   ],
   "source": [
    "TCA_df[\"Total Costs\"][\"mean\"].plot.bar()"
   ],
   "metadata": {
    "collapsed": false,
    "pycharm": {
     "name": "#%%\n"
    }
   }
  },
  {
   "cell_type": "code",
   "execution_count": 46,
   "outputs": [
    {
     "data": {
      "text/plain": "<AxesSubplot:xlabel='policy'>"
     },
     "execution_count": 46,
     "metadata": {},
     "output_type": "execute_result"
    },
    {
     "data": {
      "text/plain": "<Figure size 432x288 with 1 Axes>",
      "image/png": "[encoded data removed]"
     },
     "metadata": {
      "needs_background": "light"
     },
     "output_type": "display_data"
    }
   ],
   "source": [
    "TCA_df[\"Cost plus Damage\"][\"mean\"].plot.bar()"
   ],
   "metadata": {
    "collapsed": false,
    "pycharm": {
     "name": "#%%\n"
    }
   }
  },
  {
   "cell_type": "code",
   "execution_count": null,
   "outputs": [],
   "source": [
    "# Save the aggegrated data to a CSV file\n",
    "#TCA_df.to_csv(\"results/TCA3_results.csv\")"
   ],
   "metadata": {
    "collapsed": false,
    "pycharm": {
     "name": "#%%\n"
    }
   }
  }
 ],
 "metadata": {
  "interpreter": {
   "hash": "6fd914e18bfa8d7647c3cf90e7a007e50e832e4a27cecf06ee50e35679d106a4"
  },
  "kernelspec": {
   "display_name": "Python 3.8.8 ('base')",
   "language": "python",
   "name": "python3"
  },
  "language_info": {
   "codemirror_mode": {
    "name": "ipython",
    "version": 3
   },
   "file_extension": ".py",
   "mimetype": "text/x-python",
   "name": "python",
   "nbconvert_exporter": "python",
   "pygments_lexer": "ipython3",
   "version": "3.8.8"
  }
 },
 "nbformat": 4,
 "nbformat_minor": 4
}