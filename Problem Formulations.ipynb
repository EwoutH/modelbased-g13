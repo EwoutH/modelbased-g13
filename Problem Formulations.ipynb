{
 "cells": [
  {
   "cell_type": "code",
   "execution_count": 1,
   "outputs": [],
   "source": [
    "import numpy as np\n",
    "import scipy as sp\n",
    "import pandas as pd\n",
    "import matplotlib.pyplot as plt\n",
    "import seaborn as sns\n",
    "import networkx as nx\n",
    "import pickle"
   ],
   "metadata": {
    "collapsed": false,
    "pycharm": {
     "name": "#%%\n"
    }
   }
  },
  {
   "cell_type": "code",
   "execution_count": 2,
   "outputs": [
    {
     "name": "stdout",
     "output_type": "stream",
     "text": [
      "1.4.2\n",
      "2.8.2\n"
     ]
    }
   ],
   "source": [
    "# make sure pandas is version 1.0 or higher\n",
    "# make sure networkx is verion 2.4 or higher\n",
    "print(pd.__version__)\n",
    "print(nx.__version__)"
   ],
   "metadata": {
    "collapsed": false,
    "pycharm": {
     "name": "#%%\n"
    }
   }
  },
  {
   "cell_type": "code",
   "execution_count": 3,
   "outputs": [],
   "source": [
    "from ema_workbench import (\n",
    "    Model,\n",
    "    Policy,\n",
    "    ema_logging,\n",
    "    SequentialEvaluator,\n",
    "    MultiprocessingEvaluator,\n",
    ")\n",
    "from dike_model_function import DikeNetwork  # @UnresolvedImport\n",
    "from problem_formulation import get_model_for_problem_formulation\n",
    "\n",
    "\n",
    "def sum_over(*args):\n",
    "    return sum(args)"
   ],
   "metadata": {
    "collapsed": false,
    "pycharm": {
     "name": "#%%\n"
    }
   }
  },
  {
   "cell_type": "code",
   "execution_count": 4,
   "outputs": [],
   "source": [
    "ema_logging.log_to_stderr(ema_logging.INFO)\n",
    "\n",
    "# choose problem formulation number, between 0-5\n",
    "# each problem formulation has its own list of outcomes\n",
    "dike_model, planning_steps = get_model_for_problem_formulation(3)"
   ],
   "metadata": {
    "collapsed": false,
    "pycharm": {
     "name": "#%%\n"
    }
   }
  },
  {
   "cell_type": "code",
   "execution_count": 5,
   "outputs": [
    {
     "name": "stdout",
     "output_type": "stream",
     "text": [
      "CategoricalParameter('discount rate 0', [0, 1, 2, 3])\n",
      "CategoricalParameter('discount rate 1', [0, 1, 2, 3])\n",
      "CategoricalParameter('discount rate 2', [0, 1, 2, 3])\n",
      "<ema_workbench.em_framework.parameters.IntegerParameter object at 0x0000012ED34ACB20>\n",
      "<ema_workbench.em_framework.parameters.RealParameter object at 0x0000012ED35020D0>\n",
      "<ema_workbench.em_framework.parameters.RealParameter object at 0x0000012ED34AC4F0>\n",
      "CategoricalParameter('A.1_Brate', [0, 1, 2])\n",
      "<ema_workbench.em_framework.parameters.RealParameter object at 0x0000012ED34AC190>\n",
      "<ema_workbench.em_framework.parameters.RealParameter object at 0x0000012ED34FF3A0>\n",
      "CategoricalParameter('A.2_Brate', [0, 1, 2])\n",
      "<ema_workbench.em_framework.parameters.RealParameter object at 0x0000012ED34E8340>\n",
      "<ema_workbench.em_framework.parameters.RealParameter object at 0x0000012ED34FFB20>\n",
      "CategoricalParameter('A.3_Brate', [0, 1, 2])\n",
      "<ema_workbench.em_framework.parameters.RealParameter object at 0x0000012ED3507A90>\n",
      "<ema_workbench.em_framework.parameters.RealParameter object at 0x0000012ED34E8E80>\n",
      "CategoricalParameter('A.4_Brate', [0, 1, 2])\n",
      "<ema_workbench.em_framework.parameters.RealParameter object at 0x0000012ED3514820>\n",
      "<ema_workbench.em_framework.parameters.RealParameter object at 0x0000012ED35129A0>\n",
      "CategoricalParameter('A.5_Brate', [0, 1, 2])\n"
     ]
    }
   ],
   "source": [
    "# enlisting uncertainties, their types (RealParameter/IntegerParameter/CategoricalParameter), lower boundary, and upper boundary\n",
    "import copy\n",
    "\n",
    "for unc in dike_model.uncertainties:\n",
    "    print(repr(unc))\n",
    "\n",
    "uncertainties = copy.deepcopy(dike_model.uncertainties)"
   ],
   "metadata": {
    "collapsed": false,
    "pycharm": {
     "name": "#%%\n"
    }
   }
  },
  {
   "cell_type": "code",
   "execution_count": 6,
   "outputs": [
    {
     "name": "stdout",
     "output_type": "stream",
     "text": [
      "<ema_workbench.em_framework.parameters.IntegerParameter object at 0x0000012ED350B250>\n",
      "<ema_workbench.em_framework.parameters.IntegerParameter object at 0x0000012ED34ACEB0>\n",
      "<ema_workbench.em_framework.parameters.IntegerParameter object at 0x0000012ED350B970>\n",
      "<ema_workbench.em_framework.parameters.IntegerParameter object at 0x0000012ED34ED130>\n",
      "<ema_workbench.em_framework.parameters.IntegerParameter object at 0x0000012ED350B4C0>\n",
      "<ema_workbench.em_framework.parameters.IntegerParameter object at 0x0000012ED34ED340>\n",
      "<ema_workbench.em_framework.parameters.IntegerParameter object at 0x0000012ED33EEAF0>\n",
      "<ema_workbench.em_framework.parameters.IntegerParameter object at 0x0000012ED34ED6D0>\n",
      "<ema_workbench.em_framework.parameters.IntegerParameter object at 0x0000012ED33EE9A0>\n",
      "<ema_workbench.em_framework.parameters.IntegerParameter object at 0x0000012ED34ED490>\n",
      "<ema_workbench.em_framework.parameters.IntegerParameter object at 0x0000012ED3507160>\n",
      "<ema_workbench.em_framework.parameters.IntegerParameter object at 0x0000012EBFBEF1F0>\n",
      "<ema_workbench.em_framework.parameters.IntegerParameter object at 0x0000012ED3507040>\n",
      "<ema_workbench.em_framework.parameters.IntegerParameter object at 0x0000012ED34ED880>\n",
      "<ema_workbench.em_framework.parameters.IntegerParameter object at 0x0000012ED35076D0>\n",
      "<ema_workbench.em_framework.parameters.IntegerParameter object at 0x0000012ED350B4F0>\n",
      "<ema_workbench.em_framework.parameters.IntegerParameter object at 0x0000012ED34ACE20>\n",
      "<ema_workbench.em_framework.parameters.IntegerParameter object at 0x0000012ED3502E20>\n",
      "<ema_workbench.em_framework.parameters.IntegerParameter object at 0x0000012ED34FF0A0>\n",
      "<ema_workbench.em_framework.parameters.IntegerParameter object at 0x0000012ED34FFA90>\n",
      "<ema_workbench.em_framework.parameters.IntegerParameter object at 0x0000012ED34E80A0>\n",
      "<ema_workbench.em_framework.parameters.IntegerParameter object at 0x0000012ED34FF6D0>\n",
      "<ema_workbench.em_framework.parameters.IntegerParameter object at 0x0000012ED3507C10>\n",
      "<ema_workbench.em_framework.parameters.IntegerParameter object at 0x0000012ED3514310>\n",
      "<ema_workbench.em_framework.parameters.IntegerParameter object at 0x0000012ED35079D0>\n",
      "<ema_workbench.em_framework.parameters.IntegerParameter object at 0x0000012ED35122E0>\n",
      "<ema_workbench.em_framework.parameters.IntegerParameter object at 0x0000012ED3514490>\n",
      "<ema_workbench.em_framework.parameters.IntegerParameter object at 0x0000012ED3512430>\n",
      "<ema_workbench.em_framework.parameters.IntegerParameter object at 0x0000012ED35126A0>\n",
      "<ema_workbench.em_framework.parameters.IntegerParameter object at 0x0000012ED351D550>\n",
      "<ema_workbench.em_framework.parameters.IntegerParameter object at 0x0000012ED3512BB0>\n"
     ]
    }
   ],
   "source": [
    "# enlisting policy levers, their types (RealParameter/IntegerParameter), lower boundary, and upper boundary\n",
    "for policy in dike_model.levers:\n",
    "    print(repr(policy))\n",
    "\n",
    "levers = copy.deepcopy(dike_model.levers)"
   ],
   "metadata": {
    "collapsed": false,
    "pycharm": {
     "name": "#%%\n"
    }
   }
  },
  {
   "cell_type": "code",
   "execution_count": 7,
   "outputs": [
    {
     "name": "stdout",
     "output_type": "stream",
     "text": [
      "ScalarOutcome('A.1 Total Costs', variable_name=('A.1_Expected Annual Damage 0', 'A.1_Expected Annual Damage 1', 'A.1_Expected Annual Damage 2', 'A.1_Dike Investment Costs 0', 'A.1_Dike Investment Costs 1', 'A.1_Dike Investment Costs 2'), function=<function sum_over at 0x0000012ED2B21310>)\n",
      "ScalarOutcome('A.1_Expected Number of Deaths', variable_name=('A.1_Expected Number of Deaths 0', 'A.1_Expected Number of Deaths 1', 'A.1_Expected Number of Deaths 2'), function=<function sum_over at 0x0000012ED2B21310>)\n",
      "ScalarOutcome('A.2 Total Costs', variable_name=('A.2_Expected Annual Damage 0', 'A.2_Expected Annual Damage 1', 'A.2_Expected Annual Damage 2', 'A.2_Dike Investment Costs 0', 'A.2_Dike Investment Costs 1', 'A.2_Dike Investment Costs 2'), function=<function sum_over at 0x0000012ED2B21310>)\n",
      "ScalarOutcome('A.2_Expected Number of Deaths', variable_name=('A.2_Expected Number of Deaths 0', 'A.2_Expected Number of Deaths 1', 'A.2_Expected Number of Deaths 2'), function=<function sum_over at 0x0000012ED2B21310>)\n",
      "ScalarOutcome('A.3 Total Costs', variable_name=('A.3_Expected Annual Damage 0', 'A.3_Expected Annual Damage 1', 'A.3_Expected Annual Damage 2', 'A.3_Dike Investment Costs 0', 'A.3_Dike Investment Costs 1', 'A.3_Dike Investment Costs 2'), function=<function sum_over at 0x0000012ED2B21310>)\n",
      "ScalarOutcome('A.3_Expected Number of Deaths', variable_name=('A.3_Expected Number of Deaths 0', 'A.3_Expected Number of Deaths 1', 'A.3_Expected Number of Deaths 2'), function=<function sum_over at 0x0000012ED2B21310>)\n",
      "ScalarOutcome('A.4 Total Costs', variable_name=('A.4_Expected Annual Damage 0', 'A.4_Expected Annual Damage 1', 'A.4_Expected Annual Damage 2', 'A.4_Dike Investment Costs 0', 'A.4_Dike Investment Costs 1', 'A.4_Dike Investment Costs 2'), function=<function sum_over at 0x0000012ED2B21310>)\n",
      "ScalarOutcome('A.4_Expected Number of Deaths', variable_name=('A.4_Expected Number of Deaths 0', 'A.4_Expected Number of Deaths 1', 'A.4_Expected Number of Deaths 2'), function=<function sum_over at 0x0000012ED2B21310>)\n",
      "ScalarOutcome('A.5 Total Costs', variable_name=('A.5_Expected Annual Damage 0', 'A.5_Expected Annual Damage 1', 'A.5_Expected Annual Damage 2', 'A.5_Dike Investment Costs 0', 'A.5_Dike Investment Costs 1', 'A.5_Dike Investment Costs 2'), function=<function sum_over at 0x0000012ED2B21310>)\n",
      "ScalarOutcome('A.5_Expected Number of Deaths', variable_name=('A.5_Expected Number of Deaths 0', 'A.5_Expected Number of Deaths 1', 'A.5_Expected Number of Deaths 2'), function=<function sum_over at 0x0000012ED2B21310>)\n",
      "ScalarOutcome('RfR Total Costs', variable_name=('RfR Total Costs 0', 'RfR Total Costs 1', 'RfR Total Costs 2'), function=<function sum_over at 0x0000012ED2B21310>)\n",
      "ScalarOutcome('Expected Evacuation Costs', variable_name=('Expected Evacuation Costs 0', 'Expected Evacuation Costs 1', 'Expected Evacuation Costs 2'), function=<function sum_over at 0x0000012ED2B21310>)\n"
     ]
    }
   ],
   "source": [
    "# enlisting outcomes\n",
    "for outcome in dike_model.outcomes:\n",
    "    print(repr(outcome))"
   ],
   "metadata": {
    "collapsed": false,
    "pycharm": {
     "name": "#%%\n"
    }
   }
  },
  {
   "cell_type": "code",
   "execution_count": 8,
   "outputs": [],
   "source": [
    "# defining specific policies\n",
    "# for example, policy 1 is about extra protection in upper boundary\n",
    "# policy 2 is about extra protection in lower boundary\n",
    "# policy 3 is extra protection in random locations\n",
    "\n",
    "\n",
    "def get_0_dict():\n",
    "    return {l.name: 0 for l in dike_model.levers}\n",
    "\n",
    "\n",
    "policies = [\n",
    "    Policy(\n",
    "        \"policy 1\",\n",
    "        **dict(get_0_dict(), **{\"0_RfR 0\": 0, \"0_RfR 1\": 0, \"0_RfR 2\": 0, \"A.3_DikeIncrease 0\": 0})\n",
    "    ),\n",
    "    Policy(\n",
    "        \"policy 2\",\n",
    "        **dict(get_0_dict(), **{\"0_RfR 0\": 0, \"0_RfR 1\": 0, \"0_RfR 2\": 0, \"A.3_DikeIncrease 0\": 5})\n",
    "    ),\n",
    "    Policy(\n",
    "        \"policy 3\",\n",
    "        **dict(get_0_dict(), **{\"0_RfR 0\": 0, \"0_RfR 1\": 0, \"0_RfR 2\": 0, \"A.3_DikeIncrease 0\": 10})\n",
    "    ),\n",
    "    Policy(\n",
    "        \"policy 4\",\n",
    "        **dict(get_0_dict(), **{\"0_RfR 0\": 1, \"0_RfR 1\": 0, \"0_RfR 2\": 0, \"A.3_DikeIncrease 0\": 0})\n",
    "    ),\n",
    "    Policy(\n",
    "        \"policy 5\",\n",
    "        **dict(get_0_dict(), **{\"0_RfR 0\": 0, \"0_RfR 1\": 1, \"0_RfR 2\": 0, \"A.3_DikeIncrease 0\": 0})\n",
    "    ),\n",
    "    Policy(\n",
    "        \"policy 6\",\n",
    "        **dict(get_0_dict(), **{\"0_RfR 0\": 0, \"0_RfR 1\": 0, \"0_RfR 2\": 1, \"A.3_DikeIncrease 0\": 0})\n",
    "    ),\n",
    "    Policy(\n",
    "        \"policy 7\",\n",
    "        **dict(get_0_dict(), **{\"1_RfR 0\": 1, \"1_RfR 1\": 0, \"1_RfR 2\": 0, \"A.3_DikeIncrease 0\": 0})\n",
    "    ),\n",
    "    Policy(\n",
    "        \"policy 8\",\n",
    "        **dict(get_0_dict(), **{\"1_RfR 0\": 0, \"1_RfR 1\": 1, \"1_RfR 2\": 0, \"A.3_DikeIncrease 0\": 0})\n",
    "    ),\n",
    "    Policy(\n",
    "        \"policy 9\",\n",
    "        **dict(get_0_dict(), **{\"1_RfR 0\": 0, \"1_RfR 1\": 0, \"1_RfR 2\": 1, \"A.3_DikeIncrease 0\": 0})\n",
    "    ),\n",
    "    Policy(\n",
    "        \"policy 10\",\n",
    "        **dict(get_0_dict(), **{\"2_RfR 0\": 1, \"2_RfR 1\": 0, \"2_RfR 2\": 0, \"A.3_DikeIncrease 0\": 0})\n",
    "    ),\n",
    "    Policy(\n",
    "        \"policy 11\",\n",
    "        **dict(get_0_dict(), **{\"2_RfR 0\": 1, \"2_RfR 1\": 0, \"2_RfR 2\": 0, \"A.3_DikeIncrease 0\": 0})\n",
    "    ),\n",
    "    Policy(\n",
    "        \"policy 12\",\n",
    "        **dict(get_0_dict(), **{\"2_RfR 0\": 1, \"2_RfR 1\": 0, \"2_RfR 2\": 0, \"A.3_DikeIncrease 0\": 0})\n",
    "    ),\n",
    "]"
   ],
   "metadata": {
    "collapsed": false,
    "pycharm": {
     "name": "#%%\n"
    }
   }
  },
  {
   "cell_type": "code",
   "execution_count": 9,
   "outputs": [
    {
     "name": "stderr",
     "output_type": "stream",
     "text": [
      "[MainProcess/INFO] pool started with 8 workers\n",
      "[MainProcess/INFO] performing 25 scenarios * 12 policies * 1 model(s) = 300 experiments\n",
      "100%|████████████████████████████████████████| 300/300 [04:53<00:00,  1.02it/s]\n",
      "[MainProcess/INFO] experiments finished\n",
      "[MainProcess/INFO] terminating pool\n"
     ]
    }
   ],
   "source": [
    "# True, use results in pickle file; False, run MultiprocessingEvaluator\n",
    "use_pickle1 = True\n",
    "\n",
    "if use_pickle1:\n",
    "    with open('data/formulation_results.pickle', 'rb') as filehandler:\n",
    "        results = pickle.load(filehandler)\n",
    "\n",
    "else:\n",
    "    # pass the policies list to EMA workbench experiment runs\n",
    "    n_scenarios = 25\n",
    "    with MultiprocessingEvaluator(dike_model) as evaluator:\n",
    "        results = evaluator.perform_experiments(n_scenarios, policies)\n",
    "\n",
    "    # Save results in Pickle file\n",
    "    with open('data/formulation_results.pickle', 'wb') as filehandler:\n",
    "        pickle.dump(results, filehandler)"
   ],
   "metadata": {
    "collapsed": false,
    "pycharm": {
     "name": "#%%\n"
    }
   }
  },
  {
   "cell_type": "code",
   "execution_count": 10,
   "outputs": [
    {
     "data": {
      "text/plain": "     A.1 Total Costs  A.1_Expected Number of Deaths  A.2 Total Costs  \\\n0       0.000000e+00                       0.000000     3.360490e+06   \n1       1.265051e+09                       0.954712     0.000000e+00   \n2       0.000000e+00                       0.000000     1.968211e+07   \n3       4.557337e+06                       0.003119     2.543544e+08   \n4       1.959312e+09                       1.671697     0.000000e+00   \n..               ...                            ...              ...   \n295     3.469688e+09                       2.004698     2.416862e+08   \n296     0.000000e+00                       0.000000     5.468757e+06   \n297     6.224432e+08                       0.475863     9.049086e+08   \n298     0.000000e+00                       0.000000     9.715568e+06   \n299     2.809494e+09                       2.020403     1.490298e+07   \n\n     A.2_Expected Number of Deaths  A.3 Total Costs  \\\n0                         0.003507     4.170229e+07   \n1                         0.000000     1.060916e+09   \n2                         0.022936     3.744110e+07   \n3                         0.218760     0.000000e+00   \n4                         0.000000     8.172553e+06   \n..                             ...              ...   \n295                       0.184684     0.000000e+00   \n296                       0.006692     1.886993e+07   \n297                       0.843249     0.000000e+00   \n298                       0.012186     3.351533e+07   \n299                       0.013103     0.000000e+00   \n\n     A.3_Expected Number of Deaths  A.4 Total Costs  \\\n0                         0.080676     7.712770e+07   \n1                         2.009208     0.000000e+00   \n2                         0.081634     0.000000e+00   \n3                         0.000000     1.069845e+07   \n4                         0.018682     0.000000e+00   \n..                             ...              ...   \n295                       0.000000     0.000000e+00   \n296                       0.043029     1.044842e+08   \n297                       0.000000     0.000000e+00   \n298                       0.078183     1.299877e+08   \n299                       0.000000     0.000000e+00   \n\n     A.4_Expected Number of Deaths  A.5 Total Costs  \\\n0                         0.037279     0.000000e+00   \n1                         0.000000     0.000000e+00   \n2                         0.000000     1.225323e+08   \n3                         0.004603     0.000000e+00   \n4                         0.000000     0.000000e+00   \n..                             ...              ...   \n295                       0.000000     0.000000e+00   \n296                       0.056928     6.088358e+08   \n297                       0.000000     0.000000e+00   \n298                       0.067307     0.000000e+00   \n299                       0.000000     0.000000e+00   \n\n     A.5_Expected Number of Deaths  RfR Total Costs  \\\n0                         0.000000              0.0   \n1                         0.000000              0.0   \n2                         0.133857              0.0   \n3                         0.000000              0.0   \n4                         0.000000              0.0   \n..                             ...              ...   \n295                       0.000000       30700000.0   \n296                       0.631826       30700000.0   \n297                       0.000000       30700000.0   \n298                       0.000000       30700000.0   \n299                       0.000000       30700000.0   \n\n     Expected Evacuation Costs     policy  \n0                          0.0   policy 1  \n1                          0.0   policy 1  \n2                          0.0   policy 1  \n3                          0.0   policy 1  \n4                          0.0   policy 1  \n..                         ...        ...  \n295                        0.0  policy 12  \n296                        0.0  policy 12  \n297                        0.0  policy 12  \n298                        0.0  policy 12  \n299                        0.0  policy 12  \n\n[300 rows x 13 columns]",
      "text/html": "<div>\n<style scoped>\n    .dataframe tbody tr th:only-of-type {\n        vertical-align: middle;\n    }\n\n    .dataframe tbody tr th {\n        vertical-align: top;\n    }\n\n    .dataframe thead th {\n        text-align: right;\n    }\n</style>\n<table border=\"1\" class=\"dataframe\">\n  <thead>\n    <tr style=\"text-align: right;\">\n      <th></th>\n      <th>A.1 Total Costs</th>\n      <th>A.1_Expected Number of Deaths</th>\n      <th>A.2 Total Costs</th>\n      <th>A.2_Expected Number of Deaths</th>\n      <th>A.3 Total Costs</th>\n      <th>A.3_Expected Number of Deaths</th>\n      <th>A.4 Total Costs</th>\n      <th>A.4_Expected Number of Deaths</th>\n      <th>A.5 Total Costs</th>\n      <th>A.5_Expected Number of Deaths</th>\n      <th>RfR Total Costs</th>\n      <th>Expected Evacuation Costs</th>\n      <th>policy</th>\n    </tr>\n  </thead>\n  <tbody>\n    <tr>\n      <th>0</th>\n      <td>0.000000e+00</td>\n      <td>0.000000</td>\n      <td>3.360490e+06</td>\n      <td>0.003507</td>\n      <td>4.170229e+07</td>\n      <td>0.080676</td>\n      <td>7.712770e+07</td>\n      <td>0.037279</td>\n      <td>0.000000e+00</td>\n      <td>0.000000</td>\n      <td>0.0</td>\n      <td>0.0</td>\n      <td>policy 1</td>\n    </tr>\n    <tr>\n      <th>1</th>\n      <td>1.265051e+09</td>\n      <td>0.954712</td>\n      <td>0.000000e+00</td>\n      <td>0.000000</td>\n      <td>1.060916e+09</td>\n      <td>2.009208</td>\n      <td>0.000000e+00</td>\n      <td>0.000000</td>\n      <td>0.000000e+00</td>\n      <td>0.000000</td>\n      <td>0.0</td>\n      <td>0.0</td>\n      <td>policy 1</td>\n    </tr>\n    <tr>\n      <th>2</th>\n      <td>0.000000e+00</td>\n      <td>0.000000</td>\n      <td>1.968211e+07</td>\n      <td>0.022936</td>\n      <td>3.744110e+07</td>\n      <td>0.081634</td>\n      <td>0.000000e+00</td>\n      <td>0.000000</td>\n      <td>1.225323e+08</td>\n      <td>0.133857</td>\n      <td>0.0</td>\n      <td>0.0</td>\n      <td>policy 1</td>\n    </tr>\n    <tr>\n      <th>3</th>\n      <td>4.557337e+06</td>\n      <td>0.003119</td>\n      <td>2.543544e+08</td>\n      <td>0.218760</td>\n      <td>0.000000e+00</td>\n      <td>0.000000</td>\n      <td>1.069845e+07</td>\n      <td>0.004603</td>\n      <td>0.000000e+00</td>\n      <td>0.000000</td>\n      <td>0.0</td>\n      <td>0.0</td>\n      <td>policy 1</td>\n    </tr>\n    <tr>\n      <th>4</th>\n      <td>1.959312e+09</td>\n      <td>1.671697</td>\n      <td>0.000000e+00</td>\n      <td>0.000000</td>\n      <td>8.172553e+06</td>\n      <td>0.018682</td>\n      <td>0.000000e+00</td>\n      <td>0.000000</td>\n      <td>0.000000e+00</td>\n      <td>0.000000</td>\n      <td>0.0</td>\n      <td>0.0</td>\n      <td>policy 1</td>\n    </tr>\n    <tr>\n      <th>...</th>\n      <td>...</td>\n      <td>...</td>\n      <td>...</td>\n      <td>...</td>\n      <td>...</td>\n      <td>...</td>\n      <td>...</td>\n      <td>...</td>\n      <td>...</td>\n      <td>...</td>\n      <td>...</td>\n      <td>...</td>\n      <td>...</td>\n    </tr>\n    <tr>\n      <th>295</th>\n      <td>3.469688e+09</td>\n      <td>2.004698</td>\n      <td>2.416862e+08</td>\n      <td>0.184684</td>\n      <td>0.000000e+00</td>\n      <td>0.000000</td>\n      <td>0.000000e+00</td>\n      <td>0.000000</td>\n      <td>0.000000e+00</td>\n      <td>0.000000</td>\n      <td>30700000.0</td>\n      <td>0.0</td>\n      <td>policy 12</td>\n    </tr>\n    <tr>\n      <th>296</th>\n      <td>0.000000e+00</td>\n      <td>0.000000</td>\n      <td>5.468757e+06</td>\n      <td>0.006692</td>\n      <td>1.886993e+07</td>\n      <td>0.043029</td>\n      <td>1.044842e+08</td>\n      <td>0.056928</td>\n      <td>6.088358e+08</td>\n      <td>0.631826</td>\n      <td>30700000.0</td>\n      <td>0.0</td>\n      <td>policy 12</td>\n    </tr>\n    <tr>\n      <th>297</th>\n      <td>6.224432e+08</td>\n      <td>0.475863</td>\n      <td>9.049086e+08</td>\n      <td>0.843249</td>\n      <td>0.000000e+00</td>\n      <td>0.000000</td>\n      <td>0.000000e+00</td>\n      <td>0.000000</td>\n      <td>0.000000e+00</td>\n      <td>0.000000</td>\n      <td>30700000.0</td>\n      <td>0.0</td>\n      <td>policy 12</td>\n    </tr>\n    <tr>\n      <th>298</th>\n      <td>0.000000e+00</td>\n      <td>0.000000</td>\n      <td>9.715568e+06</td>\n      <td>0.012186</td>\n      <td>3.351533e+07</td>\n      <td>0.078183</td>\n      <td>1.299877e+08</td>\n      <td>0.067307</td>\n      <td>0.000000e+00</td>\n      <td>0.000000</td>\n      <td>30700000.0</td>\n      <td>0.0</td>\n      <td>policy 12</td>\n    </tr>\n    <tr>\n      <th>299</th>\n      <td>2.809494e+09</td>\n      <td>2.020403</td>\n      <td>1.490298e+07</td>\n      <td>0.013103</td>\n      <td>0.000000e+00</td>\n      <td>0.000000</td>\n      <td>0.000000e+00</td>\n      <td>0.000000</td>\n      <td>0.000000e+00</td>\n      <td>0.000000</td>\n      <td>30700000.0</td>\n      <td>0.0</td>\n      <td>policy 12</td>\n    </tr>\n  </tbody>\n</table>\n<p>300 rows × 13 columns</p>\n</div>"
     },
     "execution_count": 10,
     "metadata": {},
     "output_type": "execute_result"
    }
   ],
   "source": [
    "import pandas as pd\n",
    "\n",
    "a, b = results\n",
    "df = pd.DataFrame(b)\n",
    "df[\"policy\"] = pd.DataFrame(a)[\"policy\"]\n",
    "df"
   ],
   "metadata": {
    "collapsed": false,
    "pycharm": {
     "name": "#%%\n"
    }
   }
  },
  {
   "cell_type": "code",
   "execution_count": 11,
   "outputs": [],
   "source": [
    "def q05(x):\n",
    "    return x.quantile(0.05)\n",
    "\n",
    "\n",
    "def q95(x):\n",
    "    return x.quantile(0.95)"
   ],
   "metadata": {
    "collapsed": false,
    "pycharm": {
     "name": "#%%\n"
    }
   }
  },
  {
   "cell_type": "code",
   "execution_count": 12,
   "outputs": [
    {
     "data": {
      "text/plain": "          A.3 Total Costs                                            \\\n                     mean           min           max           q05   \npolicy                                                                \npolicy 1     4.027475e+08  0.000000e+00  2.482597e+09  0.000000e+00   \npolicy 10    2.452492e+08  0.000000e+00  2.371300e+09  0.000000e+00   \npolicy 11    2.452492e+08  0.000000e+00  2.371300e+09  0.000000e+00   \npolicy 12    2.452492e+08  0.000000e+00  2.371300e+09  0.000000e+00   \npolicy 2     4.398000e+07  2.879840e+07  3.881443e+08  2.879840e+07   \npolicy 3     4.421502e+07  4.421502e+07  4.421502e+07  4.421502e+07   \npolicy 4     5.036353e+08  0.000000e+00  2.484053e+09  0.000000e+00   \npolicy 5     5.036353e+08  0.000000e+00  2.484053e+09  0.000000e+00   \npolicy 6     5.036353e+08  0.000000e+00  2.484053e+09  0.000000e+00   \npolicy 7     5.023287e+08  0.000000e+00  2.484053e+09  0.000000e+00   \npolicy 8     5.023287e+08  0.000000e+00  2.484053e+09  0.000000e+00   \npolicy 9     5.023287e+08  0.000000e+00  2.484053e+09  0.000000e+00   \n\n                        A.3_Expected Number of Deaths                      \\\n                    q95                          mean  min       max  q05   \npolicy                                                                      \npolicy 1   2.115484e+09                      0.709059  0.0  3.707753  0.0   \npolicy 10  1.527570e+09                      0.418578  0.0  3.432326  0.0   \npolicy 11  1.527570e+09                      0.418578  0.0  3.432326  0.0   \npolicy 12  1.527570e+09                      0.418578  0.0  3.432326  0.0   \npolicy 2   4.495372e+07                      0.033906  0.0  0.815647  0.0   \npolicy 3   4.421502e+07                      0.000000  0.0  0.000000  0.0   \npolicy 4   2.115484e+09                      0.874568  0.0  3.707753  0.0   \npolicy 5   2.115484e+09                      0.874568  0.0  3.707753  0.0   \npolicy 6   2.115484e+09                      0.874568  0.0  3.707753  0.0   \npolicy 7   2.115484e+09                      0.872382  0.0  3.707753  0.0   \npolicy 8   2.115484e+09                      0.872382  0.0  3.707753  0.0   \npolicy 9   2.115484e+09                      0.872382  0.0  3.707753  0.0   \n\n                    RfR Total Costs                                         \\\n                q95            mean          min          max          q05   \npolicy                                                                       \npolicy 1   3.652713             0.0          0.0          0.0          0.0   \npolicy 10  3.093675      30700000.0   30700000.0   30700000.0   30700000.0   \npolicy 11  3.093675      30700000.0   30700000.0   30700000.0   30700000.0   \npolicy 12  3.093675      30700000.0   30700000.0   30700000.0   30700000.0   \npolicy 2   0.025596             0.0          0.0          0.0          0.0   \npolicy 3   0.000000             0.0          0.0          0.0          0.0   \npolicy 4   3.655533      84600000.0   84600000.0   84600000.0   84600000.0   \npolicy 5   3.655533      84600000.0   84600000.0   84600000.0   84600000.0   \npolicy 6   3.655533      84600000.0   84600000.0   84600000.0   84600000.0   \npolicy 7   3.655533     217800000.0  217800000.0  217800000.0  217800000.0   \npolicy 8   3.655533     217800000.0  217800000.0  217800000.0  217800000.0   \npolicy 9   3.655533     217800000.0  217800000.0  217800000.0  217800000.0   \n\n                       Expected Evacuation Costs                      \n                   q95                      mean  min  max  q05  q95  \npolicy                                                                \npolicy 1           0.0                       0.0  0.0  0.0  0.0  0.0  \npolicy 10   30700000.0                       0.0  0.0  0.0  0.0  0.0  \npolicy 11   30700000.0                       0.0  0.0  0.0  0.0  0.0  \npolicy 12   30700000.0                       0.0  0.0  0.0  0.0  0.0  \npolicy 2           0.0                       0.0  0.0  0.0  0.0  0.0  \npolicy 3           0.0                       0.0  0.0  0.0  0.0  0.0  \npolicy 4    84600000.0                       0.0  0.0  0.0  0.0  0.0  \npolicy 5    84600000.0                       0.0  0.0  0.0  0.0  0.0  \npolicy 6    84600000.0                       0.0  0.0  0.0  0.0  0.0  \npolicy 7   217800000.0                       0.0  0.0  0.0  0.0  0.0  \npolicy 8   217800000.0                       0.0  0.0  0.0  0.0  0.0  \npolicy 9   217800000.0                       0.0  0.0  0.0  0.0  0.0  ",
      "text/html": "<div>\n<style scoped>\n    .dataframe tbody tr th:only-of-type {\n        vertical-align: middle;\n    }\n\n    .dataframe tbody tr th {\n        vertical-align: top;\n    }\n\n    .dataframe thead tr th {\n        text-align: left;\n    }\n\n    .dataframe thead tr:last-of-type th {\n        text-align: right;\n    }\n</style>\n<table border=\"1\" class=\"dataframe\">\n  <thead>\n    <tr>\n      <th></th>\n      <th colspan=\"5\" halign=\"left\">A.3 Total Costs</th>\n      <th colspan=\"5\" halign=\"left\">A.3_Expected Number of Deaths</th>\n      <th colspan=\"5\" halign=\"left\">RfR Total Costs</th>\n      <th colspan=\"5\" halign=\"left\">Expected Evacuation Costs</th>\n    </tr>\n    <tr>\n      <th></th>\n      <th>mean</th>\n      <th>min</th>\n      <th>max</th>\n      <th>q05</th>\n      <th>q95</th>\n      <th>mean</th>\n      <th>min</th>\n      <th>max</th>\n      <th>q05</th>\n      <th>q95</th>\n      <th>mean</th>\n      <th>min</th>\n      <th>max</th>\n      <th>q05</th>\n      <th>q95</th>\n      <th>mean</th>\n      <th>min</th>\n      <th>max</th>\n      <th>q05</th>\n      <th>q95</th>\n    </tr>\n    <tr>\n      <th>policy</th>\n      <th></th>\n      <th></th>\n      <th></th>\n      <th></th>\n      <th></th>\n      <th></th>\n      <th></th>\n      <th></th>\n      <th></th>\n      <th></th>\n      <th></th>\n      <th></th>\n      <th></th>\n      <th></th>\n      <th></th>\n      <th></th>\n      <th></th>\n      <th></th>\n      <th></th>\n      <th></th>\n    </tr>\n  </thead>\n  <tbody>\n    <tr>\n      <th>policy 1</th>\n      <td>4.027475e+08</td>\n      <td>0.000000e+00</td>\n      <td>2.482597e+09</td>\n      <td>0.000000e+00</td>\n      <td>2.115484e+09</td>\n      <td>0.709059</td>\n      <td>0.0</td>\n      <td>3.707753</td>\n      <td>0.0</td>\n      <td>3.652713</td>\n      <td>0.0</td>\n      <td>0.0</td>\n      <td>0.0</td>\n      <td>0.0</td>\n      <td>0.0</td>\n      <td>0.0</td>\n      <td>0.0</td>\n      <td>0.0</td>\n      <td>0.0</td>\n      <td>0.0</td>\n    </tr>\n    <tr>\n      <th>policy 10</th>\n      <td>2.452492e+08</td>\n      <td>0.000000e+00</td>\n      <td>2.371300e+09</td>\n      <td>0.000000e+00</td>\n      <td>1.527570e+09</td>\n      <td>0.418578</td>\n      <td>0.0</td>\n      <td>3.432326</td>\n      <td>0.0</td>\n      <td>3.093675</td>\n      <td>30700000.0</td>\n      <td>30700000.0</td>\n      <td>30700000.0</td>\n      <td>30700000.0</td>\n      <td>30700000.0</td>\n      <td>0.0</td>\n      <td>0.0</td>\n      <td>0.0</td>\n      <td>0.0</td>\n      <td>0.0</td>\n    </tr>\n    <tr>\n      <th>policy 11</th>\n      <td>2.452492e+08</td>\n      <td>0.000000e+00</td>\n      <td>2.371300e+09</td>\n      <td>0.000000e+00</td>\n      <td>1.527570e+09</td>\n      <td>0.418578</td>\n      <td>0.0</td>\n      <td>3.432326</td>\n      <td>0.0</td>\n      <td>3.093675</td>\n      <td>30700000.0</td>\n      <td>30700000.0</td>\n      <td>30700000.0</td>\n      <td>30700000.0</td>\n      <td>30700000.0</td>\n      <td>0.0</td>\n      <td>0.0</td>\n      <td>0.0</td>\n      <td>0.0</td>\n      <td>0.0</td>\n    </tr>\n    <tr>\n      <th>policy 12</th>\n      <td>2.452492e+08</td>\n      <td>0.000000e+00</td>\n      <td>2.371300e+09</td>\n      <td>0.000000e+00</td>\n      <td>1.527570e+09</td>\n      <td>0.418578</td>\n      <td>0.0</td>\n      <td>3.432326</td>\n      <td>0.0</td>\n      <td>3.093675</td>\n      <td>30700000.0</td>\n      <td>30700000.0</td>\n      <td>30700000.0</td>\n      <td>30700000.0</td>\n      <td>30700000.0</td>\n      <td>0.0</td>\n      <td>0.0</td>\n      <td>0.0</td>\n      <td>0.0</td>\n      <td>0.0</td>\n    </tr>\n    <tr>\n      <th>policy 2</th>\n      <td>4.398000e+07</td>\n      <td>2.879840e+07</td>\n      <td>3.881443e+08</td>\n      <td>2.879840e+07</td>\n      <td>4.495372e+07</td>\n      <td>0.033906</td>\n      <td>0.0</td>\n      <td>0.815647</td>\n      <td>0.0</td>\n      <td>0.025596</td>\n      <td>0.0</td>\n      <td>0.0</td>\n      <td>0.0</td>\n      <td>0.0</td>\n      <td>0.0</td>\n      <td>0.0</td>\n      <td>0.0</td>\n      <td>0.0</td>\n      <td>0.0</td>\n      <td>0.0</td>\n    </tr>\n    <tr>\n      <th>policy 3</th>\n      <td>4.421502e+07</td>\n      <td>4.421502e+07</td>\n      <td>4.421502e+07</td>\n      <td>4.421502e+07</td>\n      <td>4.421502e+07</td>\n      <td>0.000000</td>\n      <td>0.0</td>\n      <td>0.000000</td>\n      <td>0.0</td>\n      <td>0.000000</td>\n      <td>0.0</td>\n      <td>0.0</td>\n      <td>0.0</td>\n      <td>0.0</td>\n      <td>0.0</td>\n      <td>0.0</td>\n      <td>0.0</td>\n      <td>0.0</td>\n      <td>0.0</td>\n      <td>0.0</td>\n    </tr>\n    <tr>\n      <th>policy 4</th>\n      <td>5.036353e+08</td>\n      <td>0.000000e+00</td>\n      <td>2.484053e+09</td>\n      <td>0.000000e+00</td>\n      <td>2.115484e+09</td>\n      <td>0.874568</td>\n      <td>0.0</td>\n      <td>3.707753</td>\n      <td>0.0</td>\n      <td>3.655533</td>\n      <td>84600000.0</td>\n      <td>84600000.0</td>\n      <td>84600000.0</td>\n      <td>84600000.0</td>\n      <td>84600000.0</td>\n      <td>0.0</td>\n      <td>0.0</td>\n      <td>0.0</td>\n      <td>0.0</td>\n      <td>0.0</td>\n    </tr>\n    <tr>\n      <th>policy 5</th>\n      <td>5.036353e+08</td>\n      <td>0.000000e+00</td>\n      <td>2.484053e+09</td>\n      <td>0.000000e+00</td>\n      <td>2.115484e+09</td>\n      <td>0.874568</td>\n      <td>0.0</td>\n      <td>3.707753</td>\n      <td>0.0</td>\n      <td>3.655533</td>\n      <td>84600000.0</td>\n      <td>84600000.0</td>\n      <td>84600000.0</td>\n      <td>84600000.0</td>\n      <td>84600000.0</td>\n      <td>0.0</td>\n      <td>0.0</td>\n      <td>0.0</td>\n      <td>0.0</td>\n      <td>0.0</td>\n    </tr>\n    <tr>\n      <th>policy 6</th>\n      <td>5.036353e+08</td>\n      <td>0.000000e+00</td>\n      <td>2.484053e+09</td>\n      <td>0.000000e+00</td>\n      <td>2.115484e+09</td>\n      <td>0.874568</td>\n      <td>0.0</td>\n      <td>3.707753</td>\n      <td>0.0</td>\n      <td>3.655533</td>\n      <td>84600000.0</td>\n      <td>84600000.0</td>\n      <td>84600000.0</td>\n      <td>84600000.0</td>\n      <td>84600000.0</td>\n      <td>0.0</td>\n      <td>0.0</td>\n      <td>0.0</td>\n      <td>0.0</td>\n      <td>0.0</td>\n    </tr>\n    <tr>\n      <th>policy 7</th>\n      <td>5.023287e+08</td>\n      <td>0.000000e+00</td>\n      <td>2.484053e+09</td>\n      <td>0.000000e+00</td>\n      <td>2.115484e+09</td>\n      <td>0.872382</td>\n      <td>0.0</td>\n      <td>3.707753</td>\n      <td>0.0</td>\n      <td>3.655533</td>\n      <td>217800000.0</td>\n      <td>217800000.0</td>\n      <td>217800000.0</td>\n      <td>217800000.0</td>\n      <td>217800000.0</td>\n      <td>0.0</td>\n      <td>0.0</td>\n      <td>0.0</td>\n      <td>0.0</td>\n      <td>0.0</td>\n    </tr>\n    <tr>\n      <th>policy 8</th>\n      <td>5.023287e+08</td>\n      <td>0.000000e+00</td>\n      <td>2.484053e+09</td>\n      <td>0.000000e+00</td>\n      <td>2.115484e+09</td>\n      <td>0.872382</td>\n      <td>0.0</td>\n      <td>3.707753</td>\n      <td>0.0</td>\n      <td>3.655533</td>\n      <td>217800000.0</td>\n      <td>217800000.0</td>\n      <td>217800000.0</td>\n      <td>217800000.0</td>\n      <td>217800000.0</td>\n      <td>0.0</td>\n      <td>0.0</td>\n      <td>0.0</td>\n      <td>0.0</td>\n      <td>0.0</td>\n    </tr>\n    <tr>\n      <th>policy 9</th>\n      <td>5.023287e+08</td>\n      <td>0.000000e+00</td>\n      <td>2.484053e+09</td>\n      <td>0.000000e+00</td>\n      <td>2.115484e+09</td>\n      <td>0.872382</td>\n      <td>0.0</td>\n      <td>3.707753</td>\n      <td>0.0</td>\n      <td>3.655533</td>\n      <td>217800000.0</td>\n      <td>217800000.0</td>\n      <td>217800000.0</td>\n      <td>217800000.0</td>\n      <td>217800000.0</td>\n      <td>0.0</td>\n      <td>0.0</td>\n      <td>0.0</td>\n      <td>0.0</td>\n      <td>0.0</td>\n    </tr>\n  </tbody>\n</table>\n</div>"
     },
     "execution_count": 12,
     "metadata": {},
     "output_type": "execute_result"
    }
   ],
   "source": [
    "group_df = df.groupby(by=\"policy\")\n",
    "agg_par = [\"mean\", \"min\", \"max\", q05, q95]\n",
    "agg_dict = {\n",
    "    \"A.3 Total Costs\": agg_par,\n",
    "    \"A.3_Expected Number of Deaths\": agg_par,\n",
    "    \"RfR Total Costs\": agg_par,\n",
    "    \"Expected Evacuation Costs\": agg_par,\n",
    "}\n",
    "TCA_df = group_df.agg(agg_dict)\n",
    "TCA_df"
   ],
   "metadata": {
    "collapsed": false,
    "pycharm": {
     "name": "#%%\n"
    }
   }
  },
  {
   "cell_type": "code",
   "execution_count": 13,
   "outputs": [],
   "source": [
    "TCA_df.to_csv(\"results/TCA3_results.csv\")"
   ],
   "metadata": {
    "collapsed": false,
    "pycharm": {
     "name": "#%%\n"
    }
   }
  }
 ],
 "metadata": {
  "interpreter": {
   "hash": "6fd914e18bfa8d7647c3cf90e7a007e50e832e4a27cecf06ee50e35679d106a4"
  },
  "kernelspec": {
   "display_name": "Python 3.8.8 ('base')",
   "language": "python",
   "name": "python3"
  },
  "language_info": {
   "codemirror_mode": {
    "name": "ipython",
    "version": 3
   },
   "file_extension": ".py",
   "mimetype": "text/x-python",
   "name": "python",
   "nbconvert_exporter": "python",
   "pygments_lexer": "ipython3",
   "version": "3.8.8"
  }
 },
 "nbformat": 4,
 "nbformat_minor": 4
}