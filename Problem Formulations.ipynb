{
 "cells": [
  {
   "cell_type": "code",
   "execution_count": 1,
   "metadata": {
    "pycharm": {
     "name": "#%%\n"
    }
   },
   "outputs": [],
   "source": [
    "import numpy as np\n",
    "import scipy as sp\n",
    "import pandas as pd\n",
    "import matplotlib.pyplot as plt\n",
    "import seaborn as sns\n",
    "import networkx as nx"
   ]
  },
  {
   "cell_type": "code",
   "execution_count": 2,
   "metadata": {
    "pycharm": {
     "name": "#%%\n"
    }
   },
   "outputs": [
    {
     "name": "stdout",
     "output_type": "stream",
     "text": [
      "1.4.2\n",
      "2.8.2\n"
     ]
    }
   ],
   "source": [
    "# make sure pandas is version 1.0 or higher\n",
    "# make sure networkx is verion 2.4 or higher\n",
    "print(pd.__version__)\n",
    "print(nx.__version__)"
   ]
  },
  {
   "cell_type": "code",
   "execution_count": 3,
   "metadata": {
    "scrolled": true,
    "pycharm": {
     "name": "#%%\n"
    }
   },
   "outputs": [],
   "source": [
    "from ema_workbench import (Model, CategoricalParameter,\n",
    "                           ScalarOutcome, IntegerParameter, RealParameter)\n",
    "from dike_model_function import DikeNetwork  # @UnresolvedImport\n",
    "\n",
    "\n",
    "def sum_over(*args):\n",
    "    return sum(args)"
   ]
  },
  {
   "cell_type": "code",
   "execution_count": 4,
   "metadata": {
    "pycharm": {
     "name": "#%%\n"
    }
   },
   "outputs": [],
   "source": [
    "from ema_workbench import (Model, MultiprocessingEvaluator, Policy, Scenario)\n",
    "\n",
    "from ema_workbench.em_framework.evaluators import perform_experiments\n",
    "from ema_workbench.em_framework.samplers import sample_uncertainties\n",
    "from ema_workbench.util import ema_logging\n",
    "import time\n",
    "from problem_formulation import get_model_for_problem_formulation\n",
    "\n",
    "\n",
    "ema_logging.log_to_stderr(ema_logging.INFO)\n",
    "\n",
    "#choose problem formulation number, between 0-5\n",
    "#each problem formulation has its own list of outcomes\n",
    "dike_model, planning_steps = get_model_for_problem_formulation(3)"
   ]
  },
  {
   "cell_type": "code",
   "execution_count": 5,
   "metadata": {
    "pycharm": {
     "name": "#%%\n"
    }
   },
   "outputs": [
    {
     "name": "stdout",
     "output_type": "stream",
     "text": [
      "CategoricalParameter('discount rate 0', [0, 1, 2, 3])\n",
      "CategoricalParameter('discount rate 1', [0, 1, 2, 3])\n",
      "CategoricalParameter('discount rate 2', [0, 1, 2, 3])\n",
      "<ema_workbench.em_framework.parameters.IntegerParameter object at 0x000002350EA03700>\n",
      "<ema_workbench.em_framework.parameters.RealParameter object at 0x000002350EA03FD0>\n",
      "<ema_workbench.em_framework.parameters.RealParameter object at 0x000002350EA3A220>\n",
      "CategoricalParameter('A.1_Brate', [0, 1, 2])\n",
      "<ema_workbench.em_framework.parameters.RealParameter object at 0x000002350E98F430>\n",
      "<ema_workbench.em_framework.parameters.RealParameter object at 0x000002350E9479A0>\n",
      "CategoricalParameter('A.2_Brate', [0, 1, 2])\n",
      "<ema_workbench.em_framework.parameters.RealParameter object at 0x000002350E983AC0>\n",
      "<ema_workbench.em_framework.parameters.RealParameter object at 0x000002350E960EE0>\n",
      "CategoricalParameter('A.3_Brate', [0, 1, 2])\n",
      "<ema_workbench.em_framework.parameters.RealParameter object at 0x000002350E947880>\n",
      "<ema_workbench.em_framework.parameters.RealParameter object at 0x000002350E9835B0>\n",
      "CategoricalParameter('A.4_Brate', [0, 1, 2])\n",
      "<ema_workbench.em_framework.parameters.RealParameter object at 0x000002350E983670>\n",
      "<ema_workbench.em_framework.parameters.RealParameter object at 0x000002350EA251C0>\n",
      "CategoricalParameter('A.5_Brate', [0, 1, 2])\n"
     ]
    }
   ],
   "source": [
    "#enlisting uncertainties, their types (RealParameter/IntegerParameter/CategoricalParameter), lower boundary, and upper boundary\n",
    "for unc in dike_model.uncertainties:\n",
    "    print(repr(unc))\n",
    "    \n",
    "uncertainties = dike_model.uncertainties\n",
    "\n",
    "import copy\n",
    "uncertainties = copy.deepcopy(dike_model.uncertainties)"
   ]
  },
  {
   "cell_type": "code",
   "execution_count": 6,
   "metadata": {
    "pycharm": {
     "name": "#%%\n"
    }
   },
   "outputs": [
    {
     "name": "stdout",
     "output_type": "stream",
     "text": [
      "<ema_workbench.em_framework.parameters.IntegerParameter object at 0x000002350EA05760>\n",
      "<ema_workbench.em_framework.parameters.IntegerParameter object at 0x000002350EA03370>\n",
      "<ema_workbench.em_framework.parameters.IntegerParameter object at 0x000002350EA05430>\n",
      "<ema_workbench.em_framework.parameters.IntegerParameter object at 0x000002350DE58160>\n",
      "<ema_workbench.em_framework.parameters.IntegerParameter object at 0x000002350EA05DF0>\n",
      "<ema_workbench.em_framework.parameters.IntegerParameter object at 0x000002350E947A30>\n",
      "<ema_workbench.em_framework.parameters.IntegerParameter object at 0x000002350EA05580>\n",
      "<ema_workbench.em_framework.parameters.IntegerParameter object at 0x000002350E98FFA0>\n",
      "<ema_workbench.em_framework.parameters.IntegerParameter object at 0x000002350EA05B50>\n",
      "<ema_workbench.em_framework.parameters.IntegerParameter object at 0x000002350E98F580>\n",
      "<ema_workbench.em_framework.parameters.IntegerParameter object at 0x000002350E9E21F0>\n",
      "<ema_workbench.em_framework.parameters.IntegerParameter object at 0x000002350E94DF70>\n",
      "<ema_workbench.em_framework.parameters.IntegerParameter object at 0x000002350E9E2280>\n",
      "<ema_workbench.em_framework.parameters.IntegerParameter object at 0x000002350EA3A8E0>\n",
      "<ema_workbench.em_framework.parameters.IntegerParameter object at 0x000002350E9E2670>\n",
      "<ema_workbench.em_framework.parameters.IntegerParameter object at 0x000002350EA056A0>\n",
      "<ema_workbench.em_framework.parameters.IntegerParameter object at 0x000002350E98F8E0>\n",
      "<ema_workbench.em_framework.parameters.IntegerParameter object at 0x000002350E97F970>\n",
      "<ema_workbench.em_framework.parameters.IntegerParameter object at 0x000002350E947B80>\n",
      "<ema_workbench.em_framework.parameters.IntegerParameter object at 0x000002350E960730>\n",
      "<ema_workbench.em_framework.parameters.IntegerParameter object at 0x000002350E97FBB0>\n",
      "<ema_workbench.em_framework.parameters.IntegerParameter object at 0x000002350E960B50>\n",
      "<ema_workbench.em_framework.parameters.IntegerParameter object at 0x000002350E947220>\n",
      "<ema_workbench.em_framework.parameters.IntegerParameter object at 0x000002350EA17220>\n",
      "<ema_workbench.em_framework.parameters.IntegerParameter object at 0x000002350E947760>\n",
      "<ema_workbench.em_framework.parameters.IntegerParameter object at 0x000002350EA17850>\n",
      "<ema_workbench.em_framework.parameters.IntegerParameter object at 0x000002350EA4FD60>\n",
      "<ema_workbench.em_framework.parameters.IntegerParameter object at 0x000002350EA250A0>\n",
      "<ema_workbench.em_framework.parameters.IntegerParameter object at 0x000002350EA25880>\n",
      "<ema_workbench.em_framework.parameters.IntegerParameter object at 0x000002350EA7B0A0>\n",
      "<ema_workbench.em_framework.parameters.IntegerParameter object at 0x000002350EA259A0>\n"
     ]
    }
   ],
   "source": [
    "#enlisting policy levers, their types (RealParameter/IntegerParameter), lower boundary, and upper boundary\n",
    "for policy in dike_model.levers:\n",
    "    print(repr(policy))\n",
    "    \n",
    "levers = dike_model.levers \n",
    "\n",
    "import copy\n",
    "levers = copy.deepcopy(dike_model.levers)"
   ]
  },
  {
   "cell_type": "code",
   "execution_count": 7,
   "metadata": {
    "pycharm": {
     "name": "#%%\n"
    }
   },
   "outputs": [
    {
     "name": "stdout",
     "output_type": "stream",
     "text": [
      "ScalarOutcome('A.1 Total Costs', variable_name=('A.1_Expected Annual Damage 0', 'A.1_Expected Annual Damage 1', 'A.1_Expected Annual Damage 2', 'A.1_Dike Investment Costs 0', 'A.1_Dike Investment Costs 1', 'A.1_Dike Investment Costs 2'), function=<function sum_over at 0x000002350DE4E310>)\n",
      "ScalarOutcome('A.1_Expected Number of Deaths', variable_name=('A.1_Expected Number of Deaths 0', 'A.1_Expected Number of Deaths 1', 'A.1_Expected Number of Deaths 2'), function=<function sum_over at 0x000002350DE4E310>)\n",
      "ScalarOutcome('A.2 Total Costs', variable_name=('A.2_Expected Annual Damage 0', 'A.2_Expected Annual Damage 1', 'A.2_Expected Annual Damage 2', 'A.2_Dike Investment Costs 0', 'A.2_Dike Investment Costs 1', 'A.2_Dike Investment Costs 2'), function=<function sum_over at 0x000002350DE4E310>)\n",
      "ScalarOutcome('A.2_Expected Number of Deaths', variable_name=('A.2_Expected Number of Deaths 0', 'A.2_Expected Number of Deaths 1', 'A.2_Expected Number of Deaths 2'), function=<function sum_over at 0x000002350DE4E310>)\n",
      "ScalarOutcome('A.3 Total Costs', variable_name=('A.3_Expected Annual Damage 0', 'A.3_Expected Annual Damage 1', 'A.3_Expected Annual Damage 2', 'A.3_Dike Investment Costs 0', 'A.3_Dike Investment Costs 1', 'A.3_Dike Investment Costs 2'), function=<function sum_over at 0x000002350DE4E310>)\n",
      "ScalarOutcome('A.3_Expected Number of Deaths', variable_name=('A.3_Expected Number of Deaths 0', 'A.3_Expected Number of Deaths 1', 'A.3_Expected Number of Deaths 2'), function=<function sum_over at 0x000002350DE4E310>)\n",
      "ScalarOutcome('A.4 Total Costs', variable_name=('A.4_Expected Annual Damage 0', 'A.4_Expected Annual Damage 1', 'A.4_Expected Annual Damage 2', 'A.4_Dike Investment Costs 0', 'A.4_Dike Investment Costs 1', 'A.4_Dike Investment Costs 2'), function=<function sum_over at 0x000002350DE4E310>)\n",
      "ScalarOutcome('A.4_Expected Number of Deaths', variable_name=('A.4_Expected Number of Deaths 0', 'A.4_Expected Number of Deaths 1', 'A.4_Expected Number of Deaths 2'), function=<function sum_over at 0x000002350DE4E310>)\n",
      "ScalarOutcome('A.5 Total Costs', variable_name=('A.5_Expected Annual Damage 0', 'A.5_Expected Annual Damage 1', 'A.5_Expected Annual Damage 2', 'A.5_Dike Investment Costs 0', 'A.5_Dike Investment Costs 1', 'A.5_Dike Investment Costs 2'), function=<function sum_over at 0x000002350DE4E310>)\n",
      "ScalarOutcome('A.5_Expected Number of Deaths', variable_name=('A.5_Expected Number of Deaths 0', 'A.5_Expected Number of Deaths 1', 'A.5_Expected Number of Deaths 2'), function=<function sum_over at 0x000002350DE4E310>)\n",
      "ScalarOutcome('RfR Total Costs', variable_name=('RfR Total Costs 0', 'RfR Total Costs 1', 'RfR Total Costs 2'), function=<function sum_over at 0x000002350DE4E310>)\n",
      "ScalarOutcome('Expected Evacuation Costs', variable_name=('Expected Evacuation Costs 0', 'Expected Evacuation Costs 1', 'Expected Evacuation Costs 2'), function=<function sum_over at 0x000002350DE4E310>)\n"
     ]
    }
   ],
   "source": [
    "#enlisting outcomes\n",
    "for outcome in dike_model.outcomes:\n",
    "    print(repr(outcome))"
   ]
  },
  {
   "cell_type": "code",
   "execution_count": 8,
   "metadata": {
    "pycharm": {
     "name": "#%%\n"
    }
   },
   "outputs": [
    {
     "name": "stderr",
     "output_type": "stream",
     "text": [
      "[MainProcess/INFO] performing 50 scenarios * 4 policies * 1 model(s) = 200 experiments\n",
      "  0%|                                                  | 0/200 [00:00<?, ?it/s][MainProcess/INFO] performing experiments sequentially\n",
      "100%|████████████████████████████████████████| 200/200 [10:16<00:00,  3.08s/it]\n",
      "[MainProcess/INFO] experiments finished\n"
     ]
    }
   ],
   "source": [
    "#running the model through EMA workbench\n",
    "from ema_workbench import (MultiprocessingEvaluator, ema_logging,\n",
    "                           perform_experiments, SequentialEvaluator)\n",
    "ema_logging.log_to_stderr(ema_logging.INFO)\n",
    " \n",
    "with SequentialEvaluator(dike_model) as evaluator:\n",
    "    results1 = evaluator.perform_experiments(scenarios=50, policies=4)"
   ]
  },
  {
   "cell_type": "code",
   "execution_count": 11,
   "outputs": [],
   "source": [
    "import pickle\n",
    "with open(\"data/problem_results1.pickle\",\"wb\") as filehandler:\n",
    "    pickle.dump(results1, filehandler)"
   ],
   "metadata": {
    "collapsed": false,
    "pycharm": {
     "name": "#%%\n"
    }
   }
  },
  {
   "cell_type": "code",
   "execution_count": 12,
   "metadata": {
    "scrolled": true,
    "pycharm": {
     "name": "#%%\n"
    }
   },
   "outputs": [
    {
     "name": "stdout",
     "output_type": "stream",
     "text": [
      "dict_keys(['A.1 Total Costs', 'A.1_Expected Number of Deaths', 'A.2 Total Costs', 'A.2_Expected Number of Deaths', 'A.3 Total Costs', 'A.3_Expected Number of Deaths', 'A.4 Total Costs', 'A.4_Expected Number of Deaths', 'A.5 Total Costs', 'A.5_Expected Number of Deaths', 'RfR Total Costs', 'Expected Evacuation Costs'])\n"
     ]
    },
    {
     "data": {
      "text/plain": "     A.0_ID flood wave shape    A.1_Bmax A.1_Brate  A.1_pfail    A.2_Bmax  \\\n0                       33.0  299.384150       1.0   0.920097  111.836357   \n1                       74.0   45.584003       1.5   0.214572  175.947104   \n2                       49.0  338.342177       1.5   0.141937  322.398203   \n3                       25.0  221.609639        10   0.276529  182.675264   \n4                      120.0   36.556011        10   0.791996  156.778529   \n..                       ...         ...       ...        ...         ...   \n195                     18.0  231.005165       1.0   0.459752   30.480195   \n196                     39.0  129.417563       1.5   0.282532  340.819264   \n197                    128.0  102.840650       1.5   0.319811  159.501900   \n198                      2.0   57.160497       1.5   0.523867  249.844257   \n199                     17.0  239.267558       1.5   0.757634  260.115468   \n\n    A.2_Brate  A.2_pfail    A.3_Bmax A.3_Brate  A.3_pfail  ...  \\\n0         1.5   0.611610  222.333248       1.0   0.620121  ...   \n1         1.5   0.140020  214.137173       1.0   0.750245  ...   \n2          10   0.553747  229.356473       1.0   0.530394  ...   \n3          10   0.410442   83.615526       1.5   0.484658  ...   \n4         1.5   0.314851  106.636728        10   0.228188  ...   \n..        ...        ...         ...       ...        ...  ...   \n195       1.0   0.740639   59.211007       1.0   0.723963  ...   \n196       1.5   0.960836  317.499674       1.5   0.175670  ...   \n197        10   0.250025   38.225827       1.5   0.775120  ...   \n198       1.0   0.092676  261.068019        10   0.258579  ...   \n199       1.0   0.772540  134.588122        10   0.435635  ...   \n\n     A.4_DikeIncrease 0 A.4_DikeIncrease 1  A.4_DikeIncrease 2  \\\n0                   4.0               10.0                 0.0   \n1                   4.0               10.0                 0.0   \n2                   4.0               10.0                 0.0   \n3                   4.0               10.0                 0.0   \n4                   4.0               10.0                 0.0   \n..                  ...                ...                 ...   \n195                 6.0                6.0                 2.0   \n196                 6.0                6.0                 2.0   \n197                 6.0                6.0                 2.0   \n198                 6.0                6.0                 2.0   \n199                 6.0                6.0                 2.0   \n\n     A.5_DikeIncrease 0 A.5_DikeIncrease 1  A.5_DikeIncrease 2  \\\n0                   8.0                4.0                 8.0   \n1                   8.0                4.0                 8.0   \n2                   8.0                4.0                 8.0   \n3                   8.0                4.0                 8.0   \n4                   8.0                4.0                 8.0   \n..                  ...                ...                 ...   \n195                 5.0                5.0                 9.0   \n196                 5.0                5.0                 9.0   \n197                 5.0                5.0                 9.0   \n198                 5.0                5.0                 9.0   \n199                 5.0                5.0                 9.0   \n\n    EWS_DaysToThreat scenario policy     model  \n0                1.0        4      0  dikesnet  \n1                1.0        5      0  dikesnet  \n2                1.0        6      0  dikesnet  \n3                1.0        7      0  dikesnet  \n4                1.0        8      0  dikesnet  \n..               ...      ...    ...       ...  \n195              4.0       49      3  dikesnet  \n196              4.0       50      3  dikesnet  \n197              4.0       51      3  dikesnet  \n198              4.0       52      3  dikesnet  \n199              4.0       53      3  dikesnet  \n\n[200 rows x 53 columns]",
      "text/html": "<div>\n<style scoped>\n    .dataframe tbody tr th:only-of-type {\n        vertical-align: middle;\n    }\n\n    .dataframe tbody tr th {\n        vertical-align: top;\n    }\n\n    .dataframe thead th {\n        text-align: right;\n    }\n</style>\n<table border=\"1\" class=\"dataframe\">\n  <thead>\n    <tr style=\"text-align: right;\">\n      <th></th>\n      <th>A.0_ID flood wave shape</th>\n      <th>A.1_Bmax</th>\n      <th>A.1_Brate</th>\n      <th>A.1_pfail</th>\n      <th>A.2_Bmax</th>\n      <th>A.2_Brate</th>\n      <th>A.2_pfail</th>\n      <th>A.3_Bmax</th>\n      <th>A.3_Brate</th>\n      <th>A.3_pfail</th>\n      <th>...</th>\n      <th>A.4_DikeIncrease 0</th>\n      <th>A.4_DikeIncrease 1</th>\n      <th>A.4_DikeIncrease 2</th>\n      <th>A.5_DikeIncrease 0</th>\n      <th>A.5_DikeIncrease 1</th>\n      <th>A.5_DikeIncrease 2</th>\n      <th>EWS_DaysToThreat</th>\n      <th>scenario</th>\n      <th>policy</th>\n      <th>model</th>\n    </tr>\n  </thead>\n  <tbody>\n    <tr>\n      <th>0</th>\n      <td>33.0</td>\n      <td>299.384150</td>\n      <td>1.0</td>\n      <td>0.920097</td>\n      <td>111.836357</td>\n      <td>1.5</td>\n      <td>0.611610</td>\n      <td>222.333248</td>\n      <td>1.0</td>\n      <td>0.620121</td>\n      <td>...</td>\n      <td>4.0</td>\n      <td>10.0</td>\n      <td>0.0</td>\n      <td>8.0</td>\n      <td>4.0</td>\n      <td>8.0</td>\n      <td>1.0</td>\n      <td>4</td>\n      <td>0</td>\n      <td>dikesnet</td>\n    </tr>\n    <tr>\n      <th>1</th>\n      <td>74.0</td>\n      <td>45.584003</td>\n      <td>1.5</td>\n      <td>0.214572</td>\n      <td>175.947104</td>\n      <td>1.5</td>\n      <td>0.140020</td>\n      <td>214.137173</td>\n      <td>1.0</td>\n      <td>0.750245</td>\n      <td>...</td>\n      <td>4.0</td>\n      <td>10.0</td>\n      <td>0.0</td>\n      <td>8.0</td>\n      <td>4.0</td>\n      <td>8.0</td>\n      <td>1.0</td>\n      <td>5</td>\n      <td>0</td>\n      <td>dikesnet</td>\n    </tr>\n    <tr>\n      <th>2</th>\n      <td>49.0</td>\n      <td>338.342177</td>\n      <td>1.5</td>\n      <td>0.141937</td>\n      <td>322.398203</td>\n      <td>10</td>\n      <td>0.553747</td>\n      <td>229.356473</td>\n      <td>1.0</td>\n      <td>0.530394</td>\n      <td>...</td>\n      <td>4.0</td>\n      <td>10.0</td>\n      <td>0.0</td>\n      <td>8.0</td>\n      <td>4.0</td>\n      <td>8.0</td>\n      <td>1.0</td>\n      <td>6</td>\n      <td>0</td>\n      <td>dikesnet</td>\n    </tr>\n    <tr>\n      <th>3</th>\n      <td>25.0</td>\n      <td>221.609639</td>\n      <td>10</td>\n      <td>0.276529</td>\n      <td>182.675264</td>\n      <td>10</td>\n      <td>0.410442</td>\n      <td>83.615526</td>\n      <td>1.5</td>\n      <td>0.484658</td>\n      <td>...</td>\n      <td>4.0</td>\n      <td>10.0</td>\n      <td>0.0</td>\n      <td>8.0</td>\n      <td>4.0</td>\n      <td>8.0</td>\n      <td>1.0</td>\n      <td>7</td>\n      <td>0</td>\n      <td>dikesnet</td>\n    </tr>\n    <tr>\n      <th>4</th>\n      <td>120.0</td>\n      <td>36.556011</td>\n      <td>10</td>\n      <td>0.791996</td>\n      <td>156.778529</td>\n      <td>1.5</td>\n      <td>0.314851</td>\n      <td>106.636728</td>\n      <td>10</td>\n      <td>0.228188</td>\n      <td>...</td>\n      <td>4.0</td>\n      <td>10.0</td>\n      <td>0.0</td>\n      <td>8.0</td>\n      <td>4.0</td>\n      <td>8.0</td>\n      <td>1.0</td>\n      <td>8</td>\n      <td>0</td>\n      <td>dikesnet</td>\n    </tr>\n    <tr>\n      <th>...</th>\n      <td>...</td>\n      <td>...</td>\n      <td>...</td>\n      <td>...</td>\n      <td>...</td>\n      <td>...</td>\n      <td>...</td>\n      <td>...</td>\n      <td>...</td>\n      <td>...</td>\n      <td>...</td>\n      <td>...</td>\n      <td>...</td>\n      <td>...</td>\n      <td>...</td>\n      <td>...</td>\n      <td>...</td>\n      <td>...</td>\n      <td>...</td>\n      <td>...</td>\n      <td>...</td>\n    </tr>\n    <tr>\n      <th>195</th>\n      <td>18.0</td>\n      <td>231.005165</td>\n      <td>1.0</td>\n      <td>0.459752</td>\n      <td>30.480195</td>\n      <td>1.0</td>\n      <td>0.740639</td>\n      <td>59.211007</td>\n      <td>1.0</td>\n      <td>0.723963</td>\n      <td>...</td>\n      <td>6.0</td>\n      <td>6.0</td>\n      <td>2.0</td>\n      <td>5.0</td>\n      <td>5.0</td>\n      <td>9.0</td>\n      <td>4.0</td>\n      <td>49</td>\n      <td>3</td>\n      <td>dikesnet</td>\n    </tr>\n    <tr>\n      <th>196</th>\n      <td>39.0</td>\n      <td>129.417563</td>\n      <td>1.5</td>\n      <td>0.282532</td>\n      <td>340.819264</td>\n      <td>1.5</td>\n      <td>0.960836</td>\n      <td>317.499674</td>\n      <td>1.5</td>\n      <td>0.175670</td>\n      <td>...</td>\n      <td>6.0</td>\n      <td>6.0</td>\n      <td>2.0</td>\n      <td>5.0</td>\n      <td>5.0</td>\n      <td>9.0</td>\n      <td>4.0</td>\n      <td>50</td>\n      <td>3</td>\n      <td>dikesnet</td>\n    </tr>\n    <tr>\n      <th>197</th>\n      <td>128.0</td>\n      <td>102.840650</td>\n      <td>1.5</td>\n      <td>0.319811</td>\n      <td>159.501900</td>\n      <td>10</td>\n      <td>0.250025</td>\n      <td>38.225827</td>\n      <td>1.5</td>\n      <td>0.775120</td>\n      <td>...</td>\n      <td>6.0</td>\n      <td>6.0</td>\n      <td>2.0</td>\n      <td>5.0</td>\n      <td>5.0</td>\n      <td>9.0</td>\n      <td>4.0</td>\n      <td>51</td>\n      <td>3</td>\n      <td>dikesnet</td>\n    </tr>\n    <tr>\n      <th>198</th>\n      <td>2.0</td>\n      <td>57.160497</td>\n      <td>1.5</td>\n      <td>0.523867</td>\n      <td>249.844257</td>\n      <td>1.0</td>\n      <td>0.092676</td>\n      <td>261.068019</td>\n      <td>10</td>\n      <td>0.258579</td>\n      <td>...</td>\n      <td>6.0</td>\n      <td>6.0</td>\n      <td>2.0</td>\n      <td>5.0</td>\n      <td>5.0</td>\n      <td>9.0</td>\n      <td>4.0</td>\n      <td>52</td>\n      <td>3</td>\n      <td>dikesnet</td>\n    </tr>\n    <tr>\n      <th>199</th>\n      <td>17.0</td>\n      <td>239.267558</td>\n      <td>1.5</td>\n      <td>0.757634</td>\n      <td>260.115468</td>\n      <td>1.0</td>\n      <td>0.772540</td>\n      <td>134.588122</td>\n      <td>10</td>\n      <td>0.435635</td>\n      <td>...</td>\n      <td>6.0</td>\n      <td>6.0</td>\n      <td>2.0</td>\n      <td>5.0</td>\n      <td>5.0</td>\n      <td>9.0</td>\n      <td>4.0</td>\n      <td>53</td>\n      <td>3</td>\n      <td>dikesnet</td>\n    </tr>\n  </tbody>\n</table>\n<p>200 rows × 53 columns</p>\n</div>"
     },
     "execution_count": 12,
     "metadata": {},
     "output_type": "execute_result"
    }
   ],
   "source": [
    "#observing the simulation runs\n",
    "experiments, outcomes = results1\n",
    "print(outcomes.keys())\n",
    "experiments"
   ]
  },
  {
   "cell_type": "code",
   "execution_count": 13,
   "metadata": {
    "pycharm": {
     "name": "#%%\n"
    }
   },
   "outputs": [],
   "source": [
    "#defining specific policies\n",
    "#for example, policy 1 is about extra protection in upper boundary\n",
    "#policy 2 is about extra protection in lower boundary\n",
    "#policy 3 is extra protection in random locations\n",
    "from ema_workbench import Policy\n",
    "\n",
    "policies = [Policy('policy 1', **{'0_RfR 0':1,\n",
    "                                  '0_RfR 1':1,\n",
    "                                  '0_RfR 2':1,\n",
    "                                  'A.1_DikeIncrease 0':5}),\n",
    "           Policy('policy 2', **{'4_RfR 0':1,\n",
    "                                  '4_RfR 1':1,\n",
    "                                  '4_RfR 2':1,\n",
    "                                  'A.5_DikeIncrease 0':5}),\n",
    "           Policy('policy 3', **{'1_RfR 0':1,\n",
    "                                  '2_RfR 1':1,\n",
    "                                  '3_RfR 2':1,\n",
    "                                  'A.3_DikeIncrease 0':5})]"
   ]
  },
  {
   "cell_type": "code",
   "execution_count": 14,
   "metadata": {
    "pycharm": {
     "name": "#%%\n"
    }
   },
   "outputs": [
    {
     "name": "stderr",
     "output_type": "stream",
     "text": [
      "[MainProcess/INFO] pool started with 8 workers\n",
      "[MainProcess/INFO] performing 100 scenarios * 3 policies * 1 model(s) = 300 experiments\n",
      "100%|████████████████████████████████████████| 300/300 [05:57<00:00,  1.19s/it]\n",
      "[MainProcess/INFO] experiments finished\n",
      "[MainProcess/INFO] terminating pool\n"
     ]
    }
   ],
   "source": [
    "#pass the policies list to EMA workbench experiment runs\n",
    "n_scenarios = 100\n",
    "with MultiprocessingEvaluator(dike_model) as evaluator:\n",
    "    results2 = evaluator.perform_experiments(n_scenarios,\n",
    "                                            policies)"
   ]
  },
  {
   "cell_type": "code",
   "execution_count": 16,
   "outputs": [],
   "source": [
    "with open(\"data/problem_results2.pickle\",\"wb\") as filehandler:\n",
    "    pickle.dump(results2, filehandler)"
   ],
   "metadata": {
    "collapsed": false,
    "pycharm": {
     "name": "#%%\n"
    }
   }
  }
 ],
 "metadata": {
  "kernelspec": {
   "display_name": "Python 3",
   "language": "python",
   "name": "python3"
  },
  "language_info": {
   "codemirror_mode": {
    "name": "ipython",
    "version": 3
   },
   "file_extension": ".py",
   "mimetype": "text/x-python",
   "name": "python",
   "nbconvert_exporter": "python",
   "pygments_lexer": "ipython3",
   "version": "3.8.5"
  }
 },
 "nbformat": 4,
 "nbformat_minor": 4
}