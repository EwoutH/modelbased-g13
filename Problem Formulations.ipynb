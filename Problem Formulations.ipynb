{
 "cells": [
  {
   "cell_type": "markdown",
   "source": [
    "## Policy measures analysis\n",
    "In this notebook multiple policies can be tested, based on a chosen problem formulations. The effects on deaths and costs are summerized at the end of the notebook."
   ],
   "metadata": {
    "collapsed": false,
    "pycharm": {
     "name": "#%% md\n"
    }
   }
  },
  {
   "cell_type": "markdown",
   "source": [
    "### Imports\n",
    "Import packages and load model parameters (uncertainties, levers, etc.)"
   ],
   "metadata": {
    "collapsed": false,
    "pycharm": {
     "name": "#%% md\n"
    }
   }
  },
  {
   "cell_type": "code",
   "execution_count": 1,
   "outputs": [],
   "source": [
    "import numpy as np\n",
    "import scipy as sp\n",
    "import pandas as pd\n",
    "import matplotlib.pyplot as plt\n",
    "import seaborn as sns\n",
    "import networkx as nx\n",
    "import pickle"
   ],
   "metadata": {
    "collapsed": false,
    "pycharm": {
     "name": "#%%\n"
    }
   }
  },
  {
   "cell_type": "code",
   "execution_count": 2,
   "outputs": [
    {
     "name": "stdout",
     "output_type": "stream",
     "text": [
      "1.4.2\n",
      "2.8.2\n"
     ]
    }
   ],
   "source": [
    "# make sure pandas is version 1.0 or higher\n",
    "# make sure networkx is verion 2.4 or higher\n",
    "print(pd.__version__)\n",
    "print(nx.__version__)"
   ],
   "metadata": {
    "collapsed": false,
    "pycharm": {
     "name": "#%%\n"
    }
   }
  },
  {
   "cell_type": "code",
   "execution_count": 3,
   "outputs": [],
   "source": [
    "from ema_workbench import (\n",
    "    Model,\n",
    "    Policy,\n",
    "    ema_logging,\n",
    "    SequentialEvaluator,\n",
    "    MultiprocessingEvaluator,\n",
    ")\n",
    "from dike_model_function import DikeNetwork  # @UnresolvedImport\n",
    "from problem_formulation import get_model_for_problem_formulation\n",
    "\n",
    "\n",
    "def sum_over(*args):\n",
    "    return sum(args)"
   ],
   "metadata": {
    "collapsed": false,
    "pycharm": {
     "name": "#%%\n"
    }
   }
  },
  {
   "cell_type": "code",
   "execution_count": 4,
   "outputs": [
    {
     "data": {
      "text/plain": "<Logger EMA (DEBUG)>"
     },
     "execution_count": 4,
     "metadata": {},
     "output_type": "execute_result"
    }
   ],
   "source": [
    "# Enable logging\n",
    "ema_logging.log_to_stderr(ema_logging.INFO)"
   ],
   "metadata": {
    "collapsed": false,
    "pycharm": {
     "name": "#%%\n"
    }
   }
  },
  {
   "cell_type": "markdown",
   "source": [
    "**Problem formulation**\n",
    "Important cell below, here you can choose the problem formulation number, between 0-5\n",
    "each problem formulation has its own list of outcomes"
   ],
   "metadata": {
    "collapsed": false,
    "pycharm": {
     "name": "#%% md\n"
    }
   }
  },
  {
   "cell_type": "code",
   "execution_count": 5,
   "outputs": [],
   "source": [
    "used_problem_formulation = 2\n",
    "\n",
    "dike_model, planning_steps = get_model_for_problem_formulation(used_problem_formulation)"
   ],
   "metadata": {
    "collapsed": false,
    "pycharm": {
     "name": "#%%\n"
    }
   }
  },
  {
   "cell_type": "code",
   "execution_count": 6,
   "outputs": [
    {
     "name": "stdout",
     "output_type": "stream",
     "text": [
      "CategoricalParameter('discount rate 0', [0, 1, 2, 3])\n",
      "CategoricalParameter('discount rate 1', [0, 1, 2, 3])\n",
      "CategoricalParameter('discount rate 2', [0, 1, 2, 3])\n",
      "<ema_workbench.em_framework.parameters.IntegerParameter object at 0x000001D54217CFD0>\n",
      "<ema_workbench.em_framework.parameters.RealParameter object at 0x000001D54217C9D0>\n",
      "<ema_workbench.em_framework.parameters.RealParameter object at 0x000001D542194C40>\n",
      "CategoricalParameter('A.1_Brate', [0, 1, 2])\n",
      "<ema_workbench.em_framework.parameters.RealParameter object at 0x000001D54218B5E0>\n",
      "<ema_workbench.em_framework.parameters.RealParameter object at 0x000001D5421AF6A0>\n",
      "CategoricalParameter('A.2_Brate', [0, 1, 2])\n",
      "<ema_workbench.em_framework.parameters.RealParameter object at 0x000001D5421AF640>\n",
      "<ema_workbench.em_framework.parameters.RealParameter object at 0x000001D542194610>\n",
      "CategoricalParameter('A.3_Brate', [0, 1, 2])\n",
      "<ema_workbench.em_framework.parameters.RealParameter object at 0x000001D5421C4A60>\n",
      "<ema_workbench.em_framework.parameters.RealParameter object at 0x000001D5421C2220>\n",
      "CategoricalParameter('A.4_Brate', [0, 1, 2])\n",
      "<ema_workbench.em_framework.parameters.RealParameter object at 0x000001D5421BC1C0>\n",
      "<ema_workbench.em_framework.parameters.RealParameter object at 0x000001D5421C2A60>\n",
      "CategoricalParameter('A.5_Brate', [0, 1, 2])\n"
     ]
    }
   ],
   "source": [
    "# enlisting uncertainties, their types (RealParameter/IntegerParameter/CategoricalParameter), lower boundary, and upper boundary\n",
    "import copy\n",
    "\n",
    "for unc in dike_model.uncertainties:\n",
    "    print(repr(unc))\n",
    "\n",
    "uncertainties = copy.deepcopy(dike_model.uncertainties)"
   ],
   "metadata": {
    "collapsed": false,
    "pycharm": {
     "name": "#%%\n"
    }
   }
  },
  {
   "cell_type": "code",
   "execution_count": 7,
   "outputs": [
    {
     "name": "stdout",
     "output_type": "stream",
     "text": [
      "<ema_workbench.em_framework.parameters.IntegerParameter object at 0x000001D5420AB130>\n",
      "<ema_workbench.em_framework.parameters.IntegerParameter object at 0x000001D54217C2E0>\n",
      "<ema_workbench.em_framework.parameters.IntegerParameter object at 0x000001D5420AB3A0>\n",
      "<ema_workbench.em_framework.parameters.IntegerParameter object at 0x000001D54217C850>\n",
      "<ema_workbench.em_framework.parameters.IntegerParameter object at 0x000001D54209FD60>\n",
      "<ema_workbench.em_framework.parameters.IntegerParameter object at 0x000001D54218B0A0>\n",
      "<ema_workbench.em_framework.parameters.IntegerParameter object at 0x000001D54209F6D0>\n",
      "<ema_workbench.em_framework.parameters.IntegerParameter object at 0x000001D54218B760>\n",
      "<ema_workbench.em_framework.parameters.IntegerParameter object at 0x000001D54209F0A0>\n",
      "<ema_workbench.em_framework.parameters.IntegerParameter object at 0x000001D54218B340>\n",
      "<ema_workbench.em_framework.parameters.IntegerParameter object at 0x000001D54209F940>\n",
      "<ema_workbench.em_framework.parameters.IntegerParameter object at 0x000001D5417F50A0>\n",
      "<ema_workbench.em_framework.parameters.IntegerParameter object at 0x000001D54213EF70>\n",
      "<ema_workbench.em_framework.parameters.IntegerParameter object at 0x000001D542194220>\n",
      "<ema_workbench.em_framework.parameters.IntegerParameter object at 0x000001D54213E970>\n",
      "<ema_workbench.em_framework.parameters.IntegerParameter object at 0x000001D5421328B0>\n",
      "<ema_workbench.em_framework.parameters.IntegerParameter object at 0x000001D5421AF4C0>\n",
      "<ema_workbench.em_framework.parameters.IntegerParameter object at 0x000001D54218BA90>\n",
      "<ema_workbench.em_framework.parameters.IntegerParameter object at 0x000001D5421AF730>\n",
      "<ema_workbench.em_framework.parameters.IntegerParameter object at 0x000001D5421AF670>\n",
      "<ema_workbench.em_framework.parameters.IntegerParameter object at 0x000001D5421A4DF0>\n",
      "<ema_workbench.em_framework.parameters.IntegerParameter object at 0x000001D5421AF520>\n",
      "<ema_workbench.em_framework.parameters.IntegerParameter object at 0x000001D5421A44C0>\n",
      "<ema_workbench.em_framework.parameters.IntegerParameter object at 0x000001D5421C4D90>\n",
      "<ema_workbench.em_framework.parameters.IntegerParameter object at 0x000001D5421C20A0>\n",
      "<ema_workbench.em_framework.parameters.IntegerParameter object at 0x000001D5421C28E0>\n",
      "<ema_workbench.em_framework.parameters.IntegerParameter object at 0x000001D5421BC0A0>\n",
      "<ema_workbench.em_framework.parameters.IntegerParameter object at 0x000001D5421C29D0>\n",
      "<ema_workbench.em_framework.parameters.IntegerParameter object at 0x000001D5421A4C40>\n",
      "<ema_workbench.em_framework.parameters.IntegerParameter object at 0x000001D5421C9250>\n",
      "<ema_workbench.em_framework.parameters.IntegerParameter object at 0x000001D5421A4BE0>\n"
     ]
    }
   ],
   "source": [
    "# enlisting policy levers, their types (RealParameter/IntegerParameter), lower boundary, and upper boundary\n",
    "for policy in dike_model.levers:\n",
    "    print(repr(policy))\n",
    "\n",
    "levers = copy.deepcopy(dike_model.levers)"
   ],
   "metadata": {
    "collapsed": false,
    "pycharm": {
     "name": "#%%\n"
    }
   }
  },
  {
   "cell_type": "code",
   "execution_count": 8,
   "outputs": [
    {
     "name": "stdout",
     "output_type": "stream",
     "text": [
      "ScalarOutcome('Expected Annual Damage', variable_name=('A.1_Expected Annual Damage 0', 'A.2_Expected Annual Damage 0', 'A.3_Expected Annual Damage 0', 'A.4_Expected Annual Damage 0', 'A.5_Expected Annual Damage 0', 'A.1_Expected Annual Damage 1', 'A.2_Expected Annual Damage 1', 'A.3_Expected Annual Damage 1', 'A.4_Expected Annual Damage 1', 'A.5_Expected Annual Damage 1', 'A.1_Expected Annual Damage 2', 'A.2_Expected Annual Damage 2', 'A.3_Expected Annual Damage 2', 'A.4_Expected Annual Damage 2', 'A.5_Expected Annual Damage 2'), function=<function sum_over at 0x000001D5417BE5E0>)\n",
      "ScalarOutcome('Dike Investment Costs', variable_name=('A.1_Dike Investment Costs 0', 'A.2_Dike Investment Costs 0', 'A.3_Dike Investment Costs 0', 'A.4_Dike Investment Costs 0', 'A.5_Dike Investment Costs 0', 'A.1_Dike Investment Costs 1', 'A.2_Dike Investment Costs 1', 'A.3_Dike Investment Costs 1', 'A.4_Dike Investment Costs 1', 'A.5_Dike Investment Costs 1', 'A.1_Dike Investment Costs 2', 'A.2_Dike Investment Costs 2', 'A.3_Dike Investment Costs 2', 'A.4_Dike Investment Costs 2', 'A.5_Dike Investment Costs 2'), function=<function sum_over at 0x000001D5417BE5E0>)\n",
      "ScalarOutcome('RfR Investment Costs', variable_name=('RfR Total Costs 0', 'RfR Total Costs 1', 'RfR Total Costs 2'), function=<function sum_over at 0x000001D5417BE5E0>)\n",
      "ScalarOutcome('Evacuation Costs', variable_name=('Expected Evacuation Costs 0', 'Expected Evacuation Costs 1', 'Expected Evacuation Costs 2'), function=<function sum_over at 0x000001D5417BE5E0>)\n",
      "ScalarOutcome('Expected Number of Deaths', variable_name=('A.1_Expected Number of Deaths 0', 'A.2_Expected Number of Deaths 0', 'A.3_Expected Number of Deaths 0', 'A.4_Expected Number of Deaths 0', 'A.5_Expected Number of Deaths 0', 'A.1_Expected Number of Deaths 1', 'A.2_Expected Number of Deaths 1', 'A.3_Expected Number of Deaths 1', 'A.4_Expected Number of Deaths 1', 'A.5_Expected Number of Deaths 1', 'A.1_Expected Number of Deaths 2', 'A.2_Expected Number of Deaths 2', 'A.3_Expected Number of Deaths 2', 'A.4_Expected Number of Deaths 2', 'A.5_Expected Number of Deaths 2'), function=<function sum_over at 0x000001D5417BE5E0>)\n"
     ]
    }
   ],
   "source": [
    "# enlisting outcomes\n",
    "for outcome in dike_model.outcomes:\n",
    "    print(repr(outcome))"
   ],
   "metadata": {
    "collapsed": false,
    "pycharm": {
     "name": "#%%\n"
    }
   }
  },
  {
   "cell_type": "markdown",
   "source": [
    "### Policy formulations\n",
    "In the following cells the wanted policies can be adjusted"
   ],
   "metadata": {
    "collapsed": false,
    "pycharm": {
     "name": "#%% md\n"
    }
   }
  },
  {
   "cell_type": "code",
   "execution_count": 9,
   "outputs": [],
   "source": [
    "# Create a function which sets everything to 0 by default\n",
    "def get_0_dict():\n",
    "    return {l.name: 0 for l in dike_model.levers}\n",
    "\n",
    "# Creates a Policy object from a dict and a (optional) name\n",
    "def create_policy(dict1, name=None):\n",
    "    return Policy(f\"Policy_{name}\", **dict(get_0_dict(), **dict1))"
   ],
   "metadata": {
    "collapsed": false,
    "pycharm": {
     "name": "#%%\n"
    }
   }
  },
  {
   "cell_type": "markdown",
   "source": [
    "In the following policies formulations:\n",
    "- `RfR` says if the Room for River projects are enabled (projects `0` to `5`). The first number indicated the project, the second (after `RfR`) if in which time step the measure it taken (currently `0` to `2`). The value can be either `0` (not enabled) or `1` (enabled).\n",
    "- `A.1` to `A.5` are the different dikes. `A.3` is the dike ring around Zutphen. The number after `DikeIncrease` is again the timestep, the value assigned to the thing the heightening in decimeters.\n",
    "- Early Warning Systems can also be enabled, with `EWS_DaysToThreat`, which specifies the early warning time in days.\n",
    "\n",
    "See the implementation in problem_formulation.py (starting from line 35) for more details."
   ],
   "metadata": {
    "collapsed": false,
    "pycharm": {
     "name": "#%% md\n"
    }
   }
  },
  {
   "cell_type": "code",
   "execution_count": 10,
   "outputs": [],
   "source": [
    "pol_list = []\n",
    "pol_list.append(create_policy({}, name=\"Zero\"))\n",
    "\n",
    "for meter in [0, 10]:\n",
    "    for location in [0, 1, 2, 3, 4]:\n",
    "        for ews_days in [2, 4]:\n",
    "            pol_list.append(create_policy({\"A.3_DikeIncrease 0\": meter, f\"{location}_RfR 0\": 1, \"EWS_DaysToThreat\": ews_days},\n",
    "                                          name=f\"Dike_{meter}m_RfR_{location}_EWS_{ews_days}d\"))\n"
   ],
   "metadata": {
    "collapsed": false,
    "pycharm": {
     "name": "#%%\n"
    }
   }
  },
  {
   "cell_type": "markdown",
   "source": [
    "### Run the model (or load the data)\n",
    "In the next cell the model is ran (if `use_pickle1 = False`) and the new results data is saved, or, if `use_pickle1 = True`, the saved results data is loaded."
   ],
   "metadata": {
    "collapsed": false,
    "pycharm": {
     "name": "#%% md\n"
    }
   }
  },
  {
   "cell_type": "code",
   "execution_count": 11,
   "outputs": [
    {
     "name": "stderr",
     "output_type": "stream",
     "text": [
      "[MainProcess/INFO] pool started with 7 workers\n",
      "[MainProcess/INFO] performing 5 scenarios * 21 policies * 1 model(s) = 105 experiments\n",
      "  1%|▍                                         | 1/105 [00:06<11:25,  6.59s/it]Traceback (most recent call last):\n",
      "  File \"C:\\Users\\Ewout\\miniconda3\\lib\\site-packages\\ema_workbench\\em_framework\\callbacks.py\", line 244, in _store_outcomes\n",
      "    self.results[outcome][case_id,] = outcome_res\n",
      "KeyError: 'Dike Investment Costs'\n",
      "\n",
      "During handling of the above exception, another exception occurred:\n",
      "\n",
      "Traceback (most recent call last):\n",
      "  File \"C:\\Users\\Ewout\\miniconda3\\lib\\site-packages\\ema_workbench\\em_framework\\ema_multiprocessing.py\", line 253, in run\n",
      "    self.callback(*result.get())\n",
      "  File \"C:\\Users\\Ewout\\miniconda3\\lib\\site-packages\\ema_workbench\\em_framework\\callbacks.py\", line 279, in __call__\n",
      "    self._store_outcomes(experiment.experiment_id, outcomes)\n",
      "  File \"C:\\Users\\Ewout\\miniconda3\\lib\\site-packages\\ema_workbench\\em_framework\\callbacks.py\", line 258, in _store_outcomes\n",
      "    self.results[outcome][:] = np.nan\n",
      "ValueError: cannot convert float NaN to integer\n",
      "100%|████████████████████████████████████████| 105/105 [01:58<00:00,  1.13s/it]\n",
      "[MainProcess/INFO] experiments finished\n",
      "[MainProcess/INFO] terminating pool\n"
     ]
    }
   ],
   "source": [
    "# True, use results in pickle file; False, run MultiprocessingEvaluator\n",
    "use_pickle1 = False\n",
    "\n",
    "if use_pickle1:\n",
    "    with open('data/formulation_results.pickle', 'rb') as filehandler:\n",
    "        results = pickle.load(filehandler)\n",
    "\n",
    "else:\n",
    "    # pass the policies list to EMA workbench experiment runs\n",
    "    n_scenarios = 5\n",
    "    with MultiprocessingEvaluator(dike_model, n_processes=7) as evaluator:\n",
    "        results = evaluator.perform_experiments(n_scenarios, pol_list)\n",
    "\n",
    "    # Save results in Pickle file\n",
    "    with open('data/formulation_results.pickle', 'wb') as filehandler:\n",
    "        pickle.dump(results, filehandler)"
   ],
   "metadata": {
    "collapsed": false,
    "pycharm": {
     "name": "#%%\n"
    }
   }
  },
  {
   "cell_type": "markdown",
   "source": [
    "### Process the results\n",
    "In this section a dataframe is generated with all the outcomes data, and aggegrated to mean, min, max and quantiles values for each policy."
   ],
   "metadata": {
    "collapsed": false,
    "pycharm": {
     "name": "#%% md\n"
    }
   }
  },
  {
   "cell_type": "code",
   "execution_count": 12,
   "outputs": [
    {
     "data": {
      "text/plain": "     Expected Annual Damage  Dike Investment Costs  RfR Investment Costs  \\\n0              7.062513e+08                      0                   NaN   \n1              1.961475e+09                      0                   0.0   \n2              1.284603e+09                      0                   0.0   \n3              1.784681e+09                      0                   0.0   \n4              3.002154e+09                      0                   0.0   \n..                      ...                    ...                   ...   \n100            7.062513e+08               44215020           256100000.0   \n101            1.150770e+09               44215020           256100000.0   \n102            8.897779e+07               44215020           256100000.0   \n103            1.784681e+09               44215020           256100000.0   \n104            3.002154e+09               44215020           256100000.0   \n\n     Evacuation Costs  Expected Number of Deaths   Total Costs  \\\n0                 NaN                        NaN  0.000000e+00   \n1            0.000000                   3.083685  0.000000e+00   \n2            0.000000                   2.152642  0.000000e+00   \n3            0.000000                   1.633709  0.000000e+00   \n4            0.000000                   1.601619  0.000000e+00   \n..                ...                        ...           ...   \n100      51502.549058                   0.085185  3.003665e+08   \n101      90928.125591                   0.111334  3.004059e+08   \n102       4559.218838                   0.008884  3.003196e+08   \n103      31641.698117                   0.196045  3.003467e+08   \n104      31049.276628                   0.192194  3.003461e+08   \n\n     Cost plus Damage                        policy  \n0        7.062513e+08                   Policy_Zero  \n1        1.961475e+09                   Policy_Zero  \n2        1.284603e+09                   Policy_Zero  \n3        1.784681e+09                   Policy_Zero  \n4        3.002154e+09                   Policy_Zero  \n..                ...                           ...  \n100      1.006618e+09  Policy_Dike_10m_RfR_4_EWS_4d  \n101      1.451176e+09  Policy_Dike_10m_RfR_4_EWS_4d  \n102      3.892974e+08  Policy_Dike_10m_RfR_4_EWS_4d  \n103      2.085027e+09  Policy_Dike_10m_RfR_4_EWS_4d  \n104      3.302500e+09  Policy_Dike_10m_RfR_4_EWS_4d  \n\n[105 rows x 8 columns]",
      "text/html": "<div>\n<style scoped>\n    .dataframe tbody tr th:only-of-type {\n        vertical-align: middle;\n    }\n\n    .dataframe tbody tr th {\n        vertical-align: top;\n    }\n\n    .dataframe thead th {\n        text-align: right;\n    }\n</style>\n<table border=\"1\" class=\"dataframe\">\n  <thead>\n    <tr style=\"text-align: right;\">\n      <th></th>\n      <th>Expected Annual Damage</th>\n      <th>Dike Investment Costs</th>\n      <th>RfR Investment Costs</th>\n      <th>Evacuation Costs</th>\n      <th>Expected Number of Deaths</th>\n      <th>Total Costs</th>\n      <th>Cost plus Damage</th>\n      <th>policy</th>\n    </tr>\n  </thead>\n  <tbody>\n    <tr>\n      <th>0</th>\n      <td>7.062513e+08</td>\n      <td>0</td>\n      <td>NaN</td>\n      <td>NaN</td>\n      <td>NaN</td>\n      <td>0.000000e+00</td>\n      <td>7.062513e+08</td>\n      <td>Policy_Zero</td>\n    </tr>\n    <tr>\n      <th>1</th>\n      <td>1.961475e+09</td>\n      <td>0</td>\n      <td>0.0</td>\n      <td>0.000000</td>\n      <td>3.083685</td>\n      <td>0.000000e+00</td>\n      <td>1.961475e+09</td>\n      <td>Policy_Zero</td>\n    </tr>\n    <tr>\n      <th>2</th>\n      <td>1.284603e+09</td>\n      <td>0</td>\n      <td>0.0</td>\n      <td>0.000000</td>\n      <td>2.152642</td>\n      <td>0.000000e+00</td>\n      <td>1.284603e+09</td>\n      <td>Policy_Zero</td>\n    </tr>\n    <tr>\n      <th>3</th>\n      <td>1.784681e+09</td>\n      <td>0</td>\n      <td>0.0</td>\n      <td>0.000000</td>\n      <td>1.633709</td>\n      <td>0.000000e+00</td>\n      <td>1.784681e+09</td>\n      <td>Policy_Zero</td>\n    </tr>\n    <tr>\n      <th>4</th>\n      <td>3.002154e+09</td>\n      <td>0</td>\n      <td>0.0</td>\n      <td>0.000000</td>\n      <td>1.601619</td>\n      <td>0.000000e+00</td>\n      <td>3.002154e+09</td>\n      <td>Policy_Zero</td>\n    </tr>\n    <tr>\n      <th>...</th>\n      <td>...</td>\n      <td>...</td>\n      <td>...</td>\n      <td>...</td>\n      <td>...</td>\n      <td>...</td>\n      <td>...</td>\n      <td>...</td>\n    </tr>\n    <tr>\n      <th>100</th>\n      <td>7.062513e+08</td>\n      <td>44215020</td>\n      <td>256100000.0</td>\n      <td>51502.549058</td>\n      <td>0.085185</td>\n      <td>3.003665e+08</td>\n      <td>1.006618e+09</td>\n      <td>Policy_Dike_10m_RfR_4_EWS_4d</td>\n    </tr>\n    <tr>\n      <th>101</th>\n      <td>1.150770e+09</td>\n      <td>44215020</td>\n      <td>256100000.0</td>\n      <td>90928.125591</td>\n      <td>0.111334</td>\n      <td>3.004059e+08</td>\n      <td>1.451176e+09</td>\n      <td>Policy_Dike_10m_RfR_4_EWS_4d</td>\n    </tr>\n    <tr>\n      <th>102</th>\n      <td>8.897779e+07</td>\n      <td>44215020</td>\n      <td>256100000.0</td>\n      <td>4559.218838</td>\n      <td>0.008884</td>\n      <td>3.003196e+08</td>\n      <td>3.892974e+08</td>\n      <td>Policy_Dike_10m_RfR_4_EWS_4d</td>\n    </tr>\n    <tr>\n      <th>103</th>\n      <td>1.784681e+09</td>\n      <td>44215020</td>\n      <td>256100000.0</td>\n      <td>31641.698117</td>\n      <td>0.196045</td>\n      <td>3.003467e+08</td>\n      <td>2.085027e+09</td>\n      <td>Policy_Dike_10m_RfR_4_EWS_4d</td>\n    </tr>\n    <tr>\n      <th>104</th>\n      <td>3.002154e+09</td>\n      <td>44215020</td>\n      <td>256100000.0</td>\n      <td>31049.276628</td>\n      <td>0.192194</td>\n      <td>3.003461e+08</td>\n      <td>3.302500e+09</td>\n      <td>Policy_Dike_10m_RfR_4_EWS_4d</td>\n    </tr>\n  </tbody>\n</table>\n<p>105 rows × 8 columns</p>\n</div>"
     },
     "execution_count": 12,
     "metadata": {},
     "output_type": "execute_result"
    }
   ],
   "source": [
    "# Create a dataframe from outcomes, and add the policy column to it\n",
    "exp, out = results\n",
    "df = pd.DataFrame(out)\n",
    "df[\"Total Costs\"] = df[[\"Dike Investment Costs\", \"RfR Investment Costs\", \"Evacuation Costs\"]].sum(axis=1)\n",
    "df[\"Cost plus Damage\"] = df[\"Total Costs\"] + df[\"Expected Annual Damage\"]\n",
    "df[\"policy\"] = pd.DataFrame(exp)[\"policy\"]\n",
    "df"
   ],
   "metadata": {
    "collapsed": false,
    "pycharm": {
     "name": "#%%\n"
    }
   }
  },
  {
   "cell_type": "code",
   "execution_count": 13,
   "outputs": [],
   "source": [
    "# Define two functions to get the 5th and 95th quantiles\n",
    "def q05(x):\n",
    "    return x.quantile(0.05)\n",
    "\n",
    "def q95(x):\n",
    "    return x.quantile(0.95)"
   ],
   "metadata": {
    "collapsed": false,
    "pycharm": {
     "name": "#%%\n"
    }
   }
  },
  {
   "cell_type": "code",
   "execution_count": 14,
   "outputs": [
    {
     "data": {
      "text/plain": "                             Expected Number of Deaths                      \\\n                                                  mean       min       max   \npolicy                                                                       \nPolicy_Dike_0m_RfR_0_EWS_2d                   0.242213  0.097286  0.462553   \nPolicy_Dike_0m_RfR_0_EWS_4d                   0.193770  0.077829  0.370042   \nPolicy_Dike_0m_RfR_1_EWS_2d                   0.242632  0.097286  0.462553   \nPolicy_Dike_0m_RfR_1_EWS_4d                   0.194106  0.077829  0.370042   \nPolicy_Dike_0m_RfR_2_EWS_2d                   0.221487  0.082669  0.427563   \nPolicy_Dike_0m_RfR_2_EWS_4d                   0.177190  0.066135  0.342050   \nPolicy_Dike_0m_RfR_3_EWS_2d                   0.252049  0.085139  0.444998   \nPolicy_Dike_0m_RfR_3_EWS_4d                   0.201639  0.068111  0.355999   \nPolicy_Dike_0m_RfR_4_EWS_2d                   0.273830  0.106482  0.457500   \nPolicy_Dike_0m_RfR_4_EWS_4d                   0.219064  0.085185  0.366000   \nPolicy_Dike_10m_RfR_0_EWS_2d                  0.096777  0.010777  0.207936   \nPolicy_Dike_10m_RfR_0_EWS_4d                  0.077422  0.008621  0.166348   \nPolicy_Dike_10m_RfR_1_EWS_2d                  0.096218  0.010777  0.208052   \nPolicy_Dike_10m_RfR_1_EWS_4d                  0.076974  0.008621  0.166442   \nPolicy_Dike_10m_RfR_2_EWS_2d                  0.143425  0.012491  0.245056   \nPolicy_Dike_10m_RfR_2_EWS_4d                  0.114740  0.009993  0.196045   \nPolicy_Dike_10m_RfR_3_EWS_2d                  0.134326  0.011033  0.245056   \nPolicy_Dike_10m_RfR_3_EWS_4d                  0.107461  0.008826  0.196045   \nPolicy_Dike_10m_RfR_4_EWS_2d                  0.148411  0.011105  0.245056   \nPolicy_Dike_10m_RfR_4_EWS_4d                  0.118729  0.008884  0.196045   \nPolicy_Zero                                   2.117914  1.601619  3.083685   \n\n                                                 Expected Annual Damage  \\\n                                   q05       q95                   mean   \npolicy                                                                    \nPolicy_Dike_0m_RfR_0_EWS_2d   0.102570  0.433958           1.381455e+09   \nPolicy_Dike_0m_RfR_0_EWS_4d   0.082056  0.347167           1.381455e+09   \nPolicy_Dike_0m_RfR_1_EWS_2d   0.102967  0.433958           1.386287e+09   \nPolicy_Dike_0m_RfR_1_EWS_4d   0.082373  0.347167           1.386287e+09   \nPolicy_Dike_0m_RfR_2_EWS_2d   0.088516  0.391061           1.579126e+09   \nPolicy_Dike_0m_RfR_2_EWS_4d   0.070813  0.312849           1.579126e+09   \nPolicy_Dike_0m_RfR_3_EWS_2d   0.116160  0.405010           1.650255e+09   \nPolicy_Dike_0m_RfR_3_EWS_4d   0.092928  0.324008           1.650255e+09   \nPolicy_Dike_0m_RfR_4_EWS_2d   0.133234  0.429973           1.743378e+09   \nPolicy_Dike_0m_RfR_4_EWS_4d   0.106587  0.343979           1.743378e+09   \nPolicy_Dike_10m_RfR_0_EWS_2d  0.015015  0.193533           9.466453e+08   \nPolicy_Dike_10m_RfR_0_EWS_4d  0.012012  0.154826           9.466453e+08   \nPolicy_Dike_10m_RfR_1_EWS_2d  0.014432  0.193626           9.455448e+08   \nPolicy_Dike_10m_RfR_1_EWS_4d  0.011546  0.154901           9.455448e+08   \nPolicy_Dike_10m_RfR_2_EWS_2d  0.026527  0.244094           1.320757e+09   \nPolicy_Dike_10m_RfR_2_EWS_4d  0.021221  0.195275           1.320757e+09   \nPolicy_Dike_10m_RfR_3_EWS_2d  0.025854  0.244094           1.242061e+09   \nPolicy_Dike_10m_RfR_3_EWS_4d  0.020683  0.195275           1.242061e+09   \nPolicy_Dike_10m_RfR_4_EWS_2d  0.030180  0.244094           1.346567e+09   \nPolicy_Dike_10m_RfR_4_EWS_4d  0.024144  0.195275           1.346567e+09   \nPolicy_Zero                   1.606432  2.944028           1.747833e+09   \n\n                                                                        \\\n                                       min           max           q05   \npolicy                                                                   \nPolicy_Dike_0m_RfR_0_EWS_2d   3.795926e+08  2.679166e+09  4.302704e+08   \nPolicy_Dike_0m_RfR_0_EWS_4d   3.795926e+08  2.679166e+09  4.302704e+08   \nPolicy_Dike_0m_RfR_1_EWS_2d   4.027131e+08  2.680205e+09  4.487668e+08   \nPolicy_Dike_0m_RfR_1_EWS_4d   4.027131e+08  2.680205e+09  4.487668e+08   \nPolicy_Dike_0m_RfR_2_EWS_2d   4.702773e+08  3.002154e+09  4.867872e+08   \nPolicy_Dike_0m_RfR_2_EWS_4d   4.702773e+08  3.002154e+09  4.867872e+08   \nPolicy_Dike_0m_RfR_3_EWS_2d   5.637570e+08  3.002154e+09  6.484703e+08   \nPolicy_Dike_0m_RfR_3_EWS_4d   5.637570e+08  3.002154e+09  6.484703e+08   \nPolicy_Dike_0m_RfR_4_EWS_2d   7.062513e+08  3.002154e+09  8.202908e+08   \nPolicy_Dike_0m_RfR_4_EWS_4d   7.062513e+08  3.002154e+09  8.202908e+08   \nPolicy_Dike_10m_RfR_0_EWS_2d  1.007457e+08  2.679166e+09  1.180347e+08   \nPolicy_Dike_10m_RfR_0_EWS_4d  1.007457e+08  2.679166e+09  1.180347e+08   \nPolicy_Dike_10m_RfR_1_EWS_2d  1.007457e+08  2.680205e+09  1.167263e+08   \nPolicy_Dike_10m_RfR_1_EWS_4d  1.007457e+08  2.680205e+09  1.167263e+08   \nPolicy_Dike_10m_RfR_2_EWS_2d  1.210821e+08  3.002154e+09  2.074310e+08   \nPolicy_Dike_10m_RfR_2_EWS_4d  1.210821e+08  3.002154e+09  2.074310e+08   \nPolicy_Dike_10m_RfR_3_EWS_2d  8.855218e+07  3.002154e+09  1.835931e+08   \nPolicy_Dike_10m_RfR_3_EWS_4d  8.855218e+07  3.002154e+09  1.835931e+08   \nPolicy_Dike_10m_RfR_4_EWS_2d  8.897779e+07  3.002154e+09  2.124325e+08   \nPolicy_Dike_10m_RfR_4_EWS_4d  8.897779e+07  3.002154e+09  2.124325e+08   \nPolicy_Zero                   7.062513e+08  3.002154e+09  8.219216e+08   \n\n                                             Total Costs Cost plus Damage  \\\n                                       q95          mean             mean   \npolicy                                                                      \nPolicy_Dike_0m_RfR_0_EWS_2d   2.535628e+09  8.463954e+07     1.466095e+09   \nPolicy_Dike_0m_RfR_0_EWS_4d   2.535628e+09  8.465731e+07     1.466113e+09   \nPolicy_Dike_0m_RfR_1_EWS_2d   2.536459e+09  2.178395e+08     1.604127e+09   \nPolicy_Dike_0m_RfR_1_EWS_4d   2.536459e+09  2.178573e+08     1.604145e+09   \nPolicy_Dike_0m_RfR_2_EWS_2d   2.818861e+09  3.073615e+07     1.609862e+09   \nPolicy_Dike_0m_RfR_2_EWS_4d   2.818861e+09  3.075240e+07     1.609878e+09   \nPolicy_Dike_0m_RfR_3_EWS_2d   2.784396e+09  1.212371e+08     1.771492e+09   \nPolicy_Dike_0m_RfR_3_EWS_4d   2.784396e+09  1.212538e+08     1.771509e+09   \nPolicy_Dike_0m_RfR_4_EWS_2d   2.791194e+09  2.561410e+08     1.999519e+09   \nPolicy_Dike_0m_RfR_4_EWS_4d   2.791194e+09  2.561594e+08     1.999537e+09   \nPolicy_Dike_10m_RfR_0_EWS_2d  2.369961e+09  1.288414e+08     1.075487e+09   \nPolicy_Dike_10m_RfR_0_EWS_4d  2.369961e+09  1.288532e+08     1.075499e+09   \nPolicy_Dike_10m_RfR_1_EWS_2d  2.370793e+09  2.620409e+08     1.207586e+09   \nPolicy_Dike_10m_RfR_1_EWS_4d  2.370793e+09  2.620525e+08     1.207597e+09   \nPolicy_Dike_10m_RfR_2_EWS_2d  2.758659e+09  7.494270e+07     1.395700e+09   \nPolicy_Dike_10m_RfR_2_EWS_4d  2.758659e+09  7.495514e+07     1.395713e+09   \nPolicy_Dike_10m_RfR_3_EWS_2d  2.758659e+09  1.654383e+08     1.407500e+09   \nPolicy_Dike_10m_RfR_3_EWS_4d  2.758659e+09  1.654488e+08     1.407510e+09   \nPolicy_Dike_10m_RfR_4_EWS_2d  2.758659e+09  3.003440e+08     1.646911e+09   \nPolicy_Dike_10m_RfR_4_EWS_4d  2.758659e+09  3.003570e+08     1.646924e+09   \nPolicy_Zero                   2.794018e+09  0.000000e+00     1.747833e+09   \n\n                                                                        \\\n                                       min           max           q05   \npolicy                                                                   \nPolicy_Dike_0m_RfR_0_EWS_2d   4.642096e+08  2.763786e+09  5.148909e+08   \nPolicy_Dike_0m_RfR_0_EWS_4d   4.642172e+08  2.763795e+09  5.149001e+08   \nPolicy_Dike_0m_RfR_1_EWS_2d   6.205299e+08  2.898025e+09  6.665872e+08   \nPolicy_Dike_0m_RfR_1_EWS_4d   6.205375e+08  2.898034e+09  6.665963e+08   \nPolicy_Dike_0m_RfR_2_EWS_2d   5.009950e+08  3.032875e+09  5.175068e+08   \nPolicy_Dike_0m_RfR_2_EWS_4d   5.010029e+08  3.032885e+09  5.175156e+08   \nPolicy_Dike_0m_RfR_3_EWS_2d   6.849847e+08  3.123375e+09  7.697000e+08   \nPolicy_Dike_0m_RfR_3_EWS_4d   6.849971e+08  3.123385e+09  7.697133e+08   \nPolicy_Dike_0m_RfR_4_EWS_2d   9.623868e+08  3.258275e+09  1.076429e+09   \nPolicy_Dike_0m_RfR_4_EWS_4d   9.624028e+08  3.258285e+09  1.076446e+09   \nPolicy_Dike_10m_RfR_0_EWS_2d  2.295660e+08  2.808001e+09  2.468559e+08   \nPolicy_Dike_10m_RfR_0_EWS_4d  2.295684e+08  2.808010e+09  2.468587e+08   \nPolicy_Dike_10m_RfR_1_EWS_2d  3.627660e+08  2.942240e+09  3.787470e+08   \nPolicy_Dike_10m_RfR_1_EWS_4d  3.627684e+08  2.942249e+09  3.787496e+08   \nPolicy_Dike_10m_RfR_2_EWS_2d  1.960024e+08  3.077090e+09  2.823557e+08   \nPolicy_Dike_10m_RfR_2_EWS_4d  1.960048e+08  3.077100e+09  2.823601e+08   \nPolicy_Dike_10m_RfR_3_EWS_2d  2.539703e+08  3.167590e+09  3.490162e+08   \nPolicy_Dike_10m_RfR_3_EWS_4d  2.539717e+08  3.167600e+09  3.490198e+08   \nPolicy_Dike_10m_RfR_4_EWS_2d  3.892960e+08  3.302490e+09  5.127571e+08   \nPolicy_Dike_10m_RfR_4_EWS_4d  3.892974e+08  3.302500e+09  5.127615e+08   \nPolicy_Zero                   7.062513e+08  3.002154e+09  8.219216e+08   \n\n                                            \n                                       q95  \npolicy                                      \nPolicy_Dike_0m_RfR_0_EWS_2d   2.620259e+09  \nPolicy_Dike_0m_RfR_0_EWS_4d   2.620274e+09  \nPolicy_Dike_0m_RfR_1_EWS_2d   2.754291e+09  \nPolicy_Dike_0m_RfR_1_EWS_4d   2.754305e+09  \nPolicy_Dike_0m_RfR_2_EWS_2d   2.849597e+09  \nPolicy_Dike_0m_RfR_2_EWS_4d   2.849613e+09  \nPolicy_Dike_0m_RfR_3_EWS_2d   2.905628e+09  \nPolicy_Dike_0m_RfR_3_EWS_4d   2.905643e+09  \nPolicy_Dike_0m_RfR_4_EWS_2d   3.047327e+09  \nPolicy_Dike_0m_RfR_4_EWS_4d   3.047341e+09  \nPolicy_Dike_10m_RfR_0_EWS_2d  2.498805e+09  \nPolicy_Dike_10m_RfR_0_EWS_4d  2.498818e+09  \nPolicy_Dike_10m_RfR_1_EWS_2d  2.632836e+09  \nPolicy_Dike_10m_RfR_1_EWS_4d  2.632849e+09  \nPolicy_Dike_10m_RfR_2_EWS_2d  2.833596e+09  \nPolicy_Dike_10m_RfR_2_EWS_4d  2.833606e+09  \nPolicy_Dike_10m_RfR_3_EWS_2d  2.924096e+09  \nPolicy_Dike_10m_RfR_3_EWS_4d  2.924106e+09  \nPolicy_Dike_10m_RfR_4_EWS_2d  3.058996e+09  \nPolicy_Dike_10m_RfR_4_EWS_4d  3.059006e+09  \nPolicy_Zero                   2.794018e+09  ",
      "text/html": "<div>\n<style scoped>\n    .dataframe tbody tr th:only-of-type {\n        vertical-align: middle;\n    }\n\n    .dataframe tbody tr th {\n        vertical-align: top;\n    }\n\n    .dataframe thead tr th {\n        text-align: left;\n    }\n\n    .dataframe thead tr:last-of-type th {\n        text-align: right;\n    }\n</style>\n<table border=\"1\" class=\"dataframe\">\n  <thead>\n    <tr>\n      <th></th>\n      <th colspan=\"5\" halign=\"left\">Expected Number of Deaths</th>\n      <th colspan=\"5\" halign=\"left\">Expected Annual Damage</th>\n      <th>Total Costs</th>\n      <th colspan=\"5\" halign=\"left\">Cost plus Damage</th>\n    </tr>\n    <tr>\n      <th></th>\n      <th>mean</th>\n      <th>min</th>\n      <th>max</th>\n      <th>q05</th>\n      <th>q95</th>\n      <th>mean</th>\n      <th>min</th>\n      <th>max</th>\n      <th>q05</th>\n      <th>q95</th>\n      <th>mean</th>\n      <th>mean</th>\n      <th>min</th>\n      <th>max</th>\n      <th>q05</th>\n      <th>q95</th>\n    </tr>\n    <tr>\n      <th>policy</th>\n      <th></th>\n      <th></th>\n      <th></th>\n      <th></th>\n      <th></th>\n      <th></th>\n      <th></th>\n      <th></th>\n      <th></th>\n      <th></th>\n      <th></th>\n      <th></th>\n      <th></th>\n      <th></th>\n      <th></th>\n      <th></th>\n    </tr>\n  </thead>\n  <tbody>\n    <tr>\n      <th>Policy_Dike_0m_RfR_0_EWS_2d</th>\n      <td>0.242213</td>\n      <td>0.097286</td>\n      <td>0.462553</td>\n      <td>0.102570</td>\n      <td>0.433958</td>\n      <td>1.381455e+09</td>\n      <td>3.795926e+08</td>\n      <td>2.679166e+09</td>\n      <td>4.302704e+08</td>\n      <td>2.535628e+09</td>\n      <td>8.463954e+07</td>\n      <td>1.466095e+09</td>\n      <td>4.642096e+08</td>\n      <td>2.763786e+09</td>\n      <td>5.148909e+08</td>\n      <td>2.620259e+09</td>\n    </tr>\n    <tr>\n      <th>Policy_Dike_0m_RfR_0_EWS_4d</th>\n      <td>0.193770</td>\n      <td>0.077829</td>\n      <td>0.370042</td>\n      <td>0.082056</td>\n      <td>0.347167</td>\n      <td>1.381455e+09</td>\n      <td>3.795926e+08</td>\n      <td>2.679166e+09</td>\n      <td>4.302704e+08</td>\n      <td>2.535628e+09</td>\n      <td>8.465731e+07</td>\n      <td>1.466113e+09</td>\n      <td>4.642172e+08</td>\n      <td>2.763795e+09</td>\n      <td>5.149001e+08</td>\n      <td>2.620274e+09</td>\n    </tr>\n    <tr>\n      <th>Policy_Dike_0m_RfR_1_EWS_2d</th>\n      <td>0.242632</td>\n      <td>0.097286</td>\n      <td>0.462553</td>\n      <td>0.102967</td>\n      <td>0.433958</td>\n      <td>1.386287e+09</td>\n      <td>4.027131e+08</td>\n      <td>2.680205e+09</td>\n      <td>4.487668e+08</td>\n      <td>2.536459e+09</td>\n      <td>2.178395e+08</td>\n      <td>1.604127e+09</td>\n      <td>6.205299e+08</td>\n      <td>2.898025e+09</td>\n      <td>6.665872e+08</td>\n      <td>2.754291e+09</td>\n    </tr>\n    <tr>\n      <th>Policy_Dike_0m_RfR_1_EWS_4d</th>\n      <td>0.194106</td>\n      <td>0.077829</td>\n      <td>0.370042</td>\n      <td>0.082373</td>\n      <td>0.347167</td>\n      <td>1.386287e+09</td>\n      <td>4.027131e+08</td>\n      <td>2.680205e+09</td>\n      <td>4.487668e+08</td>\n      <td>2.536459e+09</td>\n      <td>2.178573e+08</td>\n      <td>1.604145e+09</td>\n      <td>6.205375e+08</td>\n      <td>2.898034e+09</td>\n      <td>6.665963e+08</td>\n      <td>2.754305e+09</td>\n    </tr>\n    <tr>\n      <th>Policy_Dike_0m_RfR_2_EWS_2d</th>\n      <td>0.221487</td>\n      <td>0.082669</td>\n      <td>0.427563</td>\n      <td>0.088516</td>\n      <td>0.391061</td>\n      <td>1.579126e+09</td>\n      <td>4.702773e+08</td>\n      <td>3.002154e+09</td>\n      <td>4.867872e+08</td>\n      <td>2.818861e+09</td>\n      <td>3.073615e+07</td>\n      <td>1.609862e+09</td>\n      <td>5.009950e+08</td>\n      <td>3.032875e+09</td>\n      <td>5.175068e+08</td>\n      <td>2.849597e+09</td>\n    </tr>\n    <tr>\n      <th>Policy_Dike_0m_RfR_2_EWS_4d</th>\n      <td>0.177190</td>\n      <td>0.066135</td>\n      <td>0.342050</td>\n      <td>0.070813</td>\n      <td>0.312849</td>\n      <td>1.579126e+09</td>\n      <td>4.702773e+08</td>\n      <td>3.002154e+09</td>\n      <td>4.867872e+08</td>\n      <td>2.818861e+09</td>\n      <td>3.075240e+07</td>\n      <td>1.609878e+09</td>\n      <td>5.010029e+08</td>\n      <td>3.032885e+09</td>\n      <td>5.175156e+08</td>\n      <td>2.849613e+09</td>\n    </tr>\n    <tr>\n      <th>Policy_Dike_0m_RfR_3_EWS_2d</th>\n      <td>0.252049</td>\n      <td>0.085139</td>\n      <td>0.444998</td>\n      <td>0.116160</td>\n      <td>0.405010</td>\n      <td>1.650255e+09</td>\n      <td>5.637570e+08</td>\n      <td>3.002154e+09</td>\n      <td>6.484703e+08</td>\n      <td>2.784396e+09</td>\n      <td>1.212371e+08</td>\n      <td>1.771492e+09</td>\n      <td>6.849847e+08</td>\n      <td>3.123375e+09</td>\n      <td>7.697000e+08</td>\n      <td>2.905628e+09</td>\n    </tr>\n    <tr>\n      <th>Policy_Dike_0m_RfR_3_EWS_4d</th>\n      <td>0.201639</td>\n      <td>0.068111</td>\n      <td>0.355999</td>\n      <td>0.092928</td>\n      <td>0.324008</td>\n      <td>1.650255e+09</td>\n      <td>5.637570e+08</td>\n      <td>3.002154e+09</td>\n      <td>6.484703e+08</td>\n      <td>2.784396e+09</td>\n      <td>1.212538e+08</td>\n      <td>1.771509e+09</td>\n      <td>6.849971e+08</td>\n      <td>3.123385e+09</td>\n      <td>7.697133e+08</td>\n      <td>2.905643e+09</td>\n    </tr>\n    <tr>\n      <th>Policy_Dike_0m_RfR_4_EWS_2d</th>\n      <td>0.273830</td>\n      <td>0.106482</td>\n      <td>0.457500</td>\n      <td>0.133234</td>\n      <td>0.429973</td>\n      <td>1.743378e+09</td>\n      <td>7.062513e+08</td>\n      <td>3.002154e+09</td>\n      <td>8.202908e+08</td>\n      <td>2.791194e+09</td>\n      <td>2.561410e+08</td>\n      <td>1.999519e+09</td>\n      <td>9.623868e+08</td>\n      <td>3.258275e+09</td>\n      <td>1.076429e+09</td>\n      <td>3.047327e+09</td>\n    </tr>\n    <tr>\n      <th>Policy_Dike_0m_RfR_4_EWS_4d</th>\n      <td>0.219064</td>\n      <td>0.085185</td>\n      <td>0.366000</td>\n      <td>0.106587</td>\n      <td>0.343979</td>\n      <td>1.743378e+09</td>\n      <td>7.062513e+08</td>\n      <td>3.002154e+09</td>\n      <td>8.202908e+08</td>\n      <td>2.791194e+09</td>\n      <td>2.561594e+08</td>\n      <td>1.999537e+09</td>\n      <td>9.624028e+08</td>\n      <td>3.258285e+09</td>\n      <td>1.076446e+09</td>\n      <td>3.047341e+09</td>\n    </tr>\n    <tr>\n      <th>Policy_Dike_10m_RfR_0_EWS_2d</th>\n      <td>0.096777</td>\n      <td>0.010777</td>\n      <td>0.207936</td>\n      <td>0.015015</td>\n      <td>0.193533</td>\n      <td>9.466453e+08</td>\n      <td>1.007457e+08</td>\n      <td>2.679166e+09</td>\n      <td>1.180347e+08</td>\n      <td>2.369961e+09</td>\n      <td>1.288414e+08</td>\n      <td>1.075487e+09</td>\n      <td>2.295660e+08</td>\n      <td>2.808001e+09</td>\n      <td>2.468559e+08</td>\n      <td>2.498805e+09</td>\n    </tr>\n    <tr>\n      <th>Policy_Dike_10m_RfR_0_EWS_4d</th>\n      <td>0.077422</td>\n      <td>0.008621</td>\n      <td>0.166348</td>\n      <td>0.012012</td>\n      <td>0.154826</td>\n      <td>9.466453e+08</td>\n      <td>1.007457e+08</td>\n      <td>2.679166e+09</td>\n      <td>1.180347e+08</td>\n      <td>2.369961e+09</td>\n      <td>1.288532e+08</td>\n      <td>1.075499e+09</td>\n      <td>2.295684e+08</td>\n      <td>2.808010e+09</td>\n      <td>2.468587e+08</td>\n      <td>2.498818e+09</td>\n    </tr>\n    <tr>\n      <th>Policy_Dike_10m_RfR_1_EWS_2d</th>\n      <td>0.096218</td>\n      <td>0.010777</td>\n      <td>0.208052</td>\n      <td>0.014432</td>\n      <td>0.193626</td>\n      <td>9.455448e+08</td>\n      <td>1.007457e+08</td>\n      <td>2.680205e+09</td>\n      <td>1.167263e+08</td>\n      <td>2.370793e+09</td>\n      <td>2.620409e+08</td>\n      <td>1.207586e+09</td>\n      <td>3.627660e+08</td>\n      <td>2.942240e+09</td>\n      <td>3.787470e+08</td>\n      <td>2.632836e+09</td>\n    </tr>\n    <tr>\n      <th>Policy_Dike_10m_RfR_1_EWS_4d</th>\n      <td>0.076974</td>\n      <td>0.008621</td>\n      <td>0.166442</td>\n      <td>0.011546</td>\n      <td>0.154901</td>\n      <td>9.455448e+08</td>\n      <td>1.007457e+08</td>\n      <td>2.680205e+09</td>\n      <td>1.167263e+08</td>\n      <td>2.370793e+09</td>\n      <td>2.620525e+08</td>\n      <td>1.207597e+09</td>\n      <td>3.627684e+08</td>\n      <td>2.942249e+09</td>\n      <td>3.787496e+08</td>\n      <td>2.632849e+09</td>\n    </tr>\n    <tr>\n      <th>Policy_Dike_10m_RfR_2_EWS_2d</th>\n      <td>0.143425</td>\n      <td>0.012491</td>\n      <td>0.245056</td>\n      <td>0.026527</td>\n      <td>0.244094</td>\n      <td>1.320757e+09</td>\n      <td>1.210821e+08</td>\n      <td>3.002154e+09</td>\n      <td>2.074310e+08</td>\n      <td>2.758659e+09</td>\n      <td>7.494270e+07</td>\n      <td>1.395700e+09</td>\n      <td>1.960024e+08</td>\n      <td>3.077090e+09</td>\n      <td>2.823557e+08</td>\n      <td>2.833596e+09</td>\n    </tr>\n    <tr>\n      <th>Policy_Dike_10m_RfR_2_EWS_4d</th>\n      <td>0.114740</td>\n      <td>0.009993</td>\n      <td>0.196045</td>\n      <td>0.021221</td>\n      <td>0.195275</td>\n      <td>1.320757e+09</td>\n      <td>1.210821e+08</td>\n      <td>3.002154e+09</td>\n      <td>2.074310e+08</td>\n      <td>2.758659e+09</td>\n      <td>7.495514e+07</td>\n      <td>1.395713e+09</td>\n      <td>1.960048e+08</td>\n      <td>3.077100e+09</td>\n      <td>2.823601e+08</td>\n      <td>2.833606e+09</td>\n    </tr>\n    <tr>\n      <th>Policy_Dike_10m_RfR_3_EWS_2d</th>\n      <td>0.134326</td>\n      <td>0.011033</td>\n      <td>0.245056</td>\n      <td>0.025854</td>\n      <td>0.244094</td>\n      <td>1.242061e+09</td>\n      <td>8.855218e+07</td>\n      <td>3.002154e+09</td>\n      <td>1.835931e+08</td>\n      <td>2.758659e+09</td>\n      <td>1.654383e+08</td>\n      <td>1.407500e+09</td>\n      <td>2.539703e+08</td>\n      <td>3.167590e+09</td>\n      <td>3.490162e+08</td>\n      <td>2.924096e+09</td>\n    </tr>\n    <tr>\n      <th>Policy_Dike_10m_RfR_3_EWS_4d</th>\n      <td>0.107461</td>\n      <td>0.008826</td>\n      <td>0.196045</td>\n      <td>0.020683</td>\n      <td>0.195275</td>\n      <td>1.242061e+09</td>\n      <td>8.855218e+07</td>\n      <td>3.002154e+09</td>\n      <td>1.835931e+08</td>\n      <td>2.758659e+09</td>\n      <td>1.654488e+08</td>\n      <td>1.407510e+09</td>\n      <td>2.539717e+08</td>\n      <td>3.167600e+09</td>\n      <td>3.490198e+08</td>\n      <td>2.924106e+09</td>\n    </tr>\n    <tr>\n      <th>Policy_Dike_10m_RfR_4_EWS_2d</th>\n      <td>0.148411</td>\n      <td>0.011105</td>\n      <td>0.245056</td>\n      <td>0.030180</td>\n      <td>0.244094</td>\n      <td>1.346567e+09</td>\n      <td>8.897779e+07</td>\n      <td>3.002154e+09</td>\n      <td>2.124325e+08</td>\n      <td>2.758659e+09</td>\n      <td>3.003440e+08</td>\n      <td>1.646911e+09</td>\n      <td>3.892960e+08</td>\n      <td>3.302490e+09</td>\n      <td>5.127571e+08</td>\n      <td>3.058996e+09</td>\n    </tr>\n    <tr>\n      <th>Policy_Dike_10m_RfR_4_EWS_4d</th>\n      <td>0.118729</td>\n      <td>0.008884</td>\n      <td>0.196045</td>\n      <td>0.024144</td>\n      <td>0.195275</td>\n      <td>1.346567e+09</td>\n      <td>8.897779e+07</td>\n      <td>3.002154e+09</td>\n      <td>2.124325e+08</td>\n      <td>2.758659e+09</td>\n      <td>3.003570e+08</td>\n      <td>1.646924e+09</td>\n      <td>3.892974e+08</td>\n      <td>3.302500e+09</td>\n      <td>5.127615e+08</td>\n      <td>3.059006e+09</td>\n    </tr>\n    <tr>\n      <th>Policy_Zero</th>\n      <td>2.117914</td>\n      <td>1.601619</td>\n      <td>3.083685</td>\n      <td>1.606432</td>\n      <td>2.944028</td>\n      <td>1.747833e+09</td>\n      <td>7.062513e+08</td>\n      <td>3.002154e+09</td>\n      <td>8.219216e+08</td>\n      <td>2.794018e+09</td>\n      <td>0.000000e+00</td>\n      <td>1.747833e+09</td>\n      <td>7.062513e+08</td>\n      <td>3.002154e+09</td>\n      <td>8.219216e+08</td>\n      <td>2.794018e+09</td>\n    </tr>\n  </tbody>\n</table>\n</div>"
     },
     "execution_count": 14,
     "metadata": {},
     "output_type": "execute_result"
    }
   ],
   "source": [
    "# Create a Pandas GroupBy object\n",
    "group_df = df.groupby(by=\"policy\")\n",
    "\n",
    "# Create a list of statistical functions which are used\n",
    "agg_par = [\"mean\", \"min\", \"max\", q05, q95]\n",
    "\n",
    "# Create a dictionary with what outcome values are aggegrated with which functions\n",
    "agg_dict = {\n",
    "    \"Expected Number of Deaths\": agg_par,\n",
    "    \"Expected Annual Damage\": agg_par,\n",
    "    \"Total Costs\": \"mean\",\n",
    "    \"Cost plus Damage\": agg_par,\n",
    "}\n",
    "# Create new dataframe with the aggegrated data per policy\n",
    "TCA_df = group_df.agg(agg_dict)\n",
    "TCA_df"
   ],
   "metadata": {
    "collapsed": false,
    "pycharm": {
     "name": "#%%\n"
    }
   }
  },
  {
   "cell_type": "markdown",
   "source": [
    "### Plots\n",
    "\n",
    "TODO: Make make some nice Seaborn plots?"
   ],
   "metadata": {
    "collapsed": false,
    "pycharm": {
     "name": "#%% md\n"
    }
   }
  },
  {
   "cell_type": "code",
   "execution_count": 15,
   "outputs": [
    {
     "data": {
      "text/plain": "<AxesSubplot:xlabel='policy'>"
     },
     "execution_count": 15,
     "metadata": {},
     "output_type": "execute_result"
    },
    {
     "data": {
      "text/plain": "<Figure size 432x288 with 1 Axes>",
      "image/png": "[encoded data removed]"
     },
     "metadata": {
      "needs_background": "light"
     },
     "output_type": "display_data"
    }
   ],
   "source": [
    "TCA_df[\"Expected Number of Deaths\"][\"mean\"].plot.bar()"
   ],
   "metadata": {
    "collapsed": false,
    "pycharm": {
     "name": "#%%\n"
    }
   }
  },
  {
   "cell_type": "code",
   "execution_count": 16,
   "outputs": [
    {
     "data": {
      "text/plain": "<AxesSubplot:xlabel='policy'>"
     },
     "execution_count": 16,
     "metadata": {},
     "output_type": "execute_result"
    },
    {
     "data": {
      "text/plain": "<Figure size 432x288 with 1 Axes>",
      "image/png": "[encoded data removed]"
     },
     "metadata": {
      "needs_background": "light"
     },
     "output_type": "display_data"
    }
   ],
   "source": [
    "TCA_df[\"Total Costs\"][\"mean\"].plot.bar()"
   ],
   "metadata": {
    "collapsed": false,
    "pycharm": {
     "name": "#%%\n"
    }
   }
  },
  {
   "cell_type": "code",
   "execution_count": 17,
   "outputs": [
    {
     "data": {
      "text/plain": "<AxesSubplot:xlabel='policy'>"
     },
     "execution_count": 17,
     "metadata": {},
     "output_type": "execute_result"
    },
    {
     "data": {
      "text/plain": "<Figure size 432x288 with 1 Axes>",
      "image/png": "[encoded data removed]"
     },
     "metadata": {
      "needs_background": "light"
     },
     "output_type": "display_data"
    }
   ],
   "source": [
    "TCA_df[\"Cost plus Damage\"][\"mean\"].plot.bar()"
   ],
   "metadata": {
    "collapsed": false,
    "pycharm": {
     "name": "#%%\n"
    }
   }
  },
  {
   "cell_type": "code",
   "execution_count": 18,
   "outputs": [],
   "source": [
    "# Save the aggegrated data to a CSV file\n",
    "TCA_df.to_csv(f\"results/TCA_results_pf{used_problem_formulation}.csv\")"
   ],
   "metadata": {
    "collapsed": false,
    "pycharm": {
     "name": "#%%\n"
    }
   }
  },
  {
   "cell_type": "code",
   "execution_count": 18,
   "outputs": [],
   "source": [],
   "metadata": {
    "collapsed": false,
    "pycharm": {
     "name": "#%%\n"
    }
   }
  }
 ],
 "metadata": {
  "interpreter": {
   "hash": "6fd914e18bfa8d7647c3cf90e7a007e50e832e4a27cecf06ee50e35679d106a4"
  },
  "kernelspec": {
   "display_name": "Python 3.8.8 ('base')",
   "language": "python",
   "name": "python3"
  },
  "language_info": {
   "codemirror_mode": {
    "name": "ipython",
    "version": 3
   },
   "file_extension": ".py",
   "mimetype": "text/x-python",
   "name": "python",
   "nbconvert_exporter": "python",
   "pygments_lexer": "ipython3",
   "version": "3.8.8"
  }
 },
 "nbformat": 4,
 "nbformat_minor": 4
}