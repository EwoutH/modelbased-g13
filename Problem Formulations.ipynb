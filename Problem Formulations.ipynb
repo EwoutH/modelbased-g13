{
 "cells": [
  {
   "cell_type": "code",
   "execution_count": 1,
   "outputs": [],
   "source": [
    "import numpy as np\n",
    "import scipy as sp\n",
    "import pandas as pd\n",
    "import matplotlib.pyplot as plt\n",
    "import seaborn as sns\n",
    "import networkx as nx\n",
    "import pickle"
   ],
   "metadata": {
    "collapsed": false,
    "pycharm": {
     "name": "#%%\n"
    }
   }
  },
  {
   "cell_type": "code",
   "execution_count": 2,
   "outputs": [
    {
     "name": "stdout",
     "output_type": "stream",
     "text": [
      "1.4.2\n",
      "2.8.2\n"
     ]
    }
   ],
   "source": [
    "# make sure pandas is version 1.0 or higher\n",
    "# make sure networkx is verion 2.4 or higher\n",
    "print(pd.__version__)\n",
    "print(nx.__version__)"
   ],
   "metadata": {
    "collapsed": false,
    "pycharm": {
     "name": "#%%\n"
    }
   }
  },
  {
   "cell_type": "code",
   "execution_count": 3,
   "outputs": [],
   "source": [
    "from ema_workbench import (\n",
    "    Model,\n",
    "    Policy,\n",
    "    ema_logging,\n",
    "    SequentialEvaluator,\n",
    "    MultiprocessingEvaluator,\n",
    ")\n",
    "from dike_model_function import DikeNetwork  # @UnresolvedImport\n",
    "from problem_formulation import get_model_for_problem_formulation\n",
    "\n",
    "\n",
    "def sum_over(*args):\n",
    "    return sum(args)"
   ],
   "metadata": {
    "collapsed": false,
    "pycharm": {
     "name": "#%%\n"
    }
   }
  },
  {
   "cell_type": "code",
   "execution_count": 4,
   "outputs": [],
   "source": [
    "ema_logging.log_to_stderr(ema_logging.INFO)\n",
    "\n",
    "# choose problem formulation number, between 0-5\n",
    "# each problem formulation has its own list of outcomes\n",
    "dike_model, planning_steps = get_model_for_problem_formulation(3)"
   ],
   "metadata": {
    "collapsed": false,
    "pycharm": {
     "name": "#%%\n"
    }
   }
  },
  {
   "cell_type": "code",
   "execution_count": 5,
   "outputs": [
    {
     "name": "stdout",
     "output_type": "stream",
     "text": [
      "CategoricalParameter('discount rate 0', [0, 1, 2, 3])\n",
      "CategoricalParameter('discount rate 1', [0, 1, 2, 3])\n",
      "CategoricalParameter('discount rate 2', [0, 1, 2, 3])\n",
      "<ema_workbench.em_framework.parameters.IntegerParameter object at 0x00000171FBB27BB0>\n",
      "<ema_workbench.em_framework.parameters.RealParameter object at 0x00000171FBB23970>\n",
      "<ema_workbench.em_framework.parameters.RealParameter object at 0x00000171FBB00460>\n",
      "CategoricalParameter('A.1_Brate', [0, 1, 2])\n",
      "<ema_workbench.em_framework.parameters.RealParameter object at 0x00000171FBB203D0>\n",
      "<ema_workbench.em_framework.parameters.RealParameter object at 0x00000171FBB00EB0>\n",
      "CategoricalParameter('A.2_Brate', [0, 1, 2])\n",
      "<ema_workbench.em_framework.parameters.RealParameter object at 0x00000171FBB19670>\n",
      "<ema_workbench.em_framework.parameters.RealParameter object at 0x00000171FBB204C0>\n",
      "CategoricalParameter('A.3_Brate', [0, 1, 2])\n",
      "<ema_workbench.em_framework.parameters.RealParameter object at 0x00000171FBB19850>\n",
      "<ema_workbench.em_framework.parameters.RealParameter object at 0x00000171FBB179A0>\n",
      "CategoricalParameter('A.4_Brate', [0, 1, 2])\n",
      "<ema_workbench.em_framework.parameters.RealParameter object at 0x00000171FBB17BB0>\n",
      "<ema_workbench.em_framework.parameters.RealParameter object at 0x00000171FBB30160>\n",
      "CategoricalParameter('A.5_Brate', [0, 1, 2])\n"
     ]
    }
   ],
   "source": [
    "# enlisting uncertainties, their types (RealParameter/IntegerParameter/CategoricalParameter), lower boundary, and upper boundary\n",
    "import copy\n",
    "\n",
    "for unc in dike_model.uncertainties:\n",
    "    print(repr(unc))\n",
    "\n",
    "uncertainties = copy.deepcopy(dike_model.uncertainties)"
   ],
   "metadata": {
    "collapsed": false,
    "pycharm": {
     "name": "#%%\n"
    }
   }
  },
  {
   "cell_type": "code",
   "execution_count": 6,
   "outputs": [
    {
     "name": "stdout",
     "output_type": "stream",
     "text": [
      "<ema_workbench.em_framework.parameters.IntegerParameter object at 0x00000171FBA13910>\n",
      "<ema_workbench.em_framework.parameters.IntegerParameter object at 0x00000171FBB27220>\n",
      "<ema_workbench.em_framework.parameters.IntegerParameter object at 0x00000171FBAE06A0>\n",
      "<ema_workbench.em_framework.parameters.IntegerParameter object at 0x00000171FBB134C0>\n",
      "<ema_workbench.em_framework.parameters.IntegerParameter object at 0x00000171FBAE0F40>\n",
      "<ema_workbench.em_framework.parameters.IntegerParameter object at 0x00000171FBB13A60>\n",
      "<ema_workbench.em_framework.parameters.IntegerParameter object at 0x00000171FBAE05E0>\n",
      "<ema_workbench.em_framework.parameters.IntegerParameter object at 0x00000171FBB13580>\n",
      "<ema_workbench.em_framework.parameters.IntegerParameter object at 0x00000171FBB230A0>\n",
      "<ema_workbench.em_framework.parameters.IntegerParameter object at 0x00000171FBB13880>\n",
      "<ema_workbench.em_framework.parameters.IntegerParameter object at 0x00000171FBB23700>\n",
      "<ema_workbench.em_framework.parameters.IntegerParameter object at 0x00000171FB146760>\n",
      "<ema_workbench.em_framework.parameters.IntegerParameter object at 0x00000171FBB23D00>\n",
      "<ema_workbench.em_framework.parameters.IntegerParameter object at 0x00000171FBB137F0>\n",
      "<ema_workbench.em_framework.parameters.IntegerParameter object at 0x00000171FBB23910>\n",
      "<ema_workbench.em_framework.parameters.IntegerParameter object at 0x00000171FBA13730>\n",
      "<ema_workbench.em_framework.parameters.IntegerParameter object at 0x00000171FBB00A00>\n",
      "<ema_workbench.em_framework.parameters.IntegerParameter object at 0x00000171FBB200D0>\n",
      "<ema_workbench.em_framework.parameters.IntegerParameter object at 0x00000171FBB00220>\n",
      "<ema_workbench.em_framework.parameters.IntegerParameter object at 0x00000171FBAD4A90>\n",
      "<ema_workbench.em_framework.parameters.IntegerParameter object at 0x00000171FBB19370>\n",
      "<ema_workbench.em_framework.parameters.IntegerParameter object at 0x00000171FBAD40A0>\n",
      "<ema_workbench.em_framework.parameters.IntegerParameter object at 0x00000171FBB17340>\n",
      "<ema_workbench.em_framework.parameters.IntegerParameter object at 0x00000171FBB194C0>\n",
      "<ema_workbench.em_framework.parameters.IntegerParameter object at 0x00000171FBB17490>\n",
      "<ema_workbench.em_framework.parameters.IntegerParameter object at 0x00000171FBB17B80>\n",
      "<ema_workbench.em_framework.parameters.IntegerParameter object at 0x00000171FBB325B0>\n",
      "<ema_workbench.em_framework.parameters.IntegerParameter object at 0x00000171FBB17D30>\n",
      "<ema_workbench.em_framework.parameters.IntegerParameter object at 0x00000171FBB305B0>\n",
      "<ema_workbench.em_framework.parameters.IntegerParameter object at 0x00000171FBB327F0>\n",
      "<ema_workbench.em_framework.parameters.IntegerParameter object at 0x00000171FBB30970>\n"
     ]
    }
   ],
   "source": [
    "# enlisting policy levers, their types (RealParameter/IntegerParameter), lower boundary, and upper boundary\n",
    "for policy in dike_model.levers:\n",
    "    print(repr(policy))\n",
    "\n",
    "levers = copy.deepcopy(dike_model.levers)"
   ],
   "metadata": {
    "collapsed": false,
    "pycharm": {
     "name": "#%%\n"
    }
   }
  },
  {
   "cell_type": "code",
   "execution_count": 7,
   "outputs": [
    {
     "name": "stdout",
     "output_type": "stream",
     "text": [
      "ScalarOutcome('A.1 Total Costs', variable_name=('A.1_Expected Annual Damage 0', 'A.1_Expected Annual Damage 1', 'A.1_Expected Annual Damage 2', 'A.1_Dike Investment Costs 0', 'A.1_Dike Investment Costs 1', 'A.1_Dike Investment Costs 2'), function=<function sum_over at 0x00000171FB13D4C0>)\n",
      "ScalarOutcome('A.1_Expected Number of Deaths', variable_name=('A.1_Expected Number of Deaths 0', 'A.1_Expected Number of Deaths 1', 'A.1_Expected Number of Deaths 2'), function=<function sum_over at 0x00000171FB13D4C0>)\n",
      "ScalarOutcome('A.2 Total Costs', variable_name=('A.2_Expected Annual Damage 0', 'A.2_Expected Annual Damage 1', 'A.2_Expected Annual Damage 2', 'A.2_Dike Investment Costs 0', 'A.2_Dike Investment Costs 1', 'A.2_Dike Investment Costs 2'), function=<function sum_over at 0x00000171FB13D4C0>)\n",
      "ScalarOutcome('A.2_Expected Number of Deaths', variable_name=('A.2_Expected Number of Deaths 0', 'A.2_Expected Number of Deaths 1', 'A.2_Expected Number of Deaths 2'), function=<function sum_over at 0x00000171FB13D4C0>)\n",
      "ScalarOutcome('A.3 Total Costs', variable_name=('A.3_Expected Annual Damage 0', 'A.3_Expected Annual Damage 1', 'A.3_Expected Annual Damage 2', 'A.3_Dike Investment Costs 0', 'A.3_Dike Investment Costs 1', 'A.3_Dike Investment Costs 2'), function=<function sum_over at 0x00000171FB13D4C0>)\n",
      "ScalarOutcome('A.3_Expected Number of Deaths', variable_name=('A.3_Expected Number of Deaths 0', 'A.3_Expected Number of Deaths 1', 'A.3_Expected Number of Deaths 2'), function=<function sum_over at 0x00000171FB13D4C0>)\n",
      "ScalarOutcome('A.4 Total Costs', variable_name=('A.4_Expected Annual Damage 0', 'A.4_Expected Annual Damage 1', 'A.4_Expected Annual Damage 2', 'A.4_Dike Investment Costs 0', 'A.4_Dike Investment Costs 1', 'A.4_Dike Investment Costs 2'), function=<function sum_over at 0x00000171FB13D4C0>)\n",
      "ScalarOutcome('A.4_Expected Number of Deaths', variable_name=('A.4_Expected Number of Deaths 0', 'A.4_Expected Number of Deaths 1', 'A.4_Expected Number of Deaths 2'), function=<function sum_over at 0x00000171FB13D4C0>)\n",
      "ScalarOutcome('A.5 Total Costs', variable_name=('A.5_Expected Annual Damage 0', 'A.5_Expected Annual Damage 1', 'A.5_Expected Annual Damage 2', 'A.5_Dike Investment Costs 0', 'A.5_Dike Investment Costs 1', 'A.5_Dike Investment Costs 2'), function=<function sum_over at 0x00000171FB13D4C0>)\n",
      "ScalarOutcome('A.5_Expected Number of Deaths', variable_name=('A.5_Expected Number of Deaths 0', 'A.5_Expected Number of Deaths 1', 'A.5_Expected Number of Deaths 2'), function=<function sum_over at 0x00000171FB13D4C0>)\n",
      "ScalarOutcome('RfR Total Costs', variable_name=('RfR Total Costs 0', 'RfR Total Costs 1', 'RfR Total Costs 2'), function=<function sum_over at 0x00000171FB13D4C0>)\n",
      "ScalarOutcome('Expected Evacuation Costs', variable_name=('Expected Evacuation Costs 0', 'Expected Evacuation Costs 1', 'Expected Evacuation Costs 2'), function=<function sum_over at 0x00000171FB13D4C0>)\n"
     ]
    }
   ],
   "source": [
    "# enlisting outcomes\n",
    "for outcome in dike_model.outcomes:\n",
    "    print(repr(outcome))"
   ],
   "metadata": {
    "collapsed": false,
    "pycharm": {
     "name": "#%%\n"
    }
   }
  },
  {
   "cell_type": "code",
   "execution_count": 8,
   "outputs": [],
   "source": [
    "# defining specific policies\n",
    "# for example, policy 1 is about extra protection in upper boundary\n",
    "# policy 2 is about extra protection in lower boundary\n",
    "# policy 3 is extra protection in random locations\n",
    "\n",
    "\n",
    "def get_0_dict():\n",
    "    return {l.name: 0 for l in dike_model.levers}\n",
    "\n",
    "\n",
    "policies = [\n",
    "    Policy(\n",
    "        \"policy 1\",\n",
    "        **dict(get_0_dict(), **{\"0_RfR 0\": 0, \"0_RfR 1\": 0, \"0_RfR 2\": 0, \"A.1_DikeIncrease 0\": 0})\n",
    "    ),\n",
    "    Policy(\n",
    "        \"policy 2\",\n",
    "        **dict(get_0_dict(), **{\"0_RfR 0\": 0, \"0_RfR 1\": 0, \"0_RfR 2\": 0, \"A.1_DikeIncrease 0\": 5})\n",
    "    ),\n",
    "    Policy(\n",
    "        \"policy 3\",\n",
    "        **dict(get_0_dict(), **{\"0_RfR 0\": 0, \"0_RfR 1\": 0, \"0_RfR 2\": 0, \"A.1_DikeIncrease 0\": 10})\n",
    "    ),\n",
    "    Policy(\n",
    "        \"policy 4\",\n",
    "        **dict(get_0_dict(), **{\"0_RfR 0\": 1, \"0_RfR 1\": 0, \"0_RfR 2\": 0, \"A.1_DikeIncrease 0\": 0})\n",
    "    ),\n",
    "    Policy(\n",
    "        \"policy 5\",\n",
    "        **dict(get_0_dict(), **{\"0_RfR 0\": 0, \"0_RfR 1\": 1, \"0_RfR 2\": 0, \"A.1_DikeIncrease 0\": 0})\n",
    "    ),\n",
    "    Policy(\n",
    "        \"policy 6\",\n",
    "        **dict(get_0_dict(), **{\"0_RfR 0\": 0, \"0_RfR 1\": 0, \"0_RfR 2\": 1, \"A.1_DikeIncrease 0\": 0})\n",
    "    ),\n",
    "    Policy(\n",
    "        \"policy 7\",\n",
    "        **dict(get_0_dict(), **{\"1_RfR 0\": 1, \"1_RfR 1\": 0, \"1_RfR 2\": 0, \"A.1_DikeIncrease 0\": 0})\n",
    "    ),\n",
    "    Policy(\n",
    "        \"policy 8\",\n",
    "        **dict(get_0_dict(), **{\"1_RfR 0\": 0, \"1_RfR 1\": 1, \"1_RfR 2\": 0, \"A.1_DikeIncrease 0\": 0})\n",
    "    ),\n",
    "    Policy(\n",
    "        \"policy 9\",\n",
    "        **dict(get_0_dict(), **{\"1_RfR 0\": 0, \"1_RfR 1\": 0, \"1_RfR 2\": 1, \"A.1_DikeIncrease 0\": 0})\n",
    "    ),\n",
    "    Policy(\n",
    "        \"policy 10\",\n",
    "        **dict(get_0_dict(), **{\"2_RfR 0\": 1, \"2_RfR 1\": 0, \"2_RfR 2\": 0, \"A.1_DikeIncrease 0\": 0})\n",
    "    ),\n",
    "    Policy(\n",
    "        \"policy 11\",\n",
    "        **dict(get_0_dict(), **{\"2_RfR 0\": 1, \"2_RfR 1\": 0, \"2_RfR 2\": 0, \"A.1_DikeIncrease 0\": 0})\n",
    "    ),\n",
    "    Policy(\n",
    "        \"policy 12\",\n",
    "        **dict(get_0_dict(), **{\"2_RfR 0\": 1, \"2_RfR 1\": 0, \"2_RfR 2\": 0, \"A.1_DikeIncrease 0\": 0})\n",
    "    ),\n",
    "]"
   ],
   "metadata": {
    "collapsed": false,
    "pycharm": {
     "name": "#%%\n"
    }
   }
  },
  {
   "cell_type": "code",
   "execution_count": 9,
   "outputs": [],
   "source": [
    "# True, use results in pickle file; False, run MultiprocessingEvaluator\n",
    "use_pickle1 = True\n",
    "\n",
    "if use_pickle1:\n",
    "    with open('data/formulation_results.pickle', 'rb') as filehandler:\n",
    "        results = pickle.load(filehandler)\n",
    "\n",
    "else:\n",
    "    # pass the policies list to EMA workbench experiment runs\n",
    "    n_scenarios = 25\n",
    "    with MultiprocessingEvaluator(dike_model) as evaluator:\n",
    "        results = evaluator.perform_experiments(n_scenarios, policies)\n",
    "\n",
    "    # Save results in Pickle file\n",
    "    with open('data/formulation_results.pickle', 'wb') as filehandler:\n",
    "        pickle.dump(results, filehandler)"
   ],
   "metadata": {
    "collapsed": false,
    "pycharm": {
     "name": "#%%\n"
    }
   }
  },
  {
   "cell_type": "code",
   "execution_count": 10,
   "outputs": [
    {
     "data": {
      "text/plain": "     A.1 Total Costs  A.1_Expected Number of Deaths  A.2 Total Costs  \\\n0       5.732935e+07                       0.056965     4.356490e+07   \n1       5.310821e+08                       0.344665     5.858167e+06   \n2       2.136219e+09                       1.392643     1.669888e+08   \n3       0.000000e+00                       0.000000     6.250319e+07   \n4       0.000000e+00                       0.000000     2.679906e+07   \n..               ...                            ...              ...   \n295     0.000000e+00                       0.000000     2.148880e+07   \n296     2.347294e+09                       1.529216     0.000000e+00   \n297     2.126107e+09                       1.542904     0.000000e+00   \n298     2.211942e+09                       1.517858     0.000000e+00   \n299     2.706491e+07                       0.022074     7.305273e+06   \n\n     A.2_Expected Number of Deaths  A.3 Total Costs  \\\n0                         0.057295     3.224118e+07   \n1                         0.005317     1.744272e+09   \n2                         0.141657     0.000000e+00   \n3                         0.082046     1.197923e+09   \n4                         0.022682     5.172838e+08   \n..                             ...              ...   \n295                       0.022244     4.020331e+07   \n296                       0.000000     0.000000e+00   \n297                       0.000000     0.000000e+00   \n298                       0.000000     0.000000e+00   \n299                       0.008087     6.108711e+07   \n\n     A.3_Expected Number of Deaths  A.4 Total Costs  \\\n0                         0.080806     2.908736e+07   \n1                         2.775271     0.000000e+00   \n2                         0.000000     0.000000e+00   \n3                         2.817859     0.000000e+00   \n4                         0.785246     0.000000e+00   \n..                             ...              ...   \n295                       0.076890     1.625602e+06   \n296                       0.000000     0.000000e+00   \n297                       0.000000     4.445023e+06   \n298                       0.000000     0.000000e+00   \n299                       0.124175     5.533241e+07   \n\n     A.4_Expected Number of Deaths  A.5 Total Costs  \\\n0                         0.018946     2.715114e+06   \n1                         0.000000     0.000000e+00   \n2                         0.000000     0.000000e+00   \n3                         0.000000     0.000000e+00   \n4                         0.000000     0.000000e+00   \n..                             ...              ...   \n295                       0.000968     2.870248e+08   \n296                       0.000000     0.000000e+00   \n297                       0.001737     0.000000e+00   \n298                       0.000000     0.000000e+00   \n299                       0.029712     5.445413e+08   \n\n     A.5_Expected Number of Deaths  RfR Total Costs  \\\n0                         0.003386              0.0   \n1                         0.000000              0.0   \n2                         0.000000              0.0   \n3                         0.000000              0.0   \n4                         0.000000              0.0   \n..                             ...              ...   \n295                       0.275452       30700000.0   \n296                       0.000000       30700000.0   \n297                       0.000000       30700000.0   \n298                       0.000000       30700000.0   \n299                       0.537112       30700000.0   \n\n     Expected Evacuation Costs     policy  \n0                          0.0   policy 1  \n1                          0.0   policy 1  \n2                          0.0   policy 1  \n3                          0.0   policy 1  \n4                          0.0   policy 1  \n..                         ...        ...  \n295                        0.0  policy 12  \n296                        0.0  policy 12  \n297                        0.0  policy 12  \n298                        0.0  policy 12  \n299                        0.0  policy 12  \n\n[300 rows x 13 columns]",
      "text/html": "<div>\n<style scoped>\n    .dataframe tbody tr th:only-of-type {\n        vertical-align: middle;\n    }\n\n    .dataframe tbody tr th {\n        vertical-align: top;\n    }\n\n    .dataframe thead th {\n        text-align: right;\n    }\n</style>\n<table border=\"1\" class=\"dataframe\">\n  <thead>\n    <tr style=\"text-align: right;\">\n      <th></th>\n      <th>A.1 Total Costs</th>\n      <th>A.1_Expected Number of Deaths</th>\n      <th>A.2 Total Costs</th>\n      <th>A.2_Expected Number of Deaths</th>\n      <th>A.3 Total Costs</th>\n      <th>A.3_Expected Number of Deaths</th>\n      <th>A.4 Total Costs</th>\n      <th>A.4_Expected Number of Deaths</th>\n      <th>A.5 Total Costs</th>\n      <th>A.5_Expected Number of Deaths</th>\n      <th>RfR Total Costs</th>\n      <th>Expected Evacuation Costs</th>\n      <th>policy</th>\n    </tr>\n  </thead>\n  <tbody>\n    <tr>\n      <th>0</th>\n      <td>5.732935e+07</td>\n      <td>0.056965</td>\n      <td>4.356490e+07</td>\n      <td>0.057295</td>\n      <td>3.224118e+07</td>\n      <td>0.080806</td>\n      <td>2.908736e+07</td>\n      <td>0.018946</td>\n      <td>2.715114e+06</td>\n      <td>0.003386</td>\n      <td>0.0</td>\n      <td>0.0</td>\n      <td>policy 1</td>\n    </tr>\n    <tr>\n      <th>1</th>\n      <td>5.310821e+08</td>\n      <td>0.344665</td>\n      <td>5.858167e+06</td>\n      <td>0.005317</td>\n      <td>1.744272e+09</td>\n      <td>2.775271</td>\n      <td>0.000000e+00</td>\n      <td>0.000000</td>\n      <td>0.000000e+00</td>\n      <td>0.000000</td>\n      <td>0.0</td>\n      <td>0.0</td>\n      <td>policy 1</td>\n    </tr>\n    <tr>\n      <th>2</th>\n      <td>2.136219e+09</td>\n      <td>1.392643</td>\n      <td>1.669888e+08</td>\n      <td>0.141657</td>\n      <td>0.000000e+00</td>\n      <td>0.000000</td>\n      <td>0.000000e+00</td>\n      <td>0.000000</td>\n      <td>0.000000e+00</td>\n      <td>0.000000</td>\n      <td>0.0</td>\n      <td>0.0</td>\n      <td>policy 1</td>\n    </tr>\n    <tr>\n      <th>3</th>\n      <td>0.000000e+00</td>\n      <td>0.000000</td>\n      <td>6.250319e+07</td>\n      <td>0.082046</td>\n      <td>1.197923e+09</td>\n      <td>2.817859</td>\n      <td>0.000000e+00</td>\n      <td>0.000000</td>\n      <td>0.000000e+00</td>\n      <td>0.000000</td>\n      <td>0.0</td>\n      <td>0.0</td>\n      <td>policy 1</td>\n    </tr>\n    <tr>\n      <th>4</th>\n      <td>0.000000e+00</td>\n      <td>0.000000</td>\n      <td>2.679906e+07</td>\n      <td>0.022682</td>\n      <td>5.172838e+08</td>\n      <td>0.785246</td>\n      <td>0.000000e+00</td>\n      <td>0.000000</td>\n      <td>0.000000e+00</td>\n      <td>0.000000</td>\n      <td>0.0</td>\n      <td>0.0</td>\n      <td>policy 1</td>\n    </tr>\n    <tr>\n      <th>...</th>\n      <td>...</td>\n      <td>...</td>\n      <td>...</td>\n      <td>...</td>\n      <td>...</td>\n      <td>...</td>\n      <td>...</td>\n      <td>...</td>\n      <td>...</td>\n      <td>...</td>\n      <td>...</td>\n      <td>...</td>\n      <td>...</td>\n    </tr>\n    <tr>\n      <th>295</th>\n      <td>0.000000e+00</td>\n      <td>0.000000</td>\n      <td>2.148880e+07</td>\n      <td>0.022244</td>\n      <td>4.020331e+07</td>\n      <td>0.076890</td>\n      <td>1.625602e+06</td>\n      <td>0.000968</td>\n      <td>2.870248e+08</td>\n      <td>0.275452</td>\n      <td>30700000.0</td>\n      <td>0.0</td>\n      <td>policy 12</td>\n    </tr>\n    <tr>\n      <th>296</th>\n      <td>2.347294e+09</td>\n      <td>1.529216</td>\n      <td>0.000000e+00</td>\n      <td>0.000000</td>\n      <td>0.000000e+00</td>\n      <td>0.000000</td>\n      <td>0.000000e+00</td>\n      <td>0.000000</td>\n      <td>0.000000e+00</td>\n      <td>0.000000</td>\n      <td>30700000.0</td>\n      <td>0.0</td>\n      <td>policy 12</td>\n    </tr>\n    <tr>\n      <th>297</th>\n      <td>2.126107e+09</td>\n      <td>1.542904</td>\n      <td>0.000000e+00</td>\n      <td>0.000000</td>\n      <td>0.000000e+00</td>\n      <td>0.000000</td>\n      <td>4.445023e+06</td>\n      <td>0.001737</td>\n      <td>0.000000e+00</td>\n      <td>0.000000</td>\n      <td>30700000.0</td>\n      <td>0.0</td>\n      <td>policy 12</td>\n    </tr>\n    <tr>\n      <th>298</th>\n      <td>2.211942e+09</td>\n      <td>1.517858</td>\n      <td>0.000000e+00</td>\n      <td>0.000000</td>\n      <td>0.000000e+00</td>\n      <td>0.000000</td>\n      <td>0.000000e+00</td>\n      <td>0.000000</td>\n      <td>0.000000e+00</td>\n      <td>0.000000</td>\n      <td>30700000.0</td>\n      <td>0.0</td>\n      <td>policy 12</td>\n    </tr>\n    <tr>\n      <th>299</th>\n      <td>2.706491e+07</td>\n      <td>0.022074</td>\n      <td>7.305273e+06</td>\n      <td>0.008087</td>\n      <td>6.108711e+07</td>\n      <td>0.124175</td>\n      <td>5.533241e+07</td>\n      <td>0.029712</td>\n      <td>5.445413e+08</td>\n      <td>0.537112</td>\n      <td>30700000.0</td>\n      <td>0.0</td>\n      <td>policy 12</td>\n    </tr>\n  </tbody>\n</table>\n<p>300 rows × 13 columns</p>\n</div>"
     },
     "execution_count": 10,
     "metadata": {},
     "output_type": "execute_result"
    }
   ],
   "source": [
    "import pandas as pd\n",
    "\n",
    "a, b = results\n",
    "df = pd.DataFrame(b)\n",
    "df[\"policy\"] = pd.DataFrame(a)[\"policy\"]\n",
    "df"
   ],
   "metadata": {
    "collapsed": false,
    "pycharm": {
     "name": "#%%\n"
    }
   }
  },
  {
   "cell_type": "code",
   "execution_count": 11,
   "outputs": [],
   "source": [
    "def q05(x):\n",
    "    return x.quantile(0.05)\n",
    "\n",
    "\n",
    "def q95(x):\n",
    "    return x.quantile(0.95)"
   ],
   "metadata": {
    "collapsed": false,
    "pycharm": {
     "name": "#%%\n"
    }
   }
  },
  {
   "cell_type": "code",
   "execution_count": 12,
   "outputs": [
    {
     "data": {
      "text/plain": "          A.3 Total Costs                                        \\\n                     mean  min           max  q05           q95   \npolicy                                                            \npolicy 1     3.326075e+08  0.0  1.744272e+09  0.0  1.570691e+09   \npolicy 10    2.446031e+08  0.0  1.641221e+09  0.0  1.478844e+09   \npolicy 11    2.446031e+08  0.0  1.641221e+09  0.0  1.478844e+09   \npolicy 12    2.446031e+08  0.0  1.641221e+09  0.0  1.478844e+09   \npolicy 2     4.373169e+08  0.0  1.746347e+09  0.0  1.702134e+09   \npolicy 3     4.405365e+08  0.0  1.746347e+09  0.0  1.702134e+09   \npolicy 4     4.297020e+08  0.0  1.746347e+09  0.0  1.700258e+09   \npolicy 5     4.297020e+08  0.0  1.746347e+09  0.0  1.700258e+09   \npolicy 6     4.297020e+08  0.0  1.746347e+09  0.0  1.700258e+09   \npolicy 7     4.296421e+08  0.0  1.746347e+09  0.0  1.699323e+09   \npolicy 8     4.296421e+08  0.0  1.746347e+09  0.0  1.699323e+09   \npolicy 9     4.296421e+08  0.0  1.746347e+09  0.0  1.699323e+09   \n\n          A.3_Expected Number of Deaths                                \\\n                                   mean  min       max  q05       q95   \npolicy                                                                  \npolicy 1                       0.616094  0.0  2.817859  0.0  2.772051   \npolicy 10                      0.442882  0.0  2.527617  0.0  2.497275   \npolicy 11                      0.442882  0.0  2.527617  0.0  2.497275   \npolicy 12                      0.442882  0.0  2.527617  0.0  2.497275   \npolicy 2                       0.805723  0.0  2.833872  0.0  2.810590   \npolicy 3                       0.810759  0.0  2.833872  0.0  2.810590   \npolicy 4                       0.792352  0.0  2.826466  0.0  2.810590   \npolicy 5                       0.792352  0.0  2.826466  0.0  2.810590   \npolicy 6                       0.792352  0.0  2.826466  0.0  2.810590   \npolicy 7                       0.792167  0.0  2.823023  0.0  2.810590   \npolicy 8                       0.792167  0.0  2.823023  0.0  2.810590   \npolicy 9                       0.792167  0.0  2.823023  0.0  2.810590   \n\n          RfR Total Costs                                                      \\\n                     mean          min          max          q05          q95   \npolicy                                                                          \npolicy 1              0.0          0.0          0.0          0.0          0.0   \npolicy 10      30700000.0   30700000.0   30700000.0   30700000.0   30700000.0   \npolicy 11      30700000.0   30700000.0   30700000.0   30700000.0   30700000.0   \npolicy 12      30700000.0   30700000.0   30700000.0   30700000.0   30700000.0   \npolicy 2              0.0          0.0          0.0          0.0          0.0   \npolicy 3              0.0          0.0          0.0          0.0          0.0   \npolicy 4       84600000.0   84600000.0   84600000.0   84600000.0   84600000.0   \npolicy 5       84600000.0   84600000.0   84600000.0   84600000.0   84600000.0   \npolicy 6       84600000.0   84600000.0   84600000.0   84600000.0   84600000.0   \npolicy 7      217800000.0  217800000.0  217800000.0  217800000.0  217800000.0   \npolicy 8      217800000.0  217800000.0  217800000.0  217800000.0  217800000.0   \npolicy 9      217800000.0  217800000.0  217800000.0  217800000.0  217800000.0   \n\n          Expected Evacuation Costs                      \n                               mean  min  max  q05  q95  \npolicy                                                   \npolicy 1                        0.0  0.0  0.0  0.0  0.0  \npolicy 10                       0.0  0.0  0.0  0.0  0.0  \npolicy 11                       0.0  0.0  0.0  0.0  0.0  \npolicy 12                       0.0  0.0  0.0  0.0  0.0  \npolicy 2                        0.0  0.0  0.0  0.0  0.0  \npolicy 3                        0.0  0.0  0.0  0.0  0.0  \npolicy 4                        0.0  0.0  0.0  0.0  0.0  \npolicy 5                        0.0  0.0  0.0  0.0  0.0  \npolicy 6                        0.0  0.0  0.0  0.0  0.0  \npolicy 7                        0.0  0.0  0.0  0.0  0.0  \npolicy 8                        0.0  0.0  0.0  0.0  0.0  \npolicy 9                        0.0  0.0  0.0  0.0  0.0  ",
      "text/html": "<div>\n<style scoped>\n    .dataframe tbody tr th:only-of-type {\n        vertical-align: middle;\n    }\n\n    .dataframe tbody tr th {\n        vertical-align: top;\n    }\n\n    .dataframe thead tr th {\n        text-align: left;\n    }\n\n    .dataframe thead tr:last-of-type th {\n        text-align: right;\n    }\n</style>\n<table border=\"1\" class=\"dataframe\">\n  <thead>\n    <tr>\n      <th></th>\n      <th colspan=\"5\" halign=\"left\">A.3 Total Costs</th>\n      <th colspan=\"5\" halign=\"left\">A.3_Expected Number of Deaths</th>\n      <th colspan=\"5\" halign=\"left\">RfR Total Costs</th>\n      <th colspan=\"5\" halign=\"left\">Expected Evacuation Costs</th>\n    </tr>\n    <tr>\n      <th></th>\n      <th>mean</th>\n      <th>min</th>\n      <th>max</th>\n      <th>q05</th>\n      <th>q95</th>\n      <th>mean</th>\n      <th>min</th>\n      <th>max</th>\n      <th>q05</th>\n      <th>q95</th>\n      <th>mean</th>\n      <th>min</th>\n      <th>max</th>\n      <th>q05</th>\n      <th>q95</th>\n      <th>mean</th>\n      <th>min</th>\n      <th>max</th>\n      <th>q05</th>\n      <th>q95</th>\n    </tr>\n    <tr>\n      <th>policy</th>\n      <th></th>\n      <th></th>\n      <th></th>\n      <th></th>\n      <th></th>\n      <th></th>\n      <th></th>\n      <th></th>\n      <th></th>\n      <th></th>\n      <th></th>\n      <th></th>\n      <th></th>\n      <th></th>\n      <th></th>\n      <th></th>\n      <th></th>\n      <th></th>\n      <th></th>\n      <th></th>\n    </tr>\n  </thead>\n  <tbody>\n    <tr>\n      <th>policy 1</th>\n      <td>3.326075e+08</td>\n      <td>0.0</td>\n      <td>1.744272e+09</td>\n      <td>0.0</td>\n      <td>1.570691e+09</td>\n      <td>0.616094</td>\n      <td>0.0</td>\n      <td>2.817859</td>\n      <td>0.0</td>\n      <td>2.772051</td>\n      <td>0.0</td>\n      <td>0.0</td>\n      <td>0.0</td>\n      <td>0.0</td>\n      <td>0.0</td>\n      <td>0.0</td>\n      <td>0.0</td>\n      <td>0.0</td>\n      <td>0.0</td>\n      <td>0.0</td>\n    </tr>\n    <tr>\n      <th>policy 10</th>\n      <td>2.446031e+08</td>\n      <td>0.0</td>\n      <td>1.641221e+09</td>\n      <td>0.0</td>\n      <td>1.478844e+09</td>\n      <td>0.442882</td>\n      <td>0.0</td>\n      <td>2.527617</td>\n      <td>0.0</td>\n      <td>2.497275</td>\n      <td>30700000.0</td>\n      <td>30700000.0</td>\n      <td>30700000.0</td>\n      <td>30700000.0</td>\n      <td>30700000.0</td>\n      <td>0.0</td>\n      <td>0.0</td>\n      <td>0.0</td>\n      <td>0.0</td>\n      <td>0.0</td>\n    </tr>\n    <tr>\n      <th>policy 11</th>\n      <td>2.446031e+08</td>\n      <td>0.0</td>\n      <td>1.641221e+09</td>\n      <td>0.0</td>\n      <td>1.478844e+09</td>\n      <td>0.442882</td>\n      <td>0.0</td>\n      <td>2.527617</td>\n      <td>0.0</td>\n      <td>2.497275</td>\n      <td>30700000.0</td>\n      <td>30700000.0</td>\n      <td>30700000.0</td>\n      <td>30700000.0</td>\n      <td>30700000.0</td>\n      <td>0.0</td>\n      <td>0.0</td>\n      <td>0.0</td>\n      <td>0.0</td>\n      <td>0.0</td>\n    </tr>\n    <tr>\n      <th>policy 12</th>\n      <td>2.446031e+08</td>\n      <td>0.0</td>\n      <td>1.641221e+09</td>\n      <td>0.0</td>\n      <td>1.478844e+09</td>\n      <td>0.442882</td>\n      <td>0.0</td>\n      <td>2.527617</td>\n      <td>0.0</td>\n      <td>2.497275</td>\n      <td>30700000.0</td>\n      <td>30700000.0</td>\n      <td>30700000.0</td>\n      <td>30700000.0</td>\n      <td>30700000.0</td>\n      <td>0.0</td>\n      <td>0.0</td>\n      <td>0.0</td>\n      <td>0.0</td>\n      <td>0.0</td>\n    </tr>\n    <tr>\n      <th>policy 2</th>\n      <td>4.373169e+08</td>\n      <td>0.0</td>\n      <td>1.746347e+09</td>\n      <td>0.0</td>\n      <td>1.702134e+09</td>\n      <td>0.805723</td>\n      <td>0.0</td>\n      <td>2.833872</td>\n      <td>0.0</td>\n      <td>2.810590</td>\n      <td>0.0</td>\n      <td>0.0</td>\n      <td>0.0</td>\n      <td>0.0</td>\n      <td>0.0</td>\n      <td>0.0</td>\n      <td>0.0</td>\n      <td>0.0</td>\n      <td>0.0</td>\n      <td>0.0</td>\n    </tr>\n    <tr>\n      <th>policy 3</th>\n      <td>4.405365e+08</td>\n      <td>0.0</td>\n      <td>1.746347e+09</td>\n      <td>0.0</td>\n      <td>1.702134e+09</td>\n      <td>0.810759</td>\n      <td>0.0</td>\n      <td>2.833872</td>\n      <td>0.0</td>\n      <td>2.810590</td>\n      <td>0.0</td>\n      <td>0.0</td>\n      <td>0.0</td>\n      <td>0.0</td>\n      <td>0.0</td>\n      <td>0.0</td>\n      <td>0.0</td>\n      <td>0.0</td>\n      <td>0.0</td>\n      <td>0.0</td>\n    </tr>\n    <tr>\n      <th>policy 4</th>\n      <td>4.297020e+08</td>\n      <td>0.0</td>\n      <td>1.746347e+09</td>\n      <td>0.0</td>\n      <td>1.700258e+09</td>\n      <td>0.792352</td>\n      <td>0.0</td>\n      <td>2.826466</td>\n      <td>0.0</td>\n      <td>2.810590</td>\n      <td>84600000.0</td>\n      <td>84600000.0</td>\n      <td>84600000.0</td>\n      <td>84600000.0</td>\n      <td>84600000.0</td>\n      <td>0.0</td>\n      <td>0.0</td>\n      <td>0.0</td>\n      <td>0.0</td>\n      <td>0.0</td>\n    </tr>\n    <tr>\n      <th>policy 5</th>\n      <td>4.297020e+08</td>\n      <td>0.0</td>\n      <td>1.746347e+09</td>\n      <td>0.0</td>\n      <td>1.700258e+09</td>\n      <td>0.792352</td>\n      <td>0.0</td>\n      <td>2.826466</td>\n      <td>0.0</td>\n      <td>2.810590</td>\n      <td>84600000.0</td>\n      <td>84600000.0</td>\n      <td>84600000.0</td>\n      <td>84600000.0</td>\n      <td>84600000.0</td>\n      <td>0.0</td>\n      <td>0.0</td>\n      <td>0.0</td>\n      <td>0.0</td>\n      <td>0.0</td>\n    </tr>\n    <tr>\n      <th>policy 6</th>\n      <td>4.297020e+08</td>\n      <td>0.0</td>\n      <td>1.746347e+09</td>\n      <td>0.0</td>\n      <td>1.700258e+09</td>\n      <td>0.792352</td>\n      <td>0.0</td>\n      <td>2.826466</td>\n      <td>0.0</td>\n      <td>2.810590</td>\n      <td>84600000.0</td>\n      <td>84600000.0</td>\n      <td>84600000.0</td>\n      <td>84600000.0</td>\n      <td>84600000.0</td>\n      <td>0.0</td>\n      <td>0.0</td>\n      <td>0.0</td>\n      <td>0.0</td>\n      <td>0.0</td>\n    </tr>\n    <tr>\n      <th>policy 7</th>\n      <td>4.296421e+08</td>\n      <td>0.0</td>\n      <td>1.746347e+09</td>\n      <td>0.0</td>\n      <td>1.699323e+09</td>\n      <td>0.792167</td>\n      <td>0.0</td>\n      <td>2.823023</td>\n      <td>0.0</td>\n      <td>2.810590</td>\n      <td>217800000.0</td>\n      <td>217800000.0</td>\n      <td>217800000.0</td>\n      <td>217800000.0</td>\n      <td>217800000.0</td>\n      <td>0.0</td>\n      <td>0.0</td>\n      <td>0.0</td>\n      <td>0.0</td>\n      <td>0.0</td>\n    </tr>\n    <tr>\n      <th>policy 8</th>\n      <td>4.296421e+08</td>\n      <td>0.0</td>\n      <td>1.746347e+09</td>\n      <td>0.0</td>\n      <td>1.699323e+09</td>\n      <td>0.792167</td>\n      <td>0.0</td>\n      <td>2.823023</td>\n      <td>0.0</td>\n      <td>2.810590</td>\n      <td>217800000.0</td>\n      <td>217800000.0</td>\n      <td>217800000.0</td>\n      <td>217800000.0</td>\n      <td>217800000.0</td>\n      <td>0.0</td>\n      <td>0.0</td>\n      <td>0.0</td>\n      <td>0.0</td>\n      <td>0.0</td>\n    </tr>\n    <tr>\n      <th>policy 9</th>\n      <td>4.296421e+08</td>\n      <td>0.0</td>\n      <td>1.746347e+09</td>\n      <td>0.0</td>\n      <td>1.699323e+09</td>\n      <td>0.792167</td>\n      <td>0.0</td>\n      <td>2.823023</td>\n      <td>0.0</td>\n      <td>2.810590</td>\n      <td>217800000.0</td>\n      <td>217800000.0</td>\n      <td>217800000.0</td>\n      <td>217800000.0</td>\n      <td>217800000.0</td>\n      <td>0.0</td>\n      <td>0.0</td>\n      <td>0.0</td>\n      <td>0.0</td>\n      <td>0.0</td>\n    </tr>\n  </tbody>\n</table>\n</div>"
     },
     "execution_count": 12,
     "metadata": {},
     "output_type": "execute_result"
    }
   ],
   "source": [
    "group_df = df.groupby(by=\"policy\")\n",
    "agg_par = [\"mean\", \"min\", \"max\", q05, q95]\n",
    "agg_dict = {\n",
    "    \"A.3 Total Costs\": agg_par,\n",
    "    \"A.3_Expected Number of Deaths\": agg_par,\n",
    "    \"RfR Total Costs\": agg_par,\n",
    "    \"Expected Evacuation Costs\": agg_par,\n",
    "}\n",
    "TCA_df = group_df.agg(agg_dict)\n",
    "TCA_df"
   ],
   "metadata": {
    "collapsed": false,
    "pycharm": {
     "name": "#%%\n"
    }
   }
  },
  {
   "cell_type": "code",
   "execution_count": 13,
   "outputs": [],
   "source": [
    "TCA_df.to_csv(\"results/TCA3_results.csv\")"
   ],
   "metadata": {
    "collapsed": false,
    "pycharm": {
     "name": "#%%\n"
    }
   }
  }
 ],
 "metadata": {
  "interpreter": {
   "hash": "6fd914e18bfa8d7647c3cf90e7a007e50e832e4a27cecf06ee50e35679d106a4"
  },
  "kernelspec": {
   "display_name": "Python 3.8.8 ('base')",
   "language": "python",
   "name": "python3"
  },
  "language_info": {
   "codemirror_mode": {
    "name": "ipython",
    "version": 3
   },
   "file_extension": ".py",
   "mimetype": "text/x-python",
   "name": "python",
   "nbconvert_exporter": "python",
   "pygments_lexer": "ipython3",
   "version": "3.8.8"
  }
 },
 "nbformat": 4,
 "nbformat_minor": 4
}