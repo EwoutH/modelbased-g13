{
 "cells": [
  {
   "cell_type": "markdown",
   "source": [
    "## Policy measures analysis\n",
    "In this notebook multiple policies can be tested, based on a chosen problem formulations. The effects on deaths and costs are summerized at the end of the notebook."
   ],
   "metadata": {
    "collapsed": false,
    "pycharm": {
     "name": "#%% md\n"
    }
   }
  },
  {
   "cell_type": "markdown",
   "source": [
    "### Imports\n",
    "Import packages and load model parameters (uncertainties, levers, etc.)"
   ],
   "metadata": {
    "collapsed": false,
    "pycharm": {
     "name": "#%% md\n"
    }
   }
  },
  {
   "cell_type": "code",
   "execution_count": 1,
   "outputs": [],
   "source": [
    "import numpy as np\n",
    "import scipy as sp\n",
    "import pandas as pd\n",
    "import matplotlib.pyplot as plt\n",
    "import seaborn as sns\n",
    "import networkx as nx\n",
    "import pickle"
   ],
   "metadata": {
    "collapsed": false,
    "pycharm": {
     "name": "#%%\n"
    }
   }
  },
  {
   "cell_type": "code",
   "execution_count": 2,
   "outputs": [
    {
     "name": "stdout",
     "output_type": "stream",
     "text": [
      "1.4.2\n",
      "2.8.2\n"
     ]
    }
   ],
   "source": [
    "# make sure pandas is version 1.0 or higher\n",
    "# make sure networkx is verion 2.4 or higher\n",
    "print(pd.__version__)\n",
    "print(nx.__version__)"
   ],
   "metadata": {
    "collapsed": false,
    "pycharm": {
     "name": "#%%\n"
    }
   }
  },
  {
   "cell_type": "code",
   "execution_count": 3,
   "outputs": [],
   "source": [
    "from ema_workbench import (\n",
    "    Model,\n",
    "    Policy,\n",
    "    ema_logging,\n",
    "    SequentialEvaluator,\n",
    "    MultiprocessingEvaluator,\n",
    ")\n",
    "from dike_model_function import DikeNetwork  # @UnresolvedImport\n",
    "from problem_formulation import get_model_for_problem_formulation\n",
    "\n",
    "\n",
    "def sum_over(*args):\n",
    "    return sum(args)"
   ],
   "metadata": {
    "collapsed": false,
    "pycharm": {
     "name": "#%%\n"
    }
   }
  },
  {
   "cell_type": "code",
   "execution_count": 4,
   "outputs": [
    {
     "data": {
      "text/plain": "<Logger EMA (DEBUG)>"
     },
     "execution_count": 4,
     "metadata": {},
     "output_type": "execute_result"
    }
   ],
   "source": [
    "# Enable logging\n",
    "ema_logging.log_to_stderr(ema_logging.INFO)"
   ],
   "metadata": {
    "collapsed": false,
    "pycharm": {
     "name": "#%%\n"
    }
   }
  },
  {
   "cell_type": "markdown",
   "source": [
    "**Problem formulation**\n",
    "Important cell below, here you can choose the problem formulation number, between 0-5\n",
    "each problem formulation has its own list of outcomes"
   ],
   "metadata": {
    "collapsed": false,
    "pycharm": {
     "name": "#%% md\n"
    }
   }
  },
  {
   "cell_type": "code",
   "execution_count": 5,
   "outputs": [],
   "source": [
    "used_problem_formulation = 3\n",
    "\n",
    "dike_model, planning_steps = get_model_for_problem_formulation(used_problem_formulation)"
   ],
   "metadata": {
    "collapsed": false,
    "pycharm": {
     "name": "#%%\n"
    }
   }
  },
  {
   "cell_type": "code",
   "execution_count": 6,
   "outputs": [
    {
     "name": "stdout",
     "output_type": "stream",
     "text": [
      "CategoricalParameter('discount rate 0', [0, 1, 2, 3])\n",
      "CategoricalParameter('discount rate 1', [0, 1, 2, 3])\n",
      "CategoricalParameter('discount rate 2', [0, 1, 2, 3])\n",
      "<ema_workbench.em_framework.parameters.IntegerParameter object at 0x000001D4CA5F3FD0>\n",
      "<ema_workbench.em_framework.parameters.RealParameter object at 0x000001D4CA5F33A0>\n",
      "<ema_workbench.em_framework.parameters.RealParameter object at 0x000001D4CA5FBC40>\n",
      "CategoricalParameter('A.1_Brate', [0, 1, 2])\n",
      "<ema_workbench.em_framework.parameters.RealParameter object at 0x000001D4CA5E25E0>\n",
      "<ema_workbench.em_framework.parameters.RealParameter object at 0x000001D4CA5F66A0>\n",
      "CategoricalParameter('A.2_Brate', [0, 1, 2])\n",
      "<ema_workbench.em_framework.parameters.RealParameter object at 0x000001D4CA5F6640>\n",
      "<ema_workbench.em_framework.parameters.RealParameter object at 0x000001D4CA5FB610>\n",
      "CategoricalParameter('A.3_Brate', [0, 1, 2])\n",
      "<ema_workbench.em_framework.parameters.RealParameter object at 0x000001D4CA607A60>\n",
      "<ema_workbench.em_framework.parameters.RealParameter object at 0x000001D4CA602220>\n",
      "CategoricalParameter('A.4_Brate', [0, 1, 2])\n",
      "<ema_workbench.em_framework.parameters.RealParameter object at 0x000001D4CA60C1C0>\n",
      "<ema_workbench.em_framework.parameters.RealParameter object at 0x000001D4CA602A60>\n",
      "CategoricalParameter('A.5_Brate', [0, 1, 2])\n"
     ]
    }
   ],
   "source": [
    "# enlisting uncertainties, their types (RealParameter/IntegerParameter/CategoricalParameter), lower boundary, and upper boundary\n",
    "import copy\n",
    "\n",
    "for unc in dike_model.uncertainties:\n",
    "    print(repr(unc))\n",
    "\n",
    "uncertainties = copy.deepcopy(dike_model.uncertainties)"
   ],
   "metadata": {
    "collapsed": false,
    "pycharm": {
     "name": "#%%\n"
    }
   }
  },
  {
   "cell_type": "code",
   "execution_count": 7,
   "outputs": [
    {
     "name": "stdout",
     "output_type": "stream",
     "text": [
      "<ema_workbench.em_framework.parameters.IntegerParameter object at 0x000001D4CA4DDAF0>\n",
      "<ema_workbench.em_framework.parameters.IntegerParameter object at 0x000001D4CA5F3BE0>\n",
      "<ema_workbench.em_framework.parameters.IntegerParameter object at 0x000001D4CA4FA340>\n",
      "<ema_workbench.em_framework.parameters.IntegerParameter object at 0x000001D4CA5F3910>\n",
      "<ema_workbench.em_framework.parameters.IntegerParameter object at 0x000001D4CA4EEFD0>\n",
      "<ema_workbench.em_framework.parameters.IntegerParameter object at 0x000001D4CA5E20A0>\n",
      "<ema_workbench.em_framework.parameters.IntegerParameter object at 0x000001D4CA4EE610>\n",
      "<ema_workbench.em_framework.parameters.IntegerParameter object at 0x000001D4CA5E2760>\n",
      "<ema_workbench.em_framework.parameters.IntegerParameter object at 0x000001D4CA4EE1F0>\n",
      "<ema_workbench.em_framework.parameters.IntegerParameter object at 0x000001D4CA5E2340>\n",
      "<ema_workbench.em_framework.parameters.IntegerParameter object at 0x000001D4CA4EEA60>\n",
      "<ema_workbench.em_framework.parameters.IntegerParameter object at 0x000001D4CA54BE80>\n",
      "<ema_workbench.em_framework.parameters.IntegerParameter object at 0x000001D4CA54C760>\n",
      "<ema_workbench.em_framework.parameters.IntegerParameter object at 0x000001D4CA5FB220>\n",
      "<ema_workbench.em_framework.parameters.IntegerParameter object at 0x000001D4CA54CFA0>\n",
      "<ema_workbench.em_framework.parameters.IntegerParameter object at 0x000001D4CA4DD9D0>\n",
      "<ema_workbench.em_framework.parameters.IntegerParameter object at 0x000001D4CA5F64C0>\n",
      "<ema_workbench.em_framework.parameters.IntegerParameter object at 0x000001D4CA5E2A90>\n",
      "<ema_workbench.em_framework.parameters.IntegerParameter object at 0x000001D4CA5F6730>\n",
      "<ema_workbench.em_framework.parameters.IntegerParameter object at 0x000001D4CA5F6670>\n",
      "<ema_workbench.em_framework.parameters.IntegerParameter object at 0x000001D4CA5E4DF0>\n",
      "<ema_workbench.em_framework.parameters.IntegerParameter object at 0x000001D4CA5F6520>\n",
      "<ema_workbench.em_framework.parameters.IntegerParameter object at 0x000001D4CA5E44C0>\n",
      "<ema_workbench.em_framework.parameters.IntegerParameter object at 0x000001D4CA607D90>\n",
      "<ema_workbench.em_framework.parameters.IntegerParameter object at 0x000001D4CA6020A0>\n",
      "<ema_workbench.em_framework.parameters.IntegerParameter object at 0x000001D4CA6028E0>\n",
      "<ema_workbench.em_framework.parameters.IntegerParameter object at 0x000001D4CA60C0A0>\n",
      "<ema_workbench.em_framework.parameters.IntegerParameter object at 0x000001D4CA6029D0>\n",
      "<ema_workbench.em_framework.parameters.IntegerParameter object at 0x000001D4CA5E4C40>\n",
      "<ema_workbench.em_framework.parameters.IntegerParameter object at 0x000001D4CA615250>\n",
      "<ema_workbench.em_framework.parameters.IntegerParameter object at 0x000001D4CA5E4BE0>\n"
     ]
    }
   ],
   "source": [
    "# enlisting policy levers, their types (RealParameter/IntegerParameter), lower boundary, and upper boundary\n",
    "for policy in dike_model.levers:\n",
    "    print(repr(policy))\n",
    "\n",
    "levers = copy.deepcopy(dike_model.levers)"
   ],
   "metadata": {
    "collapsed": false,
    "pycharm": {
     "name": "#%%\n"
    }
   }
  },
  {
   "cell_type": "code",
   "execution_count": 8,
   "outputs": [
    {
     "name": "stdout",
     "output_type": "stream",
     "text": [
      "ScalarOutcome('A.1 Total Costs', variable_name=('A.1_Expected Annual Damage 0', 'A.1_Expected Annual Damage 1', 'A.1_Expected Annual Damage 2', 'A.1_Dike Investment Costs 0', 'A.1_Dike Investment Costs 1', 'A.1_Dike Investment Costs 2'), function=<function sum_over at 0x000001D4C9C0E5E0>)\n",
      "ScalarOutcome('A.1_Expected Number of Deaths', variable_name=('A.1_Expected Number of Deaths 0', 'A.1_Expected Number of Deaths 1', 'A.1_Expected Number of Deaths 2'), function=<function sum_over at 0x000001D4C9C0E5E0>)\n",
      "ScalarOutcome('A.2 Total Costs', variable_name=('A.2_Expected Annual Damage 0', 'A.2_Expected Annual Damage 1', 'A.2_Expected Annual Damage 2', 'A.2_Dike Investment Costs 0', 'A.2_Dike Investment Costs 1', 'A.2_Dike Investment Costs 2'), function=<function sum_over at 0x000001D4C9C0E5E0>)\n",
      "ScalarOutcome('A.2_Expected Number of Deaths', variable_name=('A.2_Expected Number of Deaths 0', 'A.2_Expected Number of Deaths 1', 'A.2_Expected Number of Deaths 2'), function=<function sum_over at 0x000001D4C9C0E5E0>)\n",
      "ScalarOutcome('A.3 Total Costs', variable_name=('A.3_Expected Annual Damage 0', 'A.3_Expected Annual Damage 1', 'A.3_Expected Annual Damage 2', 'A.3_Dike Investment Costs 0', 'A.3_Dike Investment Costs 1', 'A.3_Dike Investment Costs 2'), function=<function sum_over at 0x000001D4C9C0E5E0>)\n",
      "ScalarOutcome('A.3_Expected Number of Deaths', variable_name=('A.3_Expected Number of Deaths 0', 'A.3_Expected Number of Deaths 1', 'A.3_Expected Number of Deaths 2'), function=<function sum_over at 0x000001D4C9C0E5E0>)\n",
      "ScalarOutcome('A.4 Total Costs', variable_name=('A.4_Expected Annual Damage 0', 'A.4_Expected Annual Damage 1', 'A.4_Expected Annual Damage 2', 'A.4_Dike Investment Costs 0', 'A.4_Dike Investment Costs 1', 'A.4_Dike Investment Costs 2'), function=<function sum_over at 0x000001D4C9C0E5E0>)\n",
      "ScalarOutcome('A.4_Expected Number of Deaths', variable_name=('A.4_Expected Number of Deaths 0', 'A.4_Expected Number of Deaths 1', 'A.4_Expected Number of Deaths 2'), function=<function sum_over at 0x000001D4C9C0E5E0>)\n",
      "ScalarOutcome('A.5 Total Costs', variable_name=('A.5_Expected Annual Damage 0', 'A.5_Expected Annual Damage 1', 'A.5_Expected Annual Damage 2', 'A.5_Dike Investment Costs 0', 'A.5_Dike Investment Costs 1', 'A.5_Dike Investment Costs 2'), function=<function sum_over at 0x000001D4C9C0E5E0>)\n",
      "ScalarOutcome('A.5_Expected Number of Deaths', variable_name=('A.5_Expected Number of Deaths 0', 'A.5_Expected Number of Deaths 1', 'A.5_Expected Number of Deaths 2'), function=<function sum_over at 0x000001D4C9C0E5E0>)\n",
      "ScalarOutcome('RfR Total Costs', variable_name=('RfR Total Costs 0', 'RfR Total Costs 1', 'RfR Total Costs 2'), function=<function sum_over at 0x000001D4C9C0E5E0>)\n",
      "ScalarOutcome('Expected Evacuation Costs', variable_name=('Expected Evacuation Costs 0', 'Expected Evacuation Costs 1', 'Expected Evacuation Costs 2'), function=<function sum_over at 0x000001D4C9C0E5E0>)\n"
     ]
    }
   ],
   "source": [
    "# enlisting outcomes\n",
    "for outcome in dike_model.outcomes:\n",
    "    print(repr(outcome))"
   ],
   "metadata": {
    "collapsed": false,
    "pycharm": {
     "name": "#%%\n"
    }
   }
  },
  {
   "cell_type": "markdown",
   "source": [
    "### Policy formulations\n",
    "In the following cells the wanted policies can be adjusted"
   ],
   "metadata": {
    "collapsed": false,
    "pycharm": {
     "name": "#%% md\n"
    }
   }
  },
  {
   "cell_type": "code",
   "execution_count": 9,
   "outputs": [],
   "source": [
    "# Create a function which sets everything to 0 by default\n",
    "def get_0_dict():\n",
    "    return {l.name: 0 for l in dike_model.levers}\n",
    "\n",
    "# Creates a Policy object from a dict and a (optional) name\n",
    "def create_policy(dict1, name=None):\n",
    "    return Policy(f\"Policy_{name}\", **dict(get_0_dict(), **dict1))"
   ],
   "metadata": {
    "collapsed": false,
    "pycharm": {
     "name": "#%%\n"
    }
   }
  },
  {
   "cell_type": "markdown",
   "source": [
    "In the following policies formulations:\n",
    "- `RfR` says if the Room for River projects are enabled (projects `0` to `5`). The first number indicated the project, the second (after `RfR`) if in which time step the measure it taken (currently `0` to `2`). The value can be either `0` (not enabled) or `1` (enabled).\n",
    "- `A.1` to `A.5` are the different dikes. `A.3` is the dike ring around Zutphen. The number after `DikeIncrease` is again the timestep, the value assigned to the thing the heightening in decimeters.\n",
    "- Early Warning Systems can also be enabled, with `EWS_DaysToThreat`, which specifies the early warning time in days.\n",
    "\n",
    "See the implementation in problem_formulation.py (starting from line 35) for more details."
   ],
   "metadata": {
    "collapsed": false,
    "pycharm": {
     "name": "#%% md\n"
    }
   }
  },
  {
   "cell_type": "code",
   "execution_count": 10,
   "outputs": [],
   "source": [
    "pol_list = []\n",
    "pol_list.append(create_policy({}, name=\"Zero\"))\n",
    "\n",
    "for meter in [5, 10]:\n",
    "    pol_list.append(create_policy({\"A.3_DikeIncrease 0\": meter}, name=f\"Dike_A.3_{meter}\"))\n",
    "    \n",
    "for location in [2, 3, 4]:\n",
    "    for ews_days in [0, 4]:\n",
    "        pol_list.append(create_policy({f\"{location}_RfR 0\": 1, \"EWS_DaysToThreat\": ews_days}, name=f\"RfR_{location}_EWS_{ews_days}_days\"))\n"
   ],
   "metadata": {
    "collapsed": false,
    "pycharm": {
     "name": "#%%\n"
    }
   }
  },
  {
   "cell_type": "markdown",
   "source": [
    "### Run the model (or load the data)\n",
    "In the next cell the model is ran (if `use_pickle1 = False`) and the new results data is saved, or, if `use_pickle1 = True`, the saved results data is loaded."
   ],
   "metadata": {
    "collapsed": false,
    "pycharm": {
     "name": "#%% md\n"
    }
   }
  },
  {
   "cell_type": "code",
   "execution_count": 11,
   "outputs": [
    {
     "name": "stderr",
     "output_type": "stream",
     "text": [
      "[MainProcess/INFO] pool started with 7 workers\n",
      "[MainProcess/INFO] performing 5 scenarios * 9 policies * 1 model(s) = 45 experiments\n",
      "100%|██████████████████████████████████████████| 45/45 [00:49<00:00,  1.11s/it]\n",
      "[MainProcess/INFO] experiments finished\n",
      "[MainProcess/INFO] terminating pool\n"
     ]
    }
   ],
   "source": [
    "# True, use results in pickle file; False, run MultiprocessingEvaluator\n",
    "use_pickle1 = False\n",
    "\n",
    "if use_pickle1:\n",
    "    with open('data/formulation_results.pickle', 'rb') as filehandler:\n",
    "        results = pickle.load(filehandler)\n",
    "\n",
    "else:\n",
    "    # pass the policies list to EMA workbench experiment runs\n",
    "    n_scenarios = 5\n",
    "    with MultiprocessingEvaluator(dike_model, n_processes=7) as evaluator:\n",
    "        results = evaluator.perform_experiments(n_scenarios, pol_list)\n",
    "\n",
    "    # Save results in Pickle file\n",
    "    with open('data/formulation_results.pickle', 'wb') as filehandler:\n",
    "        pickle.dump(results, filehandler)"
   ],
   "metadata": {
    "collapsed": false,
    "pycharm": {
     "name": "#%%\n"
    }
   }
  },
  {
   "cell_type": "markdown",
   "source": [
    "### Process the results\n",
    "In this section a dataframe is generated with all the outcomes data, and aggegrated to mean, min, max and quantiles values for each policy."
   ],
   "metadata": {
    "collapsed": false,
    "pycharm": {
     "name": "#%% md\n"
    }
   }
  },
  {
   "cell_type": "code",
   "execution_count": 12,
   "outputs": [
    {
     "data": {
      "text/plain": "    A.1 Total Costs  A.1_Expected Number of Deaths  A.2 Total Costs  \\\n0      9.927341e+07                       0.071198     3.885037e+07   \n1      0.000000e+00                       0.000000     7.087811e+08   \n2      1.993515e+09                       1.469681     0.000000e+00   \n3      0.000000e+00                       0.000000     6.829223e+06   \n4      2.106635e+09                       1.472499     0.000000e+00   \n5      9.927341e+07                       0.071198     3.885037e+07   \n6      0.000000e+00                       0.000000     7.087811e+08   \n7      1.993515e+09                       1.469681     0.000000e+00   \n8      0.000000e+00                       0.000000     6.829223e+06   \n9      2.106635e+09                       1.472499     0.000000e+00   \n10     9.927341e+07                       0.071198     3.885037e+07   \n11     0.000000e+00                       0.000000     7.087811e+08   \n12     1.993515e+09                       1.469681     0.000000e+00   \n13     0.000000e+00                       0.000000     6.829223e+06   \n14     2.106635e+09                       1.472499     0.000000e+00   \n15     9.927341e+07                       0.071198     2.885736e+07   \n16     0.000000e+00                       0.000000     6.831195e+08   \n17     1.993515e+09                       1.469681     0.000000e+00   \n18     0.000000e+00                       0.000000     1.965687e+06   \n19     2.106635e+09                       1.472499     0.000000e+00   \n20     9.927341e+07                       0.008544     2.885736e+07   \n21     0.000000e+00                       0.000000     6.831195e+08   \n22     1.993515e+09                       0.176362     0.000000e+00   \n23     0.000000e+00                       0.000000     1.965687e+06   \n24     2.106635e+09                       0.176700     0.000000e+00   \n25     9.927341e+07                       0.071198     3.864847e+07   \n26     0.000000e+00                       0.000000     6.981488e+08   \n27     1.993515e+09                       1.469681     0.000000e+00   \n28     0.000000e+00                       0.000000     1.980546e+06   \n29     2.106635e+09                       1.472499     0.000000e+00   \n30     9.927341e+07                       0.008544     3.864847e+07   \n31     0.000000e+00                       0.000000     6.981488e+08   \n32     1.993515e+09                       0.176362     0.000000e+00   \n33     0.000000e+00                       0.000000     1.980546e+06   \n34     2.106635e+09                       0.176700     0.000000e+00   \n35     9.927341e+07                       0.071198     3.885037e+07   \n36     0.000000e+00                       0.000000     7.087811e+08   \n37     1.993515e+09                       1.469681     0.000000e+00   \n38     0.000000e+00                       0.000000     6.829223e+06   \n39     2.106635e+09                       1.472499     0.000000e+00   \n40     9.927341e+07                       0.008544     3.885037e+07   \n41     0.000000e+00                       0.000000     7.087811e+08   \n42     1.993515e+09                       0.176362     0.000000e+00   \n43     0.000000e+00                       0.000000     6.829223e+06   \n44     2.106635e+09                       0.176700     0.000000e+00   \n\n    A.2_Expected Number of Deaths  A.3 Total Costs  \\\n0                        0.037368     1.979117e+08   \n1                        0.672294     0.000000e+00   \n2                        0.000000     0.000000e+00   \n3                        0.007001     1.517690e+09   \n4                        0.000000     0.000000e+00   \n5                        0.037368     2.879840e+07   \n6                        0.672294     2.879840e+07   \n7                        0.000000     2.879840e+07   \n8                        0.007001     8.343347e+07   \n9                        0.000000     2.879840e+07   \n10                       0.037368     4.421502e+07   \n11                       0.672294     4.421502e+07   \n12                       0.000000     4.421502e+07   \n13                       0.007001     4.421502e+07   \n14                       0.000000     4.421502e+07   \n15                       0.027555     6.885085e+07   \n16                       0.636604     0.000000e+00   \n17                       0.000000     0.000000e+00   \n18                       0.002011     1.434966e+09   \n19                       0.000000     0.000000e+00   \n20                       0.003307     6.885085e+07   \n21                       0.076392     0.000000e+00   \n22                       0.000000     0.000000e+00   \n23                       0.000241     1.434966e+09   \n24                       0.000000     0.000000e+00   \n25                       0.036988     9.774883e+07   \n26                       0.657489     0.000000e+00   \n27                       0.000000     0.000000e+00   \n28                       0.002040     1.478223e+09   \n29                       0.000000     0.000000e+00   \n30                       0.004439     9.774883e+07   \n31                       0.078899     0.000000e+00   \n32                       0.000000     0.000000e+00   \n33                       0.000245     1.478223e+09   \n34                       0.000000     0.000000e+00   \n35                       0.037368     1.702283e+08   \n36                       0.672294     0.000000e+00   \n37                       0.000000     0.000000e+00   \n38                       0.007001     1.507968e+09   \n39                       0.000000     0.000000e+00   \n40                       0.004484     1.702283e+08   \n41                       0.080675     0.000000e+00   \n42                       0.000000     0.000000e+00   \n43                       0.000840     1.507968e+09   \n44                       0.000000     0.000000e+00   \n\n    A.3_Expected Number of Deaths  A.4 Total Costs  \\\n0                        0.354365     8.857264e+07   \n1                        0.000000     0.000000e+00   \n2                        0.000000     0.000000e+00   \n3                        2.664630     0.000000e+00   \n4                        0.000000     0.000000e+00   \n5                        0.000000     8.988583e+07   \n6                        0.000000     0.000000e+00   \n7                        0.000000     0.000000e+00   \n8                        0.103713     5.729706e+05   \n9                        0.000000     0.000000e+00   \n10                       0.000000     8.988583e+07   \n11                       0.000000     0.000000e+00   \n12                       0.000000     0.000000e+00   \n13                       0.000000     1.841625e+06   \n14                       0.000000     0.000000e+00   \n15                       0.123781     9.049103e+07   \n16                       0.000000     0.000000e+00   \n17                       0.000000     0.000000e+00   \n18                       2.444351     0.000000e+00   \n19                       0.000000     0.000000e+00   \n20                       0.014854     9.049103e+07   \n21                       0.000000     0.000000e+00   \n22                       0.000000     0.000000e+00   \n23                       0.293322     0.000000e+00   \n24                       0.000000     0.000000e+00   \n25                       0.175855     7.196872e+07   \n26                       0.000000     0.000000e+00   \n27                       0.000000     0.000000e+00   \n28                       2.559542     0.000000e+00   \n29                       0.000000     0.000000e+00   \n30                       0.021103     7.196872e+07   \n31                       0.000000     0.000000e+00   \n32                       0.000000     0.000000e+00   \n33                       0.307145     0.000000e+00   \n34                       0.000000     0.000000e+00   \n35                       0.304875     7.255146e+07   \n36                       0.000000     0.000000e+00   \n37                       0.000000     0.000000e+00   \n38                       2.638704     0.000000e+00   \n39                       0.000000     0.000000e+00   \n40                       0.036585     7.255146e+07   \n41                       0.000000     0.000000e+00   \n42                       0.000000     0.000000e+00   \n43                       0.316645     0.000000e+00   \n44                       0.000000     0.000000e+00   \n\n    A.4_Expected Number of Deaths  A.5 Total Costs  \\\n0                        0.039899     8.715384e+08   \n1                        0.000000     0.000000e+00   \n2                        0.000000     0.000000e+00   \n3                        0.000000     0.000000e+00   \n4                        0.000000     0.000000e+00   \n5                        0.040961     8.715384e+08   \n6                        0.000000     0.000000e+00   \n7                        0.000000     0.000000e+00   \n8                        0.000334     1.194263e+08   \n9                        0.000000     0.000000e+00   \n10                       0.040961     8.715384e+08   \n11                       0.000000     0.000000e+00   \n12                       0.000000     0.000000e+00   \n13                       0.001079     1.257163e+08   \n14                       0.000000     0.000000e+00   \n15                       0.041499     8.715384e+08   \n16                       0.000000     0.000000e+00   \n17                       0.000000     0.000000e+00   \n18                       0.000000     0.000000e+00   \n19                       0.000000     0.000000e+00   \n20                       0.004980     8.715384e+08   \n21                       0.000000     0.000000e+00   \n22                       0.000000     0.000000e+00   \n23                       0.000000     0.000000e+00   \n24                       0.000000     0.000000e+00   \n25                       0.032067     7.417981e+08   \n26                       0.000000     0.000000e+00   \n27                       0.000000     0.000000e+00   \n28                       0.000000     0.000000e+00   \n29                       0.000000     0.000000e+00   \n30                       0.003848     7.417981e+08   \n31                       0.000000     0.000000e+00   \n32                       0.000000     0.000000e+00   \n33                       0.000000     0.000000e+00   \n34                       0.000000     0.000000e+00   \n35                       0.032314     9.091390e+08   \n36                       0.000000     0.000000e+00   \n37                       0.000000     0.000000e+00   \n38                       0.000000     0.000000e+00   \n39                       0.000000     0.000000e+00   \n40                       0.003878     9.091390e+08   \n41                       0.000000     0.000000e+00   \n42                       0.000000     0.000000e+00   \n43                       0.000000     0.000000e+00   \n44                       0.000000     0.000000e+00   \n\n    A.5_Expected Number of Deaths  RfR Total Costs  Expected Evacuation Costs  \\\n0                        0.737811              0.0                   0.000000   \n1                        0.000000              0.0                   0.000000   \n2                        0.000000              0.0                   0.000000   \n3                        0.000000              0.0                   0.000000   \n4                        0.000000              0.0                   0.000000   \n5                        0.737811              0.0                   0.000000   \n6                        0.000000              0.0                   0.000000   \n7                        0.000000              0.0                   0.000000   \n8                        0.113250              0.0                   0.000000   \n9                        0.000000              0.0                   0.000000   \n10                       0.737811              0.0                   0.000000   \n11                       0.000000              0.0                   0.000000   \n12                       0.000000              0.0                   0.000000   \n13                       0.119707              0.0                   0.000000   \n14                       0.000000              0.0                   0.000000   \n15                       0.737811       30700000.0                   0.000000   \n16                       0.000000       30700000.0                   0.000000   \n17                       0.000000       30700000.0                   0.000000   \n18                       0.000000       30700000.0                   0.000000   \n19                       0.000000       30700000.0                   0.000000   \n20                       0.088537       30700000.0               87694.387000   \n21                       0.000000       30700000.0               50209.690270   \n22                       0.000000       30700000.0               28437.150364   \n23                       0.000000       30700000.0               88813.042972   \n24                       0.000000       30700000.0               28471.096432   \n25                       0.610256      121200000.0                   0.000000   \n26                       0.000000      121200000.0                   0.000000   \n27                       0.000000      121200000.0                   0.000000   \n28                       0.000000      121200000.0                   0.000000   \n29                       0.000000      121200000.0                   0.000000   \n30                       0.073231      121200000.0               79865.755783   \n31                       0.000000      121200000.0               51035.356314   \n32                       0.000000      121200000.0               28437.150364   \n33                       0.000000      121200000.0               89443.839748   \n34                       0.000000      121200000.0               28471.096432   \n35                       0.774778      256100000.0                   0.000000   \n36                       0.000000      256100000.0                   0.000000   \n37                       0.000000      256100000.0                   0.000000   \n38                       0.000000      256100000.0                   0.000000   \n39                       0.000000      256100000.0                   0.000000   \n40                       0.092973      256100000.0               94659.647728   \n41                       0.000000      256100000.0               51619.199483   \n42                       0.000000      256100000.0               28437.150364   \n43                       0.000000      256100000.0               90194.877400   \n44                       0.000000      256100000.0               28471.096432   \n\n                     policy  \n0               Policy_Zero  \n1               Policy_Zero  \n2               Policy_Zero  \n3               Policy_Zero  \n4               Policy_Zero  \n5         Policy_Dike_A.3_5  \n6         Policy_Dike_A.3_5  \n7         Policy_Dike_A.3_5  \n8         Policy_Dike_A.3_5  \n9         Policy_Dike_A.3_5  \n10       Policy_Dike_A.3_10  \n11       Policy_Dike_A.3_10  \n12       Policy_Dike_A.3_10  \n13       Policy_Dike_A.3_10  \n14       Policy_Dike_A.3_10  \n15  Policy_RfR_2_EWS_0_days  \n16  Policy_RfR_2_EWS_0_days  \n17  Policy_RfR_2_EWS_0_days  \n18  Policy_RfR_2_EWS_0_days  \n19  Policy_RfR_2_EWS_0_days  \n20  Policy_RfR_2_EWS_4_days  \n21  Policy_RfR_2_EWS_4_days  \n22  Policy_RfR_2_EWS_4_days  \n23  Policy_RfR_2_EWS_4_days  \n24  Policy_RfR_2_EWS_4_days  \n25  Policy_RfR_3_EWS_0_days  \n26  Policy_RfR_3_EWS_0_days  \n27  Policy_RfR_3_EWS_0_days  \n28  Policy_RfR_3_EWS_0_days  \n29  Policy_RfR_3_EWS_0_days  \n30  Policy_RfR_3_EWS_4_days  \n31  Policy_RfR_3_EWS_4_days  \n32  Policy_RfR_3_EWS_4_days  \n33  Policy_RfR_3_EWS_4_days  \n34  Policy_RfR_3_EWS_4_days  \n35  Policy_RfR_4_EWS_0_days  \n36  Policy_RfR_4_EWS_0_days  \n37  Policy_RfR_4_EWS_0_days  \n38  Policy_RfR_4_EWS_0_days  \n39  Policy_RfR_4_EWS_0_days  \n40  Policy_RfR_4_EWS_4_days  \n41  Policy_RfR_4_EWS_4_days  \n42  Policy_RfR_4_EWS_4_days  \n43  Policy_RfR_4_EWS_4_days  \n44  Policy_RfR_4_EWS_4_days  ",
      "text/html": "<div>\n<style scoped>\n    .dataframe tbody tr th:only-of-type {\n        vertical-align: middle;\n    }\n\n    .dataframe tbody tr th {\n        vertical-align: top;\n    }\n\n    .dataframe thead th {\n        text-align: right;\n    }\n</style>\n<table border=\"1\" class=\"dataframe\">\n  <thead>\n    <tr style=\"text-align: right;\">\n      <th></th>\n      <th>A.1 Total Costs</th>\n      <th>A.1_Expected Number of Deaths</th>\n      <th>A.2 Total Costs</th>\n      <th>A.2_Expected Number of Deaths</th>\n      <th>A.3 Total Costs</th>\n      <th>A.3_Expected Number of Deaths</th>\n      <th>A.4 Total Costs</th>\n      <th>A.4_Expected Number of Deaths</th>\n      <th>A.5 Total Costs</th>\n      <th>A.5_Expected Number of Deaths</th>\n      <th>RfR Total Costs</th>\n      <th>Expected Evacuation Costs</th>\n      <th>policy</th>\n    </tr>\n  </thead>\n  <tbody>\n    <tr>\n      <th>0</th>\n      <td>9.927341e+07</td>\n      <td>0.071198</td>\n      <td>3.885037e+07</td>\n      <td>0.037368</td>\n      <td>1.979117e+08</td>\n      <td>0.354365</td>\n      <td>8.857264e+07</td>\n      <td>0.039899</td>\n      <td>8.715384e+08</td>\n      <td>0.737811</td>\n      <td>0.0</td>\n      <td>0.000000</td>\n      <td>Policy_Zero</td>\n    </tr>\n    <tr>\n      <th>1</th>\n      <td>0.000000e+00</td>\n      <td>0.000000</td>\n      <td>7.087811e+08</td>\n      <td>0.672294</td>\n      <td>0.000000e+00</td>\n      <td>0.000000</td>\n      <td>0.000000e+00</td>\n      <td>0.000000</td>\n      <td>0.000000e+00</td>\n      <td>0.000000</td>\n      <td>0.0</td>\n      <td>0.000000</td>\n      <td>Policy_Zero</td>\n    </tr>\n    <tr>\n      <th>2</th>\n      <td>1.993515e+09</td>\n      <td>1.469681</td>\n      <td>0.000000e+00</td>\n      <td>0.000000</td>\n      <td>0.000000e+00</td>\n      <td>0.000000</td>\n      <td>0.000000e+00</td>\n      <td>0.000000</td>\n      <td>0.000000e+00</td>\n      <td>0.000000</td>\n      <td>0.0</td>\n      <td>0.000000</td>\n      <td>Policy_Zero</td>\n    </tr>\n    <tr>\n      <th>3</th>\n      <td>0.000000e+00</td>\n      <td>0.000000</td>\n      <td>6.829223e+06</td>\n      <td>0.007001</td>\n      <td>1.517690e+09</td>\n      <td>2.664630</td>\n      <td>0.000000e+00</td>\n      <td>0.000000</td>\n      <td>0.000000e+00</td>\n      <td>0.000000</td>\n      <td>0.0</td>\n      <td>0.000000</td>\n      <td>Policy_Zero</td>\n    </tr>\n    <tr>\n      <th>4</th>\n      <td>2.106635e+09</td>\n      <td>1.472499</td>\n      <td>0.000000e+00</td>\n      <td>0.000000</td>\n      <td>0.000000e+00</td>\n      <td>0.000000</td>\n      <td>0.000000e+00</td>\n      <td>0.000000</td>\n      <td>0.000000e+00</td>\n      <td>0.000000</td>\n      <td>0.0</td>\n      <td>0.000000</td>\n      <td>Policy_Zero</td>\n    </tr>\n    <tr>\n      <th>5</th>\n      <td>9.927341e+07</td>\n      <td>0.071198</td>\n      <td>3.885037e+07</td>\n      <td>0.037368</td>\n      <td>2.879840e+07</td>\n      <td>0.000000</td>\n      <td>8.988583e+07</td>\n      <td>0.040961</td>\n      <td>8.715384e+08</td>\n      <td>0.737811</td>\n      <td>0.0</td>\n      <td>0.000000</td>\n      <td>Policy_Dike_A.3_5</td>\n    </tr>\n    <tr>\n      <th>6</th>\n      <td>0.000000e+00</td>\n      <td>0.000000</td>\n      <td>7.087811e+08</td>\n      <td>0.672294</td>\n      <td>2.879840e+07</td>\n      <td>0.000000</td>\n      <td>0.000000e+00</td>\n      <td>0.000000</td>\n      <td>0.000000e+00</td>\n      <td>0.000000</td>\n      <td>0.0</td>\n      <td>0.000000</td>\n      <td>Policy_Dike_A.3_5</td>\n    </tr>\n    <tr>\n      <th>7</th>\n      <td>1.993515e+09</td>\n      <td>1.469681</td>\n      <td>0.000000e+00</td>\n      <td>0.000000</td>\n      <td>2.879840e+07</td>\n      <td>0.000000</td>\n      <td>0.000000e+00</td>\n      <td>0.000000</td>\n      <td>0.000000e+00</td>\n      <td>0.000000</td>\n      <td>0.0</td>\n      <td>0.000000</td>\n      <td>Policy_Dike_A.3_5</td>\n    </tr>\n    <tr>\n      <th>8</th>\n      <td>0.000000e+00</td>\n      <td>0.000000</td>\n      <td>6.829223e+06</td>\n      <td>0.007001</td>\n      <td>8.343347e+07</td>\n      <td>0.103713</td>\n      <td>5.729706e+05</td>\n      <td>0.000334</td>\n      <td>1.194263e+08</td>\n      <td>0.113250</td>\n      <td>0.0</td>\n      <td>0.000000</td>\n      <td>Policy_Dike_A.3_5</td>\n    </tr>\n    <tr>\n      <th>9</th>\n      <td>2.106635e+09</td>\n      <td>1.472499</td>\n      <td>0.000000e+00</td>\n      <td>0.000000</td>\n      <td>2.879840e+07</td>\n      <td>0.000000</td>\n      <td>0.000000e+00</td>\n      <td>0.000000</td>\n      <td>0.000000e+00</td>\n      <td>0.000000</td>\n      <td>0.0</td>\n      <td>0.000000</td>\n      <td>Policy_Dike_A.3_5</td>\n    </tr>\n    <tr>\n      <th>10</th>\n      <td>9.927341e+07</td>\n      <td>0.071198</td>\n      <td>3.885037e+07</td>\n      <td>0.037368</td>\n      <td>4.421502e+07</td>\n      <td>0.000000</td>\n      <td>8.988583e+07</td>\n      <td>0.040961</td>\n      <td>8.715384e+08</td>\n      <td>0.737811</td>\n      <td>0.0</td>\n      <td>0.000000</td>\n      <td>Policy_Dike_A.3_10</td>\n    </tr>\n    <tr>\n      <th>11</th>\n      <td>0.000000e+00</td>\n      <td>0.000000</td>\n      <td>7.087811e+08</td>\n      <td>0.672294</td>\n      <td>4.421502e+07</td>\n      <td>0.000000</td>\n      <td>0.000000e+00</td>\n      <td>0.000000</td>\n      <td>0.000000e+00</td>\n      <td>0.000000</td>\n      <td>0.0</td>\n      <td>0.000000</td>\n      <td>Policy_Dike_A.3_10</td>\n    </tr>\n    <tr>\n      <th>12</th>\n      <td>1.993515e+09</td>\n      <td>1.469681</td>\n      <td>0.000000e+00</td>\n      <td>0.000000</td>\n      <td>4.421502e+07</td>\n      <td>0.000000</td>\n      <td>0.000000e+00</td>\n      <td>0.000000</td>\n      <td>0.000000e+00</td>\n      <td>0.000000</td>\n      <td>0.0</td>\n      <td>0.000000</td>\n      <td>Policy_Dike_A.3_10</td>\n    </tr>\n    <tr>\n      <th>13</th>\n      <td>0.000000e+00</td>\n      <td>0.000000</td>\n      <td>6.829223e+06</td>\n      <td>0.007001</td>\n      <td>4.421502e+07</td>\n      <td>0.000000</td>\n      <td>1.841625e+06</td>\n      <td>0.001079</td>\n      <td>1.257163e+08</td>\n      <td>0.119707</td>\n      <td>0.0</td>\n      <td>0.000000</td>\n      <td>Policy_Dike_A.3_10</td>\n    </tr>\n    <tr>\n      <th>14</th>\n      <td>2.106635e+09</td>\n      <td>1.472499</td>\n      <td>0.000000e+00</td>\n      <td>0.000000</td>\n      <td>4.421502e+07</td>\n      <td>0.000000</td>\n      <td>0.000000e+00</td>\n      <td>0.000000</td>\n      <td>0.000000e+00</td>\n      <td>0.000000</td>\n      <td>0.0</td>\n      <td>0.000000</td>\n      <td>Policy_Dike_A.3_10</td>\n    </tr>\n    <tr>\n      <th>15</th>\n      <td>9.927341e+07</td>\n      <td>0.071198</td>\n      <td>2.885736e+07</td>\n      <td>0.027555</td>\n      <td>6.885085e+07</td>\n      <td>0.123781</td>\n      <td>9.049103e+07</td>\n      <td>0.041499</td>\n      <td>8.715384e+08</td>\n      <td>0.737811</td>\n      <td>30700000.0</td>\n      <td>0.000000</td>\n      <td>Policy_RfR_2_EWS_0_days</td>\n    </tr>\n    <tr>\n      <th>16</th>\n      <td>0.000000e+00</td>\n      <td>0.000000</td>\n      <td>6.831195e+08</td>\n      <td>0.636604</td>\n      <td>0.000000e+00</td>\n      <td>0.000000</td>\n      <td>0.000000e+00</td>\n      <td>0.000000</td>\n      <td>0.000000e+00</td>\n      <td>0.000000</td>\n      <td>30700000.0</td>\n      <td>0.000000</td>\n      <td>Policy_RfR_2_EWS_0_days</td>\n    </tr>\n    <tr>\n      <th>17</th>\n      <td>1.993515e+09</td>\n      <td>1.469681</td>\n      <td>0.000000e+00</td>\n      <td>0.000000</td>\n      <td>0.000000e+00</td>\n      <td>0.000000</td>\n      <td>0.000000e+00</td>\n      <td>0.000000</td>\n      <td>0.000000e+00</td>\n      <td>0.000000</td>\n      <td>30700000.0</td>\n      <td>0.000000</td>\n      <td>Policy_RfR_2_EWS_0_days</td>\n    </tr>\n    <tr>\n      <th>18</th>\n      <td>0.000000e+00</td>\n      <td>0.000000</td>\n      <td>1.965687e+06</td>\n      <td>0.002011</td>\n      <td>1.434966e+09</td>\n      <td>2.444351</td>\n      <td>0.000000e+00</td>\n      <td>0.000000</td>\n      <td>0.000000e+00</td>\n      <td>0.000000</td>\n      <td>30700000.0</td>\n      <td>0.000000</td>\n      <td>Policy_RfR_2_EWS_0_days</td>\n    </tr>\n    <tr>\n      <th>19</th>\n      <td>2.106635e+09</td>\n      <td>1.472499</td>\n      <td>0.000000e+00</td>\n      <td>0.000000</td>\n      <td>0.000000e+00</td>\n      <td>0.000000</td>\n      <td>0.000000e+00</td>\n      <td>0.000000</td>\n      <td>0.000000e+00</td>\n      <td>0.000000</td>\n      <td>30700000.0</td>\n      <td>0.000000</td>\n      <td>Policy_RfR_2_EWS_0_days</td>\n    </tr>\n    <tr>\n      <th>20</th>\n      <td>9.927341e+07</td>\n      <td>0.008544</td>\n      <td>2.885736e+07</td>\n      <td>0.003307</td>\n      <td>6.885085e+07</td>\n      <td>0.014854</td>\n      <td>9.049103e+07</td>\n      <td>0.004980</td>\n      <td>8.715384e+08</td>\n      <td>0.088537</td>\n      <td>30700000.0</td>\n      <td>87694.387000</td>\n      <td>Policy_RfR_2_EWS_4_days</td>\n    </tr>\n    <tr>\n      <th>21</th>\n      <td>0.000000e+00</td>\n      <td>0.000000</td>\n      <td>6.831195e+08</td>\n      <td>0.076392</td>\n      <td>0.000000e+00</td>\n      <td>0.000000</td>\n      <td>0.000000e+00</td>\n      <td>0.000000</td>\n      <td>0.000000e+00</td>\n      <td>0.000000</td>\n      <td>30700000.0</td>\n      <td>50209.690270</td>\n      <td>Policy_RfR_2_EWS_4_days</td>\n    </tr>\n    <tr>\n      <th>22</th>\n      <td>1.993515e+09</td>\n      <td>0.176362</td>\n      <td>0.000000e+00</td>\n      <td>0.000000</td>\n      <td>0.000000e+00</td>\n      <td>0.000000</td>\n      <td>0.000000e+00</td>\n      <td>0.000000</td>\n      <td>0.000000e+00</td>\n      <td>0.000000</td>\n      <td>30700000.0</td>\n      <td>28437.150364</td>\n      <td>Policy_RfR_2_EWS_4_days</td>\n    </tr>\n    <tr>\n      <th>23</th>\n      <td>0.000000e+00</td>\n      <td>0.000000</td>\n      <td>1.965687e+06</td>\n      <td>0.000241</td>\n      <td>1.434966e+09</td>\n      <td>0.293322</td>\n      <td>0.000000e+00</td>\n      <td>0.000000</td>\n      <td>0.000000e+00</td>\n      <td>0.000000</td>\n      <td>30700000.0</td>\n      <td>88813.042972</td>\n      <td>Policy_RfR_2_EWS_4_days</td>\n    </tr>\n    <tr>\n      <th>24</th>\n      <td>2.106635e+09</td>\n      <td>0.176700</td>\n      <td>0.000000e+00</td>\n      <td>0.000000</td>\n      <td>0.000000e+00</td>\n      <td>0.000000</td>\n      <td>0.000000e+00</td>\n      <td>0.000000</td>\n      <td>0.000000e+00</td>\n      <td>0.000000</td>\n      <td>30700000.0</td>\n      <td>28471.096432</td>\n      <td>Policy_RfR_2_EWS_4_days</td>\n    </tr>\n    <tr>\n      <th>25</th>\n      <td>9.927341e+07</td>\n      <td>0.071198</td>\n      <td>3.864847e+07</td>\n      <td>0.036988</td>\n      <td>9.774883e+07</td>\n      <td>0.175855</td>\n      <td>7.196872e+07</td>\n      <td>0.032067</td>\n      <td>7.417981e+08</td>\n      <td>0.610256</td>\n      <td>121200000.0</td>\n      <td>0.000000</td>\n      <td>Policy_RfR_3_EWS_0_days</td>\n    </tr>\n    <tr>\n      <th>26</th>\n      <td>0.000000e+00</td>\n      <td>0.000000</td>\n      <td>6.981488e+08</td>\n      <td>0.657489</td>\n      <td>0.000000e+00</td>\n      <td>0.000000</td>\n      <td>0.000000e+00</td>\n      <td>0.000000</td>\n      <td>0.000000e+00</td>\n      <td>0.000000</td>\n      <td>121200000.0</td>\n      <td>0.000000</td>\n      <td>Policy_RfR_3_EWS_0_days</td>\n    </tr>\n    <tr>\n      <th>27</th>\n      <td>1.993515e+09</td>\n      <td>1.469681</td>\n      <td>0.000000e+00</td>\n      <td>0.000000</td>\n      <td>0.000000e+00</td>\n      <td>0.000000</td>\n      <td>0.000000e+00</td>\n      <td>0.000000</td>\n      <td>0.000000e+00</td>\n      <td>0.000000</td>\n      <td>121200000.0</td>\n      <td>0.000000</td>\n      <td>Policy_RfR_3_EWS_0_days</td>\n    </tr>\n    <tr>\n      <th>28</th>\n      <td>0.000000e+00</td>\n      <td>0.000000</td>\n      <td>1.980546e+06</td>\n      <td>0.002040</td>\n      <td>1.478223e+09</td>\n      <td>2.559542</td>\n      <td>0.000000e+00</td>\n      <td>0.000000</td>\n      <td>0.000000e+00</td>\n      <td>0.000000</td>\n      <td>121200000.0</td>\n      <td>0.000000</td>\n      <td>Policy_RfR_3_EWS_0_days</td>\n    </tr>\n    <tr>\n      <th>29</th>\n      <td>2.106635e+09</td>\n      <td>1.472499</td>\n      <td>0.000000e+00</td>\n      <td>0.000000</td>\n      <td>0.000000e+00</td>\n      <td>0.000000</td>\n      <td>0.000000e+00</td>\n      <td>0.000000</td>\n      <td>0.000000e+00</td>\n      <td>0.000000</td>\n      <td>121200000.0</td>\n      <td>0.000000</td>\n      <td>Policy_RfR_3_EWS_0_days</td>\n    </tr>\n    <tr>\n      <th>30</th>\n      <td>9.927341e+07</td>\n      <td>0.008544</td>\n      <td>3.864847e+07</td>\n      <td>0.004439</td>\n      <td>9.774883e+07</td>\n      <td>0.021103</td>\n      <td>7.196872e+07</td>\n      <td>0.003848</td>\n      <td>7.417981e+08</td>\n      <td>0.073231</td>\n      <td>121200000.0</td>\n      <td>79865.755783</td>\n      <td>Policy_RfR_3_EWS_4_days</td>\n    </tr>\n    <tr>\n      <th>31</th>\n      <td>0.000000e+00</td>\n      <td>0.000000</td>\n      <td>6.981488e+08</td>\n      <td>0.078899</td>\n      <td>0.000000e+00</td>\n      <td>0.000000</td>\n      <td>0.000000e+00</td>\n      <td>0.000000</td>\n      <td>0.000000e+00</td>\n      <td>0.000000</td>\n      <td>121200000.0</td>\n      <td>51035.356314</td>\n      <td>Policy_RfR_3_EWS_4_days</td>\n    </tr>\n    <tr>\n      <th>32</th>\n      <td>1.993515e+09</td>\n      <td>0.176362</td>\n      <td>0.000000e+00</td>\n      <td>0.000000</td>\n      <td>0.000000e+00</td>\n      <td>0.000000</td>\n      <td>0.000000e+00</td>\n      <td>0.000000</td>\n      <td>0.000000e+00</td>\n      <td>0.000000</td>\n      <td>121200000.0</td>\n      <td>28437.150364</td>\n      <td>Policy_RfR_3_EWS_4_days</td>\n    </tr>\n    <tr>\n      <th>33</th>\n      <td>0.000000e+00</td>\n      <td>0.000000</td>\n      <td>1.980546e+06</td>\n      <td>0.000245</td>\n      <td>1.478223e+09</td>\n      <td>0.307145</td>\n      <td>0.000000e+00</td>\n      <td>0.000000</td>\n      <td>0.000000e+00</td>\n      <td>0.000000</td>\n      <td>121200000.0</td>\n      <td>89443.839748</td>\n      <td>Policy_RfR_3_EWS_4_days</td>\n    </tr>\n    <tr>\n      <th>34</th>\n      <td>2.106635e+09</td>\n      <td>0.176700</td>\n      <td>0.000000e+00</td>\n      <td>0.000000</td>\n      <td>0.000000e+00</td>\n      <td>0.000000</td>\n      <td>0.000000e+00</td>\n      <td>0.000000</td>\n      <td>0.000000e+00</td>\n      <td>0.000000</td>\n      <td>121200000.0</td>\n      <td>28471.096432</td>\n      <td>Policy_RfR_3_EWS_4_days</td>\n    </tr>\n    <tr>\n      <th>35</th>\n      <td>9.927341e+07</td>\n      <td>0.071198</td>\n      <td>3.885037e+07</td>\n      <td>0.037368</td>\n      <td>1.702283e+08</td>\n      <td>0.304875</td>\n      <td>7.255146e+07</td>\n      <td>0.032314</td>\n      <td>9.091390e+08</td>\n      <td>0.774778</td>\n      <td>256100000.0</td>\n      <td>0.000000</td>\n      <td>Policy_RfR_4_EWS_0_days</td>\n    </tr>\n    <tr>\n      <th>36</th>\n      <td>0.000000e+00</td>\n      <td>0.000000</td>\n      <td>7.087811e+08</td>\n      <td>0.672294</td>\n      <td>0.000000e+00</td>\n      <td>0.000000</td>\n      <td>0.000000e+00</td>\n      <td>0.000000</td>\n      <td>0.000000e+00</td>\n      <td>0.000000</td>\n      <td>256100000.0</td>\n      <td>0.000000</td>\n      <td>Policy_RfR_4_EWS_0_days</td>\n    </tr>\n    <tr>\n      <th>37</th>\n      <td>1.993515e+09</td>\n      <td>1.469681</td>\n      <td>0.000000e+00</td>\n      <td>0.000000</td>\n      <td>0.000000e+00</td>\n      <td>0.000000</td>\n      <td>0.000000e+00</td>\n      <td>0.000000</td>\n      <td>0.000000e+00</td>\n      <td>0.000000</td>\n      <td>256100000.0</td>\n      <td>0.000000</td>\n      <td>Policy_RfR_4_EWS_0_days</td>\n    </tr>\n    <tr>\n      <th>38</th>\n      <td>0.000000e+00</td>\n      <td>0.000000</td>\n      <td>6.829223e+06</td>\n      <td>0.007001</td>\n      <td>1.507968e+09</td>\n      <td>2.638704</td>\n      <td>0.000000e+00</td>\n      <td>0.000000</td>\n      <td>0.000000e+00</td>\n      <td>0.000000</td>\n      <td>256100000.0</td>\n      <td>0.000000</td>\n      <td>Policy_RfR_4_EWS_0_days</td>\n    </tr>\n    <tr>\n      <th>39</th>\n      <td>2.106635e+09</td>\n      <td>1.472499</td>\n      <td>0.000000e+00</td>\n      <td>0.000000</td>\n      <td>0.000000e+00</td>\n      <td>0.000000</td>\n      <td>0.000000e+00</td>\n      <td>0.000000</td>\n      <td>0.000000e+00</td>\n      <td>0.000000</td>\n      <td>256100000.0</td>\n      <td>0.000000</td>\n      <td>Policy_RfR_4_EWS_0_days</td>\n    </tr>\n    <tr>\n      <th>40</th>\n      <td>9.927341e+07</td>\n      <td>0.008544</td>\n      <td>3.885037e+07</td>\n      <td>0.004484</td>\n      <td>1.702283e+08</td>\n      <td>0.036585</td>\n      <td>7.255146e+07</td>\n      <td>0.003878</td>\n      <td>9.091390e+08</td>\n      <td>0.092973</td>\n      <td>256100000.0</td>\n      <td>94659.647728</td>\n      <td>Policy_RfR_4_EWS_4_days</td>\n    </tr>\n    <tr>\n      <th>41</th>\n      <td>0.000000e+00</td>\n      <td>0.000000</td>\n      <td>7.087811e+08</td>\n      <td>0.080675</td>\n      <td>0.000000e+00</td>\n      <td>0.000000</td>\n      <td>0.000000e+00</td>\n      <td>0.000000</td>\n      <td>0.000000e+00</td>\n      <td>0.000000</td>\n      <td>256100000.0</td>\n      <td>51619.199483</td>\n      <td>Policy_RfR_4_EWS_4_days</td>\n    </tr>\n    <tr>\n      <th>42</th>\n      <td>1.993515e+09</td>\n      <td>0.176362</td>\n      <td>0.000000e+00</td>\n      <td>0.000000</td>\n      <td>0.000000e+00</td>\n      <td>0.000000</td>\n      <td>0.000000e+00</td>\n      <td>0.000000</td>\n      <td>0.000000e+00</td>\n      <td>0.000000</td>\n      <td>256100000.0</td>\n      <td>28437.150364</td>\n      <td>Policy_RfR_4_EWS_4_days</td>\n    </tr>\n    <tr>\n      <th>43</th>\n      <td>0.000000e+00</td>\n      <td>0.000000</td>\n      <td>6.829223e+06</td>\n      <td>0.000840</td>\n      <td>1.507968e+09</td>\n      <td>0.316645</td>\n      <td>0.000000e+00</td>\n      <td>0.000000</td>\n      <td>0.000000e+00</td>\n      <td>0.000000</td>\n      <td>256100000.0</td>\n      <td>90194.877400</td>\n      <td>Policy_RfR_4_EWS_4_days</td>\n    </tr>\n    <tr>\n      <th>44</th>\n      <td>2.106635e+09</td>\n      <td>0.176700</td>\n      <td>0.000000e+00</td>\n      <td>0.000000</td>\n      <td>0.000000e+00</td>\n      <td>0.000000</td>\n      <td>0.000000e+00</td>\n      <td>0.000000</td>\n      <td>0.000000e+00</td>\n      <td>0.000000</td>\n      <td>256100000.0</td>\n      <td>28471.096432</td>\n      <td>Policy_RfR_4_EWS_4_days</td>\n    </tr>\n  </tbody>\n</table>\n</div>"
     },
     "execution_count": 12,
     "metadata": {},
     "output_type": "execute_result"
    }
   ],
   "source": [
    "# Create a dataframe from outcomes, and add the policy column to it\n",
    "exp, out = results\n",
    "df = pd.DataFrame(out)\n",
    "df[\"policy\"] = pd.DataFrame(exp)[\"policy\"]\n",
    "df"
   ],
   "metadata": {
    "collapsed": false,
    "pycharm": {
     "name": "#%%\n"
    }
   }
  },
  {
   "cell_type": "code",
   "execution_count": 13,
   "outputs": [],
   "source": [
    "# Define two functions to get the 5th and 95th quantiles\n",
    "def q05(x):\n",
    "    return x.quantile(0.05)\n",
    "\n",
    "def q95(x):\n",
    "    return x.quantile(0.95)"
   ],
   "metadata": {
    "collapsed": false,
    "pycharm": {
     "name": "#%%\n"
    }
   }
  },
  {
   "cell_type": "code",
   "execution_count": 14,
   "outputs": [
    {
     "data": {
      "text/plain": "                        A.3 Total Costs                              \\\n                                   mean           min           max   \npolicy                                                                \nPolicy_Dike_A.3_10         4.421502e+07  4.421502e+07  4.421502e+07   \nPolicy_Dike_A.3_5          3.972541e+07  2.879840e+07  8.343347e+07   \nPolicy_RfR_2_EWS_0_days    3.007634e+08  0.000000e+00  1.434966e+09   \nPolicy_RfR_2_EWS_4_days    3.007634e+08  0.000000e+00  1.434966e+09   \nPolicy_RfR_3_EWS_0_days    3.151944e+08  0.000000e+00  1.478223e+09   \nPolicy_RfR_3_EWS_4_days    3.151944e+08  0.000000e+00  1.478223e+09   \nPolicy_RfR_4_EWS_0_days    3.356393e+08  0.000000e+00  1.507968e+09   \nPolicy_RfR_4_EWS_4_days    3.356393e+08  0.000000e+00  1.507968e+09   \nPolicy_Zero                3.431203e+08  0.000000e+00  1.517690e+09   \n\n                                                     \\\n                                  q05           q95   \npolicy                                                \nPolicy_Dike_A.3_10       4.421502e+07  4.421502e+07   \nPolicy_Dike_A.3_5        2.879840e+07  7.250646e+07   \nPolicy_RfR_2_EWS_0_days  0.000000e+00  1.161743e+09   \nPolicy_RfR_2_EWS_4_days  0.000000e+00  1.161743e+09   \nPolicy_RfR_3_EWS_0_days  0.000000e+00  1.202128e+09   \nPolicy_RfR_3_EWS_4_days  0.000000e+00  1.202128e+09   \nPolicy_RfR_4_EWS_0_days  0.000000e+00  1.240420e+09   \nPolicy_RfR_4_EWS_4_days  0.000000e+00  1.240420e+09   \nPolicy_Zero              0.000000e+00  1.253734e+09   \n\n                        A.3_Expected Number of Deaths                      \\\n                                                 mean  min       max  q05   \npolicy                                                                      \nPolicy_Dike_A.3_10                           0.000000  0.0  0.000000  0.0   \nPolicy_Dike_A.3_5                            0.020743  0.0  0.103713  0.0   \nPolicy_RfR_2_EWS_0_days                      0.513626  0.0  2.444351  0.0   \nPolicy_RfR_2_EWS_4_days                      0.061635  0.0  0.293322  0.0   \nPolicy_RfR_3_EWS_0_days                      0.547079  0.0  2.559542  0.0   \nPolicy_RfR_3_EWS_4_days                      0.065650  0.0  0.307145  0.0   \nPolicy_RfR_4_EWS_0_days                      0.588716  0.0  2.638704  0.0   \nPolicy_RfR_4_EWS_4_days                      0.070646  0.0  0.316645  0.0   \nPolicy_Zero                                  0.603799  0.0  2.664630  0.0   \n\n                                  RfR Total Costs                            \\\n                              q95            mean          min          max   \npolicy                                                                        \nPolicy_Dike_A.3_10       0.000000             0.0          0.0          0.0   \nPolicy_Dike_A.3_5        0.082970             0.0          0.0          0.0   \nPolicy_RfR_2_EWS_0_days  1.980237      30700000.0   30700000.0   30700000.0   \nPolicy_RfR_2_EWS_4_days  0.237628      30700000.0   30700000.0   30700000.0   \nPolicy_RfR_3_EWS_0_days  2.082804     121200000.0  121200000.0  121200000.0   \nPolicy_RfR_3_EWS_4_days  0.249937     121200000.0  121200000.0  121200000.0   \nPolicy_RfR_4_EWS_0_days  2.171938     256100000.0  256100000.0  256100000.0   \nPolicy_RfR_4_EWS_4_days  0.260633     256100000.0  256100000.0  256100000.0   \nPolicy_Zero              2.202577             0.0          0.0          0.0   \n\n                                                  Expected Evacuation Costs  \\\n                                 q05          q95                      mean   \npolicy                                                                        \nPolicy_Dike_A.3_10               0.0          0.0                  0.000000   \nPolicy_Dike_A.3_5                0.0          0.0                  0.000000   \nPolicy_RfR_2_EWS_0_days   30700000.0   30700000.0                  0.000000   \nPolicy_RfR_2_EWS_4_days   30700000.0   30700000.0              56725.073408   \nPolicy_RfR_3_EWS_0_days  121200000.0  121200000.0                  0.000000   \nPolicy_RfR_3_EWS_4_days  121200000.0  121200000.0              55450.639728   \nPolicy_RfR_4_EWS_0_days  256100000.0  256100000.0                  0.000000   \nPolicy_RfR_4_EWS_4_days  256100000.0  256100000.0              58676.394282   \nPolicy_Zero                      0.0          0.0                  0.000000   \n\n                                                                   \\\n                                  min           max           q05   \npolicy                                                              \nPolicy_Dike_A.3_10           0.000000      0.000000      0.000000   \nPolicy_Dike_A.3_5            0.000000      0.000000      0.000000   \nPolicy_RfR_2_EWS_0_days      0.000000      0.000000      0.000000   \nPolicy_RfR_2_EWS_4_days  28437.150364  88813.042972  28443.939577   \nPolicy_RfR_3_EWS_0_days      0.000000      0.000000      0.000000   \nPolicy_RfR_3_EWS_4_days  28437.150364  89443.839748  28443.939577   \nPolicy_RfR_4_EWS_0_days      0.000000      0.000000      0.000000   \nPolicy_RfR_4_EWS_4_days  28437.150364  94659.647728  28443.939577   \nPolicy_Zero                  0.000000      0.000000      0.000000   \n\n                                       \n                                  q95  \npolicy                                 \nPolicy_Dike_A.3_10           0.000000  \nPolicy_Dike_A.3_5            0.000000  \nPolicy_RfR_2_EWS_0_days      0.000000  \nPolicy_RfR_2_EWS_4_days  88589.311778  \nPolicy_RfR_3_EWS_0_days      0.000000  \nPolicy_RfR_3_EWS_4_days  87528.222955  \nPolicy_RfR_4_EWS_0_days      0.000000  \nPolicy_RfR_4_EWS_4_days  93766.693663  \nPolicy_Zero                  0.000000  ",
      "text/html": "<div>\n<style scoped>\n    .dataframe tbody tr th:only-of-type {\n        vertical-align: middle;\n    }\n\n    .dataframe tbody tr th {\n        vertical-align: top;\n    }\n\n    .dataframe thead tr th {\n        text-align: left;\n    }\n\n    .dataframe thead tr:last-of-type th {\n        text-align: right;\n    }\n</style>\n<table border=\"1\" class=\"dataframe\">\n  <thead>\n    <tr>\n      <th></th>\n      <th colspan=\"5\" halign=\"left\">A.3 Total Costs</th>\n      <th colspan=\"5\" halign=\"left\">A.3_Expected Number of Deaths</th>\n      <th colspan=\"5\" halign=\"left\">RfR Total Costs</th>\n      <th colspan=\"5\" halign=\"left\">Expected Evacuation Costs</th>\n    </tr>\n    <tr>\n      <th></th>\n      <th>mean</th>\n      <th>min</th>\n      <th>max</th>\n      <th>q05</th>\n      <th>q95</th>\n      <th>mean</th>\n      <th>min</th>\n      <th>max</th>\n      <th>q05</th>\n      <th>q95</th>\n      <th>mean</th>\n      <th>min</th>\n      <th>max</th>\n      <th>q05</th>\n      <th>q95</th>\n      <th>mean</th>\n      <th>min</th>\n      <th>max</th>\n      <th>q05</th>\n      <th>q95</th>\n    </tr>\n    <tr>\n      <th>policy</th>\n      <th></th>\n      <th></th>\n      <th></th>\n      <th></th>\n      <th></th>\n      <th></th>\n      <th></th>\n      <th></th>\n      <th></th>\n      <th></th>\n      <th></th>\n      <th></th>\n      <th></th>\n      <th></th>\n      <th></th>\n      <th></th>\n      <th></th>\n      <th></th>\n      <th></th>\n      <th></th>\n    </tr>\n  </thead>\n  <tbody>\n    <tr>\n      <th>Policy_Dike_A.3_10</th>\n      <td>4.421502e+07</td>\n      <td>4.421502e+07</td>\n      <td>4.421502e+07</td>\n      <td>4.421502e+07</td>\n      <td>4.421502e+07</td>\n      <td>0.000000</td>\n      <td>0.0</td>\n      <td>0.000000</td>\n      <td>0.0</td>\n      <td>0.000000</td>\n      <td>0.0</td>\n      <td>0.0</td>\n      <td>0.0</td>\n      <td>0.0</td>\n      <td>0.0</td>\n      <td>0.000000</td>\n      <td>0.000000</td>\n      <td>0.000000</td>\n      <td>0.000000</td>\n      <td>0.000000</td>\n    </tr>\n    <tr>\n      <th>Policy_Dike_A.3_5</th>\n      <td>3.972541e+07</td>\n      <td>2.879840e+07</td>\n      <td>8.343347e+07</td>\n      <td>2.879840e+07</td>\n      <td>7.250646e+07</td>\n      <td>0.020743</td>\n      <td>0.0</td>\n      <td>0.103713</td>\n      <td>0.0</td>\n      <td>0.082970</td>\n      <td>0.0</td>\n      <td>0.0</td>\n      <td>0.0</td>\n      <td>0.0</td>\n      <td>0.0</td>\n      <td>0.000000</td>\n      <td>0.000000</td>\n      <td>0.000000</td>\n      <td>0.000000</td>\n      <td>0.000000</td>\n    </tr>\n    <tr>\n      <th>Policy_RfR_2_EWS_0_days</th>\n      <td>3.007634e+08</td>\n      <td>0.000000e+00</td>\n      <td>1.434966e+09</td>\n      <td>0.000000e+00</td>\n      <td>1.161743e+09</td>\n      <td>0.513626</td>\n      <td>0.0</td>\n      <td>2.444351</td>\n      <td>0.0</td>\n      <td>1.980237</td>\n      <td>30700000.0</td>\n      <td>30700000.0</td>\n      <td>30700000.0</td>\n      <td>30700000.0</td>\n      <td>30700000.0</td>\n      <td>0.000000</td>\n      <td>0.000000</td>\n      <td>0.000000</td>\n      <td>0.000000</td>\n      <td>0.000000</td>\n    </tr>\n    <tr>\n      <th>Policy_RfR_2_EWS_4_days</th>\n      <td>3.007634e+08</td>\n      <td>0.000000e+00</td>\n      <td>1.434966e+09</td>\n      <td>0.000000e+00</td>\n      <td>1.161743e+09</td>\n      <td>0.061635</td>\n      <td>0.0</td>\n      <td>0.293322</td>\n      <td>0.0</td>\n      <td>0.237628</td>\n      <td>30700000.0</td>\n      <td>30700000.0</td>\n      <td>30700000.0</td>\n      <td>30700000.0</td>\n      <td>30700000.0</td>\n      <td>56725.073408</td>\n      <td>28437.150364</td>\n      <td>88813.042972</td>\n      <td>28443.939577</td>\n      <td>88589.311778</td>\n    </tr>\n    <tr>\n      <th>Policy_RfR_3_EWS_0_days</th>\n      <td>3.151944e+08</td>\n      <td>0.000000e+00</td>\n      <td>1.478223e+09</td>\n      <td>0.000000e+00</td>\n      <td>1.202128e+09</td>\n      <td>0.547079</td>\n      <td>0.0</td>\n      <td>2.559542</td>\n      <td>0.0</td>\n      <td>2.082804</td>\n      <td>121200000.0</td>\n      <td>121200000.0</td>\n      <td>121200000.0</td>\n      <td>121200000.0</td>\n      <td>121200000.0</td>\n      <td>0.000000</td>\n      <td>0.000000</td>\n      <td>0.000000</td>\n      <td>0.000000</td>\n      <td>0.000000</td>\n    </tr>\n    <tr>\n      <th>Policy_RfR_3_EWS_4_days</th>\n      <td>3.151944e+08</td>\n      <td>0.000000e+00</td>\n      <td>1.478223e+09</td>\n      <td>0.000000e+00</td>\n      <td>1.202128e+09</td>\n      <td>0.065650</td>\n      <td>0.0</td>\n      <td>0.307145</td>\n      <td>0.0</td>\n      <td>0.249937</td>\n      <td>121200000.0</td>\n      <td>121200000.0</td>\n      <td>121200000.0</td>\n      <td>121200000.0</td>\n      <td>121200000.0</td>\n      <td>55450.639728</td>\n      <td>28437.150364</td>\n      <td>89443.839748</td>\n      <td>28443.939577</td>\n      <td>87528.222955</td>\n    </tr>\n    <tr>\n      <th>Policy_RfR_4_EWS_0_days</th>\n      <td>3.356393e+08</td>\n      <td>0.000000e+00</td>\n      <td>1.507968e+09</td>\n      <td>0.000000e+00</td>\n      <td>1.240420e+09</td>\n      <td>0.588716</td>\n      <td>0.0</td>\n      <td>2.638704</td>\n      <td>0.0</td>\n      <td>2.171938</td>\n      <td>256100000.0</td>\n      <td>256100000.0</td>\n      <td>256100000.0</td>\n      <td>256100000.0</td>\n      <td>256100000.0</td>\n      <td>0.000000</td>\n      <td>0.000000</td>\n      <td>0.000000</td>\n      <td>0.000000</td>\n      <td>0.000000</td>\n    </tr>\n    <tr>\n      <th>Policy_RfR_4_EWS_4_days</th>\n      <td>3.356393e+08</td>\n      <td>0.000000e+00</td>\n      <td>1.507968e+09</td>\n      <td>0.000000e+00</td>\n      <td>1.240420e+09</td>\n      <td>0.070646</td>\n      <td>0.0</td>\n      <td>0.316645</td>\n      <td>0.0</td>\n      <td>0.260633</td>\n      <td>256100000.0</td>\n      <td>256100000.0</td>\n      <td>256100000.0</td>\n      <td>256100000.0</td>\n      <td>256100000.0</td>\n      <td>58676.394282</td>\n      <td>28437.150364</td>\n      <td>94659.647728</td>\n      <td>28443.939577</td>\n      <td>93766.693663</td>\n    </tr>\n    <tr>\n      <th>Policy_Zero</th>\n      <td>3.431203e+08</td>\n      <td>0.000000e+00</td>\n      <td>1.517690e+09</td>\n      <td>0.000000e+00</td>\n      <td>1.253734e+09</td>\n      <td>0.603799</td>\n      <td>0.0</td>\n      <td>2.664630</td>\n      <td>0.0</td>\n      <td>2.202577</td>\n      <td>0.0</td>\n      <td>0.0</td>\n      <td>0.0</td>\n      <td>0.0</td>\n      <td>0.0</td>\n      <td>0.000000</td>\n      <td>0.000000</td>\n      <td>0.000000</td>\n      <td>0.000000</td>\n      <td>0.000000</td>\n    </tr>\n  </tbody>\n</table>\n</div>"
     },
     "execution_count": 14,
     "metadata": {},
     "output_type": "execute_result"
    }
   ],
   "source": [
    "# Create a Pandas GroupBy object\n",
    "group_df = df.groupby(by=\"policy\")\n",
    "\n",
    "# Create a list of statistical functions which are used\n",
    "agg_par = [\"mean\", \"min\", \"max\", q05, q95]\n",
    "\n",
    "# Create a dictionary with what outcome values are aggegrated with which functions\n",
    "agg_dict = {\n",
    "    \"A.3 Total Costs\": agg_par,\n",
    "    \"A.3_Expected Number of Deaths\": agg_par,\n",
    "    \"RfR Total Costs\": agg_par,\n",
    "    \"Expected Evacuation Costs\": agg_par,\n",
    "}\n",
    "# Create new dataframe with the aggegrated data per policy\n",
    "TCA_df = group_df.agg(agg_dict)\n",
    "TCA_df"
   ],
   "metadata": {
    "collapsed": false,
    "pycharm": {
     "name": "#%%\n"
    }
   }
  },
  {
   "cell_type": "markdown",
   "source": [
    "### PLots"
   ],
   "metadata": {
    "collapsed": false,
    "pycharm": {
     "name": "#%% md\n"
    }
   }
  },
  {
   "cell_type": "code",
   "execution_count": 15,
   "outputs": [
    {
     "data": {
      "text/plain": "<AxesSubplot:xlabel='policy'>"
     },
     "execution_count": 15,
     "metadata": {},
     "output_type": "execute_result"
    },
    {
     "data": {
      "text/plain": "<Figure size 432x288 with 1 Axes>",
      "image/png": "[encoded data removed]"
     },
     "metadata": {
      "needs_background": "light"
     },
     "output_type": "display_data"
    }
   ],
   "source": [
    "TCA_df[\"A.3_Expected Number of Deaths\"][\"mean\"].plot.bar()"
   ],
   "metadata": {
    "collapsed": false,
    "pycharm": {
     "name": "#%%\n"
    }
   }
  },
  {
   "cell_type": "code",
   "execution_count": 16,
   "outputs": [
    {
     "data": {
      "text/plain": "<AxesSubplot:xlabel='policy'>"
     },
     "execution_count": 16,
     "metadata": {},
     "output_type": "execute_result"
    },
    {
     "data": {
      "text/plain": "<Figure size 432x288 with 1 Axes>",
      "image/png": "[encoded data removed]"
     },
     "metadata": {
      "needs_background": "light"
     },
     "output_type": "display_data"
    }
   ],
   "source": [
    "TCA_df[\"A.3 Total Costs\"][\"mean\"].plot.bar()"
   ],
   "metadata": {
    "collapsed": false,
    "pycharm": {
     "name": "#%%\n"
    }
   }
  },
  {
   "cell_type": "code",
   "execution_count": 17,
   "outputs": [],
   "source": [
    "# Save the aggegrated data to a CSV file\n",
    "#TCA_df.to_csv(\"results/TCA3_results.csv\")"
   ],
   "metadata": {
    "collapsed": false,
    "pycharm": {
     "name": "#%%\n"
    }
   }
  }
 ],
 "metadata": {
  "interpreter": {
   "hash": "6fd914e18bfa8d7647c3cf90e7a007e50e832e4a27cecf06ee50e35679d106a4"
  },
  "kernelspec": {
   "display_name": "Python 3.8.8 ('base')",
   "language": "python",
   "name": "python3"
  },
  "language_info": {
   "codemirror_mode": {
    "name": "ipython",
    "version": 3
   },
   "file_extension": ".py",
   "mimetype": "text/x-python",
   "name": "python",
   "nbconvert_exporter": "python",
   "pygments_lexer": "ipython3",
   "version": "3.8.8"
  }
 },
 "nbformat": 4,
 "nbformat_minor": 4
}