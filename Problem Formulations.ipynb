{
 "cells": [
  {
   "cell_type": "markdown",
   "source": [],
   "metadata": {
    "collapsed": false,
    "pycharm": {
     "name": "#%% md\n"
    }
   }
  },
  {
   "cell_type": "markdown",
   "source": [
    "### Imports\n",
    "Import packages and load model parameters (uncertainties, levers, etc.)"
   ],
   "metadata": {
    "collapsed": false,
    "pycharm": {
     "name": "#%% md\n"
    }
   }
  },
  {
   "cell_type": "code",
   "execution_count": 1,
   "outputs": [],
   "source": [
    "import numpy as np\n",
    "import scipy as sp\n",
    "import pandas as pd\n",
    "import matplotlib.pyplot as plt\n",
    "import seaborn as sns\n",
    "import networkx as nx\n",
    "import pickle"
   ],
   "metadata": {
    "collapsed": false,
    "pycharm": {
     "name": "#%%\n"
    }
   }
  },
  {
   "cell_type": "code",
   "execution_count": 2,
   "outputs": [
    {
     "name": "stdout",
     "output_type": "stream",
     "text": [
      "1.4.2\n",
      "2.8.2\n"
     ]
    }
   ],
   "source": [
    "# make sure pandas is version 1.0 or higher\n",
    "# make sure networkx is verion 2.4 or higher\n",
    "print(pd.__version__)\n",
    "print(nx.__version__)"
   ],
   "metadata": {
    "collapsed": false,
    "pycharm": {
     "name": "#%%\n"
    }
   }
  },
  {
   "cell_type": "code",
   "execution_count": 3,
   "outputs": [],
   "source": [
    "from ema_workbench import (\n",
    "    Model,\n",
    "    Policy,\n",
    "    ema_logging,\n",
    "    SequentialEvaluator,\n",
    "    MultiprocessingEvaluator,\n",
    ")\n",
    "from dike_model_function import DikeNetwork  # @UnresolvedImport\n",
    "from problem_formulation import get_model_for_problem_formulation\n",
    "\n",
    "\n",
    "def sum_over(*args):\n",
    "    return sum(args)"
   ],
   "metadata": {
    "collapsed": false,
    "pycharm": {
     "name": "#%%\n"
    }
   }
  },
  {
   "cell_type": "code",
   "execution_count": 4,
   "outputs": [
    {
     "data": {
      "text/plain": "<Logger EMA (DEBUG)>"
     },
     "execution_count": 4,
     "metadata": {},
     "output_type": "execute_result"
    }
   ],
   "source": [
    "# Enable logging\n",
    "ema_logging.log_to_stderr(ema_logging.INFO)"
   ],
   "metadata": {
    "collapsed": false,
    "pycharm": {
     "name": "#%%\n"
    }
   }
  },
  {
   "cell_type": "markdown",
   "source": [
    "**Problem formulation**\n",
    "Important cell below, here you can choose the problem formulation number, between 0-5\n",
    "each problem formulation has its own list of outcomes"
   ],
   "metadata": {
    "collapsed": false,
    "pycharm": {
     "name": "#%% md\n"
    }
   }
  },
  {
   "cell_type": "code",
   "execution_count": 5,
   "outputs": [],
   "source": [
    "used_problem_formulation = 2\n",
    "\n",
    "dike_model, planning_steps = get_model_for_problem_formulation(used_problem_formulation)"
   ],
   "metadata": {
    "collapsed": false,
    "pycharm": {
     "name": "#%%\n"
    }
   }
  },
  {
   "cell_type": "code",
   "execution_count": 6,
   "outputs": [
    {
     "name": "stdout",
     "output_type": "stream",
     "text": [
      "CategoricalParameter('discount rate 0', [0, 1, 2, 3])\n",
      "CategoricalParameter('discount rate 1', [0, 1, 2, 3])\n",
      "CategoricalParameter('discount rate 2', [0, 1, 2, 3])\n",
      "<ema_workbench.em_framework.parameters.IntegerParameter object at 0x0000017D07AC1B20>\n",
      "<ema_workbench.em_framework.parameters.RealParameter object at 0x0000017D08A041F0>\n",
      "<ema_workbench.em_framework.parameters.RealParameter object at 0x0000017D089D9580>\n",
      "CategoricalParameter('A.1_Brate', [0, 1, 2])\n",
      "<ema_workbench.em_framework.parameters.RealParameter object at 0x0000017D08A04D00>\n",
      "<ema_workbench.em_framework.parameters.RealParameter object at 0x0000017D08A17520>\n",
      "CategoricalParameter('A.2_Brate', [0, 1, 2])\n",
      "<ema_workbench.em_framework.parameters.RealParameter object at 0x0000017D08A144C0>\n",
      "<ema_workbench.em_framework.parameters.RealParameter object at 0x0000017D08A175E0>\n",
      "CategoricalParameter('A.3_Brate', [0, 1, 2])\n",
      "<ema_workbench.em_framework.parameters.RealParameter object at 0x0000017D08A04AF0>\n",
      "<ema_workbench.em_framework.parameters.RealParameter object at 0x0000017D08A1D820>\n",
      "CategoricalParameter('A.4_Brate', [0, 1, 2])\n",
      "<ema_workbench.em_framework.parameters.RealParameter object at 0x0000017D08924D60>\n",
      "<ema_workbench.em_framework.parameters.RealParameter object at 0x0000017D08A22A60>\n",
      "CategoricalParameter('A.5_Brate', [0, 1, 2])\n"
     ]
    }
   ],
   "source": [
    "# enlisting uncertainties, their types (RealParameter/IntegerParameter/CategoricalParameter), lower boundary, and upper boundary\n",
    "import copy\n",
    "\n",
    "for unc in dike_model.uncertainties:\n",
    "    print(repr(unc))\n",
    "\n",
    "uncertainties = copy.deepcopy(dike_model.uncertainties)"
   ],
   "metadata": {
    "collapsed": false,
    "pycharm": {
     "name": "#%%\n"
    }
   }
  },
  {
   "cell_type": "code",
   "execution_count": 7,
   "outputs": [
    {
     "name": "stdout",
     "output_type": "stream",
     "text": [
      "<ema_workbench.em_framework.parameters.IntegerParameter object at 0x0000017D0898ADC0>\n",
      "<ema_workbench.em_framework.parameters.IntegerParameter object at 0x0000017D0897FEB0>\n",
      "<ema_workbench.em_framework.parameters.IntegerParameter object at 0x0000017D089F30A0>\n",
      "<ema_workbench.em_framework.parameters.IntegerParameter object at 0x0000017D089242B0>\n",
      "<ema_workbench.em_framework.parameters.IntegerParameter object at 0x0000017D089F3310>\n",
      "<ema_workbench.em_framework.parameters.IntegerParameter object at 0x0000017D089243D0>\n",
      "<ema_workbench.em_framework.parameters.IntegerParameter object at 0x0000017D089F3580>\n",
      "<ema_workbench.em_framework.parameters.IntegerParameter object at 0x0000017D08924E20>\n",
      "<ema_workbench.em_framework.parameters.IntegerParameter object at 0x0000017D089F3460>\n",
      "<ema_workbench.em_framework.parameters.IntegerParameter object at 0x0000017D089D90A0>\n",
      "<ema_workbench.em_framework.parameters.IntegerParameter object at 0x0000017D089F3E50>\n",
      "<ema_workbench.em_framework.parameters.IntegerParameter object at 0x0000017D089D9370>\n",
      "<ema_workbench.em_framework.parameters.IntegerParameter object at 0x0000017D08572220>\n",
      "<ema_workbench.em_framework.parameters.IntegerParameter object at 0x0000017D089D9820>\n",
      "<ema_workbench.em_framework.parameters.IntegerParameter object at 0x0000017D089F3820>\n",
      "<ema_workbench.em_framework.parameters.IntegerParameter object at 0x0000017D0897FC10>\n",
      "<ema_workbench.em_framework.parameters.IntegerParameter object at 0x0000017D08924BE0>\n",
      "<ema_workbench.em_framework.parameters.IntegerParameter object at 0x0000017D08A04760>\n",
      "<ema_workbench.em_framework.parameters.IntegerParameter object at 0x0000017D08A171C0>\n",
      "<ema_workbench.em_framework.parameters.IntegerParameter object at 0x0000017D08A17B20>\n",
      "<ema_workbench.em_framework.parameters.IntegerParameter object at 0x0000017D08A141C0>\n",
      "<ema_workbench.em_framework.parameters.IntegerParameter object at 0x0000017D08A17640>\n",
      "<ema_workbench.em_framework.parameters.IntegerParameter object at 0x0000017D08A1D190>\n",
      "<ema_workbench.em_framework.parameters.IntegerParameter object at 0x0000017D08A14BE0>\n",
      "<ema_workbench.em_framework.parameters.IntegerParameter object at 0x0000017D08A1D2E0>\n",
      "<ema_workbench.em_framework.parameters.IntegerParameter object at 0x0000017D08A22430>\n",
      "<ema_workbench.em_framework.parameters.IntegerParameter object at 0x0000017D0898AC40>\n",
      "<ema_workbench.em_framework.parameters.IntegerParameter object at 0x0000017D08A22580>\n",
      "<ema_workbench.em_framework.parameters.IntegerParameter object at 0x0000017D08A22670>\n",
      "<ema_workbench.em_framework.parameters.IntegerParameter object at 0x0000017D089244C0>\n",
      "<ema_workbench.em_framework.parameters.IntegerParameter object at 0x0000017D08A225E0>\n"
     ]
    }
   ],
   "source": [
    "# enlisting policy levers, their types (RealParameter/IntegerParameter), lower boundary, and upper boundary\n",
    "for policy in dike_model.levers:\n",
    "    print(repr(policy))\n",
    "\n",
    "levers = copy.deepcopy(dike_model.levers)"
   ],
   "metadata": {
    "collapsed": false,
    "pycharm": {
     "name": "#%%\n"
    }
   }
  },
  {
   "cell_type": "code",
   "execution_count": 8,
   "outputs": [
    {
     "name": "stdout",
     "output_type": "stream",
     "text": [
      "ScalarOutcome('Expected Annual Damage', variable_name=('A.1_Expected Annual Damage 0', 'A.2_Expected Annual Damage 0', 'A.3_Expected Annual Damage 0', 'A.4_Expected Annual Damage 0', 'A.5_Expected Annual Damage 0', 'A.1_Expected Annual Damage 1', 'A.2_Expected Annual Damage 1', 'A.3_Expected Annual Damage 1', 'A.4_Expected Annual Damage 1', 'A.5_Expected Annual Damage 1', 'A.1_Expected Annual Damage 2', 'A.2_Expected Annual Damage 2', 'A.3_Expected Annual Damage 2', 'A.4_Expected Annual Damage 2', 'A.5_Expected Annual Damage 2'), function=<function sum_over at 0x0000017D07A23E50>)\n",
      "ScalarOutcome('Dike Investment Costs', variable_name=('A.1_Dike Investment Costs 0', 'A.2_Dike Investment Costs 0', 'A.3_Dike Investment Costs 0', 'A.4_Dike Investment Costs 0', 'A.5_Dike Investment Costs 0', 'A.1_Dike Investment Costs 1', 'A.2_Dike Investment Costs 1', 'A.3_Dike Investment Costs 1', 'A.4_Dike Investment Costs 1', 'A.5_Dike Investment Costs 1', 'A.1_Dike Investment Costs 2', 'A.2_Dike Investment Costs 2', 'A.3_Dike Investment Costs 2', 'A.4_Dike Investment Costs 2', 'A.5_Dike Investment Costs 2'), function=<function sum_over at 0x0000017D07A23E50>)\n",
      "ScalarOutcome('RfR Investment Costs', variable_name=('RfR Total Costs 0', 'RfR Total Costs 1', 'RfR Total Costs 2'), function=<function sum_over at 0x0000017D07A23E50>)\n",
      "ScalarOutcome('Evacuation Costs', variable_name=('Expected Evacuation Costs 0', 'Expected Evacuation Costs 1', 'Expected Evacuation Costs 2'), function=<function sum_over at 0x0000017D07A23E50>)\n",
      "ScalarOutcome('Expected Number of Deaths', variable_name=('A.1_Expected Number of Deaths 0', 'A.2_Expected Number of Deaths 0', 'A.3_Expected Number of Deaths 0', 'A.4_Expected Number of Deaths 0', 'A.5_Expected Number of Deaths 0', 'A.1_Expected Number of Deaths 1', 'A.2_Expected Number of Deaths 1', 'A.3_Expected Number of Deaths 1', 'A.4_Expected Number of Deaths 1', 'A.5_Expected Number of Deaths 1', 'A.1_Expected Number of Deaths 2', 'A.2_Expected Number of Deaths 2', 'A.3_Expected Number of Deaths 2', 'A.4_Expected Number of Deaths 2', 'A.5_Expected Number of Deaths 2'), function=<function sum_over at 0x0000017D07A23E50>)\n"
     ]
    }
   ],
   "source": [
    "# enlisting outcomes\n",
    "for outcome in dike_model.outcomes:\n",
    "    print(repr(outcome))"
   ],
   "metadata": {
    "collapsed": false,
    "pycharm": {
     "name": "#%%\n"
    }
   }
  },
  {
   "cell_type": "markdown",
   "source": [
    "### Policy formulations\n",
    "In the following cells the wanted policies can be adjusted"
   ],
   "metadata": {
    "collapsed": false,
    "pycharm": {
     "name": "#%% md\n"
    }
   }
  },
  {
   "cell_type": "code",
   "execution_count": 9,
   "outputs": [],
   "source": [
    "# Create a function which sets everything to 0 by default\n",
    "def get_0_dict():\n",
    "    return {l.name: 0 for l in dike_model.levers}\n",
    "\n",
    "# Creates a Policy object from a dict and a (optional) name\n",
    "def create_policy(dict1, name=None):\n",
    "    return Policy(f\"Policy_{name}\", **dict(get_0_dict(), **dict1))"
   ],
   "metadata": {
    "collapsed": false,
    "pycharm": {
     "name": "#%%\n"
    }
   }
  },
  {
   "cell_type": "markdown",
   "source": [
    "In the following policies formulations:\n",
    "- `RfR` says if the Room for River projects are enabled (projects `0` to `5`). The first number indicated the project, the second (after `RfR`) if in which time step the measure it taken (currently `0` to `2`). The value can be either `0` (not enabled) or `1` (enabled).\n",
    "- `A.1` to `A.5` are the different dikes. `A.3` is the dike ring around Zutphen. The number after `DikeIncrease` is again the timestep, the value assigned to the thing the heightening in decimeters.\n",
    "- Early Warning Systems can also be enabled, with `EWS_DaysToThreat`, which specifies the early warning time in days.\n",
    "\n",
    "See the implementation in problem_formulation.py (starting from line 35) for more details."
   ],
   "metadata": {
    "collapsed": false,
    "pycharm": {
     "name": "#%% md\n"
    }
   }
  },
  {
   "cell_type": "code",
   "execution_count": 10,
   "outputs": [],
   "source": [
    "pol_list = []\n",
    "#pol_list.append(create_policy({}, name=\"Zero\"))\n",
    "\n",
    "for dm in [1, 10]:\n",
    "    for location in [0, 1, 2, 3, 4]:\n",
    "        for ews_days in [2, 4]:\n",
    "            pol_list.append(create_policy({\"A.3_DikeIncrease 0\": dm, f\"{location}_RfR 0\": 1, \"EWS_DaysToThreat\": ews_days},\n",
    "                                          name=f\"Dike_{dm}dm_RfR_{location}_EWS_{ews_days}d\"))\n"
   ],
   "metadata": {
    "collapsed": false,
    "pycharm": {
     "name": "#%%\n"
    }
   }
  },
  {
   "cell_type": "markdown",
   "source": [
    "### Run the model (or load the data)\n",
    "In the next cell the model is ran (if `use_pickle1 = False`) and the new results data is saved, or, if `use_pickle1 = True`, the saved results data is loaded."
   ],
   "metadata": {
    "collapsed": false,
    "pycharm": {
     "name": "#%% md\n"
    }
   }
  },
  {
   "cell_type": "code",
   "execution_count": 11,
   "outputs": [],
   "source": [
    "# True, use results in pickle file; False, run MultiprocessingEvaluator\n",
    "use_pickle1 = False\n",
    "\n",
    "if use_pickle1:\n",
    "    with open('data/formulation_results.pickle', 'rb') as filehandler:\n",
    "        results = pickle.load(filehandler)\n",
    "\n",
    "else:\n",
    "    # pass the policies list to EMA workbench experiment runs\n",
    "    n_scenarios = 10\n",
    "    with MultiprocessingEvaluator(dike_model, n_processes=3) as evaluator:\n",
    "        results = evaluator.perform_experiments(n_scenarios, pol_list)\n",
    "\n",
    "    # Save results in Pickle file\n",
    "    with open('data/formulation_results.pickle', 'wb') as filehandler:\n",
    "        pickle.dump(results, filehandler)"
   ],
   "metadata": {
    "collapsed": false,
    "pycharm": {
     "name": "#%%\n"
    }
   }
  },
  {
   "cell_type": "markdown",
   "source": [
    "### Process the results\n",
    "In this section a dataframe is generated with all the outcomes data, and aggegrated to mean, min, max and quantiles values for each policy."
   ],
   "metadata": {
    "collapsed": false,
    "pycharm": {
     "name": "#%% md\n"
    }
   }
  },
  {
   "cell_type": "code",
   "execution_count": 12,
   "outputs": [
    {
     "data": {
      "text/plain": "     Expected Annual Damage  Dike Investment Costs  RfR Investment Costs  \\\n0              1.812176e+09                      0                   NaN   \n1              1.636976e+09                      0                   0.0   \n2              2.951492e+09                      0                   0.0   \n3              2.882574e+09                      0                   0.0   \n4              5.374131e+08                      0                   0.0   \n..                      ...                    ...                   ...   \n205            4.982399e+08               44215020           256100000.0   \n206            1.008204e+08               44215020           256100000.0   \n207            2.807726e+09               44215020           256100000.0   \n208            3.398663e+08               44215020           256100000.0   \n209            2.136671e+09               44215020           256100000.0   \n\n     Evacuation Costs  Expected Number of Deaths   Total Costs  \\\n0                 NaN                        NaN  0.000000e+00   \n1            0.000000                   1.149433  0.000000e+00   \n2            0.000000                   1.703116  0.000000e+00   \n3            0.000000                   2.431313  0.000000e+00   \n4            0.000000                   0.955777  0.000000e+00   \n..                ...                        ...           ...   \n205      28027.525981                   0.051540  3.003430e+08   \n206       9169.596227                   0.006516  3.003242e+08   \n207      33710.624649                   0.207937  3.003487e+08   \n208      35408.769680                   0.038439  3.003504e+08   \n209      33386.247211                   0.204034  3.003484e+08   \n\n     Cost plus Damage                        policy  \n0        1.812176e+09                   Policy_Zero  \n1        1.636976e+09                   Policy_Zero  \n2        2.951492e+09                   Policy_Zero  \n3        2.882574e+09                   Policy_Zero  \n4        5.374131e+08                   Policy_Zero  \n..                ...                           ...  \n205      7.985830e+08  Policy_Dike_10m_RfR_4_EWS_4d  \n206      4.011446e+08  Policy_Dike_10m_RfR_4_EWS_4d  \n207      3.108075e+09  Policy_Dike_10m_RfR_4_EWS_4d  \n208      6.402167e+08  Policy_Dike_10m_RfR_4_EWS_4d  \n209      2.437019e+09  Policy_Dike_10m_RfR_4_EWS_4d  \n\n[210 rows x 8 columns]",
      "text/html": "<div>\n<style scoped>\n    .dataframe tbody tr th:only-of-type {\n        vertical-align: middle;\n    }\n\n    .dataframe tbody tr th {\n        vertical-align: top;\n    }\n\n    .dataframe thead th {\n        text-align: right;\n    }\n</style>\n<table border=\"1\" class=\"dataframe\">\n  <thead>\n    <tr style=\"text-align: right;\">\n      <th></th>\n      <th>Expected Annual Damage</th>\n      <th>Dike Investment Costs</th>\n      <th>RfR Investment Costs</th>\n      <th>Evacuation Costs</th>\n      <th>Expected Number of Deaths</th>\n      <th>Total Costs</th>\n      <th>Cost plus Damage</th>\n      <th>policy</th>\n    </tr>\n  </thead>\n  <tbody>\n    <tr>\n      <th>0</th>\n      <td>1.812176e+09</td>\n      <td>0</td>\n      <td>NaN</td>\n      <td>NaN</td>\n      <td>NaN</td>\n      <td>0.000000e+00</td>\n      <td>1.812176e+09</td>\n      <td>Policy_Zero</td>\n    </tr>\n    <tr>\n      <th>1</th>\n      <td>1.636976e+09</td>\n      <td>0</td>\n      <td>0.0</td>\n      <td>0.000000</td>\n      <td>1.149433</td>\n      <td>0.000000e+00</td>\n      <td>1.636976e+09</td>\n      <td>Policy_Zero</td>\n    </tr>\n    <tr>\n      <th>2</th>\n      <td>2.951492e+09</td>\n      <td>0</td>\n      <td>0.0</td>\n      <td>0.000000</td>\n      <td>1.703116</td>\n      <td>0.000000e+00</td>\n      <td>2.951492e+09</td>\n      <td>Policy_Zero</td>\n    </tr>\n    <tr>\n      <th>3</th>\n      <td>2.882574e+09</td>\n      <td>0</td>\n      <td>0.0</td>\n      <td>0.000000</td>\n      <td>2.431313</td>\n      <td>0.000000e+00</td>\n      <td>2.882574e+09</td>\n      <td>Policy_Zero</td>\n    </tr>\n    <tr>\n      <th>4</th>\n      <td>5.374131e+08</td>\n      <td>0</td>\n      <td>0.0</td>\n      <td>0.000000</td>\n      <td>0.955777</td>\n      <td>0.000000e+00</td>\n      <td>5.374131e+08</td>\n      <td>Policy_Zero</td>\n    </tr>\n    <tr>\n      <th>...</th>\n      <td>...</td>\n      <td>...</td>\n      <td>...</td>\n      <td>...</td>\n      <td>...</td>\n      <td>...</td>\n      <td>...</td>\n      <td>...</td>\n    </tr>\n    <tr>\n      <th>205</th>\n      <td>4.982399e+08</td>\n      <td>44215020</td>\n      <td>256100000.0</td>\n      <td>28027.525981</td>\n      <td>0.051540</td>\n      <td>3.003430e+08</td>\n      <td>7.985830e+08</td>\n      <td>Policy_Dike_10m_RfR_4_EWS_4d</td>\n    </tr>\n    <tr>\n      <th>206</th>\n      <td>1.008204e+08</td>\n      <td>44215020</td>\n      <td>256100000.0</td>\n      <td>9169.596227</td>\n      <td>0.006516</td>\n      <td>3.003242e+08</td>\n      <td>4.011446e+08</td>\n      <td>Policy_Dike_10m_RfR_4_EWS_4d</td>\n    </tr>\n    <tr>\n      <th>207</th>\n      <td>2.807726e+09</td>\n      <td>44215020</td>\n      <td>256100000.0</td>\n      <td>33710.624649</td>\n      <td>0.207937</td>\n      <td>3.003487e+08</td>\n      <td>3.108075e+09</td>\n      <td>Policy_Dike_10m_RfR_4_EWS_4d</td>\n    </tr>\n    <tr>\n      <th>208</th>\n      <td>3.398663e+08</td>\n      <td>44215020</td>\n      <td>256100000.0</td>\n      <td>35408.769680</td>\n      <td>0.038439</td>\n      <td>3.003504e+08</td>\n      <td>6.402167e+08</td>\n      <td>Policy_Dike_10m_RfR_4_EWS_4d</td>\n    </tr>\n    <tr>\n      <th>209</th>\n      <td>2.136671e+09</td>\n      <td>44215020</td>\n      <td>256100000.0</td>\n      <td>33386.247211</td>\n      <td>0.204034</td>\n      <td>3.003484e+08</td>\n      <td>2.437019e+09</td>\n      <td>Policy_Dike_10m_RfR_4_EWS_4d</td>\n    </tr>\n  </tbody>\n</table>\n<p>210 rows × 8 columns</p>\n</div>"
     },
     "execution_count": 12,
     "metadata": {},
     "output_type": "execute_result"
    }
   ],
   "source": [
    "# Create a dataframe from outcomes, and add the policy column to it\n",
    "exp, out = results\n",
    "df = pd.DataFrame(out)\n",
    "df[\"Total Costs\"] = df[[\"Dike Investment Costs\", \"RfR Investment Costs\", \"Evacuation Costs\"]].sum(axis=1)\n",
    "df[\"Cost plus Damage\"] = df[\"Total Costs\"] + df[\"Expected Annual Damage\"]\n",
    "df[\"policy\"] = pd.DataFrame(exp)[\"policy\"]\n",
    "df"
   ],
   "metadata": {
    "collapsed": false,
    "pycharm": {
     "name": "#%%\n"
    }
   }
  },
  {
   "cell_type": "code",
   "execution_count": 13,
   "outputs": [],
   "source": [
    "# Define two functions to get the 5th and 95th quantiles\n",
    "def q05(x):\n",
    "    return x.quantile(0.05)\n",
    "\n",
    "def q95(x):\n",
    "    return x.quantile(0.95)"
   ],
   "metadata": {
    "collapsed": false,
    "pycharm": {
     "name": "#%%\n"
    }
   }
  },
  {
   "cell_type": "code",
   "execution_count": 14,
   "outputs": [
    {
     "data": {
      "text/plain": "                             Expected Number of Deaths                      \\\n                                                  mean       min       max   \npolicy                                                                       \nPolicy_Dike_0m_RfR_0_EWS_2d                   0.215972  0.045618  0.485131   \nPolicy_Dike_0m_RfR_0_EWS_4d                   0.172777  0.036494  0.388104   \nPolicy_Dike_0m_RfR_1_EWS_2d                   0.219420  0.045618  0.485131   \nPolicy_Dike_0m_RfR_1_EWS_4d                   0.175536  0.036494  0.388104   \nPolicy_Dike_0m_RfR_2_EWS_2d                   0.209507  0.037362  0.444623   \nPolicy_Dike_0m_RfR_2_EWS_4d                   0.167606  0.029890  0.355698   \nPolicy_Dike_0m_RfR_3_EWS_2d                   0.231985  0.013736  0.466992   \nPolicy_Dike_0m_RfR_3_EWS_4d                   0.185588  0.010989  0.373594   \nPolicy_Dike_0m_RfR_4_EWS_2d                   0.255874  0.050954  0.479713   \nPolicy_Dike_0m_RfR_4_EWS_4d                   0.204699  0.040763  0.383771   \nPolicy_Dike_10m_RfR_0_EWS_2d                  0.071079  0.006475  0.229512   \nPolicy_Dike_10m_RfR_0_EWS_4d                  0.056863  0.005180  0.183610   \nPolicy_Dike_10m_RfR_1_EWS_2d                  0.074528  0.006475  0.229506   \nPolicy_Dike_10m_RfR_1_EWS_4d                  0.059622  0.005180  0.183605   \nPolicy_Dike_10m_RfR_2_EWS_2d                  0.128549  0.005185  0.259921   \nPolicy_Dike_10m_RfR_2_EWS_4d                  0.102839  0.004148  0.207937   \nPolicy_Dike_10m_RfR_3_EWS_2d                  0.123608  0.004252  0.259921   \nPolicy_Dike_10m_RfR_3_EWS_4d                  0.098887  0.003402  0.207937   \nPolicy_Dike_10m_RfR_4_EWS_2d                  0.133507  0.005016  0.259921   \nPolicy_Dike_10m_RfR_4_EWS_4d                  0.106806  0.004013  0.207937   \nPolicy_Zero                                   1.575331  0.304117  3.234204   \n\n                                                 Expected Annual Damage  \\\n                                   q05       q95                   mean   \npolicy                                                                    \nPolicy_Dike_0m_RfR_0_EWS_2d   0.049367  0.483745           1.121010e+09   \nPolicy_Dike_0m_RfR_0_EWS_4d   0.039493  0.386996           1.121010e+09   \nPolicy_Dike_0m_RfR_1_EWS_2d   0.061359  0.483745           1.164822e+09   \nPolicy_Dike_0m_RfR_1_EWS_4d   0.049087  0.386996           1.164822e+09   \nPolicy_Dike_0m_RfR_2_EWS_2d   0.037766  0.409969           1.570514e+09   \nPolicy_Dike_0m_RfR_2_EWS_4d   0.030213  0.327975           1.570514e+09   \nPolicy_Dike_0m_RfR_3_EWS_2d   0.036850  0.466369           1.635086e+09   \nPolicy_Dike_0m_RfR_3_EWS_4d   0.029480  0.373095           1.635086e+09   \nPolicy_Dike_0m_RfR_4_EWS_2d   0.076226  0.479146           1.746235e+09   \nPolicy_Dike_0m_RfR_4_EWS_4d   0.060981  0.383317           1.746235e+09   \nPolicy_Dike_10m_RfR_0_EWS_2d  0.007565  0.178362           5.982111e+08   \nPolicy_Dike_10m_RfR_0_EWS_4d  0.006052  0.142690           5.982111e+08   \nPolicy_Dike_10m_RfR_1_EWS_2d  0.007565  0.178470           6.420225e+08   \nPolicy_Dike_10m_RfR_1_EWS_4d  0.006052  0.142776           6.420225e+08   \nPolicy_Dike_10m_RfR_2_EWS_2d  0.006540  0.257917           1.273307e+09   \nPolicy_Dike_10m_RfR_2_EWS_4d  0.005232  0.206334           1.273307e+09   \nPolicy_Dike_10m_RfR_3_EWS_2d  0.005520  0.257917           1.237751e+09   \nPolicy_Dike_10m_RfR_3_EWS_4d  0.004416  0.206334           1.237751e+09   \nPolicy_Dike_10m_RfR_4_EWS_2d  0.006424  0.257917           1.307224e+09   \nPolicy_Dike_10m_RfR_4_EWS_4d  0.005139  0.206334           1.307224e+09   \nPolicy_Zero                   0.564781  2.913047           1.762117e+09   \n\n                                                                        \\\n                                       min           max           q05   \npolicy                                                                   \nPolicy_Dike_0m_RfR_0_EWS_2d   3.106307e+08  1.966693e+09  4.126828e+08   \nPolicy_Dike_0m_RfR_0_EWS_4d   3.106307e+08  1.966693e+09  4.126828e+08   \nPolicy_Dike_0m_RfR_1_EWS_2d   3.106307e+08  1.966655e+09  4.126828e+08   \nPolicy_Dike_0m_RfR_1_EWS_4d   3.106307e+08  1.966655e+09  4.126828e+08   \nPolicy_Dike_0m_RfR_2_EWS_2d   1.798423e+08  2.951492e+09  2.267563e+08   \nPolicy_Dike_0m_RfR_2_EWS_4d   1.798423e+08  2.951492e+09  2.267563e+08   \nPolicy_Dike_0m_RfR_3_EWS_2d   1.190603e+08  2.951492e+09  2.245613e+08   \nPolicy_Dike_0m_RfR_3_EWS_4d   1.190603e+08  2.951492e+09  2.245613e+08   \nPolicy_Dike_0m_RfR_4_EWS_2d   3.483179e+08  2.951492e+09  4.288585e+08   \nPolicy_Dike_0m_RfR_4_EWS_4d   3.483179e+08  2.951492e+09  4.288585e+08   \nPolicy_Dike_10m_RfR_0_EWS_2d  7.387319e+07  1.966693e+09  8.968217e+07   \nPolicy_Dike_10m_RfR_0_EWS_4d  7.387319e+07  1.966693e+09  8.968217e+07   \nPolicy_Dike_10m_RfR_1_EWS_2d  7.387319e+07  1.966655e+09  8.968217e+07   \nPolicy_Dike_10m_RfR_1_EWS_4d  7.387319e+07  1.966655e+09  8.968217e+07   \nPolicy_Dike_10m_RfR_2_EWS_2d  6.550196e+07  2.951492e+09  8.305969e+07   \nPolicy_Dike_10m_RfR_2_EWS_4d  6.550196e+07  2.951492e+09  8.305969e+07   \nPolicy_Dike_10m_RfR_3_EWS_2d  4.947287e+07  2.951492e+09  6.555756e+07   \nPolicy_Dike_10m_RfR_3_EWS_4d  4.947287e+07  2.951492e+09  6.555756e+07   \nPolicy_Dike_10m_RfR_4_EWS_2d  5.466688e+07  2.951492e+09  7.543597e+07   \nPolicy_Dike_10m_RfR_4_EWS_4d  5.466688e+07  2.951492e+09  7.543597e+07   \nPolicy_Zero                   3.106307e+08  2.951492e+09  4.126828e+08   \n\n                                             Total Costs Cost plus Damage  \\\n                                       q95          mean             mean   \npolicy                                                                      \nPolicy_Dike_0m_RfR_0_EWS_2d   1.899841e+09  8.463998e+07     1.205650e+09   \nPolicy_Dike_0m_RfR_0_EWS_4d   1.899841e+09  8.465795e+07     1.205668e+09   \nPolicy_Dike_0m_RfR_1_EWS_2d   1.899820e+09  2.178401e+08     1.382662e+09   \nPolicy_Dike_0m_RfR_1_EWS_4d   1.899820e+09  2.178581e+08     1.382680e+09   \nPolicy_Dike_0m_RfR_2_EWS_2d   2.886798e+09  3.073132e+07     1.601245e+09   \nPolicy_Dike_0m_RfR_2_EWS_4d   2.886798e+09  3.074540e+07     1.601259e+09   \nPolicy_Dike_0m_RfR_3_EWS_2d   2.886798e+09  1.212326e+08     1.756319e+09   \nPolicy_Dike_0m_RfR_3_EWS_4d   2.886798e+09  1.212473e+08     1.756333e+09   \nPolicy_Dike_0m_RfR_4_EWS_2d   2.909084e+09  2.561378e+08     2.002373e+09   \nPolicy_Dike_0m_RfR_4_EWS_4d   2.909084e+09  2.561548e+08     2.002390e+09   \nPolicy_Dike_10m_RfR_0_EWS_2d  1.537848e+09  1.288345e+08     7.270456e+08   \nPolicy_Dike_10m_RfR_0_EWS_4d  1.537848e+09  1.288432e+08     7.270543e+08   \nPolicy_Dike_10m_RfR_1_EWS_2d  1.537828e+09  2.620346e+08     9.040571e+08   \nPolicy_Dike_10m_RfR_1_EWS_4d  1.537828e+09  2.620433e+08     9.040658e+08   \nPolicy_Dike_10m_RfR_2_EWS_2d  2.886798e+09  7.493384e+07     1.348241e+09   \nPolicy_Dike_10m_RfR_2_EWS_4d  2.886798e+09  7.494230e+07     1.348249e+09   \nPolicy_Dike_10m_RfR_3_EWS_2d  2.886798e+09  1.654313e+08     1.403182e+09   \nPolicy_Dike_10m_RfR_3_EWS_4d  2.886798e+09  1.654387e+08     1.403190e+09   \nPolicy_Dike_10m_RfR_4_EWS_2d  2.886798e+09  3.003353e+08     1.607559e+09   \nPolicy_Dike_10m_RfR_4_EWS_4d  2.886798e+09  3.003444e+08     1.607568e+09   \nPolicy_Zero                   2.920479e+09  0.000000e+00     1.762117e+09   \n\n                                                                        \\\n                                       min           max           q05   \npolicy                                                                   \nPolicy_Dike_0m_RfR_0_EWS_2d   3.952527e+08  2.051315e+09  4.973047e+08   \nPolicy_Dike_0m_RfR_0_EWS_4d   3.952626e+08  2.051325e+09  4.973145e+08   \nPolicy_Dike_0m_RfR_1_EWS_2d   5.284527e+08  2.184477e+09  6.305047e+08   \nPolicy_Dike_0m_RfR_1_EWS_4d   5.284626e+08  2.184487e+09  6.305145e+08   \nPolicy_Dike_0m_RfR_2_EWS_2d   2.105509e+08  2.982215e+09  2.574703e+08   \nPolicy_Dike_0m_RfR_2_EWS_4d   2.105547e+08  2.982226e+09  2.574766e+08   \nPolicy_Dike_0m_RfR_3_EWS_2d   2.402691e+08  3.072715e+09  3.457703e+08   \nPolicy_Dike_0m_RfR_3_EWS_4d   2.402731e+08  3.072726e+09  3.457743e+08   \nPolicy_Dike_0m_RfR_4_EWS_2d   6.044427e+08  3.207615e+09  6.849818e+08   \nPolicy_Dike_0m_RfR_4_EWS_4d   6.044539e+08  3.207626e+09  6.849922e+08   \nPolicy_Dike_10m_RfR_0_EWS_2d  2.026927e+08  2.095530e+09  2.185027e+08   \nPolicy_Dike_10m_RfR_0_EWS_4d  2.026947e+08  2.095540e+09  2.185052e+08   \nPolicy_Dike_10m_RfR_1_EWS_2d  3.358927e+08  2.228692e+09  3.517027e+08   \nPolicy_Dike_10m_RfR_1_EWS_4d  3.358947e+08  2.228702e+09  3.517052e+08   \nPolicy_Dike_10m_RfR_2_EWS_2d  1.404211e+08  3.026430e+09  1.579799e+08   \nPolicy_Dike_10m_RfR_2_EWS_4d  1.404229e+08  3.026441e+09  1.579823e+08   \nPolicy_Dike_10m_RfR_3_EWS_2d  2.148909e+08  3.116930e+09  2.309766e+08   \nPolicy_Dike_10m_RfR_3_EWS_4d  2.148923e+08  3.116941e+09  2.309785e+08   \nPolicy_Dike_10m_RfR_4_EWS_2d  3.549852e+08  3.251830e+09  3.757556e+08   \nPolicy_Dike_10m_RfR_4_EWS_4d  3.549866e+08  3.251841e+09  3.757577e+08   \nPolicy_Zero                   3.106307e+08  2.951492e+09  4.126828e+08   \n\n                                            \n                                       q95  \npolicy                                      \nPolicy_Dike_0m_RfR_0_EWS_2d   1.984487e+09  \nPolicy_Dike_0m_RfR_0_EWS_4d   1.984508e+09  \nPolicy_Dike_0m_RfR_1_EWS_2d   2.117666e+09  \nPolicy_Dike_0m_RfR_1_EWS_4d   2.117687e+09  \nPolicy_Dike_0m_RfR_2_EWS_2d   2.917521e+09  \nPolicy_Dike_0m_RfR_2_EWS_4d   2.917531e+09  \nPolicy_Dike_0m_RfR_3_EWS_2d   3.008021e+09  \nPolicy_Dike_0m_RfR_3_EWS_4d   3.008031e+09  \nPolicy_Dike_0m_RfR_4_EWS_2d   3.165216e+09  \nPolicy_Dike_0m_RfR_4_EWS_4d   3.165231e+09  \nPolicy_Dike_10m_RfR_0_EWS_2d  1.666695e+09  \nPolicy_Dike_10m_RfR_0_EWS_4d  1.666709e+09  \nPolicy_Dike_10m_RfR_1_EWS_2d  1.799874e+09  \nPolicy_Dike_10m_RfR_1_EWS_4d  1.799888e+09  \nPolicy_Dike_10m_RfR_2_EWS_2d  2.961736e+09  \nPolicy_Dike_10m_RfR_2_EWS_4d  2.961746e+09  \nPolicy_Dike_10m_RfR_3_EWS_2d  3.052236e+09  \nPolicy_Dike_10m_RfR_3_EWS_4d  3.052246e+09  \nPolicy_Dike_10m_RfR_4_EWS_2d  3.187136e+09  \nPolicy_Dike_10m_RfR_4_EWS_4d  3.187146e+09  \nPolicy_Zero                   2.920479e+09  ",
      "text/html": "<div>\n<style scoped>\n    .dataframe tbody tr th:only-of-type {\n        vertical-align: middle;\n    }\n\n    .dataframe tbody tr th {\n        vertical-align: top;\n    }\n\n    .dataframe thead tr th {\n        text-align: left;\n    }\n\n    .dataframe thead tr:last-of-type th {\n        text-align: right;\n    }\n</style>\n<table border=\"1\" class=\"dataframe\">\n  <thead>\n    <tr>\n      <th></th>\n      <th colspan=\"5\" halign=\"left\">Expected Number of Deaths</th>\n      <th colspan=\"5\" halign=\"left\">Expected Annual Damage</th>\n      <th>Total Costs</th>\n      <th colspan=\"5\" halign=\"left\">Cost plus Damage</th>\n    </tr>\n    <tr>\n      <th></th>\n      <th>mean</th>\n      <th>min</th>\n      <th>max</th>\n      <th>q05</th>\n      <th>q95</th>\n      <th>mean</th>\n      <th>min</th>\n      <th>max</th>\n      <th>q05</th>\n      <th>q95</th>\n      <th>mean</th>\n      <th>mean</th>\n      <th>min</th>\n      <th>max</th>\n      <th>q05</th>\n      <th>q95</th>\n    </tr>\n    <tr>\n      <th>policy</th>\n      <th></th>\n      <th></th>\n      <th></th>\n      <th></th>\n      <th></th>\n      <th></th>\n      <th></th>\n      <th></th>\n      <th></th>\n      <th></th>\n      <th></th>\n      <th></th>\n      <th></th>\n      <th></th>\n      <th></th>\n      <th></th>\n    </tr>\n  </thead>\n  <tbody>\n    <tr>\n      <th>Policy_Dike_0m_RfR_0_EWS_2d</th>\n      <td>0.215972</td>\n      <td>0.045618</td>\n      <td>0.485131</td>\n      <td>0.049367</td>\n      <td>0.483745</td>\n      <td>1.121010e+09</td>\n      <td>3.106307e+08</td>\n      <td>1.966693e+09</td>\n      <td>4.126828e+08</td>\n      <td>1.899841e+09</td>\n      <td>8.463998e+07</td>\n      <td>1.205650e+09</td>\n      <td>3.952527e+08</td>\n      <td>2.051315e+09</td>\n      <td>4.973047e+08</td>\n      <td>1.984487e+09</td>\n    </tr>\n    <tr>\n      <th>Policy_Dike_0m_RfR_0_EWS_4d</th>\n      <td>0.172777</td>\n      <td>0.036494</td>\n      <td>0.388104</td>\n      <td>0.039493</td>\n      <td>0.386996</td>\n      <td>1.121010e+09</td>\n      <td>3.106307e+08</td>\n      <td>1.966693e+09</td>\n      <td>4.126828e+08</td>\n      <td>1.899841e+09</td>\n      <td>8.465795e+07</td>\n      <td>1.205668e+09</td>\n      <td>3.952626e+08</td>\n      <td>2.051325e+09</td>\n      <td>4.973145e+08</td>\n      <td>1.984508e+09</td>\n    </tr>\n    <tr>\n      <th>Policy_Dike_0m_RfR_1_EWS_2d</th>\n      <td>0.219420</td>\n      <td>0.045618</td>\n      <td>0.485131</td>\n      <td>0.061359</td>\n      <td>0.483745</td>\n      <td>1.164822e+09</td>\n      <td>3.106307e+08</td>\n      <td>1.966655e+09</td>\n      <td>4.126828e+08</td>\n      <td>1.899820e+09</td>\n      <td>2.178401e+08</td>\n      <td>1.382662e+09</td>\n      <td>5.284527e+08</td>\n      <td>2.184477e+09</td>\n      <td>6.305047e+08</td>\n      <td>2.117666e+09</td>\n    </tr>\n    <tr>\n      <th>Policy_Dike_0m_RfR_1_EWS_4d</th>\n      <td>0.175536</td>\n      <td>0.036494</td>\n      <td>0.388104</td>\n      <td>0.049087</td>\n      <td>0.386996</td>\n      <td>1.164822e+09</td>\n      <td>3.106307e+08</td>\n      <td>1.966655e+09</td>\n      <td>4.126828e+08</td>\n      <td>1.899820e+09</td>\n      <td>2.178581e+08</td>\n      <td>1.382680e+09</td>\n      <td>5.284626e+08</td>\n      <td>2.184487e+09</td>\n      <td>6.305145e+08</td>\n      <td>2.117687e+09</td>\n    </tr>\n    <tr>\n      <th>Policy_Dike_0m_RfR_2_EWS_2d</th>\n      <td>0.209507</td>\n      <td>0.037362</td>\n      <td>0.444623</td>\n      <td>0.037766</td>\n      <td>0.409969</td>\n      <td>1.570514e+09</td>\n      <td>1.798423e+08</td>\n      <td>2.951492e+09</td>\n      <td>2.267563e+08</td>\n      <td>2.886798e+09</td>\n      <td>3.073132e+07</td>\n      <td>1.601245e+09</td>\n      <td>2.105509e+08</td>\n      <td>2.982215e+09</td>\n      <td>2.574703e+08</td>\n      <td>2.917521e+09</td>\n    </tr>\n    <tr>\n      <th>Policy_Dike_0m_RfR_2_EWS_4d</th>\n      <td>0.167606</td>\n      <td>0.029890</td>\n      <td>0.355698</td>\n      <td>0.030213</td>\n      <td>0.327975</td>\n      <td>1.570514e+09</td>\n      <td>1.798423e+08</td>\n      <td>2.951492e+09</td>\n      <td>2.267563e+08</td>\n      <td>2.886798e+09</td>\n      <td>3.074540e+07</td>\n      <td>1.601259e+09</td>\n      <td>2.105547e+08</td>\n      <td>2.982226e+09</td>\n      <td>2.574766e+08</td>\n      <td>2.917531e+09</td>\n    </tr>\n    <tr>\n      <th>Policy_Dike_0m_RfR_3_EWS_2d</th>\n      <td>0.231985</td>\n      <td>0.013736</td>\n      <td>0.466992</td>\n      <td>0.036850</td>\n      <td>0.466369</td>\n      <td>1.635086e+09</td>\n      <td>1.190603e+08</td>\n      <td>2.951492e+09</td>\n      <td>2.245613e+08</td>\n      <td>2.886798e+09</td>\n      <td>1.212326e+08</td>\n      <td>1.756319e+09</td>\n      <td>2.402691e+08</td>\n      <td>3.072715e+09</td>\n      <td>3.457703e+08</td>\n      <td>3.008021e+09</td>\n    </tr>\n    <tr>\n      <th>Policy_Dike_0m_RfR_3_EWS_4d</th>\n      <td>0.185588</td>\n      <td>0.010989</td>\n      <td>0.373594</td>\n      <td>0.029480</td>\n      <td>0.373095</td>\n      <td>1.635086e+09</td>\n      <td>1.190603e+08</td>\n      <td>2.951492e+09</td>\n      <td>2.245613e+08</td>\n      <td>2.886798e+09</td>\n      <td>1.212473e+08</td>\n      <td>1.756333e+09</td>\n      <td>2.402731e+08</td>\n      <td>3.072726e+09</td>\n      <td>3.457743e+08</td>\n      <td>3.008031e+09</td>\n    </tr>\n    <tr>\n      <th>Policy_Dike_0m_RfR_4_EWS_2d</th>\n      <td>0.255874</td>\n      <td>0.050954</td>\n      <td>0.479713</td>\n      <td>0.076226</td>\n      <td>0.479146</td>\n      <td>1.746235e+09</td>\n      <td>3.483179e+08</td>\n      <td>2.951492e+09</td>\n      <td>4.288585e+08</td>\n      <td>2.909084e+09</td>\n      <td>2.561378e+08</td>\n      <td>2.002373e+09</td>\n      <td>6.044427e+08</td>\n      <td>3.207615e+09</td>\n      <td>6.849818e+08</td>\n      <td>3.165216e+09</td>\n    </tr>\n    <tr>\n      <th>Policy_Dike_0m_RfR_4_EWS_4d</th>\n      <td>0.204699</td>\n      <td>0.040763</td>\n      <td>0.383771</td>\n      <td>0.060981</td>\n      <td>0.383317</td>\n      <td>1.746235e+09</td>\n      <td>3.483179e+08</td>\n      <td>2.951492e+09</td>\n      <td>4.288585e+08</td>\n      <td>2.909084e+09</td>\n      <td>2.561548e+08</td>\n      <td>2.002390e+09</td>\n      <td>6.044539e+08</td>\n      <td>3.207626e+09</td>\n      <td>6.849922e+08</td>\n      <td>3.165231e+09</td>\n    </tr>\n    <tr>\n      <th>Policy_Dike_10m_RfR_0_EWS_2d</th>\n      <td>0.071079</td>\n      <td>0.006475</td>\n      <td>0.229512</td>\n      <td>0.007565</td>\n      <td>0.178362</td>\n      <td>5.982111e+08</td>\n      <td>7.387319e+07</td>\n      <td>1.966693e+09</td>\n      <td>8.968217e+07</td>\n      <td>1.537848e+09</td>\n      <td>1.288345e+08</td>\n      <td>7.270456e+08</td>\n      <td>2.026927e+08</td>\n      <td>2.095530e+09</td>\n      <td>2.185027e+08</td>\n      <td>1.666695e+09</td>\n    </tr>\n    <tr>\n      <th>Policy_Dike_10m_RfR_0_EWS_4d</th>\n      <td>0.056863</td>\n      <td>0.005180</td>\n      <td>0.183610</td>\n      <td>0.006052</td>\n      <td>0.142690</td>\n      <td>5.982111e+08</td>\n      <td>7.387319e+07</td>\n      <td>1.966693e+09</td>\n      <td>8.968217e+07</td>\n      <td>1.537848e+09</td>\n      <td>1.288432e+08</td>\n      <td>7.270543e+08</td>\n      <td>2.026947e+08</td>\n      <td>2.095540e+09</td>\n      <td>2.185052e+08</td>\n      <td>1.666709e+09</td>\n    </tr>\n    <tr>\n      <th>Policy_Dike_10m_RfR_1_EWS_2d</th>\n      <td>0.074528</td>\n      <td>0.006475</td>\n      <td>0.229506</td>\n      <td>0.007565</td>\n      <td>0.178470</td>\n      <td>6.420225e+08</td>\n      <td>7.387319e+07</td>\n      <td>1.966655e+09</td>\n      <td>8.968217e+07</td>\n      <td>1.537828e+09</td>\n      <td>2.620346e+08</td>\n      <td>9.040571e+08</td>\n      <td>3.358927e+08</td>\n      <td>2.228692e+09</td>\n      <td>3.517027e+08</td>\n      <td>1.799874e+09</td>\n    </tr>\n    <tr>\n      <th>Policy_Dike_10m_RfR_1_EWS_4d</th>\n      <td>0.059622</td>\n      <td>0.005180</td>\n      <td>0.183605</td>\n      <td>0.006052</td>\n      <td>0.142776</td>\n      <td>6.420225e+08</td>\n      <td>7.387319e+07</td>\n      <td>1.966655e+09</td>\n      <td>8.968217e+07</td>\n      <td>1.537828e+09</td>\n      <td>2.620433e+08</td>\n      <td>9.040658e+08</td>\n      <td>3.358947e+08</td>\n      <td>2.228702e+09</td>\n      <td>3.517052e+08</td>\n      <td>1.799888e+09</td>\n    </tr>\n    <tr>\n      <th>Policy_Dike_10m_RfR_2_EWS_2d</th>\n      <td>0.128549</td>\n      <td>0.005185</td>\n      <td>0.259921</td>\n      <td>0.006540</td>\n      <td>0.257917</td>\n      <td>1.273307e+09</td>\n      <td>6.550196e+07</td>\n      <td>2.951492e+09</td>\n      <td>8.305969e+07</td>\n      <td>2.886798e+09</td>\n      <td>7.493384e+07</td>\n      <td>1.348241e+09</td>\n      <td>1.404211e+08</td>\n      <td>3.026430e+09</td>\n      <td>1.579799e+08</td>\n      <td>2.961736e+09</td>\n    </tr>\n    <tr>\n      <th>Policy_Dike_10m_RfR_2_EWS_4d</th>\n      <td>0.102839</td>\n      <td>0.004148</td>\n      <td>0.207937</td>\n      <td>0.005232</td>\n      <td>0.206334</td>\n      <td>1.273307e+09</td>\n      <td>6.550196e+07</td>\n      <td>2.951492e+09</td>\n      <td>8.305969e+07</td>\n      <td>2.886798e+09</td>\n      <td>7.494230e+07</td>\n      <td>1.348249e+09</td>\n      <td>1.404229e+08</td>\n      <td>3.026441e+09</td>\n      <td>1.579823e+08</td>\n      <td>2.961746e+09</td>\n    </tr>\n    <tr>\n      <th>Policy_Dike_10m_RfR_3_EWS_2d</th>\n      <td>0.123608</td>\n      <td>0.004252</td>\n      <td>0.259921</td>\n      <td>0.005520</td>\n      <td>0.257917</td>\n      <td>1.237751e+09</td>\n      <td>4.947287e+07</td>\n      <td>2.951492e+09</td>\n      <td>6.555756e+07</td>\n      <td>2.886798e+09</td>\n      <td>1.654313e+08</td>\n      <td>1.403182e+09</td>\n      <td>2.148909e+08</td>\n      <td>3.116930e+09</td>\n      <td>2.309766e+08</td>\n      <td>3.052236e+09</td>\n    </tr>\n    <tr>\n      <th>Policy_Dike_10m_RfR_3_EWS_4d</th>\n      <td>0.098887</td>\n      <td>0.003402</td>\n      <td>0.207937</td>\n      <td>0.004416</td>\n      <td>0.206334</td>\n      <td>1.237751e+09</td>\n      <td>4.947287e+07</td>\n      <td>2.951492e+09</td>\n      <td>6.555756e+07</td>\n      <td>2.886798e+09</td>\n      <td>1.654387e+08</td>\n      <td>1.403190e+09</td>\n      <td>2.148923e+08</td>\n      <td>3.116941e+09</td>\n      <td>2.309785e+08</td>\n      <td>3.052246e+09</td>\n    </tr>\n    <tr>\n      <th>Policy_Dike_10m_RfR_4_EWS_2d</th>\n      <td>0.133507</td>\n      <td>0.005016</td>\n      <td>0.259921</td>\n      <td>0.006424</td>\n      <td>0.257917</td>\n      <td>1.307224e+09</td>\n      <td>5.466688e+07</td>\n      <td>2.951492e+09</td>\n      <td>7.543597e+07</td>\n      <td>2.886798e+09</td>\n      <td>3.003353e+08</td>\n      <td>1.607559e+09</td>\n      <td>3.549852e+08</td>\n      <td>3.251830e+09</td>\n      <td>3.757556e+08</td>\n      <td>3.187136e+09</td>\n    </tr>\n    <tr>\n      <th>Policy_Dike_10m_RfR_4_EWS_4d</th>\n      <td>0.106806</td>\n      <td>0.004013</td>\n      <td>0.207937</td>\n      <td>0.005139</td>\n      <td>0.206334</td>\n      <td>1.307224e+09</td>\n      <td>5.466688e+07</td>\n      <td>2.951492e+09</td>\n      <td>7.543597e+07</td>\n      <td>2.886798e+09</td>\n      <td>3.003444e+08</td>\n      <td>1.607568e+09</td>\n      <td>3.549866e+08</td>\n      <td>3.251841e+09</td>\n      <td>3.757577e+08</td>\n      <td>3.187146e+09</td>\n    </tr>\n    <tr>\n      <th>Policy_Zero</th>\n      <td>1.575331</td>\n      <td>0.304117</td>\n      <td>3.234204</td>\n      <td>0.564781</td>\n      <td>2.913047</td>\n      <td>1.762117e+09</td>\n      <td>3.106307e+08</td>\n      <td>2.951492e+09</td>\n      <td>4.126828e+08</td>\n      <td>2.920479e+09</td>\n      <td>0.000000e+00</td>\n      <td>1.762117e+09</td>\n      <td>3.106307e+08</td>\n      <td>2.951492e+09</td>\n      <td>4.126828e+08</td>\n      <td>2.920479e+09</td>\n    </tr>\n  </tbody>\n</table>\n</div>"
     },
     "execution_count": 14,
     "metadata": {},
     "output_type": "execute_result"
    }
   ],
   "source": [
    "# Create a Pandas GroupBy object\n",
    "group_df = df.groupby(by=\"policy\")\n",
    "\n",
    "# Create a list of statistical functions which are used\n",
    "agg_par = [\"mean\", \"min\", \"max\", q05, q95]\n",
    "\n",
    "# Create a dictionary with what outcome values are aggegrated with which functions\n",
    "agg_dict = {\n",
    "    \"Expected Number of Deaths\": agg_par,\n",
    "    \"Expected Annual Damage\": agg_par,\n",
    "    \"Total Costs\": \"mean\",\n",
    "    \"Cost plus Damage\": agg_par,\n",
    "}\n",
    "# Create new dataframe with the aggegrated data per policy\n",
    "TCA_df = group_df.agg(agg_dict)\n",
    "TCA_df"
   ],
   "metadata": {
    "collapsed": false,
    "pycharm": {
     "name": "#%%\n"
    }
   }
  },
  {
   "cell_type": "code",
   "execution_count": 15,
   "outputs": [],
   "source": [
    "# Save the aggegrated data to a CSV file\n",
    "TCA_df.to_csv(f\"results/TCA_results_pf{used_problem_formulation}.csv\")"
   ],
   "metadata": {
    "collapsed": false,
    "pycharm": {
     "name": "#%%\n"
    }
   }
  },
  {
   "cell_type": "markdown",
   "source": [
    "### Plots\n",
    "\n",
    "TODO: Make make some nice Seaborn plots?"
   ],
   "metadata": {
    "collapsed": false,
    "pycharm": {
     "name": "#%% md\n"
    }
   }
  },
  {
   "cell_type": "code",
   "execution_count": 16,
   "outputs": [
    {
     "data": {
      "text/plain": "<AxesSubplot:xlabel='policy'>"
     },
     "execution_count": 16,
     "metadata": {},
     "output_type": "execute_result"
    },
    {
     "data": {
      "text/plain": "<Figure size 432x288 with 1 Axes>",
      "image/png": "[encoded data removed]"
     },
     "metadata": {
      "needs_background": "light"
     },
     "output_type": "display_data"
    }
   ],
   "source": [
    "TCA_df[\"Expected Number of Deaths\"][\"mean\"].plot.bar()"
   ],
   "metadata": {
    "collapsed": false,
    "pycharm": {
     "name": "#%%\n"
    }
   }
  },
  {
   "cell_type": "code",
   "execution_count": 17,
   "outputs": [
    {
     "data": {
      "text/plain": "<AxesSubplot:xlabel='policy'>"
     },
     "execution_count": 17,
     "metadata": {},
     "output_type": "execute_result"
    },
    {
     "data": {
      "text/plain": "<Figure size 432x288 with 1 Axes>",
      "image/png": "[encoded data removed]"
     },
     "metadata": {
      "needs_background": "light"
     },
     "output_type": "display_data"
    }
   ],
   "source": [
    "TCA_df[\"Total Costs\"][\"mean\"].plot.bar()"
   ],
   "metadata": {
    "collapsed": false,
    "pycharm": {
     "name": "#%%\n"
    }
   }
  },
  {
   "cell_type": "code",
   "execution_count": 18,
   "outputs": [
    {
     "data": {
      "text/plain": "<AxesSubplot:xlabel='policy'>"
     },
     "execution_count": 18,
     "metadata": {},
     "output_type": "execute_result"
    },
    {
     "data": {
      "text/plain": "<Figure size 432x288 with 1 Axes>",
      "image/png": "[encoded data removed]"
     },
     "metadata": {
      "needs_background": "light"
     },
     "output_type": "display_data"
    }
   ],
   "source": [
    "TCA_df[\"Cost plus Damage\"][\"mean\"].plot.bar()"
   ],
   "metadata": {
    "collapsed": false,
    "pycharm": {
     "name": "#%%\n"
    }
   }
  },
  {
   "cell_type": "code",
   "execution_count": 18,
   "outputs": [],
   "source": [],
   "metadata": {
    "collapsed": false,
    "pycharm": {
     "name": "#%%\n"
    }
   }
  }
 ],
 "metadata": {
  "interpreter": {
   "hash": "6fd914e18bfa8d7647c3cf90e7a007e50e832e4a27cecf06ee50e35679d106a4"
  },
  "kernelspec": {
   "display_name": "Python 3.8.8 ('base')",
   "language": "python",
   "name": "python3"
  },
  "language_info": {
   "codemirror_mode": {
    "name": "ipython",
    "version": 3
   },
   "file_extension": ".py",
   "mimetype": "text/x-python",
   "name": "python",
   "nbconvert_exporter": "python",
   "pygments_lexer": "ipython3",
   "version": "3.8.8"
  }
 },
 "nbformat": 4,
 "nbformat_minor": 4
}