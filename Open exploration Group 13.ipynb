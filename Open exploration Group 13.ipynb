{
 "cells": [
  {
   "cell_type": "code",
   "execution_count": 3,
   "id": "8ea5d038-3715-4cd9-bcb8-6fa93baf2bf5",
   "metadata": {},
   "outputs": [],
   "source": [
    "from problem_formulation import get_model_for_problem_formulation"
   ]
  },
  {
   "cell_type": "code",
   "execution_count": 5,
   "id": "a5dc7452-71b3-467e-acae-4278b05520e8",
   "metadata": {},
   "outputs": [],
   "source": [
    "from __future__ import (unicode_literals, print_function, absolute_import,\n",
    "                        division)\n",
    "from ema_workbench import (MultiprocessingEvaluator, Policy, save_results)\n",
    "from ema_workbench.util import ema_logging\n",
    "import pandas as pd\n",
    "import seaborn as sns\n",
    "from matplotlib import pyplot as plt\n",
    "import time\n",
    "\n",
    "if __name__ == '__main__':\n",
    "    \n",
    "    ema_logging.log_to_stderr(ema_logging.INFO)\n",
    "    dike_model, planning_steps = get_model_for_problem_formulation(3)"
   ]
  },
  {
   "cell_type": "code",
   "execution_count": null,
   "id": "dd3827bb-bcef-4283-816e-5b0883110a42",
   "metadata": {},
   "outputs": [],
   "source": [
    "###this defines policy 0, doing nothing\n",
    "    # no dike increase, no warning, none of the rfr\n",
    "    zero_policy = {'DaysToThreat': 0}\n",
    "    zero_policy.update({'DikeIncrease {}'.format(n): 0 for n in planning_steps})\n",
    "    zero_policy.update({'RfR {}'.format(n): 0 for n in planning_steps})\n",
    "    \n",
    "    pol0 = {}\n",
    "    for key in dike_model.levers:\n",
    "        s1, s2 = key.name.split('_')\n",
    "        pol0.update({key.name: zero_policy[s2]})"
   ]
  },
  {
   "cell_type": "code",
   "execution_count": null,
   "id": "1a344f41-22a9-4e86-9082-3000eca57b9d",
   "metadata": {},
   "outputs": [],
   "source": [
    "###this defines policy 1 (heightening all dikes)\n",
    "    heightening_policy = {'DaysToThreat': 2}\n",
    "    heightening_policy.update({'DikeIncrease {}'.format(n): 5 for n in planning_steps})\n",
    "    heightening_policy.update({'RfR {}'.format(n): 0 for n in planning_steps})\n",
    "    \n",
    "    pol1 = {}\n",
    "    for key in dike_model.levers:\n",
    "        s1, s2 = key.name.split('_')\n",
    "        pol1.update({key.name: heightening_policy[s2]})"
   ]
  },
  {
   "cell_type": "code",
   "execution_count": null,
   "id": "05d69cfb-7329-4f9b-893a-e9a26211567b",
   "metadata": {},
   "outputs": [],
   "source": [
    "###this defines policy 2 (only rfr in beginning)\n",
    "    rfr_policy = {'DaysToThreat': 2}\n",
    "    rfr_policy.update({'DikeIncrease {}'.format(n): 0 for n in planning_steps})\n",
    "    rfr_policy.update({'RfR {}'.format(n): \n",
    "                       1 if n == 0 else 0 for n in planning_steps})\n",
    " \n",
    "    pol2 = {}\n",
    "    for key in dike_model.levers:\n",
    "        s1, s2 = key.name.split('_')\n",
    "        pol2.update({key.name: rfr_policy[s2]})"
   ]
  },
  {
   "cell_type": "code",
   "execution_count": null,
   "id": "3294510a-330b-4187-af47-fb27562ca2dc",
   "metadata": {},
   "outputs": [],
   "source": [
    "#this defines policy 3 (a maximized approach)\n",
    "    mixed_policy = {'DaysToThreat': 2}\n",
    "    mixed_policy.update({'DikeIncrease {}'.format(n): 5 for n in planning_steps})\n",
    "    mixed_policy.update({'RfR {}'.format(n):\n",
    "                         1 if n == 0 else 0 for n in planning_steps})\n",
    "    \n",
    "    pol3 = {}\n",
    "    for key in dike_model.levers:\n",
    "        s1, s2 = key.name.split('_')\n",
    "        pol3.update({key.name: mixed_policy[s2]})"
   ]
  },
  {
   "cell_type": "code",
   "execution_count": null,
   "id": "8456db88-a2bd-4556-9b01-ce90d5fc8428",
   "metadata": {},
   "outputs": [],
   "source": [
    "policy0 = Policy('Doing Nothing', **pol0)\n",
    "    policy1 = Policy(\"Only Heightening\", **pol1)\n",
    "    policy2 = Policy(\"Only Room for River\", **pol2)  \n",
    "    policy3 = Policy('Doing Both', **pol3)\n",
    "    policies = [policy0, policy1, policy2, policy3]\n",
    "    n_policies = len(policies)\n"
   ]
  },
  {
   "cell_type": "code",
   "execution_count": null,
   "id": "b5576a3a-866d-4f06-ae1d-228eebdaedce",
   "metadata": {},
   "outputs": [],
   "source": [
    "n_scenarios = 2000\n",
    "    with MultiprocessingEvaluator(dike_model) as evaluator:\n",
    "        results = evaluator.perform_experiments(\n",
    "                                                scenarios = n_scenarios, \n",
    "                                                policies = policies\n",
    "                                                )\n",
    "    experiments, outcomes = results\n"
   ]
  },
  {
   "cell_type": "code",
   "execution_count": null,
   "id": "487cdc50-43ca-422e-9ed6-cb34b0a9318d",
   "metadata": {},
   "outputs": [],
   "source": [
    "outcomes['Total Investment Costs'] = (\n",
    "        outcomes['Dike Investment Costs'] + outcomes['RfR Investment Costs'])\n",
    "    \n",
    "    outcomes['Total Damage Costs +\\nEvacuation Costs'] = (\n",
    "        outcomes['Expected Annual Damage'] + outcomes['Evacuation Costs'])\n",
    "    \n",
    "    \n",
    "    b = experiments['policy'] \n",
    "    data = pd.DataFrame.from_dict(outcomes)\n",
    "    data['policy'] = b\n",
    "    data_to_show = [\n",
    "                    'Total Damage Costs +\\nEvacuation Costs', \n",
    "                    'Total Investment Costs',\n",
    "                    'Expected Number of Deaths'\n",
    "                    ]\n",
    "    \n",
    "    sns.pairplot(data, hue='policy',  vars=data_to_show)\n",
    "    plt.show()\n"
   ]
  },
  {
   "cell_type": "code",
   "execution_count": null,
   "id": "c333b282-2aff-4ea5-810a-ff1c5cbbfed4",
   "metadata": {},
   "outputs": [],
   "source": [
    "#This section computes total costs and casualty condition\n",
    "    dfoutcomes = pd.DataFrame(outcomes)\n",
    "    dfoutcomes['Total costs'] = dfoutcomes.sum(axis=1)\n",
    "    dfresults = pd.concat([experiments,dfoutcomes], axis=1)\n",
    "    death_threshold = 0.0001\n",
    "    y = outcomes['Expected Number of Deaths'] < 0.0001\n",
    "    name = 'Death Risk Condition < {}'.format(str(death_threshold))\n",
    "    dfresults[name] = y\n",
    "    dfresults[name].value_counts()"
   ]
  }
 ],
 "metadata": {
  "kernelspec": {
   "display_name": "Python 3 (ipykernel)",
   "language": "python",
   "name": "python3"
  },
  "language_info": {
   "codemirror_mode": {
    "name": "ipython",
    "version": 3
   },
   "file_extension": ".py",
   "mimetype": "text/x-python",
   "name": "python",
   "nbconvert_exporter": "python",
   "pygments_lexer": "ipython3",
   "version": "3.9.7"
  }
 },
 "nbformat": 4,
 "nbformat_minor": 5
}
