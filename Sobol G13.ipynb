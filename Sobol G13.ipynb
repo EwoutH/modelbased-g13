{
 "cells": [
  {
   "cell_type": "code",
   "execution_count": null,
   "id": "c20b240c-dda0-4b4d-a58f-dbfc702db1ec",
   "metadata": {},
   "outputs": [],
   "source": [
    "%matplotlib inline\n",
    "import numpy as np\n",
    "import pandas as pd\n",
    "\n",
    "import matplotlib.pyplot as plt\n",
    "import seaborn as sns\n",
    "sns.set_style('white')\n",
    "\n",
    "from ema_workbench import (Model, RealParameter, TimeSeriesOutcome,\n",
    "                           perform_experiments, ema_logging,Policy, MultiprocessingEvaluator)\n",
    "\n",
    "from ema_workbench import Samplers\n",
    "\n",
    "from dike_model_function import DikeNetwork  # @UnresolvedImport\n",
    "\n",
    "from problem_formulation import get_model_for_problem_formulation\n",
    "\n",
    "from ema_workbench.em_framework.salib_samplers import get_SALib_problem\n",
    "\n",
    "from SALib.analyze import sobol\n",
    "\n",
    "import pickle"
   ]
  },
  {
   "cell_type": "code",
   "execution_count": 44,
   "id": "c6866c1b-b476-4415-9f71-455a813ffc32",
   "metadata": {},
   "outputs": [],
   "source": [
    "ema_logging.log_to_stderr(ema_logging.INFO);"
   ]
  },
  {
   "cell_type": "code",
   "execution_count": 39,
   "id": "497fe062-9cf3-475f-851b-d89c6e814a36",
   "metadata": {},
   "outputs": [],
   "source": [
    "dike_model, planning_steps = get_model_for_problem_formulation(2)"
   ]
  },
  {
   "cell_type": "code",
   "execution_count": 41,
   "id": "d036aca0-9a5d-47a1-b802-96686e13e810",
   "metadata": {},
   "outputs": [
    {
     "data": {
      "text/plain": [
       "array([0, 1, 2])"
      ]
     },
     "execution_count": 41,
     "metadata": {},
     "output_type": "execute_result"
    }
   ],
   "source": [
    "planning_steps"
   ]
  },
  {
   "cell_type": "code",
   "execution_count": 51,
   "id": "14a64b0e-aaee-4fe4-94ef-db81c8a106f1",
   "metadata": {},
   "outputs": [
    {
     "name": "stdout",
     "output_type": "stream",
     "text": [
      "{'num_vars': 19, 'names': ['A.0_ID flood wave shape', 'A.1_Bmax', 'A.1_Brate', 'A.1_pfail', 'A.2_Bmax', 'A.2_Brate', 'A.2_pfail', 'A.3_Bmax', 'A.3_Brate', 'A.3_pfail', 'A.4_Bmax', 'A.4_Brate', 'A.4_pfail', 'A.5_Bmax', 'A.5_Brate', 'A.5_pfail', 'discount rate 0', 'discount rate 1', 'discount rate 2'], 'bounds': [(0, 133), (30, 350), (0, 3), (0, 1), (30, 350), (0, 3), (0, 1), (30, 350), (0, 3), (0, 1), (30, 350), (0, 3), (0, 1), (30, 350), (0, 3), (0, 1), (0, 4), (0, 4), (0, 4)]}\n"
     ]
    }
   ],
   "source": [
    "uncertainties = dike_model.uncertainties\n",
    "outcomes = dike_model.outcomes\n",
    "levers = dike_model.levers\n",
    "\n",
    "problem = get_SALib_problem(uncertainties)\n",
    "print(problem)"
   ]
  },
  {
   "cell_type": "code",
   "execution_count": 64,
   "id": "ec40eff1-00f1-46b6-8dd1-42bb8dd4d67c",
   "metadata": {},
   "outputs": [],
   "source": [
    "#for unc in dike_model.uncertainties:\n",
    "#    print(repr(unc))"
   ]
  },
  {
   "cell_type": "code",
   "execution_count": 65,
   "id": "2b15e525-a070-46f0-90a5-f82ba23c5042",
   "metadata": {},
   "outputs": [],
   "source": [
    "#for out in dike_model.outcomes:\n",
    "#    print(repr(out))"
   ]
  },
  {
   "cell_type": "code",
   "execution_count": 60,
   "id": "56f175d8-e03e-4515-915e-a07873609974",
   "metadata": {},
   "outputs": [
    {
     "name": "stdout",
     "output_type": "stream",
     "text": [
      "'0_RfR 0'\n",
      "'0_RfR 1'\n",
      "'0_RfR 2'\n",
      "'1_RfR 0'\n",
      "'1_RfR 1'\n",
      "'1_RfR 2'\n",
      "'2_RfR 0'\n",
      "'2_RfR 1'\n",
      "'2_RfR 2'\n",
      "'3_RfR 0'\n",
      "'3_RfR 1'\n",
      "'3_RfR 2'\n",
      "'4_RfR 0'\n",
      "'4_RfR 1'\n",
      "'4_RfR 2'\n",
      "'EWS_DaysToThreat'\n",
      "'A.1_DikeIncrease 0'\n",
      "'A.1_DikeIncrease 1'\n",
      "'A.1_DikeIncrease 2'\n",
      "'A.2_DikeIncrease 0'\n",
      "'A.2_DikeIncrease 1'\n",
      "'A.2_DikeIncrease 2'\n",
      "'A.3_DikeIncrease 0'\n",
      "'A.3_DikeIncrease 1'\n",
      "'A.3_DikeIncrease 2'\n",
      "'A.4_DikeIncrease 0'\n",
      "'A.4_DikeIncrease 1'\n",
      "'A.4_DikeIncrease 2'\n",
      "'A.5_DikeIncrease 0'\n",
      "'A.5_DikeIncrease 1'\n",
      "'A.5_DikeIncrease 2'\n"
     ]
    }
   ],
   "source": [
    "for lev in dike_model.levers:\n",
    "    print(repr(lev.name))"
   ]
  },
  {
   "cell_type": "code",
   "execution_count": 66,
   "id": "34724f2c-603d-43e1-8fd6-76f90875e5a1",
   "metadata": {},
   "outputs": [
    {
     "ename": "NameError",
     "evalue": "name 'pickle' is not defined",
     "output_type": "error",
     "traceback": [
      "\u001b[0;31m---------------------------------------------------------------------------\u001b[0m",
      "\u001b[0;31mNameError\u001b[0m                                 Traceback (most recent call last)",
      "\u001b[0;32m/var/folders/51/lp422k2n4m9161_wcsq7wpr80000gn/T/ipykernel_33147/1455796681.py\u001b[0m in \u001b[0;36m<module>\u001b[0;34m\u001b[0m\n\u001b[1;32m      4\u001b[0m \u001b[0;32mif\u001b[0m \u001b[0muse_pickle1\u001b[0m\u001b[0;34m:\u001b[0m\u001b[0;34m\u001b[0m\u001b[0;34m\u001b[0m\u001b[0m\n\u001b[1;32m      5\u001b[0m     \u001b[0;32mwith\u001b[0m \u001b[0mopen\u001b[0m\u001b[0;34m(\u001b[0m\u001b[0;34m'data/formulation_results.pickle'\u001b[0m\u001b[0;34m,\u001b[0m \u001b[0;34m'rb'\u001b[0m\u001b[0;34m)\u001b[0m \u001b[0;32mas\u001b[0m \u001b[0mfilehandler\u001b[0m\u001b[0;34m:\u001b[0m\u001b[0;34m\u001b[0m\u001b[0;34m\u001b[0m\u001b[0m\n\u001b[0;32m----> 6\u001b[0;31m         \u001b[0mresults\u001b[0m \u001b[0;34m=\u001b[0m \u001b[0mpickle\u001b[0m\u001b[0;34m.\u001b[0m\u001b[0mload\u001b[0m\u001b[0;34m(\u001b[0m\u001b[0mfilehandler\u001b[0m\u001b[0;34m)\u001b[0m\u001b[0;34m\u001b[0m\u001b[0;34m\u001b[0m\u001b[0m\n\u001b[0m\u001b[1;32m      7\u001b[0m \u001b[0;34m\u001b[0m\u001b[0m\n\u001b[1;32m      8\u001b[0m \u001b[0;32melse\u001b[0m\u001b[0;34m:\u001b[0m\u001b[0;34m\u001b[0m\u001b[0;34m\u001b[0m\u001b[0m\n",
      "\u001b[0;31mNameError\u001b[0m: name 'pickle' is not defined"
     ]
    }
   ],
   "source": [
    "### True, use results in pickle file; False, run MultiprocessingEvaluator\n",
    "use_pickle1 = True\n",
    "\n",
    "if use_pickle1:\n",
    "    with open('data/formulation_results.pickle', 'rb') as filehandler:\n",
    "        results = pickle.load(filehandler)\n",
    "\n",
    "else:\n",
    "    # pass the policies list to EMA workbench experiment runs\n",
    "    n_scenarios = 10\n",
    "    with MultiprocessingEvaluator(dike_model) as evaluator:\n",
    "        results = evaluator.perform_experiments(n_scenarios, uncertainty_sampling=Samplers.SOBOL)\n",
    "        \n",
    "    experiments, outcomes = results\n",
    "\n",
    "    # Save results in Pickle file\n",
    "    with open('data/formulation_results.pickle', 'wb') as filehandler:\n",
    "        pickle.dump(results, filehandler)"
   ]
  },
  {
   "cell_type": "code",
   "execution_count": 50,
   "id": "79a7a714-a608-43c1-bd3a-cfbdd344ca5f",
   "metadata": {},
   "outputs": [
    {
     "name": "stderr",
     "output_type": "stream",
     "text": [
      "/Users/marcpeterstreng/opt/miniconda3/envs/py39/lib/python3.9/site-packages/SALib/sample/saltelli.py:94: UserWarning: \n",
      "        Convergence properties of the Sobol' sequence is only valid if\n",
      "        `N` (1000) is equal to `2^n`.\n",
      "        \n",
      "  warnings.warn(msg)\n",
      "[MainProcess/INFO] performing 40000 scenarios * 1 policies * 1 model(s) = 40000 experiments\n",
      "  0%|                                                | 0/40000 [00:00<?, ?it/s][MainProcess/INFO] performing experiments sequentially\n",
      "[MainProcess/ERROR] 'DikeIncrease 0'\n",
      "Traceback (most recent call last):\n",
      "  File \"/Users/marcpeterstreng/opt/miniconda3/envs/py39/lib/python3.9/site-packages/ema_workbench/em_framework/experiment_runner.py\", line 92, in run_experiment\n",
      "    model.run_model(scenario, policy)\n",
      "  File \"/Users/marcpeterstreng/opt/miniconda3/envs/py39/lib/python3.9/site-packages/ema_workbench/util/ema_logging.py\", line 152, in wrapper\n",
      "    res = func(*args, **kwargs)\n",
      "  File \"/Users/marcpeterstreng/opt/miniconda3/envs/py39/lib/python3.9/site-packages/ema_workbench/em_framework/model.py\", line 350, in run_model\n",
      "    outputs = self.run_experiment(experiment)\n",
      "  File \"/Users/marcpeterstreng/opt/miniconda3/envs/py39/lib/python3.9/site-packages/ema_workbench/util/ema_logging.py\", line 152, in wrapper\n",
      "    res = func(*args, **kwargs)\n",
      "  File \"/Users/marcpeterstreng/opt/miniconda3/envs/py39/lib/python3.9/site-packages/ema_workbench/em_framework/model.py\", line 403, in run_experiment\n",
      "    model_output = self.function(**experiment)\n",
      "  File \"/Users/marcpeterstreng/Documents/GitHub/modelbased-g13/dike_model_function.py\", line 160, in __call__\n",
      "    self.progressive_height_and_costs(G, dikelist, self.planning_steps)\n",
      "  File \"/Users/marcpeterstreng/Documents/GitHub/modelbased-g13/dike_model_function.py\", line 95, in progressive_height_and_costs\n",
      "    node[f'DikeIncrease {s}'] *= self.dh\n",
      "KeyError: 'DikeIncrease 0'\n"
     ]
    },
    {
     "ename": "EMAError",
     "evalue": "exception in run_model\nCaused by: KeyError: 'DikeIncrease 0'",
     "output_type": "error",
     "traceback": [
      "\u001b[0;31m---------------------------------------------------------------------------\u001b[0m",
      "\u001b[0;31mKeyError\u001b[0m                                  Traceback (most recent call last)",
      "\u001b[0;32m~/opt/miniconda3/envs/py39/lib/python3.9/site-packages/ema_workbench/em_framework/experiment_runner.py\u001b[0m in \u001b[0;36mrun_experiment\u001b[0;34m(self, experiment)\u001b[0m\n\u001b[1;32m     91\u001b[0m         \u001b[0;32mtry\u001b[0m\u001b[0;34m:\u001b[0m\u001b[0;34m\u001b[0m\u001b[0;34m\u001b[0m\u001b[0m\n\u001b[0;32m---> 92\u001b[0;31m             \u001b[0mmodel\u001b[0m\u001b[0;34m.\u001b[0m\u001b[0mrun_model\u001b[0m\u001b[0;34m(\u001b[0m\u001b[0mscenario\u001b[0m\u001b[0;34m,\u001b[0m \u001b[0mpolicy\u001b[0m\u001b[0;34m)\u001b[0m\u001b[0;34m\u001b[0m\u001b[0;34m\u001b[0m\u001b[0m\n\u001b[0m\u001b[1;32m     93\u001b[0m         \u001b[0;32mexcept\u001b[0m \u001b[0mCaseError\u001b[0m \u001b[0;32mas\u001b[0m \u001b[0me\u001b[0m\u001b[0;34m:\u001b[0m\u001b[0;34m\u001b[0m\u001b[0;34m\u001b[0m\u001b[0m\n",
      "\u001b[0;32m~/opt/miniconda3/envs/py39/lib/python3.9/site-packages/ema_workbench/util/ema_logging.py\u001b[0m in \u001b[0;36mwrapper\u001b[0;34m(*args, **kwargs)\u001b[0m\n\u001b[1;32m    151\u001b[0m             \u001b[0mlogger\u001b[0m\u001b[0;34m.\u001b[0m\u001b[0mdebug\u001b[0m\u001b[0;34m(\u001b[0m\u001b[0;34m\"calling {} on {}\"\u001b[0m\u001b[0;34m.\u001b[0m\u001b[0mformat\u001b[0m\u001b[0;34m(\u001b[0m\u001b[0mfunc\u001b[0m\u001b[0;34m.\u001b[0m\u001b[0m__name__\u001b[0m\u001b[0;34m,\u001b[0m \u001b[0mclassname\u001b[0m\u001b[0;34m)\u001b[0m\u001b[0;34m)\u001b[0m\u001b[0;34m\u001b[0m\u001b[0;34m\u001b[0m\u001b[0m\n\u001b[0;32m--> 152\u001b[0;31m             \u001b[0mres\u001b[0m \u001b[0;34m=\u001b[0m \u001b[0mfunc\u001b[0m\u001b[0;34m(\u001b[0m\u001b[0;34m*\u001b[0m\u001b[0margs\u001b[0m\u001b[0;34m,\u001b[0m \u001b[0;34m**\u001b[0m\u001b[0mkwargs\u001b[0m\u001b[0;34m)\u001b[0m\u001b[0;34m\u001b[0m\u001b[0;34m\u001b[0m\u001b[0m\n\u001b[0m\u001b[1;32m    153\u001b[0m             \u001b[0mlogger\u001b[0m\u001b[0;34m.\u001b[0m\u001b[0mdebug\u001b[0m\u001b[0;34m(\u001b[0m\u001b[0;34m\"completed calling {} on {}\"\u001b[0m\u001b[0;34m.\u001b[0m\u001b[0mformat\u001b[0m\u001b[0;34m(\u001b[0m\u001b[0mfunc\u001b[0m\u001b[0;34m.\u001b[0m\u001b[0m__name__\u001b[0m\u001b[0;34m,\u001b[0m \u001b[0mclassname\u001b[0m\u001b[0;34m)\u001b[0m\u001b[0;34m)\u001b[0m\u001b[0;34m\u001b[0m\u001b[0;34m\u001b[0m\u001b[0m\n",
      "\u001b[0;32m~/opt/miniconda3/envs/py39/lib/python3.9/site-packages/ema_workbench/em_framework/model.py\u001b[0m in \u001b[0;36mrun_model\u001b[0;34m(self, scenario, policy)\u001b[0m\n\u001b[1;32m    349\u001b[0m \u001b[0;34m\u001b[0m\u001b[0m\n\u001b[0;32m--> 350\u001b[0;31m         \u001b[0moutputs\u001b[0m \u001b[0;34m=\u001b[0m \u001b[0mself\u001b[0m\u001b[0;34m.\u001b[0m\u001b[0mrun_experiment\u001b[0m\u001b[0;34m(\u001b[0m\u001b[0mexperiment\u001b[0m\u001b[0;34m)\u001b[0m\u001b[0;34m\u001b[0m\u001b[0;34m\u001b[0m\u001b[0m\n\u001b[0m\u001b[1;32m    351\u001b[0m \u001b[0;34m\u001b[0m\u001b[0m\n",
      "\u001b[0;32m~/opt/miniconda3/envs/py39/lib/python3.9/site-packages/ema_workbench/util/ema_logging.py\u001b[0m in \u001b[0;36mwrapper\u001b[0;34m(*args, **kwargs)\u001b[0m\n\u001b[1;32m    151\u001b[0m             \u001b[0mlogger\u001b[0m\u001b[0;34m.\u001b[0m\u001b[0mdebug\u001b[0m\u001b[0;34m(\u001b[0m\u001b[0;34m\"calling {} on {}\"\u001b[0m\u001b[0;34m.\u001b[0m\u001b[0mformat\u001b[0m\u001b[0;34m(\u001b[0m\u001b[0mfunc\u001b[0m\u001b[0;34m.\u001b[0m\u001b[0m__name__\u001b[0m\u001b[0;34m,\u001b[0m \u001b[0mclassname\u001b[0m\u001b[0;34m)\u001b[0m\u001b[0;34m)\u001b[0m\u001b[0;34m\u001b[0m\u001b[0;34m\u001b[0m\u001b[0m\n\u001b[0;32m--> 152\u001b[0;31m             \u001b[0mres\u001b[0m \u001b[0;34m=\u001b[0m \u001b[0mfunc\u001b[0m\u001b[0;34m(\u001b[0m\u001b[0;34m*\u001b[0m\u001b[0margs\u001b[0m\u001b[0;34m,\u001b[0m \u001b[0;34m**\u001b[0m\u001b[0mkwargs\u001b[0m\u001b[0;34m)\u001b[0m\u001b[0;34m\u001b[0m\u001b[0;34m\u001b[0m\u001b[0m\n\u001b[0m\u001b[1;32m    153\u001b[0m             \u001b[0mlogger\u001b[0m\u001b[0;34m.\u001b[0m\u001b[0mdebug\u001b[0m\u001b[0;34m(\u001b[0m\u001b[0;34m\"completed calling {} on {}\"\u001b[0m\u001b[0;34m.\u001b[0m\u001b[0mformat\u001b[0m\u001b[0;34m(\u001b[0m\u001b[0mfunc\u001b[0m\u001b[0;34m.\u001b[0m\u001b[0m__name__\u001b[0m\u001b[0;34m,\u001b[0m \u001b[0mclassname\u001b[0m\u001b[0;34m)\u001b[0m\u001b[0;34m)\u001b[0m\u001b[0;34m\u001b[0m\u001b[0;34m\u001b[0m\u001b[0m\n",
      "\u001b[0;32m~/opt/miniconda3/envs/py39/lib/python3.9/site-packages/ema_workbench/em_framework/model.py\u001b[0m in \u001b[0;36mrun_experiment\u001b[0;34m(self, experiment)\u001b[0m\n\u001b[1;32m    402\u001b[0m         \"\"\"\n\u001b[0;32m--> 403\u001b[0;31m         \u001b[0mmodel_output\u001b[0m \u001b[0;34m=\u001b[0m \u001b[0mself\u001b[0m\u001b[0;34m.\u001b[0m\u001b[0mfunction\u001b[0m\u001b[0;34m(\u001b[0m\u001b[0;34m**\u001b[0m\u001b[0mexperiment\u001b[0m\u001b[0;34m)\u001b[0m\u001b[0;34m\u001b[0m\u001b[0;34m\u001b[0m\u001b[0m\n\u001b[0m\u001b[1;32m    404\u001b[0m \u001b[0;34m\u001b[0m\u001b[0m\n",
      "\u001b[0;32m~/Documents/GitHub/modelbased-g13/dike_model_function.py\u001b[0m in \u001b[0;36m__call__\u001b[0;34m(self, timestep, **kwargs)\u001b[0m\n\u001b[1;32m    159\u001b[0m \u001b[0;34m\u001b[0m\u001b[0m\n\u001b[0;32m--> 160\u001b[0;31m         \u001b[0mself\u001b[0m\u001b[0;34m.\u001b[0m\u001b[0mprogressive_height_and_costs\u001b[0m\u001b[0;34m(\u001b[0m\u001b[0mG\u001b[0m\u001b[0;34m,\u001b[0m \u001b[0mdikelist\u001b[0m\u001b[0;34m,\u001b[0m \u001b[0mself\u001b[0m\u001b[0;34m.\u001b[0m\u001b[0mplanning_steps\u001b[0m\u001b[0;34m)\u001b[0m\u001b[0;34m\u001b[0m\u001b[0;34m\u001b[0m\u001b[0m\n\u001b[0m\u001b[1;32m    161\u001b[0m \u001b[0;34m\u001b[0m\u001b[0m\n",
      "\u001b[0;32m~/Documents/GitHub/modelbased-g13/dike_model_function.py\u001b[0m in \u001b[0;36mprogressive_height_and_costs\u001b[0;34m(self, G, dikenodes, steps)\u001b[0m\n\u001b[1;32m     94\u001b[0m             \u001b[0;32mfor\u001b[0m \u001b[0ms\u001b[0m \u001b[0;32min\u001b[0m \u001b[0msteps\u001b[0m\u001b[0;34m:\u001b[0m\u001b[0;34m\u001b[0m\u001b[0;34m\u001b[0m\u001b[0m\n\u001b[0;32m---> 95\u001b[0;31m                 \u001b[0mnode\u001b[0m\u001b[0;34m[\u001b[0m\u001b[0;34mf'DikeIncrease {s}'\u001b[0m\u001b[0;34m]\u001b[0m \u001b[0;34m*=\u001b[0m \u001b[0mself\u001b[0m\u001b[0;34m.\u001b[0m\u001b[0mdh\u001b[0m\u001b[0;34m\u001b[0m\u001b[0;34m\u001b[0m\u001b[0m\n\u001b[0m\u001b[1;32m     96\u001b[0m                 \u001b[0;31m# 1 Initialize fragility curve\u001b[0m\u001b[0;34m\u001b[0m\u001b[0;34m\u001b[0m\u001b[0m\n",
      "\u001b[0;31mKeyError\u001b[0m: 'DikeIncrease 0'",
      "\nDuring handling of the above exception, another exception occurred:\n",
      "\u001b[0;31mEMAError\u001b[0m                                  Traceback (most recent call last)",
      "\u001b[0;32m/var/folders/51/lp422k2n4m9161_wcsq7wpr80000gn/T/ipykernel_33147/1116929770.py\u001b[0m in \u001b[0;36m<module>\u001b[0;34m\u001b[0m\n\u001b[1;32m      1\u001b[0m \u001b[0mn_exp\u001b[0m \u001b[0;34m=\u001b[0m \u001b[0;36m1000\u001b[0m\u001b[0;34m\u001b[0m\u001b[0;34m\u001b[0m\u001b[0m\n\u001b[1;32m      2\u001b[0m \u001b[0;34m\u001b[0m\u001b[0m\n\u001b[0;32m----> 3\u001b[0;31m experiments_sobol, outcomes_sobol = perform_experiments(dike_model, scenarios=n_exp,\n\u001b[0m\u001b[1;32m      4\u001b[0m                                                         uncertainty_sampling=Samplers.SOBOL)\n",
      "\u001b[0;32m~/opt/miniconda3/envs/py39/lib/python3.9/site-packages/ema_workbench/em_framework/evaluators.py\u001b[0m in \u001b[0;36mperform_experiments\u001b[0;34m(models, scenarios, policies, evaluator, reporting_interval, reporting_frequency, uncertainty_union, lever_union, outcome_union, uncertainty_sampling, lever_sampling, callback, return_callback, combine, log_progress)\u001b[0m\n\u001b[1;32m    537\u001b[0m         \u001b[0mevaluator\u001b[0m \u001b[0;34m=\u001b[0m \u001b[0mSequentialEvaluator\u001b[0m\u001b[0;34m(\u001b[0m\u001b[0mmodels\u001b[0m\u001b[0;34m)\u001b[0m\u001b[0;34m\u001b[0m\u001b[0;34m\u001b[0m\u001b[0m\n\u001b[1;32m    538\u001b[0m \u001b[0;34m\u001b[0m\u001b[0m\n\u001b[0;32m--> 539\u001b[0;31m     \u001b[0mevaluator\u001b[0m\u001b[0;34m.\u001b[0m\u001b[0mevaluate_experiments\u001b[0m\u001b[0;34m(\u001b[0m\u001b[0mscenarios\u001b[0m\u001b[0;34m,\u001b[0m \u001b[0mpolicies\u001b[0m\u001b[0;34m,\u001b[0m \u001b[0mcallback\u001b[0m\u001b[0;34m,\u001b[0m \u001b[0mcombine\u001b[0m\u001b[0;34m=\u001b[0m\u001b[0mcombine\u001b[0m\u001b[0;34m)\u001b[0m\u001b[0;34m\u001b[0m\u001b[0;34m\u001b[0m\u001b[0m\n\u001b[0m\u001b[1;32m    540\u001b[0m \u001b[0;34m\u001b[0m\u001b[0m\n\u001b[1;32m    541\u001b[0m     \u001b[0;32mif\u001b[0m \u001b[0mcallback\u001b[0m\u001b[0;34m.\u001b[0m\u001b[0mi\u001b[0m \u001b[0;34m!=\u001b[0m \u001b[0mnr_of_exp\u001b[0m\u001b[0;34m:\u001b[0m\u001b[0;34m\u001b[0m\u001b[0;34m\u001b[0m\u001b[0m\n",
      "\u001b[0;32m~/opt/miniconda3/envs/py39/lib/python3.9/site-packages/ema_workbench/em_framework/evaluators.py\u001b[0m in \u001b[0;36mevaluate_experiments\u001b[0;34m(self, scenarios, policies, callback, combine)\u001b[0m\n\u001b[1;32m    297\u001b[0m \u001b[0;34m\u001b[0m\u001b[0m\n\u001b[1;32m    298\u001b[0m         \u001b[0;32mfor\u001b[0m \u001b[0mexperiment\u001b[0m \u001b[0;32min\u001b[0m \u001b[0mex_gen\u001b[0m\u001b[0;34m:\u001b[0m\u001b[0;34m\u001b[0m\u001b[0;34m\u001b[0m\u001b[0m\n\u001b[0;32m--> 299\u001b[0;31m             \u001b[0moutcomes\u001b[0m \u001b[0;34m=\u001b[0m \u001b[0mrunner\u001b[0m\u001b[0;34m.\u001b[0m\u001b[0mrun_experiment\u001b[0m\u001b[0;34m(\u001b[0m\u001b[0mexperiment\u001b[0m\u001b[0;34m)\u001b[0m\u001b[0;34m\u001b[0m\u001b[0;34m\u001b[0m\u001b[0m\n\u001b[0m\u001b[1;32m    300\u001b[0m             \u001b[0mcallback\u001b[0m\u001b[0;34m(\u001b[0m\u001b[0mexperiment\u001b[0m\u001b[0;34m,\u001b[0m \u001b[0moutcomes\u001b[0m\u001b[0;34m)\u001b[0m\u001b[0;34m\u001b[0m\u001b[0;34m\u001b[0m\u001b[0m\n\u001b[1;32m    301\u001b[0m         \u001b[0mrunner\u001b[0m\u001b[0;34m.\u001b[0m\u001b[0mcleanup\u001b[0m\u001b[0;34m(\u001b[0m\u001b[0;34m)\u001b[0m\u001b[0;34m\u001b[0m\u001b[0;34m\u001b[0m\u001b[0m\n",
      "\u001b[0;32m~/opt/miniconda3/envs/py39/lib/python3.9/site-packages/ema_workbench/util/ema_logging.py\u001b[0m in \u001b[0;36mwrapper\u001b[0;34m(*args, **kwargs)\u001b[0m\n\u001b[1;32m    150\u001b[0m             \u001b[0;31m# object instance as first arguments in args\u001b[0m\u001b[0;34m\u001b[0m\u001b[0;34m\u001b[0m\u001b[0m\n\u001b[1;32m    151\u001b[0m             \u001b[0mlogger\u001b[0m\u001b[0;34m.\u001b[0m\u001b[0mdebug\u001b[0m\u001b[0;34m(\u001b[0m\u001b[0;34m\"calling {} on {}\"\u001b[0m\u001b[0;34m.\u001b[0m\u001b[0mformat\u001b[0m\u001b[0;34m(\u001b[0m\u001b[0mfunc\u001b[0m\u001b[0;34m.\u001b[0m\u001b[0m__name__\u001b[0m\u001b[0;34m,\u001b[0m \u001b[0mclassname\u001b[0m\u001b[0;34m)\u001b[0m\u001b[0;34m)\u001b[0m\u001b[0;34m\u001b[0m\u001b[0;34m\u001b[0m\u001b[0m\n\u001b[0;32m--> 152\u001b[0;31m             \u001b[0mres\u001b[0m \u001b[0;34m=\u001b[0m \u001b[0mfunc\u001b[0m\u001b[0;34m(\u001b[0m\u001b[0;34m*\u001b[0m\u001b[0margs\u001b[0m\u001b[0;34m,\u001b[0m \u001b[0;34m**\u001b[0m\u001b[0mkwargs\u001b[0m\u001b[0;34m)\u001b[0m\u001b[0;34m\u001b[0m\u001b[0;34m\u001b[0m\u001b[0m\n\u001b[0m\u001b[1;32m    153\u001b[0m             \u001b[0mlogger\u001b[0m\u001b[0;34m.\u001b[0m\u001b[0mdebug\u001b[0m\u001b[0;34m(\u001b[0m\u001b[0;34m\"completed calling {} on {}\"\u001b[0m\u001b[0;34m.\u001b[0m\u001b[0mformat\u001b[0m\u001b[0;34m(\u001b[0m\u001b[0mfunc\u001b[0m\u001b[0;34m.\u001b[0m\u001b[0m__name__\u001b[0m\u001b[0;34m,\u001b[0m \u001b[0mclassname\u001b[0m\u001b[0;34m)\u001b[0m\u001b[0;34m)\u001b[0m\u001b[0;34m\u001b[0m\u001b[0;34m\u001b[0m\u001b[0m\n\u001b[1;32m    154\u001b[0m             \u001b[0;32mreturn\u001b[0m \u001b[0mres\u001b[0m\u001b[0;34m\u001b[0m\u001b[0;34m\u001b[0m\u001b[0m\n",
      "\u001b[0;32m~/opt/miniconda3/envs/py39/lib/python3.9/site-packages/ema_workbench/em_framework/experiment_runner.py\u001b[0m in \u001b[0;36mrun_experiment\u001b[0;34m(self, experiment)\u001b[0m\n\u001b[1;32m    106\u001b[0m \u001b[0;34m\u001b[0m\u001b[0m\n\u001b[1;32m    107\u001b[0m             \u001b[0merrortype\u001b[0m \u001b[0;34m=\u001b[0m \u001b[0mtype\u001b[0m\u001b[0;34m(\u001b[0m\u001b[0me\u001b[0m\u001b[0;34m)\u001b[0m\u001b[0;34m.\u001b[0m\u001b[0m__name__\u001b[0m\u001b[0;34m\u001b[0m\u001b[0;34m\u001b[0m\u001b[0m\n\u001b[0;32m--> 108\u001b[0;31m             raise EMAError(\n\u001b[0m\u001b[1;32m    109\u001b[0m                 (\n\u001b[1;32m    110\u001b[0m                     \u001b[0;34m\"exception in run_model\"\u001b[0m\u001b[0;34m\u001b[0m\u001b[0;34m\u001b[0m\u001b[0m\n",
      "\u001b[0;31mEMAError\u001b[0m: exception in run_model\nCaused by: KeyError: 'DikeIncrease 0'"
     ]
    }
   ],
   "source": [
    "n_exp = 10\n",
    "\n",
    "experiments_sobol, outcomes_sobol = perform_experiments(dike_model, scenarios=n_exp,\n",
    "                                                        uncertainty_sampling=Samplers.SOBOL)"
   ]
  },
  {
   "cell_type": "code",
   "execution_count": 48,
   "id": "1ce5b765-94ec-4654-9b34-f827b04f4b03",
   "metadata": {},
   "outputs": [
    {
     "name": "stdout",
     "output_type": "stream",
     "text": [
      "CategoricalParameter('A.5_Brate', [0, 1, 2])\n",
      "CategoricalParameter('A.5_Brate', [0, 1, 2])\n",
      "CategoricalParameter('A.5_Brate', [0, 1, 2])\n",
      "CategoricalParameter('A.5_Brate', [0, 1, 2])\n",
      "CategoricalParameter('A.5_Brate', [0, 1, 2])\n"
     ]
    }
   ],
   "source": [
    "for outcome in outcomes:\n",
    "    print(repr(unc)) "
   ]
  },
  {
   "cell_type": "code",
   "execution_count": null,
   "id": "04603cc9-7e65-4257-8364-5374c517bf21",
   "metadata": {},
   "outputs": [],
   "source": [
    "prey_final_sobol = outcomes_sobol['prey'][:,0,-1]\n",
    "prey_mean_sobol = np.mean(outcomes_sobol['prey'][:,0,:],axis=1)\n",
    "prey_std_sobol = np.std(outcomes_sobol['prey'][:,0,:],axis=1)\n",
    "\n",
    "Si = sobol.analyze(problem, prey_mean_sobol, calc_second_order=True, print_to_console=True)"
   ]
  },
  {
   "cell_type": "code",
   "execution_count": null,
   "id": "860a1fdc-f7d8-483a-b8cf-76c09c3ad838",
   "metadata": {},
   "outputs": [],
   "source": [
    "scen1 = {\n",
    "'discount rate 0'\n",
    "'discount rate 1'\n",
    "'discount rate 2'\n",
    "'A.0_ID flood wave shape'\n",
    "'A.1_Bmax'\n",
    "'A.1_pfail'\n",
    "'A.1_Brate'\n",
    "'A.2_Bmax'\n",
    "'A.2_pfail'\n",
    "'A.2_Brate'\n",
    "'A.3_Bmax'\n",
    "'A.3_pfail'\n",
    "'A.3_Brate'\n",
    "'A.4_Bmax'\n",
    "'A.4_pfail'\n",
    "'A.4_Brate'\n",
    "'A.5_Bmax'\n",
    "'A.5_pfail'\n",
    "'A.5_Brate'}\n"
   ]
  },
  {
   "cell_type": "code",
   "execution_count": null,
   "id": "0189f956-ddb4-4dbb-bb3c-0f5f5b3bc64f",
   "metadata": {},
   "outputs": [],
   "source": [
    "    # no dike increase, no warning, none of the rfr\n",
    "    zero_policy = {'DaysToThreat': 0}\n",
    "    zero_policy.update({'DikeIncrease {}'.format(n): 0 for n in planning_steps})\n",
    "    zero_policy.update({'RfR {}'.format(n): 0 for n in planning_steps})\n",
    "    pol0 = {}\n",
    "\n",
    "    for key in dike_model.levers:\n",
    "        s1, s2 = key.name.split('_')\n",
    "        pol0.update({key.name: zero_policy[s2]})\n",
    "\n",
    "    policy0 = Policy('Policy 0', **pol0)"
   ]
  }
 ],
 "metadata": {
  "kernelspec": {
   "display_name": "Python 3 (ipykernel)",
   "language": "python",
   "name": "python3"
  },
  "language_info": {
   "codemirror_mode": {
    "name": "ipython",
    "version": 3
   },
   "file_extension": ".py",
   "mimetype": "text/x-python",
   "name": "python",
   "nbconvert_exporter": "python",
   "pygments_lexer": "ipython3",
   "version": "3.9.7"
  }
 },
 "nbformat": 4,
 "nbformat_minor": 5
}
