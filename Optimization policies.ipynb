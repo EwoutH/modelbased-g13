{
 "cells": [
  {
   "cell_type": "code",
   "execution_count": 1,
   "id": "31322f55-c2d1-4239-9ba5-9dfa3cd385e4",
   "metadata": {
    "pycharm": {
     "name": "#%%\n"
    }
   },
   "outputs": [],
   "source": [
    "from matplotlib.pyplot import figure\n",
    "from problem_formulation import get_model_for_problem_formulation\n",
    "from ema_workbench import Policy, ema_logging, ScalarOutcome\n",
    "\n",
    "import pickle\n",
    "import numpy as np\n",
    "import pandas as pd\n",
    "import seaborn as sns\n"
   ]
  },
  {
   "cell_type": "code",
   "execution_count": 2,
   "id": "5bc02132",
   "metadata": {
    "collapsed": false,
    "jupyter": {
     "outputs_hidden": false
    },
    "pycharm": {
     "name": "#%%\n"
    }
   },
   "outputs": [],
   "source": [
    "# Define the desired problem formulation here\n",
    "pf = 3\n",
    "model, _ = get_model_for_problem_formulation(pf)"
   ]
  },
  {
   "cell_type": "code",
   "execution_count": 3,
   "id": "055ff0e2-ad9a-41eb-b19e-aac672730521",
   "metadata": {
    "pycharm": {
     "name": "#%%\n"
    }
   },
   "outputs": [],
   "source": [
    "#We do not understand yet why we need a reference_value, these values are from the std document of dike_model_simulation.py\n",
    "\n",
    "reference_values = {'Bmax': 175, 'Brate': 1.5, 'pfail': 0.5,\n",
    "                    'discount rate 0': 3.5, 'discount rate 1': 3.5,\n",
    "                    'discount rate 2': 3.5,\n",
    "                    'ID flood wave shape': 4}\n",
    "scen1 = {}\n",
    "#comparing scenario's with the reference to select scenario's fitted for the problem\n",
    "for key in model.uncertainties:\n",
    "    name_split = key.name.split('_')\n",
    "\n",
    "    if len(name_split) == 1:\n",
    "        scen1.update({key.name: reference_values[key.name]})\n",
    "\n",
    "    else:\n",
    "        scen1.update({key.name: reference_values[name_split[1]]})\n",
    "        \n",
    "from ema_workbench import Scenario\n",
    "\n",
    "ref_scenario = Scenario('reference', **scen1)"
   ]
  },
  {
   "cell_type": "markdown",
   "id": "49473164-16e2-4cac-bac9-f40a704fbe26",
   "metadata": {},
   "source": [
    "### Step 1: Generate optimal policies"
   ]
  },
  {
   "cell_type": "code",
   "execution_count": 4,
   "id": "9f1c7d5e-cda4-4175-82b9-25b64492c85d",
   "metadata": {
    "pycharm": {
     "name": "#%%\n"
    }
   },
   "outputs": [
    {
     "ename": "ImportError",
     "evalue": "cannot import name 'Samplers' from 'ema_workbench' (C:\\Users\\Thomas\\miniconda3\\lib\\site-packages\\ema_workbench\\__init__.py)",
     "output_type": "error",
     "traceback": [
      "\u001b[1;31m---------------------------------------------------------------------------\u001b[0m",
      "\u001b[1;31mImportError\u001b[0m                               Traceback (most recent call last)",
      "\u001b[1;32m~\\AppData\\Local\\Temp\\ipykernel_18744\\2134331212.py\u001b[0m in \u001b[0;36m<module>\u001b[1;34m\u001b[0m\n\u001b[0;32m      6\u001b[0m \u001b[1;32mfrom\u001b[0m \u001b[0mema_workbench\u001b[0m\u001b[1;33m.\u001b[0m\u001b[0mem_framework\u001b[0m\u001b[1;33m.\u001b[0m\u001b[0mevaluators\u001b[0m \u001b[1;32mimport\u001b[0m \u001b[0mBaseEvaluator\u001b[0m\u001b[1;33m\u001b[0m\u001b[1;33m\u001b[0m\u001b[0m\n\u001b[0;32m      7\u001b[0m \u001b[1;33m\u001b[0m\u001b[0m\n\u001b[1;32m----> 8\u001b[1;33m \u001b[1;32mfrom\u001b[0m \u001b[0mema_workbench\u001b[0m \u001b[1;32mimport\u001b[0m \u001b[0mSamplers\u001b[0m\u001b[1;33m\u001b[0m\u001b[1;33m\u001b[0m\u001b[0m\n\u001b[0m\u001b[0;32m      9\u001b[0m \u001b[1;33m\u001b[0m\u001b[0m\n\u001b[0;32m     10\u001b[0m \u001b[0mema_logging\u001b[0m\u001b[1;33m.\u001b[0m\u001b[0mlog_to_stderr\u001b[0m\u001b[1;33m(\u001b[0m\u001b[0mema_logging\u001b[0m\u001b[1;33m.\u001b[0m\u001b[0mINFO\u001b[0m\u001b[1;33m)\u001b[0m\u001b[1;33m\u001b[0m\u001b[1;33m\u001b[0m\u001b[0m\n",
      "\u001b[1;31mImportError\u001b[0m: cannot import name 'Samplers' from 'ema_workbench' (C:\\Users\\Thomas\\miniconda3\\lib\\site-packages\\ema_workbench\\__init__.py)"
     ]
    }
   ],
   "source": [
    "from ema_workbench import MultiprocessingEvaluator\n",
    "\n",
    "from ema_workbench.em_framework.optimization import (HyperVolume,\n",
    "                                                     EpsilonProgress)\n",
    "\n",
    "from ema_workbench.em_framework.evaluators import BaseEvaluator\n",
    "\n",
    "from ema_workbench import Samplers\n",
    "\n",
    "ema_logging.log_to_stderr(ema_logging.INFO)\n",
    "\n",
    "#The model is saving the convergence table every 500 nfr, so chose a large number to analyse trends. \n",
    "\n",
    "nfe = 100\n",
    "\n",
    "#The amount of values for the epsilon list is dependend on the amount of outputs. \n",
    "#the larger you choose your epsilon, the more results you will get\n",
    "#you could chose a lower epsilon in this case. \n",
    "\n",
    "len_out = len(model.outcomes.keys()) #This adjusts the size of Epsilon and Hypervolume to the problem formulation\n",
    "epsilon = [2] * len_out   \n",
    "\n",
    "#for now there is still a problem with the HyperVolume function. We could decide to not use it because the EpsilonProgress\n",
    "#is also helpful findig the total amount of policies to establish the convergence of the policie space.\n",
    "\n",
    "convergence_metrics = [HyperVolume(minimum=[0]*len_out, maximum=[1.01]*len_out),\n",
    "                       EpsilonProgress()]\n",
    "\n",
    "#Run ones with Pickle is false to get results, then you could set Pickle on true to avoid unnesecery run time. =) \n",
    "use_pickle1 = False\n",
    "if use_pickle1:\n",
    "    with open(f\"data/MORDM_results1_pf{pf}.pickle\",\"rb\") as filehandler:\n",
    "        results, convergence = pickle.load(filehandler)\n",
    "else:\n",
    "    with MultiprocessingEvaluator(model) as evaluator:\n",
    "        #save it as a Tuple \n",
    "        results, convergence = evaluator.optimize(nfe=nfe, searchover='levers',\n",
    "                                                  epsilons=epsilon,\n",
    "                                                  convergence=convergence_metrics,\n",
    "                                                  reference=ref_scenario,\n",
    "                                                  n_processes=10,\n",
    "                                                  uncertainty_sampling=Samplers.LHS)\n",
    "###!!!!!!\n",
    "#Change the amount of processes accordingly. 10 processes is recommended for 6core CPU. 14 processes for 8 core CPU        \n",
    "###!!!!!!\n",
    "    #Save results in Pickle file\n",
    "    #with open(f\"data/MORDM_results1_pf{pf}.pickle\",\"wb\") as filehandler:\n",
    "        #pickle.dump((results,convergence),filehandler)"
   ]
  },
  {
   "cell_type": "code",
   "execution_count": null,
   "id": "552cf649",
   "metadata": {
    "collapsed": false,
    "jupyter": {
     "outputs_hidden": false
    },
    "pycharm": {
     "name": "#%%\n"
    }
   },
   "outputs": [],
   "source": [
    "convergence"
   ]
  },
  {
   "cell_type": "code",
   "execution_count": null,
   "id": "a173e3b9-9ef5-4e84-a8be-f28e6a1fcfdd",
   "metadata": {
    "pycharm": {
     "name": "#%%\n"
    }
   },
   "outputs": [],
   "source": [
    "outcomes = results[list(model.outcomes.keys())] #This makes sure that the outcomes are split from the levers/uncertainties \n",
    "outcomes.head()"
   ]
  },
  {
   "cell_type": "code",
   "execution_count": null,
   "id": "23b9309e-5de3-48bb-8c06-7fe8ebd26f1e",
   "metadata": {
    "pycharm": {
     "name": "#%%\n"
    }
   },
   "outputs": [],
   "source": [
    "from ema_workbench.analysis import parcoords\n",
    "\n",
    "#making a pairplot\n",
    "import matplotlib.pyplot as plt\n",
    "\n",
    "limits = parcoords.get_limits(outcomes)\n",
    "limits.loc[0, outcomes.keys()] = 0\n",
    "\n",
    "axes = parcoords.ParallelAxes(limits, fontsize=12, rot=20)\n",
    "axes.plot(outcomes)\n",
    "#plt.savefig(f\"images/ParallelAxes_pf{pf}.svg\")\n",
    "plt.show()"
   ]
  },
  {
   "cell_type": "code",
   "execution_count": null,
   "id": "6c0bdfaf-2c2b-4308-a704-1a2e7104d193",
   "metadata": {},
   "outputs": [],
   "source": [
    "convergence\n",
    "#as seen, the hypervolume stays 0, this indicates an error. "
   ]
  },
  {
   "cell_type": "code",
   "execution_count": null,
   "id": "af4d9c69-6abb-482a-be2e-b71fc60e63b9",
   "metadata": {},
   "outputs": [],
   "source": [
    "fig, (ax1, ax2) = plt.subplots(ncols=2, sharex=True, figsize=(8,4))\n",
    "ax1.plot(convergence.nfe, convergence.epsilon_progress)\n",
    "ax1.set_ylabel('$\\epsilon$-progress')\n",
    "ax2.plot(convergence.nfe, convergence.hypervolume)\n",
    "ax2.set_ylabel('hypervolume')\n",
    "\n",
    "ax1.set_xlabel('number of function evaluations')\n",
    "ax2.set_xlabel('number of function evaluations')\n",
    "plt.show()"
   ]
  },
  {
   "cell_type": "markdown",
   "id": "99dd0b57",
   "metadata": {
    "pycharm": {
     "name": "#%% md\n"
    }
   },
   "source": [
    "### Step 2: Re-evaluate candidate solutions under uncertainty"
   ]
  },
  {
   "cell_type": "code",
   "execution_count": null,
   "id": "199f97b4-fb6b-4fb9-89bf-c279d7bd1470",
   "metadata": {},
   "outputs": [],
   "source": [
    "pf = 2\n",
    "model, _ = get_model_for_problem_formulation(pf)"
   ]
  },
  {
   "cell_type": "code",
   "execution_count": null,
   "id": "50e2cea1-9d7b-4862-8f79-8b94bb710646",
   "metadata": {},
   "outputs": [],
   "source": [
    "from ema_workbench import Samplers\n",
    "\n",
    "ema_logging.log_to_stderr(ema_logging.INFO)\n",
    "\n",
    "#The model is saving the convergence table every 500 nfr, so chose a large number to analyse trends. \n",
    "\n",
    "nfe = 100\n",
    "\n",
    "#The amount of values for the epsilon list is dependend on the amount of outputs. \n",
    "#the larger you choose your epsilon, the more results you will get\n",
    "#you could chose a lower epsilon in this case. \n",
    "\n",
    "len_out = len(model.outcomes.keys()) #This adjusts the size of Epsilon and Hypervolume to the problem formulation\n",
    "epsilon = [2] * len_out   \n",
    "\n",
    "#for now there is still a problem with the HyperVolume function. We could decide to not use it because the EpsilonProgress\n",
    "#is also helpful findig the total amount of policies to establish the convergence of the policie space.\n",
    "\n",
    "convergence_metrics = [HyperVolume(minimum=[0]*len_out, maximum=[1.01]*len_out),\n",
    "                       EpsilonProgress()]\n",
    "\n",
    "#Run ones with Pickle is false to get results, then you could set Pickle on true to avoid unnesecery run time. =) \n",
    "use_pickle1 = False\n",
    "if use_pickle1:\n",
    "    with open(f\"data/MORDM_results1_pf{pf}.pickle\",\"rb\") as filehandler:\n",
    "        results, convergence = pickle.load(filehandler)\n",
    "else:\n",
    "    with MultiprocessingEvaluator(model) as evaluator:\n",
    "        #save it as a Tuple \n",
    "        results, convergence = evaluator.optimize(nfe=nfe, searchover='levers',\n",
    "                                                  epsilons=epsilon,\n",
    "                                                  convergence=convergence_metrics,\n",
    "                                                  reference=ref_scenario,\n",
    "                                                  n_processes=10,\n",
    "                                                  uncertainty_sampling=Samplers.LHS)\n",
    "###!!!!!!\n",
    "#Change the amount of processes accordingly. 10 processes is recommended for 6core CPU. 14 processes for 8 core CPU        \n",
    "###!!!!!!\n",
    "    #Save results in Pickle file\n",
    "    #with open(f\"data/MORDM_results1_pf{pf}.pickle\",\"wb\") as filehandler:\n",
    "        #pickle.dump((results,convergence),filehandler)"
   ]
  },
  {
   "cell_type": "code",
   "execution_count": null,
   "id": "35dda7fa-3d47-4b00-9cd9-6db698c786d6",
   "metadata": {},
   "outputs": [],
   "source": [
    "fig, (ax1, ax2) = plt.subplots(ncols=2, sharex=True, figsize=(8,4))\n",
    "ax1.plot(convergence.nfe, convergence.epsilon_progress)\n",
    "ax1.set_ylabel('$\\epsilon$-progress')\n",
    "ax2.plot(convergence.nfe, convergence.hypervolume)\n",
    "ax2.set_ylabel('hypervolume')\n",
    "\n",
    "ax1.set_xlabel('number of function evaluations')\n",
    "ax2.set_xlabel('number of function evaluations')\n",
    "plt.show()"
   ]
  },
  {
   "cell_type": "code",
   "execution_count": null,
   "id": "fa3784be",
   "metadata": {
    "collapsed": false,
    "jupyter": {
     "outputs_hidden": false
    },
    "pycharm": {
     "name": "#%%\n"
    }
   },
   "outputs": [],
   "source": [
    "results[\"Expected Annual Damage\"] <= 1000000"
   ]
  },
  {
   "cell_type": "code",
   "execution_count": null,
   "id": "71d7d1ad",
   "metadata": {
    "collapsed": false,
    "jupyter": {
     "outputs_hidden": false
    },
    "pycharm": {
     "name": "#%%\n"
    }
   },
   "outputs": [],
   "source": [
    "logical = (results[\"Expected Number of Deaths\"] <= 0.01) & (results[\"Expected Annual Damage\"] <= 1000000)\n",
    "np.sum(logical)"
   ]
  },
  {
   "cell_type": "code",
   "execution_count": null,
   "id": "99e90385",
   "metadata": {
    "collapsed": false,
    "jupyter": {
     "outputs_hidden": false
    },
    "pycharm": {
     "name": "#%%\n"
    }
   },
   "outputs": [],
   "source": [
    "results[logical].head()"
   ]
  },
  {
   "cell_type": "code",
   "execution_count": null,
   "id": "e42d8d25",
   "metadata": {
    "collapsed": false,
    "jupyter": {
     "outputs_hidden": false
    },
    "pycharm": {
     "name": "#%%\n"
    }
   },
   "outputs": [],
   "source": [
    "policies = results[logical]\n",
    "policies = policies.drop([o.name for o in model.outcomes], axis=1)\n",
    "policies.head()"
   ]
  },
  {
   "cell_type": "code",
   "execution_count": null,
   "id": "0f5c1514",
   "metadata": {
    "collapsed": false,
    "jupyter": {
     "outputs_hidden": false
    },
    "pycharm": {
     "name": "#%%\n"
    }
   },
   "outputs": [],
   "source": [
    "policies_to_evaluate = []\n",
    "\n",
    "for i, policy in policies.iterrows():\n",
    "    policies_to_evaluate.append(Policy(str(i), **policy.to_dict()))"
   ]
  },
  {
   "cell_type": "code",
   "execution_count": null,
   "id": "09e26f32",
   "metadata": {
    "collapsed": false,
    "jupyter": {
     "outputs_hidden": false
    },
    "pycharm": {
     "name": "#%%\n"
    }
   },
   "outputs": [],
   "source": [
    "# True, use results in pickle file; False, run MultiprocessingEvaluator\n",
    "use_pickle2 = True\n",
    "\n",
    "if use_pickle2:\n",
    "    with open(f\"data/MORDM_results2_pf{pf}.pickle\",\"rb\") as filehandler:\n",
    "        results2 = pickle.load(filehandler)\n",
    "\n",
    "else:\n",
    "    # pass the policies list to EMA workbench experiment runs\n",
    "    n_scenarios = 250\n",
    "    with MultiprocessingEvaluator(model) as evaluator:\n",
    "        results2 = evaluator.perform_experiments(n_scenarios, policies_to_evaluate)\n",
    "    # Save results in Pickle file\n",
    "    with open(f\"data/MORDM_results2_pf{pf}.pickle\",\"wb\") as filehandler:\n",
    "        pickle.dump(results2,filehandler)"
   ]
  },
  {
   "cell_type": "code",
   "execution_count": null,
   "id": "278b0aef",
   "metadata": {
    "collapsed": false,
    "jupyter": {
     "outputs_hidden": false
    },
    "pycharm": {
     "name": "#%%\n"
    }
   },
   "outputs": [],
   "source": [
    "def s_to_n(data, direction):\n",
    "    mean = np.mean(data)\n",
    "    std = np.std(data)\n",
    "    \n",
    "    if direction==ScalarOutcome.MAXIMIZE:\n",
    "        return mean/std\n",
    "    else:\n",
    "        return mean*std"
   ]
  },
  {
   "cell_type": "code",
   "execution_count": null,
   "id": "7432d5e3",
   "metadata": {
    "collapsed": false,
    "jupyter": {
     "outputs_hidden": false
    },
    "pycharm": {
     "name": "#%%\n"
    }
   },
   "outputs": [],
   "source": [
    "experiments2, outcomes2 = results2\n",
    "\n",
    "overall_scores = {}\n",
    "for policy in np.unique(experiments2['policy']):\n",
    "    scores = {}\n",
    "    \n",
    "    logical = experiments2['policy']==policy\n",
    "    \n",
    "    for outcome in model.outcomes:\n",
    "        value  = outcomes2[outcome.name][logical]\n",
    "        sn_ratio = s_to_n(value, outcome.kind)\n",
    "        scores[outcome.name] = sn_ratio\n",
    "    overall_scores[policy] = scores\n",
    "scores = pd.DataFrame.from_dict(overall_scores).T\n",
    "scores"
   ]
  },
  {
   "cell_type": "code",
   "execution_count": null,
   "id": "bc6bbc4c",
   "metadata": {
    "collapsed": false,
    "jupyter": {
     "outputs_hidden": false
    },
    "pycharm": {
     "name": "#%%\n"
    }
   },
   "outputs": [],
   "source": [
    "data = scores\n",
    "limits = parcoords.get_limits(data)\n",
    "limits.loc[0, data.keys()] = 0\n",
    "\n",
    "paraxes = parcoords.ParallelAxes(limits)\n",
    "paraxes.plot(data)\n",
    "plt.show()"
   ]
  },
  {
   "cell_type": "markdown",
   "id": "4b80205a",
   "metadata": {
    "pycharm": {
     "name": "#%% md\n"
    }
   },
   "source": [
    "### Step 3: Give scores using maximum regret"
   ]
  },
  {
   "cell_type": "code",
   "execution_count": null,
   "id": "f0734cd0",
   "metadata": {
    "collapsed": false,
    "jupyter": {
     "outputs_hidden": false
    },
    "pycharm": {
     "name": "#%%\n"
    }
   },
   "outputs": [],
   "source": [
    "def calculate_regret(data, best):\n",
    "    return np.abs(best-data)"
   ]
  },
  {
   "cell_type": "code",
   "execution_count": null,
   "id": "5b72b58d",
   "metadata": {
    "collapsed": false,
    "jupyter": {
     "outputs_hidden": false
    },
    "pycharm": {
     "name": "#%%\n"
    }
   },
   "outputs": [],
   "source": [
    "overall_regret = {}\n",
    "max_regret = {}\n",
    "for outcome in model.outcomes:\n",
    "    policy_column = experiments2['policy']\n",
    "    \n",
    "    # create a DataFrame with all the relevent information\n",
    "    # i.e., policy, scenario_id, and scores\n",
    "    data = pd.DataFrame({outcome.name: outcomes2[outcome.name], \n",
    "                         \"policy\":experiments2['policy'],\n",
    "                         \"scenario\":experiments2['scenario']})\n",
    "    \n",
    "    # reorient the data by indexing with policy and scenario id\n",
    "    data = data.pivot(index='scenario', columns='policy')\n",
    "    \n",
    "    # flatten the resulting hierarchical index resulting from \n",
    "    # pivoting, (might be a nicer solution possible)\n",
    "    data.columns = data.columns.get_level_values(1)\n",
    "    \n",
    "    # we need to control the broadcasting. \n",
    "    # max returns a 1d vector across scenario id. By passing\n",
    "    # np.newaxis we ensure that the shape is the same as the data\n",
    "    # next we take the absolute value\n",
    "    #\n",
    "    # basically we take the difference of the maximum across \n",
    "    # the row and the actual values in the row\n",
    "    #\n",
    "    outcome_regret = (data.max(axis=1)[:, np.newaxis] - data).abs()\n",
    "    \n",
    "    overall_regret[outcome.name] = outcome_regret\n",
    "    max_regret[outcome.name] = outcome_regret.max()"
   ]
  },
  {
   "cell_type": "code",
   "execution_count": null,
   "id": "99b0ebd2",
   "metadata": {
    "collapsed": false,
    "jupyter": {
     "outputs_hidden": false
    },
    "pycharm": {
     "name": "#%%\n"
    }
   },
   "outputs": [],
   "source": [
    "max_regret = pd.DataFrame(max_regret)\n",
    "sns.heatmap(max_regret/max_regret.max(), cmap='viridis', annot=True)\n",
    "plt.show()"
   ]
  },
  {
   "cell_type": "code",
   "execution_count": null,
   "id": "df3a4e93",
   "metadata": {
    "collapsed": false,
    "jupyter": {
     "outputs_hidden": false
    },
    "pycharm": {
     "name": "#%%\n"
    }
   },
   "outputs": [],
   "source": [
    "colors = sns.color_palette()\n",
    "\n",
    "data = max_regret\n",
    "\n",
    "# makes it easier to identify the policy associated with each line\n",
    "# in the parcoords plot\n",
    "# data['policy'] = data.index.astype(\"float64\")\n",
    "\n",
    "limits = parcoords.get_limits(data)\n",
    "limits.loc[0, data.keys()] = 0\n",
    "\n",
    "paraxes = parcoords.ParallelAxes(limits)\n",
    "for i, (index, row) in enumerate(data.iterrows()):\n",
    "    paraxes.plot(row.to_frame().T, label=str(index), color=colors[i])\n",
    "paraxes.legend()\n",
    "    \n",
    "plt.show()"
   ]
  },
  {
   "cell_type": "code",
   "execution_count": null,
   "id": "1a5f1ea6",
   "metadata": {
    "collapsed": false,
    "jupyter": {
     "outputs_hidden": false
    },
    "pycharm": {
     "name": "#%%\n"
    }
   },
   "outputs": [],
   "source": [
    "from collections import defaultdict\n",
    "\n",
    "policy_regret = defaultdict(dict)\n",
    "for key, value in overall_regret.items():\n",
    "    for policy in value:\n",
    "        policy_regret[policy][key] = value[policy]"
   ]
  },
  {
   "cell_type": "code",
   "execution_count": null,
   "id": "f06291f6",
   "metadata": {
    "collapsed": false,
    "jupyter": {
     "outputs_hidden": false
    },
    "pycharm": {
     "name": "#%%\n"
    }
   },
   "outputs": [],
   "source": [
    "# this generates a 2 by 2 axes grid, with a shared X and Y axis\n",
    "# accross all plots\n",
    "fig, axes = plt.subplots(ncols=3, nrows=2, figsize=(18,12), \n",
    "                         sharey=True, sharex=True)\n",
    "\n",
    "# to ensure easy iteration over the axes grid, we turn it\n",
    "# into a list. Because there are four plots, I hard coded\n",
    "# this. \n",
    "axes = [axes[0,0], axes[0,1], axes[0,2],\n",
    "        axes[1,0], axes[1,1], axes[1,2]]\n",
    "\n",
    "# zip allows us to zip together the list of axes and the list of \n",
    "# key value pairs return by items. If we iterate over this\n",
    "# it returns a tuple of length 2. The first item is the ax\n",
    "# the second items is the key value pair.\n",
    "for ax, (policy, regret) in zip(axes, policy_regret.items()):\n",
    "    data = pd.DataFrame(regret)\n",
    "\n",
    "    # we need to scale the regret to ensure fair visual\n",
    "    # comparison. We can do that by divding by the maximum regret\n",
    "    data = data/max_regret.max(axis=0)\n",
    "    sns.boxplot(data=data, ax=ax)\n",
    "    \n",
    "    # removes top and left hand black outline of axes\n",
    "    sns.despine()\n",
    "    \n",
    "    # ensure we know which policy the figure is for\n",
    "    ax.set_title(str(policy))\n",
    "\n",
    "    # Rotate x-axis labels slightly to make them redable\n",
    "    ax.set_xticklabels(ax.get_xticklabels(), rotation=20)\n",
    "plt.show()"
   ]
  }
 ],
 "metadata": {
  "kernelspec": {
   "display_name": "Python 3 (ipykernel)",
   "language": "python",
   "name": "python3"
  },
  "language_info": {
   "codemirror_mode": {
    "name": "ipython",
    "version": 3
   },
   "file_extension": ".py",
   "mimetype": "text/x-python",
   "name": "python",
   "nbconvert_exporter": "python",
   "pygments_lexer": "ipython3",
   "version": "3.9.12"
  }
 },
 "nbformat": 4,
 "nbformat_minor": 5
}
