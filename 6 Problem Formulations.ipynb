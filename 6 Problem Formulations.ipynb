{
 "cells": [
  {
   "cell_type": "markdown",
   "metadata": {
    "pycharm": {
     "name": "#%% md\n"
    }
   },
   "source": [
    "### Imports\n",
    "Import packages and load model parameters (uncertainties, levers, etc.)"
   ]
  },
  {
   "cell_type": "code",
   "execution_count": 1,
   "metadata": {
    "collapsed": false,
    "jupyter": {
     "outputs_hidden": false
    },
    "pycharm": {
     "name": "#%%\n"
    }
   },
   "outputs": [],
   "source": [
    "import numpy as np\n",
    "import scipy as sp\n",
    "import pandas as pd\n",
    "import matplotlib.pyplot as plt\n",
    "import seaborn as sns\n",
    "import networkx as nx\n",
    "import pickle"
   ]
  },
  {
   "cell_type": "code",
   "execution_count": 2,
   "metadata": {
    "collapsed": false,
    "jupyter": {
     "outputs_hidden": false
    },
    "pycharm": {
     "name": "#%%\n"
    }
   },
   "outputs": [
    {
     "name": "stdout",
     "output_type": "stream",
     "text": [
      "1.4.2\n",
      "2.8\n"
     ]
    }
   ],
   "source": [
    "# make sure pandas is version 1.0 or higher\n",
    "# make sure networkx is verion 2.4 or higher\n",
    "print(pd.__version__)\n",
    "print(nx.__version__)"
   ]
  },
  {
   "cell_type": "code",
   "execution_count": 3,
   "metadata": {
    "collapsed": false,
    "jupyter": {
     "outputs_hidden": false
    },
    "pycharm": {
     "name": "#%%\n"
    }
   },
   "outputs": [],
   "source": [
    "from ema_workbench import (\n",
    "    Model,\n",
    "    Policy,\n",
    "    ema_logging,\n",
    "    SequentialEvaluator,\n",
    "    MultiprocessingEvaluator,\n",
    ")\n",
    "from dike_model_function import DikeNetwork  # @UnresolvedImport\n",
    "from problem_formulation import get_model_for_problem_formulation\n",
    "\n",
    "\n",
    "def sum_over(*args):\n",
    "    return sum(args)"
   ]
  },
  {
   "cell_type": "code",
   "execution_count": 4,
   "metadata": {
    "collapsed": false,
    "jupyter": {
     "outputs_hidden": false
    },
    "pycharm": {
     "name": "#%%\n"
    }
   },
   "outputs": [
    {
     "data": {
      "text/plain": [
       "<Logger EMA (DEBUG)>"
      ]
     },
     "execution_count": 4,
     "metadata": {},
     "output_type": "execute_result"
    }
   ],
   "source": [
    "# Enable logging\n",
    "ema_logging.log_to_stderr(ema_logging.INFO)"
   ]
  },
  {
   "cell_type": "markdown",
   "metadata": {
    "pycharm": {
     "name": "#%% md\n"
    }
   },
   "source": [
    "**Problem formulation**\n",
    "Important cell below, here you can choose the problem formulation number, between 0-5\n",
    "each problem formulation has its own list of outcomes"
   ]
  },
  {
   "cell_type": "code",
   "execution_count": 5,
   "metadata": {
    "collapsed": false,
    "jupyter": {
     "outputs_hidden": false
    },
    "pycharm": {
     "name": "#%%\n"
    }
   },
   "outputs": [],
   "source": [
    "used_problem_formulation = 2\n",
    "\n",
    "dike_model, planning_steps = get_model_for_problem_formulation(used_problem_formulation)"
   ]
  },
  {
   "cell_type": "code",
   "execution_count": 6,
   "metadata": {
    "collapsed": false,
    "jupyter": {
     "outputs_hidden": false
    },
    "pycharm": {
     "name": "#%%\n"
    }
   },
   "outputs": [
    {
     "name": "stdout",
     "output_type": "stream",
     "text": [
      "CategoricalParameter('discount rate 0', [0, 1, 2, 3])\n",
      "CategoricalParameter('discount rate 1', [0, 1, 2, 3])\n",
      "CategoricalParameter('discount rate 2', [0, 1, 2, 3])\n",
      "<ema_workbench.em_framework.parameters.IntegerParameter object at 0x00000165EDDF1280>\n",
      "<ema_workbench.em_framework.parameters.RealParameter object at 0x00000165EDDCA640>\n",
      "<ema_workbench.em_framework.parameters.RealParameter object at 0x00000165EDD64E80>\n",
      "CategoricalParameter('A.1_Brate', [0, 1, 2])\n",
      "<ema_workbench.em_framework.parameters.RealParameter object at 0x00000165EDE03760>\n",
      "<ema_workbench.em_framework.parameters.RealParameter object at 0x00000165EDD44580>\n",
      "CategoricalParameter('A.2_Brate', [0, 1, 2])\n",
      "<ema_workbench.em_framework.parameters.RealParameter object at 0x00000165EDE03FA0>\n",
      "<ema_workbench.em_framework.parameters.RealParameter object at 0x00000165EDE083A0>\n",
      "CategoricalParameter('A.3_Brate', [0, 1, 2])\n",
      "<ema_workbench.em_framework.parameters.RealParameter object at 0x00000165EDD99490>\n",
      "<ema_workbench.em_framework.parameters.RealParameter object at 0x00000165EDE0D340>\n",
      "CategoricalParameter('A.4_Brate', [0, 1, 2])\n",
      "<ema_workbench.em_framework.parameters.RealParameter object at 0x00000165EDD99370>\n",
      "<ema_workbench.em_framework.parameters.RealParameter object at 0x00000165EDE122E0>\n",
      "CategoricalParameter('A.5_Brate', [0, 1, 2])\n"
     ]
    }
   ],
   "source": [
    "# enlisting uncertainties, their types (RealParameter/IntegerParameter/CategoricalParameter), lower boundary, and upper boundary\n",
    "import copy\n",
    "\n",
    "for unc in dike_model.uncertainties:\n",
    "    print(repr(unc))\n",
    "\n",
    "uncertainties = copy.deepcopy(dike_model.uncertainties)"
   ]
  },
  {
   "cell_type": "code",
   "execution_count": 7,
   "metadata": {
    "collapsed": false,
    "jupyter": {
     "outputs_hidden": false
    },
    "pycharm": {
     "name": "#%%\n"
    }
   },
   "outputs": [
    {
     "name": "stdout",
     "output_type": "stream",
     "text": [
      "<ema_workbench.em_framework.parameters.IntegerParameter object at 0x00000165EDD64370>\n",
      "<ema_workbench.em_framework.parameters.IntegerParameter object at 0x00000165EDDF1A00>\n",
      "<ema_workbench.em_framework.parameters.IntegerParameter object at 0x00000165EDDA87F0>\n",
      "<ema_workbench.em_framework.parameters.IntegerParameter object at 0x00000165EDDF1820>\n",
      "<ema_workbench.em_framework.parameters.IntegerParameter object at 0x00000165EDD446A0>\n",
      "<ema_workbench.em_framework.parameters.IntegerParameter object at 0x00000165EDDF1BB0>\n",
      "<ema_workbench.em_framework.parameters.IntegerParameter object at 0x00000165EDD8F490>\n",
      "<ema_workbench.em_framework.parameters.IntegerParameter object at 0x00000165EDDF1640>\n",
      "<ema_workbench.em_framework.parameters.IntegerParameter object at 0x00000165EDD8F790>\n",
      "<ema_workbench.em_framework.parameters.IntegerParameter object at 0x00000165EDD64700>\n",
      "<ema_workbench.em_framework.parameters.IntegerParameter object at 0x00000165EDD8F2B0>\n",
      "<ema_workbench.em_framework.parameters.IntegerParameter object at 0x00000165EDD64B20>\n",
      "<ema_workbench.em_framework.parameters.IntegerParameter object at 0x00000165EDD997C0>\n",
      "<ema_workbench.em_framework.parameters.IntegerParameter object at 0x00000165EDD64280>\n",
      "<ema_workbench.em_framework.parameters.IntegerParameter object at 0x00000165EDDCA430>\n",
      "<ema_workbench.em_framework.parameters.IntegerParameter object at 0x00000165EDCA3E50>\n",
      "<ema_workbench.em_framework.parameters.IntegerParameter object at 0x00000165EDD445E0>\n",
      "<ema_workbench.em_framework.parameters.IntegerParameter object at 0x00000165EDE030A0>\n",
      "<ema_workbench.em_framework.parameters.IntegerParameter object at 0x00000165EDD44730>\n",
      "<ema_workbench.em_framework.parameters.IntegerParameter object at 0x00000165EDD99310>\n",
      "<ema_workbench.em_framework.parameters.IntegerParameter object at 0x00000165EDE03B20>\n",
      "<ema_workbench.em_framework.parameters.IntegerParameter object at 0x00000165EDE08160>\n",
      "<ema_workbench.em_framework.parameters.IntegerParameter object at 0x00000165EDE08A30>\n",
      "<ema_workbench.em_framework.parameters.IntegerParameter object at 0x00000165EDE031C0>\n",
      "<ema_workbench.em_framework.parameters.IntegerParameter object at 0x00000165EDE0D100>\n",
      "<ema_workbench.em_framework.parameters.IntegerParameter object at 0x00000165EDE0D9D0>\n",
      "<ema_workbench.em_framework.parameters.IntegerParameter object at 0x00000165EDD99580>\n",
      "<ema_workbench.em_framework.parameters.IntegerParameter object at 0x00000165EDE120A0>\n",
      "<ema_workbench.em_framework.parameters.IntegerParameter object at 0x00000165EDE12970>\n",
      "<ema_workbench.em_framework.parameters.IntegerParameter object at 0x00000165EDE08850>\n",
      "<ema_workbench.em_framework.parameters.IntegerParameter object at 0x00000165EDE190A0>\n"
     ]
    }
   ],
   "source": [
    "# enlisting policy levers, their types (RealParameter/IntegerParameter), lower boundary, and upper boundary\n",
    "for policy in dike_model.levers:\n",
    "    print(repr(policy))\n",
    "\n",
    "levers = copy.deepcopy(dike_model.levers)"
   ]
  },
  {
   "cell_type": "code",
   "execution_count": 8,
   "metadata": {
    "collapsed": false,
    "jupyter": {
     "outputs_hidden": false
    },
    "pycharm": {
     "name": "#%%\n"
    }
   },
   "outputs": [
    {
     "name": "stdout",
     "output_type": "stream",
     "text": [
      "ScalarOutcome('Expected Annual Damage', variable_name=('A.1_Expected Annual Damage 0', 'A.2_Expected Annual Damage 0', 'A.3_Expected Annual Damage 0', 'A.4_Expected Annual Damage 0', 'A.5_Expected Annual Damage 0', 'A.1_Expected Annual Damage 1', 'A.2_Expected Annual Damage 1', 'A.3_Expected Annual Damage 1', 'A.4_Expected Annual Damage 1', 'A.5_Expected Annual Damage 1', 'A.1_Expected Annual Damage 2', 'A.2_Expected Annual Damage 2', 'A.3_Expected Annual Damage 2', 'A.4_Expected Annual Damage 2', 'A.5_Expected Annual Damage 2'), function=<function sum_over at 0x00000165ED2CADC0>)\n",
      "ScalarOutcome('Dike Investment Costs', variable_name=('A.1_Dike Investment Costs 0', 'A.2_Dike Investment Costs 0', 'A.3_Dike Investment Costs 0', 'A.4_Dike Investment Costs 0', 'A.5_Dike Investment Costs 0', 'A.1_Dike Investment Costs 1', 'A.2_Dike Investment Costs 1', 'A.3_Dike Investment Costs 1', 'A.4_Dike Investment Costs 1', 'A.5_Dike Investment Costs 1', 'A.1_Dike Investment Costs 2', 'A.2_Dike Investment Costs 2', 'A.3_Dike Investment Costs 2', 'A.4_Dike Investment Costs 2', 'A.5_Dike Investment Costs 2'), function=<function sum_over at 0x00000165ED2CADC0>)\n",
      "ScalarOutcome('RfR Investment Costs', variable_name=('RfR Total Costs 0', 'RfR Total Costs 1', 'RfR Total Costs 2'), function=<function sum_over at 0x00000165ED2CADC0>)\n",
      "ScalarOutcome('Evacuation Costs', variable_name=('Expected Evacuation Costs 0', 'Expected Evacuation Costs 1', 'Expected Evacuation Costs 2'), function=<function sum_over at 0x00000165ED2CADC0>)\n",
      "ScalarOutcome('Expected Number of Deaths', variable_name=('A.1_Expected Number of Deaths 0', 'A.2_Expected Number of Deaths 0', 'A.3_Expected Number of Deaths 0', 'A.4_Expected Number of Deaths 0', 'A.5_Expected Number of Deaths 0', 'A.1_Expected Number of Deaths 1', 'A.2_Expected Number of Deaths 1', 'A.3_Expected Number of Deaths 1', 'A.4_Expected Number of Deaths 1', 'A.5_Expected Number of Deaths 1', 'A.1_Expected Number of Deaths 2', 'A.2_Expected Number of Deaths 2', 'A.3_Expected Number of Deaths 2', 'A.4_Expected Number of Deaths 2', 'A.5_Expected Number of Deaths 2'), function=<function sum_over at 0x00000165ED2CADC0>)\n"
     ]
    }
   ],
   "source": [
    "# enlisting outcomes\n",
    "for outcome in dike_model.outcomes:\n",
    "    print(repr(outcome))"
   ]
  },
  {
   "cell_type": "markdown",
   "metadata": {
    "pycharm": {
     "name": "#%% md\n"
    }
   },
   "source": [
    "### Policy formulations\n",
    "In the following cells the wanted policies can be adjusted"
   ]
  },
  {
   "cell_type": "code",
   "execution_count": 9,
   "metadata": {
    "collapsed": false,
    "jupyter": {
     "outputs_hidden": false
    },
    "pycharm": {
     "name": "#%%\n"
    }
   },
   "outputs": [],
   "source": [
    "# Create a function which sets everything to 0 by default\n",
    "def get_0_dict():\n",
    "    return {l.name: 0 for l in dike_model.levers}\n",
    "\n",
    "# Creates a Policy object from a dict and a (optional) name\n",
    "def create_policy(dict1, name=None):\n",
    "    return Policy(f\"Policy_{name}\", **dict(get_0_dict(), **dict1))"
   ]
  },
  {
   "cell_type": "code",
   "execution_count": 10,
   "metadata": {},
   "outputs": [
    {
     "data": {
      "text/plain": [
       "{'0_RfR 0': 0,\n",
       " '0_RfR 1': 0,\n",
       " '0_RfR 2': 0,\n",
       " '1_RfR 0': 0,\n",
       " '1_RfR 1': 0,\n",
       " '1_RfR 2': 0,\n",
       " '2_RfR 0': 0,\n",
       " '2_RfR 1': 0,\n",
       " '2_RfR 2': 0,\n",
       " '3_RfR 0': 0,\n",
       " '3_RfR 1': 0,\n",
       " '3_RfR 2': 0,\n",
       " '4_RfR 0': 0,\n",
       " '4_RfR 1': 0,\n",
       " '4_RfR 2': 0,\n",
       " 'EWS_DaysToThreat': 0,\n",
       " 'A.1_DikeIncrease 0': 0,\n",
       " 'A.1_DikeIncrease 1': 0,\n",
       " 'A.1_DikeIncrease 2': 0,\n",
       " 'A.2_DikeIncrease 0': 0,\n",
       " 'A.2_DikeIncrease 1': 0,\n",
       " 'A.2_DikeIncrease 2': 0,\n",
       " 'A.3_DikeIncrease 0': 0,\n",
       " 'A.3_DikeIncrease 1': 0,\n",
       " 'A.3_DikeIncrease 2': 0,\n",
       " 'A.4_DikeIncrease 0': 0,\n",
       " 'A.4_DikeIncrease 1': 0,\n",
       " 'A.4_DikeIncrease 2': 0,\n",
       " 'A.5_DikeIncrease 0': 0,\n",
       " 'A.5_DikeIncrease 1': 0,\n",
       " 'A.5_DikeIncrease 2': 0}"
      ]
     },
     "execution_count": 10,
     "metadata": {},
     "output_type": "execute_result"
    }
   ],
   "source": [
    "get_0_dict()"
   ]
  },
  {
   "cell_type": "markdown",
   "metadata": {
    "pycharm": {
     "name": "#%% md\n"
    }
   },
   "source": [
    "In the following policies formulations:\n",
    "- `RfR` says if the Room for River projects are enabled (projects `0` to `5`). The first number indicated the project, the second (after `RfR`) if in which time step the measure it taken (currently `0` to `2`). The value can be either `0` (not enabled) or `1` (enabled).\n",
    "- `A.1` to `A.5` are the different dikes. `A.3` is the dike ring around Zutphen. The number after `DikeIncrease` is again the timestep, the value assigned to the thing the heightening in decimeters.\n",
    "- Early Warning Systems can also be enabled, with `EWS_DaysToThreat`, which specifies the early warning time in days.\n",
    "\n",
    "See the implementation in problem_formulation.py (starting from line 35) for more details."
   ]
  },
  {
   "cell_type": "code",
   "execution_count": 11,
   "metadata": {
    "collapsed": false,
    "jupyter": {
     "outputs_hidden": false
    },
    "pycharm": {
     "name": "#%%\n"
    }
   },
   "outputs": [],
   "source": [
    "pol_list = []\n",
    "#pol_list.append(create_policy({}, name=\"Zero\"))\n",
    "\n",
    "for dm in [0, 5, 10]:\n",
    "    for location in [0, 1, 2, 3, 4]:\n",
    "        for ews_days in [2, 4]:\n",
    "            pol_list.append(create_policy({\"A.3_DikeIncrease 0\": dm, f\"{location}_RfR 0\": 1, \"EWS_DaysToThreat\": ews_days},\n",
    "                                          name=f\"Dike_{dm}dm_RfR_{location}_EWS_{ews_days}d\"))\n"
   ]
  },
  {
   "cell_type": "markdown",
   "metadata": {
    "pycharm": {
     "name": "#%% md\n"
    }
   },
   "source": [
    "### Run the model (or load the data)\n",
    "In the next cell the model is ran (if `use_pickle1 = False`) and the new results data is saved, or, if `use_pickle1 = True`, the saved results data is loaded."
   ]
  },
  {
   "cell_type": "code",
   "execution_count": 12,
   "metadata": {
    "collapsed": false,
    "jupyter": {
     "outputs_hidden": false
    },
    "pycharm": {
     "name": "#%%\n"
    }
   },
   "outputs": [],
   "source": [
    "# True, use results in pickle file; False, run MultiprocessingEvaluator\n",
    "use_pickle1 = True\n",
    "\n",
    "if use_pickle1:\n",
    "    with open('data/formulation_results.pickle', 'rb') as filehandler:\n",
    "        results = pickle.load(filehandler)\n",
    "\n",
    "else:\n",
    "    # pass the policies list to EMA workbench experiment runs\n",
    "    n_scenarios = 10\n",
    "    with MultiprocessingEvaluator(dike_model, n_processes=3) as evaluator:\n",
    "        results = evaluator.perform_experiments(n_scenarios, pol_list)\n",
    "\n",
    "    # Save results in Pickle file\n",
    "    with open('data/formulation_results.pickle', 'wb') as filehandler:\n",
    "        pickle.dump(results, filehandler)"
   ]
  },
  {
   "cell_type": "markdown",
   "metadata": {
    "pycharm": {
     "name": "#%% md\n"
    }
   },
   "source": [
    "### Process the results\n",
    "In this section a dataframe is generated with all the outcomes data, and aggegrated to mean, min, max and quantiles values for each policy."
   ]
  },
  {
   "cell_type": "code",
   "execution_count": 13,
   "metadata": {
    "collapsed": false,
    "jupyter": {
     "outputs_hidden": false
    },
    "pycharm": {
     "name": "#%%\n"
    }
   },
   "outputs": [
    {
     "data": {
      "text/html": [
       "<div>\n",
       "<style scoped>\n",
       "    .dataframe tbody tr th:only-of-type {\n",
       "        vertical-align: middle;\n",
       "    }\n",
       "\n",
       "    .dataframe tbody tr th {\n",
       "        vertical-align: top;\n",
       "    }\n",
       "\n",
       "    .dataframe thead th {\n",
       "        text-align: right;\n",
       "    }\n",
       "</style>\n",
       "<table border=\"1\" class=\"dataframe\">\n",
       "  <thead>\n",
       "    <tr style=\"text-align: right;\">\n",
       "      <th></th>\n",
       "      <th>Expected Annual Damage</th>\n",
       "      <th>Dike Investment Costs</th>\n",
       "      <th>RfR Investment Costs</th>\n",
       "      <th>Evacuation Costs</th>\n",
       "      <th>Expected Number of Deaths</th>\n",
       "      <th>Total Costs</th>\n",
       "      <th>Cost plus Damage</th>\n",
       "      <th>policy</th>\n",
       "    </tr>\n",
       "  </thead>\n",
       "  <tbody>\n",
       "    <tr>\n",
       "      <th>0</th>\n",
       "      <td>3.113088e+09</td>\n",
       "      <td>9221120237041090560</td>\n",
       "      <td>NaN</td>\n",
       "      <td>NaN</td>\n",
       "      <td>NaN</td>\n",
       "      <td>9.221120e+18</td>\n",
       "      <td>9.221120e+18</td>\n",
       "      <td>Policy_No Action</td>\n",
       "    </tr>\n",
       "    <tr>\n",
       "      <th>1</th>\n",
       "      <td>3.728411e+09</td>\n",
       "      <td>0</td>\n",
       "      <td>0.0</td>\n",
       "      <td>0.000000</td>\n",
       "      <td>4.246190</td>\n",
       "      <td>0.000000e+00</td>\n",
       "      <td>3.728411e+09</td>\n",
       "      <td>Policy_No Action</td>\n",
       "    </tr>\n",
       "    <tr>\n",
       "      <th>2</th>\n",
       "      <td>2.222778e+08</td>\n",
       "      <td>0</td>\n",
       "      <td>0.0</td>\n",
       "      <td>0.000000</td>\n",
       "      <td>0.156073</td>\n",
       "      <td>0.000000e+00</td>\n",
       "      <td>2.222778e+08</td>\n",
       "      <td>Policy_No Action</td>\n",
       "    </tr>\n",
       "    <tr>\n",
       "      <th>3</th>\n",
       "      <td>2.620957e+09</td>\n",
       "      <td>0</td>\n",
       "      <td>0.0</td>\n",
       "      <td>0.000000</td>\n",
       "      <td>2.046359</td>\n",
       "      <td>0.000000e+00</td>\n",
       "      <td>2.620957e+09</td>\n",
       "      <td>Policy_No Action</td>\n",
       "    </tr>\n",
       "    <tr>\n",
       "      <th>4</th>\n",
       "      <td>8.903152e+08</td>\n",
       "      <td>0</td>\n",
       "      <td>0.0</td>\n",
       "      <td>0.000000</td>\n",
       "      <td>0.895560</td>\n",
       "      <td>0.000000e+00</td>\n",
       "      <td>8.903152e+08</td>\n",
       "      <td>Policy_No Action</td>\n",
       "    </tr>\n",
       "    <tr>\n",
       "      <th>...</th>\n",
       "      <td>...</td>\n",
       "      <td>...</td>\n",
       "      <td>...</td>\n",
       "      <td>...</td>\n",
       "      <td>...</td>\n",
       "      <td>...</td>\n",
       "      <td>...</td>\n",
       "      <td>...</td>\n",
       "    </tr>\n",
       "    <tr>\n",
       "      <th>7995</th>\n",
       "      <td>1.700329e+08</td>\n",
       "      <td>0</td>\n",
       "      <td>710400000.0</td>\n",
       "      <td>10020.952960</td>\n",
       "      <td>0.019512</td>\n",
       "      <td>7.104100e+08</td>\n",
       "      <td>8.804429e+08</td>\n",
       "      <td>Policy_Only all dikes heightened</td>\n",
       "    </tr>\n",
       "    <tr>\n",
       "      <th>7996</th>\n",
       "      <td>1.845536e+09</td>\n",
       "      <td>0</td>\n",
       "      <td>710400000.0</td>\n",
       "      <td>122787.662537</td>\n",
       "      <td>0.424540</td>\n",
       "      <td>7.105228e+08</td>\n",
       "      <td>2.556059e+09</td>\n",
       "      <td>Policy_Only all dikes heightened</td>\n",
       "    </tr>\n",
       "    <tr>\n",
       "      <th>7997</th>\n",
       "      <td>1.666137e+08</td>\n",
       "      <td>0</td>\n",
       "      <td>710400000.0</td>\n",
       "      <td>8157.811091</td>\n",
       "      <td>0.035244</td>\n",
       "      <td>7.104082e+08</td>\n",
       "      <td>8.770218e+08</td>\n",
       "      <td>Policy_Only all dikes heightened</td>\n",
       "    </tr>\n",
       "    <tr>\n",
       "      <th>7998</th>\n",
       "      <td>1.919715e+09</td>\n",
       "      <td>0</td>\n",
       "      <td>710400000.0</td>\n",
       "      <td>111607.860007</td>\n",
       "      <td>0.412170</td>\n",
       "      <td>7.105116e+08</td>\n",
       "      <td>2.630227e+09</td>\n",
       "      <td>Policy_Only all dikes heightened</td>\n",
       "    </tr>\n",
       "    <tr>\n",
       "      <th>7999</th>\n",
       "      <td>3.919882e+08</td>\n",
       "      <td>0</td>\n",
       "      <td>710400000.0</td>\n",
       "      <td>26283.306341</td>\n",
       "      <td>0.105226</td>\n",
       "      <td>7.104263e+08</td>\n",
       "      <td>1.102414e+09</td>\n",
       "      <td>Policy_Only all dikes heightened</td>\n",
       "    </tr>\n",
       "  </tbody>\n",
       "</table>\n",
       "<p>8000 rows × 8 columns</p>\n",
       "</div>"
      ],
      "text/plain": [
       "      Expected Annual Damage  Dike Investment Costs  RfR Investment Costs  \\\n",
       "0               3.113088e+09    9221120237041090560                   NaN   \n",
       "1               3.728411e+09                      0                   0.0   \n",
       "2               2.222778e+08                      0                   0.0   \n",
       "3               2.620957e+09                      0                   0.0   \n",
       "4               8.903152e+08                      0                   0.0   \n",
       "...                      ...                    ...                   ...   \n",
       "7995            1.700329e+08                      0           710400000.0   \n",
       "7996            1.845536e+09                      0           710400000.0   \n",
       "7997            1.666137e+08                      0           710400000.0   \n",
       "7998            1.919715e+09                      0           710400000.0   \n",
       "7999            3.919882e+08                      0           710400000.0   \n",
       "\n",
       "      Evacuation Costs  Expected Number of Deaths   Total Costs  \\\n",
       "0                  NaN                        NaN  9.221120e+18   \n",
       "1             0.000000                   4.246190  0.000000e+00   \n",
       "2             0.000000                   0.156073  0.000000e+00   \n",
       "3             0.000000                   2.046359  0.000000e+00   \n",
       "4             0.000000                   0.895560  0.000000e+00   \n",
       "...                ...                        ...           ...   \n",
       "7995      10020.952960                   0.019512  7.104100e+08   \n",
       "7996     122787.662537                   0.424540  7.105228e+08   \n",
       "7997       8157.811091                   0.035244  7.104082e+08   \n",
       "7998     111607.860007                   0.412170  7.105116e+08   \n",
       "7999      26283.306341                   0.105226  7.104263e+08   \n",
       "\n",
       "      Cost plus Damage                            policy  \n",
       "0         9.221120e+18                  Policy_No Action  \n",
       "1         3.728411e+09                  Policy_No Action  \n",
       "2         2.222778e+08                  Policy_No Action  \n",
       "3         2.620957e+09                  Policy_No Action  \n",
       "4         8.903152e+08                  Policy_No Action  \n",
       "...                ...                               ...  \n",
       "7995      8.804429e+08  Policy_Only all dikes heightened  \n",
       "7996      2.556059e+09  Policy_Only all dikes heightened  \n",
       "7997      8.770218e+08  Policy_Only all dikes heightened  \n",
       "7998      2.630227e+09  Policy_Only all dikes heightened  \n",
       "7999      1.102414e+09  Policy_Only all dikes heightened  \n",
       "\n",
       "[8000 rows x 8 columns]"
      ]
     },
     "execution_count": 13,
     "metadata": {},
     "output_type": "execute_result"
    }
   ],
   "source": [
    "# Create a dataframe from outcomes, and add the policy column to it\n",
    "exp, out = results\n",
    "df = pd.DataFrame(out)\n",
    "df[\"Total Costs\"] = df[[\"Dike Investment Costs\", \"RfR Investment Costs\", \"Evacuation Costs\"]].sum(axis=1)\n",
    "df[\"Cost plus Damage\"] = df[\"Total Costs\"] + df[\"Expected Annual Damage\"]\n",
    "df[\"policy\"] = pd.DataFrame(exp)[\"policy\"]\n",
    "df"
   ]
  },
  {
   "cell_type": "code",
   "execution_count": 14,
   "metadata": {
    "collapsed": false,
    "jupyter": {
     "outputs_hidden": false
    },
    "pycharm": {
     "name": "#%%\n"
    }
   },
   "outputs": [],
   "source": [
    "# Define two functions to get the 5th and 95th quantiles\n",
    "def q05(x):\n",
    "    return x.quantile(0.05)\n",
    "\n",
    "def q95(x):\n",
    "    return x.quantile(0.95)"
   ]
  },
  {
   "cell_type": "code",
   "execution_count": 15,
   "metadata": {
    "collapsed": false,
    "jupyter": {
     "outputs_hidden": false
    },
    "pycharm": {
     "name": "#%%\n"
    }
   },
   "outputs": [
    {
     "data": {
      "text/html": [
       "<div>\n",
       "<style scoped>\n",
       "    .dataframe tbody tr th:only-of-type {\n",
       "        vertical-align: middle;\n",
       "    }\n",
       "\n",
       "    .dataframe tbody tr th {\n",
       "        vertical-align: top;\n",
       "    }\n",
       "\n",
       "    .dataframe thead tr th {\n",
       "        text-align: left;\n",
       "    }\n",
       "\n",
       "    .dataframe thead tr:last-of-type th {\n",
       "        text-align: right;\n",
       "    }\n",
       "</style>\n",
       "<table border=\"1\" class=\"dataframe\">\n",
       "  <thead>\n",
       "    <tr>\n",
       "      <th></th>\n",
       "      <th colspan=\"5\" halign=\"left\">Expected Number of Deaths</th>\n",
       "      <th colspan=\"5\" halign=\"left\">Expected Annual Damage</th>\n",
       "      <th>Total Costs</th>\n",
       "      <th colspan=\"5\" halign=\"left\">Cost plus Damage</th>\n",
       "    </tr>\n",
       "    <tr>\n",
       "      <th></th>\n",
       "      <th>mean</th>\n",
       "      <th>min</th>\n",
       "      <th>max</th>\n",
       "      <th>q05</th>\n",
       "      <th>q95</th>\n",
       "      <th>mean</th>\n",
       "      <th>min</th>\n",
       "      <th>max</th>\n",
       "      <th>q05</th>\n",
       "      <th>q95</th>\n",
       "      <th>mean</th>\n",
       "      <th>mean</th>\n",
       "      <th>min</th>\n",
       "      <th>max</th>\n",
       "      <th>q05</th>\n",
       "      <th>q95</th>\n",
       "    </tr>\n",
       "    <tr>\n",
       "      <th>policy</th>\n",
       "      <th></th>\n",
       "      <th></th>\n",
       "      <th></th>\n",
       "      <th></th>\n",
       "      <th></th>\n",
       "      <th></th>\n",
       "      <th></th>\n",
       "      <th></th>\n",
       "      <th></th>\n",
       "      <th></th>\n",
       "      <th></th>\n",
       "      <th></th>\n",
       "      <th></th>\n",
       "      <th></th>\n",
       "      <th></th>\n",
       "      <th></th>\n",
       "    </tr>\n",
       "  </thead>\n",
       "  <tbody>\n",
       "    <tr>\n",
       "      <th>Policy_All</th>\n",
       "      <td>0.716557</td>\n",
       "      <td>0.008326</td>\n",
       "      <td>5.704533</td>\n",
       "      <td>0.048069</td>\n",
       "      <td>3.382275</td>\n",
       "      <td>6.302996e+08</td>\n",
       "      <td>1.035773e+07</td>\n",
       "      <td>5.131129e+09</td>\n",
       "      <td>4.864650e+07</td>\n",
       "      <td>2.415204e+09</td>\n",
       "      <td>7.104000e+08</td>\n",
       "      <td>1.340700e+09</td>\n",
       "      <td>7.207577e+08</td>\n",
       "      <td>5.841529e+09</td>\n",
       "      <td>7.590465e+08</td>\n",
       "      <td>3.125604e+09</td>\n",
       "    </tr>\n",
       "    <tr>\n",
       "      <th>Policy_No Action</th>\n",
       "      <td>1.754730</td>\n",
       "      <td>0.060397</td>\n",
       "      <td>6.115868</td>\n",
       "      <td>0.172270</td>\n",
       "      <td>4.063983</td>\n",
       "      <td>1.835691e+09</td>\n",
       "      <td>4.880862e+07</td>\n",
       "      <td>7.490168e+09</td>\n",
       "      <td>1.747817e+08</td>\n",
       "      <td>3.865357e+09</td>\n",
       "      <td>9.221120e+15</td>\n",
       "      <td>9.221122e+15</td>\n",
       "      <td>4.880862e+07</td>\n",
       "      <td>9.221120e+18</td>\n",
       "      <td>1.747817e+08</td>\n",
       "      <td>3.885030e+09</td>\n",
       "    </tr>\n",
       "    <tr>\n",
       "      <th>Policy_Only all dikes heightened</th>\n",
       "      <td>0.085987</td>\n",
       "      <td>0.000999</td>\n",
       "      <td>0.684544</td>\n",
       "      <td>0.005768</td>\n",
       "      <td>0.405873</td>\n",
       "      <td>6.302996e+08</td>\n",
       "      <td>1.035773e+07</td>\n",
       "      <td>5.131129e+09</td>\n",
       "      <td>4.864650e+07</td>\n",
       "      <td>2.415204e+09</td>\n",
       "      <td>7.104290e+08</td>\n",
       "      <td>1.340729e+09</td>\n",
       "      <td>7.207584e+08</td>\n",
       "      <td>5.841719e+09</td>\n",
       "      <td>7.590487e+08</td>\n",
       "      <td>3.125636e+09</td>\n",
       "    </tr>\n",
       "    <tr>\n",
       "      <th>Policy_Only all rfr executed</th>\n",
       "      <td>0.085987</td>\n",
       "      <td>0.000999</td>\n",
       "      <td>0.684544</td>\n",
       "      <td>0.005768</td>\n",
       "      <td>0.405873</td>\n",
       "      <td>6.302996e+08</td>\n",
       "      <td>1.035773e+07</td>\n",
       "      <td>5.131129e+09</td>\n",
       "      <td>4.864650e+07</td>\n",
       "      <td>2.415204e+09</td>\n",
       "      <td>7.104290e+08</td>\n",
       "      <td>1.340729e+09</td>\n",
       "      <td>7.207584e+08</td>\n",
       "      <td>5.841719e+09</td>\n",
       "      <td>7.590487e+08</td>\n",
       "      <td>3.125636e+09</td>\n",
       "    </tr>\n",
       "    <tr>\n",
       "      <th>Policy_Rural rfr, urban dike</th>\n",
       "      <td>0.034640</td>\n",
       "      <td>0.000360</td>\n",
       "      <td>0.305634</td>\n",
       "      <td>0.001478</td>\n",
       "      <td>0.205470</td>\n",
       "      <td>3.760620e+08</td>\n",
       "      <td>4.087944e+06</td>\n",
       "      <td>4.559443e+09</td>\n",
       "      <td>1.454155e+07</td>\n",
       "      <td>2.140844e+09</td>\n",
       "      <td>5.260063e+08</td>\n",
       "      <td>9.020682e+08</td>\n",
       "      <td>5.300798e+08</td>\n",
       "      <td>5.085524e+09</td>\n",
       "      <td>5.405340e+08</td>\n",
       "      <td>2.666872e+09</td>\n",
       "    </tr>\n",
       "    <tr>\n",
       "      <th>Policy_Upstream dike, downstream rfr</th>\n",
       "      <td>0.013295</td>\n",
       "      <td>0.000000</td>\n",
       "      <td>0.118425</td>\n",
       "      <td>0.000383</td>\n",
       "      <td>0.057839</td>\n",
       "      <td>1.338174e+08</td>\n",
       "      <td>0.000000e+00</td>\n",
       "      <td>1.539135e+09</td>\n",
       "      <td>5.584089e+06</td>\n",
       "      <td>5.225911e+08</td>\n",
       "      <td>6.161573e+08</td>\n",
       "      <td>7.499747e+08</td>\n",
       "      <td>6.161477e+08</td>\n",
       "      <td>2.155365e+09</td>\n",
       "      <td>6.217323e+08</td>\n",
       "      <td>1.138774e+09</td>\n",
       "    </tr>\n",
       "    <tr>\n",
       "      <th>Policy_Upstream rfr, downstream dike</th>\n",
       "      <td>0.094504</td>\n",
       "      <td>0.000000</td>\n",
       "      <td>0.695529</td>\n",
       "      <td>0.003342</td>\n",
       "      <td>0.414569</td>\n",
       "      <td>6.368085e+08</td>\n",
       "      <td>0.000000e+00</td>\n",
       "      <td>5.233069e+09</td>\n",
       "      <td>2.334624e+07</td>\n",
       "      <td>2.470618e+09</td>\n",
       "      <td>4.116887e+08</td>\n",
       "      <td>1.048497e+09</td>\n",
       "      <td>4.116610e+08</td>\n",
       "      <td>5.644927e+09</td>\n",
       "      <td>4.350085e+08</td>\n",
       "      <td>2.882316e+09</td>\n",
       "    </tr>\n",
       "    <tr>\n",
       "      <th>Policy_Urban rfr, rural dike</th>\n",
       "      <td>0.092731</td>\n",
       "      <td>0.001273</td>\n",
       "      <td>0.421853</td>\n",
       "      <td>0.009464</td>\n",
       "      <td>0.408698</td>\n",
       "      <td>5.404297e+08</td>\n",
       "      <td>5.181746e+06</td>\n",
       "      <td>2.785620e+09</td>\n",
       "      <td>5.036554e+07</td>\n",
       "      <td>1.936291e+09</td>\n",
       "      <td>5.018486e+08</td>\n",
       "      <td>1.042278e+09</td>\n",
       "      <td>5.069991e+08</td>\n",
       "      <td>3.287544e+09</td>\n",
       "      <td>5.521861e+08</td>\n",
       "      <td>2.438218e+09</td>\n",
       "    </tr>\n",
       "  </tbody>\n",
       "</table>\n",
       "</div>"
      ],
      "text/plain": [
       "                                     Expected Number of Deaths            \\\n",
       "                                                          mean       min   \n",
       "policy                                                                     \n",
       "Policy_All                                            0.716557  0.008326   \n",
       "Policy_No Action                                      1.754730  0.060397   \n",
       "Policy_Only all dikes heightened                      0.085987  0.000999   \n",
       "Policy_Only all rfr executed                          0.085987  0.000999   \n",
       "Policy_Rural rfr, urban dike                          0.034640  0.000360   \n",
       "Policy_Upstream dike, downstream rfr                  0.013295  0.000000   \n",
       "Policy_Upstream rfr, downstream dike                  0.094504  0.000000   \n",
       "Policy_Urban rfr, rural dike                          0.092731  0.001273   \n",
       "\n",
       "                                                                    \\\n",
       "                                           max       q05       q95   \n",
       "policy                                                               \n",
       "Policy_All                            5.704533  0.048069  3.382275   \n",
       "Policy_No Action                      6.115868  0.172270  4.063983   \n",
       "Policy_Only all dikes heightened      0.684544  0.005768  0.405873   \n",
       "Policy_Only all rfr executed          0.684544  0.005768  0.405873   \n",
       "Policy_Rural rfr, urban dike          0.305634  0.001478  0.205470   \n",
       "Policy_Upstream dike, downstream rfr  0.118425  0.000383  0.057839   \n",
       "Policy_Upstream rfr, downstream dike  0.695529  0.003342  0.414569   \n",
       "Policy_Urban rfr, rural dike          0.421853  0.009464  0.408698   \n",
       "\n",
       "                                     Expected Annual Damage                \\\n",
       "                                                       mean           min   \n",
       "policy                                                                      \n",
       "Policy_All                                     6.302996e+08  1.035773e+07   \n",
       "Policy_No Action                               1.835691e+09  4.880862e+07   \n",
       "Policy_Only all dikes heightened               6.302996e+08  1.035773e+07   \n",
       "Policy_Only all rfr executed                   6.302996e+08  1.035773e+07   \n",
       "Policy_Rural rfr, urban dike                   3.760620e+08  4.087944e+06   \n",
       "Policy_Upstream dike, downstream rfr           1.338174e+08  0.000000e+00   \n",
       "Policy_Upstream rfr, downstream dike           6.368085e+08  0.000000e+00   \n",
       "Policy_Urban rfr, rural dike                   5.404297e+08  5.181746e+06   \n",
       "\n",
       "                                                                  \\\n",
       "                                               max           q05   \n",
       "policy                                                             \n",
       "Policy_All                            5.131129e+09  4.864650e+07   \n",
       "Policy_No Action                      7.490168e+09  1.747817e+08   \n",
       "Policy_Only all dikes heightened      5.131129e+09  4.864650e+07   \n",
       "Policy_Only all rfr executed          5.131129e+09  4.864650e+07   \n",
       "Policy_Rural rfr, urban dike          4.559443e+09  1.454155e+07   \n",
       "Policy_Upstream dike, downstream rfr  1.539135e+09  5.584089e+06   \n",
       "Policy_Upstream rfr, downstream dike  5.233069e+09  2.334624e+07   \n",
       "Policy_Urban rfr, rural dike          2.785620e+09  5.036554e+07   \n",
       "\n",
       "                                                     Total Costs  \\\n",
       "                                               q95          mean   \n",
       "policy                                                             \n",
       "Policy_All                            2.415204e+09  7.104000e+08   \n",
       "Policy_No Action                      3.865357e+09  9.221120e+15   \n",
       "Policy_Only all dikes heightened      2.415204e+09  7.104290e+08   \n",
       "Policy_Only all rfr executed          2.415204e+09  7.104290e+08   \n",
       "Policy_Rural rfr, urban dike          2.140844e+09  5.260063e+08   \n",
       "Policy_Upstream dike, downstream rfr  5.225911e+08  6.161573e+08   \n",
       "Policy_Upstream rfr, downstream dike  2.470618e+09  4.116887e+08   \n",
       "Policy_Urban rfr, rural dike          1.936291e+09  5.018486e+08   \n",
       "\n",
       "                                     Cost plus Damage                \\\n",
       "                                                 mean           min   \n",
       "policy                                                                \n",
       "Policy_All                               1.340700e+09  7.207577e+08   \n",
       "Policy_No Action                         9.221122e+15  4.880862e+07   \n",
       "Policy_Only all dikes heightened         1.340729e+09  7.207584e+08   \n",
       "Policy_Only all rfr executed             1.340729e+09  7.207584e+08   \n",
       "Policy_Rural rfr, urban dike             9.020682e+08  5.300798e+08   \n",
       "Policy_Upstream dike, downstream rfr     7.499747e+08  6.161477e+08   \n",
       "Policy_Upstream rfr, downstream dike     1.048497e+09  4.116610e+08   \n",
       "Policy_Urban rfr, rural dike             1.042278e+09  5.069991e+08   \n",
       "\n",
       "                                                                                \n",
       "                                               max           q05           q95  \n",
       "policy                                                                          \n",
       "Policy_All                            5.841529e+09  7.590465e+08  3.125604e+09  \n",
       "Policy_No Action                      9.221120e+18  1.747817e+08  3.885030e+09  \n",
       "Policy_Only all dikes heightened      5.841719e+09  7.590487e+08  3.125636e+09  \n",
       "Policy_Only all rfr executed          5.841719e+09  7.590487e+08  3.125636e+09  \n",
       "Policy_Rural rfr, urban dike          5.085524e+09  5.405340e+08  2.666872e+09  \n",
       "Policy_Upstream dike, downstream rfr  2.155365e+09  6.217323e+08  1.138774e+09  \n",
       "Policy_Upstream rfr, downstream dike  5.644927e+09  4.350085e+08  2.882316e+09  \n",
       "Policy_Urban rfr, rural dike          3.287544e+09  5.521861e+08  2.438218e+09  "
      ]
     },
     "execution_count": 15,
     "metadata": {},
     "output_type": "execute_result"
    }
   ],
   "source": [
    "# Create a Pandas GroupBy object\n",
    "group_df = df.groupby(by=\"policy\")\n",
    "\n",
    "# Create a list of statistical functions which are used\n",
    "agg_par = [\"mean\", \"min\", \"max\", q05, q95]\n",
    "\n",
    "# Create a dictionary with what outcome values are aggegrated with which functions\n",
    "agg_dict = {\n",
    "    \"Expected Number of Deaths\": agg_par,\n",
    "    \"Expected Annual Damage\": agg_par,\n",
    "    \"Total Costs\": \"mean\",\n",
    "    \"Cost plus Damage\": agg_par,\n",
    "}\n",
    "# Create new dataframe with the aggegrated data per policy\n",
    "TCA_df = group_df.agg(agg_dict)\n",
    "TCA_df"
   ]
  },
  {
   "cell_type": "code",
   "execution_count": 16,
   "metadata": {
    "collapsed": false,
    "jupyter": {
     "outputs_hidden": false
    },
    "pycharm": {
     "name": "#%%\n"
    }
   },
   "outputs": [],
   "source": [
    "# Save the aggegrated data to a CSV file\n",
    "TCA_df.to_csv(f\"results/TCA_results_pf{used_problem_formulation}.csv\")"
   ]
  },
  {
   "cell_type": "code",
   "execution_count": 17,
   "metadata": {},
   "outputs": [
    {
     "data": {
      "text/plain": [
       "MultiIndex([('Expected Number of Deaths', 'mean'),\n",
       "            ('Expected Number of Deaths',  'min'),\n",
       "            ('Expected Number of Deaths',  'max'),\n",
       "            ('Expected Number of Deaths',  'q05'),\n",
       "            ('Expected Number of Deaths',  'q95'),\n",
       "            (   'Expected Annual Damage', 'mean'),\n",
       "            (   'Expected Annual Damage',  'min'),\n",
       "            (   'Expected Annual Damage',  'max'),\n",
       "            (   'Expected Annual Damage',  'q05'),\n",
       "            (   'Expected Annual Damage',  'q95'),\n",
       "            (              'Total Costs', 'mean'),\n",
       "            (         'Cost plus Damage', 'mean'),\n",
       "            (         'Cost plus Damage',  'min'),\n",
       "            (         'Cost plus Damage',  'max'),\n",
       "            (         'Cost plus Damage',  'q05'),\n",
       "            (         'Cost plus Damage',  'q95')],\n",
       "           )"
      ]
     },
     "execution_count": 17,
     "metadata": {},
     "output_type": "execute_result"
    }
   ],
   "source": [
    "TCA_df.columns"
   ]
  },
  {
   "cell_type": "markdown",
   "metadata": {
    "pycharm": {
     "name": "#%% md\n"
    }
   },
   "source": [
    "### Plots\n",
    "\n",
    "TODO: Make make some nice Seaborn plots?"
   ]
  },
  {
   "cell_type": "code",
   "execution_count": 18,
   "metadata": {
    "collapsed": false,
    "jupyter": {
     "outputs_hidden": false
    },
    "pycharm": {
     "name": "#%%\n"
    }
   },
   "outputs": [
    {
     "data": {
      "image/png": "[encoded data removed]",
      "text/plain": [
       "<Figure size 432x288 with 1 Axes>"
      ]
     },
     "metadata": {
      "needs_background": "light"
     },
     "output_type": "display_data"
    },
    {
     "data": {
      "text/plain": [
       "<Figure size 432x288 with 0 Axes>"
      ]
     },
     "metadata": {},
     "output_type": "display_data"
    }
   ],
   "source": [
    "#TCA_df[\"Expected Number of Deaths\"][\"mean\"].plot.bar()\n",
    "ND = sns.barplot(x= TCA_df.index , y = TCA_df[\"Expected Number of Deaths\"][\"mean\"], data = TCA_df)\n",
    "ND.set(title='Expected number of deaths')\n",
    "#ND.fig.suptitle('Expected number of deaths')\n",
    "plt.xticks(rotation=90)\n",
    "plt.show()\n",
    "plt.savefig('images/Debate/number of deaths.png',dpi=300,format=\"png\")"
   ]
  },
  {
   "cell_type": "code",
   "execution_count": 19,
   "metadata": {
    "collapsed": false,
    "jupyter": {
     "outputs_hidden": false
    },
    "pycharm": {
     "name": "#%%\n"
    }
   },
   "outputs": [
    {
     "data": {
      "image/png": "[encoded data removed]",
      "text/plain": [
       "<Figure size 432x288 with 1 Axes>"
      ]
     },
     "metadata": {
      "needs_background": "light"
     },
     "output_type": "display_data"
    },
    {
     "data": {
      "text/plain": [
       "<Figure size 432x288 with 0 Axes>"
      ]
     },
     "metadata": {},
     "output_type": "display_data"
    }
   ],
   "source": [
    "#TCA_df[\"Total Costs\"][\"mean\"].plot.bar()\n",
    "TC = sns.barplot(x= TCA_df.index , y = TCA_df[\"Total Costs\"][\"mean\"], data = TCA_df)\n",
    "TC.set(title='Total costs')\n",
    "plt.xticks(rotation=90)\n",
    "plt.show()\n",
    "plt.savefig('images/Debate/total costs.png',dpi=300,format=\"png\")"
   ]
  },
  {
   "cell_type": "code",
   "execution_count": 20,
   "metadata": {
    "collapsed": false,
    "jupyter": {
     "outputs_hidden": false
    },
    "pycharm": {
     "name": "#%%\n"
    }
   },
   "outputs": [
    {
     "data": {
      "image/png": "[encoded data removed]",
      "text/plain": [
       "<Figure size 432x288 with 1 Axes>"
      ]
     },
     "metadata": {
      "needs_background": "light"
     },
     "output_type": "display_data"
    },
    {
     "data": {
      "text/plain": [
       "<Figure size 432x288 with 0 Axes>"
      ]
     },
     "metadata": {},
     "output_type": "display_data"
    }
   ],
   "source": [
    "#TCA_df[\"Cost plus Damage\"][\"mean\"].plot.bar()\n",
    "CpD = sns.barplot(x= TCA_df.index , y = TCA_df[\"Cost plus Damage\"][\"mean\"], data = TCA_df)\n",
    "CpD.set(title='Cost plus damage')\n",
    "plt.xticks(rotation=90)\n",
    "plt.show()\n",
    "plt.savefig('images/Debate/cost plus damage.png',dpi=300,format=\"png\")"
   ]
  }
 ],
 "metadata": {
  "interpreter": {
   "hash": "6fd914e18bfa8d7647c3cf90e7a007e50e832e4a27cecf06ee50e35679d106a4"
  },
  "kernelspec": {
   "display_name": "Python 3 (ipykernel)",
   "language": "python",
   "name": "python3"
  },
  "language_info": {
   "codemirror_mode": {
    "name": "ipython",
    "version": 3
   },
   "file_extension": ".py",
   "mimetype": "text/x-python",
   "name": "python",
   "nbconvert_exporter": "python",
   "pygments_lexer": "ipython3",
   "version": "3.9.12"
  }
 },
 "nbformat": 4,
 "nbformat_minor": 4
}
