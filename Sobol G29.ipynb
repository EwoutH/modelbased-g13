{
 "cells": [
  {
   "cell_type": "code",
   "execution_count": 1,
   "id": "53b5cf9f-1f2b-4282-9de0-95d64a141b1a",
   "metadata": {},
   "outputs": [],
   "source": [
    "# Explore the behaviour of the system in the absence of any policy \n",
    "# Sobol analysis: To investigate which model inputs add variance to the model output (expected \n",
    "# annual damage and expected number of deaths) under no policy \n",
    "\n",
    "from __future__ import (unicode_literals, print_function, absolute_import,\n",
    "                        division)\n",
    "from ema_workbench import (Model, MultiprocessingEvaluator, Policy, IntegerParameter,\n",
    "                           Scenario)\n",
    "import numpy as np\n",
    "from ema_workbench.em_framework.evaluators import perform_experiments\n",
    "from ema_workbench.em_framework.samplers import sample_uncertainties\n",
    "from ema_workbench.util import ema_logging\n",
    "import time\n",
    "from problem_formulation import get_model_for_problem_formulation\n",
    "import pandas as pd\n",
    "import seaborn as sns\n",
    "from matplotlib import pyplot as plt\n",
    "from ema_workbench import Samplers\n",
    "from ema_workbench.analysis import feature_scoring\n",
    "from ema_workbench.analysis.scenario_discovery_util import RuleInductionType\n",
    "from ema_workbench.em_framework.salib_samplers import get_SALib_problem\n",
    "from SALib.analyze import sobol\n",
    "from ema_workbench.analysis import prim"
   ]
  },
  {
   "cell_type": "code",
   "execution_count": 2,
   "id": "3c36bacd-bf95-479d-9d58-bc561117a4c2",
   "metadata": {},
   "outputs": [],
   "source": [
    "if __name__ == '__main__':\n",
    "    ema_logging.log_to_stderr(ema_logging.INFO)\n",
    "\n",
    "    dike_model, planning_steps = get_model_for_problem_formulation(2)\n",
    "\n",
    "    # Build a user-defined scenario and policy:\n",
    "    reference_values = {'Bmax': 175, 'Brate': 1.5, 'pfail': 0.5,\n",
    "                        'ID flood wave shape': 4, 'planning steps': 2}\n",
    "    reference_values.update({'discount rate {}'.format(n): 3.5 for n in planning_steps})\n",
    "    scen1 = {}\n",
    "\n",
    "\n",
    "    for key in dike_model.uncertainties:\n",
    "        name_split = key.name.split('_')\n",
    "\n",
    "        if len(name_split) == 1:\n",
    "            scen1.update({key.name: reference_values[key.name]})\n",
    "\n",
    "        else:\n",
    "            scen1.update({key.name: reference_values[name_split[1]]})\n",
    "\n",
    "    ref_scenario = Scenario('reference', **scen1)\n",
    "\n",
    "    # no dike increase, no warning, none of the rfr\n",
    "    zero_policy = {'DaysToThreat': 0}\n",
    "    zero_policy.update({'DikeIncrease {}'.format(n): 0 for n in planning_steps})\n",
    "    zero_policy.update({'RfR {}'.format(n): 0 for n in planning_steps})\n",
    "    pol0 = {}\n",
    "\n",
    "    for key in dike_model.levers:\n",
    "        s1, s2 = key.name.split('_')\n",
    "        pol0.update({key.name: zero_policy[s2]})\n",
    "\n",
    "    policy0 = Policy('Policy 0', **pol0)"
   ]
  },
  {
   "cell_type": "code",
   "execution_count": 3,
   "id": "b4e9f89a-5b86-47f9-b89d-1664913e4f74",
   "metadata": {},
   "outputs": [
    {
     "data": {
      "text/plain": [
       "{'discount rate 0': 3.5,\n",
       " 'discount rate 1': 3.5,\n",
       " 'discount rate 2': 3.5,\n",
       " 'A.0_ID flood wave shape': 4,\n",
       " 'A.1_Bmax': 175,\n",
       " 'A.1_pfail': 0.5,\n",
       " 'A.1_Brate': 1.5,\n",
       " 'A.2_Bmax': 175,\n",
       " 'A.2_pfail': 0.5,\n",
       " 'A.2_Brate': 1.5,\n",
       " 'A.3_Bmax': 175,\n",
       " 'A.3_pfail': 0.5,\n",
       " 'A.3_Brate': 1.5,\n",
       " 'A.4_Bmax': 175,\n",
       " 'A.4_pfail': 0.5,\n",
       " 'A.4_Brate': 1.5,\n",
       " 'A.5_Bmax': 175,\n",
       " 'A.5_pfail': 0.5,\n",
       " 'A.5_Brate': 1.5}"
      ]
     },
     "execution_count": 3,
     "metadata": {},
     "output_type": "execute_result"
    }
   ],
   "source": [
    "#dike_model.uncertainties\n",
    "scen1"
   ]
  },
  {
   "cell_type": "code",
   "execution_count": 4,
   "id": "be9ceeae-12a0-4993-b40c-87ffe77a3376",
   "metadata": {},
   "outputs": [
    {
     "data": {
      "text/plain": [
       "{'num_vars': 19,\n",
       " 'names': ['A.0_ID flood wave shape',\n",
       "  'A.1_Bmax',\n",
       "  'A.1_Brate',\n",
       "  'A.1_pfail',\n",
       "  'A.2_Bmax',\n",
       "  'A.2_Brate',\n",
       "  'A.2_pfail',\n",
       "  'A.3_Bmax',\n",
       "  'A.3_Brate',\n",
       "  'A.3_pfail',\n",
       "  'A.4_Bmax',\n",
       "  'A.4_Brate',\n",
       "  'A.4_pfail',\n",
       "  'A.5_Bmax',\n",
       "  'A.5_Brate',\n",
       "  'A.5_pfail',\n",
       "  'discount rate 0',\n",
       "  'discount rate 1',\n",
       "  'discount rate 2'],\n",
       " 'bounds': [(0, 133),\n",
       "  (30, 350),\n",
       "  (0, 3),\n",
       "  (0, 1),\n",
       "  (30, 350),\n",
       "  (0, 3),\n",
       "  (0, 1),\n",
       "  (30, 350),\n",
       "  (0, 3),\n",
       "  (0, 1),\n",
       "  (30, 350),\n",
       "  (0, 3),\n",
       "  (0, 1),\n",
       "  (30, 350),\n",
       "  (0, 3),\n",
       "  (0, 1),\n",
       "  (0, 4),\n",
       "  (0, 4),\n",
       "  (0, 4)]}"
      ]
     },
     "execution_count": 4,
     "metadata": {},
     "output_type": "execute_result"
    }
   ],
   "source": [
    "problem = get_SALib_problem(dike_model.uncertainties)\n",
    "problem"
   ]
  },
  {
   "cell_type": "code",
   "execution_count": 5,
   "id": "cfb4ab3e-d283-463c-a40b-59a5917b80b8",
   "metadata": {},
   "outputs": [
    {
     "name": "stdout",
     "output_type": "stream",
     "text": [
      "CategoricalParameter('discount rate 0', [0, 1, 2, 3])\n",
      "CategoricalParameter('discount rate 1', [0, 1, 2, 3])\n",
      "CategoricalParameter('discount rate 2', [0, 1, 2, 3])\n",
      "<ema_workbench.em_framework.parameters.IntegerParameter object at 0x147bb8280>\n",
      "<ema_workbench.em_framework.parameters.RealParameter object at 0x147b2bcd0>\n",
      "<ema_workbench.em_framework.parameters.RealParameter object at 0x147bc82b0>\n",
      "CategoricalParameter('A.1_Brate', [0, 1, 2])\n",
      "<ema_workbench.em_framework.parameters.RealParameter object at 0x147b12f70>\n",
      "<ema_workbench.em_framework.parameters.RealParameter object at 0x147bb8910>\n",
      "CategoricalParameter('A.2_Brate', [0, 1, 2])\n",
      "<ema_workbench.em_framework.parameters.RealParameter object at 0x147bb8ac0>\n",
      "<ema_workbench.em_framework.parameters.RealParameter object at 0x147c14dc0>\n",
      "CategoricalParameter('A.3_Brate', [0, 1, 2])\n",
      "<ema_workbench.em_framework.parameters.RealParameter object at 0x147bef190>\n",
      "<ema_workbench.em_framework.parameters.RealParameter object at 0x147c14fd0>\n",
      "CategoricalParameter('A.4_Brate', [0, 1, 2])\n",
      "<ema_workbench.em_framework.parameters.RealParameter object at 0x147bef700>\n",
      "<ema_workbench.em_framework.parameters.RealParameter object at 0x147bf8460>\n",
      "CategoricalParameter('A.5_Brate', [0, 1, 2])\n"
     ]
    }
   ],
   "source": [
    "for unc in dike_model.uncertainties:\n",
    "    print(repr(unc))"
   ]
  },
  {
   "cell_type": "code",
   "execution_count": 6,
   "id": "90106a70-937d-484a-ab98-7344e6f8f6ec",
   "metadata": {},
   "outputs": [],
   "source": [
    "# Perform Sobol analysis\n",
    "n_scenarios= 10\n",
    "policy = policy0"
   ]
  },
  {
   "cell_type": "code",
   "execution_count": 7,
   "id": "a40a1094-1c47-4de5-b149-b516997738b9",
   "metadata": {},
   "outputs": [
    {
     "data": {
      "text/plain": [
       "Policy({'0_RfR 0': 0, '0_RfR 1': 0, '0_RfR 2': 0, '1_RfR 0': 0, '1_RfR 1': 0, '1_RfR 2': 0, '2_RfR 0': 0, '2_RfR 1': 0, '2_RfR 2': 0, '3_RfR 0': 0, '3_RfR 1': 0, '3_RfR 2': 0, '4_RfR 0': 0, '4_RfR 1': 0, '4_RfR 2': 0, 'EWS_DaysToThreat': 0, 'A.1_DikeIncrease 0': 0, 'A.1_DikeIncrease 1': 0, 'A.1_DikeIncrease 2': 0, 'A.2_DikeIncrease 0': 0, 'A.2_DikeIncrease 1': 0, 'A.2_DikeIncrease 2': 0, 'A.3_DikeIncrease 0': 0, 'A.3_DikeIncrease 1': 0, 'A.3_DikeIncrease 2': 0, 'A.4_DikeIncrease 0': 0, 'A.4_DikeIncrease 1': 0, 'A.4_DikeIncrease 2': 0, 'A.5_DikeIncrease 0': 0, 'A.5_DikeIncrease 1': 0, 'A.5_DikeIncrease 2': 0})"
      ]
     },
     "execution_count": 7,
     "metadata": {},
     "output_type": "execute_result"
    }
   ],
   "source": [
    "policy"
   ]
  },
  {
   "cell_type": "code",
   "execution_count": 8,
   "id": "911c5cfb-093a-4f6c-bbb3-fd97b1910fd4",
   "metadata": {},
   "outputs": [
    {
     "name": "stderr",
     "output_type": "stream",
     "text": [
      "[MainProcess/INFO] pool started with 4 workers\n",
      "/Users/marcpeterstreng/opt/miniconda3/envs/py39/lib/python3.9/site-packages/SALib/sample/saltelli.py:94: UserWarning: \n",
      "        Convergence properties of the Sobol' sequence is only valid if\n",
      "        `N` (10) is equal to `2^n`.\n",
      "        \n",
      "  warnings.warn(msg)\n",
      "[MainProcess/INFO] performing 400 scenarios * 1 policies * 1 model(s) = 400 experiments\n",
      "  0%|                                          | 1/400 [00:01<12:15,  1.84s/it]Traceback (most recent call last):\n",
      "  File \"/Users/marcpeterstreng/opt/miniconda3/envs/py39/lib/python3.9/site-packages/ema_workbench/em_framework/callbacks.py\", line 246, in _store_outcomes\n",
      "    self.results[outcome][case_id,] = outcome_res\n",
      "KeyError: 'Dike Investment Costs'\n",
      "\n",
      "During handling of the above exception, another exception occurred:\n",
      "\n",
      "Traceback (most recent call last):\n",
      "  File \"/Users/marcpeterstreng/opt/miniconda3/envs/py39/lib/python3.9/site-packages/ema_workbench/em_framework/ema_multiprocessing.py\", line 253, in run\n",
      "    self.callback(*result.get())\n",
      "  File \"/Users/marcpeterstreng/opt/miniconda3/envs/py39/lib/python3.9/site-packages/ema_workbench/em_framework/callbacks.py\", line 281, in __call__\n",
      "    self._store_outcomes(experiment.experiment_id, outcomes)\n",
      "  File \"/Users/marcpeterstreng/opt/miniconda3/envs/py39/lib/python3.9/site-packages/ema_workbench/em_framework/callbacks.py\", line 260, in _store_outcomes\n",
      "    self.results[outcome][:] = np.nan\n",
      "ValueError: cannot convert float NaN to integer\n",
      "100%|████████████████████████████████████████| 400/400 [02:47<00:00,  2.39it/s]\n",
      "[MainProcess/INFO] experiments finished\n",
      "[MainProcess/INFO] terminating pool\n"
     ]
    }
   ],
   "source": [
    "with MultiprocessingEvaluator(dike_model) as evaluator:\n",
    "    results = evaluator.perform_experiments(n_scenarios, policy, uncertainty_sampling=Samplers.SOBOL)\n",
    "        \n",
    "experiments, outcomes = results\n",
    "\n",
    "problem = get_SALib_problem(dike_model.uncertainties)\n",
    "y = outcomes \n",
    "    \n",
    "sobol_indices1 = sobol.analyze(problem, outcomes['Expected Annual Damage'])"
   ]
  },
  {
   "cell_type": "code",
   "execution_count": 11,
   "id": "3ea889e5-9a89-4b7e-9a89-0457501ea5b3",
   "metadata": {},
   "outputs": [
    {
     "name": "stdout",
     "output_type": "stream",
     "text": [
      "                                   ST       ST_conf\n",
      "A.0_ID flood wave shape  6.530772e-04  9.981997e-04\n",
      "A.1_Bmax                 3.406650e-02  7.788639e-02\n",
      "A.1_Brate                1.106674e-09  2.959673e-09\n",
      "A.1_pfail                5.240603e-01  1.042559e+00\n",
      "A.2_Bmax                 7.365108e-07  1.255987e-06\n",
      "A.2_Brate                6.215640e-08  1.360304e-07\n",
      "A.2_pfail                2.564247e-02  4.434119e-02\n",
      "A.3_Bmax                 6.593858e-03  2.281903e-02\n",
      "A.3_Brate                1.381168e-06  4.779234e-06\n",
      "A.3_pfail                3.380720e-01  4.850557e-01\n",
      "A.4_Bmax                 0.000000e+00  0.000000e+00\n",
      "A.4_Brate                0.000000e+00  0.000000e+00\n",
      "A.4_pfail                4.978287e-03  8.865493e-03\n",
      "A.5_Bmax                 0.000000e+00  0.000000e+00\n",
      "A.5_Brate                0.000000e+00  0.000000e+00\n",
      "A.5_pfail                5.978308e-03  1.205016e-02\n",
      "discount rate 0          2.252711e-02  1.729465e-02\n",
      "discount rate 1          3.446779e-02  5.023817e-02\n",
      "discount rate 2          3.028412e-02  6.572565e-02\n",
      "                               S1   S1_conf\n",
      "A.0_ID flood wave shape -0.012408  0.021040\n",
      "A.1_Bmax                 0.065816  0.083839\n",
      "A.1_Brate               -0.000013  0.000034\n",
      "A.1_pfail                0.371910  0.529966\n",
      "A.2_Bmax                -0.000444  0.001064\n",
      "A.2_Brate                0.000120  0.000262\n",
      "A.2_pfail               -0.106046  0.138768\n",
      "A.3_Bmax                 0.009362  0.032378\n",
      "A.3_Brate               -0.000129  0.000468\n",
      "A.3_pfail                0.412670  0.541496\n",
      "A.4_Bmax                 0.000000  0.000000\n",
      "A.4_Brate                0.000000  0.000000\n",
      "A.4_pfail                0.045770  0.070938\n",
      "A.5_Bmax                 0.000000  0.000000\n",
      "A.5_Brate                0.000000  0.000000\n",
      "A.5_pfail                0.028763  0.080991\n",
      "discount rate 0          0.193881  0.130693\n",
      "discount rate 1          0.016413  0.130229\n",
      "discount rate 2          0.068039  0.106463\n",
      "                                            S2   S2_conf\n",
      "(A.0_ID flood wave shape, A.1_Bmax)   0.003814  0.060655\n",
      "(A.0_ID flood wave shape, A.1_Brate)  0.005689  0.059342\n",
      "(A.0_ID flood wave shape, A.1_pfail)  0.008311  0.054287\n",
      "(A.0_ID flood wave shape, A.2_Bmax)   0.005677  0.059341\n",
      "(A.0_ID flood wave shape, A.2_Brate)  0.005689  0.059342\n",
      "...                                        ...       ...\n",
      "(A.5_pfail, discount rate 1)         -0.045152  0.082994\n",
      "(A.5_pfail, discount rate 2)         -0.031295  0.092686\n",
      "(discount rate 0, discount rate 1)   -0.183160  0.162815\n",
      "(discount rate 0, discount rate 2)   -0.187118  0.188373\n",
      "(discount rate 1, discount rate 2)    0.095267  0.186926\n",
      "\n",
      "[171 rows x 2 columns]\n"
     ]
    }
   ],
   "source": [
    "Si = sobol.analyze(problem, outcomes['Expected Annual Damage'],calc_second_order=True, print_to_console=True)"
   ]
  },
  {
   "cell_type": "code",
   "execution_count": 12,
   "id": "d9e7ef31-e149-4cdc-9c59-a920ba921a29",
   "metadata": {},
   "outputs": [
    {
     "name": "stdout",
     "output_type": "stream",
     "text": [
      "                         ST  ST_conf\n",
      "A.0_ID flood wave shape NaN      NaN\n",
      "A.1_Bmax                NaN      NaN\n",
      "A.1_Brate               NaN      NaN\n",
      "A.1_pfail               NaN      NaN\n",
      "A.2_Bmax                NaN      NaN\n",
      "A.2_Brate               NaN      NaN\n",
      "A.2_pfail               NaN      NaN\n",
      "A.3_Bmax                NaN      NaN\n",
      "A.3_Brate               NaN      NaN\n",
      "A.3_pfail               NaN      NaN\n",
      "A.4_Bmax                NaN      NaN\n",
      "A.4_Brate               NaN      NaN\n",
      "A.4_pfail               NaN      NaN\n",
      "A.5_Bmax                NaN      NaN\n",
      "A.5_Brate               NaN      NaN\n",
      "A.5_pfail               NaN      NaN\n",
      "discount rate 0         NaN      NaN\n",
      "discount rate 1         NaN      NaN\n",
      "discount rate 2         NaN      NaN\n",
      "                         S1  S1_conf\n",
      "A.0_ID flood wave shape NaN      NaN\n",
      "A.1_Bmax                NaN      NaN\n",
      "A.1_Brate               NaN      NaN\n",
      "A.1_pfail               NaN      NaN\n",
      "A.2_Bmax                NaN      NaN\n",
      "A.2_Brate               NaN      NaN\n",
      "A.2_pfail               NaN      NaN\n",
      "A.3_Bmax                NaN      NaN\n",
      "A.3_Brate               NaN      NaN\n",
      "A.3_pfail               NaN      NaN\n",
      "A.4_Bmax                NaN      NaN\n",
      "A.4_Brate               NaN      NaN\n",
      "A.4_pfail               NaN      NaN\n",
      "A.5_Bmax                NaN      NaN\n",
      "A.5_Brate               NaN      NaN\n",
      "A.5_pfail               NaN      NaN\n",
      "discount rate 0         NaN      NaN\n",
      "discount rate 1         NaN      NaN\n",
      "discount rate 2         NaN      NaN\n",
      "                                      S2  S2_conf\n",
      "(A.0_ID flood wave shape, A.1_Bmax)  NaN      NaN\n",
      "(A.0_ID flood wave shape, A.1_Brate) NaN      NaN\n",
      "(A.0_ID flood wave shape, A.1_pfail) NaN      NaN\n",
      "(A.0_ID flood wave shape, A.2_Bmax)  NaN      NaN\n",
      "(A.0_ID flood wave shape, A.2_Brate) NaN      NaN\n",
      "...                                   ..      ...\n",
      "(A.5_pfail, discount rate 1)         NaN      NaN\n",
      "(A.5_pfail, discount rate 2)         NaN      NaN\n",
      "(discount rate 0, discount rate 1)   NaN      NaN\n",
      "(discount rate 0, discount rate 2)   NaN      NaN\n",
      "(discount rate 1, discount rate 2)   NaN      NaN\n",
      "\n",
      "[171 rows x 2 columns]\n"
     ]
    },
    {
     "name": "stderr",
     "output_type": "stream",
     "text": [
      "/Users/marcpeterstreng/opt/miniconda3/envs/py39/lib/python3.9/site-packages/numpy/core/_methods.py:44: RuntimeWarning: invalid value encountered in reduce\n",
      "  return umr_minimum(a, axis, None, out, keepdims, initial, where)\n",
      "/Users/marcpeterstreng/opt/miniconda3/envs/py39/lib/python3.9/site-packages/numpy/core/_methods.py:40: RuntimeWarning: invalid value encountered in reduce\n",
      "  return umr_maximum(a, axis, None, out, keepdims, initial, where)\n"
     ]
    },
    {
     "data": {
      "image/png": "[encoded data removed]",
      "text/plain": [
       "<Figure size 576x432 with 1 Axes>"
      ]
     },
     "metadata": {
      "needs_background": "light"
     },
     "output_type": "display_data"
    },
    {
     "data": {
      "image/png": "[encoded data removed]",
      "text/plain": [
       "<Figure size 576x432 with 1 Axes>"
      ]
     },
     "metadata": {},
     "output_type": "display_data"
    }
   ],
   "source": [
    "sobol_indices2 = sobol.analyze(problem, outcomes['Expected Number of Deaths'], print_to_console=True)\n",
    "\n",
    "sobol_indices_list = [sobol_indices1, sobol_indices2]\n",
    "    \n",
    "for n in range(0,2):\n",
    "    sobol_stats = {key:sobol_indices_list[n][key] for key in ['ST', 'ST_conf', 'S1','S1_conf']}\n",
    "    sobol_stats = pd.DataFrame(sobol_stats, index=problem['names'])\n",
    "    sobol_stats.sort_values(by='ST', ascending=False)\n",
    "        \n",
    "    sns.set_style('white')\n",
    "    fig, ax = plt.subplots(1)\n",
    "        \n",
    "    indices = sobol_stats[['S1','ST']]\n",
    "    err = sobol_stats[['S1_conf','ST_conf']]\n",
    "        \n",
    "    indices.plot.bar(yerr=err.values.T,ax=ax)\n",
    "    fig.set_size_inches(8,6)\n",
    "    fig.subplots_adjust(bottom=0.3)\n",
    "    plt.ylim([0,1])\n",
    "    plt.grid()\n",
    "        \n",
    "plt.show()\n",
    "    "
   ]
  },
  {
   "cell_type": "code",
   "execution_count": null,
   "id": "b61adc81-25e8-410a-85e6-7657b1e10ca9",
   "metadata": {},
   "outputs": [],
   "source": []
  }
 ],
 "metadata": {
  "kernelspec": {
   "display_name": "Python 3 (ipykernel)",
   "language": "python",
   "name": "python3"
  },
  "language_info": {
   "codemirror_mode": {
    "name": "ipython",
    "version": 3
   },
   "file_extension": ".py",
   "mimetype": "text/x-python",
   "name": "python",
   "nbconvert_exporter": "python",
   "pygments_lexer": "ipython3",
   "version": "3.9.7"
  }
 },
 "nbformat": 4,
 "nbformat_minor": 5
}
