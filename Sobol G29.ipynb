{
 "cells": [
  {
   "cell_type": "code",
   "execution_count": 4,
   "id": "53b5cf9f-1f2b-4282-9de0-95d64a141b1a",
   "metadata": {},
   "outputs": [],
   "source": [
    "# Explore the behaviour of the system in the absence of any policy \n",
    "# Sobol analysis: To investigate which model inputs add variance to the model output (expected \n",
    "# annual damage and expected number of deaths) under no policy \n",
    "\n",
    "from __future__ import (unicode_literals, print_function, absolute_import,\n",
    "                        division)\n",
    "from ema_workbench import (Model, MultiprocessingEvaluator, Policy, IntegerParameter,\n",
    "                           Scenario)\n",
    "import numpy as np\n",
    "from ema_workbench.em_framework.evaluators import perform_experiments\n",
    "from ema_workbench.em_framework.samplers import sample_uncertainties\n",
    "from ema_workbench.util import ema_logging\n",
    "import time\n",
    "from problem_formulation import get_model_for_problem_formulation\n",
    "import pandas as pd\n",
    "import seaborn as sns\n",
    "from matplotlib import pyplot as plt\n",
    "from ema_workbench import Samplers\n",
    "from ema_workbench.analysis import feature_scoring\n",
    "from ema_workbench.analysis.scenario_discovery_util import RuleInductionType\n",
    "from ema_workbench.em_framework.salib_samplers import get_SALib_problem\n",
    "from SALib.analyze import sobol\n",
    "from ema_workbench.analysis import prim"
   ]
  },
  {
   "cell_type": "code",
   "execution_count": 5,
   "id": "3c36bacd-bf95-479d-9d58-bc561117a4c2",
   "metadata": {},
   "outputs": [],
   "source": [
    "if __name__ == '__main__':\n",
    "    ema_logging.log_to_stderr(ema_logging.INFO)\n",
    "\n",
    "    dike_model, planning_steps = get_model_for_problem_formulation(2)\n",
    "\n",
    "    # Build a user-defined scenario and policy:\n",
    "    reference_values = {'Bmax': 175, 'Brate': 1.5, 'pfail': 0.5,\n",
    "                        'ID flood wave shape': 4, 'planning steps': 2}\n",
    "    reference_values.update({'discount rate {}'.format(n): 3.5 for n in planning_steps})\n",
    "    scen1 = {}\n",
    "\n",
    "\n",
    "    for key in dike_model.uncertainties:\n",
    "        name_split = key.name.split('_')\n",
    "\n",
    "        if len(name_split) == 1:\n",
    "            scen1.update({key.name: reference_values[key.name]})\n",
    "\n",
    "        else:\n",
    "            scen1.update({key.name: reference_values[name_split[1]]})\n",
    "\n",
    "    ref_scenario = Scenario('reference', **scen1)\n",
    "\n",
    "    # no dike increase, no warning, none of the rfr\n",
    "    zero_policy = {'DaysToThreat': 0}\n",
    "    zero_policy.update({'DikeIncrease {}'.format(n): 0 for n in planning_steps})\n",
    "    zero_policy.update({'RfR {}'.format(n): 0 for n in planning_steps})\n",
    "    pol0 = {}\n",
    "\n",
    "    for key in dike_model.levers:\n",
    "        s1, s2 = key.name.split('_')\n",
    "        pol0.update({key.name: zero_policy[s2]})\n",
    "\n",
    "    policy0 = Policy('Policy 0', **pol0)"
   ]
  },
  {
   "cell_type": "code",
   "execution_count": 9,
   "id": "b4e9f89a-5b86-47f9-b89d-1664913e4f74",
   "metadata": {},
   "outputs": [
    {
     "data": {
      "text/plain": [
       "{'discount rate 0': 3.5,\n",
       " 'discount rate 1': 3.5,\n",
       " 'discount rate 2': 3.5,\n",
       " 'A.0_ID flood wave shape': 4,\n",
       " 'A.1_Bmax': 175,\n",
       " 'A.1_pfail': 0.5,\n",
       " 'A.1_Brate': 1.5,\n",
       " 'A.2_Bmax': 175,\n",
       " 'A.2_pfail': 0.5,\n",
       " 'A.2_Brate': 1.5,\n",
       " 'A.3_Bmax': 175,\n",
       " 'A.3_pfail': 0.5,\n",
       " 'A.3_Brate': 1.5,\n",
       " 'A.4_Bmax': 175,\n",
       " 'A.4_pfail': 0.5,\n",
       " 'A.4_Brate': 1.5,\n",
       " 'A.5_Bmax': 175,\n",
       " 'A.5_pfail': 0.5,\n",
       " 'A.5_Brate': 1.5}"
      ]
     },
     "execution_count": 9,
     "metadata": {},
     "output_type": "execute_result"
    }
   ],
   "source": [
    "#dike_model.uncertainties\n",
    "scen1"
   ]
  },
  {
   "cell_type": "code",
   "execution_count": 12,
   "id": "be9ceeae-12a0-4993-b40c-87ffe77a3376",
   "metadata": {},
   "outputs": [
    {
     "data": {
      "text/plain": [
       "{'num_vars': 19,\n",
       " 'names': ['A.0_ID flood wave shape',\n",
       "  'A.1_Bmax',\n",
       "  'A.1_Brate',\n",
       "  'A.1_pfail',\n",
       "  'A.2_Bmax',\n",
       "  'A.2_Brate',\n",
       "  'A.2_pfail',\n",
       "  'A.3_Bmax',\n",
       "  'A.3_Brate',\n",
       "  'A.3_pfail',\n",
       "  'A.4_Bmax',\n",
       "  'A.4_Brate',\n",
       "  'A.4_pfail',\n",
       "  'A.5_Bmax',\n",
       "  'A.5_Brate',\n",
       "  'A.5_pfail',\n",
       "  'discount rate 0',\n",
       "  'discount rate 1',\n",
       "  'discount rate 2'],\n",
       " 'bounds': [(0, 133),\n",
       "  (30, 350),\n",
       "  (0, 3),\n",
       "  (0, 1),\n",
       "  (30, 350),\n",
       "  (0, 3),\n",
       "  (0, 1),\n",
       "  (30, 350),\n",
       "  (0, 3),\n",
       "  (0, 1),\n",
       "  (30, 350),\n",
       "  (0, 3),\n",
       "  (0, 1),\n",
       "  (30, 350),\n",
       "  (0, 3),\n",
       "  (0, 1),\n",
       "  (0, 4),\n",
       "  (0, 4),\n",
       "  (0, 4)]}"
      ]
     },
     "execution_count": 12,
     "metadata": {},
     "output_type": "execute_result"
    }
   ],
   "source": [
    "problem = get_SALib_problem(dike_model.uncertainties)\n",
    "problem"
   ]
  },
  {
   "cell_type": "code",
   "execution_count": null,
   "id": "90106a70-937d-484a-ab98-7344e6f8f6ec",
   "metadata": {},
   "outputs": [],
   "source": [
    "# Perform Sobol analysis\n",
    "    n_scenarios= 10\n",
    "    policy = policy0\n",
    "    \n",
    "    with MultiprocessingEvaluator(dike_model) as evaluator:\n",
    "        results = evaluator.perform_experiments(n_scenarios, policy, uncertainty_sampling=Samplers.SOBOL)\n",
    "        \n",
    "    experiments, outcomes = results\n",
    "\n",
    "    problem = get_SALib_problem(dike_model.uncertainties)\n",
    "    y = outcomes \n",
    "    \n",
    "    sobol_indices1 = sobol.analyze(problem, outcomes['Expected Annual Damage'])\n",
    "    sobol_indices2 = sobol.analyze(problem, outcomes['Expected Number of Deaths'])\n",
    "\n",
    "    sobol_indices_list = [sobol_indices1, sobol_indices2]\n",
    "    \n",
    "    for n in range(0,2):\n",
    "        sobol_stats = {key:sobol_indices_list[n][key] for key in ['ST', 'ST_conf', 'S1','S1_conf']}\n",
    "        sobol_stats = pd.DataFrame(sobol_stats, index=problem['names'])\n",
    "        sobol_stats.sort_values(by='ST', ascending=False)\n",
    "        \n",
    "        sns.set_style('white')\n",
    "        fig, ax = plt.subplots(1)\n",
    "        \n",
    "        indices = sobol_stats[['S1','ST']]\n",
    "        err = sobol_stats[['S1_conf','ST_conf']]\n",
    "        \n",
    "        indices.plot.bar(yerr=err.values.T,ax=ax)\n",
    "        fig.set_size_inches(8,6)\n",
    "        fig.subplots_adjust(bottom=0.3)\n",
    "        plt.ylim([0,1])\n",
    "        plt.grid()\n",
    "        \n",
    "    plt.show()\n",
    "    "
   ]
  }
 ],
 "metadata": {
  "kernelspec": {
   "display_name": "Python 3 (ipykernel)",
   "language": "python",
   "name": "python3"
  },
  "language_info": {
   "codemirror_mode": {
    "name": "ipython",
    "version": 3
   },
   "file_extension": ".py",
   "mimetype": "text/x-python",
   "name": "python",
   "nbconvert_exporter": "python",
   "pygments_lexer": "ipython3",
   "version": "3.9.7"
  }
 },
 "nbformat": 4,
 "nbformat_minor": 5
}
