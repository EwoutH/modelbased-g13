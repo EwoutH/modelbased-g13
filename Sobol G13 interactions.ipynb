{
 "cells": [
  {
   "cell_type": "code",
   "execution_count": 1,
   "id": "c20b240c-dda0-4b4d-a58f-dbfc702db1ec",
   "metadata": {},
   "outputs": [],
   "source": [
    "%matplotlib inline\n",
    "import numpy as np\n",
    "import pandas as pd\n",
    "\n",
    "import matplotlib.pyplot as plt\n",
    "import seaborn as sns\n",
    "sns.set_style('white')\n",
    "\n",
    "from ema_workbench import (Model, RealParameter, TimeSeriesOutcome,\n",
    "                           perform_experiments, ema_logging,Policy, MultiprocessingEvaluator)\n",
    "\n",
    "from ema_workbench import Samplers\n",
    "\n",
    "from dike_model_function import DikeNetwork  # @UnresolvedImport\n",
    "\n",
    "from problem_formulation import get_model_for_problem_formulation\n",
    "\n",
    "from ema_workbench.em_framework.salib_samplers import get_SALib_problem\n",
    "\n",
    "from SALib.analyze import sobol\n",
    "import SALib\n",
    "\n",
    "import pickle"
   ]
  },
  {
   "cell_type": "code",
   "execution_count": 2,
   "id": "c6866c1b-b476-4415-9f71-455a813ffc32",
   "metadata": {},
   "outputs": [],
   "source": [
    "ema_logging.log_to_stderr(ema_logging.INFO);"
   ]
  },
  {
   "cell_type": "code",
   "execution_count": 3,
   "id": "497fe062-9cf3-475f-851b-d89c6e814a36",
   "metadata": {},
   "outputs": [],
   "source": [
    "dike_model, planning_steps = get_model_for_problem_formulation(2,True)"
   ]
  },
  {
   "cell_type": "code",
   "execution_count": 4,
   "id": "d036aca0-9a5d-47a1-b802-96686e13e810",
   "metadata": {},
   "outputs": [
    {
     "data": {
      "text/plain": [
       "array([0, 1, 2])"
      ]
     },
     "execution_count": 4,
     "metadata": {},
     "output_type": "execute_result"
    }
   ],
   "source": [
    "planning_steps"
   ]
  },
  {
   "cell_type": "code",
   "execution_count": 5,
   "id": "14a64b0e-aaee-4fe4-94ef-db81c8a106f1",
   "metadata": {},
   "outputs": [
    {
     "name": "stdout",
     "output_type": "stream",
     "text": [
      "{'num_vars': 50, 'names': ['0_RfR 0', '0_RfR 1', '0_RfR 2', '1_RfR 0', '1_RfR 1', '1_RfR 2', '2_RfR 0', '2_RfR 1', '2_RfR 2', '3_RfR 0', '3_RfR 1', '3_RfR 2', '4_RfR 0', '4_RfR 1', '4_RfR 2', 'A.0_ID flood wave shape', 'A.1_Bmax', 'A.1_Brate', 'A.1_DikeIncrease 0', 'A.1_DikeIncrease 1', 'A.1_DikeIncrease 2', 'A.1_pfail', 'A.2_Bmax', 'A.2_Brate', 'A.2_DikeIncrease 0', 'A.2_DikeIncrease 1', 'A.2_DikeIncrease 2', 'A.2_pfail', 'A.3_Bmax', 'A.3_Brate', 'A.3_DikeIncrease 0', 'A.3_DikeIncrease 1', 'A.3_DikeIncrease 2', 'A.3_pfail', 'A.4_Bmax', 'A.4_Brate', 'A.4_DikeIncrease 0', 'A.4_DikeIncrease 1', 'A.4_DikeIncrease 2', 'A.4_pfail', 'A.5_Bmax', 'A.5_Brate', 'A.5_DikeIncrease 0', 'A.5_DikeIncrease 1', 'A.5_DikeIncrease 2', 'A.5_pfail', 'EWS_DaysToThreat', 'discount rate 0', 'discount rate 1', 'discount rate 2'], 'bounds': [(0, 2), (0, 2), (0, 2), (0, 2), (0, 2), (0, 2), (0, 2), (0, 2), (0, 2), (0, 2), (0, 2), (0, 2), (0, 2), (0, 2), (0, 2), (0, 133), (30, 350), (0, 3), (0, 11), (0, 11), (0, 11), (0, 1), (30, 350), (0, 3), (0, 11), (0, 11), (0, 11), (0, 1), (30, 350), (0, 3), (0, 11), (0, 11), (0, 11), (0, 1), (30, 350), (0, 3), (0, 11), (0, 11), (0, 11), (0, 1), (30, 350), (0, 3), (0, 11), (0, 11), (0, 11), (0, 1), (0, 5), (0, 4), (0, 4), (0, 4)]}\n"
     ]
    }
   ],
   "source": [
    "uncertainties = dike_model.uncertainties \n",
    "outcomes = dike_model.outcomes\n",
    "problem = get_SALib_problem(uncertainties)\n",
    "print(problem)"
   ]
  },
  {
   "cell_type": "code",
   "execution_count": 6,
   "id": "ec40eff1-00f1-46b6-8dd1-42bb8dd4d67c",
   "metadata": {},
   "outputs": [],
   "source": [
    "#for unc in dike_model.uncertainties:\n",
    "#    print(repr(unc))"
   ]
  },
  {
   "cell_type": "code",
   "execution_count": 7,
   "id": "2b15e525-a070-46f0-90a5-f82ba23c5042",
   "metadata": {},
   "outputs": [],
   "source": [
    "#for out in dike_model.outcomes:\n",
    "#    print(repr(out))"
   ]
  },
  {
   "cell_type": "code",
   "execution_count": 8,
   "id": "56f175d8-e03e-4515-915e-a07873609974",
   "metadata": {},
   "outputs": [],
   "source": [
    "#for lev in dike_model.levers:\n",
    "#    print(repr(lev.name))"
   ]
  },
  {
   "cell_type": "code",
   "execution_count": 9,
   "id": "7bfb2a1d-aef9-42ae-b39d-09d7e96de52c",
   "metadata": {},
   "outputs": [],
   "source": [
    "def get_0_dict():\n",
    "    return {l.name: 0 for l in dike_model.levers}\n",
    "\n",
    "# Creates a Policy object from a dict and a (optional) name\n",
    "def create_policy(dict1, name=None):\n",
    "    return Policy(f\"Policy_{name}\", **dict(get_0_dict(), **dict1))"
   ]
  },
  {
   "cell_type": "code",
   "execution_count": 10,
   "id": "dccb2cfc-d0d4-48a2-95ec-e58df2c52e78",
   "metadata": {},
   "outputs": [],
   "source": [
    "pol = create_policy({'0_RfR 0': 0,\n",
    "     '1_RfR 0': 0,\n",
    "     '2_RfR 0': 0,\n",
    "     '3_RfR 0': 0,\n",
    "     '4_RfR 0': 0,\n",
    "     'EWS_DaysToThreat': 0,\n",
    "     'A.1_DikeIncrease 0': 0,\n",
    "     'A.2_DikeIncrease 0': 0,\n",
    "     'A.3_DikeIncrease 0': 0,\n",
    "     'A.4_DikeIncrease 0': 0,\n",
    "     'A.5_DikeIncrease 0': 0,},'Upstream dike, downstream rfr')"
   ]
  },
  {
   "cell_type": "code",
   "execution_count": 11,
   "id": "36ef3abe-91c4-446c-8657-c48e5ec57339",
   "metadata": {},
   "outputs": [
    {
     "data": {
      "text/plain": [
       "Policy({'0_RfR 0': 0, '1_RfR 0': 0, '2_RfR 0': 0, '3_RfR 0': 0, '4_RfR 0': 0, 'EWS_DaysToThreat': 0, 'A.1_DikeIncrease 0': 0, 'A.2_DikeIncrease 0': 0, 'A.3_DikeIncrease 0': 0, 'A.4_DikeIncrease 0': 0, 'A.5_DikeIncrease 0': 0})"
      ]
     },
     "execution_count": 11,
     "metadata": {},
     "output_type": "execute_result"
    }
   ],
   "source": [
    "pol"
   ]
  },
  {
   "cell_type": "code",
   "execution_count": 12,
   "id": "79a7a714-a608-43c1-bd3a-cfbdd344ca5f",
   "metadata": {},
   "outputs": [
    {
     "name": "stderr",
     "output_type": "stream",
     "text": [
      "[MainProcess/INFO] pool started with 10 workers\n",
      "C:\\Users\\Thomas\\miniconda3\\lib\\site-packages\\SALib\\sample\\saltelli.py:94: UserWarning: \n",
      "        Convergence properties of the Sobol' sequence is only valid if\n",
      "        `N` (1000) is equal to `2^n`.\n",
      "        \n",
      "  warnings.warn(msg)\n",
      "[MainProcess/INFO] performing 102000 scenarios * 1 policies * 1 model(s) = 102000 experiments\n",
      "100%|████████████████████████████████| 102000/102000 [2:12:25<00:00, 12.84it/s]\n",
      "[MainProcess/INFO] experiments finished\n",
      "[MainProcess/INFO] terminating pool\n"
     ]
    }
   ],
   "source": [
    "policies = pol\n",
    "sobol_switch = True\n",
    "n_exp = 1000\n",
    "   \n",
    "use_pickle1 = False\n",
    "if use_pickle1:\n",
    "    with open('data/SOBOL_results1.pickle','rb') as filehandler:\n",
    "        results = pickle.load(filehandler)\n",
    "elif sobol_switch == True :\n",
    "    with MultiprocessingEvaluator(dike_model,n_processes=10) as evaluator:\n",
    "        results = evaluator.perform_experiments(scenarios=n_exp, uncertainty_sampling=Samplers.SOBOL)\n",
    "    \n",
    "    with open('data/SOBOL_results1.pickle',\"wb\") as filehandler:\n",
    "        pickle.dump(results,filehandler)\n",
    "else: \n",
    "    with MultiprocessingEvaluator(dike_model,n_processes=10) as evaluator:\n",
    "        results = evaluator.perform_experiments(scenarios=n_exp, policies = pol, uncertainty_sampling=Samplers.SOBOL)\n",
    "    \n",
    "    with open('data/SOBOL_results1.pickle',\"wb\") as filehandler:\n",
    "        pickle.dump(results,filehandler)  \n",
    "experiments_sobol, outcomes_sobol = results"
   ]
  },
  {
   "cell_type": "code",
   "execution_count": 13,
   "id": "45ef6af1-9ac1-49fa-9c0b-54f356060ac5",
   "metadata": {},
   "outputs": [],
   "source": [
    "deaths_sobol = sobol.analyze(problem, outcomes_sobol['Expected Number of Deaths'],calc_second_order=True, print_to_console=False)\n",
    "damages_sobol = sobol.analyze(problem, outcomes_sobol['Expected Annual Damage'],calc_second_order=True, print_to_console=False)"
   ]
  },
  {
   "cell_type": "code",
   "execution_count": 14,
   "id": "e8f3794e-9380-41ba-8024-c95373d99b56",
   "metadata": {},
   "outputs": [
    {
     "data": {
      "text/html": [
       "<div>\n",
       "<style scoped>\n",
       "    .dataframe tbody tr th:only-of-type {\n",
       "        vertical-align: middle;\n",
       "    }\n",
       "\n",
       "    .dataframe tbody tr th {\n",
       "        vertical-align: top;\n",
       "    }\n",
       "\n",
       "    .dataframe thead th {\n",
       "        text-align: right;\n",
       "    }\n",
       "</style>\n",
       "<table border=\"1\" class=\"dataframe\">\n",
       "  <thead>\n",
       "    <tr style=\"text-align: right;\">\n",
       "      <th></th>\n",
       "      <th>ST</th>\n",
       "      <th>ST_conf</th>\n",
       "      <th>S1</th>\n",
       "      <th>S1_conf</th>\n",
       "      <th>ST-S1</th>\n",
       "      <th>Second order interaction</th>\n",
       "    </tr>\n",
       "  </thead>\n",
       "  <tbody>\n",
       "    <tr>\n",
       "      <th>0_RfR 1</th>\n",
       "      <td>0.070412</td>\n",
       "      <td>0.105537</td>\n",
       "      <td>0.003341</td>\n",
       "      <td>0.015431</td>\n",
       "      <td>0.067071</td>\n",
       "      <td>True</td>\n",
       "    </tr>\n",
       "    <tr>\n",
       "      <th>0_RfR 2</th>\n",
       "      <td>0.072011</td>\n",
       "      <td>0.096786</td>\n",
       "      <td>-0.005703</td>\n",
       "      <td>0.008321</td>\n",
       "      <td>0.077714</td>\n",
       "      <td>True</td>\n",
       "    </tr>\n",
       "    <tr>\n",
       "      <th>1_RfR 2</th>\n",
       "      <td>0.049142</td>\n",
       "      <td>0.054555</td>\n",
       "      <td>-0.002782</td>\n",
       "      <td>0.004134</td>\n",
       "      <td>0.051924</td>\n",
       "      <td>True</td>\n",
       "    </tr>\n",
       "    <tr>\n",
       "      <th>2_RfR 0</th>\n",
       "      <td>0.055226</td>\n",
       "      <td>0.052744</td>\n",
       "      <td>0.005093</td>\n",
       "      <td>0.008736</td>\n",
       "      <td>0.050132</td>\n",
       "      <td>True</td>\n",
       "    </tr>\n",
       "    <tr>\n",
       "      <th>A.1_DikeIncrease 0</th>\n",
       "      <td>0.170967</td>\n",
       "      <td>0.254655</td>\n",
       "      <td>-0.004946</td>\n",
       "      <td>0.009100</td>\n",
       "      <td>0.175913</td>\n",
       "      <td>True</td>\n",
       "    </tr>\n",
       "    <tr>\n",
       "      <th>A.1_pfail</th>\n",
       "      <td>0.092125</td>\n",
       "      <td>0.109051</td>\n",
       "      <td>0.000995</td>\n",
       "      <td>0.009761</td>\n",
       "      <td>0.091130</td>\n",
       "      <td>True</td>\n",
       "    </tr>\n",
       "    <tr>\n",
       "      <th>A.2_DikeIncrease 0</th>\n",
       "      <td>0.049777</td>\n",
       "      <td>0.061887</td>\n",
       "      <td>-0.009276</td>\n",
       "      <td>0.018220</td>\n",
       "      <td>0.059052</td>\n",
       "      <td>True</td>\n",
       "    </tr>\n",
       "    <tr>\n",
       "      <th>A.2_pfail</th>\n",
       "      <td>0.128336</td>\n",
       "      <td>0.140735</td>\n",
       "      <td>0.034571</td>\n",
       "      <td>0.079895</td>\n",
       "      <td>0.093765</td>\n",
       "      <td>True</td>\n",
       "    </tr>\n",
       "    <tr>\n",
       "      <th>A.3_DikeIncrease 0</th>\n",
       "      <td>0.471613</td>\n",
       "      <td>0.566491</td>\n",
       "      <td>0.006840</td>\n",
       "      <td>0.015223</td>\n",
       "      <td>0.464773</td>\n",
       "      <td>True</td>\n",
       "    </tr>\n",
       "    <tr>\n",
       "      <th>A.3_pfail</th>\n",
       "      <td>0.500976</td>\n",
       "      <td>0.436528</td>\n",
       "      <td>0.036619</td>\n",
       "      <td>0.030279</td>\n",
       "      <td>0.464357</td>\n",
       "      <td>True</td>\n",
       "    </tr>\n",
       "    <tr>\n",
       "      <th>A.5_DikeIncrease 0</th>\n",
       "      <td>0.071980</td>\n",
       "      <td>0.089791</td>\n",
       "      <td>0.003615</td>\n",
       "      <td>0.010629</td>\n",
       "      <td>0.068365</td>\n",
       "      <td>True</td>\n",
       "    </tr>\n",
       "    <tr>\n",
       "      <th>EWS_DaysToThreat</th>\n",
       "      <td>0.413114</td>\n",
       "      <td>0.364050</td>\n",
       "      <td>0.000336</td>\n",
       "      <td>0.019141</td>\n",
       "      <td>0.412778</td>\n",
       "      <td>True</td>\n",
       "    </tr>\n",
       "  </tbody>\n",
       "</table>\n",
       "</div>"
      ],
      "text/plain": [
       "                          ST   ST_conf        S1   S1_conf     ST-S1  \\\n",
       "0_RfR 1             0.070412  0.105537  0.003341  0.015431  0.067071   \n",
       "0_RfR 2             0.072011  0.096786 -0.005703  0.008321  0.077714   \n",
       "1_RfR 2             0.049142  0.054555 -0.002782  0.004134  0.051924   \n",
       "2_RfR 0             0.055226  0.052744  0.005093  0.008736  0.050132   \n",
       "A.1_DikeIncrease 0  0.170967  0.254655 -0.004946  0.009100  0.175913   \n",
       "A.1_pfail           0.092125  0.109051  0.000995  0.009761  0.091130   \n",
       "A.2_DikeIncrease 0  0.049777  0.061887 -0.009276  0.018220  0.059052   \n",
       "A.2_pfail           0.128336  0.140735  0.034571  0.079895  0.093765   \n",
       "A.3_DikeIncrease 0  0.471613  0.566491  0.006840  0.015223  0.464773   \n",
       "A.3_pfail           0.500976  0.436528  0.036619  0.030279  0.464357   \n",
       "A.5_DikeIncrease 0  0.071980  0.089791  0.003615  0.010629  0.068365   \n",
       "EWS_DaysToThreat    0.413114  0.364050  0.000336  0.019141  0.412778   \n",
       "\n",
       "                    Second order interaction  \n",
       "0_RfR 1                                 True  \n",
       "0_RfR 2                                 True  \n",
       "1_RfR 2                                 True  \n",
       "2_RfR 0                                 True  \n",
       "A.1_DikeIncrease 0                      True  \n",
       "A.1_pfail                               True  \n",
       "A.2_DikeIncrease 0                      True  \n",
       "A.2_pfail                               True  \n",
       "A.3_DikeIncrease 0                      True  \n",
       "A.3_pfail                               True  \n",
       "A.5_DikeIncrease 0                      True  \n",
       "EWS_DaysToThreat                        True  "
      ]
     },
     "execution_count": 14,
     "metadata": {},
     "output_type": "execute_result"
    }
   ],
   "source": [
    "Si_filter = {k:deaths_sobol[k] for k in ['ST','ST_conf','S1','S1_conf']}\n",
    "Si_df_deaths = pd.DataFrame(Si_filter, index=problem['names'])\n",
    "Si_df_deaths['ST-S1'] = Si_df_deaths['ST'] - Si_df_deaths['S1']\n",
    "Si_df_deaths['Second order interaction'] = np.where(Si_df_deaths['ST-S1'] > 0.05, True, False)\n",
    "Si_df_deaths_2nd = Si_df_deaths.loc[Si_df_deaths['Second order interaction'] == True]\n",
    "Si_df_deaths_2nd"
   ]
  },
  {
   "cell_type": "code",
   "execution_count": 15,
   "id": "fe76a004-68e2-4551-9abb-bfa76181bd20",
   "metadata": {},
   "outputs": [],
   "source": [
    "## However, the S2 dataframe shows these interactions are not very strong\n",
    "#pd.set_option('display.max_columns', None)\n",
    "#S2_deaths_sobol = pd.DataFrame(deaths_sobol['S2'])\n",
    "#S2_deaths_sobol.fillna(0,inplace=True)\n",
    "#S2_deaths_sobol\n",
    "#S2_deaths_sobol_boolean = S2_deaths_sobol>0.05\n",
    "#S2_deaths_sobol_boolean"
   ]
  },
  {
   "cell_type": "code",
   "execution_count": 16,
   "id": "0659b610-cb50-432f-844a-2643e83d5402",
   "metadata": {},
   "outputs": [
    {
     "data": {
      "image/png": "[encoded data removed]",
      "text/plain": [
       "<Figure size 720x576 with 1 Axes>"
      ]
     },
     "metadata": {},
     "output_type": "display_data"
    }
   ],
   "source": [
    "sns.set_style('white')\n",
    "fig, ax = plt.subplots(1)\n",
    "\n",
    "indices = Si_df_deaths[['S1','ST']]\n",
    "indices = indices.loc[~(Si_df_deaths==0).all(axis=1)]\n",
    "err = Si_df_deaths[['S1_conf','ST_conf']]\n",
    "err = err.loc[~(Si_df_deaths==0).all(axis=1)]\n",
    "\n",
    "indices.plot.bar(yerr=err.values.T,ax=ax)\n",
    "fig.set_size_inches(10,8)\n",
    "fig.subplots_adjust(bottom=0.3)\n",
    "fig.savefig(\"sobol_deaths.png\", dpi=200)\n",
    "plt.show()"
   ]
  },
  {
   "cell_type": "code",
   "execution_count": 17,
   "id": "2e03d04d-625a-4b45-b2df-bc585c646d52",
   "metadata": {},
   "outputs": [
    {
     "data": {
      "text/html": [
       "<div>\n",
       "<style scoped>\n",
       "    .dataframe tbody tr th:only-of-type {\n",
       "        vertical-align: middle;\n",
       "    }\n",
       "\n",
       "    .dataframe tbody tr th {\n",
       "        vertical-align: top;\n",
       "    }\n",
       "\n",
       "    .dataframe thead th {\n",
       "        text-align: right;\n",
       "    }\n",
       "</style>\n",
       "<table border=\"1\" class=\"dataframe\">\n",
       "  <thead>\n",
       "    <tr style=\"text-align: right;\">\n",
       "      <th></th>\n",
       "      <th>ST</th>\n",
       "      <th>ST_conf</th>\n",
       "      <th>S1</th>\n",
       "      <th>S1_conf</th>\n",
       "      <th>ST-S1</th>\n",
       "      <th>Second order interaction</th>\n",
       "    </tr>\n",
       "  </thead>\n",
       "  <tbody>\n",
       "    <tr>\n",
       "      <th>0_RfR 1</th>\n",
       "      <td>0.131752</td>\n",
       "      <td>0.111470</td>\n",
       "      <td>-0.005393</td>\n",
       "      <td>0.023880</td>\n",
       "      <td>0.137144</td>\n",
       "      <td>True</td>\n",
       "    </tr>\n",
       "    <tr>\n",
       "      <th>0_RfR 2</th>\n",
       "      <td>0.114350</td>\n",
       "      <td>0.102304</td>\n",
       "      <td>-0.014788</td>\n",
       "      <td>0.022663</td>\n",
       "      <td>0.129139</td>\n",
       "      <td>True</td>\n",
       "    </tr>\n",
       "    <tr>\n",
       "      <th>1_RfR 0</th>\n",
       "      <td>0.087746</td>\n",
       "      <td>0.095899</td>\n",
       "      <td>0.000130</td>\n",
       "      <td>0.005895</td>\n",
       "      <td>0.087617</td>\n",
       "      <td>True</td>\n",
       "    </tr>\n",
       "    <tr>\n",
       "      <th>1_RfR 1</th>\n",
       "      <td>0.055438</td>\n",
       "      <td>0.061970</td>\n",
       "      <td>-0.031376</td>\n",
       "      <td>0.056785</td>\n",
       "      <td>0.086815</td>\n",
       "      <td>True</td>\n",
       "    </tr>\n",
       "    <tr>\n",
       "      <th>1_RfR 2</th>\n",
       "      <td>0.063095</td>\n",
       "      <td>0.064925</td>\n",
       "      <td>-0.003651</td>\n",
       "      <td>0.004749</td>\n",
       "      <td>0.066747</td>\n",
       "      <td>True</td>\n",
       "    </tr>\n",
       "    <tr>\n",
       "      <th>A.1_DikeIncrease 0</th>\n",
       "      <td>0.326621</td>\n",
       "      <td>0.211283</td>\n",
       "      <td>-0.006497</td>\n",
       "      <td>0.025621</td>\n",
       "      <td>0.333118</td>\n",
       "      <td>True</td>\n",
       "    </tr>\n",
       "    <tr>\n",
       "      <th>A.1_pfail</th>\n",
       "      <td>0.273802</td>\n",
       "      <td>0.145252</td>\n",
       "      <td>0.008198</td>\n",
       "      <td>0.032253</td>\n",
       "      <td>0.265604</td>\n",
       "      <td>True</td>\n",
       "    </tr>\n",
       "    <tr>\n",
       "      <th>A.3_DikeIncrease 0</th>\n",
       "      <td>0.203985</td>\n",
       "      <td>0.096096</td>\n",
       "      <td>0.022285</td>\n",
       "      <td>0.016311</td>\n",
       "      <td>0.181699</td>\n",
       "      <td>True</td>\n",
       "    </tr>\n",
       "    <tr>\n",
       "      <th>A.3_pfail</th>\n",
       "      <td>0.449283</td>\n",
       "      <td>0.241248</td>\n",
       "      <td>0.071941</td>\n",
       "      <td>0.047981</td>\n",
       "      <td>0.377343</td>\n",
       "      <td>True</td>\n",
       "    </tr>\n",
       "  </tbody>\n",
       "</table>\n",
       "</div>"
      ],
      "text/plain": [
       "                          ST   ST_conf        S1   S1_conf     ST-S1  \\\n",
       "0_RfR 1             0.131752  0.111470 -0.005393  0.023880  0.137144   \n",
       "0_RfR 2             0.114350  0.102304 -0.014788  0.022663  0.129139   \n",
       "1_RfR 0             0.087746  0.095899  0.000130  0.005895  0.087617   \n",
       "1_RfR 1             0.055438  0.061970 -0.031376  0.056785  0.086815   \n",
       "1_RfR 2             0.063095  0.064925 -0.003651  0.004749  0.066747   \n",
       "A.1_DikeIncrease 0  0.326621  0.211283 -0.006497  0.025621  0.333118   \n",
       "A.1_pfail           0.273802  0.145252  0.008198  0.032253  0.265604   \n",
       "A.3_DikeIncrease 0  0.203985  0.096096  0.022285  0.016311  0.181699   \n",
       "A.3_pfail           0.449283  0.241248  0.071941  0.047981  0.377343   \n",
       "\n",
       "                    Second order interaction  \n",
       "0_RfR 1                                 True  \n",
       "0_RfR 2                                 True  \n",
       "1_RfR 0                                 True  \n",
       "1_RfR 1                                 True  \n",
       "1_RfR 2                                 True  \n",
       "A.1_DikeIncrease 0                      True  \n",
       "A.1_pfail                               True  \n",
       "A.3_DikeIncrease 0                      True  \n",
       "A.3_pfail                               True  "
      ]
     },
     "execution_count": 17,
     "metadata": {},
     "output_type": "execute_result"
    }
   ],
   "source": [
    "Si_filter = {k:damages_sobol[k] for k in ['ST','ST_conf','S1','S1_conf']}\n",
    "Si_df_damages = pd.DataFrame(Si_filter, index=problem['names'])\n",
    "Si_df_damages['ST-S1'] = Si_df_damages['ST'] - Si_df_damages['S1']\n",
    "Si_df_damages['Second order interaction'] = np.where(Si_df_damages['ST-S1'] > 0.05, True, False)\n",
    "Si_df_damages_2nd = Si_df_damages.loc[Si_df_damages['Second order interaction'] == True]\n",
    "Si_df_damages_2nd"
   ]
  },
  {
   "cell_type": "code",
   "execution_count": 18,
   "id": "6fc19e75-6613-45db-800b-9fe84b5eff54",
   "metadata": {},
   "outputs": [],
   "source": [
    "#S2_damages_sobol = pd.DataFrame(damages_sobol['S2'])\n",
    "#S2_damages_sobol.fillna(0,inplace=True)\n",
    "#S2_damages_sobol\n",
    "#S2_damages_sobol_boolean = S2_damages_sobol>0.05\n",
    "#S2_damages_sobol_boolean"
   ]
  },
  {
   "cell_type": "code",
   "execution_count": 19,
   "id": "857eea51-f851-4196-9a99-7727e7004f85",
   "metadata": {},
   "outputs": [
    {
     "data": {
      "image/png": "[encoded data removed]",
      "text/plain": [
       "<Figure size 720x576 with 1 Axes>"
      ]
     },
     "metadata": {},
     "output_type": "display_data"
    }
   ],
   "source": [
    "sns.set_style('white')\n",
    "fig, ax = plt.subplots(1)\n",
    "\n",
    "indices = Si_df_damages[['S1','ST']]\n",
    "indices = indices.loc[~(Si_df_damages==0).all(axis=1)]\n",
    "err = Si_df_damages[['S1_conf','ST_conf']]\n",
    "err = err.loc[~(Si_df_damages==0).all(axis=1)]\n",
    "\n",
    "indices.plot.bar(yerr=err.values.T,ax=ax)\n",
    "fig.set_size_inches(10,8)\n",
    "fig.subplots_adjust(bottom=0.3)\n",
    "fig.savefig(\"sobol_damages.png\", dpi=200)\n",
    "plt.show()"
   ]
  }
 ],
 "metadata": {
  "kernelspec": {
   "display_name": "Python 3 (ipykernel)",
   "language": "python",
   "name": "python3"
  },
  "language_info": {
   "codemirror_mode": {
    "name": "ipython",
    "version": 3
   },
   "file_extension": ".py",
   "mimetype": "text/x-python",
   "name": "python",
   "nbconvert_exporter": "python",
   "pygments_lexer": "ipython3",
   "version": "3.9.12"
  }
 },
 "nbformat": 4,
 "nbformat_minor": 5
}
