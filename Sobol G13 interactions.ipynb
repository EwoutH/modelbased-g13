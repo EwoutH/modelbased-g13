{
 "cells": [
  {
   "cell_type": "code",
   "execution_count": null,
   "id": "c20b240c-dda0-4b4d-a58f-dbfc702db1ec",
   "metadata": {},
   "outputs": [],
   "source": [
    "%matplotlib inline\n",
    "import numpy as np\n",
    "import pandas as pd\n",
    "\n",
    "import matplotlib.pyplot as plt\n",
    "import seaborn as sns\n",
    "sns.set_style('white')\n",
    "\n",
    "from ema_workbench import (Model, RealParameter, TimeSeriesOutcome,\n",
    "                           perform_experiments, ema_logging,Policy, MultiprocessingEvaluator)\n",
    "\n",
    "from ema_workbench import Samplers\n",
    "\n",
    "from dike_model_function import DikeNetwork  # @UnresolvedImport\n",
    "\n",
    "from problem_formulation import get_model_for_problem_formulation\n",
    "\n",
    "from ema_workbench.em_framework.salib_samplers import get_SALib_problem\n",
    "\n",
    "from SALib.analyze import sobol\n",
    "import SALib\n",
    "\n",
    "import pickle"
   ]
  },
  {
   "cell_type": "code",
   "execution_count": null,
   "id": "c6866c1b-b476-4415-9f71-455a813ffc32",
   "metadata": {},
   "outputs": [],
   "source": [
    "ema_logging.log_to_stderr(ema_logging.INFO);"
   ]
  },
  {
   "cell_type": "code",
   "execution_count": null,
   "id": "497fe062-9cf3-475f-851b-d89c6e814a36",
   "metadata": {},
   "outputs": [],
   "source": [
    "dike_model, planning_steps = get_model_for_problem_formulation(2,True)"
   ]
  },
  {
   "cell_type": "code",
   "execution_count": null,
   "id": "d036aca0-9a5d-47a1-b802-96686e13e810",
   "metadata": {},
   "outputs": [],
   "source": [
    "planning_steps"
   ]
  },
  {
   "cell_type": "code",
   "execution_count": null,
   "id": "14a64b0e-aaee-4fe4-94ef-db81c8a106f1",
   "metadata": {},
   "outputs": [],
   "source": [
    "uncertainties = dike_model.uncertainties \n",
    "outcomes = dike_model.outcomes\n",
    "problem = get_SALib_problem(uncertainties)\n",
    "print(problem)"
   ]
  },
  {
   "cell_type": "code",
   "execution_count": null,
   "id": "ec40eff1-00f1-46b6-8dd1-42bb8dd4d67c",
   "metadata": {},
   "outputs": [],
   "source": [
    "#for unc in dike_model.uncertainties:\n",
    "#    print(repr(unc))"
   ]
  },
  {
   "cell_type": "code",
   "execution_count": null,
   "id": "2b15e525-a070-46f0-90a5-f82ba23c5042",
   "metadata": {},
   "outputs": [],
   "source": [
    "#for out in dike_model.outcomes:\n",
    "#    print(repr(out))"
   ]
  },
  {
   "cell_type": "code",
   "execution_count": null,
   "id": "56f175d8-e03e-4515-915e-a07873609974",
   "metadata": {},
   "outputs": [],
   "source": [
    "#for lev in dike_model.levers:\n",
    "    print(repr(lev.name))"
   ]
  },
  {
   "cell_type": "code",
   "execution_count": null,
   "id": "7bfb2a1d-aef9-42ae-b39d-09d7e96de52c",
   "metadata": {},
   "outputs": [],
   "source": [
    "def get_0_dict():\n",
    "    return {l.name: 0 for l in dike_model.levers}\n",
    "\n",
    "# Creates a Policy object from a dict and a (optional) name\n",
    "def create_policy(dict1, name=None):\n",
    "    return Policy(f\"Policy_{name}\", **dict(get_0_dict(), **dict1))"
   ]
  },
  {
   "cell_type": "code",
   "execution_count": null,
   "id": "dccb2cfc-d0d4-48a2-95ec-e58df2c52e78",
   "metadata": {},
   "outputs": [],
   "source": [
    "pol = create_policy({'0_RfR 0': 0,\n",
    "     '1_RfR 0': 0,\n",
    "     '2_RfR 0': 0,\n",
    "     '3_RfR 0': 0,\n",
    "     '4_RfR 0': 0,\n",
    "     'EWS_DaysToThreat': 0,\n",
    "     'A.1_DikeIncrease 0': 0,\n",
    "     'A.2_DikeIncrease 0': 0,\n",
    "     'A.3_DikeIncrease 0': 0,\n",
    "     'A.4_DikeIncrease 0': 0,\n",
    "     'A.5_DikeIncrease 0': 0,},'Upstream dike, downstream rfr')"
   ]
  },
  {
   "cell_type": "code",
   "execution_count": null,
   "id": "36ef3abe-91c4-446c-8657-c48e5ec57339",
   "metadata": {},
   "outputs": [],
   "source": [
    "pol"
   ]
  },
  {
   "cell_type": "code",
   "execution_count": null,
   "id": "79a7a714-a608-43c1-bd3a-cfbdd344ca5f",
   "metadata": {},
   "outputs": [],
   "source": [
    "policies = pol\n",
    "sobol_switch = True\n",
    "n_exp = 1000\n",
    "   \n",
    "use_pickle1 = False\n",
    "if use_pickle1:\n",
    "    with open('data/SOBOL_results1.pickle','rb') as filehandler:\n",
    "        results = pickle.load(filehandler)\n",
    "elif sobol_switch == True :\n",
    "    with MultiprocessingEvaluator(dike_model,n_processes=10) as evaluator:\n",
    "        results = evaluator.perform_experiments(scenarios=n_exp, uncertainty_sampling=Samplers.SOBOL)\n",
    "    \n",
    "    with open('data/SOBOL_results1.pickle',\"wb\") as filehandler:\n",
    "        pickle.dump(results,filehandler)\n",
    "else: \n",
    "    with MultiprocessingEvaluator(dike_model,n_processes=10) as evaluator:\n",
    "        results = evaluator.perform_experiments(scenarios=n_exp, policies = pol, uncertainty_sampling=Samplers.SOBOL)\n",
    "    \n",
    "    with open('data/SOBOL_results1.pickle',\"wb\") as filehandler:\n",
    "        pickle.dump(results,filehandler)  \n",
    "experiments_sobol, outcomes_sobol = results"
   ]
  },
  {
   "cell_type": "code",
   "execution_count": null,
   "id": "45ef6af1-9ac1-49fa-9c0b-54f356060ac5",
   "metadata": {},
   "outputs": [],
   "source": [
    "deaths_sobol = sobol.analyze(problem, outcomes_sobol['Expected Number of Deaths'],calc_second_order=True, print_to_console=False)\n",
    "damages_sobol = sobol.analyze(problem, outcomes_sobol['Expected Annual Damage'],calc_second_order=True, print_to_console=False)"
   ]
  },
  {
   "cell_type": "code",
   "execution_count": null,
   "id": "e8f3794e-9380-41ba-8024-c95373d99b56",
   "metadata": {},
   "outputs": [],
   "source": [
    "Si_filter = {k:deaths_sobol[k] for k in ['ST','ST_conf','S1','S1_conf']}\n",
    "Si_df_deaths = pd.DataFrame(Si_filter, index=problem['names'])\n",
    "Si_df_deaths['ST-S1'] = Si_df_deaths['ST'] - Si_df_deaths['S1']\n",
    "Si_df_deaths['Second order interaction'] = np.where(Si_df_deaths['ST-S1'] > 0.05, True, False)\n",
    "Si_df_deaths_2nd = Si_df_deaths.loc[Si_df_deaths['Second order interaction'] == True]\n",
    "Si_df_deaths_2nd"
   ]
  },
  {
   "cell_type": "code",
   "execution_count": null,
   "id": "fe76a004-68e2-4551-9abb-bfa76181bd20",
   "metadata": {},
   "outputs": [],
   "source": [
    "## However, the S2 dataframe shows these interactions are not very strong\n",
    "#pd.set_option('display.max_columns', None)\n",
    "#S2_deaths_sobol = pd.DataFrame(deaths_sobol['S2'])\n",
    "#S2_deaths_sobol.fillna(0,inplace=True)\n",
    "#S2_deaths_sobol\n",
    "#S2_deaths_sobol_boolean = S2_deaths_sobol>0.05\n",
    "#S2_deaths_sobol_boolean"
   ]
  },
  {
   "cell_type": "code",
   "execution_count": null,
   "id": "0659b610-cb50-432f-844a-2643e83d5402",
   "metadata": {},
   "outputs": [],
   "source": [
    "sns.set_style('white')\n",
    "fig, ax = plt.subplots(1)\n",
    "\n",
    "indices = Si_df_deaths[['S1','ST']]\n",
    "indices = indices.loc[~(Si_df_deaths==0).all(axis=1)]\n",
    "err = Si_df_deaths[['S1_conf','ST_conf']]\n",
    "err = err.loc[~(Si_df_deaths==0).all(axis=1)]\n",
    "\n",
    "indices.plot.bar(yerr=err.values.T,ax=ax)\n",
    "fig.set_size_inches(10,8)\n",
    "fig.subplots_adjust(bottom=0.3)\n",
    "fig.savefig(\"sobol_deaths.png\", dpi=200)\n",
    "plt.show()"
   ]
  },
  {
   "cell_type": "code",
   "execution_count": null,
   "id": "2e03d04d-625a-4b45-b2df-bc585c646d52",
   "metadata": {},
   "outputs": [],
   "source": [
    "Si_filter = {k:damages_sobol[k] for k in ['ST','ST_conf','S1','S1_conf']}\n",
    "Si_df_damages = pd.DataFrame(Si_filter, index=problem['names'])\n",
    "Si_df_damages['ST-S1'] = Si_df_damages['ST'] - Si_df_damages['S1']\n",
    "Si_df_damages['Second order interaction'] = np.where(Si_df_damages['ST-S1'] > 0.05, True, False)\n",
    "Si_df_damages_2nd = Si_df_damages.loc[Si_df_damages['Second order interaction'] == True]\n",
    "Si_df_damages_2nd"
   ]
  },
  {
   "cell_type": "code",
   "execution_count": null,
   "id": "6fc19e75-6613-45db-800b-9fe84b5eff54",
   "metadata": {},
   "outputs": [],
   "source": [
    "#S2_damages_sobol = pd.DataFrame(damages_sobol['S2'])\n",
    "#S2_damages_sobol.fillna(0,inplace=True)\n",
    "#S2_damages_sobol\n",
    "#S2_damages_sobol_boolean = S2_damages_sobol>0.05\n",
    "#S2_damages_sobol_boolean"
   ]
  },
  {
   "cell_type": "code",
   "execution_count": null,
   "id": "857eea51-f851-4196-9a99-7727e7004f85",
   "metadata": {},
   "outputs": [],
   "source": [
    "sns.set_style('white')\n",
    "fig, ax = plt.subplots(1)\n",
    "\n",
    "indices = Si_df_damages[['S1','ST']]\n",
    "indices = indices.loc[~(Si_df_damages==0).all(axis=1)]\n",
    "err = Si_df_damages[['S1_conf','ST_conf']]\n",
    "err = err.loc[~(Si_df_damages==0).all(axis=1)]\n",
    "\n",
    "indices.plot.bar(yerr=err.values.T,ax=ax)\n",
    "fig.set_size_inches(10,8)\n",
    "fig.subplots_adjust(bottom=0.3)\n",
    "fig.savefig(\"sobol_damages.png\", dpi=200)\n",
    "plt.show()"
   ]
  }
 ],
 "metadata": {
  "kernelspec": {
   "display_name": "Python 3 (ipykernel)",
   "language": "python",
   "name": "python3"
  },
  "language_info": {
   "codemirror_mode": {
    "name": "ipython",
    "version": 3
   },
   "file_extension": ".py",
   "mimetype": "text/x-python",
   "name": "python",
   "nbconvert_exporter": "python",
   "pygments_lexer": "ipython3",
   "version": "3.9.7"
  }
 },
 "nbformat": 4,
 "nbformat_minor": 5
}
